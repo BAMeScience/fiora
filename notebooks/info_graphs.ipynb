{
 "cells": [
  {
   "cell_type": "code",
   "execution_count": 1,
   "metadata": {},
   "outputs": [],
   "source": [
    "\n",
    "import torch\n",
    "from torch.utils.data import Dataset, DataLoader\n",
    "from torchmetrics import Accuracy, MetricTracker\n",
    "torch.set_default_dtype(torch.float32)\n",
    "\n",
    "import pandas as pd\n",
    "import numpy as np\n",
    "import seaborn as sns\n",
    "from matplotlib import pyplot as plt\n",
    "\n",
    "# Load Modules\n",
    "sys.path.append(\"..\")\n",
    "from os.path import expanduser\n",
    "home = expanduser(\"~\")\n",
    "from fiora.GNN.MLP import MLP\n",
    "from fiora.GNN.MLPEdgeClassifier import MLPEdgeClassifier\n",
    "from fiora.GNN.GNNModels import GCNNodeClassifier\n",
    "from fiora.GNN.Datasets import  SimpleNodeData, NodeSingleLabelData\n",
    "from fiora.GNN.Trainer import Trainer\n",
    "from fiora.MOL.constants import DEFAULT_PPM, PPM\n",
    "\n",
    "\n",
    "\n",
    "from fiora.IO.LibraryLoader import LibraryLoader"
   ]
  },
  {
   "attachments": {},
   "cell_type": "markdown",
   "metadata": {},
   "source": [
    "##### Aromaticity Test Prediction"
   ]
  },
  {
   "cell_type": "code",
   "execution_count": 2,
   "metadata": {},
   "outputs": [],
   "source": [
    "#library_name = \"nist_msms_filtered\"\n",
    "library_name = \"nist_msms_filteredall_07_2023\"\n",
    "\n",
    "library_directory = f\"{home}/data/metabolites/NIST17/msp/nist_msms/\"\n",
    "\n",
    "\n",
    "L = LibraryLoader()\n",
    "df = L.load_from_csv(library_directory + library_name + \".csv\")\n"
   ]
  },
  {
   "cell_type": "code",
   "execution_count": 3,
   "metadata": {},
   "outputs": [
    {
     "name": "stdout",
     "output_type": "stream",
     "text": [
      "Loaded DataFrame of shape:  (118888, 45)\n"
     ]
    }
   ],
   "source": [
    "import ast\n",
    "\n",
    "test_run = False\n",
    "\n",
    "if test_run:\n",
    "    df = df.iloc[:10000,:]\n",
    "\n",
    "\n",
    "# Restore dictionary values\n",
    "dict_columns = [\"peaks\"]\n",
    "for col in dict_columns:\n",
    "    df[col] = df[col].apply(ast.literal_eval)\n",
    "print(\"Loaded DataFrame of shape: \", df.shape)"
   ]
  },
  {
   "attachments": {},
   "cell_type": "markdown",
   "metadata": {},
   "source": [
    "Compute graph features"
   ]
  },
  {
   "cell_type": "code",
   "execution_count": 4,
   "metadata": {},
   "outputs": [],
   "source": [
    "%%capture\n",
    "from fiora.MOL.Metabolite import Metabolite\n",
    "from fiora.GNN.AtomFeatureEncoder import AtomFeatureEncoder\n",
    "from fiora.GNN.BondFeatureEncoder import BondFeatureEncoder\n",
    "from fiora.GNN.SetupFeatureEncoder import SetupFeatureEncoder\n",
    "\n",
    "df[\"Metabolite\"] = df[\"SMILES\"].apply(Metabolite)\n",
    "df[\"Metabolite\"].apply(lambda x: x.create_molecular_structure_graph())\n",
    "\n",
    "node_encoder = AtomFeatureEncoder(feature_list=[\"symbol\", \"num_hydrogen\", \"ring_type\"])\n",
    "bond_encoder = BondFeatureEncoder(feature_list=[\"bond_type\", \"ring_type\"])\n",
    "setup_encoder = SetupFeatureEncoder(feature_list=[\"collision_energy\", \"molecular_weight\"])\n",
    "df[\"Metabolite\"].apply(lambda x: x.compute_graph_attributes(node_encoder, bond_encoder))\n",
    "\n",
    "\n",
    "metadata_key_map = {\"collision_energy\":  \"CE\", \n",
    "                 \"instrument\": \"Instrument_type\",\n",
    "                 \"ionization\": \"Ionization\",\n",
    "                 \"precursor_mz\": \"PrecursorMZ\"\n",
    "                 }\n",
    "\n",
    "df[\"summary\"] = df.apply(lambda x: {key: x[name] for key, name in metadata_key_map.items()}, axis=1)\n",
    "df.apply(lambda x: x[\"Metabolite\"].add_metadata(x[\"summary\"], setup_encoder=None), axis=1)"
   ]
  },
  {
   "cell_type": "code",
   "execution_count": 5,
   "metadata": {},
   "outputs": [
    {
     "name": "stdout",
     "output_type": "stream",
     "text": [
      "Assigning unique metabolite identifiers.\n",
      "Found 9646 unique molecular structures.\n"
     ]
    }
   ],
   "source": [
    "print(\"Assigning unique metabolite identifiers.\")\n",
    "\n",
    "metabolite_id_map = {}\n",
    "\n",
    "for metabolite in df[\"Metabolite\"]:\n",
    "    is_new = True\n",
    "    for id, other in metabolite_id_map.items():\n",
    "        if metabolite == other:\n",
    "            metabolite.id = id\n",
    "            is_new = False\n",
    "            break\n",
    "    if is_new:\n",
    "        new_id = len(metabolite_id_map)\n",
    "        metabolite.id = new_id\n",
    "        metabolite_id_map[new_id] = metabolite\n",
    "        \n",
    "print(f\"Found {len(metabolite_id_map)} unique molecular structures.\")"
   ]
  },
  {
   "cell_type": "code",
   "execution_count": null,
   "metadata": {},
   "outputs": [],
   "source": [
    "from fiora.MOL.mol_graph import draw_graph\n",
    "from fiora.visualization.define_colors import *\n",
    "import matplotlib.pyplot as plt\n",
    "\n",
    "EXAMPLE_ID = 32271\n",
    "example = df.loc[EXAMPLE_ID]\n",
    "m = example[\"Metabolite\"]\n",
    "\n",
    "fig, axs = plt.subplots(1, 2, figsize=(8, 4), gridspec_kw={'width_ratios': [1, 1]}, sharey=False)\n",
    "set_light_theme()\n",
    "\n",
    "img = m.draw(ax=axs[0])\n",
    "draw_graph(m.Graph, ax=axs[1])"
   ]
  },
  {
   "attachments": {},
   "cell_type": "markdown",
   "metadata": {},
   "source": [
    "#### Bond Features"
   ]
  },
  {
   "attachments": {},
   "cell_type": "markdown",
   "metadata": {},
   "source": [
    "Plotting the occurance of bond types shows how unbalanced the data set is. Regardless, we wish to classify bonds (and atoms) by their type. For simplicity we only consider the two classes *aromatic* and *non-aromatic*, which include all other bond types. By classifying all bonds as non-aromatic any algorithm will already achieve 65% accuaracy. For completion, see below all elements detected in the dataset."
   ]
  },
  {
   "attachments": {},
   "cell_type": "markdown",
   "metadata": {},
   "source": [
    "#### Atom Features"
   ]
  },
  {
   "cell_type": "code",
   "execution_count": null,
   "metadata": {},
   "outputs": [],
   "source": [
    "# elems = [e for mol in list(df[\"Metabolite\"].apply(lambda x: getattr(x, \"node_elements\")).values) for e in mol]\n",
    "# elem_types = {e: elems.count(e) for e in np.unique(elems)}\n",
    "\n",
    "# fig, axs = plt.subplots(1, 2, figsize=(12.8, 6.4), sharey=False)\n",
    "# sns.barplot(ax=axs[0], x=list(elem_types.keys()), y=list(elem_types.values()), palette=color_palette, edgecolor=\"black\", linewidth=1.5)\n",
    "# _,labels,autotexts = axs[1].pie(list(elem_types.values()), colors=color_palette, wedgeprops={\"edgecolor\": \"black\", \"linewidth\": 1.5}, autopct='%1.0f%%')\n",
    "\n",
    "# axs[1].legend(list(elem_types.keys()))\n",
    "# plt.show()\n",
    "# print(elem_types)\n",
    "# cno = (elem_types[\"C\"]+elem_types[\"O\"]+elem_types[\"N\"])*100 / sum(elem_types.values())\n",
    "# print(f\"With {cno:.01f}% CNO\")"
   ]
  },
  {
   "attachments": {},
   "cell_type": "markdown",
   "metadata": {},
   "source": [
    "#### Metadata"
   ]
  },
  {
   "cell_type": "code",
   "execution_count": 12,
   "metadata": {},
   "outputs": [
    {
     "data": {
      "text/plain": [
       "0.0"
      ]
     },
     "execution_count": 12,
     "metadata": {},
     "output_type": "execute_result"
    }
   ],
   "source": [
    "np.min(df[\"Metabolite\"].apply(lambda x: x.metadata[\"collision_energy\"]))"
   ]
  },
  {
   "cell_type": "code",
   "execution_count": null,
   "metadata": {},
   "outputs": [],
   "source": []
  },
  {
   "attachments": {},
   "cell_type": "markdown",
   "metadata": {},
   "source": [
    "#### Peak annotations\n"
   ]
  },
  {
   "cell_type": "code",
   "execution_count": 16,
   "metadata": {},
   "outputs": [
    {
     "name": "stdout",
     "output_type": "stream",
     "text": [
      "Testing matching accuracies\n",
      "100 *PPM:  9.999999999999999e-05\n"
     ]
    }
   ],
   "source": [
    "print(\"Testing matching accuracies\")\n",
    "print(\"100 *PPM: \" ,100 *PPM)"
   ]
  },
  {
   "cell_type": "code",
   "execution_count": 17,
   "metadata": {},
   "outputs": [],
   "source": [
    "%%capture\n",
    "df[\"Metabolite\"].apply(lambda x: x.fragment_MOL(depth=1))\n",
    "df.apply(lambda x: x[\"Metabolite\"].match_fragments_to_peaks(x[\"peaks\"][\"mz\"], x[\"peaks\"][\"intensity\"], tolerance=100 *PPM), axis=1)"
   ]
  },
  {
   "cell_type": "code",
   "execution_count": 18,
   "metadata": {},
   "outputs": [],
   "source": [
    "d100 = pd.DataFrame({\"num_peak_matches\": df[\"Metabolite\"].apply(lambda x: x.match_stats[\"num_peak_matches\"]),\n",
    "     \"num_non_precursor_matches\": df[\"Metabolite\"].apply(lambda x: x.match_stats[\"num_non_precursor_matches\"]),\n",
    "     \"num_peak_match_conflicts\": df[\"Metabolite\"].apply(lambda x: x.match_stats[\"num_peak_match_conflicts\"]),\n",
    "     \"num_fragment_conflicts\": df[\"Metabolite\"].apply(lambda x: x.match_stats[\"num_fragment_conflicts\"]),\n",
    "     \"group\": \"100 PPM\"})\n",
    "#raise KeyboardInterrupt"
   ]
  },
  {
   "cell_type": "code",
   "execution_count": 20,
   "metadata": {},
   "outputs": [],
   "source": [
    "# # TODO DO NICEEEEEEEEE\n",
    "\n",
    "# coverage_tracker = {\"counts\": [], \"all\": [], \"coverage\": [], \"fragment_only_coverage\": [], \"Precursor_type\": []}\n",
    "\n",
    "# drop_index = []\n",
    "# for i,d in df.iterrows():\n",
    "#     M = d[\"Metabolite\"]\n",
    "    \n",
    "    \n",
    "#     coverage_tracker[\"counts\"] += [M.match_stats[\"counts\"]]\n",
    "#     coverage_tracker[\"all\"] += [M.match_stats[\"ms_all_counts\"]]\n",
    "#     coverage_tracker[\"fragment_only_coverage\"] += [M.match_stats[\"coverage_wo_prec\"]]\n",
    "#     coverage_tracker[\"coverage\"] += [M.match_stats[\"coverage\"]]\n",
    "#     #coverage_tracker[\"Precursor_type\"] += [M.metadata[\"precursor_mode\"]]\n",
    "    \n",
    "#     #if M.edge_break_prob_wo_precursor.sum() <= 0.01:\n",
    "#     #    drop_index.append(i)\n",
    "#     #if M.edge_break_prob.sum() < 0.05: # TODO\n",
    "#     #    drop_index.append(i)\n",
    "    \n",
    "#     if M.match_stats[\"coverage\"] < 0.5: # Filter if total coverage is too low\n",
    "#         drop_index.append(i)\n",
    "#     #if M.match_stats[\"coverage_wo_prec\"] < 0.1: # Filter if fragment coverage is too low (intensity wise)\n",
    "#     #    drop_index.append(i)\n",
    "    \n",
    "# # filter low res instruments TODO update to low quality spectra\n",
    "# is_iontrap = df[\"Metabolite\"].apply(lambda x: x.metadata[\"instrument\"] == \"IT/ion trap\")\n",
    "# drop_index += list(df[is_iontrap].index)\n",
    "\n",
    "# fig, axs = plt.subplots(1, 3, figsize=(12.8, 4.2), sharey=True)\n",
    "\n",
    "# plt.ylim([-.02,1.02])\n",
    "# sns.boxplot(ax=axs[0], data=coverage_tracker, y=\"fragment_only_coverage\", color=magma_palette[1])\n",
    "# sns.boxplot(ax=axs[1], data=coverage_tracker, y=\"coverage\", color=magma_palette[2])\n",
    "# sns.violinplot(ax=axs[2], data=coverage_tracker, y=\"coverage\", color=magma_palette[2])\n",
    "# axs[0].set_title(\"Coverage of peak intensity (fragments only)\")\n",
    "# axs[1].set_title(\"Coverage of peak intensity\")\n",
    "# axs[2].set_title(\"Coverage of peak intensity\")\n",
    "# plt.show()\n",
    "\n",
    "# print(f\"Found {len(drop_index)} that have only precursor matches || or || too little (intensity) coverage to make edge prediction possible\")\n"
   ]
  },
  {
   "cell_type": "code",
   "execution_count": 21,
   "metadata": {},
   "outputs": [],
   "source": [
    "%%capture\n",
    "df[\"Metabolite\"].apply(lambda x: x.fragment_MOL(depth=1))\n",
    "df.apply(lambda x: x[\"Metabolite\"].match_fragments_to_peaks(x[\"peaks\"][\"mz\"], x[\"peaks\"][\"intensity\"], tolerance=200 *PPM), axis=1)\n",
    "\n",
    "\n",
    "d200 = pd.DataFrame({\"num_peak_matches\": df[\"Metabolite\"].apply(lambda x: x.match_stats[\"num_peak_matches\"]),\n",
    "     \"num_non_precursor_matches\": df[\"Metabolite\"].apply(lambda x: x.match_stats[\"num_non_precursor_matches\"]),\n",
    "     \"num_peak_match_conflicts\": df[\"Metabolite\"].apply(lambda x: x.match_stats[\"num_peak_match_conflicts\"]),\n",
    "     \"num_fragment_conflicts\": df[\"Metabolite\"].apply(lambda x: x.match_stats[\"num_fragment_conflicts\"]),\n",
    "     \"group\": \"200 PPM\"})\n"
   ]
  },
  {
   "cell_type": "code",
   "execution_count": 22,
   "metadata": {},
   "outputs": [],
   "source": [
    "%%capture\n",
    "df[\"Metabolite\"].apply(lambda x: x.fragment_MOL(depth=1))\n",
    "df.apply(lambda x: x[\"Metabolite\"].match_fragments_to_peaks(x[\"peaks\"][\"mz\"], x[\"peaks\"][\"intensity\"], tolerance=500 *PPM), axis=1)\n",
    "\n",
    "d500 = pd.DataFrame({\"num_peak_matches\": df[\"Metabolite\"].apply(lambda x: x.match_stats[\"num_peak_matches\"]),\n",
    "     \"num_non_precursor_matches\": df[\"Metabolite\"].apply(lambda x: x.match_stats[\"num_non_precursor_matches\"]),\n",
    "     \"num_peak_match_conflicts\": df[\"Metabolite\"].apply(lambda x: x.match_stats[\"num_peak_match_conflicts\"]),\n",
    "     \"num_fragment_conflicts\": df[\"Metabolite\"].apply(lambda x: x.match_stats[\"num_fragment_conflicts\"]),\n",
    "     \"group\": \"500 PPM\"})\n"
   ]
  },
  {
   "cell_type": "code",
   "execution_count": 23,
   "metadata": {},
   "outputs": [],
   "source": [
    "%%capture\n",
    "df[\"Metabolite\"].apply(lambda x: x.fragment_MOL(depth=1))\n",
    "df.apply(lambda x: x[\"Metabolite\"].match_fragments_to_peaks(x[\"peaks\"][\"mz\"], x[\"peaks\"][\"intensity\"], tolerance=1000 *PPM), axis=1)\n",
    "d1000 = pd.DataFrame({\"num_peak_matches\": df[\"Metabolite\"].apply(lambda x: x.match_stats[\"num_peak_matches\"]),\n",
    "     \"num_non_precursor_matches\": df[\"Metabolite\"].apply(lambda x: x.match_stats[\"num_non_precursor_matches\"]),\n",
    "     \"num_peak_match_conflicts\": df[\"Metabolite\"].apply(lambda x: x.match_stats[\"num_peak_match_conflicts\"]),\n",
    "     \"num_fragment_conflicts\": df[\"Metabolite\"].apply(lambda x: x.match_stats[\"num_fragment_conflicts\"]),\n",
    "     \"group\": \"1000 PPM\"})\n",
    "\n",
    "df[\"Metabolite\"].apply(lambda x: x.fragment_MOL(depth=1))\n",
    "df.apply(lambda x: x[\"Metabolite\"].match_fragments_to_peaks(x[\"peaks\"][\"mz\"], x[\"peaks\"][\"intensity\"], tolerance=10 *PPM), axis=1)\n",
    "d10 = pd.DataFrame({\"num_peak_matches\": df[\"Metabolite\"].apply(lambda x: x.match_stats[\"num_peak_matches\"]),\n",
    "     \"num_non_precursor_matches\": df[\"Metabolite\"].apply(lambda x: x.match_stats[\"num_non_precursor_matches\"]),\n",
    "     \"num_peak_match_conflicts\": df[\"Metabolite\"].apply(lambda x: x.match_stats[\"num_peak_match_conflicts\"]),\n",
    "     \"num_fragment_conflicts\": df[\"Metabolite\"].apply(lambda x: x.match_stats[\"num_fragment_conflicts\"]),\n",
    "     \"group\": \"10 PPM\"})"
   ]
  },
  {
   "attachments": {},
   "cell_type": "markdown",
   "metadata": {},
   "source": [
    "We see a significant bump up at 200 PPM."
   ]
  },
  {
   "attachments": {},
   "cell_type": "markdown",
   "metadata": {},
   "source": [
    "#### Double down on peak matches"
   ]
  },
  {
   "cell_type": "code",
   "execution_count": 26,
   "metadata": {},
   "outputs": [],
   "source": [
    "# %%capture\n",
    "# df[\"Metabolite\"].apply(lambda x: x.fragment_MOL(depth=1))\n",
    "# df.apply(lambda x: x[\"Metabolite\"].match_fragments_to_peaks(x[\"peaks\"][\"mz\"], x[\"peaks\"][\"intensity\"], tolerance=100 *PPM), axis=1)"
   ]
  },
  {
   "cell_type": "code",
   "execution_count": 27,
   "metadata": {},
   "outputs": [],
   "source": [
    "\n",
    "# df[\"peak_matches\"] = df[\"Metabolite\"].apply(lambda x: getattr(x, \"peak_matches\"))\n",
    "# df[\"num_peaks_matched\"] = df[\"peak_matches\"].apply(len)\n",
    "\n",
    "\n",
    "# def get_match_stats(matches, mode_count={\"[M+H]+\": 0, \"[M-H]+\": 0, \"[M-3H]+\": 0}):\n",
    "#     num_unique, num_conflicts = 0, 0\n",
    "#     for mz, match_data in matches.items():\n",
    "#         #candidates = match_data[\"fragments\"]\n",
    "#         ion_modes = match_data[\"ion_modes\"]\n",
    "#         if len(ion_modes) == 1:\n",
    "#             num_unique += 1\n",
    "#         elif len(ion_modes) > 1:\n",
    "#             num_conflicts += 1\n",
    "#         for c in ion_modes:\n",
    "#             mode_count[c[0]] += 1\n",
    "#     return num_unique, num_conflicts, mode_count\n",
    "# d = df.loc[EXAMPLE_ID]\n",
    "\n",
    "\n",
    "\n",
    "# df[\"match_stats\"] = df[\"peak_matches\"].apply(lambda x: get_match_stats(x))\n",
    "# df[\"num_unique_peaks_matched\"] = df.apply(lambda x: x[\"match_stats\"][0], axis=1)\n",
    "# df[\"num_conflicts_in_peak_matching\"] = df.apply(lambda x: x[\"match_stats\"][1], axis=1)\n",
    "# df[\"match_mode_counts\"] = df.apply(lambda x: x[\"match_stats\"][2], axis=1)\n",
    "# u= df[\"num_unique_peaks_matched\"].sum() \n",
    "# s= df[\"num_conflicts_in_peak_matching\"].sum() \n",
    "# print(f\"Total number of uniquely matched peaks: {u} , conflicts found within {s} matches ({100 * s / (u+s):.02f} %))\")\n",
    "# print(f\"Total number of conflicting peak to fragment matches: {s}\")\n",
    "\n",
    "# df.shape\n",
    " "
   ]
  },
  {
   "cell_type": "code",
   "execution_count": 29,
   "metadata": {},
   "outputs": [],
   "source": [
    "# fig, axs = plt.subplots(1, 2, figsize=(12.8, 6.4), sharey=False)\n",
    "\n",
    "# mode_counts = {\"[M+H]+\": 0, \"[M-H]+\": 0, \"[M-3H]+\": 0}\n",
    "\n",
    "# def update_mode_counts(m):\n",
    "#     for mode in m.keys():\n",
    "#         mode_counts[mode] += m[mode]\n",
    "\n",
    "# df[\"match_mode_counts\"].apply(update_mode_counts)\n",
    "\n",
    "# sns.barplot(ax=axs[0], x=list(mode_counts.keys()), y=[mode_counts[k] for k in mode_counts.keys()], palette=color_palette, edgecolor=\"black\", linewidth=1.5)\n",
    "# axs[1].pie([mode_counts[k] for k in mode_counts.keys()], labels=list(mode_counts.keys()), colors=color_palette, wedgeprops={\"edgecolor\": \"black\", \"linewidth\": 1.5})\n",
    "\n",
    "# plt.show()"
   ]
  },
  {
   "cell_type": "code",
   "execution_count": 30,
   "metadata": {},
   "outputs": [
    {
     "name": "stdout",
     "output_type": "stream",
     "text": [
      "Minimum 0 unique peaks identified (including precursors):  118888\n",
      "Minimum 1 unique peaks identified (including precursors):  108912\n",
      "Minimum 2 unique peaks identified (including precursors):  93311\n",
      "Minimum 3 unique peaks identified (including precursors):  74336\n",
      "Minimum 4 unique peaks identified (including precursors):  54895\n",
      "Minimum 5 unique peaks identified (including precursors):  39429\n"
     ]
    }
   ],
   "source": [
    "\n",
    "for i in range(0,6):\n",
    "    print(f\"Minimum {i} unique peaks identified (including precursors): \", (df[\"num_unique_peaks_matched\"] >= i).sum())\n"
   ]
  },
  {
   "cell_type": "code",
   "execution_count": 31,
   "metadata": {},
   "outputs": [],
   "source": [
    "# modes = [\"[M+H]+\", \"[M-H]+\", \"[M-3H]+\", \"[M]+\", \"[M-2H]+\"]\n",
    "# df[\"Metabolite\"].apply(lambda x: x.fragmentation_tree.set_fragment_modes(modes)) \n",
    "# df.apply(lambda x: x[\"Metabolite\"].match_fragments_to_peaks(x[\"peaks\"][\"mz\"], x[\"peaks\"][\"intensity\"], tolerance=100 *PPM, mode_mapper={\"[M+H]+\": 0, \"[M-H]+\": 1, \"[M-3H]+\": 2, \"[M]+\": 3, \"[M-2H]+\": 4}), axis=1)"
   ]
  },
  {
   "cell_type": "code",
   "execution_count": 32,
   "metadata": {},
   "outputs": [],
   "source": [
    "\n",
    "# df[\"peak_matches\"] = df[\"Metabolite\"].apply(lambda x: getattr(x, \"peak_matches\"))\n",
    "# df[\"num_peaks_matched\"] = df[\"peak_matches\"].apply(len)\n",
    "# df[\"match_stats\"] = df[\"peak_matches\"].apply(lambda x: get_match_stats(x,mode_count={\"[M+H]+\": 0, \"[M-H]+\": 0, \"[M-3H]+\": 0, \"[M]+\": 0, \"[M-2H]+\": 0}))\n",
    "# df[\"num_unique_peaks_matched\"] = df.apply(lambda x: x[\"match_stats\"][0], axis=1)\n",
    "# df[\"num_conflicts_in_peak_matching\"] = df.apply(lambda x: x[\"match_stats\"][1], axis=1)\n",
    "# df[\"match_mode_counts\"] = df.apply(lambda x: x[\"match_stats\"][2], axis=1)\n",
    "# u= df[\"num_unique_peaks_matched\"].sum() \n",
    "# s= df[\"num_conflicts_in_peak_matching\"].sum() \n",
    "# print(f\"Total number of uniquely matched peaks: {u} , conflicts found within {s} matches ({100 * s / (u+s):.02f} %))\")\n",
    "# print(f\"Total number of conflicting peak to fragment matches: {s}\")\n",
    "\n",
    "# df.shape\n",
    " "
   ]
  },
  {
   "cell_type": "code",
   "execution_count": 34,
   "metadata": {},
   "outputs": [],
   "source": [
    "# fig, axs = plt.subplots(1, 2, figsize=(12.8, 6.4), sharey=False)\n",
    "\n",
    "# mode_counts = {\"[M+H]+\": 0, \"[M-H]+\": 0, \"[M-3H]+\": 0, \"[M]+\": 0, \"[M-2H]+\": 0}\n",
    "\n",
    "# def update_mode_counts(m):\n",
    "#     for mode in m.keys():\n",
    "#         mode_counts[mode] += m[mode]\n",
    "\n",
    "# df[\"match_mode_counts\"].apply(update_mode_counts)\n",
    "\n",
    "# sns.barplot(ax=axs[0], x=list(mode_counts.keys()), y=[mode_counts[k] for k in mode_counts.keys()], palette=color_palette, edgecolor=\"black\", linewidth=1.5)\n",
    "# axs[1].pie([mode_counts[k] for k in mode_counts.keys()], labels=list(mode_counts.keys()), colors=color_palette, wedgeprops={\"edgecolor\": \"black\", \"linewidth\": 1.5})\n",
    "\n",
    "# plt.show()"
   ]
  },
  {
   "cell_type": "code",
   "execution_count": null,
   "metadata": {},
   "outputs": [],
   "source": []
  },
  {
   "cell_type": "code",
   "execution_count": null,
   "metadata": {},
   "outputs": [],
   "source": []
  },
  {
   "attachments": {},
   "cell_type": "markdown",
   "metadata": {},
   "source": [
    "### MS DIAL library\n"
   ]
  },
  {
   "cell_type": "code",
   "execution_count": 35,
   "metadata": {},
   "outputs": [],
   "source": [
    "library_name = \"ms_dial_filteredall_08_2023\"\n",
    "library_directory = f\"{home}/data/metabolites/MS_DIAL/\"\n",
    "\n",
    "\n",
    "L = LibraryLoader()\n",
    "df = L.load_from_csv(library_directory + library_name + \".csv\")\n",
    "\n",
    "import ast\n",
    "# Restore dictionary values\n",
    "dict_columns = [\"peaks\"]\n",
    "for col in dict_columns:\n",
    "    df[col] = df[col].apply(ast.literal_eval)\n"
   ]
  },
  {
   "cell_type": "code",
   "execution_count": 36,
   "metadata": {},
   "outputs": [],
   "source": [
    "if library_name.startswith(\"ms_dial\"):\n",
    "    qtof_nametags = [\"QTOF\", \"LC-ESI-QTOF\", \"ESI-QTOF\"]\n",
    "    df[\"Instrument_type\"] = df[\"INSTRUMENTTYPE\"].apply(lambda x: \"HCD\" if x == \"Orbitrap\" else \"Q-TOF\" if x in qtof_nametags else x)\n",
    "    df[\"Ionization\"] = \"ESI\"\n",
    "    df[\"RETENTIONTIME\"] = df[\"RETENTIONTIME\"].astype(float)\n",
    "    df[\"PRECURSORMZ\"] = df[\"PRECURSORMZ\"].astype(float)\n",
    "    df[\"Precursor_type\"] = \"PRECURSORTYPE\"\n",
    "    \n",
    "    metadata_key_map = {\n",
    "                 \"collision_energy\":  \"CE\", \n",
    "                 \"instrument\": \"Instrument_type\",\n",
    "                 \"ionization\": \"Ionization\",\n",
    "                 \"precursor_mz\": \"PRECURSORMZ\",\n",
    "                 \"precursor_mode\": \"PRECURSORTYPE\",\n",
    "                 \"retention_time\": \"RETENTIONTIME\"\n",
    "                 }\n",
    "    \n",
    "else:\n",
    "    metadata_key_map = {\n",
    "                 \"collision_energy\":  \"CE\", \n",
    "                 \"instrument\": \"Instrument_type\",\n",
    "                 \"ionization\": \"Ionization\",\n",
    "                 \"precursor_mz\": \"PrecursorMZ\",\n",
    "                 \"precursor_mode\": \"Precursor_type\"\n",
    "                 }"
   ]
  },
  {
   "cell_type": "code",
   "execution_count": 37,
   "metadata": {},
   "outputs": [
    {
     "name": "stdout",
     "output_type": "stream",
     "text": [
      "Filtering spectra (193579) down to 175802\n"
     ]
    }
   ],
   "source": [
    "#%%capture\n",
    "from fiora.MOL.Metabolite import Metabolite\n",
    "from fiora.GNN.AtomFeatureEncoder import AtomFeatureEncoder\n",
    "from fiora.GNN.BondFeatureEncoder import BondFeatureEncoder\n",
    "from fiora.GNN.SetupFeatureEncoder import SetupFeatureEncoder\n",
    "#\n",
    "test_run = False\n",
    "filter_spectra = True\n",
    "CE_upper_limit = 100.0\n",
    "weight_upper_limit = 800.0\n",
    "\n",
    "\n",
    "if test_run:\n",
    "    df = df.iloc[5000:6000,:]\n",
    "\n",
    "\n",
    "\n",
    "df[\"Metabolite\"] = df[\"SMILES\"].apply(Metabolite)\n",
    "df[\"Metabolite\"].apply(lambda x: x.create_molecular_structure_graph())\n",
    "\n",
    "node_encoder = AtomFeatureEncoder(feature_list=[\"symbol\", \"num_hydrogen\", \"ring_type\"])\n",
    "bond_encoder = BondFeatureEncoder(feature_list=[\"bond_type\", \"ring_type\"])\n",
    "setup_encoder = SetupFeatureEncoder(feature_list=[\"collision_energy\", \"molecular_weight\", \"precursor_mode\", \"instrument\"])\n",
    "rt_encoder = SetupFeatureEncoder(feature_list=[\"molecular_weight\", \"precursor_mode\", \"instrument\"])\n",
    "\n",
    "if filter_spectra:\n",
    "    setup_encoder.normalize_features[\"collision_energy\"][\"max\"] = CE_upper_limit \n",
    "    setup_encoder.normalize_features[\"molecular_weight\"][\"max\"] = weight_upper_limit \n",
    "    rt_encoder.normalize_features[\"molecular_weight\"][\"max\"] = weight_upper_limit \n",
    "df[\"Metabolite\"].apply(lambda x: x.compute_graph_attributes(node_encoder, bond_encoder))\n",
    "\n",
    "df[\"summary\"] = df.apply(lambda x: {key: x[name] for key, name in metadata_key_map.items()}, axis=1)\n",
    "df.apply(lambda x: x[\"Metabolite\"].add_metadata(x[\"summary\"], setup_encoder, rt_encoder), axis=1)\n",
    "\n",
    "if filter_spectra:\n",
    "    num_ori = df.shape[0]\n",
    "    correct_energy = df[\"Metabolite\"].apply(lambda x: x.metadata[\"collision_energy\"] < CE_upper_limit) \n",
    "    df = df[correct_energy]\n",
    "    correct_weight = df[\"Metabolite\"].apply(lambda x: x.metadata[\"molecular_weight\"] < weight_upper_limit)\n",
    "    df = df[correct_weight]    \n",
    "    print(f\"Filtering spectra ({num_ori}) down to {df.shape[0]}\")\n",
    "    #print(df[\"Precursor_type\"].value_counts())\n"
   ]
  },
  {
   "cell_type": "code",
   "execution_count": 38,
   "metadata": {},
   "outputs": [
    {
     "name": "stdout",
     "output_type": "stream",
     "text": [
      "Assigning unique metabolite identifiers.\n",
      "Found 9659 unique molecular structures.\n"
     ]
    }
   ],
   "source": [
    "print(\"Assigning unique metabolite identifiers.\")\n",
    "\n",
    "metabolite_id_map = {}\n",
    "\n",
    "for metabolite in df[\"Metabolite\"]:\n",
    "    is_new = True\n",
    "    for id, other in metabolite_id_map.items():\n",
    "        if metabolite == other:\n",
    "            metabolite.id = id\n",
    "            is_new = False\n",
    "            break\n",
    "    if is_new:\n",
    "        new_id = len(metabolite_id_map)\n",
    "        metabolite.id = new_id\n",
    "        metabolite_id_map[new_id] = metabolite\n",
    "        \n",
    "print(f\"Found {len(metabolite_id_map)} unique molecular structures.\")"
   ]
  },
  {
   "cell_type": "code",
   "execution_count": 39,
   "metadata": {},
   "outputs": [],
   "source": [
    "%%capture\n",
    "df[\"Metabolite\"].apply(lambda x: x.fragment_MOL(depth=1))\n",
    "df.apply(lambda x: x[\"Metabolite\"].match_fragments_to_peaks(x[\"peaks\"][\"mz\"], x[\"peaks\"][\"intensity\"], tolerance=100 *PPM), axis=1)"
   ]
  },
  {
   "cell_type": "code",
   "execution_count": 40,
   "metadata": {},
   "outputs": [],
   "source": [
    "d100m = pd.DataFrame({\"num_peak_matches\": df[\"Metabolite\"].apply(lambda x: x.match_stats[\"num_peak_matches\"]),\n",
    "     \"num_non_precursor_matches\": df[\"Metabolite\"].apply(lambda x: x.match_stats[\"num_non_precursor_matches\"]),\n",
    "     \"num_peak_match_conflicts\": df[\"Metabolite\"].apply(lambda x: x.match_stats[\"num_peak_match_conflicts\"]),\n",
    "     \"num_fragment_conflicts\": df[\"Metabolite\"].apply(lambda x: x.match_stats[\"num_fragment_conflicts\"]),\n",
    "     \"group\": \"100 PPM\"})\n"
   ]
  },
  {
   "cell_type": "code",
   "execution_count": 41,
   "metadata": {},
   "outputs": [],
   "source": [
    "%%capture\n",
    "df[\"Metabolite\"].apply(lambda x: x.fragment_MOL(depth=1))\n",
    "df.apply(lambda x: x[\"Metabolite\"].match_fragments_to_peaks(x[\"peaks\"][\"mz\"], x[\"peaks\"][\"intensity\"], tolerance=200 *PPM), axis=1)\n",
    "\n",
    "\n",
    "d200m = pd.DataFrame({\"num_peak_matches\": df[\"Metabolite\"].apply(lambda x: x.match_stats[\"num_peak_matches\"]),\n",
    "     \"num_non_precursor_matches\": df[\"Metabolite\"].apply(lambda x: x.match_stats[\"num_non_precursor_matches\"]),\n",
    "     \"num_peak_match_conflicts\": df[\"Metabolite\"].apply(lambda x: x.match_stats[\"num_peak_match_conflicts\"]),\n",
    "     \"num_fragment_conflicts\": df[\"Metabolite\"].apply(lambda x: x.match_stats[\"num_fragment_conflicts\"]),\n",
    "     \"group\": \"200 PPM\"})\n"
   ]
  },
  {
   "cell_type": "code",
   "execution_count": 42,
   "metadata": {},
   "outputs": [],
   "source": [
    "%%capture\n",
    "df[\"Metabolite\"].apply(lambda x: x.fragment_MOL(depth=1))\n",
    "df.apply(lambda x: x[\"Metabolite\"].match_fragments_to_peaks(x[\"peaks\"][\"mz\"], x[\"peaks\"][\"intensity\"], tolerance=500 *PPM), axis=1)\n",
    "\n",
    "d500m = pd.DataFrame({\"num_peak_matches\": df[\"Metabolite\"].apply(lambda x: x.match_stats[\"num_peak_matches\"]),\n",
    "     \"num_non_precursor_matches\": df[\"Metabolite\"].apply(lambda x: x.match_stats[\"num_non_precursor_matches\"]),\n",
    "     \"num_peak_match_conflicts\": df[\"Metabolite\"].apply(lambda x: x.match_stats[\"num_peak_match_conflicts\"]),\n",
    "     \"num_fragment_conflicts\": df[\"Metabolite\"].apply(lambda x: x.match_stats[\"num_fragment_conflicts\"]),\n",
    "     \"group\": \"500 PPM\"})\n",
    "df[\"Metabolite\"].apply(lambda x: x.fragment_MOL(depth=1))\n",
    "df.apply(lambda x: x[\"Metabolite\"].match_fragments_to_peaks(x[\"peaks\"][\"mz\"], x[\"peaks\"][\"intensity\"], tolerance=1000 *PPM), axis=1)\n",
    "d1000m = pd.DataFrame({\"num_peak_matches\": df[\"Metabolite\"].apply(lambda x: x.match_stats[\"num_peak_matches\"]),\n",
    "     \"num_non_precursor_matches\": df[\"Metabolite\"].apply(lambda x: x.match_stats[\"num_non_precursor_matches\"]),\n",
    "     \"num_peak_match_conflicts\": df[\"Metabolite\"].apply(lambda x: x.match_stats[\"num_peak_match_conflicts\"]),\n",
    "     \"num_fragment_conflicts\": df[\"Metabolite\"].apply(lambda x: x.match_stats[\"num_fragment_conflicts\"]),\n",
    "     \"group\": \"1000 PPM\"})\n",
    "\n",
    "df[\"Metabolite\"].apply(lambda x: x.fragment_MOL(depth=1))\n",
    "df.apply(lambda x: x[\"Metabolite\"].match_fragments_to_peaks(x[\"peaks\"][\"mz\"], x[\"peaks\"][\"intensity\"], tolerance=10 *PPM), axis=1)\n",
    "d10m = pd.DataFrame({\"num_peak_matches\": df[\"Metabolite\"].apply(lambda x: x.match_stats[\"num_peak_matches\"]),\n",
    "     \"num_non_precursor_matches\": df[\"Metabolite\"].apply(lambda x: x.match_stats[\"num_non_precursor_matches\"]),\n",
    "     \"num_peak_match_conflicts\": df[\"Metabolite\"].apply(lambda x: x.match_stats[\"num_peak_match_conflicts\"]),\n",
    "     \"num_fragment_conflicts\": df[\"Metabolite\"].apply(lambda x: x.match_stats[\"num_fragment_conflicts\"]),\n",
    "     \"group\": \"10 PPM\"})"
   ]
  },
  {
   "cell_type": "code",
   "execution_count": 43,
   "metadata": {},
   "outputs": [
    {
     "data": {
      "text/plain": [
       "(-0.5, 15.0)"
      ]
     },
     "execution_count": 43,
     "metadata": {},
     "output_type": "execute_result"
    },
    {
     "data": {
      "image/png": "[encoded data removed]",
      "text/plain": [
       "<Figure size 432x288 with 1 Axes>"
      ]
     },
     "metadata": {},
     "output_type": "display_data"
    }
   ],
   "source": [
    "from fiora.visualization.define_colors import set_light_theme\n",
    "mcat = pd.concat([d10m, d100m, d200m, d500m, d1000m])\n",
    "set_light_theme()\n",
    "sns.boxplot(data=mcat, y=\"num_non_precursor_matches\", x=\"group\")\n",
    "plt.ylim([-0.5, 15])\n"
   ]
  },
  {
   "cell_type": "code",
   "execution_count": 44,
   "metadata": {},
   "outputs": [
    {
     "data": {
      "image/png": "[encoded data removed]",
      "text/plain": [
       "<Figure size 432x288 with 1 Axes>"
      ]
     },
     "metadata": {},
     "output_type": "display_data"
    },
    {
     "data": {
      "image/png": "[encoded data removed]",
      "text/plain": [
       "<Figure size 432x288 with 1 Axes>"
      ]
     },
     "metadata": {},
     "output_type": "display_data"
    },
    {
     "data": {
      "image/png": "[encoded data removed]",
      "text/plain": [
       "<Figure size 432x288 with 1 Axes>"
      ]
     },
     "metadata": {},
     "output_type": "display_data"
    },
    {
     "data": {
      "image/png": "[encoded data removed]",
      "text/plain": [
       "<Figure size 432x288 with 1 Axes>"
      ]
     },
     "metadata": {},
     "output_type": "display_data"
    },
    {
     "data": {
      "image/png": "[encoded data removed]",
      "text/plain": [
       "<Figure size 432x288 with 1 Axes>"
      ]
     },
     "metadata": {},
     "output_type": "display_data"
    }
   ],
   "source": [
    "mcat[\"relative_conflicts\"] = mcat[\"num_fragment_conflicts\"] / mcat[\"num_non_precursor_matches\"]\n",
    "\n",
    "sns.boxplot(data=mcat, y=\"num_peak_match_conflicts\", x=\"group\")\n",
    "plt.ylim([-0.5, 15])\n",
    "plt.show()\n",
    "sns.boxplot(data=mcat, y=\"num_fragment_conflicts\", x=\"group\")\n",
    "plt.ylim([-0.5, 15])\n",
    "plt.show()\n",
    "\n",
    "sns.boxplot(data=mcat, y=\"relative_conflicts\", x=\"group\")\n",
    "#plt.ylim([-0.5, 15])\n",
    "plt.show()\n",
    "\n",
    "\n",
    "dm = pd.DataFrame()\n",
    "dm[\"Peaks200to500\"] = d500m[\"num_non_precursor_matches\"] - d200m[\"num_non_precursor_matches\"]\n",
    "dm[\"Conflicts200to500\"] = d500m[\"num_fragment_conflicts\"] - d200m[\"num_fragment_conflicts\"]\n",
    "sns.histplot(dm, x=\"Peaks200to500\", binwidth=1, stat=\"probability\")\n",
    "plt.xlim([0, 8])\n",
    "plt.show()\n",
    "sns.histplot(dm, x=\"Conflicts200to500\", binwidth=1, stat=\"probability\")\n",
    "plt.xlim([0, 8])\n",
    "plt.show()"
   ]
  }
 ],
 "metadata": {
  "kernelspec": {
   "display_name": "torch",
   "language": "python",
   "name": "python3"
  },
  "language_info": {
   "codemirror_mode": {
    "name": "ipython",
    "version": 3
   },
   "file_extension": ".py",
   "mimetype": "text/x-python",
   "name": "python",
   "nbconvert_exporter": "python",
   "pygments_lexer": "ipython3",
   "version": "3.10.8"
  },
  "orig_nbformat": 4,
  "vscode": {
   "interpreter": {
    "hash": "e08c3b4e89cfe29feb848cdc03972f3418883da099973a3eef9fa9a5a5dc99db"
   }
  }
 },
 "nbformat": 4,
 "nbformat_minor": 2
}
