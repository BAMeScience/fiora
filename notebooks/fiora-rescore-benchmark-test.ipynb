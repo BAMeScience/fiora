{
 "cells": [
  {
   "cell_type": "markdown",
   "metadata": {},
   "source": [
    "Mark Solutions and Benchmark the Results"
   ]
  },
  {
   "cell_type": "code",
   "execution_count": null,
   "metadata": {},
   "outputs": [],
   "source": [
    "import pandas as pd\n",
    "import numpy as np"
   ]
  },
  {
   "cell_type": "code",
   "execution_count": null,
   "metadata": {},
   "outputs": [],
   "source": [
    "def read_sirius_output(tsv_path):\n",
    "    selected_columns = [\"smiles\", \"CSI:FingerIDScore\", \"name\"]\n",
    "    sirius_df = pd.read_csv(f\"{tsv_path}\", sep='\\t', usecols=selected_columns)\n",
    "    \n",
    "    return sirius_df"
   ]
  },
  {
   "cell_type": "code",
   "execution_count": null,
   "metadata": {},
   "outputs": [],
   "source": [
    "from fiora.MOL.Metabolite import Metabolite\n",
    "\n",
    "def mark_casmi_solutions(df, solution_df):\n",
    "    df[\"source\"] = \"Candidate\"\n",
    "        \n",
    "    # df['InChIKey_split'] = None\n",
    "    for i, row in solution_df.iterrows():\n",
    "        challenge_name = row[\"ChallengeName\"]\n",
    "        metabolite = Metabolite(row[\"SMILES\"])  # Metabolite i df e kaydet\n",
    "        # inchikey_2d = inchikey.split('-', 1)[0]\n",
    "        # df['InChIKey_split'] = df['InChIKey'].str.split('-', expand=True)[0]\n",
    "        condition = (df[\"Challenge\"] == challenge_name) & (df[\"Metabolite\"] == metabolite)\n",
    "        df.loc[condition, \"source\"] = \"Solution\"\n",
    "        print(df.loc[condition, \"CompoundName\"])\n",
    "        \n",
    "def mark_sirius_solutions(df, solution_df, challenge_no):\n",
    "    df[\"source\"] = \"Candidate\"\n",
    "    try:\n",
    "        challenge_solution_row = solution_df.loc[solution_df[\"ChallengeName\"] == f\"Challenge-{challenge_no}\"].iloc[0]\n",
    "    except Exception as e:\n",
    "        print(e)\n",
    "    solution_inchi_2d = challenge_solution_row[\"INCHIKEY\"].split('-', 1)[0]\n",
    "    condition = df[\"InChIkey2D\"] == solution_inchi_2d\n",
    "    df.loc[condition, \"source\"] = \"Solution\""
   ]
  },
  {
   "cell_type": "code",
   "execution_count": null,
   "metadata": {},
   "outputs": [],
   "source": [
    "fiora_output_df = pd.read_csv(\"/home/lbarbut/scored_outputs/test_neg_cand.csv\")\n",
    "fiora_output_df.sort_values(by=\"CosineScore\", ascending=False, na_position=\"last\", inplace=True)"
   ]
  },
  {
   "cell_type": "code",
   "execution_count": null,
   "metadata": {},
   "outputs": [],
   "source": [
    "# fiora_scores = pd.read_csv(\"scored_output.csv\")     # list according to score\n",
    "# sirios_scores = read_sirius_output(\"structure_candidates.tsv\")"
   ]
  },
  {
   "cell_type": "code",
   "execution_count": null,
   "metadata": {},
   "outputs": [],
   "source": [
    "\n",
    "fiora_output_df.dropna(subset=['Metabolite'], inplace=True)\n",
    "fiora_output_df"
   ]
  },
  {
   "cell_type": "code",
   "execution_count": null,
   "metadata": {},
   "outputs": [],
   "source": [
    "# 1-2-3-4-5-10 Recall\n",
    "def calculate_recall_at_k(prediction_df, k):    # für alle Challenges zusammen, +100 Solutions\n",
    "    top_k_predictions = prediction_df.head(k)\n",
    "    return sum(top_k_predictions['source'] == 'Solution') / sum(prediction_df['source'] == 'Solution')  # len statt solution\n",
    "\n",
    "solution_df = pd.read_csv(\"/home/lbarbut/.vscode-server/data/CASMI_2016/solutions_casmi2016_cat2and3.csv\")\n",
    "mark_casmi_solutions(fiora_output_df, solution_df)\n",
    "\n",
    "# recall_at_5 = calculate_recall_at_k(fiora_output_df, 5)\n",
    "# recall_at_100 = calculate_recall_at_k(fiora_output_df, 100)\n",
    "\n",
    "# print(f'Recall@5: {recall_at_5}')\n",
    "# print(f'Recall@100: {recall_at_100}')\n",
    "\n"
   ]
  },
  {
   "cell_type": "code",
   "execution_count": null,
   "metadata": {},
   "outputs": [],
   "source": [
    "fiora_output_df[\"Metabolite\"]"
   ]
  },
  {
   "cell_type": "code",
   "execution_count": null,
   "metadata": {},
   "outputs": [],
   "source": [
    "fiora_output_df[\"source\"].value_counts()"
   ]
  },
  {
   "cell_type": "code",
   "execution_count": null,
   "metadata": {},
   "outputs": [],
   "source": [
    "k=100000\n",
    "top_k_predictions =fiora_output_df.groupby(\"Challenge\").head(k)\n",
    "\n",
    "#sum(top_k_predictions['source'] == \"Solution\") / len(fiora_output_df[\"Challenge\"].unique())"
   ]
  },
  {
   "cell_type": "code",
   "execution_count": null,
   "metadata": {},
   "outputs": [],
   "source": [
    "fiora_output_df[fiora_output_df['source'] == \"Solution\"][[\"Challenge\", \"SMILES\"]]"
   ]
  },
  {
   "cell_type": "code",
   "execution_count": null,
   "metadata": {},
   "outputs": [],
   "source": [
    "from fiora.MOL.Metabolite import Metabolite\n",
    "import fiora.visualization.spectrum_visualizer as sv\n",
    "import ast\n",
    "\n",
    "\n",
    "\n",
    "spec = ast.literal_eval(fiora_output_df.loc[719].Spectrum)\n",
    "sv.plot_spectrum({'peaks': spec})\n",
    "#Metabolite(\"c1cc(nc(c1Cl)C(=O)O)Cl\").draw()"
   ]
  },
  {
   "cell_type": "code",
   "execution_count": null,
   "metadata": {},
   "outputs": [],
   "source": [
    "tp = 0\n",
    "for c in fiora_output_df[\"Challenge\"].unique():\n",
    "    if any(fiora_output_df[fiora_output_df[\"Challenge\"] == c]['source'].head(k) == \"Solution\"):\n",
    "        print(c)\n",
    "        tp += 1\n",
    "tp / len(fiora_output_df[\"Challenge\"].dropna().unique())"
   ]
  },
  {
   "cell_type": "code",
   "execution_count": null,
   "metadata": {},
   "outputs": [],
   "source": [
    "any(fiora_output_df[fiora_output_df[\"Challenge\"] == \"Challenge-008\"]['source'].head(k) == \"Solution\")"
   ]
  },
  {
   "cell_type": "code",
   "execution_count": null,
   "metadata": {},
   "outputs": [],
   "source": [
    "fiora_output_df.groupby(\"Challenge\")['source']"
   ]
  }
 ],
 "metadata": {
  "kernelspec": {
   "display_name": "fiora",
   "language": "python",
   "name": "python3"
  },
  "language_info": {
   "codemirror_mode": {
    "name": "ipython",
    "version": 3
   },
   "file_extension": ".py",
   "mimetype": "text/x-python",
   "name": "python",
   "nbconvert_exporter": "python",
   "pygments_lexer": "ipython3",
   "version": "3.10.8"
  }
 },
 "nbformat": 4,
 "nbformat_minor": 2
}
