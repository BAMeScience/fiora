{
 "cells": [
  {
   "cell_type": "markdown",
   "metadata": {},
   "source": [
    "Read Candidate List"
   ]
  },
  {
   "cell_type": "code",
   "execution_count": 2,
   "metadata": {},
   "outputs": [],
   "source": [
    "import pandas as pd"
   ]
  },
  {
   "cell_type": "code",
   "execution_count": 3,
   "metadata": {},
   "outputs": [
    {
     "data": {
      "text/html": [
       "<div>\n",
       "<style scoped>\n",
       "    .dataframe tbody tr th:only-of-type {\n",
       "        vertical-align: middle;\n",
       "    }\n",
       "\n",
       "    .dataframe tbody tr th {\n",
       "        vertical-align: top;\n",
       "    }\n",
       "\n",
       "    .dataframe thead th {\n",
       "        text-align: right;\n",
       "    }\n",
       "</style>\n",
       "<table border=\"1\" class=\"dataframe\">\n",
       "  <thead>\n",
       "    <tr style=\"text-align: right;\">\n",
       "      <th></th>\n",
       "      <th>Identifier</th>\n",
       "      <th>CompoundName</th>\n",
       "      <th>MonoisotopicMass</th>\n",
       "      <th>MolecularFormula</th>\n",
       "      <th>SMILES</th>\n",
       "      <th>InChI</th>\n",
       "      <th>InChIKey</th>\n",
       "    </tr>\n",
       "  </thead>\n",
       "  <tbody>\n",
       "    <tr>\n",
       "      <th>0</th>\n",
       "      <td>13428</td>\n",
       "      <td>sodium valproate</td>\n",
       "      <td>166.096970</td>\n",
       "      <td>C8H15NaO2</td>\n",
       "      <td>CCCC(CCC)C(=O)[O-].[Na+]</td>\n",
       "      <td>InChI=1S/C8H16O2.Na/c1-3-5-7(6-4-2)8(9)10;/h7H...</td>\n",
       "      <td>AEQFSUDEHCCHBT-UHFFFAOYSA-M</td>\n",
       "    </tr>\n",
       "    <tr>\n",
       "      <th>1</th>\n",
       "      <td>15307</td>\n",
       "      <td>Sodium caprylate [USAN]</td>\n",
       "      <td>166.096970</td>\n",
       "      <td>C8H15NaO2</td>\n",
       "      <td>CCCCCCCC(=O)[O-].[Na+]</td>\n",
       "      <td>InChI=1S/C8H16O2.Na/c1-2-3-4-5-6-7-8(9)10;/h2-...</td>\n",
       "      <td>BYKRNSHANADUFY-UHFFFAOYSA-M</td>\n",
       "    </tr>\n",
       "    <tr>\n",
       "      <th>2</th>\n",
       "      <td>43550</td>\n",
       "      <td>Cyromazine</td>\n",
       "      <td>166.096695</td>\n",
       "      <td>C6H10N6</td>\n",
       "      <td>C1CC1Nc2nc(nc(n2)N)N</td>\n",
       "      <td>InChI=1S/C6H10N6/c7-4-10-5(8)12-6(11-4)9-3-1-2...</td>\n",
       "      <td>LVQDKIWDGQRHTE-UHFFFAOYSA-N</td>\n",
       "    </tr>\n",
       "    <tr>\n",
       "      <th>3</th>\n",
       "      <td>80512</td>\n",
       "      <td>Sodium 2-ethylhexanoate</td>\n",
       "      <td>166.096970</td>\n",
       "      <td>C8H15NaO2</td>\n",
       "      <td>CCCCC(CC)C(=O)[O-].[Na+]</td>\n",
       "      <td>InChI=1S/C8H16O2.Na/c1-3-5-6-7(4-2)8(9)10;/h7H...</td>\n",
       "      <td>VYPDUQYOLCLEGS-UHFFFAOYSA-M</td>\n",
       "    </tr>\n",
       "    <tr>\n",
       "      <th>4</th>\n",
       "      <td>144153</td>\n",
       "      <td>Sodium (2R)-2-ethylhexanoate</td>\n",
       "      <td>166.096970</td>\n",
       "      <td>C8H15NaO2</td>\n",
       "      <td>CCCC[C@@H](CC)C(=O)[O-].[Na+]</td>\n",
       "      <td>InChI=1S/C8H16O2.Na/c1-3-5-6-7(4-2)8(9)10;/h7H...</td>\n",
       "      <td>VYPDUQYOLCLEGS-OGFXRTJISA-M</td>\n",
       "    </tr>\n",
       "    <tr>\n",
       "      <th>...</th>\n",
       "      <td>...</td>\n",
       "      <td>...</td>\n",
       "      <td>...</td>\n",
       "      <td>...</td>\n",
       "      <td>...</td>\n",
       "      <td>...</td>\n",
       "      <td>...</td>\n",
       "    </tr>\n",
       "    <tr>\n",
       "      <th>59</th>\n",
       "      <td>40247223</td>\n",
       "      <td>3-[Methyl(1-methyl-1H-tetrazol-5-yl)amino]prop...</td>\n",
       "      <td>166.096695</td>\n",
       "      <td>C6H10N6</td>\n",
       "      <td>Cn1c(nnn1)N(C)CCC#N</td>\n",
       "      <td>InChI=1S/C6H10N6/c1-11(5-3-4-7)6-8-9-10-12(6)2...</td>\n",
       "      <td>LZENEWPYNWXTPB-UHFFFAOYSA-N</td>\n",
       "    </tr>\n",
       "    <tr>\n",
       "      <th>60</th>\n",
       "      <td>40274262</td>\n",
       "      <td>N-(1H-Tetrazol-5-ylmethyl)cyclopropanecarboxim...</td>\n",
       "      <td>166.096695</td>\n",
       "      <td>C6H10N6</td>\n",
       "      <td>C1CC1C(=N)NCc2[nH]nnn2</td>\n",
       "      <td>InChI=1S/C6H10N6/c7-6(4-1-2-4)8-3-5-9-11-12-10...</td>\n",
       "      <td>IREYIQUOKZKYNR-UHFFFAOYSA-N</td>\n",
       "    </tr>\n",
       "    <tr>\n",
       "      <th>61</th>\n",
       "      <td>41386778</td>\n",
       "      <td>5-(1-Amino-3-butyn-1-yl)-4H-1,2,4-triazole-3,4...</td>\n",
       "      <td>166.096695</td>\n",
       "      <td>C6H10N6</td>\n",
       "      <td>C#CCC(c1nnc(n1N)N)N</td>\n",
       "      <td>InChI=1S/C6H10N6/c1-2-3-4(7)5-10-11-6(8)12(5)9...</td>\n",
       "      <td>FGXDFKOQUVJSGQ-UHFFFAOYSA-N</td>\n",
       "    </tr>\n",
       "    <tr>\n",
       "      <th>62</th>\n",
       "      <td>41946734</td>\n",
       "      <td>(2E)-2-[(1-Methyl-1H-pyrazol-5-yl)methylene]hy...</td>\n",
       "      <td>166.096695</td>\n",
       "      <td>C6H10N6</td>\n",
       "      <td>Cn1c(ccn1)/C=N/NC(=N)N</td>\n",
       "      <td>InChI=1S/C6H10N6/c1-12-5(2-3-10-12)4-9-11-6(7)...</td>\n",
       "      <td>WXKOZGPFRGWHJP-RUDMXATFSA-N</td>\n",
       "    </tr>\n",
       "    <tr>\n",
       "      <th>63</th>\n",
       "      <td>41976095</td>\n",
       "      <td>N-(4H-1,2,4-Triazol-3-ylmethyl)-4,5-dihydro-1H...</td>\n",
       "      <td>166.096695</td>\n",
       "      <td>C6H10N6</td>\n",
       "      <td>c1[nH]c(nn1)CNC2=NCCN2</td>\n",
       "      <td>InChI=1S/C6H10N6/c1-2-8-6(7-1)9-3-5-10-4-11-12...</td>\n",
       "      <td>QVPIJENYPMKZFV-UHFFFAOYSA-N</td>\n",
       "    </tr>\n",
       "  </tbody>\n",
       "</table>\n",
       "<p>64 rows × 7 columns</p>\n",
       "</div>"
      ],
      "text/plain": [
       "    Identifier                                       CompoundName  \\\n",
       "0        13428                                   sodium valproate   \n",
       "1        15307                            Sodium caprylate [USAN]   \n",
       "2        43550                                         Cyromazine   \n",
       "3        80512                            Sodium 2-ethylhexanoate   \n",
       "4       144153                       Sodium (2R)-2-ethylhexanoate   \n",
       "..         ...                                                ...   \n",
       "59    40247223  3-[Methyl(1-methyl-1H-tetrazol-5-yl)amino]prop...   \n",
       "60    40274262  N-(1H-Tetrazol-5-ylmethyl)cyclopropanecarboxim...   \n",
       "61    41386778  5-(1-Amino-3-butyn-1-yl)-4H-1,2,4-triazole-3,4...   \n",
       "62    41946734  (2E)-2-[(1-Methyl-1H-pyrazol-5-yl)methylene]hy...   \n",
       "63    41976095  N-(4H-1,2,4-Triazol-3-ylmethyl)-4,5-dihydro-1H...   \n",
       "\n",
       "    MonoisotopicMass MolecularFormula                         SMILES  \\\n",
       "0         166.096970        C8H15NaO2       CCCC(CCC)C(=O)[O-].[Na+]   \n",
       "1         166.096970        C8H15NaO2         CCCCCCCC(=O)[O-].[Na+]   \n",
       "2         166.096695          C6H10N6           C1CC1Nc2nc(nc(n2)N)N   \n",
       "3         166.096970        C8H15NaO2       CCCCC(CC)C(=O)[O-].[Na+]   \n",
       "4         166.096970        C8H15NaO2  CCCC[C@@H](CC)C(=O)[O-].[Na+]   \n",
       "..               ...              ...                            ...   \n",
       "59        166.096695          C6H10N6            Cn1c(nnn1)N(C)CCC#N   \n",
       "60        166.096695          C6H10N6         C1CC1C(=N)NCc2[nH]nnn2   \n",
       "61        166.096695          C6H10N6            C#CCC(c1nnc(n1N)N)N   \n",
       "62        166.096695          C6H10N6         Cn1c(ccn1)/C=N/NC(=N)N   \n",
       "63        166.096695          C6H10N6         c1[nH]c(nn1)CNC2=NCCN2   \n",
       "\n",
       "                                                InChI  \\\n",
       "0   InChI=1S/C8H16O2.Na/c1-3-5-7(6-4-2)8(9)10;/h7H...   \n",
       "1   InChI=1S/C8H16O2.Na/c1-2-3-4-5-6-7-8(9)10;/h2-...   \n",
       "2   InChI=1S/C6H10N6/c7-4-10-5(8)12-6(11-4)9-3-1-2...   \n",
       "3   InChI=1S/C8H16O2.Na/c1-3-5-6-7(4-2)8(9)10;/h7H...   \n",
       "4   InChI=1S/C8H16O2.Na/c1-3-5-6-7(4-2)8(9)10;/h7H...   \n",
       "..                                                ...   \n",
       "59  InChI=1S/C6H10N6/c1-11(5-3-4-7)6-8-9-10-12(6)2...   \n",
       "60  InChI=1S/C6H10N6/c7-6(4-1-2-4)8-3-5-9-11-12-10...   \n",
       "61  InChI=1S/C6H10N6/c1-2-3-4(7)5-10-11-6(8)12(5)9...   \n",
       "62  InChI=1S/C6H10N6/c1-12-5(2-3-10-12)4-9-11-6(7)...   \n",
       "63  InChI=1S/C6H10N6/c1-2-8-6(7-1)9-3-5-10-4-11-12...   \n",
       "\n",
       "                       InChIKey  \n",
       "0   AEQFSUDEHCCHBT-UHFFFAOYSA-M  \n",
       "1   BYKRNSHANADUFY-UHFFFAOYSA-M  \n",
       "2   LVQDKIWDGQRHTE-UHFFFAOYSA-N  \n",
       "3   VYPDUQYOLCLEGS-UHFFFAOYSA-M  \n",
       "4   VYPDUQYOLCLEGS-OGFXRTJISA-M  \n",
       "..                          ...  \n",
       "59  LZENEWPYNWXTPB-UHFFFAOYSA-N  \n",
       "60  IREYIQUOKZKYNR-UHFFFAOYSA-N  \n",
       "61  FGXDFKOQUVJSGQ-UHFFFAOYSA-N  \n",
       "62  WXKOZGPFRGWHJP-RUDMXATFSA-N  \n",
       "63  QVPIJENYPMKZFV-UHFFFAOYSA-N  \n",
       "\n",
       "[64 rows x 7 columns]"
      ]
     },
     "execution_count": 3,
     "metadata": {},
     "output_type": "execute_result"
    }
   ],
   "source": [
    "candidate_list = pd.read_csv(\"/home/lbarbut/.vscode-server/data/CASMI2016_Cat2and3_Challenge_Candidates (1)/Challenge-082.csv\")\n",
    "candidate_list"
   ]
  },
  {
   "cell_type": "markdown",
   "metadata": {},
   "source": [
    "Read and Plot Spectrum"
   ]
  },
  {
   "cell_type": "code",
   "execution_count": 4,
   "metadata": {},
   "outputs": [],
   "source": [
    "import fiora.visualization.spectrum_visualizer as sv\n",
    "import fiora.IO.mgfReader as mgfReader"
   ]
  },
  {
   "cell_type": "code",
   "execution_count": 4,
   "metadata": {},
   "outputs": [
    {
     "name": "stdout",
     "output_type": "stream",
     "text": [
      "{'PEPMASS': '167.104', 'RTINSECONDS': '23.88', 'CHARGE': '1+', 'TITLE': 'Scan Number: 1', 'SCANS': '1', 'peaks': {'mz': [56.0496, 58.0653, 60.0557, 68.0244, 70.04, 81.0447, 83.0604, 85.0508, 100.0869, 108.0556, 110.0461, 112.0617, 125.0821, 127.0727, 139.0725, 140.093, 150.0775, 167.1039], 'intensity': [890015.8, 2683323.0, 19158144.0, 2064966.2, 448485.8, 459195.2, 8710302.0, 32494888.0, 846321.0, 6498543.5, 1230449.0, 576228.1, 17335174.0, 814654.5, 2935127.5, 1145310.1, 826622.3, 206684544.0], 'annotation': []}}\n"
     ]
    },
    {
     "data": {
      "image/png": "[encoded data removed]",
      "text/plain": [
       "<Figure size 1200x600 with 1 Axes>"
      ]
     },
     "metadata": {},
     "output_type": "display_data"
    }
   ],
   "source": [
    "spectrums = mgfReader.read(\"/home/lbarbut/.vscode-server/data/CASMI_2016/CASMI2016_Cat2and3_Challenge_positive_mgf/Challenge-082.mgf\", '\\t')\n",
    "print(spectrums[0])\n",
    "spectrum01 = sv.plot_spectrum(spectrums[0])"
   ]
  },
  {
   "cell_type": "markdown",
   "metadata": {},
   "source": [
    "Import Fiora Modules, Simulate a Spectrum For a Very Basic Molecule, Visualize"
   ]
  },
  {
   "cell_type": "code",
   "execution_count": 5,
   "metadata": {},
   "outputs": [],
   "source": [
    "from fiora.GNN.GNNModules import GNNCompiler\n",
    "from fiora.MS.SimulationFramework import SimulationFramework\n",
    "from fiora.MOL.Metabolite import Metabolite\n",
    "from fiora.GNN.AtomFeatureEncoder import AtomFeatureEncoder\n",
    "from fiora.GNN.BondFeatureEncoder import BondFeatureEncoder\n",
    "from fiora.GNN.SetupFeatureEncoder import SetupFeatureEncoder"
   ]
  },
  {
   "cell_type": "code",
   "execution_count": 6,
   "metadata": {},
   "outputs": [
    {
     "data": {
      "text/plain": [
       "({'mz': [61.064790875999996, 43.055324256],\n",
       "  'intensity': [0.8145591020584106, 0.18500152230262756],\n",
       "  'annotation': ['CCCO//[M+H]+', 'CCC//[M-H]+']},\n",
       " <Metabolite: CCCO>)"
      ]
     },
     "execution_count": 6,
     "metadata": {},
     "output_type": "execute_result"
    }
   ],
   "source": [
    "from fiora.MOL.Metabolite import Metabolite\n",
    "from fiora.MOL.collision_energy import NCE_to_eV\n",
    "import matplotlib.pyplot as plt\n",
    "\n",
    "smiles =\"CCCO\"\n",
    "model_path = \"/home/lbarbut/pretrained_models/v0.0.1_merged_depth2.pt\"\n",
    "meta = {\"collision_energy\":  NCE_to_eV(20, 52.03 + 1), \n",
    "                \"instrument\": \"HCD\", \"name\": \"Alcohol\", 'precursor_mode': \"[M+H]+\"}\n",
    "\n",
    "def simulate_fiora(smiles, model_path, meta):\n",
    "        metabolite = Metabolite(smiles)\n",
    "\n",
    "        CE_upper_limit = 80.0\n",
    "        weight_upper_limit = 800.0\n",
    "\n",
    "        node_encoder = AtomFeatureEncoder(feature_list=[\"symbol\", \"num_hydrogen\", \"ring_type\"])\n",
    "        bond_encoder = BondFeatureEncoder(feature_list=[\"bond_type\", \"ring_type\"])\n",
    "        setup_encoder = SetupFeatureEncoder(feature_list=[\"collision_energy\", \"molecular_weight\", \"precursor_mode\", \"instrument\"])\n",
    "        rt_encoder = SetupFeatureEncoder(feature_list=[\"molecular_weight\", \"precursor_mode\", \"instrument\"])\n",
    "\n",
    "        setup_encoder.normalize_features[\"collision_energy\"][\"max\"] = CE_upper_limit \n",
    "        setup_encoder.normalize_features[\"molecular_weight\"][\"max\"] = weight_upper_limit \n",
    "        rt_encoder.normalize_features[\"molecular_weight\"][\"max\"] = weight_upper_limit\n",
    "\n",
    "        \n",
    "        model = GNNCompiler.load_from_state_dict(model_path)\n",
    "        model.eval()\n",
    "        model = model.to(\"cuda:3\")  \n",
    "\n",
    "        fiora_run = SimulationFramework(model, True, True, dev=\"cuda:3\")\n",
    "\n",
    "        metabolite.create_molecular_structure_graph()\n",
    "        metabolite.compute_graph_attributes(node_encoder, bond_encoder)\n",
    "        metabolite.fragment_MOL()\n",
    "        \n",
    "        metabolite.add_metadata(meta, setup_encoder, rt_encoder)\n",
    "\n",
    "        prediction = fiora_run.predict_metabolite_property(metabolite, model, as_batch=True)\n",
    "        setattr(metabolite, \"fragment_probs\", prediction[\"fragment_probs\"]) # metabolite.fragment_probs = prediction[\"fragment_probs\"]\n",
    "        simulated_spectrum = fiora_run.simulate_spectrum(metabolite, pred_label=\"fragment_probs\")\n",
    "\n",
    "        #print(simulated_spectrum)\n",
    "\n",
    "        # formatted_sim_spectrum = {'peaks' : simulated_spectrum}\n",
    "        # sv.plot_spectrum (formatted_sim_spectrum)\n",
    "        # plt.ylim(0, 1.1)\n",
    "        \n",
    "        return simulated_spectrum, metabolite\n",
    "\n",
    "simulate_fiora(smiles, model_path, meta)"
   ]
  },
  {
   "cell_type": "markdown",
   "metadata": {},
   "source": [
    "Richtige Lösung für Challenge 82 laden und Spektrum vorhersagen"
   ]
  },
  {
   "cell_type": "code",
   "execution_count": 7,
   "metadata": {},
   "outputs": [
    {
     "data": {
      "text/html": [
       "<div>\n",
       "<style scoped>\n",
       "    .dataframe tbody tr th:only-of-type {\n",
       "        vertical-align: middle;\n",
       "    }\n",
       "\n",
       "    .dataframe tbody tr th {\n",
       "        vertical-align: top;\n",
       "    }\n",
       "\n",
       "    .dataframe thead th {\n",
       "        text-align: right;\n",
       "    }\n",
       "</style>\n",
       "<table border=\"1\" class=\"dataframe\">\n",
       "  <thead>\n",
       "    <tr style=\"text-align: right;\">\n",
       "      <th></th>\n",
       "      <th>SourceFile</th>\n",
       "      <th>ChallengeName</th>\n",
       "      <th>PRECURSOR_MZ</th>\n",
       "      <th>ION_MODE</th>\n",
       "      <th>RT</th>\n",
       "      <th>nPeaks</th>\n",
       "      <th>NAME</th>\n",
       "      <th>SMILES</th>\n",
       "      <th>INCHI</th>\n",
       "      <th>INCHIKEY</th>\n",
       "      <th>CSID</th>\n",
       "      <th>PC_CID</th>\n",
       "    </tr>\n",
       "  </thead>\n",
       "  <tbody>\n",
       "    <tr>\n",
       "      <th>81</th>\n",
       "      <td>XX845603</td>\n",
       "      <td>Challenge-082</td>\n",
       "      <td>167.104</td>\n",
       "      <td>POSITIVE</td>\n",
       "      <td>0.398</td>\n",
       "      <td>18</td>\n",
       "      <td>Cyromazine</td>\n",
       "      <td>NC1=NC(NC2CC2)=NC(N)=N1</td>\n",
       "      <td>InChI=1S/C6H10N6/c7-4-10-5(8)12-6(11-4)9-3-1-2...</td>\n",
       "      <td>LVQDKIWDGQRHTE-UHFFFAOYSA-N</td>\n",
       "      <td>43550</td>\n",
       "      <td>47866</td>\n",
       "    </tr>\n",
       "  </tbody>\n",
       "</table>\n",
       "</div>"
      ],
      "text/plain": [
       "   SourceFile  ChallengeName  PRECURSOR_MZ   ION_MODE     RT  nPeaks  \\\n",
       "81   XX845603  Challenge-082       167.104   POSITIVE  0.398      18   \n",
       "\n",
       "          NAME                   SMILES  \\\n",
       "81  Cyromazine  NC1=NC(NC2CC2)=NC(N)=N1   \n",
       "\n",
       "                                                INCHI  \\\n",
       "81  InChI=1S/C6H10N6/c7-4-10-5(8)12-6(11-4)9-3-1-2...   \n",
       "\n",
       "                       INCHIKEY   CSID  PC_CID  \n",
       "81  LVQDKIWDGQRHTE-UHFFFAOYSA-N  43550   47866  "
      ]
     },
     "execution_count": 7,
     "metadata": {},
     "output_type": "execute_result"
    }
   ],
   "source": [
    "correct_answers_df = pd.read_csv(\"/home/lbarbut/.vscode-server/data/CASMI_2016/solutions_casmi2016_cat2and3.csv\")\n",
    "challenge_82_answer = correct_answers_df[correct_answers_df['ChallengeName'] == 'Challenge-082']\n",
    "challenge_82_answer"
   ]
  },
  {
   "cell_type": "code",
   "execution_count": 8,
   "metadata": {},
   "outputs": [
    {
     "data": {
      "text/plain": [
       "({'mz': [167.10397031999997],\n",
       "  'intensity': [0.9940675497055054],\n",
       "  'annotation': ['Nc1nc(N)nc(NC2CC2)n1//[M+H]+']},\n",
       " <Metabolite: NC1=NC(NC2CC2)=NC(N)=N1>)"
      ]
     },
     "execution_count": 8,
     "metadata": {},
     "output_type": "execute_result"
    }
   ],
   "source": [
    "smiles = challenge_82_answer.iloc[0][\"SMILES\"]\n",
    "model_path = \"/home/lbarbut/pretrained_models/v0.0.1_merged_depth2.pt\"\n",
    "meta = {\n",
    "    \"collision_energy\":  NCE_to_eV(20, challenge_82_answer.iloc[0][\"PRECURSOR_MZ\"]),\n",
    "    \"instrument\": \"HCD\", \"name\": challenge_82_answer.iloc[0][\"NAME\"], \"precursor_mode\": \"[M+H]+\"\n",
    "}\n",
    "challenge_82_answer_simulated_spectrum, simulated_metabolite = simulate_fiora(smiles, model_path, meta)\n",
    "challenge_82_answer_simulated_spectrum, simulated_metabolite"
   ]
  },
  {
   "cell_type": "markdown",
   "metadata": {},
   "source": [
    "Cosinus Similarity between Challenge Spectrum and Prediction"
   ]
  },
  {
   "cell_type": "code",
   "execution_count": 9,
   "metadata": {},
   "outputs": [
    {
     "data": {
      "text/plain": [
       "0.822117004246391"
      ]
     },
     "execution_count": 9,
     "metadata": {},
     "output_type": "execute_result"
    }
   ],
   "source": [
    "from fiora.MS.spectral_scores import spectral_cosine\n",
    "import numpy as np\n",
    "challenge_82_spectrum = mgfReader.read(\"/home/lbarbut/.vscode-server/data/CASMI_2016/CASMI2016_Cat2and3_Challenge_positive_mgf/Challenge-082.mgf\", '\\t')\n",
    "#challenge_82_spectrum[0]['peaks']\n",
    "\n",
    "spectral_cosine(challenge_82_answer_simulated_spectrum, challenge_82_spectrum[0]['peaks'], transform=np.sqrt)   # sqrt to reduce the effect of the biggest peak"
   ]
  },
  {
   "cell_type": "code",
   "execution_count": null,
   "metadata": {},
   "outputs": [],
   "source": [
    "sv.plot_spectrum(challenge_82_spectrum[0], {'peaks' : challenge_82_answer_simulated_spectrum})  # compare the spectrum, which is the challenge input to spectrum, which is the fiora output\n",
    "plt.ylim(-1.1, 1.1)"
   ]
  },
  {
   "cell_type": "markdown",
   "metadata": {},
   "source": [
    "Load All Candidates for Challenge 82 and Predict The First 20, Cosine Similarity of Candidates - Histogram, Where is The Correct Answer"
   ]
  },
  {
   "cell_type": "code",
   "execution_count": 10,
   "metadata": {},
   "outputs": [
    {
     "name": "stdout",
     "output_type": "stream",
     "text": [
      "ERROR (0, 1) [10] [10Na+]\n",
      "ERROR (0, 1) [10] [10Na+]\n",
      "ERROR (0, 1) [10] [10Na+]\n",
      "ERROR (0, 1) [10] [10Na+]\n"
     ]
    },
    {
     "name": "stderr",
     "output_type": "stream",
     "text": [
      "[14:51:58] Can't kekulize mol.  Unkekulized atoms: 0 1 2 3 4\n"
     ]
    }
   ],
   "source": [
    "challenge_82_candidates = pd.read_csv(\"/home/lbarbut/.vscode-server/data/CASMI2016_Cat2and3_Challenge_Candidates (1)/Challenge-082.csv\")\n",
    "# challenge_82_candidates_20_rows = challenge_82_candidates.head(20)\n",
    "# predict 20 spectrums\n",
    "cnt = 0\n",
    "for i, row in challenge_82_candidates.iterrows():\n",
    "    if cnt >= 20:\n",
    "        break\n",
    "    # print(row)\n",
    "    smiles = row[\"SMILES\"]  # SMILES Strings with a '.' in them are problematic\n",
    "    model_path = \"/home/lbarbut/pretrained_models/v0.0.1_merged_depth2.pt\"\n",
    "    meta = {\n",
    "        \"collision_energy\":  NCE_to_eV(20, row[\"MonoisotopicMass\"]),\n",
    "        \"instrument\": \"HCD\", \"name\": row[\"CompoundName\"], \"precursor_mode\": \"[M+H]+\"\n",
    "    }\n",
    "    try:\n",
    "        c82_simulated_spectrum, c82_simulated_metabolite = simulate_fiora(smiles, model_path, meta)\n",
    "        score = spectral_cosine(c82_simulated_spectrum, challenge_82_spectrum[0]['peaks'], transform=np.sqrt)\n",
    "        challenge_82_candidates.at[i, \"Score\"] = score\n",
    "        cnt = cnt + 1\n",
    "    except:\n",
    "        continue"
   ]
  },
  {
   "cell_type": "code",
   "execution_count": null,
   "metadata": {},
   "outputs": [],
   "source": [
    "# how to iterate every row and save the cosine similarity scores as a new column \n",
    "\n",
    "# for i, row in challenge_82_candidates_first_20_rows.iterrows():\n",
    "#     challenge_82_candidates_first_20_rows.at[i, \"score\"] = 1.0\n"
   ]
  },
  {
   "cell_type": "code",
   "execution_count": 11,
   "metadata": {},
   "outputs": [
    {
     "data": {
      "image/png": "[encoded data removed]",
      "text/plain": [
       "<Figure size 640x480 with 1 Axes>"
      ]
     },
     "metadata": {},
     "output_type": "display_data"
    }
   ],
   "source": [
    "import matplotlib.pyplot as plt\n",
    "from fiora.MS.spectral_scores import cosine_bias\n",
    "from fiora.MS.spectral_scores import spectral_reflection_cosine\n",
    "from fiora.MS.spectral_scores import reweighted_dot\n",
    "\n",
    "def visualize_challenge(df):\n",
    "    \n",
    "    scores = df[\"Score\"].dropna()\n",
    "    compound_names = df.loc[~df[\"Score\"].isna(), \"CompoundName\"]\n",
    "    \n",
    "    colors = ['lightblue' if name != 'Cyromazine' else 'green' for name in compound_names]\n",
    "\n",
    "    plt.barh(compound_names, scores, color = colors, edgecolor=\"k\")\n",
    "    plt.xlabel(\"Scores\")\n",
    "    plt.ylabel(\"Compound Names\")\n",
    "    plt.title(\"Scores by Compound Names\")\n",
    "    plt.xticks(rotation=0)\n",
    "\n",
    "    for i, score in enumerate(scores):\n",
    "        plt.text(score, i, f\"{score:.3f}\", ha=\"right\", va=\"center\")\n",
    "\n",
    "    plt.show()\n",
    "    \n",
    "visualize_challenge(challenge_82_candidates)"
   ]
  },
  {
   "cell_type": "markdown",
   "metadata": {},
   "source": [
    "==========================================================================================="
   ]
  },
  {
   "cell_type": "markdown",
   "metadata": {},
   "source": [
    "Load All Challenges and All Candidates, Automate the Prediction Steps with Pandas DataFrame and SimulationFramework.simulate_all"
   ]
  },
  {
   "cell_type": "code",
   "execution_count": 29,
   "metadata": {},
   "outputs": [],
   "source": [
    "# Load Positive Challenges (mgf)\n",
    "all_positive_challenges = mgfReader.read(\"/home/lbarbut/.vscode-server/data/CASMI_2016/CASMI2016_Cat2and3_Challenge_positive_mgf/all_positive.mgf\", '\\t')\n",
    "# all_positive_challenges[2]\n",
    "\n",
    "# Load Candidates (csv)\n",
    "positive_candidate_dfs = []\n",
    "for i in range (82, 209):\n",
    "    if i < 100:\n",
    "        candidate_df = pd.read_csv(f\"/home/lbarbut/.vscode-server/data/CASMI2016_Cat2and3_Challenge_Candidates (1)/Challenge-0{i}.csv\")\n",
    "    else:\n",
    "        candidate_df = pd.read_csv(f\"/home/lbarbut/.vscode-server/data/CASMI2016_Cat2and3_Challenge_Candidates (1)/Challenge-{i}.csv\")\n",
    "    positive_candidate_dfs.append(candidate_df)\n",
    "# positive_candidate_dfs"
   ]
  },
  {
   "cell_type": "code",
   "execution_count": 30,
   "metadata": {},
   "outputs": [],
   "source": [
    "for i in range(len(positive_candidate_dfs)):\n",
    "    positive_candidate_dfs[i] = positive_candidate_dfs[i][~positive_candidate_dfs[i][\"SMILES\"].str.contains('\\.')]\n"
   ]
  },
  {
   "cell_type": "code",
   "execution_count": 100,
   "metadata": {},
   "outputs": [
    {
     "data": {
      "text/html": [
       "<div>\n",
       "<style scoped>\n",
       "    .dataframe tbody tr th:only-of-type {\n",
       "        vertical-align: middle;\n",
       "    }\n",
       "\n",
       "    .dataframe tbody tr th {\n",
       "        vertical-align: top;\n",
       "    }\n",
       "\n",
       "    .dataframe thead th {\n",
       "        text-align: right;\n",
       "    }\n",
       "</style>\n",
       "<table border=\"1\" class=\"dataframe\">\n",
       "  <thead>\n",
       "    <tr style=\"text-align: right;\">\n",
       "      <th></th>\n",
       "      <th>Identifier</th>\n",
       "      <th>CompoundName</th>\n",
       "      <th>MonoisotopicMass</th>\n",
       "      <th>MolecularFormula</th>\n",
       "      <th>SMILES</th>\n",
       "      <th>InChI</th>\n",
       "      <th>InChIKey</th>\n",
       "      <th>Metabolite</th>\n",
       "      <th>peaks</th>\n",
       "    </tr>\n",
       "  </thead>\n",
       "  <tbody>\n",
       "    <tr>\n",
       "      <th>2</th>\n",
       "      <td>43550</td>\n",
       "      <td>Cyromazine</td>\n",
       "      <td>166.096695</td>\n",
       "      <td>C6H10N6</td>\n",
       "      <td>C1CC1Nc2nc(nc(n2)N)N</td>\n",
       "      <td>InChI=1S/C6H10N6/c7-4-10-5(8)12-6(11-4)9-3-1-2...</td>\n",
       "      <td>LVQDKIWDGQRHTE-UHFFFAOYSA-N</td>\n",
       "      <td>&lt;Metabolite: C1CC1Nc2nc(nc(n2)N)N&gt;</td>\n",
       "      <td>{'mz': [56.0496, 58.0653, 60.0557, 68.0244, 70...</td>\n",
       "    </tr>\n",
       "    <tr>\n",
       "      <th>5</th>\n",
       "      <td>235471</td>\n",
       "      <td>6-Amino-N'-ethyl-1,2,4-triazine-5-carboximidamide</td>\n",
       "      <td>166.096695</td>\n",
       "      <td>C6H10N6</td>\n",
       "      <td>CC/N=C(/c1c(nncn1)N)\\N</td>\n",
       "      <td>InChI=1S/C6H10N6/c1-2-9-5(7)4-6(8)12-11-3-10-4...</td>\n",
       "      <td>YRBYHGOQFSICMA-UHFFFAOYSA-N</td>\n",
       "      <td>&lt;Metabolite: CC/N=C(/c1c(nncn1)N)\\N&gt;</td>\n",
       "      <td>{'mz': [56.0496, 58.0653, 60.0557, 68.0244, 70...</td>\n",
       "    </tr>\n",
       "    <tr>\n",
       "      <th>6</th>\n",
       "      <td>262957</td>\n",
       "      <td>1-Methyl-N-(2H-tetrazol-5-yl)-2-pyrrolidinimine</td>\n",
       "      <td>166.096695</td>\n",
       "      <td>C6H10N6</td>\n",
       "      <td>CN1CCCC1=Nc2n[nH]nn2</td>\n",
       "      <td>InChI=1S/C6H10N6/c1-12-4-2-3-5(12)7-6-8-10-11-...</td>\n",
       "      <td>USJMNMBIPMIMEA-UHFFFAOYSA-N</td>\n",
       "      <td>&lt;Metabolite: CN1CCCC1=Nc2n[nH]nn2&gt;</td>\n",
       "      <td>{'mz': [56.0496, 58.0653, 60.0557, 68.0244, 70...</td>\n",
       "    </tr>\n",
       "    <tr>\n",
       "      <th>7</th>\n",
       "      <td>363141</td>\n",
       "      <td>1-(2-Hydrazino-2-oxoethyl)-4-methylpyridinium</td>\n",
       "      <td>166.097488</td>\n",
       "      <td>C8H12N3O</td>\n",
       "      <td>Cc1cc[n+](cc1)CC(=O)NN</td>\n",
       "      <td>InChI=1S/C8H11N3O/c1-7-2-4-11(5-3-7)6-8(12)10-...</td>\n",
       "      <td>MIJSUODEEVOTMN-UHFFFAOYSA-O</td>\n",
       "      <td>&lt;Metabolite: Cc1cc[n+](cc1)CC(=O)NN&gt;</td>\n",
       "      <td>{'mz': [56.0496, 58.0653, 60.0557, 68.0244, 70...</td>\n",
       "    </tr>\n",
       "    <tr>\n",
       "      <th>8</th>\n",
       "      <td>383171</td>\n",
       "      <td>1-Ethyl-4-(hydrazinocarbonyl)pyridinium</td>\n",
       "      <td>166.097488</td>\n",
       "      <td>C8H12N3O</td>\n",
       "      <td>CC[n+]1ccc(cc1)C(=O)NN</td>\n",
       "      <td>InChI=1S/C8H11N3O/c1-2-11-5-3-7(4-6-11)8(12)10...</td>\n",
       "      <td>PGGNGLNEZGRCTK-UHFFFAOYSA-O</td>\n",
       "      <td>&lt;Metabolite: CC[n+]1ccc(cc1)C(=O)NN&gt;</td>\n",
       "      <td>{'mz': [56.0496, 58.0653, 60.0557, 68.0244, 70...</td>\n",
       "    </tr>\n",
       "    <tr>\n",
       "      <th>9</th>\n",
       "      <td>385528</td>\n",
       "      <td>1-(4,5-Dihydro-1H-imidazol-2-yl)-1H-pyrazole-3...</td>\n",
       "      <td>166.096695</td>\n",
       "      <td>C6H10N6</td>\n",
       "      <td>c1c(nn(c1N)C2=NCCN2)N</td>\n",
       "      <td>InChI=1S/C6H10N6/c7-4-3-5(8)12(11-4)6-9-1-2-10...</td>\n",
       "      <td>HKCLDEHMEDOYBD-UHFFFAOYSA-N</td>\n",
       "      <td>&lt;Metabolite: c1c(nn(c1N)C2=NCCN2)N&gt;</td>\n",
       "      <td>{'mz': [56.0496, 58.0653, 60.0557, 68.0244, 70...</td>\n",
       "    </tr>\n",
       "    <tr>\n",
       "      <th>10</th>\n",
       "      <td>497651</td>\n",
       "      <td>1-(Carbamoylamino)-3,5-dimethylpyridinium</td>\n",
       "      <td>166.097488</td>\n",
       "      <td>C8H12N3O</td>\n",
       "      <td>Cc1cc(c[n+](c1)NC(=O)N)C</td>\n",
       "      <td>InChI=1S/C8H11N3O/c1-6-3-7(2)5-11(4-6)10-8(9)1...</td>\n",
       "      <td>DLUNYJGOCYRGFP-UHFFFAOYSA-O</td>\n",
       "      <td>&lt;Metabolite: Cc1cc(c[n+](c1)NC(=O)N)C&gt;</td>\n",
       "      <td>{'mz': [56.0496, 58.0653, 60.0557, 68.0244, 70...</td>\n",
       "    </tr>\n",
       "    <tr>\n",
       "      <th>11</th>\n",
       "      <td>1439915</td>\n",
       "      <td>2-(Isonicotinoylamino)ethanaminium</td>\n",
       "      <td>166.097488</td>\n",
       "      <td>C8H12N3O</td>\n",
       "      <td>c1cnccc1C(=O)NCC[NH3+]</td>\n",
       "      <td>InChI=1S/C8H11N3O/c9-3-6-11-8(12)7-1-4-10-5-2-...</td>\n",
       "      <td>BYBVGGPVHPUBSJ-UHFFFAOYSA-O</td>\n",
       "      <td>&lt;Metabolite: c1cnccc1C(=O)NCC[NH3+]&gt;</td>\n",
       "      <td>{'mz': [56.0496, 58.0653, 60.0557, 68.0244, 70...</td>\n",
       "    </tr>\n",
       "    <tr>\n",
       "      <th>12</th>\n",
       "      <td>2041529</td>\n",
       "      <td>1,1,2-Trifluoro-1-octene</td>\n",
       "      <td>166.096939</td>\n",
       "      <td>C8H13F3</td>\n",
       "      <td>CCCCCCC(=C(F)F)F</td>\n",
       "      <td>InChI=1S/C8H13F3/c1-2-3-4-5-6-7(9)8(10)11/h2-6...</td>\n",
       "      <td>QLMNBUGTGFMBBM-UHFFFAOYSA-N</td>\n",
       "      <td>&lt;Metabolite: CCCCCCC(=C(F)F)F&gt;</td>\n",
       "      <td>{'mz': [56.0496, 58.0653, 60.0557, 68.0244, 70...</td>\n",
       "    </tr>\n",
       "    <tr>\n",
       "      <th>13</th>\n",
       "      <td>2062282</td>\n",
       "      <td>4-CYCLOPROPYL-6-HYDRAZINO-1,3,5-TRIAZIN-2-AMINE</td>\n",
       "      <td>166.096695</td>\n",
       "      <td>C6H10N6</td>\n",
       "      <td>C1CC1c2nc(nc(n2)NN)N</td>\n",
       "      <td>InChI=1S/C6H10N6/c7-5-9-4(3-1-2-3)10-6(11-5)12...</td>\n",
       "      <td>KUUQVVNKTZWOTC-UHFFFAOYSA-N</td>\n",
       "      <td>&lt;Metabolite: C1CC1c2nc(nc(n2)NN)N&gt;</td>\n",
       "      <td>{'mz': [56.0496, 58.0653, 60.0557, 68.0244, 70...</td>\n",
       "    </tr>\n",
       "    <tr>\n",
       "      <th>14</th>\n",
       "      <td>2856608</td>\n",
       "      <td>Imino[(4-methoxyphenyl)amino]methanaminium</td>\n",
       "      <td>166.097488</td>\n",
       "      <td>C8H12N3O</td>\n",
       "      <td>COc1ccc(cc1)NC(=[NH2+])N</td>\n",
       "      <td>InChI=1S/C8H11N3O/c1-12-7-4-2-6(3-5-7)11-8(9)1...</td>\n",
       "      <td>VGFALHATLLBXIT-UHFFFAOYSA-O</td>\n",
       "      <td>&lt;Metabolite: COc1ccc(cc1)NC(=[NH2+])N&gt;</td>\n",
       "      <td>{'mz': [56.0496, 58.0653, 60.0557, 68.0244, 70...</td>\n",
       "    </tr>\n",
       "    <tr>\n",
       "      <th>15</th>\n",
       "      <td>3544002</td>\n",
       "      <td>1-(2-Aminoethyl)-3-carbamoylpyridinium</td>\n",
       "      <td>166.097488</td>\n",
       "      <td>C8H12N3O</td>\n",
       "      <td>c1cc(c[n+](c1)CCN)C(=O)N</td>\n",
       "      <td>InChI=1S/C8H11N3O/c9-3-5-11-4-1-2-7(6-11)8(10)...</td>\n",
       "      <td>RAOPRHWSJWNCEQ-UHFFFAOYSA-O</td>\n",
       "      <td>&lt;Metabolite: c1cc(c[n+](c1)CCN)C(=O)N&gt;</td>\n",
       "      <td>{'mz': [56.0496, 58.0653, 60.0557, 68.0244, 70...</td>\n",
       "    </tr>\n",
       "    <tr>\n",
       "      <th>16</th>\n",
       "      <td>3627513</td>\n",
       "      <td>5-(2-Cyclopentylidenehydrazino)-2H-tetrazole</td>\n",
       "      <td>166.096695</td>\n",
       "      <td>C6H10N6</td>\n",
       "      <td>C1CCC(=NNc2n[nH]nn2)C1</td>\n",
       "      <td>InChI=1S/C6H10N6/c1-2-4-5(3-1)7-8-6-9-11-12-10...</td>\n",
       "      <td>HBHWJAVFKBMFTO-UHFFFAOYSA-N</td>\n",
       "      <td>&lt;Metabolite: C1CCC(=NNc2n[nH]nn2)C1&gt;</td>\n",
       "      <td>{'mz': [56.0496, 58.0653, 60.0557, 68.0244, 70...</td>\n",
       "    </tr>\n",
       "    <tr>\n",
       "      <th>17</th>\n",
       "      <td>4411424</td>\n",
       "      <td>3a,4,8a,9-Tetrahydro-3H,8H-bis[1,2,3]triazolo[...</td>\n",
       "      <td>166.096695</td>\n",
       "      <td>C6H10N6</td>\n",
       "      <td>C1C2CN3C(CN=N3)CN2N=N1</td>\n",
       "      <td>InChI=1S/C6H10N6/c1-5-3-12-6(2-8-10-12)4-11(5)...</td>\n",
       "      <td>DYEYBZXRLVRUBV-UHFFFAOYSA-N</td>\n",
       "      <td>&lt;Metabolite: C1C2CN3C(CN=N3)CN2N=N1&gt;</td>\n",
       "      <td>{'mz': [56.0496, 58.0653, 60.0557, 68.0244, 70...</td>\n",
       "    </tr>\n",
       "    <tr>\n",
       "      <th>18</th>\n",
       "      <td>4532969</td>\n",
       "      <td>7-Hydrazino-5-methyl-1,7-dihydro[1,2,4]triazol...</td>\n",
       "      <td>166.096695</td>\n",
       "      <td>C6H10N6</td>\n",
       "      <td>CC1=CC(N2C(=N1)N=CN2)NN</td>\n",
       "      <td>InChI=1S/C6H10N6/c1-4-2-5(11-7)12-6(10-4)8-3-9...</td>\n",
       "      <td>ADPQVYRAZIPOCT-UHFFFAOYSA-N</td>\n",
       "      <td>&lt;Metabolite: CC1=CC(N2C(=N1)N=CN2)NN&gt;</td>\n",
       "      <td>{'mz': [56.0496, 58.0653, 60.0557, 68.0244, 70...</td>\n",
       "    </tr>\n",
       "    <tr>\n",
       "      <th>19</th>\n",
       "      <td>4577773</td>\n",
       "      <td>2-Octene, 1,1,2-trifluoro-</td>\n",
       "      <td>166.096939</td>\n",
       "      <td>C8H13F3</td>\n",
       "      <td>CCCCC/C=C(/C(F)F)\\F</td>\n",
       "      <td>InChI=1S/C8H13F3/c1-2-3-4-5-6-7(9)8(10)11/h6,8...</td>\n",
       "      <td>GEEONXFLRDFRQZ-SREVYHEPSA-N</td>\n",
       "      <td>&lt;Metabolite: CCCCC/C=C(/C(F)F)\\F&gt;</td>\n",
       "      <td>{'mz': [56.0496, 58.0653, 60.0557, 68.0244, 70...</td>\n",
       "    </tr>\n",
       "    <tr>\n",
       "      <th>20</th>\n",
       "      <td>5378403</td>\n",
       "      <td>2-[(3-Pyridinylcarbonyl)amino]ethanaminium</td>\n",
       "      <td>166.097488</td>\n",
       "      <td>C8H12N3O</td>\n",
       "      <td>O=C(NCC[NH3+])c1cccnc1</td>\n",
       "      <td>InChI=1S/C8H11N3O/c9-3-5-11-8(12)7-2-1-4-10-6-...</td>\n",
       "      <td>RTIXFTKDETURTM-UHFFFAOYSA-O</td>\n",
       "      <td>&lt;Metabolite: O=C(NCC[NH3+])c1cccnc1&gt;</td>\n",
       "      <td>{'mz': [56.0496, 58.0653, 60.0557, 68.0244, 70...</td>\n",
       "    </tr>\n",
       "    <tr>\n",
       "      <th>21</th>\n",
       "      <td>5381024</td>\n",
       "      <td>Diamino-N-(3-methoxyphenyl)methaniminium</td>\n",
       "      <td>166.097488</td>\n",
       "      <td>C8H12N3O</td>\n",
       "      <td>O(c1cccc(\\[NH+]=C(/N)N)c1)C</td>\n",
       "      <td>InChI=1S/C8H11N3O/c1-12-7-4-2-3-6(5-7)11-8(9)1...</td>\n",
       "      <td>GHJPWSGXHWIAEQ-UHFFFAOYSA-O</td>\n",
       "      <td>&lt;Metabolite: O(c1cccc(\\[NH+]=C(/N)N)c1)C&gt;</td>\n",
       "      <td>{'mz': [56.0496, 58.0653, 60.0557, 68.0244, 70...</td>\n",
       "    </tr>\n",
       "    <tr>\n",
       "      <th>22</th>\n",
       "      <td>5615239</td>\n",
       "      <td>2-[(2-Pyridinylcarbonyl)amino]ethanaminium</td>\n",
       "      <td>166.097488</td>\n",
       "      <td>C8H12N3O</td>\n",
       "      <td>O=C(NCC[NH3+])c1ncccc1</td>\n",
       "      <td>InChI=1S/C8H11N3O/c9-4-6-11-8(12)7-3-1-2-5-10-...</td>\n",
       "      <td>MDEHSSNJTVYAFD-UHFFFAOYSA-O</td>\n",
       "      <td>&lt;Metabolite: O=C(NCC[NH3+])c1ncccc1&gt;</td>\n",
       "      <td>{'mz': [56.0496, 58.0653, 60.0557, 68.0244, 70...</td>\n",
       "    </tr>\n",
       "    <tr>\n",
       "      <th>23</th>\n",
       "      <td>8279040</td>\n",
       "      <td>Ethyl 4-methyl(2,6-~2~H_2_)benzoate</td>\n",
       "      <td>166.096283</td>\n",
       "      <td>C10H10D2O2</td>\n",
       "      <td>O=C(OCC)c1c([2H])cc(cc1[2H])C</td>\n",
       "      <td>InChI=1S/C10H12O2/c1-3-12-10(11)9-6-4-8(2)5-7-...</td>\n",
       "      <td>NWPWRAWAUYIELB-QFIQSOQBSA-N</td>\n",
       "      <td>&lt;Metabolite: O=C(OCC)c1c([2H])cc(cc1[2H])C&gt;</td>\n",
       "      <td>{'mz': [56.0496, 58.0653, 60.0557, 68.0244, 70...</td>\n",
       "    </tr>\n",
       "    <tr>\n",
       "      <th>24</th>\n",
       "      <td>8279041</td>\n",
       "      <td>4-Phenyl(4,4-~2~H_2_)butanoic acid</td>\n",
       "      <td>166.096283</td>\n",
       "      <td>C10H10D2O2</td>\n",
       "      <td>[2H]C([2H])(c1ccccc1)CCC(=O)O</td>\n",
       "      <td>InChI=1S/C10H12O2/c11-10(12)8-4-7-9-5-2-1-3-6-...</td>\n",
       "      <td>OBKXEAXTFZPCHS-RJSZUWSASA-N</td>\n",
       "      <td>&lt;Metabolite: [2H]C([2H])(c1ccccc1)CCC(=O)O&gt;</td>\n",
       "      <td>{'mz': [56.0496, 58.0653, 60.0557, 68.0244, 70...</td>\n",
       "    </tr>\n",
       "    <tr>\n",
       "      <th>25</th>\n",
       "      <td>8283946</td>\n",
       "      <td>(7R)-2,7-Dimethyl-5-oxo-5,6,7,8-tetrahydroimid...</td>\n",
       "      <td>166.097488</td>\n",
       "      <td>C8H12N3O</td>\n",
       "      <td>O=C2N[C@@H](Cc1c[n+](cn12)C)C</td>\n",
       "      <td>InChI=1S/C8H11N3O/c1-6-3-7-4-10(2)5-11(7)8(12)...</td>\n",
       "      <td>OWVAQYQYWYUQKD-ZCFIWIBFSA-O</td>\n",
       "      <td>&lt;Metabolite: O=C2N[C@@H](Cc1c[n+](cn12)C)C&gt;</td>\n",
       "      <td>{'mz': [56.0496, 58.0653, 60.0557, 68.0244, 70...</td>\n",
       "    </tr>\n",
       "    <tr>\n",
       "      <th>26</th>\n",
       "      <td>8686656</td>\n",
       "      <td>Phenyl(~2~H_2_)methyl propionate</td>\n",
       "      <td>166.096283</td>\n",
       "      <td>C10H10D2O2</td>\n",
       "      <td>[2H]C([2H])(OC(=O)CC)c1ccccc1</td>\n",
       "      <td>InChI=1S/C10H12O2/c1-2-10(11)12-8-9-6-4-3-5-7-...</td>\n",
       "      <td>VHOMAPWVLKRQAZ-MGVXTIMCSA-N</td>\n",
       "      <td>&lt;Metabolite: [2H]C([2H])(OC(=O)CC)c1ccccc1&gt;</td>\n",
       "      <td>{'mz': [56.0496, 58.0653, 60.0557, 68.0244, 70...</td>\n",
       "    </tr>\n",
       "    <tr>\n",
       "      <th>27</th>\n",
       "      <td>9183468</td>\n",
       "      <td>8,8,8-Trifluoro-1-octene</td>\n",
       "      <td>166.096939</td>\n",
       "      <td>C8H13F3</td>\n",
       "      <td>FC(F)(F)CCCCCC=C</td>\n",
       "      <td>InChI=1S/C8H13F3/c1-2-3-4-5-6-7-8(9,10)11/h2H,...</td>\n",
       "      <td>DHJCMDIDXIUWQC-UHFFFAOYSA-N</td>\n",
       "      <td>&lt;Metabolite: FC(F)(F)CCCCCC=C&gt;</td>\n",
       "      <td>{'mz': [56.0496, 58.0653, 60.0557, 68.0244, 70...</td>\n",
       "    </tr>\n",
       "    <tr>\n",
       "      <th>28</th>\n",
       "      <td>9205349</td>\n",
       "      <td>(1Z)-2-Hydroxy-4-(2-vinyl-1-aziridinyl)-1-bute...</td>\n",
       "      <td>166.097488</td>\n",
       "      <td>C8H12N3O</td>\n",
       "      <td>N#[N+]/C=C(\\O)CCN1C(\\C=C)C1</td>\n",
       "      <td>InChI=1S/C8H11N3O/c1-2-7-6-11(7)4-3-8(12)5-10-...</td>\n",
       "      <td>CMZGFYUWDAFNLQ-YVMONPNESA-O</td>\n",
       "      <td>&lt;Metabolite: N#[N+]/C=C(\\O)CCN1C(\\C=C)C1&gt;</td>\n",
       "      <td>{'mz': [56.0496, 58.0653, 60.0557, 68.0244, 70...</td>\n",
       "    </tr>\n",
       "    <tr>\n",
       "      <th>29</th>\n",
       "      <td>9259387</td>\n",
       "      <td>(1R,2R)-1,2-Diazidocyclohexane</td>\n",
       "      <td>166.096695</td>\n",
       "      <td>C6H10N6</td>\n",
       "      <td>C1CCC(C(C1)N=[N+]=[N-])N=[N+]=[N-]</td>\n",
       "      <td>InChI=1S/C6H10N6/c7-11-9-5-3-1-2-4-6(5)10-12-8...</td>\n",
       "      <td>VVOKGDAKFPYWTN-UHFFFAOYSA-N</td>\n",
       "      <td>&lt;Metabolite: C1CCC(C(C1)N=[N+]=[N-])N=[N+]=[N-]&gt;</td>\n",
       "      <td>{'mz': [56.0496, 58.0653, 60.0557, 68.0244, 70...</td>\n",
       "    </tr>\n",
       "    <tr>\n",
       "      <th>32</th>\n",
       "      <td>9644103</td>\n",
       "      <td>1-Allyl-2-hydroxy-1,4,5,6-tetrahydro-3-pyridin...</td>\n",
       "      <td>166.097488</td>\n",
       "      <td>C8H12N3O</td>\n",
       "      <td>N#[N+]/C1=C(\\O)N(C\\C=C)CCC1</td>\n",
       "      <td>InChI=1S/C8H11N3O/c1-2-5-11-6-3-4-7(10-9)8(11)...</td>\n",
       "      <td>NWSXOBPNOCAVPH-UHFFFAOYSA-O</td>\n",
       "      <td>&lt;Metabolite: N#[N+]/C1=C(\\O)N(C\\C=C)CCC1&gt;</td>\n",
       "      <td>{'mz': [56.0496, 58.0653, 60.0557, 68.0244, 70...</td>\n",
       "    </tr>\n",
       "    <tr>\n",
       "      <th>33</th>\n",
       "      <td>10277448</td>\n",
       "      <td>4-Ethyl-1,1,1-trifluoro-3-hexene</td>\n",
       "      <td>166.096939</td>\n",
       "      <td>C8H13F3</td>\n",
       "      <td>CCC(=CCC(F)(F)F)CC</td>\n",
       "      <td>InChI=1S/C8H13F3/c1-3-7(4-2)5-6-8(9,10)11/h5H,...</td>\n",
       "      <td>RRIGVUIVAVTIAW-UHFFFAOYSA-N</td>\n",
       "      <td>&lt;Metabolite: CCC(=CCC(F)(F)F)CC&gt;</td>\n",
       "      <td>{'mz': [56.0496, 58.0653, 60.0557, 68.0244, 70...</td>\n",
       "    </tr>\n",
       "    <tr>\n",
       "      <th>34</th>\n",
       "      <td>10325500</td>\n",
       "      <td>trans-1-Methyl-4-(trifluoromethyl)cyclohexane</td>\n",
       "      <td>166.096939</td>\n",
       "      <td>C8H13F3</td>\n",
       "      <td>C[C@H]1CC[C@@H](CC1)C(F)(F)F</td>\n",
       "      <td>InChI=1S/C8H13F3/c1-6-2-4-7(5-3-6)8(9,10)11/h6...</td>\n",
       "      <td>YZKFCSOACWTUBF-LJGSYFOKSA-N</td>\n",
       "      <td>&lt;Metabolite: C[C@H]1CC[C@@H](CC1)C(F)(F)F&gt;</td>\n",
       "      <td>{'mz': [56.0496, 58.0653, 60.0557, 68.0244, 70...</td>\n",
       "    </tr>\n",
       "    <tr>\n",
       "      <th>35</th>\n",
       "      <td>10329630</td>\n",
       "      <td>(2E)-1,1,1-Trifluoro-2-octene</td>\n",
       "      <td>166.096939</td>\n",
       "      <td>C8H13F3</td>\n",
       "      <td>CCCCC/C=C/C(F)(F)F</td>\n",
       "      <td>InChI=1S/C8H13F3/c1-2-3-4-5-6-7-8(9,10)11/h6-7...</td>\n",
       "      <td>WLPUOOBRPFNZGU-VOTSOKGWSA-N</td>\n",
       "      <td>&lt;Metabolite: CCCCC/C=C/C(F)(F)F&gt;</td>\n",
       "      <td>{'mz': [56.0496, 58.0653, 60.0557, 68.0244, 70...</td>\n",
       "    </tr>\n",
       "    <tr>\n",
       "      <th>36</th>\n",
       "      <td>10555019</td>\n",
       "      <td>1-[(2E)-2-(Hydroxyimino)ethyl]-2-(methylamino)...</td>\n",
       "      <td>166.097488</td>\n",
       "      <td>C8H12N3O</td>\n",
       "      <td>CNc1cccc[n+]1C\\C=N\\O</td>\n",
       "      <td>InChI=1S/C8H11N3O/c1-9-8-4-2-3-6-11(8)7-5-10-1...</td>\n",
       "      <td>VZVVCOLTHLIZRQ-BJMVGYQFSA-O</td>\n",
       "      <td>&lt;Metabolite: CNc1cccc[n+]1C\\C=N\\O&gt;</td>\n",
       "      <td>{'mz': [56.0496, 58.0653, 60.0557, 68.0244, 70...</td>\n",
       "    </tr>\n",
       "    <tr>\n",
       "      <th>37</th>\n",
       "      <td>10593687</td>\n",
       "      <td>N~2~-Allyl-1,3,5-triazine-2,4,6-triamine</td>\n",
       "      <td>166.096695</td>\n",
       "      <td>C6H10N6</td>\n",
       "      <td>Nc1nc(N)nc(NCC=C)n1</td>\n",
       "      <td>InChI=1S/C6H10N6/c1-2-3-9-6-11-4(7)10-5(8)12-6...</td>\n",
       "      <td>NXUJLMSOHYVBMB-UHFFFAOYSA-N</td>\n",
       "      <td>&lt;Metabolite: Nc1nc(N)nc(NCC=C)n1&gt;</td>\n",
       "      <td>{'mz': [56.0496, 58.0653, 60.0557, 68.0244, 70...</td>\n",
       "    </tr>\n",
       "    <tr>\n",
       "      <th>40</th>\n",
       "      <td>21413968</td>\n",
       "      <td>1,1-Diazidocyclohexane</td>\n",
       "      <td>166.096695</td>\n",
       "      <td>C6H10N6</td>\n",
       "      <td>C1CCC(CC1)(N=[N+]=[N-])N=[N+]=[N-]</td>\n",
       "      <td>InChI=1S/C6H10N6/c7-11-9-6(10-12-8)4-2-1-3-5-6...</td>\n",
       "      <td>OFGGSBHRDVLPDE-UHFFFAOYSA-N</td>\n",
       "      <td>&lt;Metabolite: C1CCC(CC1)(N=[N+]=[N-])N=[N+]=[N-]&gt;</td>\n",
       "      <td>{'mz': [56.0496, 58.0653, 60.0557, 68.0244, 70...</td>\n",
       "    </tr>\n",
       "    <tr>\n",
       "      <th>43</th>\n",
       "      <td>23210302</td>\n",
       "      <td>1,5,6,7-Tetrahydro-2,4-pteridinediamine</td>\n",
       "      <td>166.096695</td>\n",
       "      <td>C6H10N6</td>\n",
       "      <td>C1CNc2c(c(nc(n2)N)N)N1</td>\n",
       "      <td>InChI=1S/C6H10N6/c7-4-3-5(10-2-1-9-3)12-6(8)11...</td>\n",
       "      <td>WUAKSYDPKFNCMY-UHFFFAOYSA-N</td>\n",
       "      <td>&lt;Metabolite: C1CNc2c(c(nc(n2)N)N)N1&gt;</td>\n",
       "      <td>{'mz': [56.0496, 58.0653, 60.0557, 68.0244, 70...</td>\n",
       "    </tr>\n",
       "    <tr>\n",
       "      <th>44</th>\n",
       "      <td>23976553</td>\n",
       "      <td>1-(4-Methoxyphenyl)-1-(2,2-~2~H_2_)propanone</td>\n",
       "      <td>166.096283</td>\n",
       "      <td>C10H10D2O2</td>\n",
       "      <td>[2H]C([2H])(C)C(=O)c1ccc(cc1)OC</td>\n",
       "      <td>InChI=1S/C10H12O2/c1-3-10(11)8-4-6-9(12-2)7-5-...</td>\n",
       "      <td>ZJVAWPKTWVFKHG-SMZGMGDZSA-N</td>\n",
       "      <td>&lt;Metabolite: [2H]C([2H])(C)C(=O)c1ccc(cc1)OC&gt;</td>\n",
       "      <td>{'mz': [56.0496, 58.0653, 60.0557, 68.0244, 70...</td>\n",
       "    </tr>\n",
       "    <tr>\n",
       "      <th>45</th>\n",
       "      <td>24818618</td>\n",
       "      <td>1-[2-(Carbamoylamino)ethyl]pyridinium</td>\n",
       "      <td>166.097488</td>\n",
       "      <td>C8H12N3O</td>\n",
       "      <td>c1cc[n+](cc1)CCNC(=O)N</td>\n",
       "      <td>InChI=1S/C8H11N3O/c9-8(12)10-4-7-11-5-2-1-3-6-...</td>\n",
       "      <td>KHYSZCQHVDLOMH-UHFFFAOYSA-O</td>\n",
       "      <td>&lt;Metabolite: c1cc[n+](cc1)CCNC(=O)N&gt;</td>\n",
       "      <td>{'mz': [56.0496, 58.0653, 60.0557, 68.0244, 70...</td>\n",
       "    </tr>\n",
       "    <tr>\n",
       "      <th>46</th>\n",
       "      <td>25039347</td>\n",
       "      <td>1-Allyl-4-[(E)-(hydroxyimino)methyl]-3-methyl-...</td>\n",
       "      <td>166.097488</td>\n",
       "      <td>C8H12N3O</td>\n",
       "      <td>C[n+]1cn(cc1/C=N/O)CC=C</td>\n",
       "      <td>InChI=1S/C8H11N3O/c1-3-4-11-6-8(5-9-12)10(2)7-...</td>\n",
       "      <td>YJJHIVWMXSDPAQ-WEVVVXLNSA-O</td>\n",
       "      <td>&lt;Metabolite: C[n+]1cn(cc1/C=N/O)CC=C&gt;</td>\n",
       "      <td>{'mz': [56.0496, 58.0653, 60.0557, 68.0244, 70...</td>\n",
       "    </tr>\n",
       "    <tr>\n",
       "      <th>47</th>\n",
       "      <td>25072127</td>\n",
       "      <td>1',5'-Dihydro-4'H-1,4'-bipyrazole-4,4'-diamine</td>\n",
       "      <td>166.096695</td>\n",
       "      <td>C6H10N6</td>\n",
       "      <td>c1c(cn(n1)C2(CNN=C2)N)N</td>\n",
       "      <td>InChI=1S/C6H10N6/c7-5-1-11-12(2-5)6(8)3-9-10-4...</td>\n",
       "      <td>DNSNZNOHHYQRQB-UHFFFAOYSA-N</td>\n",
       "      <td>&lt;Metabolite: c1c(cn(n1)C2(CNN=C2)N)N&gt;</td>\n",
       "      <td>{'mz': [56.0496, 58.0653, 60.0557, 68.0244, 70...</td>\n",
       "    </tr>\n",
       "    <tr>\n",
       "      <th>48</th>\n",
       "      <td>25072128</td>\n",
       "      <td>1',5'-Dihydro-1H,4'H-3,4'-bipyrazole-4,4'-diamine</td>\n",
       "      <td>166.096695</td>\n",
       "      <td>C6H10N6</td>\n",
       "      <td>c1c(c(n[nH]1)C2(CNN=C2)N)N</td>\n",
       "      <td>InChI=1S/C6H10N6/c7-4-1-9-12-5(4)6(8)2-10-11-3...</td>\n",
       "      <td>VKRNUDPGGIZKTO-UHFFFAOYSA-N</td>\n",
       "      <td>&lt;Metabolite: c1c(c(n[nH]1)C2(CNN=C2)N)N&gt;</td>\n",
       "      <td>{'mz': [56.0496, 58.0653, 60.0557, 68.0244, 70...</td>\n",
       "    </tr>\n",
       "    <tr>\n",
       "      <th>49</th>\n",
       "      <td>32748351</td>\n",
       "      <td>(2E)-1-Methyl-N-(1H-tetrazol-5-yl)-2-pyrrolidi...</td>\n",
       "      <td>166.096695</td>\n",
       "      <td>C6H10N6</td>\n",
       "      <td>CN\\1CCC/C1=N\\c2[nH]nnn2</td>\n",
       "      <td>InChI=1S/C6H10N6/c1-12-4-2-3-5(12)7-6-8-10-11-...</td>\n",
       "      <td>USJMNMBIPMIMEA-FNORWQNLSA-N</td>\n",
       "      <td>&lt;Metabolite: CN\\1CCC/C1=N\\c2[nH]nnn2&gt;</td>\n",
       "      <td>{'mz': [56.0496, 58.0653, 60.0557, 68.0244, 70...</td>\n",
       "    </tr>\n",
       "    <tr>\n",
       "      <th>50</th>\n",
       "      <td>35141708</td>\n",
       "      <td>1,1,1-Trifluoro-2-octene</td>\n",
       "      <td>166.096939</td>\n",
       "      <td>C8H13F3</td>\n",
       "      <td>CCCCCC=CC(F)(F)F</td>\n",
       "      <td>InChI=1S/C8H13F3/c1-2-3-4-5-6-7-8(9,10)11/h6-7...</td>\n",
       "      <td>WLPUOOBRPFNZGU-UHFFFAOYSA-N</td>\n",
       "      <td>&lt;Metabolite: CCCCCC=CC(F)(F)F&gt;</td>\n",
       "      <td>{'mz': [56.0496, 58.0653, 60.0557, 68.0244, 70...</td>\n",
       "    </tr>\n",
       "    <tr>\n",
       "      <th>51</th>\n",
       "      <td>35490792</td>\n",
       "      <td>4-(Aminomethyl)-6-methyl-1,6-dihydropyrazolo[3...</td>\n",
       "      <td>166.096695</td>\n",
       "      <td>C6H10N6</td>\n",
       "      <td>Cn1c2c(c(n1)CN)c(n[nH]2)N</td>\n",
       "      <td>InChI=1S/C6H10N6/c1-12-6-4(3(2-7)11-12)5(8)9-1...</td>\n",
       "      <td>WIKWAPOYEDPFBJ-UHFFFAOYSA-N</td>\n",
       "      <td>&lt;Metabolite: Cn1c2c(c(n1)CN)c(n[nH]2)N&gt;</td>\n",
       "      <td>{'mz': [56.0496, 58.0653, 60.0557, 68.0244, 70...</td>\n",
       "    </tr>\n",
       "    <tr>\n",
       "      <th>52</th>\n",
       "      <td>35909103</td>\n",
       "      <td>3-[5-Amino-3-(methylamino)-1H-1,2,4-triazol-1-...</td>\n",
       "      <td>166.096695</td>\n",
       "      <td>C6H10N6</td>\n",
       "      <td>CNc1nc(n(n1)CCC#N)N</td>\n",
       "      <td>InChI=1S/C6H10N6/c1-9-6-10-5(8)12(11-6)4-2-3-7...</td>\n",
       "      <td>GDSKFPNJLFEPDU-UHFFFAOYSA-N</td>\n",
       "      <td>&lt;Metabolite: CNc1nc(n(n1)CCC#N)N&gt;</td>\n",
       "      <td>{'mz': [56.0496, 58.0653, 60.0557, 68.0244, 70...</td>\n",
       "    </tr>\n",
       "    <tr>\n",
       "      <th>53</th>\n",
       "      <td>35914361</td>\n",
       "      <td>5-[(2-Propyn-1-ylamino)methyl]-4H-1,2,4-triazo...</td>\n",
       "      <td>166.096695</td>\n",
       "      <td>C6H10N6</td>\n",
       "      <td>C#CCNCc1nnc(n1N)N</td>\n",
       "      <td>InChI=1S/C6H10N6/c1-2-3-9-4-5-10-11-6(7)12(5)8...</td>\n",
       "      <td>PSSJZEHYRTTXTN-UHFFFAOYSA-N</td>\n",
       "      <td>&lt;Metabolite: C#CCNCc1nnc(n1N)N&gt;</td>\n",
       "      <td>{'mz': [56.0496, 58.0653, 60.0557, 68.0244, 70...</td>\n",
       "    </tr>\n",
       "    <tr>\n",
       "      <th>54</th>\n",
       "      <td>37494071</td>\n",
       "      <td>1-(3,5-Dimethyl-3H-imidazo[1,2-d]tetrazol-6-yl...</td>\n",
       "      <td>166.096695</td>\n",
       "      <td>C6H10N6</td>\n",
       "      <td>Cc1c(n2c(n1)n(nn2)C)CN</td>\n",
       "      <td>InChI=1S/C6H10N6/c1-4-5(3-7)12-6(8-4)11(2)9-10...</td>\n",
       "      <td>ULTYNUCVWYUVFW-UHFFFAOYSA-N</td>\n",
       "      <td>&lt;Metabolite: Cc1c(n2c(n1)n(nn2)C)CN&gt;</td>\n",
       "      <td>{'mz': [56.0496, 58.0653, 60.0557, 68.0244, 70...</td>\n",
       "    </tr>\n",
       "    <tr>\n",
       "      <th>55</th>\n",
       "      <td>37494072</td>\n",
       "      <td>1-(5-Methyl-3H-imidazo[1,2-d]tetrazol-6-yl)eth...</td>\n",
       "      <td>166.096695</td>\n",
       "      <td>C6H10N6</td>\n",
       "      <td>Cc1c(n2c(n1)[nH]nn2)C(C)N</td>\n",
       "      <td>InChI=1S/C6H10N6/c1-3(7)5-4(2)8-6-9-10-11-12(5...</td>\n",
       "      <td>SUEZFUFFIYZDEJ-UHFFFAOYSA-N</td>\n",
       "      <td>&lt;Metabolite: Cc1c(n2c(n1)[nH]nn2)C(C)N&gt;</td>\n",
       "      <td>{'mz': [56.0496, 58.0653, 60.0557, 68.0244, 70...</td>\n",
       "    </tr>\n",
       "    <tr>\n",
       "      <th>56</th>\n",
       "      <td>37552771</td>\n",
       "      <td>5,6,7,8-Tetrahydro[1,2,4]triazolo[4,3-a]pyrazi...</td>\n",
       "      <td>166.096695</td>\n",
       "      <td>C6H10N6</td>\n",
       "      <td>C1Cn2c(nnc2C(=N)N)CN1</td>\n",
       "      <td>InChI=1S/C6H10N6/c7-5(8)6-11-10-4-3-9-1-2-12(4...</td>\n",
       "      <td>XXFSLZGHAPZHIQ-UHFFFAOYSA-N</td>\n",
       "      <td>&lt;Metabolite: C1Cn2c(nnc2C(=N)N)CN1&gt;</td>\n",
       "      <td>{'mz': [56.0496, 58.0653, 60.0557, 68.0244, 70...</td>\n",
       "    </tr>\n",
       "    <tr>\n",
       "      <th>57</th>\n",
       "      <td>37662917</td>\n",
       "      <td>2-(5,6-Dihydro-4H-imidazo[1,2-b][1,2,4]triazol...</td>\n",
       "      <td>166.096695</td>\n",
       "      <td>C6H10N6</td>\n",
       "      <td>C1Cn2c(nc(n2)CC(=N)N)N1</td>\n",
       "      <td>InChI=1S/C6H10N6/c7-4(8)3-5-10-6-9-1-2-12(6)11...</td>\n",
       "      <td>JUPDNPMCMFHTRI-UHFFFAOYSA-N</td>\n",
       "      <td>&lt;Metabolite: C1Cn2c(nc(n2)CC(=N)N)N1&gt;</td>\n",
       "      <td>{'mz': [56.0496, 58.0653, 60.0557, 68.0244, 70...</td>\n",
       "    </tr>\n",
       "    <tr>\n",
       "      <th>58</th>\n",
       "      <td>37664172</td>\n",
       "      <td>4-Methyl-5,6-dihydro-4H-imidazo[1,2-b][1,2,4]t...</td>\n",
       "      <td>166.096695</td>\n",
       "      <td>C6H10N6</td>\n",
       "      <td>CN1CCn2c1nc(n2)C(=N)N</td>\n",
       "      <td>InChI=1S/C6H10N6/c1-11-2-3-12-6(11)9-5(10-12)4...</td>\n",
       "      <td>ODLGAIZOTSRFHI-UHFFFAOYSA-N</td>\n",
       "      <td>&lt;Metabolite: CN1CCn2c1nc(n2)C(=N)N&gt;</td>\n",
       "      <td>{'mz': [56.0496, 58.0653, 60.0557, 68.0244, 70...</td>\n",
       "    </tr>\n",
       "    <tr>\n",
       "      <th>59</th>\n",
       "      <td>40247223</td>\n",
       "      <td>3-[Methyl(1-methyl-1H-tetrazol-5-yl)amino]prop...</td>\n",
       "      <td>166.096695</td>\n",
       "      <td>C6H10N6</td>\n",
       "      <td>Cn1c(nnn1)N(C)CCC#N</td>\n",
       "      <td>InChI=1S/C6H10N6/c1-11(5-3-4-7)6-8-9-10-12(6)2...</td>\n",
       "      <td>LZENEWPYNWXTPB-UHFFFAOYSA-N</td>\n",
       "      <td>&lt;Metabolite: Cn1c(nnn1)N(C)CCC#N&gt;</td>\n",
       "      <td>{'mz': [56.0496, 58.0653, 60.0557, 68.0244, 70...</td>\n",
       "    </tr>\n",
       "    <tr>\n",
       "      <th>60</th>\n",
       "      <td>40274262</td>\n",
       "      <td>N-(1H-Tetrazol-5-ylmethyl)cyclopropanecarboxim...</td>\n",
       "      <td>166.096695</td>\n",
       "      <td>C6H10N6</td>\n",
       "      <td>C1CC1C(=N)NCc2[nH]nnn2</td>\n",
       "      <td>InChI=1S/C6H10N6/c7-6(4-1-2-4)8-3-5-9-11-12-10...</td>\n",
       "      <td>IREYIQUOKZKYNR-UHFFFAOYSA-N</td>\n",
       "      <td>&lt;Metabolite: C1CC1C(=N)NCc2[nH]nnn2&gt;</td>\n",
       "      <td>{'mz': [56.0496, 58.0653, 60.0557, 68.0244, 70...</td>\n",
       "    </tr>\n",
       "    <tr>\n",
       "      <th>61</th>\n",
       "      <td>41386778</td>\n",
       "      <td>5-(1-Amino-3-butyn-1-yl)-4H-1,2,4-triazole-3,4...</td>\n",
       "      <td>166.096695</td>\n",
       "      <td>C6H10N6</td>\n",
       "      <td>C#CCC(c1nnc(n1N)N)N</td>\n",
       "      <td>InChI=1S/C6H10N6/c1-2-3-4(7)5-10-11-6(8)12(5)9...</td>\n",
       "      <td>FGXDFKOQUVJSGQ-UHFFFAOYSA-N</td>\n",
       "      <td>&lt;Metabolite: C#CCC(c1nnc(n1N)N)N&gt;</td>\n",
       "      <td>{'mz': [56.0496, 58.0653, 60.0557, 68.0244, 70...</td>\n",
       "    </tr>\n",
       "    <tr>\n",
       "      <th>62</th>\n",
       "      <td>41946734</td>\n",
       "      <td>(2E)-2-[(1-Methyl-1H-pyrazol-5-yl)methylene]hy...</td>\n",
       "      <td>166.096695</td>\n",
       "      <td>C6H10N6</td>\n",
       "      <td>Cn1c(ccn1)/C=N/NC(=N)N</td>\n",
       "      <td>InChI=1S/C6H10N6/c1-12-5(2-3-10-12)4-9-11-6(7)...</td>\n",
       "      <td>WXKOZGPFRGWHJP-RUDMXATFSA-N</td>\n",
       "      <td>&lt;Metabolite: Cn1c(ccn1)/C=N/NC(=N)N&gt;</td>\n",
       "      <td>{'mz': [56.0496, 58.0653, 60.0557, 68.0244, 70...</td>\n",
       "    </tr>\n",
       "    <tr>\n",
       "      <th>63</th>\n",
       "      <td>41976095</td>\n",
       "      <td>N-(4H-1,2,4-Triazol-3-ylmethyl)-4,5-dihydro-1H...</td>\n",
       "      <td>166.096695</td>\n",
       "      <td>C6H10N6</td>\n",
       "      <td>c1[nH]c(nn1)CNC2=NCCN2</td>\n",
       "      <td>InChI=1S/C6H10N6/c1-2-8-6(7-1)9-3-5-10-4-11-12...</td>\n",
       "      <td>QVPIJENYPMKZFV-UHFFFAOYSA-N</td>\n",
       "      <td>&lt;Metabolite: c1[nH]c(nn1)CNC2=NCCN2&gt;</td>\n",
       "      <td>{'mz': [56.0496, 58.0653, 60.0557, 68.0244, 70...</td>\n",
       "    </tr>\n",
       "  </tbody>\n",
       "</table>\n",
       "</div>"
      ],
      "text/plain": [
       "    Identifier                                       CompoundName  \\\n",
       "2        43550                                         Cyromazine   \n",
       "5       235471  6-Amino-N'-ethyl-1,2,4-triazine-5-carboximidamide   \n",
       "6       262957    1-Methyl-N-(2H-tetrazol-5-yl)-2-pyrrolidinimine   \n",
       "7       363141      1-(2-Hydrazino-2-oxoethyl)-4-methylpyridinium   \n",
       "8       383171            1-Ethyl-4-(hydrazinocarbonyl)pyridinium   \n",
       "9       385528  1-(4,5-Dihydro-1H-imidazol-2-yl)-1H-pyrazole-3...   \n",
       "10      497651          1-(Carbamoylamino)-3,5-dimethylpyridinium   \n",
       "11     1439915                 2-(Isonicotinoylamino)ethanaminium   \n",
       "12     2041529                           1,1,2-Trifluoro-1-octene   \n",
       "13     2062282    4-CYCLOPROPYL-6-HYDRAZINO-1,3,5-TRIAZIN-2-AMINE   \n",
       "14     2856608         Imino[(4-methoxyphenyl)amino]methanaminium   \n",
       "15     3544002             1-(2-Aminoethyl)-3-carbamoylpyridinium   \n",
       "16     3627513       5-(2-Cyclopentylidenehydrazino)-2H-tetrazole   \n",
       "17     4411424  3a,4,8a,9-Tetrahydro-3H,8H-bis[1,2,3]triazolo[...   \n",
       "18     4532969  7-Hydrazino-5-methyl-1,7-dihydro[1,2,4]triazol...   \n",
       "19     4577773                         2-Octene, 1,1,2-trifluoro-   \n",
       "20     5378403         2-[(3-Pyridinylcarbonyl)amino]ethanaminium   \n",
       "21     5381024           Diamino-N-(3-methoxyphenyl)methaniminium   \n",
       "22     5615239         2-[(2-Pyridinylcarbonyl)amino]ethanaminium   \n",
       "23     8279040                Ethyl 4-methyl(2,6-~2~H_2_)benzoate   \n",
       "24     8279041                 4-Phenyl(4,4-~2~H_2_)butanoic acid   \n",
       "25     8283946  (7R)-2,7-Dimethyl-5-oxo-5,6,7,8-tetrahydroimid...   \n",
       "26     8686656                   Phenyl(~2~H_2_)methyl propionate   \n",
       "27     9183468                           8,8,8-Trifluoro-1-octene   \n",
       "28     9205349  (1Z)-2-Hydroxy-4-(2-vinyl-1-aziridinyl)-1-bute...   \n",
       "29     9259387                     (1R,2R)-1,2-Diazidocyclohexane   \n",
       "32     9644103  1-Allyl-2-hydroxy-1,4,5,6-tetrahydro-3-pyridin...   \n",
       "33    10277448                   4-Ethyl-1,1,1-trifluoro-3-hexene   \n",
       "34    10325500      trans-1-Methyl-4-(trifluoromethyl)cyclohexane   \n",
       "35    10329630                      (2E)-1,1,1-Trifluoro-2-octene   \n",
       "36    10555019  1-[(2E)-2-(Hydroxyimino)ethyl]-2-(methylamino)...   \n",
       "37    10593687           N~2~-Allyl-1,3,5-triazine-2,4,6-triamine   \n",
       "40    21413968                             1,1-Diazidocyclohexane   \n",
       "43    23210302            1,5,6,7-Tetrahydro-2,4-pteridinediamine   \n",
       "44    23976553       1-(4-Methoxyphenyl)-1-(2,2-~2~H_2_)propanone   \n",
       "45    24818618              1-[2-(Carbamoylamino)ethyl]pyridinium   \n",
       "46    25039347  1-Allyl-4-[(E)-(hydroxyimino)methyl]-3-methyl-...   \n",
       "47    25072127     1',5'-Dihydro-4'H-1,4'-bipyrazole-4,4'-diamine   \n",
       "48    25072128  1',5'-Dihydro-1H,4'H-3,4'-bipyrazole-4,4'-diamine   \n",
       "49    32748351  (2E)-1-Methyl-N-(1H-tetrazol-5-yl)-2-pyrrolidi...   \n",
       "50    35141708                           1,1,1-Trifluoro-2-octene   \n",
       "51    35490792  4-(Aminomethyl)-6-methyl-1,6-dihydropyrazolo[3...   \n",
       "52    35909103  3-[5-Amino-3-(methylamino)-1H-1,2,4-triazol-1-...   \n",
       "53    35914361  5-[(2-Propyn-1-ylamino)methyl]-4H-1,2,4-triazo...   \n",
       "54    37494071  1-(3,5-Dimethyl-3H-imidazo[1,2-d]tetrazol-6-yl...   \n",
       "55    37494072  1-(5-Methyl-3H-imidazo[1,2-d]tetrazol-6-yl)eth...   \n",
       "56    37552771  5,6,7,8-Tetrahydro[1,2,4]triazolo[4,3-a]pyrazi...   \n",
       "57    37662917  2-(5,6-Dihydro-4H-imidazo[1,2-b][1,2,4]triazol...   \n",
       "58    37664172  4-Methyl-5,6-dihydro-4H-imidazo[1,2-b][1,2,4]t...   \n",
       "59    40247223  3-[Methyl(1-methyl-1H-tetrazol-5-yl)amino]prop...   \n",
       "60    40274262  N-(1H-Tetrazol-5-ylmethyl)cyclopropanecarboxim...   \n",
       "61    41386778  5-(1-Amino-3-butyn-1-yl)-4H-1,2,4-triazole-3,4...   \n",
       "62    41946734  (2E)-2-[(1-Methyl-1H-pyrazol-5-yl)methylene]hy...   \n",
       "63    41976095  N-(4H-1,2,4-Triazol-3-ylmethyl)-4,5-dihydro-1H...   \n",
       "\n",
       "    MonoisotopicMass MolecularFormula                              SMILES  \\\n",
       "2         166.096695          C6H10N6                C1CC1Nc2nc(nc(n2)N)N   \n",
       "5         166.096695          C6H10N6              CC/N=C(/c1c(nncn1)N)\\N   \n",
       "6         166.096695          C6H10N6                CN1CCCC1=Nc2n[nH]nn2   \n",
       "7         166.097488         C8H12N3O              Cc1cc[n+](cc1)CC(=O)NN   \n",
       "8         166.097488         C8H12N3O              CC[n+]1ccc(cc1)C(=O)NN   \n",
       "9         166.096695          C6H10N6               c1c(nn(c1N)C2=NCCN2)N   \n",
       "10        166.097488         C8H12N3O            Cc1cc(c[n+](c1)NC(=O)N)C   \n",
       "11        166.097488         C8H12N3O              c1cnccc1C(=O)NCC[NH3+]   \n",
       "12        166.096939          C8H13F3                    CCCCCCC(=C(F)F)F   \n",
       "13        166.096695          C6H10N6                C1CC1c2nc(nc(n2)NN)N   \n",
       "14        166.097488         C8H12N3O            COc1ccc(cc1)NC(=[NH2+])N   \n",
       "15        166.097488         C8H12N3O            c1cc(c[n+](c1)CCN)C(=O)N   \n",
       "16        166.096695          C6H10N6              C1CCC(=NNc2n[nH]nn2)C1   \n",
       "17        166.096695          C6H10N6              C1C2CN3C(CN=N3)CN2N=N1   \n",
       "18        166.096695          C6H10N6             CC1=CC(N2C(=N1)N=CN2)NN   \n",
       "19        166.096939          C8H13F3                 CCCCC/C=C(/C(F)F)\\F   \n",
       "20        166.097488         C8H12N3O              O=C(NCC[NH3+])c1cccnc1   \n",
       "21        166.097488         C8H12N3O         O(c1cccc(\\[NH+]=C(/N)N)c1)C   \n",
       "22        166.097488         C8H12N3O              O=C(NCC[NH3+])c1ncccc1   \n",
       "23        166.096283       C10H10D2O2       O=C(OCC)c1c([2H])cc(cc1[2H])C   \n",
       "24        166.096283       C10H10D2O2       [2H]C([2H])(c1ccccc1)CCC(=O)O   \n",
       "25        166.097488         C8H12N3O       O=C2N[C@@H](Cc1c[n+](cn12)C)C   \n",
       "26        166.096283       C10H10D2O2       [2H]C([2H])(OC(=O)CC)c1ccccc1   \n",
       "27        166.096939          C8H13F3                    FC(F)(F)CCCCCC=C   \n",
       "28        166.097488         C8H12N3O         N#[N+]/C=C(\\O)CCN1C(\\C=C)C1   \n",
       "29        166.096695          C6H10N6  C1CCC(C(C1)N=[N+]=[N-])N=[N+]=[N-]   \n",
       "32        166.097488         C8H12N3O         N#[N+]/C1=C(\\O)N(C\\C=C)CCC1   \n",
       "33        166.096939          C8H13F3                  CCC(=CCC(F)(F)F)CC   \n",
       "34        166.096939          C8H13F3        C[C@H]1CC[C@@H](CC1)C(F)(F)F   \n",
       "35        166.096939          C8H13F3                  CCCCC/C=C/C(F)(F)F   \n",
       "36        166.097488         C8H12N3O                CNc1cccc[n+]1C\\C=N\\O   \n",
       "37        166.096695          C6H10N6                 Nc1nc(N)nc(NCC=C)n1   \n",
       "40        166.096695          C6H10N6  C1CCC(CC1)(N=[N+]=[N-])N=[N+]=[N-]   \n",
       "43        166.096695          C6H10N6              C1CNc2c(c(nc(n2)N)N)N1   \n",
       "44        166.096283       C10H10D2O2     [2H]C([2H])(C)C(=O)c1ccc(cc1)OC   \n",
       "45        166.097488         C8H12N3O              c1cc[n+](cc1)CCNC(=O)N   \n",
       "46        166.097488         C8H12N3O             C[n+]1cn(cc1/C=N/O)CC=C   \n",
       "47        166.096695          C6H10N6             c1c(cn(n1)C2(CNN=C2)N)N   \n",
       "48        166.096695          C6H10N6          c1c(c(n[nH]1)C2(CNN=C2)N)N   \n",
       "49        166.096695          C6H10N6             CN\\1CCC/C1=N\\c2[nH]nnn2   \n",
       "50        166.096939          C8H13F3                    CCCCCC=CC(F)(F)F   \n",
       "51        166.096695          C6H10N6           Cn1c2c(c(n1)CN)c(n[nH]2)N   \n",
       "52        166.096695          C6H10N6                 CNc1nc(n(n1)CCC#N)N   \n",
       "53        166.096695          C6H10N6                   C#CCNCc1nnc(n1N)N   \n",
       "54        166.096695          C6H10N6              Cc1c(n2c(n1)n(nn2)C)CN   \n",
       "55        166.096695          C6H10N6           Cc1c(n2c(n1)[nH]nn2)C(C)N   \n",
       "56        166.096695          C6H10N6               C1Cn2c(nnc2C(=N)N)CN1   \n",
       "57        166.096695          C6H10N6             C1Cn2c(nc(n2)CC(=N)N)N1   \n",
       "58        166.096695          C6H10N6               CN1CCn2c1nc(n2)C(=N)N   \n",
       "59        166.096695          C6H10N6                 Cn1c(nnn1)N(C)CCC#N   \n",
       "60        166.096695          C6H10N6              C1CC1C(=N)NCc2[nH]nnn2   \n",
       "61        166.096695          C6H10N6                 C#CCC(c1nnc(n1N)N)N   \n",
       "62        166.096695          C6H10N6              Cn1c(ccn1)/C=N/NC(=N)N   \n",
       "63        166.096695          C6H10N6              c1[nH]c(nn1)CNC2=NCCN2   \n",
       "\n",
       "                                                InChI  \\\n",
       "2   InChI=1S/C6H10N6/c7-4-10-5(8)12-6(11-4)9-3-1-2...   \n",
       "5   InChI=1S/C6H10N6/c1-2-9-5(7)4-6(8)12-11-3-10-4...   \n",
       "6   InChI=1S/C6H10N6/c1-12-4-2-3-5(12)7-6-8-10-11-...   \n",
       "7   InChI=1S/C8H11N3O/c1-7-2-4-11(5-3-7)6-8(12)10-...   \n",
       "8   InChI=1S/C8H11N3O/c1-2-11-5-3-7(4-6-11)8(12)10...   \n",
       "9   InChI=1S/C6H10N6/c7-4-3-5(8)12(11-4)6-9-1-2-10...   \n",
       "10  InChI=1S/C8H11N3O/c1-6-3-7(2)5-11(4-6)10-8(9)1...   \n",
       "11  InChI=1S/C8H11N3O/c9-3-6-11-8(12)7-1-4-10-5-2-...   \n",
       "12  InChI=1S/C8H13F3/c1-2-3-4-5-6-7(9)8(10)11/h2-6...   \n",
       "13  InChI=1S/C6H10N6/c7-5-9-4(3-1-2-3)10-6(11-5)12...   \n",
       "14  InChI=1S/C8H11N3O/c1-12-7-4-2-6(3-5-7)11-8(9)1...   \n",
       "15  InChI=1S/C8H11N3O/c9-3-5-11-4-1-2-7(6-11)8(10)...   \n",
       "16  InChI=1S/C6H10N6/c1-2-4-5(3-1)7-8-6-9-11-12-10...   \n",
       "17  InChI=1S/C6H10N6/c1-5-3-12-6(2-8-10-12)4-11(5)...   \n",
       "18  InChI=1S/C6H10N6/c1-4-2-5(11-7)12-6(10-4)8-3-9...   \n",
       "19  InChI=1S/C8H13F3/c1-2-3-4-5-6-7(9)8(10)11/h6,8...   \n",
       "20  InChI=1S/C8H11N3O/c9-3-5-11-8(12)7-2-1-4-10-6-...   \n",
       "21  InChI=1S/C8H11N3O/c1-12-7-4-2-3-6(5-7)11-8(9)1...   \n",
       "22  InChI=1S/C8H11N3O/c9-4-6-11-8(12)7-3-1-2-5-10-...   \n",
       "23  InChI=1S/C10H12O2/c1-3-12-10(11)9-6-4-8(2)5-7-...   \n",
       "24  InChI=1S/C10H12O2/c11-10(12)8-4-7-9-5-2-1-3-6-...   \n",
       "25  InChI=1S/C8H11N3O/c1-6-3-7-4-10(2)5-11(7)8(12)...   \n",
       "26  InChI=1S/C10H12O2/c1-2-10(11)12-8-9-6-4-3-5-7-...   \n",
       "27  InChI=1S/C8H13F3/c1-2-3-4-5-6-7-8(9,10)11/h2H,...   \n",
       "28  InChI=1S/C8H11N3O/c1-2-7-6-11(7)4-3-8(12)5-10-...   \n",
       "29  InChI=1S/C6H10N6/c7-11-9-5-3-1-2-4-6(5)10-12-8...   \n",
       "32  InChI=1S/C8H11N3O/c1-2-5-11-6-3-4-7(10-9)8(11)...   \n",
       "33  InChI=1S/C8H13F3/c1-3-7(4-2)5-6-8(9,10)11/h5H,...   \n",
       "34  InChI=1S/C8H13F3/c1-6-2-4-7(5-3-6)8(9,10)11/h6...   \n",
       "35  InChI=1S/C8H13F3/c1-2-3-4-5-6-7-8(9,10)11/h6-7...   \n",
       "36  InChI=1S/C8H11N3O/c1-9-8-4-2-3-6-11(8)7-5-10-1...   \n",
       "37  InChI=1S/C6H10N6/c1-2-3-9-6-11-4(7)10-5(8)12-6...   \n",
       "40  InChI=1S/C6H10N6/c7-11-9-6(10-12-8)4-2-1-3-5-6...   \n",
       "43  InChI=1S/C6H10N6/c7-4-3-5(10-2-1-9-3)12-6(8)11...   \n",
       "44  InChI=1S/C10H12O2/c1-3-10(11)8-4-6-9(12-2)7-5-...   \n",
       "45  InChI=1S/C8H11N3O/c9-8(12)10-4-7-11-5-2-1-3-6-...   \n",
       "46  InChI=1S/C8H11N3O/c1-3-4-11-6-8(5-9-12)10(2)7-...   \n",
       "47  InChI=1S/C6H10N6/c7-5-1-11-12(2-5)6(8)3-9-10-4...   \n",
       "48  InChI=1S/C6H10N6/c7-4-1-9-12-5(4)6(8)2-10-11-3...   \n",
       "49  InChI=1S/C6H10N6/c1-12-4-2-3-5(12)7-6-8-10-11-...   \n",
       "50  InChI=1S/C8H13F3/c1-2-3-4-5-6-7-8(9,10)11/h6-7...   \n",
       "51  InChI=1S/C6H10N6/c1-12-6-4(3(2-7)11-12)5(8)9-1...   \n",
       "52  InChI=1S/C6H10N6/c1-9-6-10-5(8)12(11-6)4-2-3-7...   \n",
       "53  InChI=1S/C6H10N6/c1-2-3-9-4-5-10-11-6(7)12(5)8...   \n",
       "54  InChI=1S/C6H10N6/c1-4-5(3-7)12-6(8-4)11(2)9-10...   \n",
       "55  InChI=1S/C6H10N6/c1-3(7)5-4(2)8-6-9-10-11-12(5...   \n",
       "56  InChI=1S/C6H10N6/c7-5(8)6-11-10-4-3-9-1-2-12(4...   \n",
       "57  InChI=1S/C6H10N6/c7-4(8)3-5-10-6-9-1-2-12(6)11...   \n",
       "58  InChI=1S/C6H10N6/c1-11-2-3-12-6(11)9-5(10-12)4...   \n",
       "59  InChI=1S/C6H10N6/c1-11(5-3-4-7)6-8-9-10-12(6)2...   \n",
       "60  InChI=1S/C6H10N6/c7-6(4-1-2-4)8-3-5-9-11-12-10...   \n",
       "61  InChI=1S/C6H10N6/c1-2-3-4(7)5-10-11-6(8)12(5)9...   \n",
       "62  InChI=1S/C6H10N6/c1-12-5(2-3-10-12)4-9-11-6(7)...   \n",
       "63  InChI=1S/C6H10N6/c1-2-8-6(7-1)9-3-5-10-4-11-12...   \n",
       "\n",
       "                       InChIKey  \\\n",
       "2   LVQDKIWDGQRHTE-UHFFFAOYSA-N   \n",
       "5   YRBYHGOQFSICMA-UHFFFAOYSA-N   \n",
       "6   USJMNMBIPMIMEA-UHFFFAOYSA-N   \n",
       "7   MIJSUODEEVOTMN-UHFFFAOYSA-O   \n",
       "8   PGGNGLNEZGRCTK-UHFFFAOYSA-O   \n",
       "9   HKCLDEHMEDOYBD-UHFFFAOYSA-N   \n",
       "10  DLUNYJGOCYRGFP-UHFFFAOYSA-O   \n",
       "11  BYBVGGPVHPUBSJ-UHFFFAOYSA-O   \n",
       "12  QLMNBUGTGFMBBM-UHFFFAOYSA-N   \n",
       "13  KUUQVVNKTZWOTC-UHFFFAOYSA-N   \n",
       "14  VGFALHATLLBXIT-UHFFFAOYSA-O   \n",
       "15  RAOPRHWSJWNCEQ-UHFFFAOYSA-O   \n",
       "16  HBHWJAVFKBMFTO-UHFFFAOYSA-N   \n",
       "17  DYEYBZXRLVRUBV-UHFFFAOYSA-N   \n",
       "18  ADPQVYRAZIPOCT-UHFFFAOYSA-N   \n",
       "19  GEEONXFLRDFRQZ-SREVYHEPSA-N   \n",
       "20  RTIXFTKDETURTM-UHFFFAOYSA-O   \n",
       "21  GHJPWSGXHWIAEQ-UHFFFAOYSA-O   \n",
       "22  MDEHSSNJTVYAFD-UHFFFAOYSA-O   \n",
       "23  NWPWRAWAUYIELB-QFIQSOQBSA-N   \n",
       "24  OBKXEAXTFZPCHS-RJSZUWSASA-N   \n",
       "25  OWVAQYQYWYUQKD-ZCFIWIBFSA-O   \n",
       "26  VHOMAPWVLKRQAZ-MGVXTIMCSA-N   \n",
       "27  DHJCMDIDXIUWQC-UHFFFAOYSA-N   \n",
       "28  CMZGFYUWDAFNLQ-YVMONPNESA-O   \n",
       "29  VVOKGDAKFPYWTN-UHFFFAOYSA-N   \n",
       "32  NWSXOBPNOCAVPH-UHFFFAOYSA-O   \n",
       "33  RRIGVUIVAVTIAW-UHFFFAOYSA-N   \n",
       "34  YZKFCSOACWTUBF-LJGSYFOKSA-N   \n",
       "35  WLPUOOBRPFNZGU-VOTSOKGWSA-N   \n",
       "36  VZVVCOLTHLIZRQ-BJMVGYQFSA-O   \n",
       "37  NXUJLMSOHYVBMB-UHFFFAOYSA-N   \n",
       "40  OFGGSBHRDVLPDE-UHFFFAOYSA-N   \n",
       "43  WUAKSYDPKFNCMY-UHFFFAOYSA-N   \n",
       "44  ZJVAWPKTWVFKHG-SMZGMGDZSA-N   \n",
       "45  KHYSZCQHVDLOMH-UHFFFAOYSA-O   \n",
       "46  YJJHIVWMXSDPAQ-WEVVVXLNSA-O   \n",
       "47  DNSNZNOHHYQRQB-UHFFFAOYSA-N   \n",
       "48  VKRNUDPGGIZKTO-UHFFFAOYSA-N   \n",
       "49  USJMNMBIPMIMEA-FNORWQNLSA-N   \n",
       "50  WLPUOOBRPFNZGU-UHFFFAOYSA-N   \n",
       "51  WIKWAPOYEDPFBJ-UHFFFAOYSA-N   \n",
       "52  GDSKFPNJLFEPDU-UHFFFAOYSA-N   \n",
       "53  PSSJZEHYRTTXTN-UHFFFAOYSA-N   \n",
       "54  ULTYNUCVWYUVFW-UHFFFAOYSA-N   \n",
       "55  SUEZFUFFIYZDEJ-UHFFFAOYSA-N   \n",
       "56  XXFSLZGHAPZHIQ-UHFFFAOYSA-N   \n",
       "57  JUPDNPMCMFHTRI-UHFFFAOYSA-N   \n",
       "58  ODLGAIZOTSRFHI-UHFFFAOYSA-N   \n",
       "59  LZENEWPYNWXTPB-UHFFFAOYSA-N   \n",
       "60  IREYIQUOKZKYNR-UHFFFAOYSA-N   \n",
       "61  FGXDFKOQUVJSGQ-UHFFFAOYSA-N   \n",
       "62  WXKOZGPFRGWHJP-RUDMXATFSA-N   \n",
       "63  QVPIJENYPMKZFV-UHFFFAOYSA-N   \n",
       "\n",
       "                                          Metabolite  \\\n",
       "2                 <Metabolite: C1CC1Nc2nc(nc(n2)N)N>   \n",
       "5               <Metabolite: CC/N=C(/c1c(nncn1)N)\\N>   \n",
       "6                 <Metabolite: CN1CCCC1=Nc2n[nH]nn2>   \n",
       "7               <Metabolite: Cc1cc[n+](cc1)CC(=O)NN>   \n",
       "8               <Metabolite: CC[n+]1ccc(cc1)C(=O)NN>   \n",
       "9                <Metabolite: c1c(nn(c1N)C2=NCCN2)N>   \n",
       "10            <Metabolite: Cc1cc(c[n+](c1)NC(=O)N)C>   \n",
       "11              <Metabolite: c1cnccc1C(=O)NCC[NH3+]>   \n",
       "12                    <Metabolite: CCCCCCC(=C(F)F)F>   \n",
       "13                <Metabolite: C1CC1c2nc(nc(n2)NN)N>   \n",
       "14            <Metabolite: COc1ccc(cc1)NC(=[NH2+])N>   \n",
       "15            <Metabolite: c1cc(c[n+](c1)CCN)C(=O)N>   \n",
       "16              <Metabolite: C1CCC(=NNc2n[nH]nn2)C1>   \n",
       "17              <Metabolite: C1C2CN3C(CN=N3)CN2N=N1>   \n",
       "18             <Metabolite: CC1=CC(N2C(=N1)N=CN2)NN>   \n",
       "19                 <Metabolite: CCCCC/C=C(/C(F)F)\\F>   \n",
       "20              <Metabolite: O=C(NCC[NH3+])c1cccnc1>   \n",
       "21         <Metabolite: O(c1cccc(\\[NH+]=C(/N)N)c1)C>   \n",
       "22              <Metabolite: O=C(NCC[NH3+])c1ncccc1>   \n",
       "23       <Metabolite: O=C(OCC)c1c([2H])cc(cc1[2H])C>   \n",
       "24       <Metabolite: [2H]C([2H])(c1ccccc1)CCC(=O)O>   \n",
       "25       <Metabolite: O=C2N[C@@H](Cc1c[n+](cn12)C)C>   \n",
       "26       <Metabolite: [2H]C([2H])(OC(=O)CC)c1ccccc1>   \n",
       "27                    <Metabolite: FC(F)(F)CCCCCC=C>   \n",
       "28         <Metabolite: N#[N+]/C=C(\\O)CCN1C(\\C=C)C1>   \n",
       "29  <Metabolite: C1CCC(C(C1)N=[N+]=[N-])N=[N+]=[N-]>   \n",
       "32         <Metabolite: N#[N+]/C1=C(\\O)N(C\\C=C)CCC1>   \n",
       "33                  <Metabolite: CCC(=CCC(F)(F)F)CC>   \n",
       "34        <Metabolite: C[C@H]1CC[C@@H](CC1)C(F)(F)F>   \n",
       "35                  <Metabolite: CCCCC/C=C/C(F)(F)F>   \n",
       "36                <Metabolite: CNc1cccc[n+]1C\\C=N\\O>   \n",
       "37                 <Metabolite: Nc1nc(N)nc(NCC=C)n1>   \n",
       "40  <Metabolite: C1CCC(CC1)(N=[N+]=[N-])N=[N+]=[N-]>   \n",
       "43              <Metabolite: C1CNc2c(c(nc(n2)N)N)N1>   \n",
       "44     <Metabolite: [2H]C([2H])(C)C(=O)c1ccc(cc1)OC>   \n",
       "45              <Metabolite: c1cc[n+](cc1)CCNC(=O)N>   \n",
       "46             <Metabolite: C[n+]1cn(cc1/C=N/O)CC=C>   \n",
       "47             <Metabolite: c1c(cn(n1)C2(CNN=C2)N)N>   \n",
       "48          <Metabolite: c1c(c(n[nH]1)C2(CNN=C2)N)N>   \n",
       "49             <Metabolite: CN\\1CCC/C1=N\\c2[nH]nnn2>   \n",
       "50                    <Metabolite: CCCCCC=CC(F)(F)F>   \n",
       "51           <Metabolite: Cn1c2c(c(n1)CN)c(n[nH]2)N>   \n",
       "52                 <Metabolite: CNc1nc(n(n1)CCC#N)N>   \n",
       "53                   <Metabolite: C#CCNCc1nnc(n1N)N>   \n",
       "54              <Metabolite: Cc1c(n2c(n1)n(nn2)C)CN>   \n",
       "55           <Metabolite: Cc1c(n2c(n1)[nH]nn2)C(C)N>   \n",
       "56               <Metabolite: C1Cn2c(nnc2C(=N)N)CN1>   \n",
       "57             <Metabolite: C1Cn2c(nc(n2)CC(=N)N)N1>   \n",
       "58               <Metabolite: CN1CCn2c1nc(n2)C(=N)N>   \n",
       "59                 <Metabolite: Cn1c(nnn1)N(C)CCC#N>   \n",
       "60              <Metabolite: C1CC1C(=N)NCc2[nH]nnn2>   \n",
       "61                 <Metabolite: C#CCC(c1nnc(n1N)N)N>   \n",
       "62              <Metabolite: Cn1c(ccn1)/C=N/NC(=N)N>   \n",
       "63              <Metabolite: c1[nH]c(nn1)CNC2=NCCN2>   \n",
       "\n",
       "                                                peaks  \n",
       "2   {'mz': [56.0496, 58.0653, 60.0557, 68.0244, 70...  \n",
       "5   {'mz': [56.0496, 58.0653, 60.0557, 68.0244, 70...  \n",
       "6   {'mz': [56.0496, 58.0653, 60.0557, 68.0244, 70...  \n",
       "7   {'mz': [56.0496, 58.0653, 60.0557, 68.0244, 70...  \n",
       "8   {'mz': [56.0496, 58.0653, 60.0557, 68.0244, 70...  \n",
       "9   {'mz': [56.0496, 58.0653, 60.0557, 68.0244, 70...  \n",
       "10  {'mz': [56.0496, 58.0653, 60.0557, 68.0244, 70...  \n",
       "11  {'mz': [56.0496, 58.0653, 60.0557, 68.0244, 70...  \n",
       "12  {'mz': [56.0496, 58.0653, 60.0557, 68.0244, 70...  \n",
       "13  {'mz': [56.0496, 58.0653, 60.0557, 68.0244, 70...  \n",
       "14  {'mz': [56.0496, 58.0653, 60.0557, 68.0244, 70...  \n",
       "15  {'mz': [56.0496, 58.0653, 60.0557, 68.0244, 70...  \n",
       "16  {'mz': [56.0496, 58.0653, 60.0557, 68.0244, 70...  \n",
       "17  {'mz': [56.0496, 58.0653, 60.0557, 68.0244, 70...  \n",
       "18  {'mz': [56.0496, 58.0653, 60.0557, 68.0244, 70...  \n",
       "19  {'mz': [56.0496, 58.0653, 60.0557, 68.0244, 70...  \n",
       "20  {'mz': [56.0496, 58.0653, 60.0557, 68.0244, 70...  \n",
       "21  {'mz': [56.0496, 58.0653, 60.0557, 68.0244, 70...  \n",
       "22  {'mz': [56.0496, 58.0653, 60.0557, 68.0244, 70...  \n",
       "23  {'mz': [56.0496, 58.0653, 60.0557, 68.0244, 70...  \n",
       "24  {'mz': [56.0496, 58.0653, 60.0557, 68.0244, 70...  \n",
       "25  {'mz': [56.0496, 58.0653, 60.0557, 68.0244, 70...  \n",
       "26  {'mz': [56.0496, 58.0653, 60.0557, 68.0244, 70...  \n",
       "27  {'mz': [56.0496, 58.0653, 60.0557, 68.0244, 70...  \n",
       "28  {'mz': [56.0496, 58.0653, 60.0557, 68.0244, 70...  \n",
       "29  {'mz': [56.0496, 58.0653, 60.0557, 68.0244, 70...  \n",
       "32  {'mz': [56.0496, 58.0653, 60.0557, 68.0244, 70...  \n",
       "33  {'mz': [56.0496, 58.0653, 60.0557, 68.0244, 70...  \n",
       "34  {'mz': [56.0496, 58.0653, 60.0557, 68.0244, 70...  \n",
       "35  {'mz': [56.0496, 58.0653, 60.0557, 68.0244, 70...  \n",
       "36  {'mz': [56.0496, 58.0653, 60.0557, 68.0244, 70...  \n",
       "37  {'mz': [56.0496, 58.0653, 60.0557, 68.0244, 70...  \n",
       "40  {'mz': [56.0496, 58.0653, 60.0557, 68.0244, 70...  \n",
       "43  {'mz': [56.0496, 58.0653, 60.0557, 68.0244, 70...  \n",
       "44  {'mz': [56.0496, 58.0653, 60.0557, 68.0244, 70...  \n",
       "45  {'mz': [56.0496, 58.0653, 60.0557, 68.0244, 70...  \n",
       "46  {'mz': [56.0496, 58.0653, 60.0557, 68.0244, 70...  \n",
       "47  {'mz': [56.0496, 58.0653, 60.0557, 68.0244, 70...  \n",
       "48  {'mz': [56.0496, 58.0653, 60.0557, 68.0244, 70...  \n",
       "49  {'mz': [56.0496, 58.0653, 60.0557, 68.0244, 70...  \n",
       "50  {'mz': [56.0496, 58.0653, 60.0557, 68.0244, 70...  \n",
       "51  {'mz': [56.0496, 58.0653, 60.0557, 68.0244, 70...  \n",
       "52  {'mz': [56.0496, 58.0653, 60.0557, 68.0244, 70...  \n",
       "53  {'mz': [56.0496, 58.0653, 60.0557, 68.0244, 70...  \n",
       "54  {'mz': [56.0496, 58.0653, 60.0557, 68.0244, 70...  \n",
       "55  {'mz': [56.0496, 58.0653, 60.0557, 68.0244, 70...  \n",
       "56  {'mz': [56.0496, 58.0653, 60.0557, 68.0244, 70...  \n",
       "57  {'mz': [56.0496, 58.0653, 60.0557, 68.0244, 70...  \n",
       "58  {'mz': [56.0496, 58.0653, 60.0557, 68.0244, 70...  \n",
       "59  {'mz': [56.0496, 58.0653, 60.0557, 68.0244, 70...  \n",
       "60  {'mz': [56.0496, 58.0653, 60.0557, 68.0244, 70...  \n",
       "61  {'mz': [56.0496, 58.0653, 60.0557, 68.0244, 70...  \n",
       "62  {'mz': [56.0496, 58.0653, 60.0557, 68.0244, 70...  \n",
       "63  {'mz': [56.0496, 58.0653, 60.0557, 68.0244, 70...  "
      ]
     },
     "execution_count": 100,
     "metadata": {},
     "output_type": "execute_result"
    }
   ],
   "source": [
    "positive_candidate_dfs[0]"
   ]
  },
  {
   "cell_type": "code",
   "execution_count": 31,
   "metadata": {},
   "outputs": [],
   "source": [
    "from rdkit import RDLogger\n",
    "RDLogger.DisableLog('rdApp.*')"
   ]
  },
  {
   "cell_type": "code",
   "execution_count": 32,
   "metadata": {
    "tags": [
     "positive main loop"
    ]
   },
   "outputs": [
    {
     "name": "stdout",
     "output_type": "stream",
     "text": [
      "Loop Count: 0\n",
      "Loop Count: 1\n",
      "Loop Count: 2\n",
      "Loop Count: 3\n",
      "Loop Count: 4\n",
      "Loop Count: 5\n"
     ]
    },
    {
     "name": "stderr",
     "output_type": "stream",
     "text": [
      "/home/lbarbut/fiora/fiora/MS/spectral_scores.py:8: RuntimeWarning: invalid value encountered in scalar divide\n",
      "  return np.dot(vec, vec_other) / (np.linalg.norm(vec) * np.linalg.norm(vec_other))\n"
     ]
    },
    {
     "name": "stdout",
     "output_type": "stream",
     "text": [
      "Loop Count: 6\n",
      "Loop Count: 7\n",
      "Loop Count: 8\n",
      "Loop Count: 9\n",
      "Loop Count: 10\n",
      "Loop Count: 11\n"
     ]
    },
    {
     "name": "stderr",
     "output_type": "stream",
     "text": [
      "/home/lbarbut/fiora/fiora/MS/spectral_scores.py:8: RuntimeWarning: invalid value encountered in scalar divide\n",
      "  return np.dot(vec, vec_other) / (np.linalg.norm(vec) * np.linalg.norm(vec_other))\n",
      "/home/lbarbut/fiora/fiora/MS/spectral_scores.py:8: RuntimeWarning: invalid value encountered in scalar divide\n",
      "  return np.dot(vec, vec_other) / (np.linalg.norm(vec) * np.linalg.norm(vec_other))\n"
     ]
    },
    {
     "name": "stdout",
     "output_type": "stream",
     "text": [
      "Loop Count: 12\n",
      "Loop Count: 13\n",
      "Loop Count: 14\n",
      "Loop Count: 15\n",
      "Loop Count: 16\n",
      "Loop Count: 17\n",
      "Loop Count: 18\n",
      "Loop Count: 19\n",
      "Loop Count: 20\n",
      "Loop Count: 21\n",
      "Loop Count: 22\n",
      "Loop Count: 23\n",
      "Loop Count: 24\n",
      "Loop Count: 25\n",
      "Loop Count: 26\n",
      "Loop Count: 27\n",
      "Loop Count: 28\n",
      "Loop Count: 29\n",
      "Loop Count: 30\n",
      "Loop Count: 31\n",
      "Loop Count: 32\n",
      "Loop Count: 33\n",
      "Loop Count: 34\n",
      "Loop Count: 35\n",
      "Loop Count: 36\n",
      "Loop Count: 37\n",
      "Loop Count: 38\n",
      "Loop Count: 39\n",
      "Loop Count: 40\n"
     ]
    },
    {
     "name": "stderr",
     "output_type": "stream",
     "text": [
      "/home/lbarbut/fiora/fiora/MS/spectral_scores.py:8: RuntimeWarning: invalid value encountered in scalar divide\n",
      "  return np.dot(vec, vec_other) / (np.linalg.norm(vec) * np.linalg.norm(vec_other))\n"
     ]
    },
    {
     "name": "stdout",
     "output_type": "stream",
     "text": [
      "Loop Count: 41\n",
      "Loop Count: 42\n",
      "Loop Count: 43\n",
      "Loop Count: 44\n",
      "Loop Count: 45\n",
      "Loop Count: 46\n",
      "Loop Count: 47\n",
      "Loop Count: 48\n"
     ]
    },
    {
     "name": "stderr",
     "output_type": "stream",
     "text": [
      "/home/lbarbut/fiora/fiora/MS/spectral_scores.py:8: RuntimeWarning: invalid value encountered in scalar divide\n",
      "  return np.dot(vec, vec_other) / (np.linalg.norm(vec) * np.linalg.norm(vec_other))\n",
      "/home/lbarbut/fiora/fiora/MS/spectral_scores.py:8: RuntimeWarning: invalid value encountered in scalar divide\n",
      "  return np.dot(vec, vec_other) / (np.linalg.norm(vec) * np.linalg.norm(vec_other))\n"
     ]
    },
    {
     "name": "stdout",
     "output_type": "stream",
     "text": [
      "Loop Count: 49\n",
      "Loop Count: 50\n",
      "Loop Count: 51\n",
      "Loop Count: 52\n",
      "Loop Count: 53\n",
      "Loop Count: 54\n",
      "Loop Count: 55\n",
      "Loop Count: 56\n",
      "Loop Count: 57\n",
      "Loop Count: 58\n",
      "Loop Count: 59\n"
     ]
    },
    {
     "name": "stderr",
     "output_type": "stream",
     "text": [
      "/home/lbarbut/fiora/fiora/MS/spectral_scores.py:8: RuntimeWarning: invalid value encountered in scalar divide\n",
      "  return np.dot(vec, vec_other) / (np.linalg.norm(vec) * np.linalg.norm(vec_other))\n"
     ]
    },
    {
     "name": "stdout",
     "output_type": "stream",
     "text": [
      "Loop Count: 60\n",
      "Loop Count: 61\n",
      "Loop Count: 62\n",
      "Loop Count: 63\n",
      "Loop Count: 64\n",
      "Loop Count: 65\n",
      "Loop Count: 66\n",
      "Loop Count: 67\n",
      "Loop Count: 68\n",
      "Loop Count: 69\n",
      "Loop Count: 70\n"
     ]
    },
    {
     "name": "stderr",
     "output_type": "stream",
     "text": [
      "/home/lbarbut/fiora/fiora/MS/spectral_scores.py:8: RuntimeWarning: invalid value encountered in scalar divide\n",
      "  return np.dot(vec, vec_other) / (np.linalg.norm(vec) * np.linalg.norm(vec_other))\n"
     ]
    },
    {
     "name": "stdout",
     "output_type": "stream",
     "text": [
      "Loop Count: 71\n",
      "Loop Count: 72\n",
      "Loop Count: 73\n",
      "Loop Count: 74\n",
      "Loop Count: 75\n",
      "Loop Count: 76\n",
      "Loop Count: 77\n"
     ]
    },
    {
     "name": "stderr",
     "output_type": "stream",
     "text": [
      "/home/lbarbut/fiora/fiora/MS/spectral_scores.py:8: RuntimeWarning: invalid value encountered in scalar divide\n",
      "  return np.dot(vec, vec_other) / (np.linalg.norm(vec) * np.linalg.norm(vec_other))\n"
     ]
    },
    {
     "name": "stdout",
     "output_type": "stream",
     "text": [
      "Loop Count: 78\n",
      "Loop Count: 79\n",
      "Loop Count: 80\n",
      "Loop Count: 81\n",
      "Loop Count: 82\n",
      "Loop Count: 83\n",
      "Loop Count: 84\n",
      "Loop Count: 85\n",
      "Loop Count: 86\n"
     ]
    },
    {
     "name": "stderr",
     "output_type": "stream",
     "text": [
      "/home/lbarbut/fiora/fiora/MS/spectral_scores.py:8: RuntimeWarning: invalid value encountered in scalar divide\n",
      "  return np.dot(vec, vec_other) / (np.linalg.norm(vec) * np.linalg.norm(vec_other))\n"
     ]
    },
    {
     "name": "stdout",
     "output_type": "stream",
     "text": [
      "Loop Count: 87\n",
      "Loop Count: 88\n",
      "Loop Count: 89\n",
      "Loop Count: 90\n",
      "Loop Count: 91\n",
      "Loop Count: 92\n",
      "Loop Count: 93\n",
      "Loop Count: 94\n",
      "Loop Count: 95\n",
      "Loop Count: 96\n",
      "Loop Count: 97\n",
      "Loop Count: 98\n",
      "Loop Count: 99\n",
      "Loop Count: 100\n",
      "Loop Count: 101\n",
      "Loop Count: 102\n",
      "Loop Count: 103\n",
      "Loop Count: 104\n",
      "Loop Count: 105\n",
      "Loop Count: 106\n",
      "Loop Count: 107\n"
     ]
    },
    {
     "name": "stderr",
     "output_type": "stream",
     "text": [
      "/home/lbarbut/fiora/fiora/MS/spectral_scores.py:8: RuntimeWarning: invalid value encountered in scalar divide\n",
      "  return np.dot(vec, vec_other) / (np.linalg.norm(vec) * np.linalg.norm(vec_other))\n",
      "/home/lbarbut/fiora/fiora/MS/spectral_scores.py:8: RuntimeWarning: invalid value encountered in scalar divide\n",
      "  return np.dot(vec, vec_other) / (np.linalg.norm(vec) * np.linalg.norm(vec_other))\n"
     ]
    },
    {
     "name": "stdout",
     "output_type": "stream",
     "text": [
      "Loop Count: 108\n",
      "Loop Count: 109\n",
      "Loop Count: 110\n",
      "Loop Count: 111\n",
      "Loop Count: 112\n",
      "Loop Count: 113\n",
      "Loop Count: 114\n",
      "Loop Count: 115\n",
      "Loop Count: 116\n",
      "Loop Count: 117\n",
      "Loop Count: 118\n",
      "Loop Count: 119\n",
      "Loop Count: 120\n"
     ]
    },
    {
     "name": "stderr",
     "output_type": "stream",
     "text": [
      "/home/lbarbut/fiora/fiora/MS/spectral_scores.py:8: RuntimeWarning: invalid value encountered in scalar divide\n",
      "  return np.dot(vec, vec_other) / (np.linalg.norm(vec) * np.linalg.norm(vec_other))\n"
     ]
    },
    {
     "name": "stdout",
     "output_type": "stream",
     "text": [
      "Loop Count: 121\n",
      "Loop Count: 122\n",
      "Loop Count: 123\n",
      "Loop Count: 124\n",
      "Loop Count: 125\n"
     ]
    },
    {
     "name": "stderr",
     "output_type": "stream",
     "text": [
      "/tmp/ipykernel_3434824/3100877438.py:2: SettingWithCopyWarning: \n",
      "A value is trying to be set on a copy of a slice from a DataFrame.\n",
      "Try using .loc[row_indexer,col_indexer] = value instead\n",
      "\n",
      "See the caveats in the documentation: https://pandas.pydata.org/pandas-docs/stable/user_guide/indexing.html#returning-a-view-versus-a-copy\n",
      "  positive_candidate_dfs[j][\"Score\"] = [{} for i in range(len(positive_candidate_dfs[j]))]\n",
      "/tmp/ipykernel_3434824/3100877438.py:3: SettingWithCopyWarning: \n",
      "A value is trying to be set on a copy of a slice from a DataFrame.\n",
      "Try using .loc[row_indexer,col_indexer] = value instead\n",
      "\n",
      "See the caveats in the documentation: https://pandas.pydata.org/pandas-docs/stable/user_guide/indexing.html#returning-a-view-versus-a-copy\n",
      "  positive_candidate_dfs[j][\"Spectrum\"] = [{} for i in range(len(positive_candidate_dfs[j]))]\n"
     ]
    },
    {
     "name": "stdout",
     "output_type": "stream",
     "text": [
      "Loop Count: 126\n"
     ]
    },
    {
     "name": "stderr",
     "output_type": "stream",
     "text": [
      "/tmp/ipykernel_3434824/3100877438.py:19: SettingWithCopyWarning: \n",
      "A value is trying to be set on a copy of a slice from a DataFrame.\n",
      "Try using .loc[row_indexer,col_indexer] = value instead\n",
      "\n",
      "See the caveats in the documentation: https://pandas.pydata.org/pandas-docs/stable/user_guide/indexing.html#returning-a-view-versus-a-copy\n",
      "  positive_candidate_dfs[j].at[i, \"ExactMolMass\"] = metabolite.ExactMolWeight\n",
      "/tmp/ipykernel_3434824/3100877438.py:20: SettingWithCopyWarning: \n",
      "A value is trying to be set on a copy of a slice from a DataFrame.\n",
      "Try using .loc[row_indexer,col_indexer] = value instead\n",
      "\n",
      "See the caveats in the documentation: https://pandas.pydata.org/pandas-docs/stable/user_guide/indexing.html#returning-a-view-versus-a-copy\n",
      "  positive_candidate_dfs[j].at[i, \"CollisionEnergy\"] = meta[\"collision_energy\"]\n",
      "/tmp/ipykernel_3434824/3100877438.py:23: SettingWithCopyWarning: \n",
      "A value is trying to be set on a copy of a slice from a DataFrame.\n",
      "Try using .loc[row_indexer,col_indexer] = value instead\n",
      "\n",
      "See the caveats in the documentation: https://pandas.pydata.org/pandas-docs/stable/user_guide/indexing.html#returning-a-view-versus-a-copy\n",
      "  positive_candidate_dfs[j].at[i, \"PrecursorProbability\"] = metabolite.match_stats[\"precursor_prob\"]\n",
      "/tmp/ipykernel_3434824/3100877438.py:24: SettingWithCopyWarning: \n",
      "A value is trying to be set on a copy of a slice from a DataFrame.\n",
      "Try using .loc[row_indexer,col_indexer] = value instead\n",
      "\n",
      "See the caveats in the documentation: https://pandas.pydata.org/pandas-docs/stable/user_guide/indexing.html#returning-a-view-versus-a-copy\n",
      "  positive_candidate_dfs[j].at[i, \"Coverage\"] = metabolite.match_stats[\"coverage\"]\n",
      "/tmp/ipykernel_3434824/3100877438.py:40: SettingWithCopyWarning: \n",
      "A value is trying to be set on a copy of a slice from a DataFrame.\n",
      "Try using .loc[row_indexer,col_indexer] = value instead\n",
      "\n",
      "See the caveats in the documentation: https://pandas.pydata.org/pandas-docs/stable/user_guide/indexing.html#returning-a-view-versus-a-copy\n",
      "  positive_candidate_dfs[j][\"Challenge\"] = f\"Challenge-{j + 82}\"\n"
     ]
    }
   ],
   "source": [
    "\n",
    "for j in range (0, len(positive_candidate_dfs)):\n",
    "    positive_candidate_dfs[j][\"Score\"] = [{} for i in range(len(positive_candidate_dfs[j]))]\n",
    "    positive_candidate_dfs[j][\"Spectrum\"] = [{} for i in range(len(positive_candidate_dfs[j]))]\n",
    "    print(\"Loop Count: \" + str(j))\n",
    "    scores_dict = []\n",
    "    for i, row in positive_candidate_dfs[j].iterrows():\n",
    "        if len(scores_dict) > 30:\n",
    "            break\n",
    "        # print(row)\n",
    "        smiles = row[\"SMILES\"]  # SMILES Strings with a '.' in them are problematic\n",
    "        model_path = \"/home/lbarbut/pretrained_models/v0.0.1_merged_depth2.pt\"\n",
    "        meta = {\n",
    "            \"collision_energy\":  NCE_to_eV(35, (row[\"MonoisotopicMass\"] + 1)),\n",
    "            \"instrument\": \"HCD\", \"name\": row[\"CompoundName\"], \"precursor_mode\": \"[M+H]+\"\n",
    "        }\n",
    "        try:\n",
    "            simulated_spectrum, metabolite = simulate_fiora(smiles, model_path, meta)\n",
    "            positive_candidate_dfs[j].at[i, \"Spectrum\"] = simulated_spectrum\n",
    "            positive_candidate_dfs[j].at[i, \"ExactMolMass\"] = metabolite.ExactMolWeight\n",
    "            positive_candidate_dfs[j].at[i, \"CollisionEnergy\"] = meta[\"collision_energy\"]\n",
    "            metabolite.match_fragments_to_peaks(all_positive_challenges[j]['peaks']['mz'], all_positive_challenges[j]['peaks']['intensity'])\n",
    "            # print('match fragments to peaks successful')\n",
    "            positive_candidate_dfs[j].at[i, \"PrecursorProbability\"] = metabolite.match_stats[\"precursor_prob\"]\n",
    "            positive_candidate_dfs[j].at[i, \"Coverage\"] = metabolite.match_stats[\"coverage\"]\n",
    "\n",
    "            score_cosine, cosine_bias = spectral_cosine(simulated_spectrum, all_positive_challenges[j]['peaks'], transform=np.sqrt, with_bias=True)\n",
    "            score_reflection = spectral_reflection_cosine(simulated_spectrum, all_positive_challenges[j]['peaks'], transform=np.sqrt)\n",
    "            score_reweighted, reweighted_bias = reweighted_dot(simulated_spectrum,  all_positive_challenges[j]['peaks'], int_pow=0.5, mz_pow=0.5, with_bias=True)\n",
    "            scores_dict.append({\n",
    "                \"cosine\": {\"score\": score_cosine, \"bias\": cosine_bias},\n",
    "                \"reflection\": {\"score\": score_reflection, \"bias\": None},\n",
    "                \"reweighted\": {\"score\": score_reweighted, \"bias\": reweighted_bias}\n",
    "            })\n",
    "            \n",
    "            # print(scores_dict[-1])\n",
    "            positive_candidate_dfs[j].at[i, \"Score\"] = scores_dict[-1]\n",
    "            if j < 18:\n",
    "                positive_candidate_dfs[j][\"Challenge\"] = f\"Challenge-0{j + 82}\"\n",
    "            else:\n",
    "                positive_candidate_dfs[j][\"Challenge\"] = f\"Challenge-{j + 82}\"\n",
    "            \n",
    "        except:\n",
    "            continue\n"
   ]
  },
  {
   "cell_type": "markdown",
   "metadata": {},
   "source": [
    "simulate_all"
   ]
  },
  {
   "cell_type": "code",
   "execution_count": 19,
   "metadata": {},
   "outputs": [
    {
     "name": "stdout",
     "output_type": "stream",
     "text": [
      "Loop Count: 0\n",
      "simulate all success\n",
      "Loop Count: 1\n",
      "simulate all success\n",
      "Loop Count: 2\n",
      "simulate all success\n",
      "Loop Count: 3\n",
      "simulate all success\n",
      "Loop Count: 4\n",
      "simulate all success\n",
      "Loop Count: 5\n"
     ]
    },
    {
     "name": "stderr",
     "output_type": "stream",
     "text": [
      "/home/lbarbut/fiora/fiora/MS/spectral_scores.py:8: RuntimeWarning: invalid value encountered in scalar divide\n",
      "  return np.dot(vec, vec_other) / (np.linalg.norm(vec) * np.linalg.norm(vec_other))\n",
      "/home/lbarbut/fiora/fiora/MS/spectral_scores.py:92: RuntimeWarning: divide by zero encountered in divide\n",
      "  vec = vec / np.linalg.norm(vec)\n",
      "/home/lbarbut/fiora/fiora/MS/spectral_scores.py:92: RuntimeWarning: invalid value encountered in divide\n",
      "  vec = vec / np.linalg.norm(vec)\n"
     ]
    },
    {
     "name": "stdout",
     "output_type": "stream",
     "text": [
      "simulate all success\n",
      "Loop Count: 6\n",
      "simulate all success\n",
      "Loop Count: 7\n",
      "simulate all success\n",
      "Loop Count: 8\n",
      "simulate all success\n",
      "Loop Count: 9\n",
      "simulate all success\n",
      "Loop Count: 10\n"
     ]
    },
    {
     "name": "stderr",
     "output_type": "stream",
     "text": [
      "/tmp/ipykernel_3434824/3136981537.py:42: FutureWarning: Setting an item of incompatible dtype is deprecated and will raise in a future error of pandas. Value '<Metabolite: CCC(=O)c1ccc(cc1)N>' has dtype incompatible with float64, please explicitly cast to a compatible dtype first.\n",
      "  positive_candidate_dfs[j].at[i, \"Metabolite\"] = metabolite\n",
      "/tmp/ipykernel_3434824/3136981537.py:42: SettingWithCopyWarning: \n",
      "A value is trying to be set on a copy of a slice from a DataFrame\n",
      "\n",
      "See the caveats in the documentation: https://pandas.pydata.org/pandas-docs/stable/user_guide/indexing.html#returning-a-view-versus-a-copy\n",
      "  positive_candidate_dfs[j].at[i, \"Metabolite\"] = metabolite\n"
     ]
    },
    {
     "name": "stdout",
     "output_type": "stream",
     "text": [
      "simulate all success\n",
      "Loop Count: 11\n"
     ]
    },
    {
     "name": "stderr",
     "output_type": "stream",
     "text": [
      "/tmp/ipykernel_3434824/3136981537.py:42: FutureWarning: Setting an item of incompatible dtype is deprecated and will raise in a future error of pandas. Value '<Metabolite: CC/N=c/1\\[nH]/c(=N/C(C)C)/[nH]c(n1)OC>' has dtype incompatible with float64, please explicitly cast to a compatible dtype first.\n",
      "  positive_candidate_dfs[j].at[i, \"Metabolite\"] = metabolite\n",
      "/tmp/ipykernel_3434824/3136981537.py:42: SettingWithCopyWarning: \n",
      "A value is trying to be set on a copy of a slice from a DataFrame\n",
      "\n",
      "See the caveats in the documentation: https://pandas.pydata.org/pandas-docs/stable/user_guide/indexing.html#returning-a-view-versus-a-copy\n",
      "  positive_candidate_dfs[j].at[i, \"Metabolite\"] = metabolite\n",
      "/home/lbarbut/fiora/fiora/MS/spectral_scores.py:8: RuntimeWarning: invalid value encountered in scalar divide\n",
      "  return np.dot(vec, vec_other) / (np.linalg.norm(vec) * np.linalg.norm(vec_other))\n",
      "/home/lbarbut/fiora/fiora/MS/spectral_scores.py:92: RuntimeWarning: divide by zero encountered in divide\n",
      "  vec = vec / np.linalg.norm(vec)\n",
      "/home/lbarbut/fiora/fiora/MS/spectral_scores.py:92: RuntimeWarning: invalid value encountered in divide\n",
      "  vec = vec / np.linalg.norm(vec)\n"
     ]
    },
    {
     "name": "stdout",
     "output_type": "stream",
     "text": [
      "simulate all success\n",
      "Loop Count: 12\n"
     ]
    },
    {
     "name": "stderr",
     "output_type": "stream",
     "text": [
      "/tmp/ipykernel_3434824/3136981537.py:42: FutureWarning: Setting an item of incompatible dtype is deprecated and will raise in a future error of pandas. Value '<Metabolite: c1c(cc(c(c1CNC2CCC(CC2)O)N)Br)Br>' has dtype incompatible with float64, please explicitly cast to a compatible dtype first.\n",
      "  positive_candidate_dfs[j].at[i, \"Metabolite\"] = metabolite\n",
      "/tmp/ipykernel_3434824/3136981537.py:42: SettingWithCopyWarning: \n",
      "A value is trying to be set on a copy of a slice from a DataFrame\n",
      "\n",
      "See the caveats in the documentation: https://pandas.pydata.org/pandas-docs/stable/user_guide/indexing.html#returning-a-view-versus-a-copy\n",
      "  positive_candidate_dfs[j].at[i, \"Metabolite\"] = metabolite\n"
     ]
    },
    {
     "name": "stdout",
     "output_type": "stream",
     "text": [
      "simulate all success\n",
      "Loop Count: 13\n"
     ]
    },
    {
     "name": "stderr",
     "output_type": "stream",
     "text": [
      "/tmp/ipykernel_3434824/3136981537.py:42: FutureWarning: Setting an item of incompatible dtype is deprecated and will raise in a future error of pandas. Value '<Metabolite: c1ccc(cc1)c2n[nH]nn2>' has dtype incompatible with float64, please explicitly cast to a compatible dtype first.\n",
      "  positive_candidate_dfs[j].at[i, \"Metabolite\"] = metabolite\n",
      "/tmp/ipykernel_3434824/3136981537.py:42: SettingWithCopyWarning: \n",
      "A value is trying to be set on a copy of a slice from a DataFrame\n",
      "\n",
      "See the caveats in the documentation: https://pandas.pydata.org/pandas-docs/stable/user_guide/indexing.html#returning-a-view-versus-a-copy\n",
      "  positive_candidate_dfs[j].at[i, \"Metabolite\"] = metabolite\n"
     ]
    },
    {
     "name": "stdout",
     "output_type": "stream",
     "text": [
      "simulate all success\n",
      "Loop Count: 14\n"
     ]
    },
    {
     "name": "stderr",
     "output_type": "stream",
     "text": [
      "/tmp/ipykernel_3434824/3136981537.py:42: FutureWarning: Setting an item of incompatible dtype is deprecated and will raise in a future error of pandas. Value '<Metabolite: CC(CS)C(=O)N1CCCC1C(=O)O>' has dtype incompatible with float64, please explicitly cast to a compatible dtype first.\n",
      "  positive_candidate_dfs[j].at[i, \"Metabolite\"] = metabolite\n",
      "/tmp/ipykernel_3434824/3136981537.py:42: SettingWithCopyWarning: \n",
      "A value is trying to be set on a copy of a slice from a DataFrame\n",
      "\n",
      "See the caveats in the documentation: https://pandas.pydata.org/pandas-docs/stable/user_guide/indexing.html#returning-a-view-versus-a-copy\n",
      "  positive_candidate_dfs[j].at[i, \"Metabolite\"] = metabolite\n"
     ]
    },
    {
     "name": "stdout",
     "output_type": "stream",
     "text": [
      "simulate all success\n",
      "Loop Count: 15\n"
     ]
    },
    {
     "name": "stderr",
     "output_type": "stream",
     "text": [
      "/tmp/ipykernel_3434824/3136981537.py:42: FutureWarning: Setting an item of incompatible dtype is deprecated and will raise in a future error of pandas. Value '<Metabolite: Cn1c2cc(cnc2[nH]c1=N)c3ccccc3>' has dtype incompatible with float64, please explicitly cast to a compatible dtype first.\n",
      "  positive_candidate_dfs[j].at[i, \"Metabolite\"] = metabolite\n",
      "/tmp/ipykernel_3434824/3136981537.py:42: SettingWithCopyWarning: \n",
      "A value is trying to be set on a copy of a slice from a DataFrame\n",
      "\n",
      "See the caveats in the documentation: https://pandas.pydata.org/pandas-docs/stable/user_guide/indexing.html#returning-a-view-versus-a-copy\n",
      "  positive_candidate_dfs[j].at[i, \"Metabolite\"] = metabolite\n",
      "/home/lbarbut/fiora/fiora/MS/spectral_scores.py:117: RuntimeWarning: invalid value encountered in power\n",
      "  spec_ref[\"mz_int\"] = [np.power(spec_ref[\"intensity\"][i], int_pow)*np.power(mz, mz_pow) for i, mz in enumerate(spec_ref[\"mz\"])]\n"
     ]
    },
    {
     "name": "stdout",
     "output_type": "stream",
     "text": [
      "simulate all success\n",
      "Loop Count: 16\n"
     ]
    },
    {
     "name": "stderr",
     "output_type": "stream",
     "text": [
      "/tmp/ipykernel_3434824/3136981537.py:42: FutureWarning: Setting an item of incompatible dtype is deprecated and will raise in a future error of pandas. Value '<Metabolite: c1cc2c(nc1)C(=C3CCNCC3)c4ccc(cc4CC2)Cl>' has dtype incompatible with float64, please explicitly cast to a compatible dtype first.\n",
      "  positive_candidate_dfs[j].at[i, \"Metabolite\"] = metabolite\n",
      "/tmp/ipykernel_3434824/3136981537.py:42: SettingWithCopyWarning: \n",
      "A value is trying to be set on a copy of a slice from a DataFrame\n",
      "\n",
      "See the caveats in the documentation: https://pandas.pydata.org/pandas-docs/stable/user_guide/indexing.html#returning-a-view-versus-a-copy\n",
      "  positive_candidate_dfs[j].at[i, \"Metabolite\"] = metabolite\n"
     ]
    },
    {
     "name": "stdout",
     "output_type": "stream",
     "text": [
      "simulate all success\n",
      "Loop Count: 17\n"
     ]
    },
    {
     "name": "stderr",
     "output_type": "stream",
     "text": [
      "/tmp/ipykernel_3434824/3136981537.py:42: FutureWarning: Setting an item of incompatible dtype is deprecated and will raise in a future error of pandas. Value '<Metabolite: Cc1nccn1CC2CCc3c(c4ccccc4n3C)C2=O>' has dtype incompatible with float64, please explicitly cast to a compatible dtype first.\n",
      "  positive_candidate_dfs[j].at[i, \"Metabolite\"] = metabolite\n",
      "/tmp/ipykernel_3434824/3136981537.py:42: SettingWithCopyWarning: \n",
      "A value is trying to be set on a copy of a slice from a DataFrame\n",
      "\n",
      "See the caveats in the documentation: https://pandas.pydata.org/pandas-docs/stable/user_guide/indexing.html#returning-a-view-versus-a-copy\n",
      "  positive_candidate_dfs[j].at[i, \"Metabolite\"] = metabolite\n",
      "/home/lbarbut/fiora/fiora/MS/spectral_scores.py:8: RuntimeWarning: invalid value encountered in scalar divide\n",
      "  return np.dot(vec, vec_other) / (np.linalg.norm(vec) * np.linalg.norm(vec_other))\n",
      "/home/lbarbut/fiora/fiora/MS/spectral_scores.py:92: RuntimeWarning: divide by zero encountered in divide\n",
      "  vec = vec / np.linalg.norm(vec)\n",
      "/home/lbarbut/fiora/fiora/MS/spectral_scores.py:92: RuntimeWarning: invalid value encountered in divide\n",
      "  vec = vec / np.linalg.norm(vec)\n"
     ]
    },
    {
     "name": "stdout",
     "output_type": "stream",
     "text": [
      "simulate all success\n",
      "Loop Count: 18\n"
     ]
    },
    {
     "name": "stderr",
     "output_type": "stream",
     "text": [
      "/tmp/ipykernel_3434824/3136981537.py:42: FutureWarning: Setting an item of incompatible dtype is deprecated and will raise in a future error of pandas. Value '<Metabolite: CNCCC=C1c2ccccc2CCc3c1cccc3>' has dtype incompatible with float64, please explicitly cast to a compatible dtype first.\n",
      "  positive_candidate_dfs[j].at[i, \"Metabolite\"] = metabolite\n",
      "/tmp/ipykernel_3434824/3136981537.py:42: SettingWithCopyWarning: \n",
      "A value is trying to be set on a copy of a slice from a DataFrame\n",
      "\n",
      "See the caveats in the documentation: https://pandas.pydata.org/pandas-docs/stable/user_guide/indexing.html#returning-a-view-versus-a-copy\n",
      "  positive_candidate_dfs[j].at[i, \"Metabolite\"] = metabolite\n",
      "/home/lbarbut/fiora/fiora/MS/spectral_scores.py:8: RuntimeWarning: invalid value encountered in scalar divide\n",
      "  return np.dot(vec, vec_other) / (np.linalg.norm(vec) * np.linalg.norm(vec_other))\n",
      "/home/lbarbut/fiora/fiora/MS/spectral_scores.py:92: RuntimeWarning: divide by zero encountered in divide\n",
      "  vec = vec / np.linalg.norm(vec)\n",
      "/home/lbarbut/fiora/fiora/MS/spectral_scores.py:92: RuntimeWarning: invalid value encountered in divide\n",
      "  vec = vec / np.linalg.norm(vec)\n"
     ]
    },
    {
     "name": "stdout",
     "output_type": "stream",
     "text": [
      "simulate all success\n",
      "Loop Count: 19\n"
     ]
    },
    {
     "name": "stderr",
     "output_type": "stream",
     "text": [
      "/tmp/ipykernel_3434824/3136981537.py:42: FutureWarning: Setting an item of incompatible dtype is deprecated and will raise in a future error of pandas. Value '<Metabolite: c1c(c2c([nH]1)c(=O)nc[nH]2)C3C(C(C(N3)CO)O)O>' has dtype incompatible with float64, please explicitly cast to a compatible dtype first.\n",
      "  positive_candidate_dfs[j].at[i, \"Metabolite\"] = metabolite\n",
      "/tmp/ipykernel_3434824/3136981537.py:42: SettingWithCopyWarning: \n",
      "A value is trying to be set on a copy of a slice from a DataFrame\n",
      "\n",
      "See the caveats in the documentation: https://pandas.pydata.org/pandas-docs/stable/user_guide/indexing.html#returning-a-view-versus-a-copy\n",
      "  positive_candidate_dfs[j].at[i, \"Metabolite\"] = metabolite\n"
     ]
    },
    {
     "name": "stdout",
     "output_type": "stream",
     "text": [
      "simulate all success\n",
      "Loop Count: 20\n"
     ]
    },
    {
     "name": "stderr",
     "output_type": "stream",
     "text": [
      "/tmp/ipykernel_3434824/3136981537.py:42: FutureWarning: Setting an item of incompatible dtype is deprecated and will raise in a future error of pandas. Value '<Metabolite: c1ccc2c(c1)c(cc[n+]2[O-])[N+](=O)[O-]>' has dtype incompatible with float64, please explicitly cast to a compatible dtype first.\n",
      "  positive_candidate_dfs[j].at[i, \"Metabolite\"] = metabolite\n",
      "/tmp/ipykernel_3434824/3136981537.py:42: SettingWithCopyWarning: \n",
      "A value is trying to be set on a copy of a slice from a DataFrame\n",
      "\n",
      "See the caveats in the documentation: https://pandas.pydata.org/pandas-docs/stable/user_guide/indexing.html#returning-a-view-versus-a-copy\n",
      "  positive_candidate_dfs[j].at[i, \"Metabolite\"] = metabolite\n"
     ]
    },
    {
     "name": "stdout",
     "output_type": "stream",
     "text": [
      "simulate all success\n",
      "Loop Count: 21\n"
     ]
    },
    {
     "name": "stderr",
     "output_type": "stream",
     "text": [
      "/tmp/ipykernel_3434824/3136981537.py:42: FutureWarning: Setting an item of incompatible dtype is deprecated and will raise in a future error of pandas. Value '<Metabolite: c1ccc2c(c1)c(c[nH]2)CO>' has dtype incompatible with float64, please explicitly cast to a compatible dtype first.\n",
      "  positive_candidate_dfs[j].at[i, \"Metabolite\"] = metabolite\n",
      "/tmp/ipykernel_3434824/3136981537.py:42: SettingWithCopyWarning: \n",
      "A value is trying to be set on a copy of a slice from a DataFrame\n",
      "\n",
      "See the caveats in the documentation: https://pandas.pydata.org/pandas-docs/stable/user_guide/indexing.html#returning-a-view-versus-a-copy\n",
      "  positive_candidate_dfs[j].at[i, \"Metabolite\"] = metabolite\n"
     ]
    },
    {
     "name": "stdout",
     "output_type": "stream",
     "text": [
      "simulate all success\n",
      "Loop Count: 22\n"
     ]
    },
    {
     "name": "stderr",
     "output_type": "stream",
     "text": [
      "/tmp/ipykernel_3434824/3136981537.py:42: FutureWarning: Setting an item of incompatible dtype is deprecated and will raise in a future error of pandas. Value '<Metabolite: c1ccc2c(c1)nc(s2)S(=O)(=O)O>' has dtype incompatible with float64, please explicitly cast to a compatible dtype first.\n",
      "  positive_candidate_dfs[j].at[i, \"Metabolite\"] = metabolite\n",
      "/tmp/ipykernel_3434824/3136981537.py:42: SettingWithCopyWarning: \n",
      "A value is trying to be set on a copy of a slice from a DataFrame\n",
      "\n",
      "See the caveats in the documentation: https://pandas.pydata.org/pandas-docs/stable/user_guide/indexing.html#returning-a-view-versus-a-copy\n",
      "  positive_candidate_dfs[j].at[i, \"Metabolite\"] = metabolite\n"
     ]
    },
    {
     "name": "stdout",
     "output_type": "stream",
     "text": [
      "simulate all success\n",
      "Loop Count: 23\n"
     ]
    },
    {
     "name": "stderr",
     "output_type": "stream",
     "text": [
      "/tmp/ipykernel_3434824/3136981537.py:42: FutureWarning: Setting an item of incompatible dtype is deprecated and will raise in a future error of pandas. Value '<Metabolite: Cc1c(c(=O)n2c(n1)CCCC2)CCN3CCC(CC3)c4c5ccc(cc5on4)F>' has dtype incompatible with float64, please explicitly cast to a compatible dtype first.\n",
      "  positive_candidate_dfs[j].at[i, \"Metabolite\"] = metabolite\n",
      "/tmp/ipykernel_3434824/3136981537.py:42: SettingWithCopyWarning: \n",
      "A value is trying to be set on a copy of a slice from a DataFrame\n",
      "\n",
      "See the caveats in the documentation: https://pandas.pydata.org/pandas-docs/stable/user_guide/indexing.html#returning-a-view-versus-a-copy\n",
      "  positive_candidate_dfs[j].at[i, \"Metabolite\"] = metabolite\n"
     ]
    },
    {
     "name": "stdout",
     "output_type": "stream",
     "text": [
      "simulate all success\n",
      "Loop Count: 24\n"
     ]
    },
    {
     "name": "stderr",
     "output_type": "stream",
     "text": [
      "/tmp/ipykernel_3434824/3136981537.py:42: FutureWarning: Setting an item of incompatible dtype is deprecated and will raise in a future error of pandas. Value '<Metabolite: CC(C)CC(C)(C)COC(=O)CSSSSCC(=O)OCC(C)(C)CC(C)C>' has dtype incompatible with float64, please explicitly cast to a compatible dtype first.\n",
      "  positive_candidate_dfs[j].at[i, \"Metabolite\"] = metabolite\n",
      "/tmp/ipykernel_3434824/3136981537.py:42: SettingWithCopyWarning: \n",
      "A value is trying to be set on a copy of a slice from a DataFrame\n",
      "\n",
      "See the caveats in the documentation: https://pandas.pydata.org/pandas-docs/stable/user_guide/indexing.html#returning-a-view-versus-a-copy\n",
      "  positive_candidate_dfs[j].at[i, \"Metabolite\"] = metabolite\n"
     ]
    },
    {
     "name": "stdout",
     "output_type": "stream",
     "text": [
      "simulate all success\n",
      "Loop Count: 25\n"
     ]
    },
    {
     "name": "stderr",
     "output_type": "stream",
     "text": [
      "/tmp/ipykernel_3434824/3136981537.py:42: FutureWarning: Setting an item of incompatible dtype is deprecated and will raise in a future error of pandas. Value '<Metabolite: c1cc(ccc1O)S(=O)(=O)c2ccc(cc2)O>' has dtype incompatible with float64, please explicitly cast to a compatible dtype first.\n",
      "  positive_candidate_dfs[j].at[i, \"Metabolite\"] = metabolite\n",
      "/tmp/ipykernel_3434824/3136981537.py:42: SettingWithCopyWarning: \n",
      "A value is trying to be set on a copy of a slice from a DataFrame\n",
      "\n",
      "See the caveats in the documentation: https://pandas.pydata.org/pandas-docs/stable/user_guide/indexing.html#returning-a-view-versus-a-copy\n",
      "  positive_candidate_dfs[j].at[i, \"Metabolite\"] = metabolite\n",
      "/home/lbarbut/fiora/fiora/MS/spectral_scores.py:8: RuntimeWarning: invalid value encountered in scalar divide\n",
      "  return np.dot(vec, vec_other) / (np.linalg.norm(vec) * np.linalg.norm(vec_other))\n",
      "/home/lbarbut/fiora/fiora/MS/spectral_scores.py:92: RuntimeWarning: invalid value encountered in divide\n",
      "  vec = vec / np.linalg.norm(vec)\n"
     ]
    },
    {
     "name": "stdout",
     "output_type": "stream",
     "text": [
      "simulate all success\n",
      "Loop Count: 26\n"
     ]
    },
    {
     "name": "stderr",
     "output_type": "stream",
     "text": [
      "/tmp/ipykernel_3434824/3136981537.py:42: FutureWarning: Setting an item of incompatible dtype is deprecated and will raise in a future error of pandas. Value '<Metabolite: c1ccc2c(c1)nc(n2CCCN3CCC(CC3)n4c5ccc(cc5nc4O)Cl)O>' has dtype incompatible with float64, please explicitly cast to a compatible dtype first.\n",
      "  positive_candidate_dfs[j].at[i, \"Metabolite\"] = metabolite\n",
      "/tmp/ipykernel_3434824/3136981537.py:42: SettingWithCopyWarning: \n",
      "A value is trying to be set on a copy of a slice from a DataFrame\n",
      "\n",
      "See the caveats in the documentation: https://pandas.pydata.org/pandas-docs/stable/user_guide/indexing.html#returning-a-view-versus-a-copy\n",
      "  positive_candidate_dfs[j].at[i, \"Metabolite\"] = metabolite\n"
     ]
    },
    {
     "name": "stdout",
     "output_type": "stream",
     "text": [
      "simulate all success\n",
      "Loop Count: 27\n"
     ]
    },
    {
     "name": "stderr",
     "output_type": "stream",
     "text": [
      "/tmp/ipykernel_3434824/3136981537.py:42: FutureWarning: Setting an item of incompatible dtype is deprecated and will raise in a future error of pandas. Value '<Metabolite: CC(=O)CCCCn1c(=O)c2c(ncn2C)n(c1=O)C>' has dtype incompatible with float64, please explicitly cast to a compatible dtype first.\n",
      "  positive_candidate_dfs[j].at[i, \"Metabolite\"] = metabolite\n",
      "/tmp/ipykernel_3434824/3136981537.py:42: SettingWithCopyWarning: \n",
      "A value is trying to be set on a copy of a slice from a DataFrame\n",
      "\n",
      "See the caveats in the documentation: https://pandas.pydata.org/pandas-docs/stable/user_guide/indexing.html#returning-a-view-versus-a-copy\n",
      "  positive_candidate_dfs[j].at[i, \"Metabolite\"] = metabolite\n"
     ]
    },
    {
     "name": "stdout",
     "output_type": "stream",
     "text": [
      "simulate all success\n",
      "Loop Count: 28\n"
     ]
    },
    {
     "name": "stderr",
     "output_type": "stream",
     "text": [
      "/tmp/ipykernel_3434824/3136981537.py:42: FutureWarning: Setting an item of incompatible dtype is deprecated and will raise in a future error of pandas. Value '<Metabolite: CC12CC(C3(C(C1CC(C2(C(=O)CO)O)O)CCC4=CC(=O)C=CC43C)F)O>' has dtype incompatible with float64, please explicitly cast to a compatible dtype first.\n",
      "  positive_candidate_dfs[j].at[i, \"Metabolite\"] = metabolite\n",
      "/tmp/ipykernel_3434824/3136981537.py:42: SettingWithCopyWarning: \n",
      "A value is trying to be set on a copy of a slice from a DataFrame\n",
      "\n",
      "See the caveats in the documentation: https://pandas.pydata.org/pandas-docs/stable/user_guide/indexing.html#returning-a-view-versus-a-copy\n",
      "  positive_candidate_dfs[j].at[i, \"Metabolite\"] = metabolite\n",
      "/home/lbarbut/fiora/fiora/MS/spectral_scores.py:8: RuntimeWarning: invalid value encountered in scalar divide\n",
      "  return np.dot(vec, vec_other) / (np.linalg.norm(vec) * np.linalg.norm(vec_other))\n",
      "/home/lbarbut/fiora/fiora/MS/spectral_scores.py:92: RuntimeWarning: divide by zero encountered in divide\n",
      "  vec = vec / np.linalg.norm(vec)\n",
      "/home/lbarbut/fiora/fiora/MS/spectral_scores.py:92: RuntimeWarning: invalid value encountered in divide\n",
      "  vec = vec / np.linalg.norm(vec)\n"
     ]
    },
    {
     "name": "stdout",
     "output_type": "stream",
     "text": [
      "simulate all success\n",
      "Loop Count: 29\n"
     ]
    },
    {
     "name": "stderr",
     "output_type": "stream",
     "text": [
      "/tmp/ipykernel_3434824/3136981537.py:42: FutureWarning: Setting an item of incompatible dtype is deprecated and will raise in a future error of pandas. Value '<Metabolite: c1ccc2c(c1)c(ns2)N3CCN(CC3)CCc4cc5c(cc4Cl)NC(=O)C5>' has dtype incompatible with float64, please explicitly cast to a compatible dtype first.\n",
      "  positive_candidate_dfs[j].at[i, \"Metabolite\"] = metabolite\n",
      "/tmp/ipykernel_3434824/3136981537.py:42: SettingWithCopyWarning: \n",
      "A value is trying to be set on a copy of a slice from a DataFrame\n",
      "\n",
      "See the caveats in the documentation: https://pandas.pydata.org/pandas-docs/stable/user_guide/indexing.html#returning-a-view-versus-a-copy\n",
      "  positive_candidate_dfs[j].at[i, \"Metabolite\"] = metabolite\n"
     ]
    },
    {
     "name": "stdout",
     "output_type": "stream",
     "text": [
      "simulate all success\n",
      "Loop Count: 30\n"
     ]
    },
    {
     "name": "stderr",
     "output_type": "stream",
     "text": [
      "/tmp/ipykernel_3434824/3136981537.py:42: FutureWarning: Setting an item of incompatible dtype is deprecated and will raise in a future error of pandas. Value '<Metabolite: CN(C)CCCN1c2ccccc2Sc3c1cccc3>' has dtype incompatible with float64, please explicitly cast to a compatible dtype first.\n",
      "  positive_candidate_dfs[j].at[i, \"Metabolite\"] = metabolite\n",
      "/tmp/ipykernel_3434824/3136981537.py:42: SettingWithCopyWarning: \n",
      "A value is trying to be set on a copy of a slice from a DataFrame\n",
      "\n",
      "See the caveats in the documentation: https://pandas.pydata.org/pandas-docs/stable/user_guide/indexing.html#returning-a-view-versus-a-copy\n",
      "  positive_candidate_dfs[j].at[i, \"Metabolite\"] = metabolite\n"
     ]
    },
    {
     "name": "stdout",
     "output_type": "stream",
     "text": [
      "simulate all success\n",
      "Loop Count: 31\n"
     ]
    },
    {
     "name": "stderr",
     "output_type": "stream",
     "text": [
      "/tmp/ipykernel_3434824/3136981537.py:42: FutureWarning: Setting an item of incompatible dtype is deprecated and will raise in a future error of pandas. Value '<Metabolite: c1cc(c(c(c1)Cl)N)Cl>' has dtype incompatible with float64, please explicitly cast to a compatible dtype first.\n",
      "  positive_candidate_dfs[j].at[i, \"Metabolite\"] = metabolite\n",
      "/tmp/ipykernel_3434824/3136981537.py:42: SettingWithCopyWarning: \n",
      "A value is trying to be set on a copy of a slice from a DataFrame\n",
      "\n",
      "See the caveats in the documentation: https://pandas.pydata.org/pandas-docs/stable/user_guide/indexing.html#returning-a-view-versus-a-copy\n",
      "  positive_candidate_dfs[j].at[i, \"Metabolite\"] = metabolite\n"
     ]
    },
    {
     "name": "stdout",
     "output_type": "stream",
     "text": [
      "simulate all success\n",
      "Loop Count: 32\n"
     ]
    },
    {
     "name": "stderr",
     "output_type": "stream",
     "text": [
      "/tmp/ipykernel_3434824/3136981537.py:42: FutureWarning: Setting an item of incompatible dtype is deprecated and will raise in a future error of pandas. Value '<Metabolite: CCOC(=O)C(C(C(C(=O)OCC)(F)F)(F)F)(F)F>' has dtype incompatible with float64, please explicitly cast to a compatible dtype first.\n",
      "  positive_candidate_dfs[j].at[i, \"Metabolite\"] = metabolite\n",
      "/tmp/ipykernel_3434824/3136981537.py:42: SettingWithCopyWarning: \n",
      "A value is trying to be set on a copy of a slice from a DataFrame\n",
      "\n",
      "See the caveats in the documentation: https://pandas.pydata.org/pandas-docs/stable/user_guide/indexing.html#returning-a-view-versus-a-copy\n",
      "  positive_candidate_dfs[j].at[i, \"Metabolite\"] = metabolite\n",
      "/home/lbarbut/fiora/fiora/MS/spectral_scores.py:8: RuntimeWarning: invalid value encountered in scalar divide\n",
      "  return np.dot(vec, vec_other) / (np.linalg.norm(vec) * np.linalg.norm(vec_other))\n",
      "/home/lbarbut/fiora/fiora/MS/spectral_scores.py:92: RuntimeWarning: invalid value encountered in divide\n",
      "  vec = vec / np.linalg.norm(vec)\n"
     ]
    },
    {
     "name": "stdout",
     "output_type": "stream",
     "text": [
      "simulate all success\n",
      "Loop Count: 33\n"
     ]
    },
    {
     "name": "stderr",
     "output_type": "stream",
     "text": [
      "/tmp/ipykernel_3434824/3136981537.py:42: FutureWarning: Setting an item of incompatible dtype is deprecated and will raise in a future error of pandas. Value '<Metabolite: c1cc(ccc1C(=O)NC(CCC(=O)O)C(=O)O)N(CC2CNc3c(c(=O)nc([nH]3)N)N2)C=O>' has dtype incompatible with float64, please explicitly cast to a compatible dtype first.\n",
      "  positive_candidate_dfs[j].at[i, \"Metabolite\"] = metabolite\n",
      "/tmp/ipykernel_3434824/3136981537.py:42: SettingWithCopyWarning: \n",
      "A value is trying to be set on a copy of a slice from a DataFrame\n",
      "\n",
      "See the caveats in the documentation: https://pandas.pydata.org/pandas-docs/stable/user_guide/indexing.html#returning-a-view-versus-a-copy\n",
      "  positive_candidate_dfs[j].at[i, \"Metabolite\"] = metabolite\n"
     ]
    },
    {
     "name": "stdout",
     "output_type": "stream",
     "text": [
      "simulate all success\n",
      "Loop Count: 34\n"
     ]
    },
    {
     "name": "stderr",
     "output_type": "stream",
     "text": [
      "/tmp/ipykernel_3434824/3136981537.py:42: FutureWarning: Setting an item of incompatible dtype is deprecated and will raise in a future error of pandas. Value '<Metabolite: CC(=O)Nc1ccc(cc1)Br>' has dtype incompatible with float64, please explicitly cast to a compatible dtype first.\n",
      "  positive_candidate_dfs[j].at[i, \"Metabolite\"] = metabolite\n",
      "/tmp/ipykernel_3434824/3136981537.py:42: SettingWithCopyWarning: \n",
      "A value is trying to be set on a copy of a slice from a DataFrame\n",
      "\n",
      "See the caveats in the documentation: https://pandas.pydata.org/pandas-docs/stable/user_guide/indexing.html#returning-a-view-versus-a-copy\n",
      "  positive_candidate_dfs[j].at[i, \"Metabolite\"] = metabolite\n"
     ]
    },
    {
     "name": "stdout",
     "output_type": "stream",
     "text": [
      "simulate all success\n",
      "Loop Count: 35\n"
     ]
    },
    {
     "name": "stderr",
     "output_type": "stream",
     "text": [
      "/tmp/ipykernel_3434824/3136981537.py:42: FutureWarning: Setting an item of incompatible dtype is deprecated and will raise in a future error of pandas. Value '<Metabolite: Cc1cccc(c1)N(C)C(=S)Oc2ccc3c(c2)CCC3>' has dtype incompatible with float64, please explicitly cast to a compatible dtype first.\n",
      "  positive_candidate_dfs[j].at[i, \"Metabolite\"] = metabolite\n",
      "/tmp/ipykernel_3434824/3136981537.py:42: SettingWithCopyWarning: \n",
      "A value is trying to be set on a copy of a slice from a DataFrame\n",
      "\n",
      "See the caveats in the documentation: https://pandas.pydata.org/pandas-docs/stable/user_guide/indexing.html#returning-a-view-versus-a-copy\n",
      "  positive_candidate_dfs[j].at[i, \"Metabolite\"] = metabolite\n"
     ]
    },
    {
     "name": "stdout",
     "output_type": "stream",
     "text": [
      "simulate all success\n",
      "Loop Count: 36\n"
     ]
    },
    {
     "name": "stderr",
     "output_type": "stream",
     "text": [
      "/tmp/ipykernel_3434824/3136981537.py:42: FutureWarning: Setting an item of incompatible dtype is deprecated and will raise in a future error of pandas. Value '<Metabolite: CN1CCCC(CC1)n2c(=O)c3ccccc3c(n2)Cc4ccc(cc4)Cl>' has dtype incompatible with float64, please explicitly cast to a compatible dtype first.\n",
      "  positive_candidate_dfs[j].at[i, \"Metabolite\"] = metabolite\n",
      "/tmp/ipykernel_3434824/3136981537.py:42: SettingWithCopyWarning: \n",
      "A value is trying to be set on a copy of a slice from a DataFrame\n",
      "\n",
      "See the caveats in the documentation: https://pandas.pydata.org/pandas-docs/stable/user_guide/indexing.html#returning-a-view-versus-a-copy\n",
      "  positive_candidate_dfs[j].at[i, \"Metabolite\"] = metabolite\n"
     ]
    },
    {
     "name": "stdout",
     "output_type": "stream",
     "text": [
      "simulate all success\n",
      "Loop Count: 37\n"
     ]
    },
    {
     "name": "stderr",
     "output_type": "stream",
     "text": [
      "/tmp/ipykernel_3434824/3136981537.py:42: FutureWarning: Setting an item of incompatible dtype is deprecated and will raise in a future error of pandas. Value '<Metabolite: c1cc2c(cc1Br)c(c[nH]2)C=O>' has dtype incompatible with float64, please explicitly cast to a compatible dtype first.\n",
      "  positive_candidate_dfs[j].at[i, \"Metabolite\"] = metabolite\n",
      "/tmp/ipykernel_3434824/3136981537.py:42: SettingWithCopyWarning: \n",
      "A value is trying to be set on a copy of a slice from a DataFrame\n",
      "\n",
      "See the caveats in the documentation: https://pandas.pydata.org/pandas-docs/stable/user_guide/indexing.html#returning-a-view-versus-a-copy\n",
      "  positive_candidate_dfs[j].at[i, \"Metabolite\"] = metabolite\n"
     ]
    },
    {
     "name": "stdout",
     "output_type": "stream",
     "text": [
      "simulate all success\n",
      "Loop Count: 38\n"
     ]
    },
    {
     "name": "stderr",
     "output_type": "stream",
     "text": [
      "/tmp/ipykernel_3434824/3136981537.py:42: FutureWarning: Setting an item of incompatible dtype is deprecated and will raise in a future error of pandas. Value '<Metabolite: CCCCCCCCC=CCCCCCCCC(=O)N>' has dtype incompatible with float64, please explicitly cast to a compatible dtype first.\n",
      "  positive_candidate_dfs[j].at[i, \"Metabolite\"] = metabolite\n",
      "/tmp/ipykernel_3434824/3136981537.py:42: SettingWithCopyWarning: \n",
      "A value is trying to be set on a copy of a slice from a DataFrame\n",
      "\n",
      "See the caveats in the documentation: https://pandas.pydata.org/pandas-docs/stable/user_guide/indexing.html#returning-a-view-versus-a-copy\n",
      "  positive_candidate_dfs[j].at[i, \"Metabolite\"] = metabolite\n"
     ]
    },
    {
     "name": "stdout",
     "output_type": "stream",
     "text": [
      "simulate all success\n",
      "Loop Count: 39\n"
     ]
    },
    {
     "name": "stderr",
     "output_type": "stream",
     "text": [
      "/tmp/ipykernel_3434824/3136981537.py:42: FutureWarning: Setting an item of incompatible dtype is deprecated and will raise in a future error of pandas. Value '<Metabolite: CC1(Oc2cccc(c2O1)OC(=O)NC)C>' has dtype incompatible with float64, please explicitly cast to a compatible dtype first.\n",
      "  positive_candidate_dfs[j].at[i, \"Metabolite\"] = metabolite\n",
      "/tmp/ipykernel_3434824/3136981537.py:42: SettingWithCopyWarning: \n",
      "A value is trying to be set on a copy of a slice from a DataFrame\n",
      "\n",
      "See the caveats in the documentation: https://pandas.pydata.org/pandas-docs/stable/user_guide/indexing.html#returning-a-view-versus-a-copy\n",
      "  positive_candidate_dfs[j].at[i, \"Metabolite\"] = metabolite\n",
      "/home/lbarbut/fiora/fiora/MS/spectral_scores.py:8: RuntimeWarning: invalid value encountered in scalar divide\n",
      "  return np.dot(vec, vec_other) / (np.linalg.norm(vec) * np.linalg.norm(vec_other))\n",
      "/home/lbarbut/fiora/fiora/MS/spectral_scores.py:92: RuntimeWarning: divide by zero encountered in divide\n",
      "  vec = vec / np.linalg.norm(vec)\n",
      "/home/lbarbut/fiora/fiora/MS/spectral_scores.py:92: RuntimeWarning: invalid value encountered in divide\n",
      "  vec = vec / np.linalg.norm(vec)\n"
     ]
    },
    {
     "name": "stdout",
     "output_type": "stream",
     "text": [
      "simulate all success\n",
      "Loop Count: 40\n"
     ]
    },
    {
     "name": "stderr",
     "output_type": "stream",
     "text": [
      "/tmp/ipykernel_3434824/3136981537.py:42: FutureWarning: Setting an item of incompatible dtype is deprecated and will raise in a future error of pandas. Value '<Metabolite: c1cc(oc1)CNc2cc(c(cc2C(=O)O)S(=O)(=O)N)Cl>' has dtype incompatible with float64, please explicitly cast to a compatible dtype first.\n",
      "  positive_candidate_dfs[j].at[i, \"Metabolite\"] = metabolite\n",
      "/tmp/ipykernel_3434824/3136981537.py:42: SettingWithCopyWarning: \n",
      "A value is trying to be set on a copy of a slice from a DataFrame\n",
      "\n",
      "See the caveats in the documentation: https://pandas.pydata.org/pandas-docs/stable/user_guide/indexing.html#returning-a-view-versus-a-copy\n",
      "  positive_candidate_dfs[j].at[i, \"Metabolite\"] = metabolite\n",
      "/home/lbarbut/fiora/fiora/MS/spectral_scores.py:8: RuntimeWarning: invalid value encountered in scalar divide\n",
      "  return np.dot(vec, vec_other) / (np.linalg.norm(vec) * np.linalg.norm(vec_other))\n",
      "/home/lbarbut/fiora/fiora/MS/spectral_scores.py:92: RuntimeWarning: divide by zero encountered in divide\n",
      "  vec = vec / np.linalg.norm(vec)\n",
      "/home/lbarbut/fiora/fiora/MS/spectral_scores.py:92: RuntimeWarning: invalid value encountered in divide\n",
      "  vec = vec / np.linalg.norm(vec)\n"
     ]
    },
    {
     "name": "stdout",
     "output_type": "stream",
     "text": [
      "simulate all success\n",
      "Loop Count: 41\n"
     ]
    },
    {
     "name": "stderr",
     "output_type": "stream",
     "text": [
      "/tmp/ipykernel_3434824/3136981537.py:42: FutureWarning: Setting an item of incompatible dtype is deprecated and will raise in a future error of pandas. Value '<Metabolite: C(CCl)OP(=O)(OCCCl)OCCCl>' has dtype incompatible with float64, please explicitly cast to a compatible dtype first.\n",
      "  positive_candidate_dfs[j].at[i, \"Metabolite\"] = metabolite\n",
      "/tmp/ipykernel_3434824/3136981537.py:42: SettingWithCopyWarning: \n",
      "A value is trying to be set on a copy of a slice from a DataFrame\n",
      "\n",
      "See the caveats in the documentation: https://pandas.pydata.org/pandas-docs/stable/user_guide/indexing.html#returning-a-view-versus-a-copy\n",
      "  positive_candidate_dfs[j].at[i, \"Metabolite\"] = metabolite\n"
     ]
    },
    {
     "name": "stdout",
     "output_type": "stream",
     "text": [
      "simulate all success\n",
      "Loop Count: 42\n"
     ]
    },
    {
     "name": "stderr",
     "output_type": "stream",
     "text": [
      "/tmp/ipykernel_3434824/3136981537.py:42: FutureWarning: Setting an item of incompatible dtype is deprecated and will raise in a future error of pandas. Value '<Metabolite: CC(C)(C#N)c1cc(cc(c1)C(C)(C)C#N)Cn2cncn2>' has dtype incompatible with float64, please explicitly cast to a compatible dtype first.\n",
      "  positive_candidate_dfs[j].at[i, \"Metabolite\"] = metabolite\n",
      "/tmp/ipykernel_3434824/3136981537.py:42: SettingWithCopyWarning: \n",
      "A value is trying to be set on a copy of a slice from a DataFrame\n",
      "\n",
      "See the caveats in the documentation: https://pandas.pydata.org/pandas-docs/stable/user_guide/indexing.html#returning-a-view-versus-a-copy\n",
      "  positive_candidate_dfs[j].at[i, \"Metabolite\"] = metabolite\n"
     ]
    },
    {
     "name": "stdout",
     "output_type": "stream",
     "text": [
      "simulate all success\n",
      "Loop Count: 43\n"
     ]
    },
    {
     "name": "stderr",
     "output_type": "stream",
     "text": [
      "/tmp/ipykernel_3434824/3136981537.py:42: FutureWarning: Setting an item of incompatible dtype is deprecated and will raise in a future error of pandas. Value '<Metabolite: CC(=Cc1ccccc1)C=O>' has dtype incompatible with float64, please explicitly cast to a compatible dtype first.\n",
      "  positive_candidate_dfs[j].at[i, \"Metabolite\"] = metabolite\n",
      "/tmp/ipykernel_3434824/3136981537.py:42: SettingWithCopyWarning: \n",
      "A value is trying to be set on a copy of a slice from a DataFrame\n",
      "\n",
      "See the caveats in the documentation: https://pandas.pydata.org/pandas-docs/stable/user_guide/indexing.html#returning-a-view-versus-a-copy\n",
      "  positive_candidate_dfs[j].at[i, \"Metabolite\"] = metabolite\n",
      "/home/lbarbut/fiora/fiora/MS/spectral_scores.py:8: RuntimeWarning: invalid value encountered in scalar divide\n",
      "  return np.dot(vec, vec_other) / (np.linalg.norm(vec) * np.linalg.norm(vec_other))\n",
      "/home/lbarbut/fiora/fiora/MS/spectral_scores.py:92: RuntimeWarning: divide by zero encountered in divide\n",
      "  vec = vec / np.linalg.norm(vec)\n",
      "/home/lbarbut/fiora/fiora/MS/spectral_scores.py:92: RuntimeWarning: invalid value encountered in divide\n",
      "  vec = vec / np.linalg.norm(vec)\n"
     ]
    },
    {
     "name": "stdout",
     "output_type": "stream",
     "text": [
      "simulate all success\n",
      "Loop Count: 44\n"
     ]
    },
    {
     "name": "stderr",
     "output_type": "stream",
     "text": [
      "/tmp/ipykernel_3434824/3136981537.py:42: FutureWarning: Setting an item of incompatible dtype is deprecated and will raise in a future error of pandas. Value '<Metabolite: c1ccc(cc1)C(=O)CSC2=NCCN2>' has dtype incompatible with float64, please explicitly cast to a compatible dtype first.\n",
      "  positive_candidate_dfs[j].at[i, \"Metabolite\"] = metabolite\n",
      "/tmp/ipykernel_3434824/3136981537.py:42: SettingWithCopyWarning: \n",
      "A value is trying to be set on a copy of a slice from a DataFrame\n",
      "\n",
      "See the caveats in the documentation: https://pandas.pydata.org/pandas-docs/stable/user_guide/indexing.html#returning-a-view-versus-a-copy\n",
      "  positive_candidate_dfs[j].at[i, \"Metabolite\"] = metabolite\n"
     ]
    },
    {
     "name": "stdout",
     "output_type": "stream",
     "text": [
      "simulate all success\n",
      "Loop Count: 45\n"
     ]
    },
    {
     "name": "stderr",
     "output_type": "stream",
     "text": [
      "/tmp/ipykernel_3434824/3136981537.py:42: FutureWarning: Setting an item of incompatible dtype is deprecated and will raise in a future error of pandas. Value '<Metabolite: c1ccc(cc1)S(=O)c2ccccc2>' has dtype incompatible with float64, please explicitly cast to a compatible dtype first.\n",
      "  positive_candidate_dfs[j].at[i, \"Metabolite\"] = metabolite\n",
      "/tmp/ipykernel_3434824/3136981537.py:42: SettingWithCopyWarning: \n",
      "A value is trying to be set on a copy of a slice from a DataFrame\n",
      "\n",
      "See the caveats in the documentation: https://pandas.pydata.org/pandas-docs/stable/user_guide/indexing.html#returning-a-view-versus-a-copy\n",
      "  positive_candidate_dfs[j].at[i, \"Metabolite\"] = metabolite\n"
     ]
    },
    {
     "name": "stdout",
     "output_type": "stream",
     "text": [
      "simulate all success\n",
      "Loop Count: 46\n"
     ]
    },
    {
     "name": "stderr",
     "output_type": "stream",
     "text": [
      "/tmp/ipykernel_3434824/3136981537.py:42: FutureWarning: Setting an item of incompatible dtype is deprecated and will raise in a future error of pandas. Value '<Metabolite: c1cc(ccc1O)Sc2ccc(cc2)O>' has dtype incompatible with float64, please explicitly cast to a compatible dtype first.\n",
      "  positive_candidate_dfs[j].at[i, \"Metabolite\"] = metabolite\n",
      "/tmp/ipykernel_3434824/3136981537.py:42: SettingWithCopyWarning: \n",
      "A value is trying to be set on a copy of a slice from a DataFrame\n",
      "\n",
      "See the caveats in the documentation: https://pandas.pydata.org/pandas-docs/stable/user_guide/indexing.html#returning-a-view-versus-a-copy\n",
      "  positive_candidate_dfs[j].at[i, \"Metabolite\"] = metabolite\n"
     ]
    },
    {
     "name": "stdout",
     "output_type": "stream",
     "text": [
      "simulate all success\n",
      "Loop Count: 47\n"
     ]
    },
    {
     "name": "stderr",
     "output_type": "stream",
     "text": [
      "/tmp/ipykernel_3434824/3136981537.py:42: FutureWarning: Setting an item of incompatible dtype is deprecated and will raise in a future error of pandas. Value '<Metabolite: CC1CNCc2c1c3cc(ccc3[nH]2)SC>' has dtype incompatible with float64, please explicitly cast to a compatible dtype first.\n",
      "  positive_candidate_dfs[j].at[i, \"Metabolite\"] = metabolite\n",
      "/tmp/ipykernel_3434824/3136981537.py:42: SettingWithCopyWarning: \n",
      "A value is trying to be set on a copy of a slice from a DataFrame\n",
      "\n",
      "See the caveats in the documentation: https://pandas.pydata.org/pandas-docs/stable/user_guide/indexing.html#returning-a-view-versus-a-copy\n",
      "  positive_candidate_dfs[j].at[i, \"Metabolite\"] = metabolite\n",
      "/home/lbarbut/fiora/fiora/MS/spectral_scores.py:8: RuntimeWarning: invalid value encountered in scalar divide\n",
      "  return np.dot(vec, vec_other) / (np.linalg.norm(vec) * np.linalg.norm(vec_other))\n",
      "/home/lbarbut/fiora/fiora/MS/spectral_scores.py:92: RuntimeWarning: divide by zero encountered in divide\n",
      "  vec = vec / np.linalg.norm(vec)\n",
      "/home/lbarbut/fiora/fiora/MS/spectral_scores.py:92: RuntimeWarning: invalid value encountered in divide\n",
      "  vec = vec / np.linalg.norm(vec)\n"
     ]
    },
    {
     "name": "stdout",
     "output_type": "stream",
     "text": [
      "simulate all success\n",
      "Loop Count: 48\n"
     ]
    },
    {
     "name": "stderr",
     "output_type": "stream",
     "text": [
      "/tmp/ipykernel_3434824/3136981537.py:42: FutureWarning: Setting an item of incompatible dtype is deprecated and will raise in a future error of pandas. Value '<Metabolite: c1ccc(cc1)c2ccc(cc2)C(c3ccccc3)n4ccnc4>' has dtype incompatible with float64, please explicitly cast to a compatible dtype first.\n",
      "  positive_candidate_dfs[j].at[i, \"Metabolite\"] = metabolite\n",
      "/tmp/ipykernel_3434824/3136981537.py:42: SettingWithCopyWarning: \n",
      "A value is trying to be set on a copy of a slice from a DataFrame\n",
      "\n",
      "See the caveats in the documentation: https://pandas.pydata.org/pandas-docs/stable/user_guide/indexing.html#returning-a-view-versus-a-copy\n",
      "  positive_candidate_dfs[j].at[i, \"Metabolite\"] = metabolite\n",
      "/home/lbarbut/fiora/fiora/MS/spectral_scores.py:8: RuntimeWarning: invalid value encountered in scalar divide\n",
      "  return np.dot(vec, vec_other) / (np.linalg.norm(vec) * np.linalg.norm(vec_other))\n",
      "/home/lbarbut/fiora/fiora/MS/spectral_scores.py:92: RuntimeWarning: divide by zero encountered in divide\n",
      "  vec = vec / np.linalg.norm(vec)\n",
      "/home/lbarbut/fiora/fiora/MS/spectral_scores.py:92: RuntimeWarning: invalid value encountered in divide\n",
      "  vec = vec / np.linalg.norm(vec)\n"
     ]
    },
    {
     "name": "stdout",
     "output_type": "stream",
     "text": [
      "simulate all success\n",
      "Loop Count: 49\n"
     ]
    },
    {
     "name": "stderr",
     "output_type": "stream",
     "text": [
      "/tmp/ipykernel_3434824/3136981537.py:42: FutureWarning: Setting an item of incompatible dtype is deprecated and will raise in a future error of pandas. Value '<Metabolite: CC1(CC(=O)N(C1=O)C)c2ccccc2>' has dtype incompatible with float64, please explicitly cast to a compatible dtype first.\n",
      "  positive_candidate_dfs[j].at[i, \"Metabolite\"] = metabolite\n",
      "/tmp/ipykernel_3434824/3136981537.py:42: SettingWithCopyWarning: \n",
      "A value is trying to be set on a copy of a slice from a DataFrame\n",
      "\n",
      "See the caveats in the documentation: https://pandas.pydata.org/pandas-docs/stable/user_guide/indexing.html#returning-a-view-versus-a-copy\n",
      "  positive_candidate_dfs[j].at[i, \"Metabolite\"] = metabolite\n",
      "/home/lbarbut/fiora/fiora/MS/spectral_scores.py:8: RuntimeWarning: invalid value encountered in scalar divide\n",
      "  return np.dot(vec, vec_other) / (np.linalg.norm(vec) * np.linalg.norm(vec_other))\n",
      "/home/lbarbut/fiora/fiora/MS/spectral_scores.py:92: RuntimeWarning: divide by zero encountered in divide\n",
      "  vec = vec / np.linalg.norm(vec)\n",
      "/home/lbarbut/fiora/fiora/MS/spectral_scores.py:92: RuntimeWarning: invalid value encountered in divide\n",
      "  vec = vec / np.linalg.norm(vec)\n"
     ]
    },
    {
     "name": "stdout",
     "output_type": "stream",
     "text": [
      "simulate all success\n",
      "Loop Count: 50\n"
     ]
    },
    {
     "name": "stderr",
     "output_type": "stream",
     "text": [
      "/tmp/ipykernel_3434824/3136981537.py:42: FutureWarning: Setting an item of incompatible dtype is deprecated and will raise in a future error of pandas. Value '<Metabolite: c1ccc(cc1)C(c2ccccc2)(c3ccccc3Cl)n4ccnc4>' has dtype incompatible with float64, please explicitly cast to a compatible dtype first.\n",
      "  positive_candidate_dfs[j].at[i, \"Metabolite\"] = metabolite\n",
      "/tmp/ipykernel_3434824/3136981537.py:42: SettingWithCopyWarning: \n",
      "A value is trying to be set on a copy of a slice from a DataFrame\n",
      "\n",
      "See the caveats in the documentation: https://pandas.pydata.org/pandas-docs/stable/user_guide/indexing.html#returning-a-view-versus-a-copy\n",
      "  positive_candidate_dfs[j].at[i, \"Metabolite\"] = metabolite\n",
      "/home/lbarbut/fiora/fiora/MS/spectral_scores.py:8: RuntimeWarning: invalid value encountered in scalar divide\n",
      "  return np.dot(vec, vec_other) / (np.linalg.norm(vec) * np.linalg.norm(vec_other))\n",
      "/home/lbarbut/fiora/fiora/MS/spectral_scores.py:92: RuntimeWarning: divide by zero encountered in divide\n",
      "  vec = vec / np.linalg.norm(vec)\n",
      "/home/lbarbut/fiora/fiora/MS/spectral_scores.py:92: RuntimeWarning: invalid value encountered in divide\n",
      "  vec = vec / np.linalg.norm(vec)\n"
     ]
    },
    {
     "name": "stdout",
     "output_type": "stream",
     "text": [
      "simulate all success\n",
      "Loop Count: 51\n"
     ]
    },
    {
     "name": "stderr",
     "output_type": "stream",
     "text": [
      "/tmp/ipykernel_3434824/3136981537.py:42: FutureWarning: Setting an item of incompatible dtype is deprecated and will raise in a future error of pandas. Value '<Metabolite: CN(C)C(=O)C(CCN1CCC(CC1)(c2ccc(cc2)Cl)O)(c3ccccc3)c4ccccc4>' has dtype incompatible with float64, please explicitly cast to a compatible dtype first.\n",
      "  positive_candidate_dfs[j].at[i, \"Metabolite\"] = metabolite\n",
      "/tmp/ipykernel_3434824/3136981537.py:42: SettingWithCopyWarning: \n",
      "A value is trying to be set on a copy of a slice from a DataFrame\n",
      "\n",
      "See the caveats in the documentation: https://pandas.pydata.org/pandas-docs/stable/user_guide/indexing.html#returning-a-view-versus-a-copy\n",
      "  positive_candidate_dfs[j].at[i, \"Metabolite\"] = metabolite\n"
     ]
    },
    {
     "name": "stdout",
     "output_type": "stream",
     "text": [
      "simulate all success\n",
      "Loop Count: 52\n"
     ]
    },
    {
     "name": "stderr",
     "output_type": "stream",
     "text": [
      "/tmp/ipykernel_3434824/3136981537.py:42: FutureWarning: Setting an item of incompatible dtype is deprecated and will raise in a future error of pandas. Value '<Metabolite: CCCCNS(=O)(=O)c1ccccc1>' has dtype incompatible with float64, please explicitly cast to a compatible dtype first.\n",
      "  positive_candidate_dfs[j].at[i, \"Metabolite\"] = metabolite\n",
      "/tmp/ipykernel_3434824/3136981537.py:42: SettingWithCopyWarning: \n",
      "A value is trying to be set on a copy of a slice from a DataFrame\n",
      "\n",
      "See the caveats in the documentation: https://pandas.pydata.org/pandas-docs/stable/user_guide/indexing.html#returning-a-view-versus-a-copy\n",
      "  positive_candidate_dfs[j].at[i, \"Metabolite\"] = metabolite\n",
      "/home/lbarbut/fiora/fiora/MS/spectral_scores.py:8: RuntimeWarning: invalid value encountered in scalar divide\n",
      "  return np.dot(vec, vec_other) / (np.linalg.norm(vec) * np.linalg.norm(vec_other))\n",
      "/home/lbarbut/fiora/fiora/MS/spectral_scores.py:92: RuntimeWarning: divide by zero encountered in divide\n",
      "  vec = vec / np.linalg.norm(vec)\n",
      "/home/lbarbut/fiora/fiora/MS/spectral_scores.py:92: RuntimeWarning: invalid value encountered in divide\n",
      "  vec = vec / np.linalg.norm(vec)\n"
     ]
    },
    {
     "name": "stdout",
     "output_type": "stream",
     "text": [
      "simulate all success\n",
      "Loop Count: 53\n"
     ]
    },
    {
     "name": "stderr",
     "output_type": "stream",
     "text": [
      "/tmp/ipykernel_3434824/3136981537.py:42: FutureWarning: Setting an item of incompatible dtype is deprecated and will raise in a future error of pandas. Value '<Metabolite: CCSCC(=O)O[C@H]1CCC2C1(CCC3C2CCC4=CC(=O)CCC34C)C>' has dtype incompatible with float64, please explicitly cast to a compatible dtype first.\n",
      "  positive_candidate_dfs[j].at[i, \"Metabolite\"] = metabolite\n",
      "/tmp/ipykernel_3434824/3136981537.py:42: SettingWithCopyWarning: \n",
      "A value is trying to be set on a copy of a slice from a DataFrame\n",
      "\n",
      "See the caveats in the documentation: https://pandas.pydata.org/pandas-docs/stable/user_guide/indexing.html#returning-a-view-versus-a-copy\n",
      "  positive_candidate_dfs[j].at[i, \"Metabolite\"] = metabolite\n"
     ]
    },
    {
     "name": "stdout",
     "output_type": "stream",
     "text": [
      "simulate all success\n",
      "Loop Count: 54\n"
     ]
    },
    {
     "name": "stderr",
     "output_type": "stream",
     "text": [
      "/tmp/ipykernel_3434824/3136981537.py:42: FutureWarning: Setting an item of incompatible dtype is deprecated and will raise in a future error of pandas. Value '<Metabolite: c1c(cc(cc1C(=O)O)[N+](=O)[O-])C(=O)O>' has dtype incompatible with float64, please explicitly cast to a compatible dtype first.\n",
      "  positive_candidate_dfs[j].at[i, \"Metabolite\"] = metabolite\n",
      "/tmp/ipykernel_3434824/3136981537.py:42: SettingWithCopyWarning: \n",
      "A value is trying to be set on a copy of a slice from a DataFrame\n",
      "\n",
      "See the caveats in the documentation: https://pandas.pydata.org/pandas-docs/stable/user_guide/indexing.html#returning-a-view-versus-a-copy\n",
      "  positive_candidate_dfs[j].at[i, \"Metabolite\"] = metabolite\n"
     ]
    },
    {
     "name": "stdout",
     "output_type": "stream",
     "text": [
      "simulate all success\n",
      "Loop Count: 55\n"
     ]
    },
    {
     "name": "stderr",
     "output_type": "stream",
     "text": [
      "/tmp/ipykernel_3434824/3136981537.py:42: FutureWarning: Setting an item of incompatible dtype is deprecated and will raise in a future error of pandas. Value '<Metabolite: c1ccnc(c1)C(c2ccc(cc2)Cl)OC3CCN(CC3)CCCC(=O)O>' has dtype incompatible with float64, please explicitly cast to a compatible dtype first.\n",
      "  positive_candidate_dfs[j].at[i, \"Metabolite\"] = metabolite\n",
      "/tmp/ipykernel_3434824/3136981537.py:42: SettingWithCopyWarning: \n",
      "A value is trying to be set on a copy of a slice from a DataFrame\n",
      "\n",
      "See the caveats in the documentation: https://pandas.pydata.org/pandas-docs/stable/user_guide/indexing.html#returning-a-view-versus-a-copy\n",
      "  positive_candidate_dfs[j].at[i, \"Metabolite\"] = metabolite\n"
     ]
    },
    {
     "name": "stdout",
     "output_type": "stream",
     "text": [
      "simulate all success\n",
      "Loop Count: 56\n"
     ]
    },
    {
     "name": "stderr",
     "output_type": "stream",
     "text": [
      "/tmp/ipykernel_3434824/3136981537.py:42: FutureWarning: Setting an item of incompatible dtype is deprecated and will raise in a future error of pandas. Value '<Metabolite: CCC(COC(=O)CCS)(COC(=O)CCS)COC(=O)CCS>' has dtype incompatible with float64, please explicitly cast to a compatible dtype first.\n",
      "  positive_candidate_dfs[j].at[i, \"Metabolite\"] = metabolite\n",
      "/tmp/ipykernel_3434824/3136981537.py:42: SettingWithCopyWarning: \n",
      "A value is trying to be set on a copy of a slice from a DataFrame\n",
      "\n",
      "See the caveats in the documentation: https://pandas.pydata.org/pandas-docs/stable/user_guide/indexing.html#returning-a-view-versus-a-copy\n",
      "  positive_candidate_dfs[j].at[i, \"Metabolite\"] = metabolite\n"
     ]
    },
    {
     "name": "stdout",
     "output_type": "stream",
     "text": [
      "simulate all success\n",
      "Loop Count: 57\n"
     ]
    },
    {
     "name": "stderr",
     "output_type": "stream",
     "text": [
      "/tmp/ipykernel_3434824/3136981537.py:42: FutureWarning: Setting an item of incompatible dtype is deprecated and will raise in a future error of pandas. Value '<Metabolite: Cc1cccc(c1N(Cn2cccn2)C(=O)CCl)C>' has dtype incompatible with float64, please explicitly cast to a compatible dtype first.\n",
      "  positive_candidate_dfs[j].at[i, \"Metabolite\"] = metabolite\n",
      "/tmp/ipykernel_3434824/3136981537.py:42: SettingWithCopyWarning: \n",
      "A value is trying to be set on a copy of a slice from a DataFrame\n",
      "\n",
      "See the caveats in the documentation: https://pandas.pydata.org/pandas-docs/stable/user_guide/indexing.html#returning-a-view-versus-a-copy\n",
      "  positive_candidate_dfs[j].at[i, \"Metabolite\"] = metabolite\n"
     ]
    },
    {
     "name": "stdout",
     "output_type": "stream",
     "text": [
      "simulate all success\n",
      "Loop Count: 58\n"
     ]
    },
    {
     "name": "stderr",
     "output_type": "stream",
     "text": [
      "/tmp/ipykernel_3434824/3136981537.py:42: FutureWarning: Setting an item of incompatible dtype is deprecated and will raise in a future error of pandas. Value '<Metabolite: COc1cc(c(cc1S(=O)(=O)O)C(=O)c2ccccc2)O>' has dtype incompatible with float64, please explicitly cast to a compatible dtype first.\n",
      "  positive_candidate_dfs[j].at[i, \"Metabolite\"] = metabolite\n",
      "/tmp/ipykernel_3434824/3136981537.py:42: SettingWithCopyWarning: \n",
      "A value is trying to be set on a copy of a slice from a DataFrame\n",
      "\n",
      "See the caveats in the documentation: https://pandas.pydata.org/pandas-docs/stable/user_guide/indexing.html#returning-a-view-versus-a-copy\n",
      "  positive_candidate_dfs[j].at[i, \"Metabolite\"] = metabolite\n"
     ]
    },
    {
     "name": "stdout",
     "output_type": "stream",
     "text": [
      "simulate all success\n",
      "Loop Count: 59\n"
     ]
    },
    {
     "name": "stderr",
     "output_type": "stream",
     "text": [
      "/tmp/ipykernel_3434824/3136981537.py:42: FutureWarning: Setting an item of incompatible dtype is deprecated and will raise in a future error of pandas. Value '<Metabolite: c1cc(cc(c1)OCC2CO2)OCC3CO3>' has dtype incompatible with float64, please explicitly cast to a compatible dtype first.\n",
      "  positive_candidate_dfs[j].at[i, \"Metabolite\"] = metabolite\n",
      "/tmp/ipykernel_3434824/3136981537.py:42: SettingWithCopyWarning: \n",
      "A value is trying to be set on a copy of a slice from a DataFrame\n",
      "\n",
      "See the caveats in the documentation: https://pandas.pydata.org/pandas-docs/stable/user_guide/indexing.html#returning-a-view-versus-a-copy\n",
      "  positive_candidate_dfs[j].at[i, \"Metabolite\"] = metabolite\n",
      "/home/lbarbut/fiora/fiora/MS/spectral_scores.py:8: RuntimeWarning: invalid value encountered in scalar divide\n",
      "  return np.dot(vec, vec_other) / (np.linalg.norm(vec) * np.linalg.norm(vec_other))\n",
      "/home/lbarbut/fiora/fiora/MS/spectral_scores.py:92: RuntimeWarning: divide by zero encountered in divide\n",
      "  vec = vec / np.linalg.norm(vec)\n",
      "/home/lbarbut/fiora/fiora/MS/spectral_scores.py:92: RuntimeWarning: invalid value encountered in divide\n",
      "  vec = vec / np.linalg.norm(vec)\n"
     ]
    },
    {
     "name": "stdout",
     "output_type": "stream",
     "text": [
      "simulate all success\n",
      "Loop Count: 60\n"
     ]
    },
    {
     "name": "stderr",
     "output_type": "stream",
     "text": [
      "/tmp/ipykernel_3434824/3136981537.py:42: FutureWarning: Setting an item of incompatible dtype is deprecated and will raise in a future error of pandas. Value '<Metabolite: CN1c2ccc(cc2N(C(=O)CC1=O)c3ccccc3)Cl>' has dtype incompatible with float64, please explicitly cast to a compatible dtype first.\n",
      "  positive_candidate_dfs[j].at[i, \"Metabolite\"] = metabolite\n",
      "/tmp/ipykernel_3434824/3136981537.py:42: SettingWithCopyWarning: \n",
      "A value is trying to be set on a copy of a slice from a DataFrame\n",
      "\n",
      "See the caveats in the documentation: https://pandas.pydata.org/pandas-docs/stable/user_guide/indexing.html#returning-a-view-versus-a-copy\n",
      "  positive_candidate_dfs[j].at[i, \"Metabolite\"] = metabolite\n",
      "/home/lbarbut/fiora/fiora/MS/spectral_scores.py:8: RuntimeWarning: invalid value encountered in scalar divide\n",
      "  return np.dot(vec, vec_other) / (np.linalg.norm(vec) * np.linalg.norm(vec_other))\n",
      "/home/lbarbut/fiora/fiora/MS/spectral_scores.py:92: RuntimeWarning: invalid value encountered in divide\n",
      "  vec = vec / np.linalg.norm(vec)\n"
     ]
    },
    {
     "name": "stdout",
     "output_type": "stream",
     "text": [
      "simulate all success\n",
      "Loop Count: 61\n"
     ]
    },
    {
     "name": "stderr",
     "output_type": "stream",
     "text": [
      "/tmp/ipykernel_3434824/3136981537.py:42: FutureWarning: Setting an item of incompatible dtype is deprecated and will raise in a future error of pandas. Value '<Metabolite: CC(=O)OCC(=O)C1(CCC2C1(CC(C3C2CCC4=CC(=O)CCC34C)O)C)O>' has dtype incompatible with float64, please explicitly cast to a compatible dtype first.\n",
      "  positive_candidate_dfs[j].at[i, \"Metabolite\"] = metabolite\n",
      "/tmp/ipykernel_3434824/3136981537.py:42: SettingWithCopyWarning: \n",
      "A value is trying to be set on a copy of a slice from a DataFrame\n",
      "\n",
      "See the caveats in the documentation: https://pandas.pydata.org/pandas-docs/stable/user_guide/indexing.html#returning-a-view-versus-a-copy\n",
      "  positive_candidate_dfs[j].at[i, \"Metabolite\"] = metabolite\n",
      "/home/lbarbut/fiora/fiora/MS/spectral_scores.py:8: RuntimeWarning: invalid value encountered in scalar divide\n",
      "  return np.dot(vec, vec_other) / (np.linalg.norm(vec) * np.linalg.norm(vec_other))\n",
      "/home/lbarbut/fiora/fiora/MS/spectral_scores.py:92: RuntimeWarning: divide by zero encountered in divide\n",
      "  vec = vec / np.linalg.norm(vec)\n",
      "/home/lbarbut/fiora/fiora/MS/spectral_scores.py:92: RuntimeWarning: invalid value encountered in divide\n",
      "  vec = vec / np.linalg.norm(vec)\n"
     ]
    },
    {
     "name": "stdout",
     "output_type": "stream",
     "text": [
      "simulate all success\n",
      "Loop Count: 62\n"
     ]
    },
    {
     "name": "stderr",
     "output_type": "stream",
     "text": [
      "/tmp/ipykernel_3434824/3136981537.py:42: FutureWarning: Setting an item of incompatible dtype is deprecated and will raise in a future error of pandas. Value '<Metabolite: CCCCCCCCCCCC[N+](C)(C)[O-]>' has dtype incompatible with float64, please explicitly cast to a compatible dtype first.\n",
      "  positive_candidate_dfs[j].at[i, \"Metabolite\"] = metabolite\n",
      "/tmp/ipykernel_3434824/3136981537.py:42: SettingWithCopyWarning: \n",
      "A value is trying to be set on a copy of a slice from a DataFrame\n",
      "\n",
      "See the caveats in the documentation: https://pandas.pydata.org/pandas-docs/stable/user_guide/indexing.html#returning-a-view-versus-a-copy\n",
      "  positive_candidate_dfs[j].at[i, \"Metabolite\"] = metabolite\n"
     ]
    },
    {
     "name": "stdout",
     "output_type": "stream",
     "text": [
      "simulate all success\n",
      "Loop Count: 63\n"
     ]
    },
    {
     "name": "stderr",
     "output_type": "stream",
     "text": [
      "/tmp/ipykernel_3434824/3136981537.py:42: FutureWarning: Setting an item of incompatible dtype is deprecated and will raise in a future error of pandas. Value '<Metabolite: CCCCc1nc(c(n1Cc2ccc(cc2)c3ccccc3c4n[nH]nn4)CO)Cl>' has dtype incompatible with float64, please explicitly cast to a compatible dtype first.\n",
      "  positive_candidate_dfs[j].at[i, \"Metabolite\"] = metabolite\n",
      "/tmp/ipykernel_3434824/3136981537.py:42: SettingWithCopyWarning: \n",
      "A value is trying to be set on a copy of a slice from a DataFrame\n",
      "\n",
      "See the caveats in the documentation: https://pandas.pydata.org/pandas-docs/stable/user_guide/indexing.html#returning-a-view-versus-a-copy\n",
      "  positive_candidate_dfs[j].at[i, \"Metabolite\"] = metabolite\n"
     ]
    },
    {
     "name": "stdout",
     "output_type": "stream",
     "text": [
      "simulate all success\n",
      "Loop Count: 64\n"
     ]
    },
    {
     "name": "stderr",
     "output_type": "stream",
     "text": [
      "/tmp/ipykernel_3434824/3136981537.py:42: FutureWarning: Setting an item of incompatible dtype is deprecated and will raise in a future error of pandas. Value '<Metabolite: CC(C)(C)NCC(COc1c(nsn1)N2CCOCC2)O>' has dtype incompatible with float64, please explicitly cast to a compatible dtype first.\n",
      "  positive_candidate_dfs[j].at[i, \"Metabolite\"] = metabolite\n",
      "/tmp/ipykernel_3434824/3136981537.py:42: SettingWithCopyWarning: \n",
      "A value is trying to be set on a copy of a slice from a DataFrame\n",
      "\n",
      "See the caveats in the documentation: https://pandas.pydata.org/pandas-docs/stable/user_guide/indexing.html#returning-a-view-versus-a-copy\n",
      "  positive_candidate_dfs[j].at[i, \"Metabolite\"] = metabolite\n"
     ]
    },
    {
     "name": "stdout",
     "output_type": "stream",
     "text": [
      "simulate all success\n",
      "Loop Count: 65\n"
     ]
    },
    {
     "name": "stderr",
     "output_type": "stream",
     "text": [
      "/tmp/ipykernel_3434824/3136981537.py:42: FutureWarning: Setting an item of incompatible dtype is deprecated and will raise in a future error of pandas. Value '<Metabolite: c1cc(c(c(c1)Cl)COC(Cn2ccnc2)c3ccc(cc3Cl)Cl)Cl>' has dtype incompatible with float64, please explicitly cast to a compatible dtype first.\n",
      "  positive_candidate_dfs[j].at[i, \"Metabolite\"] = metabolite\n",
      "/tmp/ipykernel_3434824/3136981537.py:42: SettingWithCopyWarning: \n",
      "A value is trying to be set on a copy of a slice from a DataFrame\n",
      "\n",
      "See the caveats in the documentation: https://pandas.pydata.org/pandas-docs/stable/user_guide/indexing.html#returning-a-view-versus-a-copy\n",
      "  positive_candidate_dfs[j].at[i, \"Metabolite\"] = metabolite\n"
     ]
    },
    {
     "name": "stdout",
     "output_type": "stream",
     "text": [
      "simulate all success\n",
      "Loop Count: 66\n"
     ]
    },
    {
     "name": "stderr",
     "output_type": "stream",
     "text": [
      "/tmp/ipykernel_3434824/3136981537.py:42: FutureWarning: Setting an item of incompatible dtype is deprecated and will raise in a future error of pandas. Value '<Metabolite: Cc1c2c(c(c(c1OC)CC=C(C)CCC(=O)O)O)C(=O)OC2>' has dtype incompatible with float64, please explicitly cast to a compatible dtype first.\n",
      "  positive_candidate_dfs[j].at[i, \"Metabolite\"] = metabolite\n",
      "/tmp/ipykernel_3434824/3136981537.py:42: SettingWithCopyWarning: \n",
      "A value is trying to be set on a copy of a slice from a DataFrame\n",
      "\n",
      "See the caveats in the documentation: https://pandas.pydata.org/pandas-docs/stable/user_guide/indexing.html#returning-a-view-versus-a-copy\n",
      "  positive_candidate_dfs[j].at[i, \"Metabolite\"] = metabolite\n"
     ]
    },
    {
     "name": "stdout",
     "output_type": "stream",
     "text": [
      "simulate all success\n",
      "Loop Count: 67\n"
     ]
    },
    {
     "name": "stderr",
     "output_type": "stream",
     "text": [
      "/tmp/ipykernel_3434824/3136981537.py:42: FutureWarning: Setting an item of incompatible dtype is deprecated and will raise in a future error of pandas. Value '<Metabolite: COP(=S)(OC)Oc1ccc(cc1)[N+](=O)[O-]>' has dtype incompatible with float64, please explicitly cast to a compatible dtype first.\n",
      "  positive_candidate_dfs[j].at[i, \"Metabolite\"] = metabolite\n",
      "/tmp/ipykernel_3434824/3136981537.py:42: SettingWithCopyWarning: \n",
      "A value is trying to be set on a copy of a slice from a DataFrame\n",
      "\n",
      "See the caveats in the documentation: https://pandas.pydata.org/pandas-docs/stable/user_guide/indexing.html#returning-a-view-versus-a-copy\n",
      "  positive_candidate_dfs[j].at[i, \"Metabolite\"] = metabolite\n"
     ]
    },
    {
     "name": "stdout",
     "output_type": "stream",
     "text": [
      "simulate all success\n",
      "Loop Count: 68\n"
     ]
    },
    {
     "name": "stderr",
     "output_type": "stream",
     "text": [
      "/tmp/ipykernel_3434824/3136981537.py:42: FutureWarning: Setting an item of incompatible dtype is deprecated and will raise in a future error of pandas. Value '<Metabolite: CCC(=C(c1ccccc1)c2ccc(cc2)OCCN(C)C)c3ccccc3>' has dtype incompatible with float64, please explicitly cast to a compatible dtype first.\n",
      "  positive_candidate_dfs[j].at[i, \"Metabolite\"] = metabolite\n",
      "/tmp/ipykernel_3434824/3136981537.py:42: SettingWithCopyWarning: \n",
      "A value is trying to be set on a copy of a slice from a DataFrame\n",
      "\n",
      "See the caveats in the documentation: https://pandas.pydata.org/pandas-docs/stable/user_guide/indexing.html#returning-a-view-versus-a-copy\n",
      "  positive_candidate_dfs[j].at[i, \"Metabolite\"] = metabolite\n"
     ]
    },
    {
     "name": "stdout",
     "output_type": "stream",
     "text": [
      "simulate all success\n",
      "Loop Count: 69\n"
     ]
    },
    {
     "name": "stderr",
     "output_type": "stream",
     "text": [
      "/tmp/ipykernel_3434824/3136981537.py:42: FutureWarning: Setting an item of incompatible dtype is deprecated and will raise in a future error of pandas. Value '<Metabolite: COC(=O)C(c1ccccc1Cl)N2CCc3c(ccs3)C2>' has dtype incompatible with float64, please explicitly cast to a compatible dtype first.\n",
      "  positive_candidate_dfs[j].at[i, \"Metabolite\"] = metabolite\n",
      "/tmp/ipykernel_3434824/3136981537.py:42: SettingWithCopyWarning: \n",
      "A value is trying to be set on a copy of a slice from a DataFrame\n",
      "\n",
      "See the caveats in the documentation: https://pandas.pydata.org/pandas-docs/stable/user_guide/indexing.html#returning-a-view-versus-a-copy\n",
      "  positive_candidate_dfs[j].at[i, \"Metabolite\"] = metabolite\n"
     ]
    },
    {
     "name": "stdout",
     "output_type": "stream",
     "text": [
      "simulate all success\n",
      "Loop Count: 70\n"
     ]
    },
    {
     "name": "stderr",
     "output_type": "stream",
     "text": [
      "/tmp/ipykernel_3434824/3136981537.py:42: FutureWarning: Setting an item of incompatible dtype is deprecated and will raise in a future error of pandas. Value '<Metabolite: CCOC1C(c2cc(ccc2O1)OS(=O)(=O)C)(C)C>' has dtype incompatible with float64, please explicitly cast to a compatible dtype first.\n",
      "  positive_candidate_dfs[j].at[i, \"Metabolite\"] = metabolite\n",
      "/tmp/ipykernel_3434824/3136981537.py:42: SettingWithCopyWarning: \n",
      "A value is trying to be set on a copy of a slice from a DataFrame\n",
      "\n",
      "See the caveats in the documentation: https://pandas.pydata.org/pandas-docs/stable/user_guide/indexing.html#returning-a-view-versus-a-copy\n",
      "  positive_candidate_dfs[j].at[i, \"Metabolite\"] = metabolite\n",
      "/home/lbarbut/fiora/fiora/MS/spectral_scores.py:8: RuntimeWarning: invalid value encountered in scalar divide\n",
      "  return np.dot(vec, vec_other) / (np.linalg.norm(vec) * np.linalg.norm(vec_other))\n",
      "/home/lbarbut/fiora/fiora/MS/spectral_scores.py:92: RuntimeWarning: divide by zero encountered in divide\n",
      "  vec = vec / np.linalg.norm(vec)\n",
      "/home/lbarbut/fiora/fiora/MS/spectral_scores.py:92: RuntimeWarning: invalid value encountered in divide\n",
      "  vec = vec / np.linalg.norm(vec)\n"
     ]
    },
    {
     "name": "stdout",
     "output_type": "stream",
     "text": [
      "simulate all success\n",
      "Loop Count: 71\n"
     ]
    },
    {
     "name": "stderr",
     "output_type": "stream",
     "text": [
      "/tmp/ipykernel_3434824/3136981537.py:42: FutureWarning: Setting an item of incompatible dtype is deprecated and will raise in a future error of pandas. Value '<Metabolite: c1ccc(cc1)OP(=O)(O)Oc2ccccc2>' has dtype incompatible with float64, please explicitly cast to a compatible dtype first.\n",
      "  positive_candidate_dfs[j].at[i, \"Metabolite\"] = metabolite\n",
      "/tmp/ipykernel_3434824/3136981537.py:42: SettingWithCopyWarning: \n",
      "A value is trying to be set on a copy of a slice from a DataFrame\n",
      "\n",
      "See the caveats in the documentation: https://pandas.pydata.org/pandas-docs/stable/user_guide/indexing.html#returning-a-view-versus-a-copy\n",
      "  positive_candidate_dfs[j].at[i, \"Metabolite\"] = metabolite\n"
     ]
    },
    {
     "name": "stdout",
     "output_type": "stream",
     "text": [
      "simulate all success\n",
      "Loop Count: 72\n"
     ]
    },
    {
     "name": "stderr",
     "output_type": "stream",
     "text": [
      "/tmp/ipykernel_3434824/3136981537.py:42: FutureWarning: Setting an item of incompatible dtype is deprecated and will raise in a future error of pandas. Value '<Metabolite: c1ccc2c(c1)nc(s2)SN3CCOCC3>' has dtype incompatible with float64, please explicitly cast to a compatible dtype first.\n",
      "  positive_candidate_dfs[j].at[i, \"Metabolite\"] = metabolite\n",
      "/tmp/ipykernel_3434824/3136981537.py:42: SettingWithCopyWarning: \n",
      "A value is trying to be set on a copy of a slice from a DataFrame\n",
      "\n",
      "See the caveats in the documentation: https://pandas.pydata.org/pandas-docs/stable/user_guide/indexing.html#returning-a-view-versus-a-copy\n",
      "  positive_candidate_dfs[j].at[i, \"Metabolite\"] = metabolite\n"
     ]
    },
    {
     "name": "stdout",
     "output_type": "stream",
     "text": [
      "simulate all success\n",
      "Loop Count: 73\n"
     ]
    },
    {
     "name": "stderr",
     "output_type": "stream",
     "text": [
      "/tmp/ipykernel_3434824/3136981537.py:42: FutureWarning: Setting an item of incompatible dtype is deprecated and will raise in a future error of pandas. Value '<Metabolite: CC12CCC3C(C1CCC2(C#C)O)CCC4=CC(=O)CCC34>' has dtype incompatible with float64, please explicitly cast to a compatible dtype first.\n",
      "  positive_candidate_dfs[j].at[i, \"Metabolite\"] = metabolite\n",
      "/tmp/ipykernel_3434824/3136981537.py:42: SettingWithCopyWarning: \n",
      "A value is trying to be set on a copy of a slice from a DataFrame\n",
      "\n",
      "See the caveats in the documentation: https://pandas.pydata.org/pandas-docs/stable/user_guide/indexing.html#returning-a-view-versus-a-copy\n",
      "  positive_candidate_dfs[j].at[i, \"Metabolite\"] = metabolite\n"
     ]
    },
    {
     "name": "stdout",
     "output_type": "stream",
     "text": [
      "simulate all success\n",
      "Loop Count: 74\n"
     ]
    },
    {
     "name": "stderr",
     "output_type": "stream",
     "text": [
      "/tmp/ipykernel_3434824/3136981537.py:42: FutureWarning: Setting an item of incompatible dtype is deprecated and will raise in a future error of pandas. Value '<Metabolite: CCOc1nc2cccc(c2n1Cc3ccc(cc3)c4ccccc4c5n[nH]nn5)C(=O)O>' has dtype incompatible with float64, please explicitly cast to a compatible dtype first.\n",
      "  positive_candidate_dfs[j].at[i, \"Metabolite\"] = metabolite\n",
      "/tmp/ipykernel_3434824/3136981537.py:42: SettingWithCopyWarning: \n",
      "A value is trying to be set on a copy of a slice from a DataFrame\n",
      "\n",
      "See the caveats in the documentation: https://pandas.pydata.org/pandas-docs/stable/user_guide/indexing.html#returning-a-view-versus-a-copy\n",
      "  positive_candidate_dfs[j].at[i, \"Metabolite\"] = metabolite\n"
     ]
    },
    {
     "name": "stdout",
     "output_type": "stream",
     "text": [
      "simulate all success\n",
      "Loop Count: 75\n"
     ]
    },
    {
     "name": "stderr",
     "output_type": "stream",
     "text": [
      "/tmp/ipykernel_3434824/3136981537.py:42: FutureWarning: Setting an item of incompatible dtype is deprecated and will raise in a future error of pandas. Value '<Metabolite: CC(Cc1ccc2c(c1)OCO2)NC>' has dtype incompatible with float64, please explicitly cast to a compatible dtype first.\n",
      "  positive_candidate_dfs[j].at[i, \"Metabolite\"] = metabolite\n",
      "/tmp/ipykernel_3434824/3136981537.py:42: SettingWithCopyWarning: \n",
      "A value is trying to be set on a copy of a slice from a DataFrame\n",
      "\n",
      "See the caveats in the documentation: https://pandas.pydata.org/pandas-docs/stable/user_guide/indexing.html#returning-a-view-versus-a-copy\n",
      "  positive_candidate_dfs[j].at[i, \"Metabolite\"] = metabolite\n"
     ]
    },
    {
     "name": "stdout",
     "output_type": "stream",
     "text": [
      "simulate all success\n",
      "Loop Count: 76\n"
     ]
    },
    {
     "name": "stderr",
     "output_type": "stream",
     "text": [
      "/tmp/ipykernel_3434824/3136981537.py:42: FutureWarning: Setting an item of incompatible dtype is deprecated and will raise in a future error of pandas. Value '<Metabolite: Cc1cc(ccc1SC)OP(=S)(OC)OC>' has dtype incompatible with float64, please explicitly cast to a compatible dtype first.\n",
      "  positive_candidate_dfs[j].at[i, \"Metabolite\"] = metabolite\n",
      "/tmp/ipykernel_3434824/3136981537.py:42: SettingWithCopyWarning: \n",
      "A value is trying to be set on a copy of a slice from a DataFrame\n",
      "\n",
      "See the caveats in the documentation: https://pandas.pydata.org/pandas-docs/stable/user_guide/indexing.html#returning-a-view-versus-a-copy\n",
      "  positive_candidate_dfs[j].at[i, \"Metabolite\"] = metabolite\n"
     ]
    },
    {
     "name": "stdout",
     "output_type": "stream",
     "text": [
      "simulate all success\n",
      "Loop Count: 77\n"
     ]
    },
    {
     "name": "stderr",
     "output_type": "stream",
     "text": [
      "/tmp/ipykernel_3434824/3136981537.py:42: FutureWarning: Setting an item of incompatible dtype is deprecated and will raise in a future error of pandas. Value '<Metabolite: C=CCOC(=O)c1ccccc1C(=O)OCC=C>' has dtype incompatible with float64, please explicitly cast to a compatible dtype first.\n",
      "  positive_candidate_dfs[j].at[i, \"Metabolite\"] = metabolite\n",
      "/tmp/ipykernel_3434824/3136981537.py:42: SettingWithCopyWarning: \n",
      "A value is trying to be set on a copy of a slice from a DataFrame\n",
      "\n",
      "See the caveats in the documentation: https://pandas.pydata.org/pandas-docs/stable/user_guide/indexing.html#returning-a-view-versus-a-copy\n",
      "  positive_candidate_dfs[j].at[i, \"Metabolite\"] = metabolite\n",
      "/home/lbarbut/fiora/fiora/MS/spectral_scores.py:8: RuntimeWarning: invalid value encountered in scalar divide\n",
      "  return np.dot(vec, vec_other) / (np.linalg.norm(vec) * np.linalg.norm(vec_other))\n",
      "/home/lbarbut/fiora/fiora/MS/spectral_scores.py:92: RuntimeWarning: divide by zero encountered in divide\n",
      "  vec = vec / np.linalg.norm(vec)\n",
      "/home/lbarbut/fiora/fiora/MS/spectral_scores.py:92: RuntimeWarning: invalid value encountered in divide\n",
      "  vec = vec / np.linalg.norm(vec)\n"
     ]
    },
    {
     "name": "stdout",
     "output_type": "stream",
     "text": [
      "simulate all success\n",
      "Loop Count: 78\n"
     ]
    },
    {
     "name": "stderr",
     "output_type": "stream",
     "text": [
      "/tmp/ipykernel_3434824/3136981537.py:42: FutureWarning: Setting an item of incompatible dtype is deprecated and will raise in a future error of pandas. Value '<Metabolite: Cc1ccc2c3ccccc3ccc2n1>' has dtype incompatible with float64, please explicitly cast to a compatible dtype first.\n",
      "  positive_candidate_dfs[j].at[i, \"Metabolite\"] = metabolite\n",
      "/tmp/ipykernel_3434824/3136981537.py:42: SettingWithCopyWarning: \n",
      "A value is trying to be set on a copy of a slice from a DataFrame\n",
      "\n",
      "See the caveats in the documentation: https://pandas.pydata.org/pandas-docs/stable/user_guide/indexing.html#returning-a-view-versus-a-copy\n",
      "  positive_candidate_dfs[j].at[i, \"Metabolite\"] = metabolite\n"
     ]
    },
    {
     "name": "stdout",
     "output_type": "stream",
     "text": [
      "simulate all success\n",
      "Loop Count: 79\n"
     ]
    },
    {
     "name": "stderr",
     "output_type": "stream",
     "text": [
      "/tmp/ipykernel_3434824/3136981537.py:42: FutureWarning: Setting an item of incompatible dtype is deprecated and will raise in a future error of pandas. Value '<Metabolite: CCCCCc1cc(c-2c(c1)OC(c3c2cc(cc3)C)(C)C)O>' has dtype incompatible with float64, please explicitly cast to a compatible dtype first.\n",
      "  positive_candidate_dfs[j].at[i, \"Metabolite\"] = metabolite\n",
      "/tmp/ipykernel_3434824/3136981537.py:42: SettingWithCopyWarning: \n",
      "A value is trying to be set on a copy of a slice from a DataFrame\n",
      "\n",
      "See the caveats in the documentation: https://pandas.pydata.org/pandas-docs/stable/user_guide/indexing.html#returning-a-view-versus-a-copy\n",
      "  positive_candidate_dfs[j].at[i, \"Metabolite\"] = metabolite\n"
     ]
    },
    {
     "name": "stdout",
     "output_type": "stream",
     "text": [
      "simulate all success\n",
      "Loop Count: 80\n"
     ]
    },
    {
     "name": "stderr",
     "output_type": "stream",
     "text": [
      "/tmp/ipykernel_3434824/3136981537.py:42: FutureWarning: Setting an item of incompatible dtype is deprecated and will raise in a future error of pandas. Value '<Metabolite: c1ccc2c(c1)Cc3ccccc3C2=O>' has dtype incompatible with float64, please explicitly cast to a compatible dtype first.\n",
      "  positive_candidate_dfs[j].at[i, \"Metabolite\"] = metabolite\n",
      "/tmp/ipykernel_3434824/3136981537.py:42: SettingWithCopyWarning: \n",
      "A value is trying to be set on a copy of a slice from a DataFrame\n",
      "\n",
      "See the caveats in the documentation: https://pandas.pydata.org/pandas-docs/stable/user_guide/indexing.html#returning-a-view-versus-a-copy\n",
      "  positive_candidate_dfs[j].at[i, \"Metabolite\"] = metabolite\n",
      "/home/lbarbut/fiora/fiora/MS/spectral_scores.py:8: RuntimeWarning: invalid value encountered in scalar divide\n",
      "  return np.dot(vec, vec_other) / (np.linalg.norm(vec) * np.linalg.norm(vec_other))\n",
      "/home/lbarbut/fiora/fiora/MS/spectral_scores.py:92: RuntimeWarning: invalid value encountered in divide\n",
      "  vec = vec / np.linalg.norm(vec)\n"
     ]
    },
    {
     "name": "stdout",
     "output_type": "stream",
     "text": [
      "simulate all success\n",
      "Loop Count: 81\n"
     ]
    },
    {
     "name": "stderr",
     "output_type": "stream",
     "text": [
      "/tmp/ipykernel_3434824/3136981537.py:42: FutureWarning: Setting an item of incompatible dtype is deprecated and will raise in a future error of pandas. Value '<Metabolite: c1cc2c(c(c1)OCC3CNCCO3)CC=C2>' has dtype incompatible with float64, please explicitly cast to a compatible dtype first.\n",
      "  positive_candidate_dfs[j].at[i, \"Metabolite\"] = metabolite\n",
      "/tmp/ipykernel_3434824/3136981537.py:42: SettingWithCopyWarning: \n",
      "A value is trying to be set on a copy of a slice from a DataFrame\n",
      "\n",
      "See the caveats in the documentation: https://pandas.pydata.org/pandas-docs/stable/user_guide/indexing.html#returning-a-view-versus-a-copy\n",
      "  positive_candidate_dfs[j].at[i, \"Metabolite\"] = metabolite\n",
      "/home/lbarbut/fiora/fiora/MS/spectral_scores.py:8: RuntimeWarning: invalid value encountered in scalar divide\n",
      "  return np.dot(vec, vec_other) / (np.linalg.norm(vec) * np.linalg.norm(vec_other))\n",
      "/home/lbarbut/fiora/fiora/MS/spectral_scores.py:92: RuntimeWarning: divide by zero encountered in divide\n",
      "  vec = vec / np.linalg.norm(vec)\n",
      "/home/lbarbut/fiora/fiora/MS/spectral_scores.py:92: RuntimeWarning: invalid value encountered in divide\n",
      "  vec = vec / np.linalg.norm(vec)\n"
     ]
    },
    {
     "name": "stdout",
     "output_type": "stream",
     "text": [
      "simulate all success\n",
      "Loop Count: 82\n"
     ]
    },
    {
     "name": "stderr",
     "output_type": "stream",
     "text": [
      "/tmp/ipykernel_3434824/3136981537.py:42: FutureWarning: Setting an item of incompatible dtype is deprecated and will raise in a future error of pandas. Value '<Metabolite: CC(C)(C)c1ccc(cc1)C(=O)CCCN2CCC(CC2)OC(c3ccccc3)c4ccccc4>' has dtype incompatible with float64, please explicitly cast to a compatible dtype first.\n",
      "  positive_candidate_dfs[j].at[i, \"Metabolite\"] = metabolite\n",
      "/tmp/ipykernel_3434824/3136981537.py:42: SettingWithCopyWarning: \n",
      "A value is trying to be set on a copy of a slice from a DataFrame\n",
      "\n",
      "See the caveats in the documentation: https://pandas.pydata.org/pandas-docs/stable/user_guide/indexing.html#returning-a-view-versus-a-copy\n",
      "  positive_candidate_dfs[j].at[i, \"Metabolite\"] = metabolite\n"
     ]
    },
    {
     "name": "stdout",
     "output_type": "stream",
     "text": [
      "simulate all success\n",
      "Loop Count: 83\n"
     ]
    },
    {
     "name": "stderr",
     "output_type": "stream",
     "text": [
      "/tmp/ipykernel_3434824/3136981537.py:42: FutureWarning: Setting an item of incompatible dtype is deprecated and will raise in a future error of pandas. Value '<Metabolite: C[C@]12CCC3C([C@]1(CC[C@@H]2c4ccc(=O)oc4)O)CC=C5[C@@]3(CCC=C5)C>' has dtype incompatible with float64, please explicitly cast to a compatible dtype first.\n",
      "  positive_candidate_dfs[j].at[i, \"Metabolite\"] = metabolite\n",
      "/tmp/ipykernel_3434824/3136981537.py:42: SettingWithCopyWarning: \n",
      "A value is trying to be set on a copy of a slice from a DataFrame\n",
      "\n",
      "See the caveats in the documentation: https://pandas.pydata.org/pandas-docs/stable/user_guide/indexing.html#returning-a-view-versus-a-copy\n",
      "  positive_candidate_dfs[j].at[i, \"Metabolite\"] = metabolite\n"
     ]
    },
    {
     "name": "stdout",
     "output_type": "stream",
     "text": [
      "simulate all success\n",
      "Loop Count: 84\n"
     ]
    },
    {
     "name": "stderr",
     "output_type": "stream",
     "text": [
      "/tmp/ipykernel_3434824/3136981537.py:42: FutureWarning: Setting an item of incompatible dtype is deprecated and will raise in a future error of pandas. Value '<Metabolite: C(CSCC(C(=O)O)N)C(C(=O)O)N>' has dtype incompatible with float64, please explicitly cast to a compatible dtype first.\n",
      "  positive_candidate_dfs[j].at[i, \"Metabolite\"] = metabolite\n",
      "/tmp/ipykernel_3434824/3136981537.py:42: SettingWithCopyWarning: \n",
      "A value is trying to be set on a copy of a slice from a DataFrame\n",
      "\n",
      "See the caveats in the documentation: https://pandas.pydata.org/pandas-docs/stable/user_guide/indexing.html#returning-a-view-versus-a-copy\n",
      "  positive_candidate_dfs[j].at[i, \"Metabolite\"] = metabolite\n"
     ]
    },
    {
     "name": "stdout",
     "output_type": "stream",
     "text": [
      "simulate all success\n",
      "Loop Count: 85\n"
     ]
    },
    {
     "name": "stderr",
     "output_type": "stream",
     "text": [
      "/tmp/ipykernel_3434824/3136981537.py:42: FutureWarning: Setting an item of incompatible dtype is deprecated and will raise in a future error of pandas. Value '<Metabolite: CC(=O)O[C@]1(CC[C@@H]2[C@@]1(CC[C@H]3[C@H]2CCC4=CC(=O)CC[C@H]34)C)C#C>' has dtype incompatible with float64, please explicitly cast to a compatible dtype first.\n",
      "  positive_candidate_dfs[j].at[i, \"Metabolite\"] = metabolite\n",
      "/tmp/ipykernel_3434824/3136981537.py:42: SettingWithCopyWarning: \n",
      "A value is trying to be set on a copy of a slice from a DataFrame\n",
      "\n",
      "See the caveats in the documentation: https://pandas.pydata.org/pandas-docs/stable/user_guide/indexing.html#returning-a-view-versus-a-copy\n",
      "  positive_candidate_dfs[j].at[i, \"Metabolite\"] = metabolite\n"
     ]
    },
    {
     "name": "stdout",
     "output_type": "stream",
     "text": [
      "simulate all success\n",
      "Loop Count: 86\n"
     ]
    },
    {
     "name": "stderr",
     "output_type": "stream",
     "text": [
      "/tmp/ipykernel_3434824/3136981537.py:42: FutureWarning: Setting an item of incompatible dtype is deprecated and will raise in a future error of pandas. Value '<Metabolite: c1cc(ccc1C(CC(=O)O)CN)Cl>' has dtype incompatible with float64, please explicitly cast to a compatible dtype first.\n",
      "  positive_candidate_dfs[j].at[i, \"Metabolite\"] = metabolite\n",
      "/tmp/ipykernel_3434824/3136981537.py:42: SettingWithCopyWarning: \n",
      "A value is trying to be set on a copy of a slice from a DataFrame\n",
      "\n",
      "See the caveats in the documentation: https://pandas.pydata.org/pandas-docs/stable/user_guide/indexing.html#returning-a-view-versus-a-copy\n",
      "  positive_candidate_dfs[j].at[i, \"Metabolite\"] = metabolite\n",
      "/home/lbarbut/fiora/fiora/MS/spectral_scores.py:8: RuntimeWarning: invalid value encountered in scalar divide\n",
      "  return np.dot(vec, vec_other) / (np.linalg.norm(vec) * np.linalg.norm(vec_other))\n",
      "/home/lbarbut/fiora/fiora/MS/spectral_scores.py:92: RuntimeWarning: invalid value encountered in divide\n",
      "  vec = vec / np.linalg.norm(vec)\n",
      "/home/lbarbut/fiora/fiora/MS/spectral_scores.py:92: RuntimeWarning: divide by zero encountered in divide\n",
      "  vec = vec / np.linalg.norm(vec)\n"
     ]
    },
    {
     "name": "stdout",
     "output_type": "stream",
     "text": [
      "simulate all success\n",
      "Loop Count: 87\n"
     ]
    },
    {
     "name": "stderr",
     "output_type": "stream",
     "text": [
      "/tmp/ipykernel_3434824/3136981537.py:42: FutureWarning: Setting an item of incompatible dtype is deprecated and will raise in a future error of pandas. Value '<Metabolite: CC(C)(C)C(C(n1cncn1)Oc2ccc(cc2)Cl)O>' has dtype incompatible with float64, please explicitly cast to a compatible dtype first.\n",
      "  positive_candidate_dfs[j].at[i, \"Metabolite\"] = metabolite\n",
      "/tmp/ipykernel_3434824/3136981537.py:42: SettingWithCopyWarning: \n",
      "A value is trying to be set on a copy of a slice from a DataFrame\n",
      "\n",
      "See the caveats in the documentation: https://pandas.pydata.org/pandas-docs/stable/user_guide/indexing.html#returning-a-view-versus-a-copy\n",
      "  positive_candidate_dfs[j].at[i, \"Metabolite\"] = metabolite\n"
     ]
    },
    {
     "name": "stdout",
     "output_type": "stream",
     "text": [
      "simulate all success\n",
      "Loop Count: 88\n"
     ]
    },
    {
     "name": "stderr",
     "output_type": "stream",
     "text": [
      "/tmp/ipykernel_3434824/3136981537.py:42: FutureWarning: Setting an item of incompatible dtype is deprecated and will raise in a future error of pandas. Value '<Metabolite: CCOC(=O)C1=C(NC(=C(C1c2cccc(c2)[N+](=O)[O-])C(=O)OC)C)C>' has dtype incompatible with float64, please explicitly cast to a compatible dtype first.\n",
      "  positive_candidate_dfs[j].at[i, \"Metabolite\"] = metabolite\n",
      "/tmp/ipykernel_3434824/3136981537.py:42: SettingWithCopyWarning: \n",
      "A value is trying to be set on a copy of a slice from a DataFrame\n",
      "\n",
      "See the caveats in the documentation: https://pandas.pydata.org/pandas-docs/stable/user_guide/indexing.html#returning-a-view-versus-a-copy\n",
      "  positive_candidate_dfs[j].at[i, \"Metabolite\"] = metabolite\n"
     ]
    },
    {
     "name": "stdout",
     "output_type": "stream",
     "text": [
      "simulate all success\n",
      "Loop Count: 89\n"
     ]
    },
    {
     "name": "stderr",
     "output_type": "stream",
     "text": [
      "/tmp/ipykernel_3434824/3136981537.py:42: FutureWarning: Setting an item of incompatible dtype is deprecated and will raise in a future error of pandas. Value '<Metabolite: Cc1nc2c3ccccc3ccc2s1>' has dtype incompatible with float64, please explicitly cast to a compatible dtype first.\n",
      "  positive_candidate_dfs[j].at[i, \"Metabolite\"] = metabolite\n",
      "/tmp/ipykernel_3434824/3136981537.py:42: SettingWithCopyWarning: \n",
      "A value is trying to be set on a copy of a slice from a DataFrame\n",
      "\n",
      "See the caveats in the documentation: https://pandas.pydata.org/pandas-docs/stable/user_guide/indexing.html#returning-a-view-versus-a-copy\n",
      "  positive_candidate_dfs[j].at[i, \"Metabolite\"] = metabolite\n"
     ]
    },
    {
     "name": "stdout",
     "output_type": "stream",
     "text": [
      "simulate all success\n",
      "Loop Count: 90\n"
     ]
    },
    {
     "name": "stderr",
     "output_type": "stream",
     "text": [
      "/tmp/ipykernel_3434824/3136981537.py:42: FutureWarning: Setting an item of incompatible dtype is deprecated and will raise in a future error of pandas. Value '<Metabolite: CC(=O)C1CCC2C1(CCC3C2C=CC4=CC(=O)CCC34C)C>' has dtype incompatible with float64, please explicitly cast to a compatible dtype first.\n",
      "  positive_candidate_dfs[j].at[i, \"Metabolite\"] = metabolite\n",
      "/tmp/ipykernel_3434824/3136981537.py:42: SettingWithCopyWarning: \n",
      "A value is trying to be set on a copy of a slice from a DataFrame\n",
      "\n",
      "See the caveats in the documentation: https://pandas.pydata.org/pandas-docs/stable/user_guide/indexing.html#returning-a-view-versus-a-copy\n",
      "  positive_candidate_dfs[j].at[i, \"Metabolite\"] = metabolite\n"
     ]
    },
    {
     "name": "stdout",
     "output_type": "stream",
     "text": [
      "simulate all success\n",
      "Loop Count: 91\n"
     ]
    },
    {
     "name": "stderr",
     "output_type": "stream",
     "text": [
      "/tmp/ipykernel_3434824/3136981537.py:42: FutureWarning: Setting an item of incompatible dtype is deprecated and will raise in a future error of pandas. Value '<Metabolite: CCCCCCCC/C(=N/Cc1ccc(c(c1)OC)O)/O>' has dtype incompatible with float64, please explicitly cast to a compatible dtype first.\n",
      "  positive_candidate_dfs[j].at[i, \"Metabolite\"] = metabolite\n",
      "/tmp/ipykernel_3434824/3136981537.py:42: SettingWithCopyWarning: \n",
      "A value is trying to be set on a copy of a slice from a DataFrame\n",
      "\n",
      "See the caveats in the documentation: https://pandas.pydata.org/pandas-docs/stable/user_guide/indexing.html#returning-a-view-versus-a-copy\n",
      "  positive_candidate_dfs[j].at[i, \"Metabolite\"] = metabolite\n"
     ]
    },
    {
     "name": "stdout",
     "output_type": "stream",
     "text": [
      "simulate all success\n",
      "Loop Count: 92\n"
     ]
    },
    {
     "name": "stderr",
     "output_type": "stream",
     "text": [
      "/tmp/ipykernel_3434824/3136981537.py:42: FutureWarning: Setting an item of incompatible dtype is deprecated and will raise in a future error of pandas. Value '<Metabolite: c1ccc(cc1)CN(Cc2ccccc2)CC(=O)c3ccc(c(c3)C(=O)N)O>' has dtype incompatible with float64, please explicitly cast to a compatible dtype first.\n",
      "  positive_candidate_dfs[j].at[i, \"Metabolite\"] = metabolite\n",
      "/tmp/ipykernel_3434824/3136981537.py:42: SettingWithCopyWarning: \n",
      "A value is trying to be set on a copy of a slice from a DataFrame\n",
      "\n",
      "See the caveats in the documentation: https://pandas.pydata.org/pandas-docs/stable/user_guide/indexing.html#returning-a-view-versus-a-copy\n",
      "  positive_candidate_dfs[j].at[i, \"Metabolite\"] = metabolite\n"
     ]
    },
    {
     "name": "stdout",
     "output_type": "stream",
     "text": [
      "simulate all success\n",
      "Loop Count: 93\n"
     ]
    },
    {
     "name": "stderr",
     "output_type": "stream",
     "text": [
      "/tmp/ipykernel_3434824/3136981537.py:42: FutureWarning: Setting an item of incompatible dtype is deprecated and will raise in a future error of pandas. Value '<Metabolite: c1ccc2c(c1)cc3ccccc3c2C4CO4>' has dtype incompatible with float64, please explicitly cast to a compatible dtype first.\n",
      "  positive_candidate_dfs[j].at[i, \"Metabolite\"] = metabolite\n",
      "/tmp/ipykernel_3434824/3136981537.py:42: SettingWithCopyWarning: \n",
      "A value is trying to be set on a copy of a slice from a DataFrame\n",
      "\n",
      "See the caveats in the documentation: https://pandas.pydata.org/pandas-docs/stable/user_guide/indexing.html#returning-a-view-versus-a-copy\n",
      "  positive_candidate_dfs[j].at[i, \"Metabolite\"] = metabolite\n",
      "/home/lbarbut/fiora/fiora/MS/spectral_scores.py:8: RuntimeWarning: invalid value encountered in scalar divide\n",
      "  return np.dot(vec, vec_other) / (np.linalg.norm(vec) * np.linalg.norm(vec_other))\n",
      "/home/lbarbut/fiora/fiora/MS/spectral_scores.py:92: RuntimeWarning: divide by zero encountered in divide\n",
      "  vec = vec / np.linalg.norm(vec)\n",
      "/home/lbarbut/fiora/fiora/MS/spectral_scores.py:92: RuntimeWarning: invalid value encountered in divide\n",
      "  vec = vec / np.linalg.norm(vec)\n"
     ]
    },
    {
     "name": "stdout",
     "output_type": "stream",
     "text": [
      "simulate all success\n",
      "Loop Count: 94\n"
     ]
    },
    {
     "name": "stderr",
     "output_type": "stream",
     "text": [
      "/tmp/ipykernel_3434824/3136981537.py:42: FutureWarning: Setting an item of incompatible dtype is deprecated and will raise in a future error of pandas. Value '<Metabolite: CCCCC(=O)N(Cc1ccc(cc1)c2ccccc2c3n[nH]nn3)C(C(C)C)C(=O)O>' has dtype incompatible with float64, please explicitly cast to a compatible dtype first.\n",
      "  positive_candidate_dfs[j].at[i, \"Metabolite\"] = metabolite\n",
      "/tmp/ipykernel_3434824/3136981537.py:42: SettingWithCopyWarning: \n",
      "A value is trying to be set on a copy of a slice from a DataFrame\n",
      "\n",
      "See the caveats in the documentation: https://pandas.pydata.org/pandas-docs/stable/user_guide/indexing.html#returning-a-view-versus-a-copy\n",
      "  positive_candidate_dfs[j].at[i, \"Metabolite\"] = metabolite\n"
     ]
    },
    {
     "name": "stdout",
     "output_type": "stream",
     "text": [
      "simulate all success\n",
      "Loop Count: 95\n"
     ]
    },
    {
     "name": "stderr",
     "output_type": "stream",
     "text": [
      "/tmp/ipykernel_3434824/3136981537.py:42: FutureWarning: Setting an item of incompatible dtype is deprecated and will raise in a future error of pandas. Value '<Metabolite: c1c(c2nc(c(cn2c(=O)c1C(=O)O)F)N3CCC(C3)N)c4c(c(c(c(c4F)F)F)F)F>' has dtype incompatible with float64, please explicitly cast to a compatible dtype first.\n",
      "  positive_candidate_dfs[j].at[i, \"Metabolite\"] = metabolite\n",
      "/tmp/ipykernel_3434824/3136981537.py:42: SettingWithCopyWarning: \n",
      "A value is trying to be set on a copy of a slice from a DataFrame\n",
      "\n",
      "See the caveats in the documentation: https://pandas.pydata.org/pandas-docs/stable/user_guide/indexing.html#returning-a-view-versus-a-copy\n",
      "  positive_candidate_dfs[j].at[i, \"Metabolite\"] = metabolite\n"
     ]
    },
    {
     "name": "stdout",
     "output_type": "stream",
     "text": [
      "simulate all success\n",
      "Loop Count: 96\n"
     ]
    },
    {
     "name": "stderr",
     "output_type": "stream",
     "text": [
      "/tmp/ipykernel_3434824/3136981537.py:42: FutureWarning: Setting an item of incompatible dtype is deprecated and will raise in a future error of pandas. Value '<Metabolite: CCN(c1ccccc1)C(=O)N(CC)c2ccccc2>' has dtype incompatible with float64, please explicitly cast to a compatible dtype first.\n",
      "  positive_candidate_dfs[j].at[i, \"Metabolite\"] = metabolite\n",
      "/tmp/ipykernel_3434824/3136981537.py:42: SettingWithCopyWarning: \n",
      "A value is trying to be set on a copy of a slice from a DataFrame\n",
      "\n",
      "See the caveats in the documentation: https://pandas.pydata.org/pandas-docs/stable/user_guide/indexing.html#returning-a-view-versus-a-copy\n",
      "  positive_candidate_dfs[j].at[i, \"Metabolite\"] = metabolite\n",
      "/home/lbarbut/fiora/fiora/MS/spectral_scores.py:8: RuntimeWarning: invalid value encountered in scalar divide\n",
      "  return np.dot(vec, vec_other) / (np.linalg.norm(vec) * np.linalg.norm(vec_other))\n",
      "/home/lbarbut/fiora/fiora/MS/spectral_scores.py:92: RuntimeWarning: invalid value encountered in divide\n",
      "  vec = vec / np.linalg.norm(vec)\n"
     ]
    },
    {
     "name": "stdout",
     "output_type": "stream",
     "text": [
      "simulate all success\n",
      "Loop Count: 97\n"
     ]
    },
    {
     "name": "stderr",
     "output_type": "stream",
     "text": [
      "/tmp/ipykernel_3434824/3136981537.py:42: FutureWarning: Setting an item of incompatible dtype is deprecated and will raise in a future error of pandas. Value '<Metabolite: c1cc(c(c(c1)F)C(=O)NC(=O)Nc2ccc(cc2)Cl)F>' has dtype incompatible with float64, please explicitly cast to a compatible dtype first.\n",
      "  positive_candidate_dfs[j].at[i, \"Metabolite\"] = metabolite\n",
      "/tmp/ipykernel_3434824/3136981537.py:42: SettingWithCopyWarning: \n",
      "A value is trying to be set on a copy of a slice from a DataFrame\n",
      "\n",
      "See the caveats in the documentation: https://pandas.pydata.org/pandas-docs/stable/user_guide/indexing.html#returning-a-view-versus-a-copy\n",
      "  positive_candidate_dfs[j].at[i, \"Metabolite\"] = metabolite\n"
     ]
    },
    {
     "name": "stdout",
     "output_type": "stream",
     "text": [
      "simulate all success\n",
      "Loop Count: 98\n"
     ]
    },
    {
     "name": "stderr",
     "output_type": "stream",
     "text": [
      "/tmp/ipykernel_3434824/3136981537.py:42: FutureWarning: Setting an item of incompatible dtype is deprecated and will raise in a future error of pandas. Value '<Metabolite: c1ccc2c(c1)cc3ccccc3c2C4CO4>' has dtype incompatible with float64, please explicitly cast to a compatible dtype first.\n",
      "  positive_candidate_dfs[j].at[i, \"Metabolite\"] = metabolite\n",
      "/tmp/ipykernel_3434824/3136981537.py:42: SettingWithCopyWarning: \n",
      "A value is trying to be set on a copy of a slice from a DataFrame\n",
      "\n",
      "See the caveats in the documentation: https://pandas.pydata.org/pandas-docs/stable/user_guide/indexing.html#returning-a-view-versus-a-copy\n",
      "  positive_candidate_dfs[j].at[i, \"Metabolite\"] = metabolite\n",
      "/home/lbarbut/fiora/fiora/MS/spectral_scores.py:8: RuntimeWarning: invalid value encountered in scalar divide\n",
      "  return np.dot(vec, vec_other) / (np.linalg.norm(vec) * np.linalg.norm(vec_other))\n",
      "/home/lbarbut/fiora/fiora/MS/spectral_scores.py:92: RuntimeWarning: invalid value encountered in divide\n",
      "  vec = vec / np.linalg.norm(vec)\n",
      "/home/lbarbut/fiora/fiora/MS/spectral_scores.py:92: RuntimeWarning: divide by zero encountered in divide\n",
      "  vec = vec / np.linalg.norm(vec)\n"
     ]
    },
    {
     "name": "stdout",
     "output_type": "stream",
     "text": [
      "simulate all success\n",
      "Loop Count: 99\n"
     ]
    },
    {
     "name": "stderr",
     "output_type": "stream",
     "text": [
      "/tmp/ipykernel_3434824/3136981537.py:42: FutureWarning: Setting an item of incompatible dtype is deprecated and will raise in a future error of pandas. Value '<Metabolite: CC(C)(C)c1ccc(cc1)S(=O)(=O)Nc2c(c(nc(n2)c3ncccn3)OCCO)Oc4ccccc4OC>' has dtype incompatible with float64, please explicitly cast to a compatible dtype first.\n",
      "  positive_candidate_dfs[j].at[i, \"Metabolite\"] = metabolite\n",
      "/tmp/ipykernel_3434824/3136981537.py:42: SettingWithCopyWarning: \n",
      "A value is trying to be set on a copy of a slice from a DataFrame\n",
      "\n",
      "See the caveats in the documentation: https://pandas.pydata.org/pandas-docs/stable/user_guide/indexing.html#returning-a-view-versus-a-copy\n",
      "  positive_candidate_dfs[j].at[i, \"Metabolite\"] = metabolite\n"
     ]
    },
    {
     "name": "stdout",
     "output_type": "stream",
     "text": [
      "simulate all success\n",
      "Loop Count: 100\n"
     ]
    },
    {
     "name": "stderr",
     "output_type": "stream",
     "text": [
      "/tmp/ipykernel_3434824/3136981537.py:42: FutureWarning: Setting an item of incompatible dtype is deprecated and will raise in a future error of pandas. Value '<Metabolite: Cc1ccc(cc1)c2cc(nn2c3ccc(cc3)S(=O)(=O)N)C(F)(F)F>' has dtype incompatible with float64, please explicitly cast to a compatible dtype first.\n",
      "  positive_candidate_dfs[j].at[i, \"Metabolite\"] = metabolite\n",
      "/tmp/ipykernel_3434824/3136981537.py:42: SettingWithCopyWarning: \n",
      "A value is trying to be set on a copy of a slice from a DataFrame\n",
      "\n",
      "See the caveats in the documentation: https://pandas.pydata.org/pandas-docs/stable/user_guide/indexing.html#returning-a-view-versus-a-copy\n",
      "  positive_candidate_dfs[j].at[i, \"Metabolite\"] = metabolite\n"
     ]
    },
    {
     "name": "stdout",
     "output_type": "stream",
     "text": [
      "simulate all success\n",
      "Loop Count: 101\n"
     ]
    },
    {
     "name": "stderr",
     "output_type": "stream",
     "text": [
      "/tmp/ipykernel_3434824/3136981537.py:42: FutureWarning: Setting an item of incompatible dtype is deprecated and will raise in a future error of pandas. Value '<Metabolite: CC(=O)C1CCC2C1(CCC3C2C=CC4=CC(=O)CCC34C)C>' has dtype incompatible with float64, please explicitly cast to a compatible dtype first.\n",
      "  positive_candidate_dfs[j].at[i, \"Metabolite\"] = metabolite\n",
      "/tmp/ipykernel_3434824/3136981537.py:42: SettingWithCopyWarning: \n",
      "A value is trying to be set on a copy of a slice from a DataFrame\n",
      "\n",
      "See the caveats in the documentation: https://pandas.pydata.org/pandas-docs/stable/user_guide/indexing.html#returning-a-view-versus-a-copy\n",
      "  positive_candidate_dfs[j].at[i, \"Metabolite\"] = metabolite\n"
     ]
    },
    {
     "name": "stdout",
     "output_type": "stream",
     "text": [
      "simulate all success\n",
      "Loop Count: 102\n"
     ]
    },
    {
     "name": "stderr",
     "output_type": "stream",
     "text": [
      "/tmp/ipykernel_3434824/3136981537.py:42: FutureWarning: Setting an item of incompatible dtype is deprecated and will raise in a future error of pandas. Value '<Metabolite: CC1CC2C3CCC(C3(CC(C2C4(C1=CC(=O)CC4)C)O)C)C(=O)C>' has dtype incompatible with float64, please explicitly cast to a compatible dtype first.\n",
      "  positive_candidate_dfs[j].at[i, \"Metabolite\"] = metabolite\n",
      "/tmp/ipykernel_3434824/3136981537.py:42: SettingWithCopyWarning: \n",
      "A value is trying to be set on a copy of a slice from a DataFrame\n",
      "\n",
      "See the caveats in the documentation: https://pandas.pydata.org/pandas-docs/stable/user_guide/indexing.html#returning-a-view-versus-a-copy\n",
      "  positive_candidate_dfs[j].at[i, \"Metabolite\"] = metabolite\n"
     ]
    },
    {
     "name": "stdout",
     "output_type": "stream",
     "text": [
      "simulate all success\n",
      "Loop Count: 103\n"
     ]
    },
    {
     "name": "stderr",
     "output_type": "stream",
     "text": [
      "/tmp/ipykernel_3434824/3136981537.py:42: FutureWarning: Setting an item of incompatible dtype is deprecated and will raise in a future error of pandas. Value '<Metabolite: COc1ccc(cc1/C(=N\\CCc2ccc(cc2)S(=O)(=O)N/C(=N\\C3CCCCC3)/O)/O)Cl>' has dtype incompatible with float64, please explicitly cast to a compatible dtype first.\n",
      "  positive_candidate_dfs[j].at[i, \"Metabolite\"] = metabolite\n",
      "/tmp/ipykernel_3434824/3136981537.py:42: SettingWithCopyWarning: \n",
      "A value is trying to be set on a copy of a slice from a DataFrame\n",
      "\n",
      "See the caveats in the documentation: https://pandas.pydata.org/pandas-docs/stable/user_guide/indexing.html#returning-a-view-versus-a-copy\n",
      "  positive_candidate_dfs[j].at[i, \"Metabolite\"] = metabolite\n"
     ]
    },
    {
     "name": "stdout",
     "output_type": "stream",
     "text": [
      "simulate all success\n",
      "Loop Count: 104\n"
     ]
    },
    {
     "name": "stderr",
     "output_type": "stream",
     "text": [
      "/tmp/ipykernel_3434824/3136981537.py:42: FutureWarning: Setting an item of incompatible dtype is deprecated and will raise in a future error of pandas. Value '<Metabolite: CCOP(=S)(OCC)Oc1cc(nc(n1)N(C)C)C>' has dtype incompatible with float64, please explicitly cast to a compatible dtype first.\n",
      "  positive_candidate_dfs[j].at[i, \"Metabolite\"] = metabolite\n",
      "/tmp/ipykernel_3434824/3136981537.py:42: SettingWithCopyWarning: \n",
      "A value is trying to be set on a copy of a slice from a DataFrame\n",
      "\n",
      "See the caveats in the documentation: https://pandas.pydata.org/pandas-docs/stable/user_guide/indexing.html#returning-a-view-versus-a-copy\n",
      "  positive_candidate_dfs[j].at[i, \"Metabolite\"] = metabolite\n"
     ]
    },
    {
     "name": "stdout",
     "output_type": "stream",
     "text": [
      "simulate all success\n",
      "Loop Count: 105\n"
     ]
    },
    {
     "name": "stderr",
     "output_type": "stream",
     "text": [
      "/tmp/ipykernel_3434824/3136981537.py:42: FutureWarning: Setting an item of incompatible dtype is deprecated and will raise in a future error of pandas. Value '<Metabolite: CN1CCC23c4c5ccc(c4OC2C(=O)CCC3(C1C5)O)O>' has dtype incompatible with float64, please explicitly cast to a compatible dtype first.\n",
      "  positive_candidate_dfs[j].at[i, \"Metabolite\"] = metabolite\n",
      "/tmp/ipykernel_3434824/3136981537.py:42: SettingWithCopyWarning: \n",
      "A value is trying to be set on a copy of a slice from a DataFrame\n",
      "\n",
      "See the caveats in the documentation: https://pandas.pydata.org/pandas-docs/stable/user_guide/indexing.html#returning-a-view-versus-a-copy\n",
      "  positive_candidate_dfs[j].at[i, \"Metabolite\"] = metabolite\n"
     ]
    },
    {
     "name": "stdout",
     "output_type": "stream",
     "text": [
      "simulate all success\n",
      "Loop Count: 106\n"
     ]
    },
    {
     "name": "stderr",
     "output_type": "stream",
     "text": [
      "/tmp/ipykernel_3434824/3136981537.py:42: FutureWarning: Setting an item of incompatible dtype is deprecated and will raise in a future error of pandas. Value '<Metabolite: CCC(=O)Oc1ccc2c(c1)CCC3C2CCC4(C3CCC4OC(=O)CC)C>' has dtype incompatible with float64, please explicitly cast to a compatible dtype first.\n",
      "  positive_candidate_dfs[j].at[i, \"Metabolite\"] = metabolite\n",
      "/tmp/ipykernel_3434824/3136981537.py:42: SettingWithCopyWarning: \n",
      "A value is trying to be set on a copy of a slice from a DataFrame\n",
      "\n",
      "See the caveats in the documentation: https://pandas.pydata.org/pandas-docs/stable/user_guide/indexing.html#returning-a-view-versus-a-copy\n",
      "  positive_candidate_dfs[j].at[i, \"Metabolite\"] = metabolite\n"
     ]
    },
    {
     "name": "stdout",
     "output_type": "stream",
     "text": [
      "simulate all success\n",
      "Loop Count: 107\n"
     ]
    },
    {
     "name": "stderr",
     "output_type": "stream",
     "text": [
      "/tmp/ipykernel_3434824/3136981537.py:42: FutureWarning: Setting an item of incompatible dtype is deprecated and will raise in a future error of pandas. Value '<Metabolite: c1cc(ccc1CCN(Cc2ccc3c(c2)OCO3)C(=O)C(F)(F)F)O>' has dtype incompatible with float64, please explicitly cast to a compatible dtype first.\n",
      "  positive_candidate_dfs[j].at[i, \"Metabolite\"] = metabolite\n",
      "/tmp/ipykernel_3434824/3136981537.py:42: SettingWithCopyWarning: \n",
      "A value is trying to be set on a copy of a slice from a DataFrame\n",
      "\n",
      "See the caveats in the documentation: https://pandas.pydata.org/pandas-docs/stable/user_guide/indexing.html#returning-a-view-versus-a-copy\n",
      "  positive_candidate_dfs[j].at[i, \"Metabolite\"] = metabolite\n",
      "/home/lbarbut/fiora/fiora/MS/spectral_scores.py:8: RuntimeWarning: invalid value encountered in scalar divide\n",
      "  return np.dot(vec, vec_other) / (np.linalg.norm(vec) * np.linalg.norm(vec_other))\n",
      "/home/lbarbut/fiora/fiora/MS/spectral_scores.py:92: RuntimeWarning: divide by zero encountered in divide\n",
      "  vec = vec / np.linalg.norm(vec)\n",
      "/home/lbarbut/fiora/fiora/MS/spectral_scores.py:92: RuntimeWarning: invalid value encountered in divide\n",
      "  vec = vec / np.linalg.norm(vec)\n"
     ]
    },
    {
     "name": "stdout",
     "output_type": "stream",
     "text": [
      "simulate all success\n",
      "Loop Count: 108\n"
     ]
    },
    {
     "name": "stderr",
     "output_type": "stream",
     "text": [
      "/tmp/ipykernel_3434824/3136981537.py:42: FutureWarning: Setting an item of incompatible dtype is deprecated and will raise in a future error of pandas. Value '<Metabolite: CC(C)c1c(c(c(n1CCC(CC(CC(=O)O)O)O)c2ccc(cc2)F)c3ccccc3)C(=O)Nc4ccccc4>' has dtype incompatible with float64, please explicitly cast to a compatible dtype first.\n",
      "  positive_candidate_dfs[j].at[i, \"Metabolite\"] = metabolite\n",
      "/tmp/ipykernel_3434824/3136981537.py:42: SettingWithCopyWarning: \n",
      "A value is trying to be set on a copy of a slice from a DataFrame\n",
      "\n",
      "See the caveats in the documentation: https://pandas.pydata.org/pandas-docs/stable/user_guide/indexing.html#returning-a-view-versus-a-copy\n",
      "  positive_candidate_dfs[j].at[i, \"Metabolite\"] = metabolite\n"
     ]
    },
    {
     "name": "stdout",
     "output_type": "stream",
     "text": [
      "simulate all success\n",
      "Loop Count: 109\n"
     ]
    },
    {
     "name": "stderr",
     "output_type": "stream",
     "text": [
      "/tmp/ipykernel_3434824/3136981537.py:42: FutureWarning: Setting an item of incompatible dtype is deprecated and will raise in a future error of pandas. Value '<Metabolite: CC12CCC(CC1CCC3C2CCC4(C3(CCC4c5ccc(=O)oc5)O)C)O>' has dtype incompatible with float64, please explicitly cast to a compatible dtype first.\n",
      "  positive_candidate_dfs[j].at[i, \"Metabolite\"] = metabolite\n",
      "/tmp/ipykernel_3434824/3136981537.py:42: SettingWithCopyWarning: \n",
      "A value is trying to be set on a copy of a slice from a DataFrame\n",
      "\n",
      "See the caveats in the documentation: https://pandas.pydata.org/pandas-docs/stable/user_guide/indexing.html#returning-a-view-versus-a-copy\n",
      "  positive_candidate_dfs[j].at[i, \"Metabolite\"] = metabolite\n"
     ]
    },
    {
     "name": "stdout",
     "output_type": "stream",
     "text": [
      "simulate all success\n",
      "Loop Count: 110\n"
     ]
    },
    {
     "name": "stderr",
     "output_type": "stream",
     "text": [
      "/tmp/ipykernel_3434824/3136981537.py:42: FutureWarning: Setting an item of incompatible dtype is deprecated and will raise in a future error of pandas. Value '<Metabolite: CCC1=C(CN(C1=O)C(=O)NCCc2ccc(cc2)S(=O)(=O)NC(=O)NC3CCC(CC3)C)C>' has dtype incompatible with float64, please explicitly cast to a compatible dtype first.\n",
      "  positive_candidate_dfs[j].at[i, \"Metabolite\"] = metabolite\n",
      "/tmp/ipykernel_3434824/3136981537.py:42: SettingWithCopyWarning: \n",
      "A value is trying to be set on a copy of a slice from a DataFrame\n",
      "\n",
      "See the caveats in the documentation: https://pandas.pydata.org/pandas-docs/stable/user_guide/indexing.html#returning-a-view-versus-a-copy\n",
      "  positive_candidate_dfs[j].at[i, \"Metabolite\"] = metabolite\n",
      "/home/lbarbut/fiora/fiora/MS/spectral_scores.py:8: RuntimeWarning: invalid value encountered in scalar divide\n",
      "  return np.dot(vec, vec_other) / (np.linalg.norm(vec) * np.linalg.norm(vec_other))\n",
      "/home/lbarbut/fiora/fiora/MS/spectral_scores.py:92: RuntimeWarning: invalid value encountered in divide\n",
      "  vec = vec / np.linalg.norm(vec)\n"
     ]
    },
    {
     "name": "stdout",
     "output_type": "stream",
     "text": [
      "simulate all success\n",
      "Loop Count: 111\n"
     ]
    },
    {
     "name": "stderr",
     "output_type": "stream",
     "text": [
      "/tmp/ipykernel_3434824/3136981537.py:42: FutureWarning: Setting an item of incompatible dtype is deprecated and will raise in a future error of pandas. Value '<Metabolite: C(C(CCl)Cl)OP(=O)(OCC(CCl)Cl)OCC(CCl)Cl>' has dtype incompatible with float64, please explicitly cast to a compatible dtype first.\n",
      "  positive_candidate_dfs[j].at[i, \"Metabolite\"] = metabolite\n",
      "/tmp/ipykernel_3434824/3136981537.py:42: SettingWithCopyWarning: \n",
      "A value is trying to be set on a copy of a slice from a DataFrame\n",
      "\n",
      "See the caveats in the documentation: https://pandas.pydata.org/pandas-docs/stable/user_guide/indexing.html#returning-a-view-versus-a-copy\n",
      "  positive_candidate_dfs[j].at[i, \"Metabolite\"] = metabolite\n"
     ]
    },
    {
     "name": "stdout",
     "output_type": "stream",
     "text": [
      "simulate all success\n",
      "Loop Count: 112\n"
     ]
    },
    {
     "name": "stderr",
     "output_type": "stream",
     "text": [
      "/tmp/ipykernel_3434824/3136981537.py:42: FutureWarning: Setting an item of incompatible dtype is deprecated and will raise in a future error of pandas. Value '<Metabolite: c1cc(ccc1C(=O)O)[Hg]Cl>' has dtype incompatible with float64, please explicitly cast to a compatible dtype first.\n",
      "  positive_candidate_dfs[j].at[i, \"Metabolite\"] = metabolite\n",
      "/tmp/ipykernel_3434824/3136981537.py:42: SettingWithCopyWarning: \n",
      "A value is trying to be set on a copy of a slice from a DataFrame\n",
      "\n",
      "See the caveats in the documentation: https://pandas.pydata.org/pandas-docs/stable/user_guide/indexing.html#returning-a-view-versus-a-copy\n",
      "  positive_candidate_dfs[j].at[i, \"Metabolite\"] = metabolite\n"
     ]
    },
    {
     "name": "stdout",
     "output_type": "stream",
     "text": [
      "simulate all success\n",
      "Loop Count: 113\n"
     ]
    },
    {
     "name": "stderr",
     "output_type": "stream",
     "text": [
      "/tmp/ipykernel_3434824/3136981537.py:42: FutureWarning: Setting an item of incompatible dtype is deprecated and will raise in a future error of pandas. Value '<Metabolite: CCOC(=O)c1cn2c(cc(n2)OP(=S)(OCC)OCC)nc1C>' has dtype incompatible with float64, please explicitly cast to a compatible dtype first.\n",
      "  positive_candidate_dfs[j].at[i, \"Metabolite\"] = metabolite\n",
      "/tmp/ipykernel_3434824/3136981537.py:42: SettingWithCopyWarning: \n",
      "A value is trying to be set on a copy of a slice from a DataFrame\n",
      "\n",
      "See the caveats in the documentation: https://pandas.pydata.org/pandas-docs/stable/user_guide/indexing.html#returning-a-view-versus-a-copy\n",
      "  positive_candidate_dfs[j].at[i, \"Metabolite\"] = metabolite\n",
      "/home/lbarbut/fiora/fiora/MS/spectral_scores.py:8: RuntimeWarning: invalid value encountered in scalar divide\n",
      "  return np.dot(vec, vec_other) / (np.linalg.norm(vec) * np.linalg.norm(vec_other))\n",
      "/home/lbarbut/fiora/fiora/MS/spectral_scores.py:92: RuntimeWarning: invalid value encountered in divide\n",
      "  vec = vec / np.linalg.norm(vec)\n"
     ]
    },
    {
     "name": "stdout",
     "output_type": "stream",
     "text": [
      "simulate all success\n",
      "Loop Count: 114\n"
     ]
    },
    {
     "name": "stderr",
     "output_type": "stream",
     "text": [
      "/tmp/ipykernel_3434824/3136981537.py:42: FutureWarning: Setting an item of incompatible dtype is deprecated and will raise in a future error of pandas. Value '<Metabolite: CCCCCCCCCCCC(=O)N(CCO)CCO>' has dtype incompatible with float64, please explicitly cast to a compatible dtype first.\n",
      "  positive_candidate_dfs[j].at[i, \"Metabolite\"] = metabolite\n",
      "/tmp/ipykernel_3434824/3136981537.py:42: SettingWithCopyWarning: \n",
      "A value is trying to be set on a copy of a slice from a DataFrame\n",
      "\n",
      "See the caveats in the documentation: https://pandas.pydata.org/pandas-docs/stable/user_guide/indexing.html#returning-a-view-versus-a-copy\n",
      "  positive_candidate_dfs[j].at[i, \"Metabolite\"] = metabolite\n"
     ]
    },
    {
     "name": "stdout",
     "output_type": "stream",
     "text": [
      "simulate all success\n",
      "Loop Count: 115\n"
     ]
    },
    {
     "name": "stderr",
     "output_type": "stream",
     "text": [
      "/tmp/ipykernel_3434824/3136981537.py:42: FutureWarning: Setting an item of incompatible dtype is deprecated and will raise in a future error of pandas. Value '<Metabolite: c1ccc2c(c1)cc3ccc4ccnc5c4c3c2cc5>' has dtype incompatible with float64, please explicitly cast to a compatible dtype first.\n",
      "  positive_candidate_dfs[j].at[i, \"Metabolite\"] = metabolite\n",
      "/tmp/ipykernel_3434824/3136981537.py:42: SettingWithCopyWarning: \n",
      "A value is trying to be set on a copy of a slice from a DataFrame\n",
      "\n",
      "See the caveats in the documentation: https://pandas.pydata.org/pandas-docs/stable/user_guide/indexing.html#returning-a-view-versus-a-copy\n",
      "  positive_candidate_dfs[j].at[i, \"Metabolite\"] = metabolite\n"
     ]
    },
    {
     "name": "stdout",
     "output_type": "stream",
     "text": [
      "simulate all success\n",
      "Loop Count: 116\n"
     ]
    },
    {
     "name": "stderr",
     "output_type": "stream",
     "text": [
      "/tmp/ipykernel_3434824/3136981537.py:42: FutureWarning: Setting an item of incompatible dtype is deprecated and will raise in a future error of pandas. Value '<Metabolite: CC(C)COP(=O)(OCC(C)C)OCC(C)C>' has dtype incompatible with float64, please explicitly cast to a compatible dtype first.\n",
      "  positive_candidate_dfs[j].at[i, \"Metabolite\"] = metabolite\n",
      "/tmp/ipykernel_3434824/3136981537.py:42: SettingWithCopyWarning: \n",
      "A value is trying to be set on a copy of a slice from a DataFrame\n",
      "\n",
      "See the caveats in the documentation: https://pandas.pydata.org/pandas-docs/stable/user_guide/indexing.html#returning-a-view-versus-a-copy\n",
      "  positive_candidate_dfs[j].at[i, \"Metabolite\"] = metabolite\n",
      "/home/lbarbut/fiora/fiora/MS/spectral_scores.py:8: RuntimeWarning: invalid value encountered in scalar divide\n",
      "  return np.dot(vec, vec_other) / (np.linalg.norm(vec) * np.linalg.norm(vec_other))\n",
      "/home/lbarbut/fiora/fiora/MS/spectral_scores.py:92: RuntimeWarning: divide by zero encountered in divide\n",
      "  vec = vec / np.linalg.norm(vec)\n",
      "/home/lbarbut/fiora/fiora/MS/spectral_scores.py:92: RuntimeWarning: invalid value encountered in divide\n",
      "  vec = vec / np.linalg.norm(vec)\n"
     ]
    },
    {
     "name": "stdout",
     "output_type": "stream",
     "text": [
      "simulate all success\n",
      "Loop Count: 117\n"
     ]
    },
    {
     "name": "stderr",
     "output_type": "stream",
     "text": [
      "/tmp/ipykernel_3434824/3136981537.py:42: FutureWarning: Setting an item of incompatible dtype is deprecated and will raise in a future error of pandas. Value '<Metabolite: CCCCCCCCCCCC(=O)NC(C)(C)O>' has dtype incompatible with float64, please explicitly cast to a compatible dtype first.\n",
      "  positive_candidate_dfs[j].at[i, \"Metabolite\"] = metabolite\n",
      "/tmp/ipykernel_3434824/3136981537.py:42: SettingWithCopyWarning: \n",
      "A value is trying to be set on a copy of a slice from a DataFrame\n",
      "\n",
      "See the caveats in the documentation: https://pandas.pydata.org/pandas-docs/stable/user_guide/indexing.html#returning-a-view-versus-a-copy\n",
      "  positive_candidate_dfs[j].at[i, \"Metabolite\"] = metabolite\n"
     ]
    },
    {
     "name": "stdout",
     "output_type": "stream",
     "text": [
      "simulate all success\n",
      "Loop Count: 118\n"
     ]
    },
    {
     "name": "stderr",
     "output_type": "stream",
     "text": [
      "/tmp/ipykernel_3434824/3136981537.py:42: FutureWarning: Setting an item of incompatible dtype is deprecated and will raise in a future error of pandas. Value '<Metabolite: c1ccc2c(c1)CCc3cc(cc(c3C2n4ccnc4)Cl)Cl>' has dtype incompatible with float64, please explicitly cast to a compatible dtype first.\n",
      "  positive_candidate_dfs[j].at[i, \"Metabolite\"] = metabolite\n",
      "/tmp/ipykernel_3434824/3136981537.py:42: SettingWithCopyWarning: \n",
      "A value is trying to be set on a copy of a slice from a DataFrame\n",
      "\n",
      "See the caveats in the documentation: https://pandas.pydata.org/pandas-docs/stable/user_guide/indexing.html#returning-a-view-versus-a-copy\n",
      "  positive_candidate_dfs[j].at[i, \"Metabolite\"] = metabolite\n"
     ]
    },
    {
     "name": "stdout",
     "output_type": "stream",
     "text": [
      "simulate all success\n",
      "Loop Count: 119\n"
     ]
    },
    {
     "name": "stderr",
     "output_type": "stream",
     "text": [
      "/tmp/ipykernel_3434824/3136981537.py:42: FutureWarning: Setting an item of incompatible dtype is deprecated and will raise in a future error of pandas. Value '<Metabolite: CC(C)OC(=O)C(C)(C)Oc1ccc(cc1)C(=O)c2ccc(cc2)Cl>' has dtype incompatible with float64, please explicitly cast to a compatible dtype first.\n",
      "  positive_candidate_dfs[j].at[i, \"Metabolite\"] = metabolite\n",
      "/tmp/ipykernel_3434824/3136981537.py:42: SettingWithCopyWarning: \n",
      "A value is trying to be set on a copy of a slice from a DataFrame\n",
      "\n",
      "See the caveats in the documentation: https://pandas.pydata.org/pandas-docs/stable/user_guide/indexing.html#returning-a-view-versus-a-copy\n",
      "  positive_candidate_dfs[j].at[i, \"Metabolite\"] = metabolite\n",
      "/home/lbarbut/fiora/fiora/MS/spectral_scores.py:8: RuntimeWarning: invalid value encountered in scalar divide\n",
      "  return np.dot(vec, vec_other) / (np.linalg.norm(vec) * np.linalg.norm(vec_other))\n",
      "/home/lbarbut/fiora/fiora/MS/spectral_scores.py:92: RuntimeWarning: divide by zero encountered in divide\n",
      "  vec = vec / np.linalg.norm(vec)\n",
      "/home/lbarbut/fiora/fiora/MS/spectral_scores.py:92: RuntimeWarning: invalid value encountered in divide\n",
      "  vec = vec / np.linalg.norm(vec)\n"
     ]
    },
    {
     "name": "stdout",
     "output_type": "stream",
     "text": [
      "simulate all success\n",
      "Loop Count: 120\n"
     ]
    },
    {
     "name": "stderr",
     "output_type": "stream",
     "text": [
      "/tmp/ipykernel_3434824/3136981537.py:42: FutureWarning: Setting an item of incompatible dtype is deprecated and will raise in a future error of pandas. Value '<Metabolite: c1cc(ccc1C(=N)N)N/N=N/c2ccc(cc2)C(=N)N>' has dtype incompatible with float64, please explicitly cast to a compatible dtype first.\n",
      "  positive_candidate_dfs[j].at[i, \"Metabolite\"] = metabolite\n",
      "/tmp/ipykernel_3434824/3136981537.py:42: SettingWithCopyWarning: \n",
      "A value is trying to be set on a copy of a slice from a DataFrame\n",
      "\n",
      "See the caveats in the documentation: https://pandas.pydata.org/pandas-docs/stable/user_guide/indexing.html#returning-a-view-versus-a-copy\n",
      "  positive_candidate_dfs[j].at[i, \"Metabolite\"] = metabolite\n",
      "/home/lbarbut/fiora/fiora/MS/spectral_scores.py:8: RuntimeWarning: invalid value encountered in scalar divide\n",
      "  return np.dot(vec, vec_other) / (np.linalg.norm(vec) * np.linalg.norm(vec_other))\n",
      "/home/lbarbut/fiora/fiora/MS/spectral_scores.py:92: RuntimeWarning: divide by zero encountered in divide\n",
      "  vec = vec / np.linalg.norm(vec)\n",
      "/home/lbarbut/fiora/fiora/MS/spectral_scores.py:92: RuntimeWarning: invalid value encountered in divide\n",
      "  vec = vec / np.linalg.norm(vec)\n"
     ]
    },
    {
     "name": "stdout",
     "output_type": "stream",
     "text": [
      "simulate all success\n",
      "Loop Count: 121\n"
     ]
    },
    {
     "name": "stderr",
     "output_type": "stream",
     "text": [
      "/tmp/ipykernel_3434824/3136981537.py:42: FutureWarning: Setting an item of incompatible dtype is deprecated and will raise in a future error of pandas. Value '<Metabolite: CCOP(=S)(OCC)SCSP(=S)(OCC)OCC>' has dtype incompatible with float64, please explicitly cast to a compatible dtype first.\n",
      "  positive_candidate_dfs[j].at[i, \"Metabolite\"] = metabolite\n",
      "/tmp/ipykernel_3434824/3136981537.py:42: SettingWithCopyWarning: \n",
      "A value is trying to be set on a copy of a slice from a DataFrame\n",
      "\n",
      "See the caveats in the documentation: https://pandas.pydata.org/pandas-docs/stable/user_guide/indexing.html#returning-a-view-versus-a-copy\n",
      "  positive_candidate_dfs[j].at[i, \"Metabolite\"] = metabolite\n"
     ]
    },
    {
     "name": "stdout",
     "output_type": "stream",
     "text": [
      "simulate all success\n",
      "Loop Count: 122\n"
     ]
    },
    {
     "name": "stderr",
     "output_type": "stream",
     "text": [
      "/tmp/ipykernel_3434824/3136981537.py:42: FutureWarning: Setting an item of incompatible dtype is deprecated and will raise in a future error of pandas. Value '<Metabolite: CCN(c1ccccc1)S(=O)(=O)c2ccc(c(c2)N)Oc3ccccc3>' has dtype incompatible with float64, please explicitly cast to a compatible dtype first.\n",
      "  positive_candidate_dfs[j].at[i, \"Metabolite\"] = metabolite\n",
      "/tmp/ipykernel_3434824/3136981537.py:42: SettingWithCopyWarning: \n",
      "A value is trying to be set on a copy of a slice from a DataFrame\n",
      "\n",
      "See the caveats in the documentation: https://pandas.pydata.org/pandas-docs/stable/user_guide/indexing.html#returning-a-view-versus-a-copy\n",
      "  positive_candidate_dfs[j].at[i, \"Metabolite\"] = metabolite\n",
      "/home/lbarbut/fiora/fiora/MS/spectral_scores.py:8: RuntimeWarning: invalid value encountered in scalar divide\n",
      "  return np.dot(vec, vec_other) / (np.linalg.norm(vec) * np.linalg.norm(vec_other))\n",
      "/home/lbarbut/fiora/fiora/MS/spectral_scores.py:92: RuntimeWarning: divide by zero encountered in divide\n",
      "  vec = vec / np.linalg.norm(vec)\n",
      "/home/lbarbut/fiora/fiora/MS/spectral_scores.py:92: RuntimeWarning: invalid value encountered in divide\n",
      "  vec = vec / np.linalg.norm(vec)\n"
     ]
    },
    {
     "name": "stdout",
     "output_type": "stream",
     "text": [
      "simulate all success\n",
      "Loop Count: 123\n"
     ]
    },
    {
     "name": "stderr",
     "output_type": "stream",
     "text": [
      "/tmp/ipykernel_3434824/3136981537.py:42: FutureWarning: Setting an item of incompatible dtype is deprecated and will raise in a future error of pandas. Value '<Metabolite: CC(C)c1cc2c(c(c1O)O)C34CCCC(C3CC2OC4=O)(C)C>' has dtype incompatible with float64, please explicitly cast to a compatible dtype first.\n",
      "  positive_candidate_dfs[j].at[i, \"Metabolite\"] = metabolite\n",
      "/tmp/ipykernel_3434824/3136981537.py:42: SettingWithCopyWarning: \n",
      "A value is trying to be set on a copy of a slice from a DataFrame\n",
      "\n",
      "See the caveats in the documentation: https://pandas.pydata.org/pandas-docs/stable/user_guide/indexing.html#returning-a-view-versus-a-copy\n",
      "  positive_candidate_dfs[j].at[i, \"Metabolite\"] = metabolite\n",
      "/home/lbarbut/fiora/fiora/MS/spectral_scores.py:8: RuntimeWarning: invalid value encountered in scalar divide\n",
      "  return np.dot(vec, vec_other) / (np.linalg.norm(vec) * np.linalg.norm(vec_other))\n",
      "/home/lbarbut/fiora/fiora/MS/spectral_scores.py:92: RuntimeWarning: divide by zero encountered in divide\n",
      "  vec = vec / np.linalg.norm(vec)\n",
      "/home/lbarbut/fiora/fiora/MS/spectral_scores.py:92: RuntimeWarning: invalid value encountered in divide\n",
      "  vec = vec / np.linalg.norm(vec)\n"
     ]
    },
    {
     "name": "stdout",
     "output_type": "stream",
     "text": [
      "simulate all success\n",
      "Loop Count: 124\n"
     ]
    },
    {
     "name": "stderr",
     "output_type": "stream",
     "text": [
      "/tmp/ipykernel_3434824/3136981537.py:42: FutureWarning: Setting an item of incompatible dtype is deprecated and will raise in a future error of pandas. Value '<Metabolite: Cc1ccc(c(c1)S(=O)(=O)O)Nc2cc(c(c3c2C(=O)c4ccccc4C3=O)N)S(=O)(=O)O>' has dtype incompatible with float64, please explicitly cast to a compatible dtype first.\n",
      "  positive_candidate_dfs[j].at[i, \"Metabolite\"] = metabolite\n",
      "/tmp/ipykernel_3434824/3136981537.py:42: SettingWithCopyWarning: \n",
      "A value is trying to be set on a copy of a slice from a DataFrame\n",
      "\n",
      "See the caveats in the documentation: https://pandas.pydata.org/pandas-docs/stable/user_guide/indexing.html#returning-a-view-versus-a-copy\n",
      "  positive_candidate_dfs[j].at[i, \"Metabolite\"] = metabolite\n"
     ]
    },
    {
     "name": "stdout",
     "output_type": "stream",
     "text": [
      "simulate all success\n",
      "Loop Count: 125\n"
     ]
    },
    {
     "name": "stderr",
     "output_type": "stream",
     "text": [
      "/tmp/ipykernel_3434824/3136981537.py:42: FutureWarning: Setting an item of incompatible dtype is deprecated and will raise in a future error of pandas. Value '<Metabolite: CCCCCC=CCC=CCC=CC=CC1CCCC(=O)O1>' has dtype incompatible with float64, please explicitly cast to a compatible dtype first.\n",
      "  positive_candidate_dfs[j].at[i, \"Metabolite\"] = metabolite\n",
      "/tmp/ipykernel_3434824/3136981537.py:42: SettingWithCopyWarning: \n",
      "A value is trying to be set on a copy of a slice from a DataFrame\n",
      "\n",
      "See the caveats in the documentation: https://pandas.pydata.org/pandas-docs/stable/user_guide/indexing.html#returning-a-view-versus-a-copy\n",
      "  positive_candidate_dfs[j].at[i, \"Metabolite\"] = metabolite\n"
     ]
    },
    {
     "name": "stdout",
     "output_type": "stream",
     "text": [
      "simulate all success\n",
      "Loop Count: 126\n"
     ]
    },
    {
     "name": "stderr",
     "output_type": "stream",
     "text": [
      "/tmp/ipykernel_3434824/3136981537.py:28: SettingWithCopyWarning: \n",
      "A value is trying to be set on a copy of a slice from a DataFrame.\n",
      "Try using .loc[row_indexer,col_indexer] = value instead\n",
      "\n",
      "See the caveats in the documentation: https://pandas.pydata.org/pandas-docs/stable/user_guide/indexing.html#returning-a-view-versus-a-copy\n",
      "  positive_candidate_dfs[j][\"peaks\"] = [{} for i in range(len(positive_candidate_dfs[j]))]\n",
      "/tmp/ipykernel_3434824/3136981537.py:42: SettingWithCopyWarning: \n",
      "A value is trying to be set on a copy of a slice from a DataFrame.\n",
      "Try using .loc[row_indexer,col_indexer] = value instead\n",
      "\n",
      "See the caveats in the documentation: https://pandas.pydata.org/pandas-docs/stable/user_guide/indexing.html#returning-a-view-versus-a-copy\n",
      "  positive_candidate_dfs[j].at[i, \"Metabolite\"] = metabolite\n",
      "/tmp/ipykernel_3434824/3136981537.py:42: FutureWarning: Setting an item of incompatible dtype is deprecated and will raise in a future error of pandas. Value '<Metabolite: CCCCCCCCCCCC(CC1C(C(=O)O1)CCCCCC)OC(=O)C(CC(C)C)NC=O>' has dtype incompatible with float64, please explicitly cast to a compatible dtype first.\n",
      "  positive_candidate_dfs[j].at[i, \"Metabolite\"] = metabolite\n",
      "/tmp/ipykernel_3434824/3136981537.py:42: SettingWithCopyWarning: \n",
      "A value is trying to be set on a copy of a slice from a DataFrame\n",
      "\n",
      "See the caveats in the documentation: https://pandas.pydata.org/pandas-docs/stable/user_guide/indexing.html#returning-a-view-versus-a-copy\n",
      "  positive_candidate_dfs[j].at[i, \"Metabolite\"] = metabolite\n"
     ]
    },
    {
     "name": "stdout",
     "output_type": "stream",
     "text": [
      "simulate all success\n"
     ]
    }
   ],
   "source": [
    "import logging\n",
    "\n",
    "model_path = \"/home/lbarbut/pretrained_models/v0.0.1_merged_depth2.pt\"\n",
    "\n",
    "CE_upper_limit = 80.0\n",
    "weight_upper_limit = 800.0\n",
    "\n",
    "node_encoder = AtomFeatureEncoder(feature_list=[\"symbol\", \"num_hydrogen\", \"ring_type\"])\n",
    "bond_encoder = BondFeatureEncoder(feature_list=[\"bond_type\", \"ring_type\"])\n",
    "setup_encoder = SetupFeatureEncoder(feature_list=[\"collision_energy\", \"molecular_weight\", \"precursor_mode\", \"instrument\"])\n",
    "rt_encoder = SetupFeatureEncoder(feature_list=[\"molecular_weight\", \"precursor_mode\", \"instrument\"])\n",
    "\n",
    "setup_encoder.normalize_features[\"collision_energy\"][\"max\"] = CE_upper_limit \n",
    "setup_encoder.normalize_features[\"molecular_weight\"][\"max\"] = weight_upper_limit \n",
    "rt_encoder.normalize_features[\"molecular_weight\"][\"max\"] = weight_upper_limit\n",
    "\n",
    "model = GNNCompiler.load_from_state_dict(model_path)\n",
    "model.eval()\n",
    "model = model.to(\"cuda:3\")\n",
    "\n",
    "fiora_run = SimulationFramework(model, True, True, dev=\"cuda:3\")\n",
    "\n",
    "pos_cand_score_df = []\n",
    "\n",
    "for j in range (0, len(positive_candidate_dfs)):\n",
    "    print(\"Loop Count: \" + str(j))\n",
    "    \n",
    "    positive_candidate_dfs[j][\"peaks\"] = [{} for i in range(len(positive_candidate_dfs[j]))]\n",
    "    \n",
    "    for i, row in positive_candidate_dfs[j].iterrows():     # ein candidate DF\n",
    "        try:\n",
    "            meta = {\n",
    "                \"collision_energy\":  NCE_to_eV(35, (row[\"MonoisotopicMass\"] + 1)),\n",
    "                \"instrument\": \"HCD\", \"name\": row[\"CompoundName\"], \"precursor_mode\": \"[M+H]+\"\n",
    "            }       \n",
    "            metabolite = Metabolite(row[\"SMILES\"])\n",
    "            metabolite.create_molecular_structure_graph()\n",
    "            metabolite.compute_graph_attributes(node_encoder, bond_encoder)\n",
    "            metabolite.fragment_MOL()\n",
    "            metabolite.add_metadata(meta, setup_encoder, rt_encoder)\n",
    "            \n",
    "            positive_candidate_dfs[j].at[i, \"Metabolite\"] = metabolite\n",
    "            positive_candidate_dfs[j].at[i, \"peaks\"] = all_positive_challenges[j][\"peaks\"]\n",
    "            positive_candidate_dfs[j] = positive_candidate_dfs[j].dropna(subset=[\"Metabolite\"])\n",
    "            \n",
    "        except Exception as e:\n",
    "            continue\n",
    "     \n",
    "    try:    \n",
    "        pos_cand_score_df.append(fiora_run.simulate_all(df=positive_candidate_dfs[j], model=model))\n",
    "        print(\"simulate all success\")\n",
    "        \n",
    "    except Exception as e:\n",
    "        print(positive_candidate_dfs[j])\n",
    "        continue\n",
    "            \n"
   ]
  },
  {
   "cell_type": "code",
   "execution_count": 37,
   "metadata": {},
   "outputs": [
    {
     "ename": "ValueError",
     "evalue": "cannot reindex on an axis with duplicate labels",
     "output_type": "error",
     "traceback": [
      "\u001b[0;31m---------------------------------------------------------------------------\u001b[0m",
      "\u001b[0;31mValueError\u001b[0m                                Traceback (most recent call last)",
      "\u001b[1;32m/home/lbarbut/fiora/notebooks/fiora-rescore-test.ipynb Cell 29\u001b[0m line \u001b[0;36m1\n\u001b[1;32m     <a href='vscode-notebook-cell://ssh-remote%2Bsv2213.zit.bam.de/home/lbarbut/fiora/notebooks/fiora-rescore-test.ipynb#X40sdnNjb2RlLXJlbW90ZQ%3D%3D?line=11'>12</a>\u001b[0m concat_2[\u001b[39m\"\u001b[39m\u001b[39mCosineScore\u001b[39m\u001b[39m\"\u001b[39m] \u001b[39m=\u001b[39m concat_2[\u001b[39m\"\u001b[39m\u001b[39mScore\u001b[39m\u001b[39m\"\u001b[39m]\u001b[39m.\u001b[39mapply(\u001b[39mlambda\u001b[39;00m x: np\u001b[39m.\u001b[39mnan \u001b[39mif\u001b[39;00m x \u001b[39m==\u001b[39m {} \u001b[39melse\u001b[39;00m x[\u001b[39m\"\u001b[39m\u001b[39mcosine\u001b[39m\u001b[39m\"\u001b[39m][\u001b[39m\"\u001b[39m\u001b[39mscore\u001b[39m\u001b[39m\"\u001b[39m])\n\u001b[1;32m     <a href='vscode-notebook-cell://ssh-remote%2Bsv2213.zit.bam.de/home/lbarbut/fiora/notebooks/fiora-rescore-test.ipynb#X40sdnNjb2RlLXJlbW90ZQ%3D%3D?line=13'>14</a>\u001b[0m plt\u001b[39m.\u001b[39mfigure(figsize\u001b[39m=\u001b[39m(\u001b[39m8\u001b[39m, \u001b[39m6\u001b[39m))\n\u001b[0;32m---> <a href='vscode-notebook-cell://ssh-remote%2Bsv2213.zit.bam.de/home/lbarbut/fiora/notebooks/fiora-rescore-test.ipynb#X40sdnNjb2RlLXJlbW90ZQ%3D%3D?line=14'>15</a>\u001b[0m sns\u001b[39m.\u001b[39;49mboxplot(y\u001b[39m=\u001b[39;49mconcat_2[\u001b[39m\"\u001b[39;49m\u001b[39mCosineScore\u001b[39;49m\u001b[39m\"\u001b[39;49m])\n\u001b[1;32m     <a href='vscode-notebook-cell://ssh-remote%2Bsv2213.zit.bam.de/home/lbarbut/fiora/notebooks/fiora-rescore-test.ipynb#X40sdnNjb2RlLXJlbW90ZQ%3D%3D?line=15'>16</a>\u001b[0m plt\u001b[39m.\u001b[39mtitle(\u001b[39m\"\u001b[39m\u001b[39mBoxplot of Spectral Sqrt Cosine\u001b[39m\u001b[39m\"\u001b[39m)\n\u001b[1;32m     <a href='vscode-notebook-cell://ssh-remote%2Bsv2213.zit.bam.de/home/lbarbut/fiora/notebooks/fiora-rescore-test.ipynb#X40sdnNjb2RlLXJlbW90ZQ%3D%3D?line=16'>17</a>\u001b[0m plt\u001b[39m.\u001b[39mshow()\n",
      "File \u001b[0;32m~/anaconda3/envs/fiora/lib/python3.10/site-packages/seaborn/categorical.py:1619\u001b[0m, in \u001b[0;36mboxplot\u001b[0;34m(data, x, y, hue, order, hue_order, orient, color, palette, saturation, fill, dodge, width, gap, whis, linecolor, linewidth, fliersize, hue_norm, native_scale, log_scale, formatter, legend, ax, **kwargs)\u001b[0m\n\u001b[1;32m   1612\u001b[0m color \u001b[39m=\u001b[39m _default_color(\n\u001b[1;32m   1613\u001b[0m     ax\u001b[39m.\u001b[39mfill_between, hue, color,\n\u001b[1;32m   1614\u001b[0m     {k: v \u001b[39mfor\u001b[39;00m k, v \u001b[39min\u001b[39;00m kwargs\u001b[39m.\u001b[39mitems() \u001b[39mif\u001b[39;00m k \u001b[39min\u001b[39;00m [\u001b[39m\"\u001b[39m\u001b[39mc\u001b[39m\u001b[39m\"\u001b[39m, \u001b[39m\"\u001b[39m\u001b[39mcolor\u001b[39m\u001b[39m\"\u001b[39m, \u001b[39m\"\u001b[39m\u001b[39mfc\u001b[39m\u001b[39m\"\u001b[39m, \u001b[39m\"\u001b[39m\u001b[39mfacecolor\u001b[39m\u001b[39m\"\u001b[39m]},\n\u001b[1;32m   1615\u001b[0m     saturation\u001b[39m=\u001b[39msaturation,\n\u001b[1;32m   1616\u001b[0m )\n\u001b[1;32m   1617\u001b[0m linecolor \u001b[39m=\u001b[39m p\u001b[39m.\u001b[39m_complement_color(linecolor, color, p\u001b[39m.\u001b[39m_hue_map)\n\u001b[0;32m-> 1619\u001b[0m p\u001b[39m.\u001b[39;49mplot_boxes(\n\u001b[1;32m   1620\u001b[0m     width\u001b[39m=\u001b[39;49mwidth,\n\u001b[1;32m   1621\u001b[0m     dodge\u001b[39m=\u001b[39;49mdodge,\n\u001b[1;32m   1622\u001b[0m     gap\u001b[39m=\u001b[39;49mgap,\n\u001b[1;32m   1623\u001b[0m     fill\u001b[39m=\u001b[39;49mfill,\n\u001b[1;32m   1624\u001b[0m     whis\u001b[39m=\u001b[39;49mwhis,\n\u001b[1;32m   1625\u001b[0m     color\u001b[39m=\u001b[39;49mcolor,\n\u001b[1;32m   1626\u001b[0m     linecolor\u001b[39m=\u001b[39;49mlinecolor,\n\u001b[1;32m   1627\u001b[0m     linewidth\u001b[39m=\u001b[39;49mlinewidth,\n\u001b[1;32m   1628\u001b[0m     fliersize\u001b[39m=\u001b[39;49mfliersize,\n\u001b[1;32m   1629\u001b[0m     plot_kws\u001b[39m=\u001b[39;49mkwargs,\n\u001b[1;32m   1630\u001b[0m )\n\u001b[1;32m   1632\u001b[0m p\u001b[39m.\u001b[39m_add_axis_labels(ax)\n\u001b[1;32m   1633\u001b[0m p\u001b[39m.\u001b[39m_adjust_cat_axis(ax, axis\u001b[39m=\u001b[39mp\u001b[39m.\u001b[39morient)\n",
      "File \u001b[0;32m~/anaconda3/envs/fiora/lib/python3.10/site-packages/seaborn/categorical.py:623\u001b[0m, in \u001b[0;36m_CategoricalPlotter.plot_boxes\u001b[0;34m(self, width, dodge, gap, fill, whis, color, linecolor, linewidth, fliersize, plot_kws)\u001b[0m\n\u001b[1;32m    619\u001b[0m props[\u001b[39m\"\u001b[39m\u001b[39mflier\u001b[39m\u001b[39m\"\u001b[39m]\u001b[39m.\u001b[39msetdefault(\u001b[39m\"\u001b[39m\u001b[39mmarkersize\u001b[39m\u001b[39m\"\u001b[39m, fliersize)\n\u001b[1;32m    621\u001b[0m ax \u001b[39m=\u001b[39m \u001b[39mself\u001b[39m\u001b[39m.\u001b[39max\n\u001b[0;32m--> 623\u001b[0m \u001b[39mfor\u001b[39;00m sub_vars, sub_data \u001b[39min\u001b[39;00m \u001b[39mself\u001b[39m\u001b[39m.\u001b[39miter_data(iter_vars,\n\u001b[1;32m    624\u001b[0m                                          from_comp_data\u001b[39m=\u001b[39m\u001b[39mTrue\u001b[39;00m,\n\u001b[1;32m    625\u001b[0m                                          allow_empty\u001b[39m=\u001b[39m\u001b[39mFalse\u001b[39;00m):\n\u001b[1;32m    627\u001b[0m     ax \u001b[39m=\u001b[39m \u001b[39mself\u001b[39m\u001b[39m.\u001b[39m_get_axes(sub_vars)\n\u001b[1;32m    629\u001b[0m     grouped \u001b[39m=\u001b[39m sub_data\u001b[39m.\u001b[39mgroupby(\u001b[39mself\u001b[39m\u001b[39m.\u001b[39morient)[value_var]\n",
      "File \u001b[0;32m~/anaconda3/envs/fiora/lib/python3.10/site-packages/seaborn/_base.py:902\u001b[0m, in \u001b[0;36mVectorPlotter.iter_data\u001b[0;34m(self, grouping_vars, reverse, from_comp_data, by_facet, allow_empty, dropna)\u001b[0m\n\u001b[1;32m    899\u001b[0m grouping_vars \u001b[39m=\u001b[39m [var \u001b[39mfor\u001b[39;00m var \u001b[39min\u001b[39;00m grouping_vars \u001b[39mif\u001b[39;00m var \u001b[39min\u001b[39;00m \u001b[39mself\u001b[39m\u001b[39m.\u001b[39mvariables]\n\u001b[1;32m    901\u001b[0m \u001b[39mif\u001b[39;00m from_comp_data:\n\u001b[0;32m--> 902\u001b[0m     data \u001b[39m=\u001b[39m \u001b[39mself\u001b[39;49m\u001b[39m.\u001b[39;49mcomp_data\n\u001b[1;32m    903\u001b[0m \u001b[39melse\u001b[39;00m:\n\u001b[1;32m    904\u001b[0m     data \u001b[39m=\u001b[39m \u001b[39mself\u001b[39m\u001b[39m.\u001b[39mplot_data\n",
      "File \u001b[0;32m~/anaconda3/envs/fiora/lib/python3.10/site-packages/seaborn/_base.py:1006\u001b[0m, in \u001b[0;36mVectorPlotter.comp_data\u001b[0;34m(self)\u001b[0m\n\u001b[1;32m   1004\u001b[0m         \u001b[39melse\u001b[39;00m:\n\u001b[1;32m   1005\u001b[0m             comp_col \u001b[39m=\u001b[39m pd\u001b[39m.\u001b[39mSeries(dtype\u001b[39m=\u001b[39m\u001b[39mfloat\u001b[39m, name\u001b[39m=\u001b[39mvar)\n\u001b[0;32m-> 1006\u001b[0m         comp_data\u001b[39m.\u001b[39;49minsert(\u001b[39m0\u001b[39;49m, var, comp_col)\n\u001b[1;32m   1008\u001b[0m     \u001b[39mself\u001b[39m\u001b[39m.\u001b[39m_comp_data \u001b[39m=\u001b[39m comp_data\n\u001b[1;32m   1010\u001b[0m \u001b[39mreturn\u001b[39;00m \u001b[39mself\u001b[39m\u001b[39m.\u001b[39m_comp_data\n",
      "File \u001b[0;32m~/anaconda3/envs/fiora/lib/python3.10/site-packages/pandas/core/frame.py:4947\u001b[0m, in \u001b[0;36mDataFrame.insert\u001b[0;34m(self, loc, column, value, allow_duplicates)\u001b[0m\n\u001b[1;32m   4944\u001b[0m \u001b[39melif\u001b[39;00m \u001b[39misinstance\u001b[39m(value, DataFrame):\n\u001b[1;32m   4945\u001b[0m     value \u001b[39m=\u001b[39m value\u001b[39m.\u001b[39miloc[:, \u001b[39m0\u001b[39m]\n\u001b[0;32m-> 4947\u001b[0m value, refs \u001b[39m=\u001b[39m \u001b[39mself\u001b[39;49m\u001b[39m.\u001b[39;49m_sanitize_column(value)\n\u001b[1;32m   4948\u001b[0m \u001b[39mself\u001b[39m\u001b[39m.\u001b[39m_mgr\u001b[39m.\u001b[39minsert(loc, column, value, refs\u001b[39m=\u001b[39mrefs)\n",
      "File \u001b[0;32m~/anaconda3/envs/fiora/lib/python3.10/site-packages/pandas/core/frame.py:5039\u001b[0m, in \u001b[0;36mDataFrame._sanitize_column\u001b[0;34m(self, value)\u001b[0m\n\u001b[1;32m   5037\u001b[0m     \u001b[39mif\u001b[39;00m \u001b[39mnot\u001b[39;00m \u001b[39misinstance\u001b[39m(value, Series):\n\u001b[1;32m   5038\u001b[0m         value \u001b[39m=\u001b[39m Series(value)\n\u001b[0;32m-> 5039\u001b[0m     \u001b[39mreturn\u001b[39;00m _reindex_for_setitem(value, \u001b[39mself\u001b[39;49m\u001b[39m.\u001b[39;49mindex)\n\u001b[1;32m   5041\u001b[0m \u001b[39mif\u001b[39;00m is_list_like(value):\n\u001b[1;32m   5042\u001b[0m     com\u001b[39m.\u001b[39mrequire_length_match(value, \u001b[39mself\u001b[39m\u001b[39m.\u001b[39mindex)\n",
      "File \u001b[0;32m~/anaconda3/envs/fiora/lib/python3.10/site-packages/pandas/core/frame.py:12312\u001b[0m, in \u001b[0;36m_reindex_for_setitem\u001b[0;34m(value, index)\u001b[0m\n\u001b[1;32m  12308\u001b[0m \u001b[39mexcept\u001b[39;00m \u001b[39mValueError\u001b[39;00m \u001b[39mas\u001b[39;00m err:\n\u001b[1;32m  12309\u001b[0m     \u001b[39m# raised in MultiIndex.from_tuples, see test_insert_error_msmgs\u001b[39;00m\n\u001b[1;32m  12310\u001b[0m     \u001b[39mif\u001b[39;00m \u001b[39mnot\u001b[39;00m value\u001b[39m.\u001b[39mindex\u001b[39m.\u001b[39mis_unique:\n\u001b[1;32m  12311\u001b[0m         \u001b[39m# duplicate axis\u001b[39;00m\n\u001b[0;32m> 12312\u001b[0m         \u001b[39mraise\u001b[39;00m err\n\u001b[1;32m  12314\u001b[0m     \u001b[39mraise\u001b[39;00m \u001b[39mTypeError\u001b[39;00m(\n\u001b[1;32m  12315\u001b[0m         \u001b[39m\"\u001b[39m\u001b[39mincompatible index of inserted column with frame index\u001b[39m\u001b[39m\"\u001b[39m\n\u001b[1;32m  12316\u001b[0m     ) \u001b[39mfrom\u001b[39;00m \u001b[39merr\u001b[39;00m\n\u001b[1;32m  12317\u001b[0m \u001b[39mreturn\u001b[39;00m reindexed_value, \u001b[39mNone\u001b[39;00m\n",
      "File \u001b[0;32m~/anaconda3/envs/fiora/lib/python3.10/site-packages/pandas/core/frame.py:12307\u001b[0m, in \u001b[0;36m_reindex_for_setitem\u001b[0;34m(value, index)\u001b[0m\n\u001b[1;32m  12305\u001b[0m \u001b[39m# GH#4107\u001b[39;00m\n\u001b[1;32m  12306\u001b[0m \u001b[39mtry\u001b[39;00m:\n\u001b[0;32m> 12307\u001b[0m     reindexed_value \u001b[39m=\u001b[39m value\u001b[39m.\u001b[39;49mreindex(index)\u001b[39m.\u001b[39m_values\n\u001b[1;32m  12308\u001b[0m \u001b[39mexcept\u001b[39;00m \u001b[39mValueError\u001b[39;00m \u001b[39mas\u001b[39;00m err:\n\u001b[1;32m  12309\u001b[0m     \u001b[39m# raised in MultiIndex.from_tuples, see test_insert_error_msmgs\u001b[39;00m\n\u001b[1;32m  12310\u001b[0m     \u001b[39mif\u001b[39;00m \u001b[39mnot\u001b[39;00m value\u001b[39m.\u001b[39mindex\u001b[39m.\u001b[39mis_unique:\n\u001b[1;32m  12311\u001b[0m         \u001b[39m# duplicate axis\u001b[39;00m\n",
      "File \u001b[0;32m~/anaconda3/envs/fiora/lib/python3.10/site-packages/pandas/core/series.py:4977\u001b[0m, in \u001b[0;36mSeries.reindex\u001b[0;34m(self, index, axis, method, copy, level, fill_value, limit, tolerance)\u001b[0m\n\u001b[1;32m   4960\u001b[0m \u001b[39m@doc\u001b[39m(\n\u001b[1;32m   4961\u001b[0m     NDFrame\u001b[39m.\u001b[39mreindex,  \u001b[39m# type: ignore[has-type]\u001b[39;00m\n\u001b[1;32m   4962\u001b[0m     klass\u001b[39m=\u001b[39m_shared_doc_kwargs[\u001b[39m\"\u001b[39m\u001b[39mklass\u001b[39m\u001b[39m\"\u001b[39m],\n\u001b[0;32m   (...)\u001b[0m\n\u001b[1;32m   4975\u001b[0m     tolerance\u001b[39m=\u001b[39m\u001b[39mNone\u001b[39;00m,\n\u001b[1;32m   4976\u001b[0m ) \u001b[39m-\u001b[39m\u001b[39m>\u001b[39m Series:\n\u001b[0;32m-> 4977\u001b[0m     \u001b[39mreturn\u001b[39;00m \u001b[39msuper\u001b[39;49m()\u001b[39m.\u001b[39;49mreindex(\n\u001b[1;32m   4978\u001b[0m         index\u001b[39m=\u001b[39;49mindex,\n\u001b[1;32m   4979\u001b[0m         method\u001b[39m=\u001b[39;49mmethod,\n\u001b[1;32m   4980\u001b[0m         copy\u001b[39m=\u001b[39;49mcopy,\n\u001b[1;32m   4981\u001b[0m         level\u001b[39m=\u001b[39;49mlevel,\n\u001b[1;32m   4982\u001b[0m         fill_value\u001b[39m=\u001b[39;49mfill_value,\n\u001b[1;32m   4983\u001b[0m         limit\u001b[39m=\u001b[39;49mlimit,\n\u001b[1;32m   4984\u001b[0m         tolerance\u001b[39m=\u001b[39;49mtolerance,\n\u001b[1;32m   4985\u001b[0m     )\n",
      "File \u001b[0;32m~/anaconda3/envs/fiora/lib/python3.10/site-packages/pandas/core/generic.py:5521\u001b[0m, in \u001b[0;36mNDFrame.reindex\u001b[0;34m(self, labels, index, columns, axis, method, copy, level, fill_value, limit, tolerance)\u001b[0m\n\u001b[1;32m   5518\u001b[0m     \u001b[39mreturn\u001b[39;00m \u001b[39mself\u001b[39m\u001b[39m.\u001b[39m_reindex_multi(axes, copy, fill_value)\n\u001b[1;32m   5520\u001b[0m \u001b[39m# perform the reindex on the axes\u001b[39;00m\n\u001b[0;32m-> 5521\u001b[0m \u001b[39mreturn\u001b[39;00m \u001b[39mself\u001b[39;49m\u001b[39m.\u001b[39;49m_reindex_axes(\n\u001b[1;32m   5522\u001b[0m     axes, level, limit, tolerance, method, fill_value, copy\n\u001b[1;32m   5523\u001b[0m )\u001b[39m.\u001b[39m__finalize__(\u001b[39mself\u001b[39m, method\u001b[39m=\u001b[39m\u001b[39m\"\u001b[39m\u001b[39mreindex\u001b[39m\u001b[39m\"\u001b[39m)\n",
      "File \u001b[0;32m~/anaconda3/envs/fiora/lib/python3.10/site-packages/pandas/core/generic.py:5544\u001b[0m, in \u001b[0;36mNDFrame._reindex_axes\u001b[0;34m(self, axes, level, limit, tolerance, method, fill_value, copy)\u001b[0m\n\u001b[1;32m   5541\u001b[0m     \u001b[39mcontinue\u001b[39;00m\n\u001b[1;32m   5543\u001b[0m ax \u001b[39m=\u001b[39m \u001b[39mself\u001b[39m\u001b[39m.\u001b[39m_get_axis(a)\n\u001b[0;32m-> 5544\u001b[0m new_index, indexer \u001b[39m=\u001b[39m ax\u001b[39m.\u001b[39;49mreindex(\n\u001b[1;32m   5545\u001b[0m     labels, level\u001b[39m=\u001b[39;49mlevel, limit\u001b[39m=\u001b[39;49mlimit, tolerance\u001b[39m=\u001b[39;49mtolerance, method\u001b[39m=\u001b[39;49mmethod\n\u001b[1;32m   5546\u001b[0m )\n\u001b[1;32m   5548\u001b[0m axis \u001b[39m=\u001b[39m \u001b[39mself\u001b[39m\u001b[39m.\u001b[39m_get_axis_number(a)\n\u001b[1;32m   5549\u001b[0m obj \u001b[39m=\u001b[39m obj\u001b[39m.\u001b[39m_reindex_with_indexers(\n\u001b[1;32m   5550\u001b[0m     {axis: [new_index, indexer]},\n\u001b[1;32m   5551\u001b[0m     fill_value\u001b[39m=\u001b[39mfill_value,\n\u001b[1;32m   5552\u001b[0m     copy\u001b[39m=\u001b[39mcopy,\n\u001b[1;32m   5553\u001b[0m     allow_dups\u001b[39m=\u001b[39m\u001b[39mFalse\u001b[39;00m,\n\u001b[1;32m   5554\u001b[0m )\n",
      "File \u001b[0;32m~/anaconda3/envs/fiora/lib/python3.10/site-packages/pandas/core/indexes/base.py:4433\u001b[0m, in \u001b[0;36mIndex.reindex\u001b[0;34m(self, target, method, level, limit, tolerance)\u001b[0m\n\u001b[1;32m   4430\u001b[0m     \u001b[39mraise\u001b[39;00m \u001b[39mValueError\u001b[39;00m(\u001b[39m\"\u001b[39m\u001b[39mcannot handle a non-unique multi-index!\u001b[39m\u001b[39m\"\u001b[39m)\n\u001b[1;32m   4431\u001b[0m \u001b[39melif\u001b[39;00m \u001b[39mnot\u001b[39;00m \u001b[39mself\u001b[39m\u001b[39m.\u001b[39mis_unique:\n\u001b[1;32m   4432\u001b[0m     \u001b[39m# GH#42568\u001b[39;00m\n\u001b[0;32m-> 4433\u001b[0m     \u001b[39mraise\u001b[39;00m \u001b[39mValueError\u001b[39;00m(\u001b[39m\"\u001b[39m\u001b[39mcannot reindex on an axis with duplicate labels\u001b[39m\u001b[39m\"\u001b[39m)\n\u001b[1;32m   4434\u001b[0m \u001b[39melse\u001b[39;00m:\n\u001b[1;32m   4435\u001b[0m     indexer, _ \u001b[39m=\u001b[39m \u001b[39mself\u001b[39m\u001b[39m.\u001b[39mget_indexer_non_unique(target)\n",
      "\u001b[0;31mValueError\u001b[0m: cannot reindex on an axis with duplicate labels"
     ]
    },
    {
     "data": {
      "image/png": "[encoded data removed]",
      "text/plain": [
       "<Figure size 800x600 with 1 Axes>"
      ]
     },
     "metadata": {},
     "output_type": "display_data"
    },
    {
     "data": {
      "image/png": "[encoded data removed]",
      "text/plain": [
       "<Figure size 800x600 with 1 Axes>"
      ]
     },
     "metadata": {},
     "output_type": "display_data"
    }
   ],
   "source": [
    "import seaborn as sns\n",
    "import matplotlib.pyplot as plt\n",
    "\n",
    "concatenated_df = pd.concat(pos_cand_score_df)\n",
    "\n",
    "plt.figure(figsize=(8, 6))\n",
    "sns.boxplot(y=concatenated_df[\"spectral_sqrt_cosine\"])\n",
    "plt.title(\"Boxplot of Spectral Sqrt Cosine\")\n",
    "plt.show()\n",
    "\n",
    "concat_2 = pd.concat(positive_candidate_dfs)\n",
    "concat_2.reset_index(drop=True, inplace=True)\n",
    "concat_2[\"CosineScore\"] = concat_2[\"Score\"].apply(lambda x: np.nan if x == {} else x[\"cosine\"][\"score\"])\n",
    "\n",
    "plt.figure(figsize=(8, 6))\n",
    "sns.boxplot(y=concat_2[\"CosineScore\"])\n",
    "plt.title(\"Boxplot of Spectral Sqrt Cosine\")\n",
    "plt.show()\n"
   ]
  },
  {
   "cell_type": "code",
   "execution_count": 35,
   "metadata": {},
   "outputs": [
    {
     "data": {
      "text/html": [
       "<div>\n",
       "<style scoped>\n",
       "    .dataframe tbody tr th:only-of-type {\n",
       "        vertical-align: middle;\n",
       "    }\n",
       "\n",
       "    .dataframe tbody tr th {\n",
       "        vertical-align: top;\n",
       "    }\n",
       "\n",
       "    .dataframe thead th {\n",
       "        text-align: right;\n",
       "    }\n",
       "</style>\n",
       "<table border=\"1\" class=\"dataframe\">\n",
       "  <thead>\n",
       "    <tr style=\"text-align: right;\">\n",
       "      <th></th>\n",
       "      <th>Identifier</th>\n",
       "      <th>CompoundName</th>\n",
       "      <th>MonoisotopicMass</th>\n",
       "      <th>MolecularFormula</th>\n",
       "      <th>SMILES</th>\n",
       "      <th>InChI</th>\n",
       "      <th>InChIKey</th>\n",
       "      <th>Score</th>\n",
       "      <th>Spectrum</th>\n",
       "      <th>ExactMolMass</th>\n",
       "      <th>CollisionEnergy</th>\n",
       "      <th>PrecursorProbability</th>\n",
       "      <th>Coverage</th>\n",
       "      <th>Challenge</th>\n",
       "    </tr>\n",
       "  </thead>\n",
       "  <tbody>\n",
       "    <tr>\n",
       "      <th>2</th>\n",
       "      <td>43550</td>\n",
       "      <td>Cyromazine</td>\n",
       "      <td>166.096695</td>\n",
       "      <td>C6H10N6</td>\n",
       "      <td>C1CC1Nc2nc(nc(n2)N)N</td>\n",
       "      <td>InChI=1S/C6H10N6/c7-4-10-5(8)12-6(11-4)9-3-1-2...</td>\n",
       "      <td>LVQDKIWDGQRHTE-UHFFFAOYSA-N</td>\n",
       "      <td>{'cosine': {'score': 0.8228622734286044, 'bias...</td>\n",
       "      <td>{'mz': [167.10397031999997, 127.07267019199999...</td>\n",
       "      <td>166.096694</td>\n",
       "      <td>11.696769</td>\n",
       "      <td>0.967145</td>\n",
       "      <td>0.698837</td>\n",
       "      <td>Challenge-082</td>\n",
       "    </tr>\n",
       "    <tr>\n",
       "      <th>5</th>\n",
       "      <td>235471</td>\n",
       "      <td>6-Amino-N'-ethyl-1,2,4-triazine-5-carboximidamide</td>\n",
       "      <td>166.096695</td>\n",
       "      <td>C6H10N6</td>\n",
       "      <td>CC/N=C(/c1c(nncn1)N)\\N</td>\n",
       "      <td>InChI=1S/C6H10N6/c1-2-9-5(7)4-6(8)12-11-3-10-4...</td>\n",
       "      <td>YRBYHGOQFSICMA-UHFFFAOYSA-N</td>\n",
       "      <td>{'cosine': {'score': 0.7938395974151856, 'bias...</td>\n",
       "      <td>{'mz': [167.10397031999997, 139.07267019199998...</td>\n",
       "      <td>166.096694</td>\n",
       "      <td>11.696769</td>\n",
       "      <td>0.905598</td>\n",
       "      <td>0.746332</td>\n",
       "      <td>Challenge-082</td>\n",
       "    </tr>\n",
       "    <tr>\n",
       "      <th>6</th>\n",
       "      <td>262957</td>\n",
       "      <td>1-Methyl-N-(2H-tetrazol-5-yl)-2-pyrrolidinimine</td>\n",
       "      <td>166.096695</td>\n",
       "      <td>C6H10N6</td>\n",
       "      <td>CN1CCCC1=Nc2n[nH]nn2</td>\n",
       "      <td>InChI=1S/C6H10N6/c1-12-4-2-3-5(12)7-6-8-10-11-...</td>\n",
       "      <td>USJMNMBIPMIMEA-UHFFFAOYSA-N</td>\n",
       "      <td>{'cosine': {'score': 0.822117004246391, 'bias'...</td>\n",
       "      <td>{'mz': [167.10397031999997], 'intensity': [0.9...</td>\n",
       "      <td>166.096694</td>\n",
       "      <td>11.696769</td>\n",
       "      <td>0.822691</td>\n",
       "      <td>0.821543</td>\n",
       "      <td>Challenge-082</td>\n",
       "    </tr>\n",
       "    <tr>\n",
       "      <th>7</th>\n",
       "      <td>363141</td>\n",
       "      <td>1-(2-Hydrazino-2-oxoethyl)-4-methylpyridinium</td>\n",
       "      <td>166.097488</td>\n",
       "      <td>C8H12N3O</td>\n",
       "      <td>Cc1cc[n+](cc1)CC(=O)NN</td>\n",
       "      <td>InChI=1S/C8H11N3O/c1-7-2-4-11(5-3-7)6-8(12)10-...</td>\n",
       "      <td>MIJSUODEEVOTMN-UHFFFAOYSA-O</td>\n",
       "      <td>{'cosine': {'score': 0.3984703384436143, 'bias...</td>\n",
       "      <td>{'mz': [167.10476442408998, 107.07349974008999...</td>\n",
       "      <td>166.097488</td>\n",
       "      <td>11.696824</td>\n",
       "      <td>0.996016</td>\n",
       "      <td>0.678580</td>\n",
       "      <td>Challenge-082</td>\n",
       "    </tr>\n",
       "    <tr>\n",
       "      <th>8</th>\n",
       "      <td>383171</td>\n",
       "      <td>1-Ethyl-4-(hydrazinocarbonyl)pyridinium</td>\n",
       "      <td>166.097488</td>\n",
       "      <td>C8H12N3O</td>\n",
       "      <td>CC[n+]1ccc(cc1)C(=O)NN</td>\n",
       "      <td>InChI=1S/C8H11N3O/c1-2-11-5-3-7(4-6-11)8(12)10...</td>\n",
       "      <td>PGGNGLNEZGRCTK-UHFFFAOYSA-O</td>\n",
       "      <td>{'cosine': {'score': 0.5658891793945439, 'bias...</td>\n",
       "      <td>{'mz': [167.10476442408998, 138.06563926408998...</td>\n",
       "      <td>166.097488</td>\n",
       "      <td>11.696824</td>\n",
       "      <td>0.996016</td>\n",
       "      <td>0.678580</td>\n",
       "      <td>Challenge-082</td>\n",
       "    </tr>\n",
       "    <tr>\n",
       "      <th>9</th>\n",
       "      <td>385528</td>\n",
       "      <td>1-(4,5-Dihydro-1H-imidazol-2-yl)-1H-pyrazole-3...</td>\n",
       "      <td>166.096695</td>\n",
       "      <td>C6H10N6</td>\n",
       "      <td>c1c(nn(c1N)C2=NCCN2)N</td>\n",
       "      <td>InChI=1S/C6H10N6/c7-4-3-5(8)12(11-4)6-9-1-2-10...</td>\n",
       "      <td>HKCLDEHMEDOYBD-UHFFFAOYSA-N</td>\n",
       "      <td>{'cosine': {'score': 0.8113170090583444, 'bias...</td>\n",
       "      <td>{'mz': [167.10397031999997, 150.078519288, 150...</td>\n",
       "      <td>166.096694</td>\n",
       "      <td>11.696769</td>\n",
       "      <td>0.996016</td>\n",
       "      <td>0.678580</td>\n",
       "      <td>Challenge-082</td>\n",
       "    </tr>\n",
       "    <tr>\n",
       "      <th>10</th>\n",
       "      <td>497651</td>\n",
       "      <td>1-(Carbamoylamino)-3,5-dimethylpyridinium</td>\n",
       "      <td>166.097488</td>\n",
       "      <td>C8H12N3O</td>\n",
       "      <td>Cc1cc(c[n+](c1)NC(=O)N)C</td>\n",
       "      <td>InChI=1S/C8H11N3O/c1-6-3-7(2)5-11(4-6)10-8(9)1...</td>\n",
       "      <td>DLUNYJGOCYRGFP-UHFFFAOYSA-O</td>\n",
       "      <td>{'cosine': {'score': 0.5639459821885138, 'bias...</td>\n",
       "      <td>{'mz': [167.10476442408998, 124.09895077208999...</td>\n",
       "      <td>166.097488</td>\n",
       "      <td>11.696824</td>\n",
       "      <td>0.996016</td>\n",
       "      <td>0.678580</td>\n",
       "      <td>Challenge-082</td>\n",
       "    </tr>\n",
       "    <tr>\n",
       "      <th>11</th>\n",
       "      <td>1439915</td>\n",
       "      <td>2-(Isonicotinoylamino)ethanaminium</td>\n",
       "      <td>166.097488</td>\n",
       "      <td>C8H12N3O</td>\n",
       "      <td>c1cnccc1C(=O)NCC[NH3+]</td>\n",
       "      <td>InChI=1S/C8H11N3O/c9-3-6-11-8(12)7-1-4-10-5-2-...</td>\n",
       "      <td>BYBVGGPVHPUBSJ-UHFFFAOYSA-O</td>\n",
       "      <td>{'cosine': {'score': 0.44155208093320863, 'bia...</td>\n",
       "      <td>{'mz': [167.10476442408998, 80.04947516, 78.03...</td>\n",
       "      <td>166.097488</td>\n",
       "      <td>11.696824</td>\n",
       "      <td>0.876335</td>\n",
       "      <td>0.771254</td>\n",
       "      <td>Challenge-082</td>\n",
       "    </tr>\n",
       "    <tr>\n",
       "      <th>12</th>\n",
       "      <td>2041529</td>\n",
       "      <td>1,1,2-Trifluoro-1-octene</td>\n",
       "      <td>166.096939</td>\n",
       "      <td>C8H13F3</td>\n",
       "      <td>CCCCCCC(=C(F)F)F</td>\n",
       "      <td>InChI=1S/C8H13F3/c1-2-3-4-5-6-7(9)8(10)11/h2-6...</td>\n",
       "      <td>QLMNBUGTGFMBBM-UHFFFAOYSA-N</td>\n",
       "      <td>{'cosine': {'score': 0.7922283056280456, 'bias...</td>\n",
       "      <td>{'mz': [167.10421107599998, 139.072910948, 97....</td>\n",
       "      <td>166.096935</td>\n",
       "      <td>11.696786</td>\n",
       "      <td>0.960207</td>\n",
       "      <td>0.703886</td>\n",
       "      <td>Challenge-082</td>\n",
       "    </tr>\n",
       "    <tr>\n",
       "      <th>13</th>\n",
       "      <td>2062282</td>\n",
       "      <td>4-CYCLOPROPYL-6-HYDRAZINO-1,3,5-TRIAZIN-2-AMINE</td>\n",
       "      <td>166.096695</td>\n",
       "      <td>C6H10N6</td>\n",
       "      <td>C1CC1c2nc(nc(n2)NN)N</td>\n",
       "      <td>InChI=1S/C6H10N6/c7-5-9-4(3-1-2-3)10-6(11-5)12...</td>\n",
       "      <td>KUUQVVNKTZWOTC-UHFFFAOYSA-N</td>\n",
       "      <td>{'cosine': {'score': 0.8126789768756902, 'bias...</td>\n",
       "      <td>{'mz': [167.10397031999997, 150.078519288], 'i...</td>\n",
       "      <td>166.096694</td>\n",
       "      <td>11.696769</td>\n",
       "      <td>0.992122</td>\n",
       "      <td>0.681243</td>\n",
       "      <td>Challenge-082</td>\n",
       "    </tr>\n",
       "    <tr>\n",
       "      <th>14</th>\n",
       "      <td>2856608</td>\n",
       "      <td>Imino[(4-methoxyphenyl)amino]methanaminium</td>\n",
       "      <td>166.097488</td>\n",
       "      <td>C8H12N3O</td>\n",
       "      <td>COc1ccc(cc1)NC(=[NH2+])N</td>\n",
       "      <td>InChI=1S/C8H11N3O/c1-12-7-4-2-6(3-5-7)11-8(9)1...</td>\n",
       "      <td>VGFALHATLLBXIT-UHFFFAOYSA-O</td>\n",
       "      <td>{'cosine': {'score': 0.7896284521676424, 'bias...</td>\n",
       "      <td>{'mz': [167.10476442408998, 124.075689908, 123...</td>\n",
       "      <td>166.097488</td>\n",
       "      <td>11.696824</td>\n",
       "      <td>0.886419</td>\n",
       "      <td>0.762479</td>\n",
       "      <td>Challenge-082</td>\n",
       "    </tr>\n",
       "    <tr>\n",
       "      <th>15</th>\n",
       "      <td>3544002</td>\n",
       "      <td>1-(2-Aminoethyl)-3-carbamoylpyridinium</td>\n",
       "      <td>166.097488</td>\n",
       "      <td>C8H12N3O</td>\n",
       "      <td>c1cc(c[n+](c1)CCN)C(=O)N</td>\n",
       "      <td>InChI=1S/C8H11N3O/c9-3-5-11-4-1-2-7(6-11)8(10)...</td>\n",
       "      <td>RAOPRHWSJWNCEQ-UHFFFAOYSA-O</td>\n",
       "      <td>{'cosine': {'score': 0.5937094318533148, 'bias...</td>\n",
       "      <td>{'mz': [167.10476442408998, 124.09895077208999...</td>\n",
       "      <td>166.097488</td>\n",
       "      <td>11.696824</td>\n",
       "      <td>0.996016</td>\n",
       "      <td>0.678580</td>\n",
       "      <td>Challenge-082</td>\n",
       "    </tr>\n",
       "    <tr>\n",
       "      <th>16</th>\n",
       "      <td>3627513</td>\n",
       "      <td>5-(2-Cyclopentylidenehydrazino)-2H-tetrazole</td>\n",
       "      <td>166.096695</td>\n",
       "      <td>C6H10N6</td>\n",
       "      <td>C1CCC(=NNc2n[nH]nn2)C1</td>\n",
       "      <td>InChI=1S/C6H10N6/c1-2-4-5(3-1)7-8-6-9-11-12-10...</td>\n",
       "      <td>HBHWJAVFKBMFTO-UHFFFAOYSA-N</td>\n",
       "      <td>{'cosine': {'score': 0.8508557977862228, 'bias...</td>\n",
       "      <td>{'mz': [167.10397031999997, 83.073499288, 82.0...</td>\n",
       "      <td>166.096694</td>\n",
       "      <td>11.696769</td>\n",
       "      <td>0.823896</td>\n",
       "      <td>0.820342</td>\n",
       "      <td>Challenge-082</td>\n",
       "    </tr>\n",
       "    <tr>\n",
       "      <th>17</th>\n",
       "      <td>4411424</td>\n",
       "      <td>3a,4,8a,9-Tetrahydro-3H,8H-bis[1,2,3]triazolo[...</td>\n",
       "      <td>166.096695</td>\n",
       "      <td>C6H10N6</td>\n",
       "      <td>C1C2CN3C(CN=N3)CN2N=N1</td>\n",
       "      <td>InChI=1S/C6H10N6/c1-5-3-12-6(2-8-10-12)4-11(5)...</td>\n",
       "      <td>DYEYBZXRLVRUBV-UHFFFAOYSA-N</td>\n",
       "      <td>{'cosine': {'score': 0.8221170042463909, 'bias...</td>\n",
       "      <td>{'mz': [167.10397031999997], 'intensity': [0.9...</td>\n",
       "      <td>166.096694</td>\n",
       "      <td>11.696769</td>\n",
       "      <td>1.000000</td>\n",
       "      <td>0.675876</td>\n",
       "      <td>Challenge-082</td>\n",
       "    </tr>\n",
       "    <tr>\n",
       "      <th>18</th>\n",
       "      <td>4532969</td>\n",
       "      <td>7-Hydrazino-5-methyl-1,7-dihydro[1,2,4]triazol...</td>\n",
       "      <td>166.096695</td>\n",
       "      <td>C6H10N6</td>\n",
       "      <td>CC1=CC(N2C(=N1)N=CN2)NN</td>\n",
       "      <td>InChI=1S/C6H10N6/c1-4-2-5(11-7)12-6(10-4)8-3-9...</td>\n",
       "      <td>ADPQVYRAZIPOCT-UHFFFAOYSA-N</td>\n",
       "      <td>{'cosine': {'score': 0.743781717870965, 'bias'...</td>\n",
       "      <td>{'mz': [167.10397031999997, 136.074896256, 135...</td>\n",
       "      <td>166.096694</td>\n",
       "      <td>11.696769</td>\n",
       "      <td>0.996016</td>\n",
       "      <td>0.678580</td>\n",
       "      <td>Challenge-082</td>\n",
       "    </tr>\n",
       "    <tr>\n",
       "      <th>19</th>\n",
       "      <td>4577773</td>\n",
       "      <td>2-Octene, 1,1,2-trifluoro-</td>\n",
       "      <td>166.096939</td>\n",
       "      <td>C8H13F3</td>\n",
       "      <td>CCCCC/C=C(/C(F)F)\\F</td>\n",
       "      <td>InChI=1S/C8H13F3/c1-2-3-4-5-6-7(9)8(10)11/h6,8...</td>\n",
       "      <td>GEEONXFLRDFRQZ-SREVYHEPSA-N</td>\n",
       "      <td>{'cosine': {'score': 0.7601784166808419, 'bias...</td>\n",
       "      <td>{'mz': [167.10421107599998, 97.025960756, 116....</td>\n",
       "      <td>166.096935</td>\n",
       "      <td>11.696786</td>\n",
       "      <td>0.960207</td>\n",
       "      <td>0.703886</td>\n",
       "      <td>Challenge-082</td>\n",
       "    </tr>\n",
       "    <tr>\n",
       "      <th>20</th>\n",
       "      <td>5378403</td>\n",
       "      <td>2-[(3-Pyridinylcarbonyl)amino]ethanaminium</td>\n",
       "      <td>166.097488</td>\n",
       "      <td>C8H12N3O</td>\n",
       "      <td>O=C(NCC[NH3+])c1cccnc1</td>\n",
       "      <td>InChI=1S/C8H11N3O/c9-3-5-11-8(12)7-2-1-4-10-6-...</td>\n",
       "      <td>RTIXFTKDETURTM-UHFFFAOYSA-O</td>\n",
       "      <td>{'cosine': {'score': 0.4596578298327772, 'bias...</td>\n",
       "      <td>{'mz': [167.10476442408998, 106.02983778, 80.0...</td>\n",
       "      <td>166.097488</td>\n",
       "      <td>11.696824</td>\n",
       "      <td>0.876335</td>\n",
       "      <td>0.771254</td>\n",
       "      <td>Challenge-082</td>\n",
       "    </tr>\n",
       "    <tr>\n",
       "      <th>21</th>\n",
       "      <td>5381024</td>\n",
       "      <td>Diamino-N-(3-methoxyphenyl)methaniminium</td>\n",
       "      <td>166.097488</td>\n",
       "      <td>C8H12N3O</td>\n",
       "      <td>O(c1cccc(\\[NH+]=C(/N)N)c1)C</td>\n",
       "      <td>InChI=1S/C8H11N3O/c1-12-7-4-2-3-6(5-7)11-8(9)1...</td>\n",
       "      <td>GHJPWSGXHWIAEQ-UHFFFAOYSA-O</td>\n",
       "      <td>{'cosine': {'score': 0.7808099049021547, 'bias...</td>\n",
       "      <td>{'mz': [167.10476442408998, 152.08183836009, 1...</td>\n",
       "      <td>166.097488</td>\n",
       "      <td>11.696824</td>\n",
       "      <td>0.886420</td>\n",
       "      <td>0.762479</td>\n",
       "      <td>Challenge-082</td>\n",
       "    </tr>\n",
       "    <tr>\n",
       "      <th>22</th>\n",
       "      <td>5615239</td>\n",
       "      <td>2-[(2-Pyridinylcarbonyl)amino]ethanaminium</td>\n",
       "      <td>166.097488</td>\n",
       "      <td>C8H12N3O</td>\n",
       "      <td>O=C(NCC[NH3+])c1ncccc1</td>\n",
       "      <td>InChI=1S/C8H11N3O/c9-4-6-11-8(12)7-3-1-2-5-10-...</td>\n",
       "      <td>MDEHSSNJTVYAFD-UHFFFAOYSA-O</td>\n",
       "      <td>{'cosine': {'score': 0.5104060052313323, 'bias...</td>\n",
       "      <td>{'mz': [167.10476442408998, 149.09639586808999...</td>\n",
       "      <td>166.097488</td>\n",
       "      <td>11.696824</td>\n",
       "      <td>0.876335</td>\n",
       "      <td>0.771254</td>\n",
       "      <td>Challenge-082</td>\n",
       "    </tr>\n",
       "    <tr>\n",
       "      <th>23</th>\n",
       "      <td>8279040</td>\n",
       "      <td>Ethyl 4-methyl(2,6-~2~H_2_)benzoate</td>\n",
       "      <td>166.096283</td>\n",
       "      <td>C10H10D2O2</td>\n",
       "      <td>O=C(OCC)c1c([2H])cc(cc1[2H])C</td>\n",
       "      <td>InChI=1S/C10H12O2/c1-3-12-10(11)9-6-4-8(2)5-7-...</td>\n",
       "      <td>NWPWRAWAUYIELB-QFIQSOQBSA-N</td>\n",
       "      <td>{'cosine': {'score': 0.3996729573379421, 'bias...</td>\n",
       "      <td>{'mz': [167.10355911599999, 121.06279236799999...</td>\n",
       "      <td>166.096283</td>\n",
       "      <td>11.696740</td>\n",
       "      <td>0.982125</td>\n",
       "      <td>0.688178</td>\n",
       "      <td>Challenge-082</td>\n",
       "    </tr>\n",
       "    <tr>\n",
       "      <th>24</th>\n",
       "      <td>8279041</td>\n",
       "      <td>4-Phenyl(4,4-~2~H_2_)butanoic acid</td>\n",
       "      <td>166.096283</td>\n",
       "      <td>C10H10D2O2</td>\n",
       "      <td>[2H]C([2H])(c1ccccc1)CCC(=O)O</td>\n",
       "      <td>InChI=1S/C10H12O2/c11-10(12)8-4-7-9-5-2-1-3-6-...</td>\n",
       "      <td>OBKXEAXTFZPCHS-RJSZUWSASA-N</td>\n",
       "      <td>{'cosine': {'score': 0.26346694974904605, 'bia...</td>\n",
       "      <td>{'mz': [167.10355911599999, 3.021377778, 164.0...</td>\n",
       "      <td>166.096283</td>\n",
       "      <td>11.696740</td>\n",
       "      <td>1.000000</td>\n",
       "      <td>0.675876</td>\n",
       "      <td>Challenge-082</td>\n",
       "    </tr>\n",
       "    <tr>\n",
       "      <th>25</th>\n",
       "      <td>8283946</td>\n",
       "      <td>(7R)-2,7-Dimethyl-5-oxo-5,6,7,8-tetrahydroimid...</td>\n",
       "      <td>166.097488</td>\n",
       "      <td>C8H12N3O</td>\n",
       "      <td>O=C2N[C@@H](Cc1c[n+](cn12)C)C</td>\n",
       "      <td>InChI=1S/C8H11N3O/c1-6-3-7-4-10(2)5-11(7)8(12)...</td>\n",
       "      <td>OWVAQYQYWYUQKD-ZCFIWIBFSA-O</td>\n",
       "      <td>{'cosine': {'score': 0.8162650407207739, 'bias...</td>\n",
       "      <td>{'mz': [167.10476442408998, 150.06673732809], ...</td>\n",
       "      <td>166.097488</td>\n",
       "      <td>11.696824</td>\n",
       "      <td>0.996016</td>\n",
       "      <td>0.678580</td>\n",
       "      <td>Challenge-082</td>\n",
       "    </tr>\n",
       "    <tr>\n",
       "      <th>26</th>\n",
       "      <td>8686656</td>\n",
       "      <td>Phenyl(~2~H_2_)methyl propionate</td>\n",
       "      <td>166.096283</td>\n",
       "      <td>C10H10D2O2</td>\n",
       "      <td>[2H]C([2H])(OC(=O)CC)c1ccccc1</td>\n",
       "      <td>InChI=1S/C10H12O2/c1-2-10(11)12-8-9-6-4-3-5-7-...</td>\n",
       "      <td>VHOMAPWVLKRQAZ-MGVXTIMCSA-N</td>\n",
       "      <td>{'cosine': {'score': 0.2326266231251417, 'bias...</td>\n",
       "      <td>{'mz': [167.10355911599999, 164.08273037, 3.02...</td>\n",
       "      <td>166.096283</td>\n",
       "      <td>11.696740</td>\n",
       "      <td>0.952706</td>\n",
       "      <td>0.709428</td>\n",
       "      <td>Challenge-082</td>\n",
       "    </tr>\n",
       "    <tr>\n",
       "      <th>27</th>\n",
       "      <td>9183468</td>\n",
       "      <td>8,8,8-Trifluoro-1-octene</td>\n",
       "      <td>166.096939</td>\n",
       "      <td>C8H13F3</td>\n",
       "      <td>FC(F)(F)CCCCCC=C</td>\n",
       "      <td>InChI=1S/C8H13F3/c1-2-3-4-5-6-7-8(9,10)11/h2H,...</td>\n",
       "      <td>DHJCMDIDXIUWQC-UHFFFAOYSA-N</td>\n",
       "      <td>{'cosine': {'score': 0.8841557017315987, 'bias...</td>\n",
       "      <td>{'mz': [167.10421107599998, 85.025960756, 83.0...</td>\n",
       "      <td>166.096935</td>\n",
       "      <td>11.696786</td>\n",
       "      <td>0.964570</td>\n",
       "      <td>0.700702</td>\n",
       "      <td>Challenge-082</td>\n",
       "    </tr>\n",
       "    <tr>\n",
       "      <th>28</th>\n",
       "      <td>9205349</td>\n",
       "      <td>(1Z)-2-Hydroxy-4-(2-vinyl-1-aziridinyl)-1-bute...</td>\n",
       "      <td>166.097488</td>\n",
       "      <td>C8H12N3O</td>\n",
       "      <td>N#[N+]/C=C(\\O)CCN1C(\\C=C)C1</td>\n",
       "      <td>InChI=1S/C8H11N3O/c1-2-7-6-11(7)4-3-8(12)5-10-...</td>\n",
       "      <td>CMZGFYUWDAFNLQ-YVMONPNESA-O</td>\n",
       "      <td>{'cosine': {'score': 0.6601042002675157, 'bias...</td>\n",
       "      <td>{'mz': [167.10476442408998, 150.10257380408999...</td>\n",
       "      <td>166.097488</td>\n",
       "      <td>11.696824</td>\n",
       "      <td>0.763826</td>\n",
       "      <td>0.884857</td>\n",
       "      <td>Challenge-082</td>\n",
       "    </tr>\n",
       "    <tr>\n",
       "      <th>29</th>\n",
       "      <td>9259387</td>\n",
       "      <td>(1R,2R)-1,2-Diazidocyclohexane</td>\n",
       "      <td>166.096695</td>\n",
       "      <td>C6H10N6</td>\n",
       "      <td>C1CCC(C(C1)N=[N+]=[N-])N=[N+]=[N-]</td>\n",
       "      <td>InChI=1S/C6H10N6/c7-11-9-5-3-1-2-4-6(5)10-12-8...</td>\n",
       "      <td>VVOKGDAKFPYWTN-UHFFFAOYSA-N</td>\n",
       "      <td>{'cosine': {'score': 0.7854695686213545, 'bias...</td>\n",
       "      <td>{'mz': [167.10397031999997, 125.09529735199999...</td>\n",
       "      <td>166.096694</td>\n",
       "      <td>11.696769</td>\n",
       "      <td>0.914567</td>\n",
       "      <td>0.739012</td>\n",
       "      <td>Challenge-082</td>\n",
       "    </tr>\n",
       "    <tr>\n",
       "      <th>32</th>\n",
       "      <td>9644103</td>\n",
       "      <td>1-Allyl-2-hydroxy-1,4,5,6-tetrahydro-3-pyridin...</td>\n",
       "      <td>166.097488</td>\n",
       "      <td>C8H12N3O</td>\n",
       "      <td>N#[N+]/C1=C(\\O)N(C\\C=C)CCC1</td>\n",
       "      <td>InChI=1S/C8H11N3O/c1-2-5-11-6-3-4-7(10-9)8(11)...</td>\n",
       "      <td>NWSXOBPNOCAVPH-UHFFFAOYSA-O</td>\n",
       "      <td>{'cosine': {'score': 0.7635550710253769, 'bias...</td>\n",
       "      <td>{'mz': [167.10476442408998, 149.09529780409002...</td>\n",
       "      <td>166.097488</td>\n",
       "      <td>11.696824</td>\n",
       "      <td>0.973062</td>\n",
       "      <td>0.694587</td>\n",
       "      <td>Challenge-082</td>\n",
       "    </tr>\n",
       "    <tr>\n",
       "      <th>33</th>\n",
       "      <td>10277448</td>\n",
       "      <td>4-Ethyl-1,1,1-trifluoro-3-hexene</td>\n",
       "      <td>166.096939</td>\n",
       "      <td>C8H13F3</td>\n",
       "      <td>CCC(=CCC(F)(F)F)CC</td>\n",
       "      <td>InChI=1S/C8H13F3/c1-3-7(4-2)5-6-8(9,10)11/h5H,...</td>\n",
       "      <td>RRIGVUIVAVTIAW-UHFFFAOYSA-N</td>\n",
       "      <td>{'cosine': {'score': 0.8322457159827309, 'bias...</td>\n",
       "      <td>{'mz': [167.10421107599998, 97.02705882, 83.08...</td>\n",
       "      <td>166.096935</td>\n",
       "      <td>11.696786</td>\n",
       "      <td>0.982125</td>\n",
       "      <td>0.688178</td>\n",
       "      <td>Challenge-082</td>\n",
       "    </tr>\n",
       "    <tr>\n",
       "      <th>34</th>\n",
       "      <td>10325500</td>\n",
       "      <td>trans-1-Methyl-4-(trifluoromethyl)cyclohexane</td>\n",
       "      <td>166.096939</td>\n",
       "      <td>C8H13F3</td>\n",
       "      <td>C[C@H]1CC[C@@H](CC1)C(F)(F)F</td>\n",
       "      <td>InChI=1S/C8H13F3/c1-6-2-4-7(5-3-6)8(9,10)11/h6...</td>\n",
       "      <td>YZKFCSOACWTUBF-LJGSYFOKSA-N</td>\n",
       "      <td>{'cosine': {'score': 0.822117004246391, 'bias'...</td>\n",
       "      <td>{'mz': [167.10421107599998], 'intensity': [0.9...</td>\n",
       "      <td>166.096935</td>\n",
       "      <td>11.696786</td>\n",
       "      <td>0.996016</td>\n",
       "      <td>0.678580</td>\n",
       "      <td>Challenge-082</td>\n",
       "    </tr>\n",
       "    <tr>\n",
       "      <th>35</th>\n",
       "      <td>10329630</td>\n",
       "      <td>(2E)-1,1,1-Trifluoro-2-octene</td>\n",
       "      <td>166.096939</td>\n",
       "      <td>C8H13F3</td>\n",
       "      <td>CCCCC/C=C/C(F)(F)F</td>\n",
       "      <td>InChI=1S/C8H13F3/c1-2-3-4-5-6-7-8(9,10)11/h6-7...</td>\n",
       "      <td>WLPUOOBRPFNZGU-VOTSOKGWSA-N</td>\n",
       "      <td>{'cosine': {'score': 0.5513367783872085, 'bias...</td>\n",
       "      <td>{'mz': [167.10421107599998, 97.025960756], 'in...</td>\n",
       "      <td>166.096935</td>\n",
       "      <td>11.696786</td>\n",
       "      <td>0.960207</td>\n",
       "      <td>0.703886</td>\n",
       "      <td>Challenge-082</td>\n",
       "    </tr>\n",
       "    <tr>\n",
       "      <th>36</th>\n",
       "      <td>10555019</td>\n",
       "      <td>1-[(2E)-2-(Hydroxyimino)ethyl]-2-(methylamino)...</td>\n",
       "      <td>166.097488</td>\n",
       "      <td>C8H12N3O</td>\n",
       "      <td>CNc1cccc[n+]1C\\C=N\\O</td>\n",
       "      <td>InChI=1S/C8H11N3O/c1-9-8-4-2-3-6-11(8)7-5-10-1...</td>\n",
       "      <td>VZVVCOLTHLIZRQ-BJMVGYQFSA-O</td>\n",
       "      <td>{'cosine': {'score': 0.5496995984200315, 'bias...</td>\n",
       "      <td>{'mz': [167.10476442408998, 152.08183836009, 1...</td>\n",
       "      <td>166.097488</td>\n",
       "      <td>11.696824</td>\n",
       "      <td>0.886420</td>\n",
       "      <td>0.762479</td>\n",
       "      <td>Challenge-082</td>\n",
       "    </tr>\n",
       "    <tr>\n",
       "      <th>37</th>\n",
       "      <td>10593687</td>\n",
       "      <td>N~2~-Allyl-1,3,5-triazine-2,4,6-triamine</td>\n",
       "      <td>166.096695</td>\n",
       "      <td>C6H10N6</td>\n",
       "      <td>Nc1nc(N)nc(NCC=C)n1</td>\n",
       "      <td>InChI=1S/C6H10N6/c1-2-3-9-6-11-4(7)10-5(8)12-6...</td>\n",
       "      <td>NXUJLMSOHYVBMB-UHFFFAOYSA-N</td>\n",
       "      <td>{}</td>\n",
       "      <td>{}</td>\n",
       "      <td>NaN</td>\n",
       "      <td>NaN</td>\n",
       "      <td>NaN</td>\n",
       "      <td>NaN</td>\n",
       "      <td>Challenge-082</td>\n",
       "    </tr>\n",
       "    <tr>\n",
       "      <th>40</th>\n",
       "      <td>21413968</td>\n",
       "      <td>1,1-Diazidocyclohexane</td>\n",
       "      <td>166.096695</td>\n",
       "      <td>C6H10N6</td>\n",
       "      <td>C1CCC(CC1)(N=[N+]=[N-])N=[N+]=[N-]</td>\n",
       "      <td>InChI=1S/C6H10N6/c7-11-9-6(10-12-8)4-2-1-3-5-6...</td>\n",
       "      <td>OFGGSBHRDVLPDE-UHFFFAOYSA-N</td>\n",
       "      <td>{}</td>\n",
       "      <td>{}</td>\n",
       "      <td>NaN</td>\n",
       "      <td>NaN</td>\n",
       "      <td>NaN</td>\n",
       "      <td>NaN</td>\n",
       "      <td>Challenge-082</td>\n",
       "    </tr>\n",
       "    <tr>\n",
       "      <th>43</th>\n",
       "      <td>23210302</td>\n",
       "      <td>1,5,6,7-Tetrahydro-2,4-pteridinediamine</td>\n",
       "      <td>166.096695</td>\n",
       "      <td>C6H10N6</td>\n",
       "      <td>C1CNc2c(c(nc(n2)N)N)N1</td>\n",
       "      <td>InChI=1S/C6H10N6/c7-4-3-5(10-2-1-9-3)12-6(8)11...</td>\n",
       "      <td>WUAKSYDPKFNCMY-UHFFFAOYSA-N</td>\n",
       "      <td>{}</td>\n",
       "      <td>{}</td>\n",
       "      <td>NaN</td>\n",
       "      <td>NaN</td>\n",
       "      <td>NaN</td>\n",
       "      <td>NaN</td>\n",
       "      <td>Challenge-082</td>\n",
       "    </tr>\n",
       "    <tr>\n",
       "      <th>44</th>\n",
       "      <td>23976553</td>\n",
       "      <td>1-(4-Methoxyphenyl)-1-(2,2-~2~H_2_)propanone</td>\n",
       "      <td>166.096283</td>\n",
       "      <td>C10H10D2O2</td>\n",
       "      <td>[2H]C([2H])(C)C(=O)c1ccc(cc1)OC</td>\n",
       "      <td>InChI=1S/C10H12O2/c1-3-10(11)8-4-6-9(12-2)7-5-...</td>\n",
       "      <td>ZJVAWPKTWVFKHG-SMZGMGDZSA-N</td>\n",
       "      <td>{}</td>\n",
       "      <td>{}</td>\n",
       "      <td>NaN</td>\n",
       "      <td>NaN</td>\n",
       "      <td>NaN</td>\n",
       "      <td>NaN</td>\n",
       "      <td>Challenge-082</td>\n",
       "    </tr>\n",
       "    <tr>\n",
       "      <th>45</th>\n",
       "      <td>24818618</td>\n",
       "      <td>1-[2-(Carbamoylamino)ethyl]pyridinium</td>\n",
       "      <td>166.097488</td>\n",
       "      <td>C8H12N3O</td>\n",
       "      <td>c1cc[n+](cc1)CCNC(=O)N</td>\n",
       "      <td>InChI=1S/C8H11N3O/c9-8(12)10-4-7-11-5-2-1-3-6-...</td>\n",
       "      <td>KHYSZCQHVDLOMH-UHFFFAOYSA-O</td>\n",
       "      <td>{}</td>\n",
       "      <td>{}</td>\n",
       "      <td>NaN</td>\n",
       "      <td>NaN</td>\n",
       "      <td>NaN</td>\n",
       "      <td>NaN</td>\n",
       "      <td>Challenge-082</td>\n",
       "    </tr>\n",
       "    <tr>\n",
       "      <th>46</th>\n",
       "      <td>25039347</td>\n",
       "      <td>1-Allyl-4-[(E)-(hydroxyimino)methyl]-3-methyl-...</td>\n",
       "      <td>166.097488</td>\n",
       "      <td>C8H12N3O</td>\n",
       "      <td>C[n+]1cn(cc1/C=N/O)CC=C</td>\n",
       "      <td>InChI=1S/C8H11N3O/c1-3-4-11-6-8(5-9-12)10(2)7-...</td>\n",
       "      <td>YJJHIVWMXSDPAQ-WEVVVXLNSA-O</td>\n",
       "      <td>{}</td>\n",
       "      <td>{}</td>\n",
       "      <td>NaN</td>\n",
       "      <td>NaN</td>\n",
       "      <td>NaN</td>\n",
       "      <td>NaN</td>\n",
       "      <td>Challenge-082</td>\n",
       "    </tr>\n",
       "    <tr>\n",
       "      <th>47</th>\n",
       "      <td>25072127</td>\n",
       "      <td>1',5'-Dihydro-4'H-1,4'-bipyrazole-4,4'-diamine</td>\n",
       "      <td>166.096695</td>\n",
       "      <td>C6H10N6</td>\n",
       "      <td>c1c(cn(n1)C2(CNN=C2)N)N</td>\n",
       "      <td>InChI=1S/C6H10N6/c7-5-1-11-12(2-5)6(8)3-9-10-4...</td>\n",
       "      <td>DNSNZNOHHYQRQB-UHFFFAOYSA-N</td>\n",
       "      <td>{}</td>\n",
       "      <td>{}</td>\n",
       "      <td>NaN</td>\n",
       "      <td>NaN</td>\n",
       "      <td>NaN</td>\n",
       "      <td>NaN</td>\n",
       "      <td>Challenge-082</td>\n",
       "    </tr>\n",
       "    <tr>\n",
       "      <th>48</th>\n",
       "      <td>25072128</td>\n",
       "      <td>1',5'-Dihydro-1H,4'H-3,4'-bipyrazole-4,4'-diamine</td>\n",
       "      <td>166.096695</td>\n",
       "      <td>C6H10N6</td>\n",
       "      <td>c1c(c(n[nH]1)C2(CNN=C2)N)N</td>\n",
       "      <td>InChI=1S/C6H10N6/c7-4-1-9-12-5(4)6(8)2-10-11-3...</td>\n",
       "      <td>VKRNUDPGGIZKTO-UHFFFAOYSA-N</td>\n",
       "      <td>{}</td>\n",
       "      <td>{}</td>\n",
       "      <td>NaN</td>\n",
       "      <td>NaN</td>\n",
       "      <td>NaN</td>\n",
       "      <td>NaN</td>\n",
       "      <td>Challenge-082</td>\n",
       "    </tr>\n",
       "    <tr>\n",
       "      <th>49</th>\n",
       "      <td>32748351</td>\n",
       "      <td>(2E)-1-Methyl-N-(1H-tetrazol-5-yl)-2-pyrrolidi...</td>\n",
       "      <td>166.096695</td>\n",
       "      <td>C6H10N6</td>\n",
       "      <td>CN\\1CCC/C1=N\\c2[nH]nnn2</td>\n",
       "      <td>InChI=1S/C6H10N6/c1-12-4-2-3-5(12)7-6-8-10-11-...</td>\n",
       "      <td>USJMNMBIPMIMEA-FNORWQNLSA-N</td>\n",
       "      <td>{}</td>\n",
       "      <td>{}</td>\n",
       "      <td>NaN</td>\n",
       "      <td>NaN</td>\n",
       "      <td>NaN</td>\n",
       "      <td>NaN</td>\n",
       "      <td>Challenge-082</td>\n",
       "    </tr>\n",
       "    <tr>\n",
       "      <th>50</th>\n",
       "      <td>35141708</td>\n",
       "      <td>1,1,1-Trifluoro-2-octene</td>\n",
       "      <td>166.096939</td>\n",
       "      <td>C8H13F3</td>\n",
       "      <td>CCCCCC=CC(F)(F)F</td>\n",
       "      <td>InChI=1S/C8H13F3/c1-2-3-4-5-6-7-8(9,10)11/h6-7...</td>\n",
       "      <td>WLPUOOBRPFNZGU-UHFFFAOYSA-N</td>\n",
       "      <td>{}</td>\n",
       "      <td>{}</td>\n",
       "      <td>NaN</td>\n",
       "      <td>NaN</td>\n",
       "      <td>NaN</td>\n",
       "      <td>NaN</td>\n",
       "      <td>Challenge-082</td>\n",
       "    </tr>\n",
       "    <tr>\n",
       "      <th>51</th>\n",
       "      <td>35490792</td>\n",
       "      <td>4-(Aminomethyl)-6-methyl-1,6-dihydropyrazolo[3...</td>\n",
       "      <td>166.096695</td>\n",
       "      <td>C6H10N6</td>\n",
       "      <td>Cn1c2c(c(n1)CN)c(n[nH]2)N</td>\n",
       "      <td>InChI=1S/C6H10N6/c1-12-6-4(3(2-7)11-12)5(8)9-1...</td>\n",
       "      <td>WIKWAPOYEDPFBJ-UHFFFAOYSA-N</td>\n",
       "      <td>{}</td>\n",
       "      <td>{}</td>\n",
       "      <td>NaN</td>\n",
       "      <td>NaN</td>\n",
       "      <td>NaN</td>\n",
       "      <td>NaN</td>\n",
       "      <td>Challenge-082</td>\n",
       "    </tr>\n",
       "    <tr>\n",
       "      <th>52</th>\n",
       "      <td>35909103</td>\n",
       "      <td>3-[5-Amino-3-(methylamino)-1H-1,2,4-triazol-1-...</td>\n",
       "      <td>166.096695</td>\n",
       "      <td>C6H10N6</td>\n",
       "      <td>CNc1nc(n(n1)CCC#N)N</td>\n",
       "      <td>InChI=1S/C6H10N6/c1-9-6-10-5(8)12(11-6)4-2-3-7...</td>\n",
       "      <td>GDSKFPNJLFEPDU-UHFFFAOYSA-N</td>\n",
       "      <td>{}</td>\n",
       "      <td>{}</td>\n",
       "      <td>NaN</td>\n",
       "      <td>NaN</td>\n",
       "      <td>NaN</td>\n",
       "      <td>NaN</td>\n",
       "      <td>Challenge-082</td>\n",
       "    </tr>\n",
       "    <tr>\n",
       "      <th>53</th>\n",
       "      <td>35914361</td>\n",
       "      <td>5-[(2-Propyn-1-ylamino)methyl]-4H-1,2,4-triazo...</td>\n",
       "      <td>166.096695</td>\n",
       "      <td>C6H10N6</td>\n",
       "      <td>C#CCNCc1nnc(n1N)N</td>\n",
       "      <td>InChI=1S/C6H10N6/c1-2-3-9-4-5-10-11-6(7)12(5)8...</td>\n",
       "      <td>PSSJZEHYRTTXTN-UHFFFAOYSA-N</td>\n",
       "      <td>{}</td>\n",
       "      <td>{}</td>\n",
       "      <td>NaN</td>\n",
       "      <td>NaN</td>\n",
       "      <td>NaN</td>\n",
       "      <td>NaN</td>\n",
       "      <td>Challenge-082</td>\n",
       "    </tr>\n",
       "    <tr>\n",
       "      <th>54</th>\n",
       "      <td>37494071</td>\n",
       "      <td>1-(3,5-Dimethyl-3H-imidazo[1,2-d]tetrazol-6-yl...</td>\n",
       "      <td>166.096695</td>\n",
       "      <td>C6H10N6</td>\n",
       "      <td>Cc1c(n2c(n1)n(nn2)C)CN</td>\n",
       "      <td>InChI=1S/C6H10N6/c1-4-5(3-7)12-6(8-4)11(2)9-10...</td>\n",
       "      <td>ULTYNUCVWYUVFW-UHFFFAOYSA-N</td>\n",
       "      <td>{}</td>\n",
       "      <td>{}</td>\n",
       "      <td>NaN</td>\n",
       "      <td>NaN</td>\n",
       "      <td>NaN</td>\n",
       "      <td>NaN</td>\n",
       "      <td>Challenge-082</td>\n",
       "    </tr>\n",
       "    <tr>\n",
       "      <th>55</th>\n",
       "      <td>37494072</td>\n",
       "      <td>1-(5-Methyl-3H-imidazo[1,2-d]tetrazol-6-yl)eth...</td>\n",
       "      <td>166.096695</td>\n",
       "      <td>C6H10N6</td>\n",
       "      <td>Cc1c(n2c(n1)[nH]nn2)C(C)N</td>\n",
       "      <td>InChI=1S/C6H10N6/c1-3(7)5-4(2)8-6-9-10-11-12(5...</td>\n",
       "      <td>SUEZFUFFIYZDEJ-UHFFFAOYSA-N</td>\n",
       "      <td>{}</td>\n",
       "      <td>{}</td>\n",
       "      <td>NaN</td>\n",
       "      <td>NaN</td>\n",
       "      <td>NaN</td>\n",
       "      <td>NaN</td>\n",
       "      <td>Challenge-082</td>\n",
       "    </tr>\n",
       "    <tr>\n",
       "      <th>56</th>\n",
       "      <td>37552771</td>\n",
       "      <td>5,6,7,8-Tetrahydro[1,2,4]triazolo[4,3-a]pyrazi...</td>\n",
       "      <td>166.096695</td>\n",
       "      <td>C6H10N6</td>\n",
       "      <td>C1Cn2c(nnc2C(=N)N)CN1</td>\n",
       "      <td>InChI=1S/C6H10N6/c7-5(8)6-11-10-4-3-9-1-2-12(4...</td>\n",
       "      <td>XXFSLZGHAPZHIQ-UHFFFAOYSA-N</td>\n",
       "      <td>{}</td>\n",
       "      <td>{}</td>\n",
       "      <td>NaN</td>\n",
       "      <td>NaN</td>\n",
       "      <td>NaN</td>\n",
       "      <td>NaN</td>\n",
       "      <td>Challenge-082</td>\n",
       "    </tr>\n",
       "    <tr>\n",
       "      <th>57</th>\n",
       "      <td>37662917</td>\n",
       "      <td>2-(5,6-Dihydro-4H-imidazo[1,2-b][1,2,4]triazol...</td>\n",
       "      <td>166.096695</td>\n",
       "      <td>C6H10N6</td>\n",
       "      <td>C1Cn2c(nc(n2)CC(=N)N)N1</td>\n",
       "      <td>InChI=1S/C6H10N6/c7-4(8)3-5-10-6-9-1-2-12(6)11...</td>\n",
       "      <td>JUPDNPMCMFHTRI-UHFFFAOYSA-N</td>\n",
       "      <td>{}</td>\n",
       "      <td>{}</td>\n",
       "      <td>NaN</td>\n",
       "      <td>NaN</td>\n",
       "      <td>NaN</td>\n",
       "      <td>NaN</td>\n",
       "      <td>Challenge-082</td>\n",
       "    </tr>\n",
       "    <tr>\n",
       "      <th>58</th>\n",
       "      <td>37664172</td>\n",
       "      <td>4-Methyl-5,6-dihydro-4H-imidazo[1,2-b][1,2,4]t...</td>\n",
       "      <td>166.096695</td>\n",
       "      <td>C6H10N6</td>\n",
       "      <td>CN1CCn2c1nc(n2)C(=N)N</td>\n",
       "      <td>InChI=1S/C6H10N6/c1-11-2-3-12-6(11)9-5(10-12)4...</td>\n",
       "      <td>ODLGAIZOTSRFHI-UHFFFAOYSA-N</td>\n",
       "      <td>{}</td>\n",
       "      <td>{}</td>\n",
       "      <td>NaN</td>\n",
       "      <td>NaN</td>\n",
       "      <td>NaN</td>\n",
       "      <td>NaN</td>\n",
       "      <td>Challenge-082</td>\n",
       "    </tr>\n",
       "    <tr>\n",
       "      <th>59</th>\n",
       "      <td>40247223</td>\n",
       "      <td>3-[Methyl(1-methyl-1H-tetrazol-5-yl)amino]prop...</td>\n",
       "      <td>166.096695</td>\n",
       "      <td>C6H10N6</td>\n",
       "      <td>Cn1c(nnn1)N(C)CCC#N</td>\n",
       "      <td>InChI=1S/C6H10N6/c1-11(5-3-4-7)6-8-9-10-12(6)2...</td>\n",
       "      <td>LZENEWPYNWXTPB-UHFFFAOYSA-N</td>\n",
       "      <td>{}</td>\n",
       "      <td>{}</td>\n",
       "      <td>NaN</td>\n",
       "      <td>NaN</td>\n",
       "      <td>NaN</td>\n",
       "      <td>NaN</td>\n",
       "      <td>Challenge-082</td>\n",
       "    </tr>\n",
       "    <tr>\n",
       "      <th>60</th>\n",
       "      <td>40274262</td>\n",
       "      <td>N-(1H-Tetrazol-5-ylmethyl)cyclopropanecarboxim...</td>\n",
       "      <td>166.096695</td>\n",
       "      <td>C6H10N6</td>\n",
       "      <td>C1CC1C(=N)NCc2[nH]nnn2</td>\n",
       "      <td>InChI=1S/C6H10N6/c7-6(4-1-2-4)8-3-5-9-11-12-10...</td>\n",
       "      <td>IREYIQUOKZKYNR-UHFFFAOYSA-N</td>\n",
       "      <td>{}</td>\n",
       "      <td>{}</td>\n",
       "      <td>NaN</td>\n",
       "      <td>NaN</td>\n",
       "      <td>NaN</td>\n",
       "      <td>NaN</td>\n",
       "      <td>Challenge-082</td>\n",
       "    </tr>\n",
       "    <tr>\n",
       "      <th>61</th>\n",
       "      <td>41386778</td>\n",
       "      <td>5-(1-Amino-3-butyn-1-yl)-4H-1,2,4-triazole-3,4...</td>\n",
       "      <td>166.096695</td>\n",
       "      <td>C6H10N6</td>\n",
       "      <td>C#CCC(c1nnc(n1N)N)N</td>\n",
       "      <td>InChI=1S/C6H10N6/c1-2-3-4(7)5-10-11-6(8)12(5)9...</td>\n",
       "      <td>FGXDFKOQUVJSGQ-UHFFFAOYSA-N</td>\n",
       "      <td>{}</td>\n",
       "      <td>{}</td>\n",
       "      <td>NaN</td>\n",
       "      <td>NaN</td>\n",
       "      <td>NaN</td>\n",
       "      <td>NaN</td>\n",
       "      <td>Challenge-082</td>\n",
       "    </tr>\n",
       "    <tr>\n",
       "      <th>62</th>\n",
       "      <td>41946734</td>\n",
       "      <td>(2E)-2-[(1-Methyl-1H-pyrazol-5-yl)methylene]hy...</td>\n",
       "      <td>166.096695</td>\n",
       "      <td>C6H10N6</td>\n",
       "      <td>Cn1c(ccn1)/C=N/NC(=N)N</td>\n",
       "      <td>InChI=1S/C6H10N6/c1-12-5(2-3-10-12)4-9-11-6(7)...</td>\n",
       "      <td>WXKOZGPFRGWHJP-RUDMXATFSA-N</td>\n",
       "      <td>{}</td>\n",
       "      <td>{}</td>\n",
       "      <td>NaN</td>\n",
       "      <td>NaN</td>\n",
       "      <td>NaN</td>\n",
       "      <td>NaN</td>\n",
       "      <td>Challenge-082</td>\n",
       "    </tr>\n",
       "    <tr>\n",
       "      <th>63</th>\n",
       "      <td>41976095</td>\n",
       "      <td>N-(4H-1,2,4-Triazol-3-ylmethyl)-4,5-dihydro-1H...</td>\n",
       "      <td>166.096695</td>\n",
       "      <td>C6H10N6</td>\n",
       "      <td>c1[nH]c(nn1)CNC2=NCCN2</td>\n",
       "      <td>InChI=1S/C6H10N6/c1-2-8-6(7-1)9-3-5-10-4-11-12...</td>\n",
       "      <td>QVPIJENYPMKZFV-UHFFFAOYSA-N</td>\n",
       "      <td>{}</td>\n",
       "      <td>{}</td>\n",
       "      <td>NaN</td>\n",
       "      <td>NaN</td>\n",
       "      <td>NaN</td>\n",
       "      <td>NaN</td>\n",
       "      <td>Challenge-082</td>\n",
       "    </tr>\n",
       "  </tbody>\n",
       "</table>\n",
       "</div>"
      ],
      "text/plain": [
       "    Identifier                                       CompoundName  \\\n",
       "2        43550                                         Cyromazine   \n",
       "5       235471  6-Amino-N'-ethyl-1,2,4-triazine-5-carboximidamide   \n",
       "6       262957    1-Methyl-N-(2H-tetrazol-5-yl)-2-pyrrolidinimine   \n",
       "7       363141      1-(2-Hydrazino-2-oxoethyl)-4-methylpyridinium   \n",
       "8       383171            1-Ethyl-4-(hydrazinocarbonyl)pyridinium   \n",
       "9       385528  1-(4,5-Dihydro-1H-imidazol-2-yl)-1H-pyrazole-3...   \n",
       "10      497651          1-(Carbamoylamino)-3,5-dimethylpyridinium   \n",
       "11     1439915                 2-(Isonicotinoylamino)ethanaminium   \n",
       "12     2041529                           1,1,2-Trifluoro-1-octene   \n",
       "13     2062282    4-CYCLOPROPYL-6-HYDRAZINO-1,3,5-TRIAZIN-2-AMINE   \n",
       "14     2856608         Imino[(4-methoxyphenyl)amino]methanaminium   \n",
       "15     3544002             1-(2-Aminoethyl)-3-carbamoylpyridinium   \n",
       "16     3627513       5-(2-Cyclopentylidenehydrazino)-2H-tetrazole   \n",
       "17     4411424  3a,4,8a,9-Tetrahydro-3H,8H-bis[1,2,3]triazolo[...   \n",
       "18     4532969  7-Hydrazino-5-methyl-1,7-dihydro[1,2,4]triazol...   \n",
       "19     4577773                         2-Octene, 1,1,2-trifluoro-   \n",
       "20     5378403         2-[(3-Pyridinylcarbonyl)amino]ethanaminium   \n",
       "21     5381024           Diamino-N-(3-methoxyphenyl)methaniminium   \n",
       "22     5615239         2-[(2-Pyridinylcarbonyl)amino]ethanaminium   \n",
       "23     8279040                Ethyl 4-methyl(2,6-~2~H_2_)benzoate   \n",
       "24     8279041                 4-Phenyl(4,4-~2~H_2_)butanoic acid   \n",
       "25     8283946  (7R)-2,7-Dimethyl-5-oxo-5,6,7,8-tetrahydroimid...   \n",
       "26     8686656                   Phenyl(~2~H_2_)methyl propionate   \n",
       "27     9183468                           8,8,8-Trifluoro-1-octene   \n",
       "28     9205349  (1Z)-2-Hydroxy-4-(2-vinyl-1-aziridinyl)-1-bute...   \n",
       "29     9259387                     (1R,2R)-1,2-Diazidocyclohexane   \n",
       "32     9644103  1-Allyl-2-hydroxy-1,4,5,6-tetrahydro-3-pyridin...   \n",
       "33    10277448                   4-Ethyl-1,1,1-trifluoro-3-hexene   \n",
       "34    10325500      trans-1-Methyl-4-(trifluoromethyl)cyclohexane   \n",
       "35    10329630                      (2E)-1,1,1-Trifluoro-2-octene   \n",
       "36    10555019  1-[(2E)-2-(Hydroxyimino)ethyl]-2-(methylamino)...   \n",
       "37    10593687           N~2~-Allyl-1,3,5-triazine-2,4,6-triamine   \n",
       "40    21413968                             1,1-Diazidocyclohexane   \n",
       "43    23210302            1,5,6,7-Tetrahydro-2,4-pteridinediamine   \n",
       "44    23976553       1-(4-Methoxyphenyl)-1-(2,2-~2~H_2_)propanone   \n",
       "45    24818618              1-[2-(Carbamoylamino)ethyl]pyridinium   \n",
       "46    25039347  1-Allyl-4-[(E)-(hydroxyimino)methyl]-3-methyl-...   \n",
       "47    25072127     1',5'-Dihydro-4'H-1,4'-bipyrazole-4,4'-diamine   \n",
       "48    25072128  1',5'-Dihydro-1H,4'H-3,4'-bipyrazole-4,4'-diamine   \n",
       "49    32748351  (2E)-1-Methyl-N-(1H-tetrazol-5-yl)-2-pyrrolidi...   \n",
       "50    35141708                           1,1,1-Trifluoro-2-octene   \n",
       "51    35490792  4-(Aminomethyl)-6-methyl-1,6-dihydropyrazolo[3...   \n",
       "52    35909103  3-[5-Amino-3-(methylamino)-1H-1,2,4-triazol-1-...   \n",
       "53    35914361  5-[(2-Propyn-1-ylamino)methyl]-4H-1,2,4-triazo...   \n",
       "54    37494071  1-(3,5-Dimethyl-3H-imidazo[1,2-d]tetrazol-6-yl...   \n",
       "55    37494072  1-(5-Methyl-3H-imidazo[1,2-d]tetrazol-6-yl)eth...   \n",
       "56    37552771  5,6,7,8-Tetrahydro[1,2,4]triazolo[4,3-a]pyrazi...   \n",
       "57    37662917  2-(5,6-Dihydro-4H-imidazo[1,2-b][1,2,4]triazol...   \n",
       "58    37664172  4-Methyl-5,6-dihydro-4H-imidazo[1,2-b][1,2,4]t...   \n",
       "59    40247223  3-[Methyl(1-methyl-1H-tetrazol-5-yl)amino]prop...   \n",
       "60    40274262  N-(1H-Tetrazol-5-ylmethyl)cyclopropanecarboxim...   \n",
       "61    41386778  5-(1-Amino-3-butyn-1-yl)-4H-1,2,4-triazole-3,4...   \n",
       "62    41946734  (2E)-2-[(1-Methyl-1H-pyrazol-5-yl)methylene]hy...   \n",
       "63    41976095  N-(4H-1,2,4-Triazol-3-ylmethyl)-4,5-dihydro-1H...   \n",
       "\n",
       "    MonoisotopicMass MolecularFormula                              SMILES  \\\n",
       "2         166.096695          C6H10N6                C1CC1Nc2nc(nc(n2)N)N   \n",
       "5         166.096695          C6H10N6              CC/N=C(/c1c(nncn1)N)\\N   \n",
       "6         166.096695          C6H10N6                CN1CCCC1=Nc2n[nH]nn2   \n",
       "7         166.097488         C8H12N3O              Cc1cc[n+](cc1)CC(=O)NN   \n",
       "8         166.097488         C8H12N3O              CC[n+]1ccc(cc1)C(=O)NN   \n",
       "9         166.096695          C6H10N6               c1c(nn(c1N)C2=NCCN2)N   \n",
       "10        166.097488         C8H12N3O            Cc1cc(c[n+](c1)NC(=O)N)C   \n",
       "11        166.097488         C8H12N3O              c1cnccc1C(=O)NCC[NH3+]   \n",
       "12        166.096939          C8H13F3                    CCCCCCC(=C(F)F)F   \n",
       "13        166.096695          C6H10N6                C1CC1c2nc(nc(n2)NN)N   \n",
       "14        166.097488         C8H12N3O            COc1ccc(cc1)NC(=[NH2+])N   \n",
       "15        166.097488         C8H12N3O            c1cc(c[n+](c1)CCN)C(=O)N   \n",
       "16        166.096695          C6H10N6              C1CCC(=NNc2n[nH]nn2)C1   \n",
       "17        166.096695          C6H10N6              C1C2CN3C(CN=N3)CN2N=N1   \n",
       "18        166.096695          C6H10N6             CC1=CC(N2C(=N1)N=CN2)NN   \n",
       "19        166.096939          C8H13F3                 CCCCC/C=C(/C(F)F)\\F   \n",
       "20        166.097488         C8H12N3O              O=C(NCC[NH3+])c1cccnc1   \n",
       "21        166.097488         C8H12N3O         O(c1cccc(\\[NH+]=C(/N)N)c1)C   \n",
       "22        166.097488         C8H12N3O              O=C(NCC[NH3+])c1ncccc1   \n",
       "23        166.096283       C10H10D2O2       O=C(OCC)c1c([2H])cc(cc1[2H])C   \n",
       "24        166.096283       C10H10D2O2       [2H]C([2H])(c1ccccc1)CCC(=O)O   \n",
       "25        166.097488         C8H12N3O       O=C2N[C@@H](Cc1c[n+](cn12)C)C   \n",
       "26        166.096283       C10H10D2O2       [2H]C([2H])(OC(=O)CC)c1ccccc1   \n",
       "27        166.096939          C8H13F3                    FC(F)(F)CCCCCC=C   \n",
       "28        166.097488         C8H12N3O         N#[N+]/C=C(\\O)CCN1C(\\C=C)C1   \n",
       "29        166.096695          C6H10N6  C1CCC(C(C1)N=[N+]=[N-])N=[N+]=[N-]   \n",
       "32        166.097488         C8H12N3O         N#[N+]/C1=C(\\O)N(C\\C=C)CCC1   \n",
       "33        166.096939          C8H13F3                  CCC(=CCC(F)(F)F)CC   \n",
       "34        166.096939          C8H13F3        C[C@H]1CC[C@@H](CC1)C(F)(F)F   \n",
       "35        166.096939          C8H13F3                  CCCCC/C=C/C(F)(F)F   \n",
       "36        166.097488         C8H12N3O                CNc1cccc[n+]1C\\C=N\\O   \n",
       "37        166.096695          C6H10N6                 Nc1nc(N)nc(NCC=C)n1   \n",
       "40        166.096695          C6H10N6  C1CCC(CC1)(N=[N+]=[N-])N=[N+]=[N-]   \n",
       "43        166.096695          C6H10N6              C1CNc2c(c(nc(n2)N)N)N1   \n",
       "44        166.096283       C10H10D2O2     [2H]C([2H])(C)C(=O)c1ccc(cc1)OC   \n",
       "45        166.097488         C8H12N3O              c1cc[n+](cc1)CCNC(=O)N   \n",
       "46        166.097488         C8H12N3O             C[n+]1cn(cc1/C=N/O)CC=C   \n",
       "47        166.096695          C6H10N6             c1c(cn(n1)C2(CNN=C2)N)N   \n",
       "48        166.096695          C6H10N6          c1c(c(n[nH]1)C2(CNN=C2)N)N   \n",
       "49        166.096695          C6H10N6             CN\\1CCC/C1=N\\c2[nH]nnn2   \n",
       "50        166.096939          C8H13F3                    CCCCCC=CC(F)(F)F   \n",
       "51        166.096695          C6H10N6           Cn1c2c(c(n1)CN)c(n[nH]2)N   \n",
       "52        166.096695          C6H10N6                 CNc1nc(n(n1)CCC#N)N   \n",
       "53        166.096695          C6H10N6                   C#CCNCc1nnc(n1N)N   \n",
       "54        166.096695          C6H10N6              Cc1c(n2c(n1)n(nn2)C)CN   \n",
       "55        166.096695          C6H10N6           Cc1c(n2c(n1)[nH]nn2)C(C)N   \n",
       "56        166.096695          C6H10N6               C1Cn2c(nnc2C(=N)N)CN1   \n",
       "57        166.096695          C6H10N6             C1Cn2c(nc(n2)CC(=N)N)N1   \n",
       "58        166.096695          C6H10N6               CN1CCn2c1nc(n2)C(=N)N   \n",
       "59        166.096695          C6H10N6                 Cn1c(nnn1)N(C)CCC#N   \n",
       "60        166.096695          C6H10N6              C1CC1C(=N)NCc2[nH]nnn2   \n",
       "61        166.096695          C6H10N6                 C#CCC(c1nnc(n1N)N)N   \n",
       "62        166.096695          C6H10N6              Cn1c(ccn1)/C=N/NC(=N)N   \n",
       "63        166.096695          C6H10N6              c1[nH]c(nn1)CNC2=NCCN2   \n",
       "\n",
       "                                                InChI  \\\n",
       "2   InChI=1S/C6H10N6/c7-4-10-5(8)12-6(11-4)9-3-1-2...   \n",
       "5   InChI=1S/C6H10N6/c1-2-9-5(7)4-6(8)12-11-3-10-4...   \n",
       "6   InChI=1S/C6H10N6/c1-12-4-2-3-5(12)7-6-8-10-11-...   \n",
       "7   InChI=1S/C8H11N3O/c1-7-2-4-11(5-3-7)6-8(12)10-...   \n",
       "8   InChI=1S/C8H11N3O/c1-2-11-5-3-7(4-6-11)8(12)10...   \n",
       "9   InChI=1S/C6H10N6/c7-4-3-5(8)12(11-4)6-9-1-2-10...   \n",
       "10  InChI=1S/C8H11N3O/c1-6-3-7(2)5-11(4-6)10-8(9)1...   \n",
       "11  InChI=1S/C8H11N3O/c9-3-6-11-8(12)7-1-4-10-5-2-...   \n",
       "12  InChI=1S/C8H13F3/c1-2-3-4-5-6-7(9)8(10)11/h2-6...   \n",
       "13  InChI=1S/C6H10N6/c7-5-9-4(3-1-2-3)10-6(11-5)12...   \n",
       "14  InChI=1S/C8H11N3O/c1-12-7-4-2-6(3-5-7)11-8(9)1...   \n",
       "15  InChI=1S/C8H11N3O/c9-3-5-11-4-1-2-7(6-11)8(10)...   \n",
       "16  InChI=1S/C6H10N6/c1-2-4-5(3-1)7-8-6-9-11-12-10...   \n",
       "17  InChI=1S/C6H10N6/c1-5-3-12-6(2-8-10-12)4-11(5)...   \n",
       "18  InChI=1S/C6H10N6/c1-4-2-5(11-7)12-6(10-4)8-3-9...   \n",
       "19  InChI=1S/C8H13F3/c1-2-3-4-5-6-7(9)8(10)11/h6,8...   \n",
       "20  InChI=1S/C8H11N3O/c9-3-5-11-8(12)7-2-1-4-10-6-...   \n",
       "21  InChI=1S/C8H11N3O/c1-12-7-4-2-3-6(5-7)11-8(9)1...   \n",
       "22  InChI=1S/C8H11N3O/c9-4-6-11-8(12)7-3-1-2-5-10-...   \n",
       "23  InChI=1S/C10H12O2/c1-3-12-10(11)9-6-4-8(2)5-7-...   \n",
       "24  InChI=1S/C10H12O2/c11-10(12)8-4-7-9-5-2-1-3-6-...   \n",
       "25  InChI=1S/C8H11N3O/c1-6-3-7-4-10(2)5-11(7)8(12)...   \n",
       "26  InChI=1S/C10H12O2/c1-2-10(11)12-8-9-6-4-3-5-7-...   \n",
       "27  InChI=1S/C8H13F3/c1-2-3-4-5-6-7-8(9,10)11/h2H,...   \n",
       "28  InChI=1S/C8H11N3O/c1-2-7-6-11(7)4-3-8(12)5-10-...   \n",
       "29  InChI=1S/C6H10N6/c7-11-9-5-3-1-2-4-6(5)10-12-8...   \n",
       "32  InChI=1S/C8H11N3O/c1-2-5-11-6-3-4-7(10-9)8(11)...   \n",
       "33  InChI=1S/C8H13F3/c1-3-7(4-2)5-6-8(9,10)11/h5H,...   \n",
       "34  InChI=1S/C8H13F3/c1-6-2-4-7(5-3-6)8(9,10)11/h6...   \n",
       "35  InChI=1S/C8H13F3/c1-2-3-4-5-6-7-8(9,10)11/h6-7...   \n",
       "36  InChI=1S/C8H11N3O/c1-9-8-4-2-3-6-11(8)7-5-10-1...   \n",
       "37  InChI=1S/C6H10N6/c1-2-3-9-6-11-4(7)10-5(8)12-6...   \n",
       "40  InChI=1S/C6H10N6/c7-11-9-6(10-12-8)4-2-1-3-5-6...   \n",
       "43  InChI=1S/C6H10N6/c7-4-3-5(10-2-1-9-3)12-6(8)11...   \n",
       "44  InChI=1S/C10H12O2/c1-3-10(11)8-4-6-9(12-2)7-5-...   \n",
       "45  InChI=1S/C8H11N3O/c9-8(12)10-4-7-11-5-2-1-3-6-...   \n",
       "46  InChI=1S/C8H11N3O/c1-3-4-11-6-8(5-9-12)10(2)7-...   \n",
       "47  InChI=1S/C6H10N6/c7-5-1-11-12(2-5)6(8)3-9-10-4...   \n",
       "48  InChI=1S/C6H10N6/c7-4-1-9-12-5(4)6(8)2-10-11-3...   \n",
       "49  InChI=1S/C6H10N6/c1-12-4-2-3-5(12)7-6-8-10-11-...   \n",
       "50  InChI=1S/C8H13F3/c1-2-3-4-5-6-7-8(9,10)11/h6-7...   \n",
       "51  InChI=1S/C6H10N6/c1-12-6-4(3(2-7)11-12)5(8)9-1...   \n",
       "52  InChI=1S/C6H10N6/c1-9-6-10-5(8)12(11-6)4-2-3-7...   \n",
       "53  InChI=1S/C6H10N6/c1-2-3-9-4-5-10-11-6(7)12(5)8...   \n",
       "54  InChI=1S/C6H10N6/c1-4-5(3-7)12-6(8-4)11(2)9-10...   \n",
       "55  InChI=1S/C6H10N6/c1-3(7)5-4(2)8-6-9-10-11-12(5...   \n",
       "56  InChI=1S/C6H10N6/c7-5(8)6-11-10-4-3-9-1-2-12(4...   \n",
       "57  InChI=1S/C6H10N6/c7-4(8)3-5-10-6-9-1-2-12(6)11...   \n",
       "58  InChI=1S/C6H10N6/c1-11-2-3-12-6(11)9-5(10-12)4...   \n",
       "59  InChI=1S/C6H10N6/c1-11(5-3-4-7)6-8-9-10-12(6)2...   \n",
       "60  InChI=1S/C6H10N6/c7-6(4-1-2-4)8-3-5-9-11-12-10...   \n",
       "61  InChI=1S/C6H10N6/c1-2-3-4(7)5-10-11-6(8)12(5)9...   \n",
       "62  InChI=1S/C6H10N6/c1-12-5(2-3-10-12)4-9-11-6(7)...   \n",
       "63  InChI=1S/C6H10N6/c1-2-8-6(7-1)9-3-5-10-4-11-12...   \n",
       "\n",
       "                       InChIKey  \\\n",
       "2   LVQDKIWDGQRHTE-UHFFFAOYSA-N   \n",
       "5   YRBYHGOQFSICMA-UHFFFAOYSA-N   \n",
       "6   USJMNMBIPMIMEA-UHFFFAOYSA-N   \n",
       "7   MIJSUODEEVOTMN-UHFFFAOYSA-O   \n",
       "8   PGGNGLNEZGRCTK-UHFFFAOYSA-O   \n",
       "9   HKCLDEHMEDOYBD-UHFFFAOYSA-N   \n",
       "10  DLUNYJGOCYRGFP-UHFFFAOYSA-O   \n",
       "11  BYBVGGPVHPUBSJ-UHFFFAOYSA-O   \n",
       "12  QLMNBUGTGFMBBM-UHFFFAOYSA-N   \n",
       "13  KUUQVVNKTZWOTC-UHFFFAOYSA-N   \n",
       "14  VGFALHATLLBXIT-UHFFFAOYSA-O   \n",
       "15  RAOPRHWSJWNCEQ-UHFFFAOYSA-O   \n",
       "16  HBHWJAVFKBMFTO-UHFFFAOYSA-N   \n",
       "17  DYEYBZXRLVRUBV-UHFFFAOYSA-N   \n",
       "18  ADPQVYRAZIPOCT-UHFFFAOYSA-N   \n",
       "19  GEEONXFLRDFRQZ-SREVYHEPSA-N   \n",
       "20  RTIXFTKDETURTM-UHFFFAOYSA-O   \n",
       "21  GHJPWSGXHWIAEQ-UHFFFAOYSA-O   \n",
       "22  MDEHSSNJTVYAFD-UHFFFAOYSA-O   \n",
       "23  NWPWRAWAUYIELB-QFIQSOQBSA-N   \n",
       "24  OBKXEAXTFZPCHS-RJSZUWSASA-N   \n",
       "25  OWVAQYQYWYUQKD-ZCFIWIBFSA-O   \n",
       "26  VHOMAPWVLKRQAZ-MGVXTIMCSA-N   \n",
       "27  DHJCMDIDXIUWQC-UHFFFAOYSA-N   \n",
       "28  CMZGFYUWDAFNLQ-YVMONPNESA-O   \n",
       "29  VVOKGDAKFPYWTN-UHFFFAOYSA-N   \n",
       "32  NWSXOBPNOCAVPH-UHFFFAOYSA-O   \n",
       "33  RRIGVUIVAVTIAW-UHFFFAOYSA-N   \n",
       "34  YZKFCSOACWTUBF-LJGSYFOKSA-N   \n",
       "35  WLPUOOBRPFNZGU-VOTSOKGWSA-N   \n",
       "36  VZVVCOLTHLIZRQ-BJMVGYQFSA-O   \n",
       "37  NXUJLMSOHYVBMB-UHFFFAOYSA-N   \n",
       "40  OFGGSBHRDVLPDE-UHFFFAOYSA-N   \n",
       "43  WUAKSYDPKFNCMY-UHFFFAOYSA-N   \n",
       "44  ZJVAWPKTWVFKHG-SMZGMGDZSA-N   \n",
       "45  KHYSZCQHVDLOMH-UHFFFAOYSA-O   \n",
       "46  YJJHIVWMXSDPAQ-WEVVVXLNSA-O   \n",
       "47  DNSNZNOHHYQRQB-UHFFFAOYSA-N   \n",
       "48  VKRNUDPGGIZKTO-UHFFFAOYSA-N   \n",
       "49  USJMNMBIPMIMEA-FNORWQNLSA-N   \n",
       "50  WLPUOOBRPFNZGU-UHFFFAOYSA-N   \n",
       "51  WIKWAPOYEDPFBJ-UHFFFAOYSA-N   \n",
       "52  GDSKFPNJLFEPDU-UHFFFAOYSA-N   \n",
       "53  PSSJZEHYRTTXTN-UHFFFAOYSA-N   \n",
       "54  ULTYNUCVWYUVFW-UHFFFAOYSA-N   \n",
       "55  SUEZFUFFIYZDEJ-UHFFFAOYSA-N   \n",
       "56  XXFSLZGHAPZHIQ-UHFFFAOYSA-N   \n",
       "57  JUPDNPMCMFHTRI-UHFFFAOYSA-N   \n",
       "58  ODLGAIZOTSRFHI-UHFFFAOYSA-N   \n",
       "59  LZENEWPYNWXTPB-UHFFFAOYSA-N   \n",
       "60  IREYIQUOKZKYNR-UHFFFAOYSA-N   \n",
       "61  FGXDFKOQUVJSGQ-UHFFFAOYSA-N   \n",
       "62  WXKOZGPFRGWHJP-RUDMXATFSA-N   \n",
       "63  QVPIJENYPMKZFV-UHFFFAOYSA-N   \n",
       "\n",
       "                                                Score  \\\n",
       "2   {'cosine': {'score': 0.8228622734286044, 'bias...   \n",
       "5   {'cosine': {'score': 0.7938395974151856, 'bias...   \n",
       "6   {'cosine': {'score': 0.822117004246391, 'bias'...   \n",
       "7   {'cosine': {'score': 0.3984703384436143, 'bias...   \n",
       "8   {'cosine': {'score': 0.5658891793945439, 'bias...   \n",
       "9   {'cosine': {'score': 0.8113170090583444, 'bias...   \n",
       "10  {'cosine': {'score': 0.5639459821885138, 'bias...   \n",
       "11  {'cosine': {'score': 0.44155208093320863, 'bia...   \n",
       "12  {'cosine': {'score': 0.7922283056280456, 'bias...   \n",
       "13  {'cosine': {'score': 0.8126789768756902, 'bias...   \n",
       "14  {'cosine': {'score': 0.7896284521676424, 'bias...   \n",
       "15  {'cosine': {'score': 0.5937094318533148, 'bias...   \n",
       "16  {'cosine': {'score': 0.8508557977862228, 'bias...   \n",
       "17  {'cosine': {'score': 0.8221170042463909, 'bias...   \n",
       "18  {'cosine': {'score': 0.743781717870965, 'bias'...   \n",
       "19  {'cosine': {'score': 0.7601784166808419, 'bias...   \n",
       "20  {'cosine': {'score': 0.4596578298327772, 'bias...   \n",
       "21  {'cosine': {'score': 0.7808099049021547, 'bias...   \n",
       "22  {'cosine': {'score': 0.5104060052313323, 'bias...   \n",
       "23  {'cosine': {'score': 0.3996729573379421, 'bias...   \n",
       "24  {'cosine': {'score': 0.26346694974904605, 'bia...   \n",
       "25  {'cosine': {'score': 0.8162650407207739, 'bias...   \n",
       "26  {'cosine': {'score': 0.2326266231251417, 'bias...   \n",
       "27  {'cosine': {'score': 0.8841557017315987, 'bias...   \n",
       "28  {'cosine': {'score': 0.6601042002675157, 'bias...   \n",
       "29  {'cosine': {'score': 0.7854695686213545, 'bias...   \n",
       "32  {'cosine': {'score': 0.7635550710253769, 'bias...   \n",
       "33  {'cosine': {'score': 0.8322457159827309, 'bias...   \n",
       "34  {'cosine': {'score': 0.822117004246391, 'bias'...   \n",
       "35  {'cosine': {'score': 0.5513367783872085, 'bias...   \n",
       "36  {'cosine': {'score': 0.5496995984200315, 'bias...   \n",
       "37                                                 {}   \n",
       "40                                                 {}   \n",
       "43                                                 {}   \n",
       "44                                                 {}   \n",
       "45                                                 {}   \n",
       "46                                                 {}   \n",
       "47                                                 {}   \n",
       "48                                                 {}   \n",
       "49                                                 {}   \n",
       "50                                                 {}   \n",
       "51                                                 {}   \n",
       "52                                                 {}   \n",
       "53                                                 {}   \n",
       "54                                                 {}   \n",
       "55                                                 {}   \n",
       "56                                                 {}   \n",
       "57                                                 {}   \n",
       "58                                                 {}   \n",
       "59                                                 {}   \n",
       "60                                                 {}   \n",
       "61                                                 {}   \n",
       "62                                                 {}   \n",
       "63                                                 {}   \n",
       "\n",
       "                                             Spectrum  ExactMolMass  \\\n",
       "2   {'mz': [167.10397031999997, 127.07267019199999...    166.096694   \n",
       "5   {'mz': [167.10397031999997, 139.07267019199998...    166.096694   \n",
       "6   {'mz': [167.10397031999997], 'intensity': [0.9...    166.096694   \n",
       "7   {'mz': [167.10476442408998, 107.07349974008999...    166.097488   \n",
       "8   {'mz': [167.10476442408998, 138.06563926408998...    166.097488   \n",
       "9   {'mz': [167.10397031999997, 150.078519288, 150...    166.096694   \n",
       "10  {'mz': [167.10476442408998, 124.09895077208999...    166.097488   \n",
       "11  {'mz': [167.10476442408998, 80.04947516, 78.03...    166.097488   \n",
       "12  {'mz': [167.10421107599998, 139.072910948, 97....    166.096935   \n",
       "13  {'mz': [167.10397031999997, 150.078519288], 'i...    166.096694   \n",
       "14  {'mz': [167.10476442408998, 124.075689908, 123...    166.097488   \n",
       "15  {'mz': [167.10476442408998, 124.09895077208999...    166.097488   \n",
       "16  {'mz': [167.10397031999997, 83.073499288, 82.0...    166.096694   \n",
       "17  {'mz': [167.10397031999997], 'intensity': [0.9...    166.096694   \n",
       "18  {'mz': [167.10397031999997, 136.074896256, 135...    166.096694   \n",
       "19  {'mz': [167.10421107599998, 97.025960756, 116....    166.096935   \n",
       "20  {'mz': [167.10476442408998, 106.02983778, 80.0...    166.097488   \n",
       "21  {'mz': [167.10476442408998, 152.08183836009, 1...    166.097488   \n",
       "22  {'mz': [167.10476442408998, 149.09639586808999...    166.097488   \n",
       "23  {'mz': [167.10355911599999, 121.06279236799999...    166.096283   \n",
       "24  {'mz': [167.10355911599999, 3.021377778, 164.0...    166.096283   \n",
       "25  {'mz': [167.10476442408998, 150.06673732809], ...    166.097488   \n",
       "26  {'mz': [167.10355911599999, 164.08273037, 3.02...    166.096283   \n",
       "27  {'mz': [167.10421107599998, 85.025960756, 83.0...    166.096935   \n",
       "28  {'mz': [167.10476442408998, 150.10257380408999...    166.097488   \n",
       "29  {'mz': [167.10397031999997, 125.09529735199999...    166.096694   \n",
       "32  {'mz': [167.10476442408998, 149.09529780409002...    166.097488   \n",
       "33  {'mz': [167.10421107599998, 97.02705882, 83.08...    166.096935   \n",
       "34  {'mz': [167.10421107599998], 'intensity': [0.9...    166.096935   \n",
       "35  {'mz': [167.10421107599998, 97.025960756], 'in...    166.096935   \n",
       "36  {'mz': [167.10476442408998, 152.08183836009, 1...    166.097488   \n",
       "37                                                 {}           NaN   \n",
       "40                                                 {}           NaN   \n",
       "43                                                 {}           NaN   \n",
       "44                                                 {}           NaN   \n",
       "45                                                 {}           NaN   \n",
       "46                                                 {}           NaN   \n",
       "47                                                 {}           NaN   \n",
       "48                                                 {}           NaN   \n",
       "49                                                 {}           NaN   \n",
       "50                                                 {}           NaN   \n",
       "51                                                 {}           NaN   \n",
       "52                                                 {}           NaN   \n",
       "53                                                 {}           NaN   \n",
       "54                                                 {}           NaN   \n",
       "55                                                 {}           NaN   \n",
       "56                                                 {}           NaN   \n",
       "57                                                 {}           NaN   \n",
       "58                                                 {}           NaN   \n",
       "59                                                 {}           NaN   \n",
       "60                                                 {}           NaN   \n",
       "61                                                 {}           NaN   \n",
       "62                                                 {}           NaN   \n",
       "63                                                 {}           NaN   \n",
       "\n",
       "    CollisionEnergy  PrecursorProbability  Coverage      Challenge  \n",
       "2         11.696769              0.967145  0.698837  Challenge-082  \n",
       "5         11.696769              0.905598  0.746332  Challenge-082  \n",
       "6         11.696769              0.822691  0.821543  Challenge-082  \n",
       "7         11.696824              0.996016  0.678580  Challenge-082  \n",
       "8         11.696824              0.996016  0.678580  Challenge-082  \n",
       "9         11.696769              0.996016  0.678580  Challenge-082  \n",
       "10        11.696824              0.996016  0.678580  Challenge-082  \n",
       "11        11.696824              0.876335  0.771254  Challenge-082  \n",
       "12        11.696786              0.960207  0.703886  Challenge-082  \n",
       "13        11.696769              0.992122  0.681243  Challenge-082  \n",
       "14        11.696824              0.886419  0.762479  Challenge-082  \n",
       "15        11.696824              0.996016  0.678580  Challenge-082  \n",
       "16        11.696769              0.823896  0.820342  Challenge-082  \n",
       "17        11.696769              1.000000  0.675876  Challenge-082  \n",
       "18        11.696769              0.996016  0.678580  Challenge-082  \n",
       "19        11.696786              0.960207  0.703886  Challenge-082  \n",
       "20        11.696824              0.876335  0.771254  Challenge-082  \n",
       "21        11.696824              0.886420  0.762479  Challenge-082  \n",
       "22        11.696824              0.876335  0.771254  Challenge-082  \n",
       "23        11.696740              0.982125  0.688178  Challenge-082  \n",
       "24        11.696740              1.000000  0.675876  Challenge-082  \n",
       "25        11.696824              0.996016  0.678580  Challenge-082  \n",
       "26        11.696740              0.952706  0.709428  Challenge-082  \n",
       "27        11.696786              0.964570  0.700702  Challenge-082  \n",
       "28        11.696824              0.763826  0.884857  Challenge-082  \n",
       "29        11.696769              0.914567  0.739012  Challenge-082  \n",
       "32        11.696824              0.973062  0.694587  Challenge-082  \n",
       "33        11.696786              0.982125  0.688178  Challenge-082  \n",
       "34        11.696786              0.996016  0.678580  Challenge-082  \n",
       "35        11.696786              0.960207  0.703886  Challenge-082  \n",
       "36        11.696824              0.886420  0.762479  Challenge-082  \n",
       "37              NaN                   NaN       NaN  Challenge-082  \n",
       "40              NaN                   NaN       NaN  Challenge-082  \n",
       "43              NaN                   NaN       NaN  Challenge-082  \n",
       "44              NaN                   NaN       NaN  Challenge-082  \n",
       "45              NaN                   NaN       NaN  Challenge-082  \n",
       "46              NaN                   NaN       NaN  Challenge-082  \n",
       "47              NaN                   NaN       NaN  Challenge-082  \n",
       "48              NaN                   NaN       NaN  Challenge-082  \n",
       "49              NaN                   NaN       NaN  Challenge-082  \n",
       "50              NaN                   NaN       NaN  Challenge-082  \n",
       "51              NaN                   NaN       NaN  Challenge-082  \n",
       "52              NaN                   NaN       NaN  Challenge-082  \n",
       "53              NaN                   NaN       NaN  Challenge-082  \n",
       "54              NaN                   NaN       NaN  Challenge-082  \n",
       "55              NaN                   NaN       NaN  Challenge-082  \n",
       "56              NaN                   NaN       NaN  Challenge-082  \n",
       "57              NaN                   NaN       NaN  Challenge-082  \n",
       "58              NaN                   NaN       NaN  Challenge-082  \n",
       "59              NaN                   NaN       NaN  Challenge-082  \n",
       "60              NaN                   NaN       NaN  Challenge-082  \n",
       "61              NaN                   NaN       NaN  Challenge-082  \n",
       "62              NaN                   NaN       NaN  Challenge-082  \n",
       "63              NaN                   NaN       NaN  Challenge-082  "
      ]
     },
     "execution_count": 35,
     "metadata": {},
     "output_type": "execute_result"
    }
   ],
   "source": [
    "positive_candidate_dfs[0]"
   ]
  },
  {
   "cell_type": "markdown",
   "metadata": {},
   "source": [
    "Combine the Challenge DataFrames by Concatenate and Group By Challenge"
   ]
  },
  {
   "cell_type": "code",
   "execution_count": null,
   "metadata": {},
   "outputs": [],
   "source": [
    "combined_positive_challenges_df = pd.concat(positive_candidate_dfs, axis=0)\n",
    "# combined_challenges_df\n",
    "\n",
    "positive_grouped_df = combined_positive_challenges_df.groupby(\"Challenge\")"
   ]
  },
  {
   "cell_type": "markdown",
   "metadata": {},
   "source": [
    "Visualize Challenge82 (Cosine Score Density of Solution vs. Other Candidates)"
   ]
  },
  {
   "cell_type": "code",
   "execution_count": 25,
   "metadata": {},
   "outputs": [
    {
     "data": {
      "image/png": "[encoded data removed]",
      "text/plain": [
       "<Figure size 640x480 with 1 Axes>"
      ]
     },
     "metadata": {},
     "output_type": "display_data"
    }
   ],
   "source": [
    "def visualize_challenge_score_dict(df):\n",
    "    scores = []\n",
    "    compound_names = []\n",
    "    for i, row in df.iterrows():\n",
    "        try:\n",
    "            cosine_score = row[\"spectral_sqrt_cosine\"]\n",
    "            # print(cosine_score)\n",
    "            compound_name = row[\"CompoundName\"]\n",
    "            # print(compound_name)\n",
    "            scores.append(cosine_score)\n",
    "            compound_names.append(compound_name)\n",
    "        except:\n",
    "            continue\n",
    "        \n",
    "    # automate\n",
    "    colors = ['lightblue' if name != 'Cyromazine' else 'green' for name in compound_names]\n",
    "\n",
    "    plt.barh(compound_names, scores, color = colors, edgecolor=\"k\")\n",
    "    plt.xlabel(\"Scores\")\n",
    "    plt.ylabel(\"Compound Names\")\n",
    "    plt.title(\"Scores by Compound Names\")\n",
    "    plt.xticks(rotation=0)\n",
    "\n",
    "    for i, score in enumerate(scores):\n",
    "        plt.text(score, i, f\"{score:.3f}\", ha=\"right\", va=\"center\")\n",
    "\n",
    "    plt.show()\n",
    "\n",
    "visualize_challenge_score_dict(pos_cand_score_df[0])"
   ]
  },
  {
   "cell_type": "code",
   "execution_count": null,
   "metadata": {},
   "outputs": [],
   "source": [
    "positive_candidate_dfs[0].at[2, \"Spectrum\"]      # Idea: while drawing molecules show the fragmentation points"
   ]
  },
  {
   "cell_type": "markdown",
   "metadata": {},
   "source": [
    "Vergleich pos/neg Spectra, Cosine Score der Lösungen miteinander Vergleich (z.B. Boxplot)"
   ]
  },
  {
   "cell_type": "code",
   "execution_count": null,
   "metadata": {},
   "outputs": [],
   "source": [
    "# Load Negative Challenges (mgf)\n",
    "all_negative_challenges = mgfReader.read(\"/home/lbarbut/.vscode-server/data/CASMI_2016/CASMI2016_Cat2and3_Challenge_negative_mgf/all_negative.mgf\", '\\t')\n",
    "# all_negative_challenges[2]\n",
    "\n",
    "# Load Candidates (csv)\n",
    "negative_candidate_dfs = []\n",
    "for i in range (1, 82):\n",
    "    if i < 10:\n",
    "        candidate_df = pd.read_csv(f\"/home/lbarbut/.vscode-server/data/CASMI2016_Cat2and3_Challenge_Candidates (1)/Challenge-00{i}.csv\")\n",
    "    else:\n",
    "        candidate_df = pd.read_csv(f\"/home/lbarbut/.vscode-server/data/CASMI2016_Cat2and3_Challenge_Candidates (1)/Challenge-0{i}.csv\")\n",
    "    negative_candidate_dfs.append(candidate_df)\n",
    "# positive_candidate_dfs"
   ]
  },
  {
   "cell_type": "code",
   "execution_count": null,
   "metadata": {
    "tags": [
     "negative main loop"
    ]
   },
   "outputs": [],
   "source": [
    "\n",
    "for j in range (0, len(negative_candidate_dfs)):\n",
    "    negative_candidate_dfs[j][\"Score\"] = [{} for i in range(len(negative_candidate_dfs[j]))]\n",
    "    negative_candidate_dfs[j][\"Spectrum\"] = [{} for i in range(len(negative_candidate_dfs[j]))]\n",
    "    print(\"Loop Count: \" + str(j))\n",
    "    scores_dict = []\n",
    "    for i, row in negative_candidate_dfs[j].iterrows():\n",
    "        if len(scores_dict) > 30:\n",
    "            break\n",
    "        # print(row)\n",
    "        smiles = row[\"SMILES\"]  # SMILES Strings with a '.' in them are problematic\n",
    "        model_path = \"/home/lbarbut/pretrained_models/v0.0.1_merged_depth2.pt\"\n",
    "        meta = {\n",
    "            \"collision_energy\":  NCE_to_eV(35, (row[\"MonoisotopicMass\"] - 1)),\n",
    "            \"instrument\": \"HCD\", \"name\": row[\"CompoundName\"], \"precursor_mode\": \"[M-H]-\"\n",
    "        }\n",
    "        try:\n",
    "            simulated_spectrum, metabolite = simulate_fiora(smiles, model_path, meta)\n",
    "            negative_candidate_dfs[j].at[i, \"Spectrum\"] = simulated_spectrum\n",
    "            negative_candidate_dfs[j].at[i, \"ExactMolMass\"] = metabolite.ExactMolWeight\n",
    "            negative_candidate_dfs[j].at[i, \"CollisionEnergy\"] = meta[\"collision_energy\"]\n",
    "            metabolite.match_fragments_to_peaks(all_negative_challenges[j]['peaks']['mz'], all_negative_challenges[j]['peaks']['intensity'])\n",
    "            # print('match fragments to peaks successful')\n",
    "            negative_candidate_dfs[j].at[i, \"PrecursorProbability\"] = metabolite.match_stats[\"precursor_prob\"]\n",
    "            negative_candidate_dfs[j].at[i, \"Coverage\"] = metabolite.match_stats[\"coverage\"]\n",
    "            \n",
    "            score_cosine, cosine_bias = spectral_cosine(simulated_spectrum, all_negative_challenges[j]['peaks'], transform=np.sqrt, with_bias=True)\n",
    "            score_reflection = spectral_reflection_cosine(simulated_spectrum, all_negative_challenges[j]['peaks'], transform=np.sqrt)\n",
    "            score_reweighted, reweighted_bias = reweighted_dot(simulated_spectrum,  all_negative_challenges[j]['peaks'], int_pow=0.5, mz_pow=0.5, with_bias=True)\n",
    "            scores_dict.append({\n",
    "                \"cosine\": {\"score\": score_cosine, \"bias\": cosine_bias},\n",
    "                \"reflection\": {\"score\": score_reflection, \"bias\": None},\n",
    "                \"reweighted\": {\"score\": score_reweighted, \"bias\": reweighted_bias}\n",
    "            })\n",
    "            # print(scores_dict[-1])\n",
    "            \n",
    "            negative_candidate_dfs[j].at[i, \"Score\"] = scores_dict[-1]\n",
    "            if j < 9:\n",
    "                negative_candidate_dfs[j][\"Challenge\"] = f\"Challenge-00{j + 1}\"\n",
    "            elif j < 99:\n",
    "                negative_candidate_dfs[j][\"Challenge\"] = f\"Challenge-0{j + 1}\"\n",
    "            else:\n",
    "                negative_candidate_dfs[j][\"Challenge\"] = f\"Challenge-{j + 1}\"\n",
    "            \n",
    "        except:\n",
    "            continue"
   ]
  },
  {
   "cell_type": "code",
   "execution_count": null,
   "metadata": {},
   "outputs": [],
   "source": [
    "combined_negative_challenges_df = pd.concat(negative_candidate_dfs, axis=0)\n",
    "# combined_challenges_df\n",
    "\n",
    "negative_grouped_df = combined_negative_challenges_df.groupby(\"Challenge\")"
   ]
  },
  {
   "cell_type": "code",
   "execution_count": null,
   "metadata": {},
   "outputs": [],
   "source": [
    "import seaborn as sns\n",
    "\n",
    "combined_positive_challenges_df[\"SpectrumType\"] = \"Positive\"\n",
    "combined_negative_challenges_df[\"SpectrumType\"] = \"Negative\"\n",
    "pos_neg_combine_df = pd.concat([combined_positive_challenges_df, combined_negative_challenges_df], ignore_index=True)\n",
    "pos_neg_combine_df[\"CosineScore\"] = pos_neg_combine_df[\"Score\"].apply(lambda x: np.nan if x == {} else x[\"cosine\"][\"score\"])\n",
    "pos_neg_combine_df[\"ReflCosineScore\"] = pos_neg_combine_df[\"Score\"].apply(lambda x: np.nan if x == {} else x[\"reflection\"][\"score\"])\n",
    "pos_neg_combine_df[\"ReweightedScore\"] = pos_neg_combine_df[\"Score\"].apply(lambda x: np.nan if x == {} else x[\"reweighted\"][\"score\"])\n",
    "\n",
    "# Visualize with Boxplot\n",
    "plt.figure(figsize=(10, 6))\n",
    "sns.boxplot(x=\"SpectrumType\", y=\"CosineScore\", data=pos_neg_combine_df)\n",
    "plt.xlabel(\"Spectrum Type\")\n",
    "plt.ylabel(\"Cosine Score\")\n",
    "plt.title(\"Comparison of Cosine Scores between Positive and Negative Spectra\")\n",
    "plt.show()\n",
    "\n",
    "# for other Scores\n",
    "plt.figure(figsize=(10, 6))\n",
    "sns.boxplot(x=\"SpectrumType\", y=\"ReflCosineScore\", data=pos_neg_combine_df)\n",
    "plt.xlabel(\"Spectrum Type\")\n",
    "plt.ylabel(\"Reflection Cosine Score\")\n",
    "plt.title(\"Comparison of Reflection Cosine Scores between Positive and Negative Spectra\")\n",
    "plt.show()\n",
    "\n",
    "plt.figure(figsize=(10, 6))\n",
    "sns.boxplot(x=\"SpectrumType\", y=\"ReweightedScore\", data=pos_neg_combine_df)\n",
    "plt.xlabel(\"Spectrum Type\")\n",
    "plt.ylabel(\"Reweighted Score\")\n",
    "plt.title(\"Comparison of Reweigthed Scores between Positive and Negative Spectra\")\n",
    "plt.show()"
   ]
  },
  {
   "cell_type": "markdown",
   "metadata": {},
   "source": [
    "Scatterplots um Zusammenhänge Zwischen Versch. Scores/Variable zu Beschreiben, cosine vs bias, cosine vs collision energy, cosine vs ExactMolMass, Cosine vs Precursor_Probability, Cosine vs Coverage"
   ]
  },
  {
   "cell_type": "code",
   "execution_count": null,
   "metadata": {},
   "outputs": [],
   "source": [
    "pos_neg_combine_df[\"CosineBias\"] = pos_neg_combine_df[\"Score\"].apply(lambda x: np.nan if x == {} else x[\"cosine\"][\"bias\"])\n",
    "\n",
    "# Scatterplot for Cosine Score vs Cosine Bias\n",
    "plt.figure(figsize=(12, 6))\n",
    "sns.scatterplot(x=\"CosineScore\", y=\"CosineBias\", hue=\"SpectrumType\", data=pos_neg_combine_df)\n",
    "plt.xlabel(\"Cosine Score\")\n",
    "plt.ylabel(\"Cosine Bias\")\n",
    "plt.title(\"Scatterplot: Cosine Score vs Cosine Bias\")\n",
    "plt.show()\n",
    "\n",
    "# Scatterplot for Cosine Score vs Collision Energy\n",
    "plt.figure(figsize=(12, 6))\n",
    "sns.scatterplot(x=\"CosineScore\", y=\"CollisionEnergy\", hue=\"SpectrumType\", data=pos_neg_combine_df)\n",
    "plt.xlabel(\"Cosine Score\")\n",
    "plt.ylabel(\"Collision Energy\")\n",
    "plt.title(\"Scatterplot: Cosine Score vs Collision Energy\")\n",
    "plt.show()\n",
    "\n",
    "# Scatterplot für Cosine Score vs Exact Mol Mass\n",
    "plt.figure(figsize=(12, 6))\n",
    "sns.scatterplot(x=\"CosineScore\", y=\"ExactMolMass\", hue=\"SpectrumType\", data=pos_neg_combine_df)\n",
    "plt.xlabel(\"Cosine Score\")\n",
    "plt.ylabel(\"Exact Mol Mass\")\n",
    "plt.title(\"Scatterplot: Cosine Score vs Exact Mol Mass\")\n",
    "plt.show()\n",
    "\n",
    "# Scatterplot für Cosine Score vs Precursor Probability\n",
    "plt.figure(figsize=(12, 6))\n",
    "sns.scatterplot(x=\"CosineScore\", y=\"PrecursorProbability\", hue=\"SpectrumType\", data=pos_neg_combine_df)\n",
    "plt.xlabel(\"Cosine Score\")\n",
    "plt.ylabel(\"Precursor Probability\")\n",
    "plt.title(\"Scatterplot: Cosine Score vs Precursor Probability\")\n",
    "plt.show()\n",
    "\n",
    "positive_data = pos_neg_combine_df[pos_neg_combine_df[\"SpectrumType\"] == \"Positive\"]\n",
    "\n",
    "# Scatterplot für Cosine Score vs Coverage\n",
    "plt.figure(figsize=(12, 6))\n",
    "scatter_plot = sns.scatterplot(x=\"CosineScore\", y=\"Coverage\", hue=\"SpectrumType\", data=pos_neg_combine_df)\n",
    "\n",
    "# add a trendline using sns.regplot()\n",
    "sns.regplot(x=\"CosineScore\", y=\"Coverage\", data=positive_data, scatter=False, ax=scatter_plot)\n",
    "\n",
    "plt.xlabel(\"Cosine Score\")\n",
    "plt.ylabel(\"Coverage\")\n",
    "plt.title(\"Scatterplot: Cosine Score vs Coverage\")\n",
    "plt.show()\n",
    "\n"
   ]
  },
  {
   "cell_type": "markdown",
   "metadata": {},
   "source": [
    "Vergleich der Cosine Score der Lösungen, Pos vs Neg"
   ]
  },
  {
   "cell_type": "code",
   "execution_count": null,
   "metadata": {},
   "outputs": [],
   "source": [
    "solutions_df = pd.read_csv(\"/home/lbarbut/.vscode-server/data/CASMI_2016/solutions_casmi2016_cat2and3.csv\")\n",
    "\n",
    "# find solution of the relevant challenge through molecule name\n",
    "pos_neg_combine_df[\"source\"] = \"Candidate\"\n",
    "for i, row in solutions_df.iterrows():\n",
    "    challenge_name = row[\"ChallengeName\"]\n",
    "    inchikey = row[\"INCHIKEY\"]\n",
    "    condition = (pos_neg_combine_df[\"Challenge\"] == challenge_name) & (pos_neg_combine_df[\"InChIKey\"] == inchikey)\n",
    "    pos_neg_combine_df.loc[condition, \"source\"] = \"Solution\""
   ]
  },
  {
   "cell_type": "code",
   "execution_count": null,
   "metadata": {},
   "outputs": [],
   "source": [
    "# print solution rows\n",
    "for i, row in pos_neg_combine_df.iterrows():\n",
    "    if row[\"source\"] == \"Solution\":\n",
    "        print(\"challenge: \" + row[\"Challenge\"] + \" compound name: \" + row[\"CompoundName\"])"
   ]
  },
  {
   "cell_type": "code",
   "execution_count": null,
   "metadata": {},
   "outputs": [],
   "source": [
    "# Filter rows where the source is 'Solution'\n",
    "solution_df = pos_neg_combine_df[(pos_neg_combine_df['source'] == 'Solution') & (~pos_neg_combine_df['CosineScore'].isna())]\n",
    "\n",
    "# Histogram\n",
    "plt.figure(figsize=(10, 6))\n",
    "sns.histplot(data=solution_df, x='CosineScore', bins=16, kde=True, kde_kws={'bw_adjust': 0.6}, hue='SpectrumType', multiple='stack', palette='Set2')\n",
    "plt.xlabel('Cosine Score')\n",
    "plt.ylabel('Frequency')\n",
    "plt.title('Histogram of Cosine Scores for Solution Molecules')\n",
    "# plt.legend(title='Spectrum Type', loc=\"upper left\", markerscale=2)\n",
    "plt.show()\n",
    "\n",
    "# for other Scores\n",
    "plt.figure(figsize=(10, 6))\n",
    "sns.histplot(data=solution_df, x='ReflCosineScore', bins=16, kde=True, kde_kws={'bw_adjust': 0.6}, hue='SpectrumType', multiple='stack', palette='Set2')\n",
    "plt.xlabel('Reflection Cosine Score')\n",
    "plt.ylabel('Frequency')\n",
    "plt.title('Histogram of Reflection Cosine Scores for Solution Molecules')\n",
    "# plt.legend(title='Spectrum Type', loc=\"upper left\", markerscale=2)\n",
    "plt.show()\n",
    "\n",
    "plt.figure(figsize=(10, 6))\n",
    "sns.histplot(data=solution_df, x='ReweightedScore', bins=16, kde=True, kde_kws={'bw_adjust': 0.6}, hue='SpectrumType', multiple='stack', palette='Set2')\n",
    "plt.xlabel('Reweighted Score')\n",
    "plt.ylabel('Frequency')\n",
    "plt.title('Histogram of Reweighted Scores for Solution Molecules')\n",
    "# plt.legend(title='Spectrum Type', loc=\"upper left\", markerscale=2)\n",
    "plt.show()\n"
   ]
  },
  {
   "cell_type": "code",
   "execution_count": null,
   "metadata": {},
   "outputs": [],
   "source": [
    "# Boxplot\n",
    "plt.figure(figsize=(12, 6))\n",
    "\n",
    "# Boxplot for positive spectra\n",
    "plt.subplot(1, 2, 1)\n",
    "sns.boxplot(x=\"SpectrumType\", y=\"CosineScore\", data=solution_df[solution_df[\"SpectrumType\"] == \"Positive\"], color = \"#0496C7\")\n",
    "plt.title(\"Distribution of Cosine Scores for Solution Molecules\")\n",
    "plt.xlabel(\"Spectrum Type\")\n",
    "plt.ylabel(\"Cosine Score\")\n",
    "\n",
    "# Boxplot for negative spectra\n",
    "plt.subplot(1, 2, 2)\n",
    "sns.boxplot(x=\"SpectrumType\", y=\"CosineScore\", data=solution_df[solution_df[\"SpectrumType\"] == \"Negative\"], color = \"#FF6865\")\n",
    "plt.title(\"Distribution of Cosine Scores for Solution Molecules\")\n",
    "plt.xlabel(\"Spectrum Type\")\n",
    "plt.ylabel(\"Cosine Score\")\n",
    "\n",
    "plt.tight_layout()  # Adjust layout for better spacing\n",
    "plt.show()\n",
    "\n",
    "# for other Scores\n",
    "plt.figure(figsize=(12, 6))\n",
    "plt.subplot(1, 2, 1)\n",
    "sns.boxplot(x=\"SpectrumType\", y=\"ReflCosineScore\", data=solution_df[solution_df[\"SpectrumType\"] == \"Positive\"], color = \"#0496C7\")\n",
    "plt.title(\"Distribution of Reflection Cosine Scores for Solution Molecules\")\n",
    "plt.xlabel(\"Spectrum Type\")\n",
    "plt.ylabel(\"Reflection Cosine Score\")\n",
    "\n",
    "plt.subplot(1, 2, 2)\n",
    "sns.boxplot(x=\"SpectrumType\", y=\"ReflCosineScore\", data=solution_df[solution_df[\"SpectrumType\"] == \"Negative\"], color = \"#FF6865\")\n",
    "plt.title(\"Distribution of Reflection Cosine Scores for Solution Molecules\")\n",
    "plt.xlabel(\"Spectrum Type\")\n",
    "plt.ylabel(\"Reflection Cosine Score\")\n",
    "\n",
    "plt.tight_layout()  # Adjust layout for better spacing\n",
    "plt.show()\n",
    "\n",
    "plt.figure(figsize=(12, 6))\n",
    "plt.subplot(1, 2, 1)\n",
    "sns.boxplot(x=\"SpectrumType\", y=\"ReweightedScore\", data=solution_df[solution_df[\"SpectrumType\"] == \"Positive\"], color = \"#0496C7\")\n",
    "plt.title(\"Distribution of Reweighted Scores for Solution Molecules\")\n",
    "plt.xlabel(\"Spectrum Type\")\n",
    "plt.ylabel(\"Reweighted Score\")\n",
    "\n",
    "plt.subplot(1, 2, 2)\n",
    "sns.boxplot(x=\"SpectrumType\", y=\"ReweightedScore\", data=solution_df[solution_df[\"SpectrumType\"] == \"Negative\"], color = \"#FF6865\")\n",
    "plt.title(\"Distribution of Reweighted Scores for Solution Molecules\")\n",
    "plt.xlabel(\"Spectrum Type\")\n",
    "plt.ylabel(\"Reweighted Score\")\n",
    "\n",
    "plt.tight_layout()  # Adjust layout for better spacing\n",
    "plt.show()"
   ]
  },
  {
   "cell_type": "markdown",
   "metadata": {},
   "source": [
    "Solutions vs Candidates Cosine Score Histogram, Boxplot"
   ]
  },
  {
   "cell_type": "code",
   "execution_count": null,
   "metadata": {},
   "outputs": [],
   "source": [
    "# Boxplot\n",
    "plt.figure(figsize=(12,6))\n",
    "\n",
    "plt.subplot(1, 2, 1)\n",
    "sns.boxplot(x=\"source\", y = \"CosineScore\", data=pos_neg_combine_df[pos_neg_combine_df[\"source\"] == \"Candidate\"], color=\"#FF7518\")\n",
    "plt.title(\"Distribution of Cosine Scores for Candidate Molecules\")\n",
    "plt.xlabel(\"Source\")\n",
    "plt.ylabel(\"Cosine Score\")\n",
    "\n",
    "plt.subplot(1, 2, 2)\n",
    "sns.boxplot(x=\"source\", y = \"CosineScore\", data=pos_neg_combine_df[pos_neg_combine_df[\"source\"] == \"Solution\"], color=\"#AEF359\")\n",
    "plt.title(\"Distribution of Cosine Scores for Solution Molecules\")\n",
    "plt.xlabel(\"Source\")\n",
    "plt.ylabel(\"Cosine Score\")\n",
    "\n",
    "plt.tight_layout()\n",
    "plt.show()\n",
    "\n",
    "# Histogram\n",
    "plt.figure(figsize=(10,6))\n",
    "sns.histplot(data=pos_neg_combine_df, x='CosineScore', bins=20, kde=True, kde_kws={'bw_adjust': 0.6}, stat=\"density\", common_norm=False, hue='source', multiple='dodge', palette='Set2')\n",
    "plt.xlabel('Cosine Score')\n",
    "plt.ylabel('Frequency')\n",
    "plt.title('Distribution of Cosine Scores of Solution and Candidate Molecules')\n",
    "plt.show()"
   ]
  }
 ],
 "metadata": {
  "kernelspec": {
   "display_name": "fiora",
   "language": "python",
   "name": "python3"
  },
  "language_info": {
   "codemirror_mode": {
    "name": "ipython",
    "version": 3
   },
   "file_extension": ".py",
   "mimetype": "text/x-python",
   "name": "python",
   "nbconvert_exporter": "python",
   "pygments_lexer": "ipython3",
   "version": "3.10.8"
  }
 },
 "nbformat": 4,
 "nbformat_minor": 2
}
