{
 "cells": [
  {
   "cell_type": "code",
   "execution_count": 1,
   "metadata": {},
   "outputs": [
    {
     "name": "stderr",
     "output_type": "stream",
     "text": [
      "[11:07:40] WARNING: not removing hydrogen atom without neighbors\n",
      "[11:07:40] WARNING: not removing hydrogen atom without neighbors\n",
      "[11:07:40] WARNING: not removing hydrogen atom without neighbors\n"
     ]
    },
    {
     "name": "stdout",
     "output_type": "stream",
     "text": [
      "Working with Python 3.10.8 | packaged by conda-forge | (main, Nov 22 2022, 08:26:04) [GCC 10.4.0]\n"
     ]
    }
   ],
   "source": [
    "import sys\n",
    "import torch\n",
    "\n",
    "\n",
    "seed = 42\n",
    "#torch.set_default_dtype(torch.float64)\n",
    "torch.manual_seed(seed)\n",
    "torch.set_printoptions(precision=2, sci_mode=False)\n",
    "\n",
    "\n",
    "import pandas as pd\n",
    "import numpy as np\n",
    "import ast\n",
    "import copy\n",
    "import matplotlib.pyplot as plt \n",
    "import seaborn as sns\n",
    "\n",
    "# Load Modules\n",
    "sys.path.append(\"..\")\n",
    "from os.path import expanduser\n",
    "home = expanduser(\"~\")\n",
    "from fiora.MOL.constants import DEFAULT_PPM, PPM, DEFAULT_MODES\n",
    "from fiora.IO.LibraryLoader import LibraryLoader\n",
    "from fiora.MOL.FragmentationTree import FragmentationTree\n",
    "import fiora.visualization.spectrum_visualizer as sv\n",
    "\n",
    "from sklearn.metrics import r2_score\n",
    "import scipy\n",
    "from rdkit import RDLogger\n",
    "RDLogger.DisableLog('rdApp.*')\n",
    "\n",
    "print(f'Working with Python {sys.version}')\n"
   ]
  },
  {
   "attachments": {},
   "cell_type": "markdown",
   "metadata": {},
   "source": [
    "## Data"
   ]
  },
  {
   "cell_type": "code",
   "execution_count": 2,
   "metadata": {},
   "outputs": [],
   "source": [
    "# key map to read metadata from pandas DataFrame\n",
    "metadata_key_map = {\n",
    "                \"name\": \"Name\",\n",
    "                \"collision_energy\":  \"CE\", \n",
    "                \"instrument\": \"Instrument_type\",\n",
    "                \"ionization\": \"Ionization\",\n",
    "                \"precursor_mz\": \"PrecursorMZ\",\n",
    "                \"precursor_mode\": \"Precursor_type\",\n",
    "                \"retention_time\": \"RETENTIONTIME\",\n",
    "                \"ccs\": \"CCS\"\n",
    "                }\n",
    "\n",
    "\n",
    "#\n",
    "# Load specified libraries and align metadata\n",
    "#\n",
    "\n",
    "def load_training_data():\n",
    "    L = LibraryLoader()\n",
    "    df = L.load_from_csv(f\"{home}/data/metabolites/preprocessed/datasplits_Jan24.csv\")\n",
    "    return df\n",
    "\n",
    "df = load_training_data()\n",
    "\n",
    "# Restore dictionary values\n",
    "dict_columns = [\"peaks\", \"summary\"]\n",
    "for col in dict_columns:\n",
    "    df[col] = df[col].apply(lambda x: ast.literal_eval(x.replace('nan', 'None')))\n",
    "    #df[col] = df[col].apply(ast.literal_eval)\n",
    "    \n",
    "df['group_id'] = df['group_id'].astype(int)\n"
   ]
  },
  {
   "cell_type": "code",
   "execution_count": 3,
   "metadata": {},
   "outputs": [
    {
     "name": "stdout",
     "output_type": "stream",
     "text": [
      "lib\n",
      "MSDIAL    4408\n",
      "NIST      7271\n",
      "Name: group_id, dtype: int64\n",
      "lib\n",
      "NIST      54814\n",
      "MSDIAL    19587\n",
      "Name: count, dtype: int64\n",
      "10692\n"
     ]
    }
   ],
   "source": [
    "print(df.groupby(\"lib\")[\"group_id\"].unique().apply(len))\n",
    "print(df[\"lib\"].value_counts())\n",
    "print(len(df[\"group_id\"].unique()))\n"
   ]
  },
  {
   "cell_type": "code",
   "execution_count": 4,
   "metadata": {},
   "outputs": [
    {
     "name": "stdout",
     "output_type": "stream",
     "text": [
      "dataset\n",
      "test          1070\n",
      "training      8552\n",
      "validation    1070\n",
      "Name: group_id, dtype: int64\n",
      "Reducing data to test set.\n"
     ]
    }
   ],
   "source": [
    "print(df.groupby(\"dataset\")[\"group_id\"].unique().apply(len))\n",
    "\n",
    "print(\"Reducing data to test set.\")\n",
    "df_train = df[df[\"dataset\"] != \"test\"]\n",
    "df_test = df[df[\"dataset\"] == \"test\"]"
   ]
  },
  {
   "cell_type": "code",
   "execution_count": 5,
   "metadata": {},
   "outputs": [],
   "source": [
    "%%capture\n",
    "from fiora.MOL.Metabolite import Metabolite\n",
    "from fiora.GNN.AtomFeatureEncoder import AtomFeatureEncoder\n",
    "from fiora.GNN.BondFeatureEncoder import BondFeatureEncoder\n",
    "from fiora.GNN.SetupFeatureEncoder import SetupFeatureEncoder\n",
    "\n",
    "\n",
    "CE_upper_limit = 100.0\n",
    "weight_upper_limit = 1000.0\n",
    "\n",
    "\n",
    "df_test[\"Metabolite\"] = df_test[\"SMILES\"].apply(Metabolite)\n",
    "df_train[\"Metabolite\"] = df_train[\"SMILES\"].apply(Metabolite) # TRAIN Metabolites are only tracked for tanimoto distance\n",
    "df_test[\"Metabolite\"].apply(lambda x: x.create_molecular_structure_graph())\n",
    "\n",
    "node_encoder = AtomFeatureEncoder(feature_list=[\"symbol\", \"num_hydrogen\", \"ring_type\"])\n",
    "bond_encoder = BondFeatureEncoder(feature_list=[\"bond_type\", \"ring_type\"])\n",
    "setup_encoder = SetupFeatureEncoder(feature_list=[\"collision_energy\", \"molecular_weight\", \"precursor_mode\", \"instrument\"])\n",
    "rt_encoder = SetupFeatureEncoder(feature_list=[\"molecular_weight\", \"precursor_mode\", \"instrument\"])\n",
    "\n",
    "setup_encoder.normalize_features[\"collision_energy\"][\"max\"] = CE_upper_limit \n",
    "setup_encoder.normalize_features[\"molecular_weight\"][\"max\"] = weight_upper_limit \n",
    "rt_encoder.normalize_features[\"molecular_weight\"][\"max\"] = weight_upper_limit \n",
    "\n",
    "df_test[\"Metabolite\"].apply(lambda x: x.compute_graph_attributes(node_encoder, bond_encoder))\n",
    "df_test.apply(lambda x: x[\"Metabolite\"].set_id(x[\"group_id\"]) , axis=1)\n",
    "\n",
    "#df[\"summary\"] = df.apply(lambda x: {key: x[name] for key, name in metadata_key_map.items()}, axis=1)\n",
    "df_test.apply(lambda x: x[\"Metabolite\"].add_metadata(x[\"summary\"], setup_encoder, rt_encoder), axis=1)\n"
   ]
  },
  {
   "cell_type": "code",
   "execution_count": 6,
   "metadata": {},
   "outputs": [],
   "source": [
    "%%capture\n",
    "df_test[\"Metabolite\"].apply(lambda x: x.fragment_MOL(depth=1))\n",
    "df_test.apply(lambda x: x[\"Metabolite\"].match_fragments_to_peaks(x[\"peaks\"][\"mz\"], x[\"peaks\"][\"intensity\"], tolerance=x[\"ppm_peak_tolerance\"]), axis=1)"
   ]
  },
  {
   "cell_type": "markdown",
   "metadata": {},
   "source": [
    "##### Load Casmi data"
   ]
  },
  {
   "cell_type": "code",
   "execution_count": 7,
   "metadata": {},
   "outputs": [],
   "source": [
    "casmi16_path = f\"{home}/data/metabolites/CASMI_2016/casmi16_withCCS.csv\"\n",
    "casmi22_path = f\"{home}/data/metabolites/CASMI_2022/casmi22_withCCS.csv\"\n",
    "\n",
    "df_cas = pd.read_csv(casmi16_path, index_col=[0], low_memory=False)\n",
    "df_cast = pd.read_csv(f\"{home}/data/metabolites/CASMI_2016/casmi16t_withCCS.csv\", index_col=[0], low_memory=False) # f\"{home}/data/metabolites/CASMI_2016/casmi16_training_combined.csv\"\n",
    "df_cas22 = pd.read_csv(casmi22_path, index_col=[0], low_memory=False)\n",
    "\n",
    "# Restore dictionary values\n",
    "dict_columns = [\"peaks\", \"Candidates\"]\n",
    "for col in dict_columns:\n",
    "    df_cas[col] = df_cas[col].apply(ast.literal_eval)\n",
    "    df_cast[col] = df_cast[col].apply(ast.literal_eval)\n",
    "\n",
    "df_cas[\"is_priority\"] = True\n",
    "df_cast[\"is_priority\"] = False\n",
    "df_cas22[\"peaks\"] = df_cas22[\"peaks\"].apply(ast.literal_eval)\n",
    "df_cas22[\"ChallengeNum\"] = df_cas22[\"ChallengeName\"].apply(lambda x: int(x.split(\"-\")[-1]))\n",
    "df_cas22[\"is_priority\"] = (df_cas22[\"ChallengeNum\"] < 250).astype(bool)\n",
    "\n",
    "\n",
    "\n",
    "\n",
    "def closest_cfm_ce(CE):\n",
    "    ref = np.array([10, 20, 40])\n",
    "    abs_error = abs(ref - CE)\n",
    "    i = np.argmin(abs_error)\n",
    "    return str(ref[i])"
   ]
  },
  {
   "cell_type": "code",
   "execution_count": 8,
   "metadata": {},
   "outputs": [],
   "source": [
    "%%capture\n",
    "from fiora.MOL.collision_energy import NCE_to_eV\n",
    "\n",
    "df_cas[\"dataset\"] = \"CASMI 16\"\n",
    "df_cas[\"RETENTIONTIME\"] = df_cas[\"RTINSECONDS\"] / 60.0\n",
    "df_cas[\"Metabolite\"] = df_cas[\"SMILES\"].apply(Metabolite)\n",
    "df_cas[\"Metabolite\"].apply(lambda x: x.create_molecular_structure_graph())\n",
    "\n",
    "df_cas[\"Metabolite\"].apply(lambda x: x.compute_graph_attributes(node_encoder, bond_encoder))\n",
    "df_cas[\"CE\"] = 20.0 # actually stepped 20/35/50\n",
    "df_cas[\"Instrument_type\"] = \"HCD\" # CHECK if correct Orbitrap\n",
    "\n",
    "metadata_key_map16 = {\"collision_energy\":  \"CE\", \n",
    "                 \"instrument\": \"Instrument_type\",\n",
    "                 \"precursor_mz\": \"PRECURSOR_MZ\",\n",
    "                 'precursor_mode': \"Precursor_type\",\n",
    "                 \"retention_time\": \"RETENTIONTIME\"\n",
    "                 }\n",
    "\n",
    "df_cas[\"summary\"] = df_cas.apply(lambda x: {key: x[name] for key, name in metadata_key_map16.items()}, axis=1)\n",
    "df_cas.apply(lambda x: x[\"Metabolite\"].add_metadata(x[\"summary\"], setup_encoder), axis=1)\n",
    "\n",
    "# Fragmentation\n",
    "df_cas[\"Metabolite\"].apply(lambda x: x.fragment_MOL(depth=1))\n",
    "df_cas.apply(lambda x: x[\"Metabolite\"].match_fragments_to_peaks(x[\"peaks\"][\"mz\"], x[\"peaks\"][\"intensity\"], tolerance=300 * PPM), axis=1)\n",
    "\n",
    "#\n",
    "# CASMI 22\n",
    "#\n",
    "\n",
    "df_cas22[\"dataset\"] = \"CASMI 22\"\n",
    "df_cas22[\"Metabolite\"] = df_cas22[\"SMILES\"].apply(Metabolite)\n",
    "df_cas22[\"Metabolite\"].apply(lambda x: x.create_molecular_structure_graph())\n",
    "\n",
    "df_cas22[\"Metabolite\"].apply(lambda x: x.compute_graph_attributes(node_encoder, bond_encoder))\n",
    "df_cas22[\"CE\"] = df_cas22.apply(lambda x: NCE_to_eV(x[\"NCE\"], x[\"precursor_mz\"]), axis=1)\n",
    "df_cas22 = df_cas22[df_cas22[\"CE\"] < CE_upper_limit] \n",
    "df_cas22 = df_cas22[df_cas22[\"CE\"] > 0] \n",
    "#df_cas22 = df_cas22[df_cas22.is_priority]\n",
    "\n",
    "metadata_key_map22 = {\"collision_energy\":  \"CE\", \n",
    "                 \"instrument\": \"Instrument_type\",\n",
    "                 \"precursor_mz\": \"precursor_mz\",\n",
    "                 'precursor_mode': \"Precursor_type\",\n",
    "                 \"retention_time\": \"ChallengeRT\"\n",
    "                 }\n",
    "\n",
    "df_cas22[\"summary\"] = df_cas22.apply(lambda x: {key: x[name] for key, name in metadata_key_map22.items()}, axis=1)\n",
    "df_cas22.apply(lambda x: x[\"Metabolite\"].add_metadata(x[\"summary\"], setup_encoder, rt_encoder), axis=1)\n",
    "\n",
    "# Fragmentation\n",
    "df_cas22[\"Metabolite\"].apply(lambda x: x.fragment_MOL(depth=1))\n",
    "df_cas22.apply(lambda x: x[\"Metabolite\"].match_fragments_to_peaks(x[\"peaks\"][\"mz\"], x[\"peaks\"][\"intensity\"], tolerance=300 * PPM), axis=1) # Optional: use mz_cut instead\n",
    "\n",
    "df_cas22 = df_cas22.reset_index()\n",
    "\n",
    "df_cas22[\"library\"] = \"CASMI-22\"\n",
    "df_cas22[\"RETENTIONTIME\"] = df_cas22[\"ChallengeRT\"] # \"RT_min\"\n",
    "df_cas22[\"cfm_CE\"] = df_cas22[\"CE\"].apply(closest_cfm_ce)\n",
    "df_cas22[[\"NCE\", \"CE\", \"cfm_CE\"]]"
   ]
  },
  {
   "cell_type": "code",
   "execution_count": 9,
   "metadata": {},
   "outputs": [],
   "source": [
    "%%capture\n",
    "from fiora.MOL.collision_energy import NCE_to_eV\n",
    "\n",
    "df_cast[\"dataset\"] = \"CASMI 16 Training\"\n",
    "df_cast[\"RETENTIONTIME\"] = df_cast[\"RTINSECONDS\"] / 60.0\n",
    "df_cast[\"Metabolite\"] = df_cast[\"SMILES\"].apply(Metabolite)\n",
    "df_cast[\"Metabolite\"].apply(lambda x: x.create_molecular_structure_graph())\n",
    "\n",
    "df_cast[\"Metabolite\"].apply(lambda x: x.compute_graph_attributes(node_encoder, bond_encoder))\n",
    "df_cast[\"CE\"] = 20.0 # actually stepped 20/35/50\n",
    "df_cast[\"Instrument_type\"] = \"HCD\" # CHECK if correct Orbitrap\n",
    "\n",
    "metadata_key_map16 = {\"collision_energy\":  \"CE\", \n",
    "                 \"instrument\": \"Instrument_type\",\n",
    "                 \"precursor_mz\": \"PRECURSOR_MZ\",\n",
    "                 'precursor_mode': \"Precursor_type\",\n",
    "                 \"retention_time\": \"RETENTIONTIME\"\n",
    "                 }\n",
    "\n",
    "df_cast[\"summary\"] = df_cast.apply(lambda x: {key: x[name] for key, name in metadata_key_map16.items()}, axis=1)\n",
    "df_cast.apply(lambda x: x[\"Metabolite\"].add_metadata(x[\"summary\"], setup_encoder), axis=1)\n",
    "\n",
    "# Fragmentation\n",
    "df_cast[\"Metabolite\"].apply(lambda x: x.fragment_MOL(depth=1))\n",
    "df_cast.apply(lambda x: x[\"Metabolite\"].match_fragments_to_peaks(x[\"peaks\"][\"mz\"], x[\"peaks\"][\"intensity\"], tolerance=300 * PPM), axis=1)\n"
   ]
  },
  {
   "cell_type": "code",
   "execution_count": 10,
   "metadata": {},
   "outputs": [
    {
     "data": {
      "text/html": [
       "<div>\n",
       "<style scoped>\n",
       "    .dataframe tbody tr th:only-of-type {\n",
       "        vertical-align: middle;\n",
       "    }\n",
       "\n",
       "    .dataframe tbody tr th {\n",
       "        vertical-align: top;\n",
       "    }\n",
       "\n",
       "    .dataframe thead th {\n",
       "        text-align: right;\n",
       "    }\n",
       "</style>\n",
       "<table border=\"1\" class=\"dataframe\">\n",
       "  <thead>\n",
       "    <tr style=\"text-align: right;\">\n",
       "      <th></th>\n",
       "      <th>level_0</th>\n",
       "      <th>index</th>\n",
       "      <th>RT</th>\n",
       "      <th>RT_min</th>\n",
       "      <th>precursor_mz</th>\n",
       "      <th>Instrument_type</th>\n",
       "      <th>NCE</th>\n",
       "      <th>peaks</th>\n",
       "      <th>Precursor_type</th>\n",
       "      <th>ChallengeName</th>\n",
       "      <th>...</th>\n",
       "      <th>CCS_std</th>\n",
       "      <th>ChallengeNum</th>\n",
       "      <th>is_priority</th>\n",
       "      <th>dataset</th>\n",
       "      <th>Metabolite</th>\n",
       "      <th>CE</th>\n",
       "      <th>summary</th>\n",
       "      <th>library</th>\n",
       "      <th>RETENTIONTIME</th>\n",
       "      <th>cfm_CE</th>\n",
       "    </tr>\n",
       "  </thead>\n",
       "  <tbody>\n",
       "    <tr>\n",
       "      <th>343</th>\n",
       "      <td>353</td>\n",
       "      <td>0</td>\n",
       "      <td>378.666552</td>\n",
       "      <td>6.311109</td>\n",
       "      <td>403.232057</td>\n",
       "      <td>HCD</td>\n",
       "      <td>35.0</td>\n",
       "      <td>{'mz': [57.070106506347656, 57.55096435546875,...</td>\n",
       "      <td>[M+H]+</td>\n",
       "      <td>Challenge-256</td>\n",
       "      <td>...</td>\n",
       "      <td>0.0</td>\n",
       "      <td>256</td>\n",
       "      <td>False</td>\n",
       "      <td>CASMI 22</td>\n",
       "      <td>&lt;Metabolite: CCCCOC(=O)CC(CC(=O)OCCCC)(C(=O)OC...</td>\n",
       "      <td>28.226244</td>\n",
       "      <td>{'collision_energy': 28.22624396670118, 'instr...</td>\n",
       "      <td>CASMI-22</td>\n",
       "      <td>6.24</td>\n",
       "      <td>20</td>\n",
       "    </tr>\n",
       "    <tr>\n",
       "      <th>344</th>\n",
       "      <td>354</td>\n",
       "      <td>0</td>\n",
       "      <td>378.244998</td>\n",
       "      <td>6.304083</td>\n",
       "      <td>403.231917</td>\n",
       "      <td>HCD</td>\n",
       "      <td>45.0</td>\n",
       "      <td>{'mz': [57.070106506347656, 57.203224182128906...</td>\n",
       "      <td>[M+H]+</td>\n",
       "      <td>Challenge-256</td>\n",
       "      <td>...</td>\n",
       "      <td>0.0</td>\n",
       "      <td>256</td>\n",
       "      <td>False</td>\n",
       "      <td>CASMI 22</td>\n",
       "      <td>&lt;Metabolite: CCCCOC(=O)CC(CC(=O)OCCCC)(C(=O)OC...</td>\n",
       "      <td>36.290873</td>\n",
       "      <td>{'collision_energy': 36.29087253586008, 'instr...</td>\n",
       "      <td>CASMI-22</td>\n",
       "      <td>6.24</td>\n",
       "      <td>40</td>\n",
       "    </tr>\n",
       "    <tr>\n",
       "      <th>345</th>\n",
       "      <td>355</td>\n",
       "      <td>0</td>\n",
       "      <td>377.884374</td>\n",
       "      <td>6.298073</td>\n",
       "      <td>403.232059</td>\n",
       "      <td>HCD</td>\n",
       "      <td>65.0</td>\n",
       "      <td>{'mz': [57.07008361816406, 57.073341369628906,...</td>\n",
       "      <td>[M+H]+</td>\n",
       "      <td>Challenge-256</td>\n",
       "      <td>...</td>\n",
       "      <td>0.0</td>\n",
       "      <td>256</td>\n",
       "      <td>False</td>\n",
       "      <td>CASMI 22</td>\n",
       "      <td>&lt;Metabolite: CCCCOC(=O)CC(CC(=O)OCCCC)(C(=O)OC...</td>\n",
       "      <td>52.420168</td>\n",
       "      <td>{'collision_energy': 52.42016771439251, 'instr...</td>\n",
       "      <td>CASMI-22</td>\n",
       "      <td>6.24</td>\n",
       "      <td>40</td>\n",
       "    </tr>\n",
       "    <tr>\n",
       "      <th>362</th>\n",
       "      <td>372</td>\n",
       "      <td>0</td>\n",
       "      <td>72.524140</td>\n",
       "      <td>1.208736</td>\n",
       "      <td>211.143954</td>\n",
       "      <td>HCD</td>\n",
       "      <td>35.0</td>\n",
       "      <td>{'mz': [51.914241790771484, 52.78592773177661,...</td>\n",
       "      <td>[M+H]+</td>\n",
       "      <td>Challenge-271</td>\n",
       "      <td>...</td>\n",
       "      <td>0.0</td>\n",
       "      <td>271</td>\n",
       "      <td>False</td>\n",
       "      <td>CASMI 22</td>\n",
       "      <td>&lt;Metabolite: CC(C)CC1C(=O)N2CCCC2C(=O)N1&gt;</td>\n",
       "      <td>14.780077</td>\n",
       "      <td>{'collision_energy': 14.780076793245584, 'inst...</td>\n",
       "      <td>CASMI-22</td>\n",
       "      <td>1.21</td>\n",
       "      <td>10</td>\n",
       "    </tr>\n",
       "    <tr>\n",
       "      <th>363</th>\n",
       "      <td>373</td>\n",
       "      <td>0</td>\n",
       "      <td>72.545726</td>\n",
       "      <td>1.209095</td>\n",
       "      <td>211.143952</td>\n",
       "      <td>HCD</td>\n",
       "      <td>45.0</td>\n",
       "      <td>{'mz': [50.2601203918457, 52.785931810736656, ...</td>\n",
       "      <td>[M+H]+</td>\n",
       "      <td>Challenge-271</td>\n",
       "      <td>...</td>\n",
       "      <td>0.0</td>\n",
       "      <td>271</td>\n",
       "      <td>False</td>\n",
       "      <td>CASMI 22</td>\n",
       "      <td>&lt;Metabolite: CC(C)CC1C(=O)N2CCCC2C(=O)N1&gt;</td>\n",
       "      <td>19.002956</td>\n",
       "      <td>{'collision_energy': 19.00295563760982, 'instr...</td>\n",
       "      <td>CASMI-22</td>\n",
       "      <td>1.21</td>\n",
       "      <td>20</td>\n",
       "    </tr>\n",
       "    <tr>\n",
       "      <th>364</th>\n",
       "      <td>374</td>\n",
       "      <td>0</td>\n",
       "      <td>73.023772</td>\n",
       "      <td>1.217063</td>\n",
       "      <td>211.143958</td>\n",
       "      <td>HCD</td>\n",
       "      <td>65.0</td>\n",
       "      <td>{'mz': [56.04984927177429, 57.07018280029297, ...</td>\n",
       "      <td>[M+H]+</td>\n",
       "      <td>Challenge-271</td>\n",
       "      <td>...</td>\n",
       "      <td>0.0</td>\n",
       "      <td>271</td>\n",
       "      <td>False</td>\n",
       "      <td>CASMI 22</td>\n",
       "      <td>&lt;Metabolite: CC(C)CC1C(=O)N2CCCC2C(=O)N1&gt;</td>\n",
       "      <td>27.448715</td>\n",
       "      <td>{'collision_energy': 27.44871458231052, 'instr...</td>\n",
       "      <td>CASMI-22</td>\n",
       "      <td>1.21</td>\n",
       "      <td>20</td>\n",
       "    </tr>\n",
       "  </tbody>\n",
       "</table>\n",
       "<p>6 rows × 23 columns</p>\n",
       "</div>"
      ],
      "text/plain": [
       "     level_0  index          RT    RT_min  precursor_mz Instrument_type   NCE  \\\n",
       "343      353      0  378.666552  6.311109    403.232057             HCD  35.0   \n",
       "344      354      0  378.244998  6.304083    403.231917             HCD  45.0   \n",
       "345      355      0  377.884374  6.298073    403.232059             HCD  65.0   \n",
       "362      372      0   72.524140  1.208736    211.143954             HCD  35.0   \n",
       "363      373      0   72.545726  1.209095    211.143952             HCD  45.0   \n",
       "364      374      0   73.023772  1.217063    211.143958             HCD  65.0   \n",
       "\n",
       "                                                 peaks Precursor_type  \\\n",
       "343  {'mz': [57.070106506347656, 57.55096435546875,...         [M+H]+   \n",
       "344  {'mz': [57.070106506347656, 57.203224182128906...         [M+H]+   \n",
       "345  {'mz': [57.07008361816406, 57.073341369628906,...         [M+H]+   \n",
       "362  {'mz': [51.914241790771484, 52.78592773177661,...         [M+H]+   \n",
       "363  {'mz': [50.2601203918457, 52.785931810736656, ...         [M+H]+   \n",
       "364  {'mz': [56.04984927177429, 57.07018280029297, ...         [M+H]+   \n",
       "\n",
       "     ChallengeName  ...  CCS_std ChallengeNum  is_priority   dataset  \\\n",
       "343  Challenge-256  ...      0.0          256        False  CASMI 22   \n",
       "344  Challenge-256  ...      0.0          256        False  CASMI 22   \n",
       "345  Challenge-256  ...      0.0          256        False  CASMI 22   \n",
       "362  Challenge-271  ...      0.0          271        False  CASMI 22   \n",
       "363  Challenge-271  ...      0.0          271        False  CASMI 22   \n",
       "364  Challenge-271  ...      0.0          271        False  CASMI 22   \n",
       "\n",
       "                                            Metabolite         CE  \\\n",
       "343  <Metabolite: CCCCOC(=O)CC(CC(=O)OCCCC)(C(=O)OC...  28.226244   \n",
       "344  <Metabolite: CCCCOC(=O)CC(CC(=O)OCCCC)(C(=O)OC...  36.290873   \n",
       "345  <Metabolite: CCCCOC(=O)CC(CC(=O)OCCCC)(C(=O)OC...  52.420168   \n",
       "362          <Metabolite: CC(C)CC1C(=O)N2CCCC2C(=O)N1>  14.780077   \n",
       "363          <Metabolite: CC(C)CC1C(=O)N2CCCC2C(=O)N1>  19.002956   \n",
       "364          <Metabolite: CC(C)CC1C(=O)N2CCCC2C(=O)N1>  27.448715   \n",
       "\n",
       "                                               summary   library  \\\n",
       "343  {'collision_energy': 28.22624396670118, 'instr...  CASMI-22   \n",
       "344  {'collision_energy': 36.29087253586008, 'instr...  CASMI-22   \n",
       "345  {'collision_energy': 52.42016771439251, 'instr...  CASMI-22   \n",
       "362  {'collision_energy': 14.780076793245584, 'inst...  CASMI-22   \n",
       "363  {'collision_energy': 19.00295563760982, 'instr...  CASMI-22   \n",
       "364  {'collision_energy': 27.44871458231052, 'instr...  CASMI-22   \n",
       "\n",
       "     RETENTIONTIME cfm_CE  \n",
       "343           6.24     20  \n",
       "344           6.24     40  \n",
       "345           6.24     40  \n",
       "362           1.21     10  \n",
       "363           1.21     20  \n",
       "364           1.21     20  \n",
       "\n",
       "[6 rows x 23 columns]"
      ]
     },
     "execution_count": 10,
     "metadata": {},
     "output_type": "execute_result"
    }
   ],
   "source": [
    "df_cas22[~df_cas22.CCS.isna()]"
   ]
  },
  {
   "attachments": {},
   "cell_type": "markdown",
   "metadata": {},
   "source": [
    "## Model Training and Testing"
   ]
  },
  {
   "cell_type": "code",
   "execution_count": 11,
   "metadata": {},
   "outputs": [
    {
     "name": "stdout",
     "output_type": "stream",
     "text": [
      "Running on device: cuda:1\n"
     ]
    }
   ],
   "source": [
    "from fiora.GNN.Trainer import Trainer\n",
    "import torch_geometric as geom\n",
    "\n",
    "if torch.cuda.is_available(): \n",
    " dev = \"cuda:1\"\n",
    "else: \n",
    " dev = \"cpu\" \n",
    "\n",
    "print(f\"Running on device: {dev}\")\n",
    "\n",
    "\n"
   ]
  },
  {
   "attachments": {},
   "cell_type": "markdown",
   "metadata": {},
   "source": [
    "##### Prepare Model"
   ]
  },
  {
   "cell_type": "code",
   "execution_count": 12,
   "metadata": {},
   "outputs": [],
   "source": [
    "depth = 6\n",
    "MODEL_PATH = f\"{home}/data/metabolites/pretrained_models/pre_package/v0.0.1_merged_depth{depth}_Jan24+CCS+RT.pt\"\n",
    "# MODEL_PATH = f\"{home}/data/metabolites/pretrained_models/pre_package/v0.0.1_2_OS_depth{depth}_June24+CCS+RT.pt\" # OS model\n",
    "\n"
   ]
  },
  {
   "cell_type": "code",
   "execution_count": 13,
   "metadata": {},
   "outputs": [
    {
     "data": {
      "text/plain": [
       "{'param_tag': 'default',\n",
       " 'gnn_type': 'RGCNConv',\n",
       " 'depth': 6,\n",
       " 'hidden_dimension': 300,\n",
       " 'dense_layers': 2,\n",
       " 'embedding_aggregation': 'concat',\n",
       " 'embedding_dimension': 300,\n",
       " 'input_dropout': 0.2,\n",
       " 'latent_dropout': 0.1,\n",
       " 'node_feature_layout': {'symbol': 10, 'num_hydrogen': 5, 'ring_type': 5},\n",
       " 'edge_feature_layout': {'bond_type': 4, 'ring_type': 5},\n",
       " 'static_feature_dimension': 9,\n",
       " 'static_rt_feature_dimension': 8,\n",
       " 'output_dimension': 10,\n",
       " 'atom_features': ['bond_type', 'ring_type'],\n",
       " 'setup_features': ['collision_energy',\n",
       "  'molecular_weight',\n",
       "  'precursor_mode',\n",
       "  'instrument'],\n",
       " 'rt_features': ['molecular_weight', 'precursor_mode', 'instrument']}"
      ]
     },
     "execution_count": 13,
     "metadata": {},
     "output_type": "execute_result"
    }
   ],
   "source": [
    "import json\n",
    "from fiora.GNN.GNNModules import GNNCompiler\n",
    "from fiora.MS.SimulationFramework import SimulationFramework\n",
    "\n",
    "try: \n",
    "    model = GNNCompiler.load(MODEL_PATH)\n",
    "except:\n",
    "    try:\n",
    "        print(f\"Warning: Failed loading the model {MODEL_PATH}. Fall back: Loading the model from state dictionary.\")\n",
    "        model = GNNCompiler.load_from_state_dict(MODEL_PATH)\n",
    "        print(\"Model loaded from state dict without further errors.\")\n",
    "    except:\n",
    "        raise NameError(\"Error: Failed loading from state dict.\")\n",
    "        \n",
    "\n",
    "model.eval()\n",
    "model = model.to(dev)\n",
    "\n",
    "fiora = SimulationFramework(None, dev=dev, with_RT=True, with_CCS=True)\n",
    "\n",
    "\n",
    "model.model_params"
   ]
  },
  {
   "cell_type": "code",
   "execution_count": 14,
   "metadata": {},
   "outputs": [],
   "source": [
    "np.seterr(invalid='ignore')\n",
    "def simulate_all(model, DF):\n",
    "    return fiora.simulate_all(DF, model)\n",
    "\n",
    "    \n",
    "def test_model(model, DF):\n",
    "    dft = simulate_all(model, DF)\n",
    "    return dft"
   ]
  },
  {
   "cell_type": "markdown",
   "metadata": {},
   "source": [
    "##### Test CASMI 16 and 22"
   ]
  },
  {
   "cell_type": "code",
   "execution_count": 15,
   "metadata": {},
   "outputs": [],
   "source": [
    "from fiora.MOL.collision_energy import NCE_to_eV\n",
    "from fiora.MS.spectral_scores import spectral_cosine, spectral_reflection_cosine, reweighted_dot\n",
    "from fiora.MS.ms_utility import merge_annotated_spectrum\n",
    "\n",
    "\n",
    "def test_cas16(model, df_cas=df_cas):\n",
    "    \n",
    "    df_cas[\"NCE\"] = 20.0 # actually stepped NCE 20/35/50\n",
    "    df_cas[\"CE\"] = df_cas[[\"NCE\", \"PRECURSOR_MZ\"]].apply(lambda x: NCE_to_eV(x[\"NCE\"], x[\"PRECURSOR_MZ\"]), axis=1)\n",
    "    df_cas[\"step1_CE\"] = df_cas[\"CE\"]\n",
    "    df_cas[\"summary\"] = df_cas.apply(lambda x: {key: x[name] for key, name in metadata_key_map16.items()}, axis=1)\n",
    "    df_cas.apply(lambda x: x[\"Metabolite\"].add_metadata(x[\"summary\"], setup_encoder, rt_encoder), axis=1)\n",
    "    df_cas = fiora.simulate_all(df_cas, model, suffix=\"_20\")\n",
    "\n",
    "    df_cas[\"NCE\"] = 35.0 # actually stepped NCE 20/35/50\n",
    "    df_cas[\"CE\"] = df_cas[[\"NCE\", \"PRECURSOR_MZ\"]].apply(lambda x: NCE_to_eV(x[\"NCE\"], x[\"PRECURSOR_MZ\"]), axis=1)\n",
    "    df_cas[\"step2_CE\"] = df_cas[\"CE\"]\n",
    "    df_cas[\"summary\"] = df_cas.apply(lambda x: {key: x[name] for key, name in metadata_key_map16.items()}, axis=1)\n",
    "    df_cas.apply(lambda x: x[\"Metabolite\"].add_metadata(x[\"summary\"], setup_encoder, rt_encoder), axis=1)\n",
    "    df_cas = fiora.simulate_all(df_cas, model, suffix=\"_35\")\n",
    "\n",
    "\n",
    "    df_cas[\"NCE\"] = 50.0 # actually stepped NCE 20/35/50\n",
    "    df_cas[\"CE\"] = df_cas[[\"NCE\", \"PRECURSOR_MZ\"]].apply(lambda x: NCE_to_eV(x[\"NCE\"], x[\"PRECURSOR_MZ\"]), axis=1)\n",
    "    df_cas[\"step3_CE\"] = df_cas[\"CE\"]\n",
    "    df_cas[\"summary\"] = df_cas.apply(lambda x: {key: x[name] for key, name in metadata_key_map16.items()}, axis=1)\n",
    "    df_cas.apply(lambda x: x[\"Metabolite\"].add_metadata(x[\"summary\"], setup_encoder, rt_encoder), axis=1)\n",
    "    df_cas = fiora.simulate_all(df_cas, model, suffix=\"_50\")\n",
    "\n",
    "    df_cas[\"avg_CE\"] = (df_cas[\"step1_CE\"] + df_cas[\"step2_CE\"] + df_cas[\"step3_CE\"]) / 3\n",
    "    df_cas[\"CE\"] = df_cas[\"avg_CE\"]\n",
    "    \n",
    "    df_cas[\"merged_peaks\"] = df_cas.apply(lambda x: merge_annotated_spectrum(merge_annotated_spectrum(x[\"sim_peaks_20\"], x[\"sim_peaks_35\"]), x[\"sim_peaks_50\"]) , axis=1)\n",
    "    df_cas[\"sim_peaks\"] = df_cas[\"merged_peaks\"] \n",
    "    df_cas[\"merged_cosine\"] = df_cas.apply(lambda x: spectral_cosine(x[\"peaks\"], x[\"merged_peaks\"]), axis=1)\n",
    "    df_cas[\"merged_sqrt_cosine\"] = df_cas.apply(lambda x: spectral_cosine(x[\"peaks\"], x[\"merged_peaks\"], transform=np.sqrt), axis=1)\n",
    "    df_cas[\"merged_sqrt_bias\"] = df_cas.apply(lambda x: spectral_cosine(x[\"peaks\"], x[\"merged_peaks\"], transform=np.sqrt, with_bias=True)[1], axis=1)\n",
    "    df_cas[\"merged_sqrt_cosine_wo_precursor\"] = df_cas.apply(lambda x: spectral_cosine(x[\"peaks\"], x[\"merged_peaks\"], transform=np.sqrt, remove_mz=x[\"Metabolite\"].get_theoretical_precursor_mz(x[\"Metabolite\"].metadata[\"precursor_mode\"])), axis=1)\n",
    "    df_cas[\"merged_refl_cosine\"] = df_cas.apply(lambda x: spectral_reflection_cosine(x[\"peaks\"], x[\"merged_peaks\"], transform=np.sqrt), axis=1)\n",
    "    df_cas[\"merged_steins\"] = df_cas.apply(lambda x: reweighted_dot(x[\"peaks\"], x[\"merged_peaks\"]), axis=1)\n",
    "    df_cas[\"spectral_cosine\"] = df_cas[\"merged_cosine\"] # just remember it is merged\n",
    "    df_cas[\"spectral_sqrt_cosine\"] = df_cas[\"merged_sqrt_cosine\"] # just remember it is merged\n",
    "    df_cas[\"spectral_sqrt_cosine_wo_prec\"] = df_cas[\"merged_sqrt_cosine_wo_precursor\"] # just remember it is merged\n",
    "    df_cas[\"spectral_sqrt_bias\"] = df_cas[\"merged_sqrt_bias\"] # just remember it is merged\n",
    "\n",
    "    df_cas[\"coverage\"] = df_cas[\"Metabolite\"].apply(lambda x: x.match_stats[\"coverage\"])\n",
    "    df_cas[\"RT_pred\"] = df_cas[\"RT_pred_35\"]\n",
    "    df_cas[\"RT_dif\"] = df_cas[\"RT_dif_35\"]\n",
    "    df_cas[\"CCS_pred\"] = df_cas[\"CCS_pred_35\"]\n",
    "    df_cas[\"library\"] = \"CASMI-16\"\n",
    "\n",
    "    \n",
    "    df_cas[\"cfm_CE\"] = df_cas[\"avg_CE\"].apply(closest_cfm_ce)\n",
    "    \n",
    "    return df_cas"
   ]
  },
  {
   "cell_type": "code",
   "execution_count": 16,
   "metadata": {},
   "outputs": [
    {
     "name": "stdout",
     "output_type": "stream",
     "text": [
      "Testing the model\n"
     ]
    },
    {
     "name": "stderr",
     "output_type": "stream",
     "text": [
      "/home/ynowatzk/repos/fiora/fiora/MS/SimulationFramework.py:164: FutureWarning: The behavior of DataFrame concatenation with empty or all-NA entries is deprecated. In a future version, this will no longer exclude empty or all-NA columns when determining the result dtypes. To retain the old behavior, exclude the relevant entries before the concat operation.\n",
      "  df = pd.concat([df, pd.DataFrame(columns=[x + suffix for x in [\"cosine_similarity\", \"kl_div\", \"sim_peaks\", \"spectral_cosine\", \"spectral_sqrt_cosine\", \"spectral_sqrt_cosine_wo_prec\", \"spectral_refl_cosine\", \"spectral_bias\", \"spectral_sqrt_bias\", \"spectral_sqrt_bias_wo_prec\", \"spectral_refl_bias\", \"steins_cosine\", \"steins_bias\", \"RT_pred\", \"RT_dif\", \"CCS_pred\"]])])\n",
      "/home/ynowatzk/repos/fiora/fiora/MS/spectral_scores.py:27: RuntimeWarning: divide by zero encountered in divide\n",
      "  vec_other = vec_other / np.linalg.norm(vec_other)\n",
      "/home/ynowatzk/repos/fiora/fiora/MS/spectral_scores.py:26: RuntimeWarning: divide by zero encountered in divide\n",
      "  vec = vec / np.linalg.norm(vec)\n",
      "/home/ynowatzk/repos/fiora/fiora/MS/spectral_scores.py:27: RuntimeWarning: divide by zero encountered in divide\n",
      "  vec_other = vec_other / np.linalg.norm(vec_other)\n",
      "/home/ynowatzk/repos/fiora/fiora/MS/spectral_scores.py:26: RuntimeWarning: divide by zero encountered in divide\n",
      "  vec = vec / np.linalg.norm(vec)\n",
      "/home/ynowatzk/repos/fiora/fiora/MS/spectral_scores.py:27: RuntimeWarning: divide by zero encountered in divide\n",
      "  vec_other = vec_other / np.linalg.norm(vec_other)\n",
      "/home/ynowatzk/repos/fiora/fiora/MS/spectral_scores.py:26: RuntimeWarning: divide by zero encountered in divide\n",
      "  vec = vec / np.linalg.norm(vec)\n",
      "/home/ynowatzk/repos/fiora/fiora/MS/spectral_scores.py:27: RuntimeWarning: divide by zero encountered in divide\n",
      "  vec_other = vec_other / np.linalg.norm(vec_other)\n",
      "/home/ynowatzk/repos/fiora/fiora/MS/spectral_scores.py:26: RuntimeWarning: divide by zero encountered in divide\n",
      "  vec = vec / np.linalg.norm(vec)\n",
      "/home/ynowatzk/repos/fiora/fiora/MS/spectral_scores.py:27: RuntimeWarning: divide by zero encountered in divide\n",
      "  vec_other = vec_other / np.linalg.norm(vec_other)\n",
      "/home/ynowatzk/repos/fiora/fiora/MS/spectral_scores.py:27: RuntimeWarning: divide by zero encountered in divide\n",
      "  vec_other = vec_other / np.linalg.norm(vec_other)\n",
      "/home/ynowatzk/repos/fiora/fiora/MS/spectral_scores.py:27: RuntimeWarning: divide by zero encountered in divide\n",
      "  vec_other = vec_other / np.linalg.norm(vec_other)\n",
      "/home/ynowatzk/repos/fiora/fiora/MS/spectral_scores.py:26: RuntimeWarning: divide by zero encountered in divide\n",
      "  vec = vec / np.linalg.norm(vec)\n",
      "/home/ynowatzk/repos/fiora/fiora/MS/spectral_scores.py:27: RuntimeWarning: divide by zero encountered in divide\n",
      "  vec_other = vec_other / np.linalg.norm(vec_other)\n"
     ]
    },
    {
     "name": "stdout",
     "output_type": "stream",
     "text": [
      "Done\n"
     ]
    }
   ],
   "source": [
    "print(f\"Testing the model\")\n",
    "np.seterr(invalid='ignore')\n",
    "df_test = test_model(model, df_test)\n",
    "df_cas = test_cas16(model)\n",
    "df_cast = test_cas16(model, df_cas=df_cast)\n",
    "df_cas22 = test_model(model, df_cas22)\n",
    "print(\"Done\")"
   ]
  },
  {
   "cell_type": "markdown",
   "metadata": {},
   "source": [
    "#### READ CFM-ID Results"
   ]
  },
  {
   "cell_type": "code",
   "execution_count": 17,
   "metadata": {},
   "outputs": [
    {
     "name": "stdout",
     "output_type": "stream",
     "text": [
      "Challenge-009 not found in CFM-ID results. Skipping.\n",
      "Challenge-051 not found in CFM-ID results. Skipping.\n",
      "Challenge-053 not found in CFM-ID results. Skipping.\n",
      "Challenge-066 not found in CFM-ID results. Skipping.\n"
     ]
    }
   ],
   "source": [
    "import fiora.IO.cfmReader as cfmReader\n",
    "# time CFM-ID 4: -> 12m16,571s\n",
    "\n",
    "cf = cfmReader.read(f\"{home}/data/metabolites/cfm-id/casmi16_negative_predictions.txt\", as_df=True)\n",
    "cf_p = cfmReader.read(f\"{home}/data/metabolites/cfm-id/casmi16_positive_predictions.txt\", as_df=True)\n",
    "cf = pd.concat([cf, cf_p])\n",
    "len(cf[cf[\"#ID\"] == \"Challenge-009\"]) ## missing chalenges\n",
    "df_cas[\"cfm_peaks\"] = None\n",
    "df_cas[[\"cfm_cosine\", \"cfm_sqrt_cosine\", \"cfm_refl_cosine\"]] = np.nan\n",
    "for i, cas in df_cas.iterrows():\n",
    "    challenge = cas[\"ChallengeName\"]\n",
    "\n",
    "    if len(cf[cf[\"#ID\"] == challenge]) != 1:\n",
    "        print(f\"{challenge} not found in CFM-ID results. Skipping.\")\n",
    "        continue\n",
    "    cfm_data = cf[cf[\"#ID\"] == challenge].iloc[0]\n",
    "    \n",
    "    \n",
    "    if cas[\"ChallengeName\"] != cfm_data[\"#ID\"]:\n",
    "        raise ValueError(\"Wrong challenge matched\")\n",
    "    cfm_peaks = cfm_data[\"peaks\" + cas[\"cfm_CE\"]] # find best reference CE\n",
    "    df_cas.at[i, \"cfm_peaks\"] = cfm_peaks\n",
    "    df_cas.at[i, \"cfm_cosine\"] = spectral_cosine(cas[\"peaks\"], cfm_peaks)\n",
    "    df_cas.at[i, \"cfm_sqrt_cosine\"] = spectral_cosine(cas[\"peaks\"], cfm_peaks, transform=np.sqrt)\n",
    "    df_cas.at[i, \"cfm_sqrt_cosine_wo_prec\"] = spectral_cosine(cas[\"peaks\"], cfm_peaks, transform=np.sqrt, remove_mz=cas[\"Metabolite\"].get_theoretical_precursor_mz(ion_type=cas[\"Metabolite\"].metadata[\"precursor_mode\"]))\n",
    "    df_cas.at[i, \"cfm_refl_cosine\"] = spectral_reflection_cosine(cas[\"peaks\"], cfm_peaks, transform=np.sqrt)\n",
    "    df_cas.at[i, \"cfm_steins\"] = reweighted_dot(cas[\"peaks\"], cfm_peaks)"
   ]
  },
  {
   "cell_type": "code",
   "execution_count": 18,
   "metadata": {},
   "outputs": [
    {
     "name": "stdout",
     "output_type": "stream",
     "text": [
      "Training-004 not found in CFM-ID results. Skipping.\n",
      "Training-005 not found in CFM-ID results. Skipping.\n",
      "Training-006 not found in CFM-ID results. Skipping.\n",
      "Training-054 not found in CFM-ID results. Skipping.\n"
     ]
    }
   ],
   "source": [
    "import fiora.IO.cfmReader as cfmReader\n",
    "# time CFM-ID 4: -> 12m16,571s\n",
    "\n",
    "cf = cfmReader.read(f\"{home}/data/metabolites/cfm-id/casmi16t_negative_predictions.txt\", as_df=True)\n",
    "cf_p = cfmReader.read(f\"{home}/data/metabolites/cfm-id/casmi16t_positive_predictions.txt\", as_df=True)\n",
    "cf = pd.concat([cf, cf_p])\n",
    "len(cf[cf[\"#ID\"] == \"Challenge-009\"]) ## missing chalenges\n",
    "df_cast[\"cfm_peaks\"] = None\n",
    "df_cast[[\"cfm_cosine\", \"cfm_sqrt_cosine\", \"ice_sqrt_cosine_wo_prec\", \"cfm_refl_cosine\"]] = np.nan\n",
    "for i, cas in df_cast.iterrows():\n",
    "    challenge = cas[\"ChallengeName\"]\n",
    "\n",
    "    if len(cf[cf[\"#ID\"] == challenge]) != 1:\n",
    "        print(f\"{challenge} not found in CFM-ID results. Skipping.\")\n",
    "        continue\n",
    "    cfm_data = cf[cf[\"#ID\"] == challenge].iloc[0]\n",
    "    \n",
    "    \n",
    "    if cas[\"ChallengeName\"] != cfm_data[\"#ID\"]:\n",
    "        raise ValueError(\"Wrong challenge matched\")\n",
    "    cfm_peaks = cfm_data[\"peaks\" + cas[\"cfm_CE\"]] # find best reference CE\n",
    "    df_cast.at[i, \"cfm_peaks\"] = cfm_peaks\n",
    "    df_cast.at[i, \"cfm_cosine\"] = spectral_cosine(cas[\"peaks\"], cfm_peaks)\n",
    "    df_cast.at[i, \"cfm_sqrt_cosine\"] = spectral_cosine(cas[\"peaks\"], cfm_peaks, transform=np.sqrt)\n",
    "    df_cast.at[i, \"cfm_sqrt_cosine_wo_prec\"] = spectral_cosine(cas[\"peaks\"], cfm_peaks, transform=np.sqrt, remove_mz=cas[\"Metabolite\"].get_theoretical_precursor_mz(ion_type=cas[\"Metabolite\"].metadata[\"precursor_mode\"]))\n",
    "    df_cast.at[i, \"cfm_refl_cosine\"] = spectral_reflection_cosine(cas[\"peaks\"], cfm_peaks, transform=np.sqrt)\n",
    "    df_cast.at[i, \"cfm_steins\"] = reweighted_dot(cas[\"peaks\"], cfm_peaks)"
   ]
  },
  {
   "cell_type": "code",
   "execution_count": 19,
   "metadata": {},
   "outputs": [],
   "source": [
    "import fiora.IO.cfmReader as cfmReader\n",
    "# time CFM-ID 4: -> 12m16,571s\n",
    "\n",
    "\n",
    "\n",
    "cf22 = cfmReader.read(f\"{home}/data/metabolites/cfm-id/casmi22_negative_predictions.txt\", as_df=True)\n",
    "cf22_p = cfmReader.read(f\"{home}/data/metabolites/cfm-id/casmi22_positive_predictions.txt\", as_df=True)\n",
    "cf22 = pd.concat([cf22, cf22_p])\n",
    "df_cas22[\"cfm_peaks\"] = None\n",
    "df_cas22[[\"cfm_cosine\", \"cfm_sqrt_cosine\", \"cfm_refl_cosine\"]] = np.nan\n",
    "for i, cas in df_cas22.iterrows():\n",
    "    challenge = cas[\"ChallengeName\"]\n",
    "\n",
    "    if len(cf22[cf22[\"#ID\"] == challenge]) != 1:\n",
    "        print(f\"{challenge} not found in CFM-ID results. Skipping.\")\n",
    "        continue\n",
    "    cfm_data = cf22[cf22[\"#ID\"] == challenge].iloc[0]\n",
    "    \n",
    "    \n",
    "    if cas[\"ChallengeName\"] != cfm_data[\"#ID\"]:\n",
    "        raise ValueError(\"Wrong challenge matched\")\n",
    "    cfm_peaks = cfm_data[\"peaks\" + cas[\"cfm_CE\"]] # find best reference CE\n",
    "    df_cas22.at[i, \"cfm_peaks\"] = cfm_peaks\n",
    "    df_cas22.at[i, \"cfm_cosine\"] = spectral_cosine(cas[\"peaks\"], cfm_peaks)\n",
    "    df_cas22.at[i, \"cfm_sqrt_cosine\"] = spectral_cosine(cas[\"peaks\"], cfm_peaks, transform=np.sqrt)\n",
    "    df_cas22.at[i, \"cfm_sqrt_cosine_wo_prec\"] = spectral_cosine(cas[\"peaks\"], cfm_peaks, transform=np.sqrt, remove_mz=cas[\"Metabolite\"].get_theoretical_precursor_mz(ion_type=cas[\"Metabolite\"].metadata[\"precursor_mode\"]))\n",
    "    df_cas22.at[i, \"cfm_refl_cosine\"] = spectral_reflection_cosine(cas[\"peaks\"], cfm_peaks, transform=np.sqrt)\n",
    "    df_cas22.at[i, \"cfm_steins\"] = reweighted_dot(cas[\"peaks\"], cfm_peaks)\n",
    "    \n",
    "df_cas22[\"is_priority\"] = df_cas22[\"is_priority\"].astype(bool)"
   ]
  },
  {
   "cell_type": "code",
   "execution_count": 20,
   "metadata": {},
   "outputs": [],
   "source": [
    "\n",
    "ex_smiles = \"CC(NC(=O)CC1=CNC2=C1C=CC=C2)C(O)=O\"\n",
    "ex_metabolite = Metabolite(ex_smiles)\n",
    "ex_compound_id = df_test[df_test[\"Metabolite\"] == ex_metabolite][\"group_id\"].iloc[0]\n",
    "\n"
   ]
  },
  {
   "cell_type": "code",
   "execution_count": 21,
   "metadata": {},
   "outputs": [
    {
     "name": "stdout",
     "output_type": "stream",
     "text": [
      "Indole-3-acetyl-L-alanine (143842): cosine 0.91\n"
     ]
    },
    {
     "data": {
      "image/png": "[encoded data removed]",
      "text/plain": [
       "<Figure size 1280x420 with 2 Axes>"
      ]
     },
     "metadata": {},
     "output_type": "display_data"
    },
    {
     "name": "stdout",
     "output_type": "stream",
     "text": [
      "Indole-3-acetyl-L-alanine (292876): cosine 0.97\n"
     ]
    },
    {
     "data": {
      "image/png": "[encoded data removed]",
      "text/plain": [
       "<Figure size 1280x420 with 2 Axes>"
      ]
     },
     "metadata": {},
     "output_type": "display_data"
    }
   ],
   "source": [
    "from fiora.visualization.define_colors import reset_matplotlib\n",
    "reset_matplotlib()\n",
    "for i, data in df_test[df_test[\"group_id\"] == ex_compound_id].iterrows():\n",
    "    cosine = data[\"spectral_sqrt_cosine\"]\n",
    "    name = data[\"Name\"]\n",
    "    #t3 = data[\"tanimoto3\"]\n",
    "    print(f\"{name} ({i}): cosine {cosine:0.2}\")\n",
    "    # print(f\"{name} ({i}): cosine {t3}\") only possible after tanimoto calculation below\n",
    "\n",
    "    fig, axs = plt.subplots(1, 2, figsize=(12.8, 4.2), gridspec_kw={'width_ratios': [1, 3]}, sharey=False)\n",
    "    img = data[\"Metabolite\"].draw(ax= axs[0])\n",
    "\n",
    "    #axs[0].grid(False)\n",
    "    axs[0].tick_params(axis='both', bottom=False, labelbottom=False, left=False, labelleft=False) \n",
    "    axs[0].set_title(data[\"Name\"])\n",
    "    #axs[0].imshow(img)\n",
    "    #axs[0].axis(\"off\")\n",
    "    #sv.plot_spectrum(example, ax=axs[1])\n",
    "    ax = sv.plot_spectrum(data, {\"peaks\": data[\"sim_peaks\"]}, ax=axs[1], highlight_matches=False)\n",
    "    # fig.savefig(f\"{home}/images/paper/example_mirror_id{i}.png\", format=\"png\", dpi=600, bbox_inches='tight', pad_inches=0.1)\n",
    "    # fig.savefig(f\"{home}/images/paper/example_mirror_id{i}.pdf\", format=\"pdf\", dpi=600, bbox_inches='tight', pad_inches=0.1)\n",
    "    # fig.savefig(f\"{home}/images/paper/example_mirror_id{i}.svg\", format=\"svg\", dpi=600, bbox_inches='tight', pad_inches=0.1)\n",
    "    plt.show()\n"
   ]
  },
  {
   "cell_type": "code",
   "execution_count": 22,
   "metadata": {},
   "outputs": [],
   "source": [
    "\n",
    "paths = {\"[M-H]-\": f\"{home}/data/metabolites/cfm-id/test_pred_neg/\", \"[M+H]+\": f\"{home}/data/metabolites/cfm-id/test_pred_pos/\"}\n",
    "df_test[\"cfm_CE\"] = df_test[\"CE\"].apply(closest_cfm_ce)\n",
    "df_test[\"cfm_peaks\"] = None\n",
    "df_test[[\"cfm_cosine\", \"cfm_sqrt_cosine\", \"cfm_refl_cosine\"]] = np.nan\n",
    "for i, data in df_test.iterrows():\n",
    "    group_id = data[\"group_id\"]\n",
    "    p = paths[data[\"Precursor_type\"]] + str(int(group_id)) + \".txt\"\n",
    "    cfm_data = cfmReader.read(p, as_df=True)\n",
    "    \n",
    "    # TODO Check smiles / MOL\n",
    "    if cfm_data.shape == (0, 0): # Not predicted by CFM-ID\n",
    "        continue\n",
    "        \n",
    "    cfm_peaks = cfm_data[\"peaks\" + data[\"cfm_CE\"]].iloc[0]\n",
    "\n",
    "    df_test.at[i, \"cfm_peaks\"] = cfm_peaks\n",
    "    df_test.at[i, \"cfm_cosine\"] = spectral_cosine(data[\"peaks\"], cfm_peaks)\n",
    "    df_test.at[i, \"cfm_sqrt_cosine\"] = spectral_cosine(data[\"peaks\"], cfm_peaks, transform=np.sqrt)\n",
    "    df_test.at[i, \"cfm_sqrt_cosine_wo_prec\"] = spectral_cosine(data[\"peaks\"], cfm_peaks, transform=np.sqrt, remove_mz=cas[\"Metabolite\"].get_theoretical_precursor_mz(ion_type=cas[\"Metabolite\"].metadata[\"precursor_mode\"]))\n",
    "    df_test.at[i, \"cfm_refl_cosine\"] = spectral_reflection_cosine(data[\"peaks\"], cfm_peaks, transform=np.sqrt)\n",
    "    df_test.at[i, \"cfm_steins\"] = reweighted_dot(data[\"peaks\"], cfm_peaks)\n"
   ]
  },
  {
   "cell_type": "markdown",
   "metadata": {},
   "source": [
    "#### ICEBERG / SCARF\n",
    "Load spectra predicted by ICEBERG and SCARF by Goldman et. al (2023). Prediction via: https://github.com/samgoldman97/ms-pred "
   ]
  },
  {
   "cell_type": "code",
   "execution_count": 23,
   "metadata": {},
   "outputs": [],
   "source": [
    "# This section is dedicated to generate the reference libraries and inputs for CFM-ID and ICEBERG. \n",
    "# Turn on only if training or test datasets change.\n",
    "\n",
    "\n",
    "# CFM-ID query input\n",
    "if False:\n",
    "    file = f\"{home}/data/metabolites/cfm-id/test_split_negative_solutions_cfm.txt\"\n",
    "    df_test[\"group_id\"] = df_test[\"group_id\"].astype(int)\n",
    "    df_test[df_test[\"Precursor_type\"] == \"[M-H]-\"][[\"group_id\", \"SMILES\"]].drop_duplicates(\"group_id\").to_csv(file, index=False, header=False, sep=\" \")\n",
    "    file = file.replace(\"negative\", \"positive\")\n",
    "    df_test[df_test[\"Precursor_type\"] == \"[M+H]+\"][[\"group_id\", \"SMILES\"]].drop_duplicates(\"group_id\").to_csv(file, index=False, header=False, sep=\" \")\n",
    "\n",
    "# ICEBERG/SCARF training/testing input\n",
    "if False:\n",
    "    # OLD # df_test[\"idx\"] = [f\"spec{i}\" for i,_ in df_test.iterrows()]\n",
    "    df_test[\"num\"] = df_test.groupby(\"group_id\").cumcount() + 1\n",
    "    df_test[\"idx\"] = \"spec\" + df_test[\"group_id\"].astype(int).astype(str) + \"_\" + df_test[\"num\"].astype(str)\n",
    "\n",
    "    \n",
    "    #df_train[\"dataset_label\"] = \"df_test\"\n",
    "    label_map = {\"idx\": \"spec\", \"Name\": \"name\", \"Precursor_type\": \"ionization\", \"SMILES\": \"smiles\", \"InChIKey\": \"inchikey\"}\n",
    "    df_test[\"formula\"] = df_test[\"Metabolite\"].apply(lambda x: x.Formula)\n",
    "    df_test[\"InChIKey\"] = df_test[\"Metabolite\"].apply(lambda x: x.InChIKey)\n",
    "    #import fiora.IO.mspredWriter as mspredWriter WRITER bugged?\n",
    "    #mspredWriter.write_labels(df_test[df_test[\"Precursor_type\"] == \"[M+H]+\"], f\"{home}/data/metabolites/ms-pred/df_test.tsv\", label_map=label_map)\n",
    "    \n",
    "    df_test[df_test[\"Precursor_type\"] == \"[M+H]+\"].rename(columns=label_map)[[\"dataset\", \"spec\", \"name\", \"ionization\", \"formula\", \"smiles\", \"inchikey\"]].to_csv(f\"{home}/data/metabolites/ms-pred/df_test.tsv\", index=False, sep=\"\\t\")\n",
    "\n",
    "if False:\n",
    "    # ## CASMI\n",
    "    # # prepare output for ICEBERG and SCARF\n",
    "    # # from rdkit import Chem\n",
    "    # # from rdkit.Chem import rdMolDescriptors\n",
    "    label_map = {\"idx\": \"spec\", \"Precursor_type\": \"ionization\", \"SMILES\": \"smiles\", \"InChIKey\": \"inchikey\"}\n",
    "    df_cas22[\"idx\"] = [f\"spec{i}\" for i,_ in df_cas22.iterrows()]\n",
    "    df_cas22[\"name\"] = \"Unknown\"\n",
    "    df_cas22[\"InChIKey\"] = df_cas22[\"Metabolite\"].apply(lambda x: x.InChIKey)\n",
    "    df_cas22[\"formula\"] = df_cas22[\"Metabolite\"].apply(lambda x: x.Formula)\n",
    "    \n",
    "    output_file = f\"{home}/data/metabolites/ms-pred/casmi22_positive_labels.tsv\"\n",
    "    df_cas22[df_cas22[\"Precursor_type\"] == \"[M+H]+\"].rename(columns=label_map)[[\"dataset\", \"spec\", \"name\", \"formula\", \"ionization\",\t\"smiles\", \"inchikey\"]].to_csv(output_file, index=False, sep=\"\\t\")\n",
    "    \n",
    "    # # ### CASMI-16 labels were generated in Casmi16 loader. Avoiding repeat here.\n",
    "    \n",
    "    \n",
    "    \n",
    "    # df_test[\"MOL\"] = df_test[\"SMILES\"].apply(Chem.MolFromSmiles)\n",
    "    # df_test[\"formula\"] = df_test[\"MOL\"].apply(rdMolDescriptors.CalcMolFormula)\n",
    "    # df_test[\"dataset\"] = \"df_test\"\n",
    "    # df_test = df_test.rename(columns={\"FILE\": \"spec\", \"ChallengeName\": \"name\", \"Precursor_type\": \"ionization\", \"SMILES\": \"smiles\", \"INCHIKEY\": \"inchikey\"})\n",
    "    \n",
    "    # output_file = f\"{home}/data/metabolites/ms-pred/casmi16_positive_labels.tsv\"\n",
    "    #df[df[\"ionization\"] == \"[M+H]+\"][[\"dataset\", \"spec\", \"name\", \"formula\", \"ionization\",\t\"smiles\", \"inchikey\"]].to_csv(output_file, index=False, sep=\"\\t\")\n",
    "\n",
    "\n",
    "##### SAVE TRAINING SET IN MS_PRED FORMAT\n",
    "# # Write training set to specific ICEBERG format\n",
    "# import fiora.IO.mspredWriter as mspredWriter\n",
    "# # calls rename(columns=header_map)\n",
    "# header_map = {\"dataset_label\": \"dataset\", \"idx\": \"spec\", \"Name\": \"name\",  \"Precursor_type\": \"ionization\"}\n",
    "# df_train[\"dataset_label\"] = \"df_train\"\n",
    "# df_train[\"num\"] = df_train.groupby(\"group_id\").cumcount() + 1\n",
    "# df_train[\"idx\"] = \"spec\" + df_train[\"group_id\"].astype(str) + \"_\" + df_train[\"num\"].astype(str) #df_train[\"idx\"] = [f\"spec{i}\" for i in range(0, len(df_train))]\n",
    "\n",
    "# # Note: [M-H]- precursors lead to errors with ICEBERG/magma. Also: Sn (tin) element and Au (gold) causes error. Needs manual removal.\n",
    "\n",
    "# df_train[\"ice_error\"] = df_train[\"Metabolite\"].apply(lambda x: (\"Sn\" in x.SMILES) or (\"Au\" in x.SMILES) )\n",
    "# df_train = df_train[~df_train[\"ice_error\"]]\n",
    "# mspredWriter.write_dataset(df_train[df_train[\"Precursor_type\"] == \"[M+H]+\"], f\"{home}/repos/ms-pred/data/spec_datasets/df_train/\", label_map=header_map)\n",
    "\n",
    "\n",
    "# d = f\"{home}/repos/ms-pred/data/spec_datasets/df_train_wErrors/magma_outputs/magma_tsv\"\n",
    "# import os\n",
    "\n",
    "# # In order to rerun without errors, select only spec that doesn't cause an error. (requires running magma with the whole dataset first)\n",
    "# working = set([s.split(\".\")[0] for s in os.listdir(d)])\n",
    "#mspredWriter.write_dataset(df_train[df_train[\"idx\"].apply(lambda x: x in working)], f\"{home}/repos/ms-pred/data/spec_datasets/df_train/\", label_map=header_map)\n",
    "\n",
    "# # Create split.tsv\n",
    "# df_split = df_train[[\"idx\", \"dataset\"]].copy() #df_train[df_train[\"idx\"].apply(lambda x: x in working)][[\"idx\", \"dataset\"]].copy()\n",
    "# df_split = df_split.rename(columns={\"idx\": \"spec\", \"dataset\": \"Fold_0\"})\n",
    "# df_split[\"Fold_0\"] = df_split[\"Fold_0\"].str.replace(\"validation\", \"val\")\n",
    "# df_split[\"Fold_0\"] = df_split[\"Fold_0\"].str.replace(\"training\", \"train\")\n",
    "# df_split.to_csv(f\"{home}/repos/ms-pred/data/spec_datasets/df_train/splits/split1.tsv\", index=False, sep=\"\\t\")\n",
    "\n",
    "# Dataframes to ms-pred input format\n",
    "\n"
   ]
  },
  {
   "cell_type": "code",
   "execution_count": 24,
   "metadata": {},
   "outputs": [
    {
     "data": {
      "text/plain": [
       "5312"
      ]
     },
     "execution_count": 24,
     "metadata": {},
     "output_type": "execute_result"
    }
   ],
   "source": [
    "sum(df_test[\"Precursor_type\"] == \"[M+H]+\")"
   ]
  },
  {
   "cell_type": "code",
   "execution_count": 25,
   "metadata": {},
   "outputs": [
    {
     "data": {
      "text/plain": [
       "(5312, 103)"
      ]
     },
     "execution_count": 25,
     "metadata": {},
     "output_type": "execute_result"
    }
   ],
   "source": [
    "df_test[df_test[\"Precursor_type\"] == \"[M+H]+\"].shape"
   ]
  },
  {
   "cell_type": "code",
   "execution_count": 26,
   "metadata": {},
   "outputs": [],
   "source": [
    "# AND AGAIN\n",
    "# time . data_scripts/y_all_assign_subform.sh: 2045m34,408s\n",
    "# time . data_scripts/dag/y_run_magma.sh: 1351m24,188s\n",
    "# 48272 spec\n",
    "# time bash run_scripts/dag_model/01_run_dag_gen_train.sh: 1911m46,370s (on GPU)\n",
    "# time python run_scripts/dag_model/02_sweep_gen_thresh.py: 0s\n",
    "# time bash run_scripts/dag_model/03_run_dag_gen_predict.sh: 296m24,160s (-> only 32960 spec) # Maybe try again here\n",
    "# time bash run_scripts/dag_model/04_train_dag_inten.sh: ... 3251m49,794s\n",
    "# --- TEST ---\n",
    "# time bash quickstart/iceberg/test_df_model.sh   (CASMIs)\n",
    "# + run iceberg demo\n",
    "# 11m28,192s + 35m 6s\n",
    "\n",
    "\n",
    "\n",
    "\n",
    "\n",
    "\n",
    "# Rerunning EVERYTHING AGAIN (avoiding crashes this time, fingers crossed)\n",
    "# \n",
    "# time . data_scripts/y_all_assign_subform.sh: 2471m28,695s\n",
    "# time . data_scripts/dag/y_run_magma.sh: 1810m9,266s \n",
    "# 64222 spec\n",
    "#\n",
    "# time bash run_scripts/dag_model/01_run_dag_gen_train.sh: 1151m8,021s\n",
    "# time python run_scripts/dag_model/02_sweep_gen_thresh.py: 0s\n",
    "# time bash run_scripts/dag_model/03_run_dag_gen_predict.sh: 585m29,891s\n",
    "# time bash run_scripts/dag_model/04_train_dag_inten.sh: 2406m53,876s\n",
    "# --------\n",
    "# Test predictions\n",
    "#\n",
    "# Casmi 16: 1m40,373s\n",
    "# All: 80m48,594s (crashed no attribute max fragment depth)\n",
    "# df_test extra: 459.5min\n",
    "\n",
    "\n",
    "\n",
    "# raise KeyboardInterrupt(\"HALT\")\n",
    "#\n",
    "# Retraining on my dataset\n",
    "# run_magma: 1853m13,787s -> has ~1000 missing but 64222/65285 calculated (>98%).\n",
    "# assign_all_subformulae: 2487m16,694s 65285 specs calculated\n",
    "# 01 dag train: 66117.73s\n",
    "# 02 sweep: 0\n",
    "# 03 dag_gen_predict: 405m21,170s (with crash)\n",
    "# 04 \n",
    "\n",
    "\n",
    "# v1.0.0 doesn't allow proper retraining, many scripts missing. \n",
    "# -> Running on commit: update scarf figs to \\pm SEM, instead of confidence -> f56d601e843351e4bdfe0e173d65e8105a1\n",
    "# run magma took: 347m20,902s\n",
    "# run subformula: 620m54,021s\n",
    "# run 01dag train: 37967.52s -> 10,5h\n",
    "# run 03_run_dag_gen_predict 6692.45s 112m9,625s # Note: the right version must be explicitly named in the config file.\n",
    "# run 04_inten train 786m57,268s\n",
    "\n",
    "\n",
    "# Just positives CASMI16. ICEBERG took 98.5s (--gpu threw error though)\n",
    "#raise KeyboardInterrupt()\n"
   ]
  },
  {
   "cell_type": "code",
   "execution_count": 27,
   "metadata": {},
   "outputs": [],
   "source": [
    "# # Training set used for ICEBERG/SCARF public model\n",
    "# ice_train_path = f\"{home}/repos/ms-pred/data/spec_datasets/canopus_train_public/labels.tsv\"\n",
    "\n",
    "# icy = pd.read_csv(ice_train_path, sep=\"\\t\")\n",
    "# icy[\"Metabolite\"] = icy[\"smiles\"].apply(Metabolite)\n",
    "# ## Available open-source ICEBERG/SCARF models unfortunately violate with our test/train separation\n",
    "# iii = []\n",
    "# xxx = []\n",
    "# for i,d in df_cas.iterrows():\n",
    "#     m = d[\"Metabolite\"]\n",
    "    \n",
    "#     for x,D in icy.iterrows():\n",
    "#         M = D[\"Metabolite\"]\n",
    "#         if (m == M):\n",
    "#             iii += [i]\n",
    "#             xxx += [x]       \n",
    "# iii = np.unique(iii)  \n",
    "# print(f\"Found {len(iii)} instances violating test/train split. Metabolite found in train/val set.\") # out of 123\n",
    "# print(f\"Dropping {len(xxx)} spectra from training DataFrame.\")"
   ]
  },
  {
   "cell_type": "code",
   "execution_count": 28,
   "metadata": {},
   "outputs": [],
   "source": [
    "import fiora.IO.mspredReader as mspredReader \n",
    "iceberg_dir = f\"{home}/repos/ms-pred/results/test_out/casmi16/tree_preds_inten\"\n",
    "df_ice = mspredReader.read(iceberg_dir)\n",
    "df_ice = df_ice.rename(columns={\"peaks\": \"ice_peaks\", \"name\": \"ice_name\"})\n",
    "\n",
    "\n",
    "df_cas = pd.merge(df_cas, df_ice[[\"ice_name\", \"ice_peaks\"]], left_on='ChallengeName', right_on='ice_name', how='left')\n",
    "\n",
    "df_cas[[\"ice_cosine\", \"ice_sqrt_cosine\", \"ice_sqrt_cosine_wo_prec\", \"ice_refl_cosine\"]] = np.nan\n",
    "for i, data in df_cas[df_cas[\"Precursor_type\"] == \"[M+H]+\"].iterrows():\n",
    "\n",
    "    df_cas.at[i, \"ice_cosine\"] = spectral_cosine(data[\"peaks\"], data[\"ice_peaks\"])\n",
    "    df_cas.at[i, \"ice_sqrt_cosine\"] = spectral_cosine(data[\"peaks\"], data[\"ice_peaks\"], transform=np.sqrt)\n",
    "    df_cas.at[i, \"ice_sqrt_cosine_wo_prec\"] = spectral_cosine(data[\"peaks\"], data[\"ice_peaks\"], transform=np.sqrt, remove_mz=data[\"Metabolite\"].get_theoretical_precursor_mz(ion_type=data[\"Metabolite\"].metadata[\"precursor_mode\"]))\n",
    "    df_cas.at[i, \"ice_refl_cosine\"] = spectral_reflection_cosine(data[\"peaks\"], data[\"ice_peaks\"], transform=np.sqrt)\n",
    "    df_cas.at[i, \"ice_steins\"] = reweighted_dot(data[\"peaks\"], data[\"ice_peaks\"])\n"
   ]
  },
  {
   "cell_type": "code",
   "execution_count": 29,
   "metadata": {},
   "outputs": [],
   "source": [
    "import fiora.IO.mspredReader as mspredReader \n",
    "iceberg_dir = f\"{home}/repos/ms-pred/results/test_out/casmi16t/tree_preds_inten\"\n",
    "df_ice = mspredReader.read(iceberg_dir)\n",
    "df_ice = df_ice.rename(columns={\"peaks\": \"ice_peaks\", \"name\": \"ice_name\"})\n",
    "\n",
    "\n",
    "df_cast = pd.merge(df_cast, df_ice[[\"ice_name\", \"ice_peaks\"]], left_on='ChallengeName', right_on='ice_name', how='left')"
   ]
  },
  {
   "cell_type": "code",
   "execution_count": 30,
   "metadata": {},
   "outputs": [],
   "source": [
    "df_cast[[\"ice_cosine\", \"ice_sqrt_cosine\", \"ice_sqrt_cosine_wo_prec\" \"ice_refl_cosine\"]] = np.nan\n",
    "for i, data in df_cast[df_cast[\"Precursor_type\"] == \"[M+H]+\"].iterrows():\n",
    "\n",
    "    df_cast.at[i, \"ice_cosine\"] = spectral_cosine(data[\"peaks\"], data[\"ice_peaks\"])\n",
    "    df_cast.at[i, \"ice_sqrt_cosine\"] = spectral_cosine(data[\"peaks\"], data[\"ice_peaks\"], transform=np.sqrt)\n",
    "    df_cast.at[i, \"ice_sqrt_cosine_wo_prec\"] = spectral_cosine(data[\"peaks\"], data[\"ice_peaks\"], transform=np.sqrt, remove_mz=data[\"Metabolite\"].get_theoretical_precursor_mz(ion_type=data[\"Metabolite\"].metadata[\"precursor_mode\"]))\n",
    "    df_cast.at[i, \"ice_refl_cosine\"] = spectral_reflection_cosine(data[\"peaks\"], data[\"ice_peaks\"], transform=np.sqrt)\n",
    "    df_cast.at[i, \"ice_steins\"] = reweighted_dot(data[\"peaks\"], data[\"ice_peaks\"])"
   ]
  },
  {
   "cell_type": "code",
   "execution_count": 31,
   "metadata": {},
   "outputs": [],
   "source": [
    "iceberg_dir = f\"{home}/repos/ms-pred/results/test_out/casmi22/tree_preds_inten\"\n",
    "df_ice = mspredReader.read(iceberg_dir)\n",
    "df_ice = df_ice.rename(columns={\"peaks\": \"ice_peaks\", \"name\": \"ice_name\"})\n",
    "\n",
    "df_cas22[\"idx\"] = [f\"spec{i}\" for i,_ in df_cas22.iterrows()]\n",
    "df_cas22 = pd.merge(df_cas22, df_ice[[\"ice_name\", \"ice_peaks\"]], left_on='idx', right_on='ice_name', how='left')"
   ]
  },
  {
   "cell_type": "code",
   "execution_count": 32,
   "metadata": {},
   "outputs": [],
   "source": [
    "\n",
    "\n",
    "df_cas22[[\"ice_cosine\", \"ice_sqrt_cosine\", \"ice_sqrt_cosine_wo_prec\", \"ice_refl_cosine\"]] = np.nan\n",
    "for i, data in df_cas22[df_cas22[\"Precursor_type\"] == \"[M+H]+\"].iterrows():\n",
    "    #print(i, data[\"ice_peaks\"], data[\"ice_peaks\"] is not np.nan)\n",
    "    if data[\"ice_peaks\"] is not np.nan:\n",
    "        df_cas22.at[i, \"ice_cosine\"] = spectral_cosine(data[\"peaks\"], data[\"ice_peaks\"])\n",
    "        df_cas22.at[i, \"ice_sqrt_cosine\"] = spectral_cosine(data[\"peaks\"], data[\"ice_peaks\"], transform=np.sqrt)\n",
    "        df_cas22.at[i, \"ice_sqrt_cosine_wo_prec\"] = spectral_cosine(data[\"peaks\"], data[\"ice_peaks\"], transform=np.sqrt, remove_mz=data[\"Metabolite\"].get_theoretical_precursor_mz(ion_type=data[\"Metabolite\"].metadata[\"precursor_mode\"]))\n",
    "        df_cas22.at[i, \"ice_refl_cosine\"] = spectral_reflection_cosine(data[\"peaks\"], data[\"ice_peaks\"], transform=np.sqrt)\n",
    "        df_cas22.at[i, \"ice_steins\"] = reweighted_dot(data[\"peaks\"], data[\"ice_peaks\"])"
   ]
  },
  {
   "cell_type": "code",
   "execution_count": 33,
   "metadata": {},
   "outputs": [],
   "source": [
    "iceberg_dir = f\"{home}/repos/ms-pred/results/test_out/df_test/tree_preds_inten\"\n",
    "df_ice = mspredReader.read(iceberg_dir)\n",
    "df_ice = df_ice.rename(columns={\"peaks\": \"ice_peaks\", \"name\": \"ice_name\"})"
   ]
  },
  {
   "cell_type": "code",
   "execution_count": 34,
   "metadata": {},
   "outputs": [
    {
     "data": {
      "text/html": [
       "<div>\n",
       "<style scoped>\n",
       "    .dataframe tbody tr th:only-of-type {\n",
       "        vertical-align: middle;\n",
       "    }\n",
       "\n",
       "    .dataframe tbody tr th {\n",
       "        vertical-align: top;\n",
       "    }\n",
       "\n",
       "    .dataframe thead th {\n",
       "        text-align: right;\n",
       "    }\n",
       "</style>\n",
       "<table border=\"1\" class=\"dataframe\">\n",
       "  <thead>\n",
       "    <tr style=\"text-align: right;\">\n",
       "      <th></th>\n",
       "      <th>Name</th>\n",
       "      <th>Synon</th>\n",
       "      <th>Notes</th>\n",
       "      <th>Precursor_type</th>\n",
       "      <th>Spectrum_type</th>\n",
       "      <th>PrecursorMZ</th>\n",
       "      <th>Instrument_type</th>\n",
       "      <th>Instrument</th>\n",
       "      <th>Sample_inlet</th>\n",
       "      <th>Ionization</th>\n",
       "      <th>...</th>\n",
       "      <th>RT_pred</th>\n",
       "      <th>RT_dif</th>\n",
       "      <th>CCS_pred</th>\n",
       "      <th>cfm_CE</th>\n",
       "      <th>cfm_peaks</th>\n",
       "      <th>cfm_cosine</th>\n",
       "      <th>cfm_sqrt_cosine</th>\n",
       "      <th>cfm_refl_cosine</th>\n",
       "      <th>cfm_sqrt_cosine_wo_prec</th>\n",
       "      <th>cfm_steins</th>\n",
       "    </tr>\n",
       "  </thead>\n",
       "  <tbody>\n",
       "    <tr>\n",
       "      <th>2303</th>\n",
       "      <td>1-Hexadecanoyl-2-octadecadienoyl-sn-glycero-3-...</td>\n",
       "      <td>PC(16:0/18:2)</td>\n",
       "      <td>Consensus spectrum; Water/isopropanol/Formic a...</td>\n",
       "      <td>[M+H]+</td>\n",
       "      <td>MS2</td>\n",
       "      <td>758.5694</td>\n",
       "      <td>Q-TOF</td>\n",
       "      <td>Agilent QTOF 6530</td>\n",
       "      <td>direct flow injection</td>\n",
       "      <td>ESI</td>\n",
       "      <td>...</td>\n",
       "      <td>7.873124</td>\n",
       "      <td>NaN</td>\n",
       "      <td>337.370178</td>\n",
       "      <td>10</td>\n",
       "      <td>{'mz': [57.06988, 69.06988, 71.08553, 79.05423...</td>\n",
       "      <td>0.985510</td>\n",
       "      <td>0.829063</td>\n",
       "      <td>0.845697</td>\n",
       "      <td>0.829063</td>\n",
       "      <td>0.869913</td>\n",
       "    </tr>\n",
       "    <tr>\n",
       "      <th>2304</th>\n",
       "      <td>1-Hexadecanoyl-2-octadecadienoyl-sn-glycero-3-...</td>\n",
       "      <td>PC(16:0/18:2)</td>\n",
       "      <td>Consensus spectrum; Water/isopropanol/Formic a...</td>\n",
       "      <td>[M+H]+</td>\n",
       "      <td>MS2</td>\n",
       "      <td>758.5694</td>\n",
       "      <td>Q-TOF</td>\n",
       "      <td>Agilent QTOF 6530</td>\n",
       "      <td>direct flow injection</td>\n",
       "      <td>ESI</td>\n",
       "      <td>...</td>\n",
       "      <td>7.873124</td>\n",
       "      <td>NaN</td>\n",
       "      <td>337.370178</td>\n",
       "      <td>10</td>\n",
       "      <td>{'mz': [57.06988, 69.06988, 71.08553, 79.05423...</td>\n",
       "      <td>0.922285</td>\n",
       "      <td>0.783443</td>\n",
       "      <td>0.823865</td>\n",
       "      <td>0.783443</td>\n",
       "      <td>0.850190</td>\n",
       "    </tr>\n",
       "  </tbody>\n",
       "</table>\n",
       "<p>2 rows × 103 columns</p>\n",
       "</div>"
      ],
      "text/plain": [
       "                                                   Name          Synon  \\\n",
       "2303  1-Hexadecanoyl-2-octadecadienoyl-sn-glycero-3-...  PC(16:0/18:2)   \n",
       "2304  1-Hexadecanoyl-2-octadecadienoyl-sn-glycero-3-...  PC(16:0/18:2)   \n",
       "\n",
       "                                                  Notes Precursor_type  \\\n",
       "2303  Consensus spectrum; Water/isopropanol/Formic a...         [M+H]+   \n",
       "2304  Consensus spectrum; Water/isopropanol/Formic a...         [M+H]+   \n",
       "\n",
       "     Spectrum_type  PrecursorMZ Instrument_type         Instrument  \\\n",
       "2303           MS2     758.5694           Q-TOF  Agilent QTOF 6530   \n",
       "2304           MS2     758.5694           Q-TOF  Agilent QTOF 6530   \n",
       "\n",
       "               Sample_inlet Ionization  ...   RT_pred RT_dif    CCS_pred  \\\n",
       "2303  direct flow injection        ESI  ...  7.873124    NaN  337.370178   \n",
       "2304  direct flow injection        ESI  ...  7.873124    NaN  337.370178   \n",
       "\n",
       "     cfm_CE                                          cfm_peaks  cfm_cosine  \\\n",
       "2303     10  {'mz': [57.06988, 69.06988, 71.08553, 79.05423...    0.985510   \n",
       "2304     10  {'mz': [57.06988, 69.06988, 71.08553, 79.05423...    0.922285   \n",
       "\n",
       "      cfm_sqrt_cosine  cfm_refl_cosine  cfm_sqrt_cosine_wo_prec  cfm_steins  \n",
       "2303         0.829063         0.845697                 0.829063    0.869913  \n",
       "2304         0.783443         0.823865                 0.783443    0.850190  \n",
       "\n",
       "[2 rows x 103 columns]"
      ]
     },
     "execution_count": 34,
     "metadata": {},
     "output_type": "execute_result"
    }
   ],
   "source": [
    "df_test.head(2)"
   ]
  },
  {
   "cell_type": "code",
   "execution_count": 35,
   "metadata": {},
   "outputs": [
    {
     "data": {
      "text/html": [
       "<div>\n",
       "<style scoped>\n",
       "    .dataframe tbody tr th:only-of-type {\n",
       "        vertical-align: middle;\n",
       "    }\n",
       "\n",
       "    .dataframe tbody tr th {\n",
       "        vertical-align: top;\n",
       "    }\n",
       "\n",
       "    .dataframe thead th {\n",
       "        text-align: right;\n",
       "    }\n",
       "</style>\n",
       "<table border=\"1\" class=\"dataframe\">\n",
       "  <thead>\n",
       "    <tr style=\"text-align: right;\">\n",
       "      <th></th>\n",
       "      <th>file</th>\n",
       "      <th>ice_name</th>\n",
       "      <th>ice_peaks</th>\n",
       "    </tr>\n",
       "  </thead>\n",
       "  <tbody>\n",
       "    <tr>\n",
       "      <th>0</th>\n",
       "      <td>pred_spec689_1.json</td>\n",
       "      <td>spec689_1</td>\n",
       "      <td>{'mz': [758.5694316020002, 103.099165456, 104....</td>\n",
       "    </tr>\n",
       "    <tr>\n",
       "      <th>1</th>\n",
       "      <td>pred_spec689_2.json</td>\n",
       "      <td>spec689_2</td>\n",
       "      <td>{'mz': [758.5694316020002, 103.099165456, 104....</td>\n",
       "    </tr>\n",
       "  </tbody>\n",
       "</table>\n",
       "</div>"
      ],
      "text/plain": [
       "                  file   ice_name  \\\n",
       "0  pred_spec689_1.json  spec689_1   \n",
       "1  pred_spec689_2.json  spec689_2   \n",
       "\n",
       "                                           ice_peaks  \n",
       "0  {'mz': [758.5694316020002, 103.099165456, 104....  \n",
       "1  {'mz': [758.5694316020002, 103.099165456, 104....  "
      ]
     },
     "execution_count": 35,
     "metadata": {},
     "output_type": "execute_result"
    }
   ],
   "source": [
    "iceberg_dir = f\"{home}/repos/ms-pred/results/test_out/df_test/tree_preds_inten\"\n",
    "df_ice = mspredReader.read(iceberg_dir)\n",
    "df_ice = df_ice.rename(columns={\"peaks\": \"ice_peaks\", \"name\": \"ice_name\"})\n",
    "# df_ice[\"ice_idx\"] = df_ice[\"ice_name\"].str.extract(r'spec(\\d+)', expand=False).astype(int)\n",
    "df_ice.head(2)"
   ]
  },
  {
   "cell_type": "code",
   "execution_count": 36,
   "metadata": {},
   "outputs": [],
   "source": [
    "# iceberg_dir = f\"{home}/repos/ms-pred/results/test_out/df_test/tree_preds_inten\"\n",
    "# df_ice = mspredReader.read(iceberg_dir)\n",
    "# df_ice = df_ice.rename(columns={\"peaks\": \"ice_peaks\", \"name\": \"ice_name\"})\n",
    "\n",
    "# df_test[\"idx\"] = [f\"spec{i}\" for i,_ in df_test.iterrows()]\n",
    "# df_test = pd.merge(df_test, df_ice[[\"ice_name\", \"ice_peaks\"]], left_on='idx', right_on='ice_name', how='left')\n",
    "# df_test.index = df_test[\"idx\"].str.extract(r'spec(\\d+)', expand=False).astype(int)\n",
    "\n"
   ]
  },
  {
   "cell_type": "code",
   "execution_count": 37,
   "metadata": {},
   "outputs": [],
   "source": [
    "iceberg_dir = f\"{home}/repos/ms-pred/results/test_out/df_test/tree_preds_inten\"\n",
    "df_ice = mspredReader.read(iceberg_dir)\n",
    "df_ice = df_ice.rename(columns={\"peaks\": \"ice_peaks\", \"name\": \"ice_name\"})\n",
    "\n",
    "df_test[\"num\"] = df_test.groupby(\"group_id\").cumcount() + 1\n",
    "df_test[\"idx\"] = \"spec\" + df_test[\"group_id\"].astype(int).astype(str) + \"_\" + df_test[\"num\"].astype(str) #df_test[\"idx\"] = [f\"spec{i}\" for i,_ in df_test.iterrows()]\n",
    "ori_idx = df_test.index.copy()\n",
    "df_test = pd.merge(df_test, df_ice[[\"ice_name\", \"ice_peaks\"]], left_on='idx', right_on='ice_name', how='left')\n",
    "df_test.index = ori_idx\n",
    "#df_test.index = df_test[\"idx\"].str.extract(r'spec(\\d+)', expand=False).astype(int) TODO CHECK what happens to the index\n",
    "\n",
    "df_test[[\"ice_cosine\", \"ice_sqrt_cosine\", \"ice_sqrt_cosine_wo_prec\", \"ice_refl_cosine\"]] = np.nan\n",
    "for i, data in df_test[df_test[\"Precursor_type\"] == \"[M+H]+\"].iterrows():\n",
    "    try:\n",
    "        df_test.at[i, \"ice_cosine\"] = spectral_cosine(data[\"peaks\"], data[\"ice_peaks\"])\n",
    "        df_test.at[i, \"ice_sqrt_cosine\"] = spectral_cosine(data[\"peaks\"], data[\"ice_peaks\"], transform=np.sqrt)\n",
    "        df_test.at[i, \"ice_sqrt_cosine_wo_prec\"] = spectral_cosine(data[\"peaks\"], data[\"ice_peaks\"], transform=np.sqrt, remove_mz=data[\"Metabolite\"].get_theoretical_precursor_mz(ion_type=data[\"Metabolite\"].metadata[\"precursor_mode\"]))\n",
    "        df_test.at[i, \"ice_refl_cosine\"] = spectral_reflection_cosine(data[\"peaks\"], data[\"ice_peaks\"], transform=np.sqrt)\n",
    "        df_test.at[i, \"ice_steins\"] = reweighted_dot(data[\"peaks\"], data[\"ice_peaks\"])\n",
    "    except: pass"
   ]
  },
  {
   "cell_type": "code",
   "execution_count": 38,
   "metadata": {},
   "outputs": [
    {
     "data": {
      "text/plain": [
       "Index([  2303,   2304,   2305,   2306,   2307,   2308,   2309,   2310,   2311,\n",
       "         2312,\n",
       "       ...\n",
       "       311817, 311924, 311925, 311951, 312011, 312012, 312090, 312176, 312177,\n",
       "       312178],\n",
       "      dtype='int64', length=7438)"
      ]
     },
     "execution_count": 38,
     "metadata": {},
     "output_type": "execute_result"
    }
   ],
   "source": [
    "df_test.index"
   ]
  },
  {
   "cell_type": "code",
   "execution_count": 39,
   "metadata": {},
   "outputs": [
    {
     "data": {
      "text/plain": [
       "2303      spec689_1\n",
       "2304      spec689_2\n",
       "2305      spec689_3\n",
       "2306      spec689_4\n",
       "2307      spec689_5\n",
       "            ...    \n",
       "312012          NaN\n",
       "312090          NaN\n",
       "312176          NaN\n",
       "312177          NaN\n",
       "312178          NaN\n",
       "Name: ice_name, Length: 7438, dtype: object"
      ]
     },
     "execution_count": 39,
     "metadata": {},
     "output_type": "execute_result"
    }
   ],
   "source": [
    "df_test[\"ice_name\"]"
   ]
  },
  {
   "cell_type": "code",
   "execution_count": 40,
   "metadata": {},
   "outputs": [],
   "source": [
    "# from matplotlib import pyplot as plt\n",
    "# sv.plot_spectrum(df_cas22[df_cas22[\"Precursor_type\"] == \"[M+H]+\"].iloc[0], {\"peaks\": df_cas22[df_cas22[\"Precursor_type\"] == \"[M+H]+\"].iloc[0][\"ice_peaks\"]})\n",
    "# plt.title(\"ICEBERG example prediction\")\n",
    "# plt.show()"
   ]
  },
  {
   "cell_type": "code",
   "execution_count": 41,
   "metadata": {},
   "outputs": [
    {
     "data": {
      "image/png": "[encoded data removed]",
      "text/plain": [
       "<Figure size 600x350 with 1 Axes>"
      ]
     },
     "metadata": {},
     "output_type": "display_data"
    }
   ],
   "source": [
    "from matplotlib import pyplot as plt\n",
    "\n",
    "fig, ax = plt.subplots(figsize=(6,3.5))\n",
    "i = 81\n",
    "ax = sv.plot_spectrum(df_cas.iloc[i], {\"peaks\": df_cas.iloc[i][\"ice_peaks\"]}, title=df_cas.iloc[i][\"ChallengeName\"] + \" vs ICEBERG pred: \" + df_cas.iloc[i][\"ice_name\"], highlight_matches=False, with_grid=False, ax=ax)\n",
    "#ax.spines['bottom'].set_position(('outward', 10))\n",
    "plt.show()"
   ]
  },
  {
   "cell_type": "code",
   "execution_count": 42,
   "metadata": {},
   "outputs": [
    {
     "data": {
      "image/png": "[encoded data removed]",
      "text/plain": [
       "<Figure size 600x200 with 1 Axes>"
      ]
     },
     "metadata": {},
     "output_type": "display_data"
    }
   ],
   "source": [
    "# Test peak highlighting\n",
    "fig, ax = plt.subplots(figsize=(6, 2))\n",
    "sv.annotate_and_plot(df_cas.iloc[i], [140.093, 167.10, 85.05], with_grid=True, ax=ax)\n",
    "plt.show()"
   ]
  },
  {
   "cell_type": "code",
   "execution_count": 43,
   "metadata": {},
   "outputs": [
    {
     "data": {
      "text/plain": [
       "84"
      ]
     },
     "execution_count": 43,
     "metadata": {},
     "output_type": "execute_result"
    }
   ],
   "source": [
    "sum(df_test[df_test[\"Precursor_type\"] == \"[M+H]+\"][\"ice_sqrt_cosine\"].isna())"
   ]
  },
  {
   "cell_type": "code",
   "execution_count": 44,
   "metadata": {},
   "outputs": [],
   "source": [
    "# raise KeyboardInterrupt()"
   ]
  },
  {
   "cell_type": "code",
   "execution_count": 45,
   "metadata": {},
   "outputs": [
    {
     "name": "stdout",
     "output_type": "stream",
     "text": [
      "Summary test sets - split up\n"
     ]
    },
    {
     "data": {
      "text/html": [
       "<div>\n",
       "<style scoped>\n",
       "    .dataframe tbody tr th:only-of-type {\n",
       "        vertical-align: middle;\n",
       "    }\n",
       "\n",
       "    .dataframe tbody tr th {\n",
       "        vertical-align: top;\n",
       "    }\n",
       "\n",
       "    .dataframe thead th {\n",
       "        text-align: right;\n",
       "    }\n",
       "</style>\n",
       "<table border=\"1\" class=\"dataframe\">\n",
       "  <thead>\n",
       "    <tr style=\"text-align: right;\">\n",
       "      <th></th>\n",
       "      <th>model</th>\n",
       "      <th>Test+</th>\n",
       "      <th>Test-</th>\n",
       "      <th>CASMI16+</th>\n",
       "      <th>CASMI16-</th>\n",
       "      <th>CASMI16T+</th>\n",
       "      <th>CASMI16T-</th>\n",
       "      <th>CASMI22 P+</th>\n",
       "      <th>CASMI22 P-</th>\n",
       "      <th>CASMI22 B+</th>\n",
       "      <th>CASMI22 B-</th>\n",
       "    </tr>\n",
       "  </thead>\n",
       "  <tbody>\n",
       "    <tr>\n",
       "      <th>0</th>\n",
       "      <td>Fiora</td>\n",
       "      <td>0.833135</td>\n",
       "      <td>0.816082</td>\n",
       "      <td>0.694312</td>\n",
       "      <td>0.724661</td>\n",
       "      <td>0.817985</td>\n",
       "      <td>0.807431</td>\n",
       "      <td>0.288829</td>\n",
       "      <td>0.354794</td>\n",
       "      <td>0.260309</td>\n",
       "      <td>0.262185</td>\n",
       "    </tr>\n",
       "    <tr>\n",
       "      <th>1</th>\n",
       "      <td>CFM-ID 4.4.7</td>\n",
       "      <td>0.666676</td>\n",
       "      <td>0.565989</td>\n",
       "      <td>0.618544</td>\n",
       "      <td>0.589614</td>\n",
       "      <td>0.744901</td>\n",
       "      <td>0.606663</td>\n",
       "      <td>0.396259</td>\n",
       "      <td>0.270005</td>\n",
       "      <td>0.356241</td>\n",
       "      <td>0.306356</td>\n",
       "    </tr>\n",
       "    <tr>\n",
       "      <th>2</th>\n",
       "      <td>ICEBERG</td>\n",
       "      <td>0.716473</td>\n",
       "      <td>NaN</td>\n",
       "      <td>0.653837</td>\n",
       "      <td>NaN</td>\n",
       "      <td>0.733828</td>\n",
       "      <td>NaN</td>\n",
       "      <td>0.400240</td>\n",
       "      <td>NaN</td>\n",
       "      <td>0.337665</td>\n",
       "      <td>NaN</td>\n",
       "    </tr>\n",
       "  </tbody>\n",
       "</table>\n",
       "</div>"
      ],
      "text/plain": [
       "          model     Test+     Test-  CASMI16+  CASMI16-  CASMI16T+  CASMI16T-  \\\n",
       "0         Fiora  0.833135  0.816082  0.694312  0.724661   0.817985   0.807431   \n",
       "1  CFM-ID 4.4.7  0.666676  0.565989  0.618544  0.589614   0.744901   0.606663   \n",
       "2       ICEBERG  0.716473       NaN  0.653837       NaN   0.733828        NaN   \n",
       "\n",
       "   CASMI22 P+  CASMI22 P-  CASMI22 B+  CASMI22 B-  \n",
       "0    0.288829    0.354794    0.260309    0.262185  \n",
       "1    0.396259    0.270005    0.356241    0.306356  \n",
       "2    0.400240         NaN    0.337665         NaN  "
      ]
     },
     "execution_count": 45,
     "metadata": {},
     "output_type": "execute_result"
    }
   ],
   "source": [
    "score = \"spectral_sqrt_cosine\"\n",
    "avg_func = np.median\n",
    "fiora_res = {\n",
    "    \"model\": \"Fiora\", \"Test+\": avg_func(df_test[df_test[\"Precursor_type\"] == \"[M+H]+\"][score]), \"Test-\": avg_func(df_test[df_test[\"Precursor_type\"] == \"[M-H]-\"][score]), \"CASMI16+\": avg_func(df_cas[df_cas[\"Precursor_type\"] == \"[M+H]+\"][score]), \"CASMI16-\":avg_func(df_cas[df_cas[\"Precursor_type\"] == \"[M-H]-\"][score]), \"CASMI16T+\": avg_func(df_cast[df_cast[\"Precursor_type\"] == \"[M+H]+\"][score]), \"CASMI16T-\":avg_func(df_cast[df_cast[\"Precursor_type\"] == \"[M-H]-\"][score]), \"CASMI22 P+\": avg_func(df_cas22[(df_cas22[\"Precursor_type\"] == \"[M+H]+\") & df_cas22.is_priority][score]), \"CASMI22 P-\": avg_func(df_cas22[(df_cas22[\"Precursor_type\"] == \"[M-H]-\") & df_cas22.is_priority][score]), \"CASMI22 B+\": avg_func(df_cas22[(df_cas22[\"Precursor_type\"] == \"[M+H]+\") & ~df_cas22.is_priority][score]), \"CASMI22 B-\": avg_func(df_cas22[(df_cas22[\"Precursor_type\"] == \"[M-H]-\") & ~df_cas22.is_priority][score])\n",
    "             } \n",
    "cfm_id = {\n",
    "    \"model\": \"CFM-ID 4.4.7\", \"Test+\": avg_func(df_test[df_test[\"Precursor_type\"] == \"[M+H]+\"][score.replace(\"spectral\", \"cfm\")].fillna(0.0)), \"Test-\": avg_func(df_test[df_test[\"Precursor_type\"] == \"[M-H]-\"][score.replace(\"spectral\", \"cfm\")].fillna(0.0)), \"CASMI16+\": avg_func(df_cas[df_cas[\"Precursor_type\"] == \"[M+H]+\"][score.replace(\"spectral\", \"cfm\")].fillna(0.0)), \"CASMI16-\": avg_func(df_cas[df_cas[\"Precursor_type\"] == \"[M-H]-\"][score.replace(\"spectral\", \"cfm\")].fillna(0.0)), \"CASMI16T+\": avg_func(df_cast[df_cast[\"Precursor_type\"] == \"[M+H]+\"][score.replace(\"spectral\", \"cfm\")]), \"CASMI16T-\": avg_func(df_cast[df_cast[\"Precursor_type\"] == \"[M-H]-\"][score.replace(\"spectral\", \"cfm\")].fillna(0.0)), \"CASMI22 P+\": avg_func(df_cas22[(df_cas22[\"Precursor_type\"] == \"[M+H]+\") & df_cas22.is_priority][score.replace(\"spectral\", \"cfm\")]), \"CASMI22 P-\": avg_func(df_cas22[(df_cas22[\"Precursor_type\"] == \"[M-H]-\") & df_cas22.is_priority][score.replace(\"spectral\", \"cfm\")]), \"CASMI22 B+\": avg_func(df_cas22[(df_cas22[\"Precursor_type\"] == \"[M+H]+\") & ~df_cas22.is_priority][score.replace(\"spectral\", \"cfm\")]), \"CASMI22 B-\": avg_func(df_cas22[(df_cas22[\"Precursor_type\"] == \"[M-H]-\") & ~df_cas22.is_priority][score.replace(\"spectral\", \"cfm\")])\n",
    "} \n",
    "ice_res = {\n",
    "    \"model\": \"ICEBERG\", \"Test+\": avg_func(df_test[df_test[\"Precursor_type\"] == \"[M+H]+\"][score.replace(\"spectral\", \"ice\")].fillna(0.0)), \"CASMI16+\": avg_func(df_cas[df_cas[\"Precursor_type\"] == \"[M+H]+\"][score.replace(\"spectral\", \"ice\")].fillna(0.0)), \"CASMI16T+\": avg_func(df_cast[df_cast[\"Precursor_type\"] == \"[M+H]+\"][score.replace(\"spectral\", \"ice\")]), \"CASMI22 P+\": avg_func(df_cas22[(df_cas22[\"Precursor_type\"] == \"[M+H]+\") & df_cas22.is_priority][score.replace(\"spectral\", \"ice\")].fillna(0.0)), \"CASMI22 B+\": avg_func(df_cas22[(df_cas22[\"Precursor_type\"] == \"[M+H]+\") & ~df_cas22.is_priority][score.replace(\"spectral\", \"ice\")].fillna(0.0))\n",
    "} \n",
    "\n",
    "# ice_res = {\n",
    "#     \"model\": \"ICEBERG\", \"Test+\": avg_func(df_test[df_test[\"Precursor_type\"] == \"[M+H]+\"][score.replace(\"spectral\", \"ice\")].fillna(0.0)), \"CASMI16+\": avg_func(df_cas[df_cas[\"Precursor_type\"] == \"[M+H]+\"][score.replace(\"spectral\", \"ice\")].fillna(0.0)), \"CASMI22+\": avg_func(df_cas22[df_cas22[\"Precursor_type\"] == \"[M+H]+\"][score.replace(\"spectral\", \"ice\")].fillna(0.0))} \n",
    "\n",
    "\n",
    "\n",
    "summaryPos = pd.DataFrame( [fiora_res, cfm_id, ice_res])#, ice_res])\n",
    "print(\"Summary test sets - split up\")\n",
    "summaryPos"
   ]
  },
  {
   "cell_type": "code",
   "execution_count": 46,
   "metadata": {},
   "outputs": [
    {
     "data": {
      "text/plain": [
       "0      0.000000\n",
       "1      0.084200\n",
       "2      0.000000\n",
       "3      0.993200\n",
       "4      0.511959\n",
       "         ...   \n",
       "203    0.480330\n",
       "204    0.278111\n",
       "205    0.942653\n",
       "206    0.259418\n",
       "207    0.390570\n",
       "Name: spectral_sqrt_cosine_wo_prec, Length: 208, dtype: float64"
      ]
     },
     "execution_count": 46,
     "metadata": {},
     "output_type": "execute_result"
    }
   ],
   "source": [
    "df_cas[\"spectral_sqrt_cosine_wo_prec\"]"
   ]
  },
  {
   "cell_type": "code",
   "execution_count": 47,
   "metadata": {},
   "outputs": [
    {
     "name": "stdout",
     "output_type": "stream",
     "text": [
      "Summary test sets\n"
     ]
    },
    {
     "data": {
      "text/html": [
       "<div>\n",
       "<style scoped>\n",
       "    .dataframe tbody tr th:only-of-type {\n",
       "        vertical-align: middle;\n",
       "    }\n",
       "\n",
       "    .dataframe tbody tr th {\n",
       "        vertical-align: top;\n",
       "    }\n",
       "\n",
       "    .dataframe thead th {\n",
       "        text-align: right;\n",
       "    }\n",
       "</style>\n",
       "<table border=\"1\" class=\"dataframe\">\n",
       "  <thead>\n",
       "    <tr style=\"text-align: right;\">\n",
       "      <th></th>\n",
       "      <th>model</th>\n",
       "      <th>Test+</th>\n",
       "      <th>Test-</th>\n",
       "      <th>CASMI16+</th>\n",
       "      <th>CASMI16-</th>\n",
       "      <th>CASMI22+</th>\n",
       "      <th>CASMI22-</th>\n",
       "    </tr>\n",
       "  </thead>\n",
       "  <tbody>\n",
       "    <tr>\n",
       "      <th>0</th>\n",
       "      <td>Fiora</td>\n",
       "      <td>0.833135</td>\n",
       "      <td>0.816082</td>\n",
       "      <td>0.775715</td>\n",
       "      <td>0.784912</td>\n",
       "      <td>0.271006</td>\n",
       "      <td>0.309277</td>\n",
       "    </tr>\n",
       "    <tr>\n",
       "      <th>1</th>\n",
       "      <td>CFM-ID 4.4.7</td>\n",
       "      <td>0.666676</td>\n",
       "      <td>0.565989</td>\n",
       "      <td>0.704946</td>\n",
       "      <td>0.589614</td>\n",
       "      <td>0.376012</td>\n",
       "      <td>0.292884</td>\n",
       "    </tr>\n",
       "    <tr>\n",
       "      <th>2</th>\n",
       "      <td>ICEBERG</td>\n",
       "      <td>0.716473</td>\n",
       "      <td>NaN</td>\n",
       "      <td>0.709359</td>\n",
       "      <td>NaN</td>\n",
       "      <td>0.358571</td>\n",
       "      <td>0.000000</td>\n",
       "    </tr>\n",
       "  </tbody>\n",
       "</table>\n",
       "</div>"
      ],
      "text/plain": [
       "          model     Test+     Test-  CASMI16+  CASMI16-  CASMI22+  CASMI22-\n",
       "0         Fiora  0.833135  0.816082  0.775715  0.784912  0.271006  0.309277\n",
       "1  CFM-ID 4.4.7  0.666676  0.565989  0.704946  0.589614  0.376012  0.292884\n",
       "2       ICEBERG  0.716473       NaN  0.709359       NaN  0.358571  0.000000"
      ]
     },
     "execution_count": 47,
     "metadata": {},
     "output_type": "execute_result"
    }
   ],
   "source": [
    "## SIMPLIFIED\n",
    "score = \"spectral_sqrt_cosine\"\n",
    "avg_func = np.median\n",
    "\n",
    "df_cas = pd.concat([df_cas, df_cast])\n",
    "\n",
    "fiora_res = {\"model\": \"Fiora\", \"Test+\": avg_func(df_test[df_test[\"Precursor_type\"] == \"[M+H]+\"][score]), \"Test-\": avg_func(df_test[df_test[\"Precursor_type\"] == \"[M-H]-\"][score]), \"CASMI16+\": avg_func(df_cas[df_cas[\"Precursor_type\"] == \"[M+H]+\"][score]), \"CASMI16-\":avg_func(df_cas[df_cas[\"Precursor_type\"] == \"[M-H]-\"][score]), \"CASMI22+\": avg_func(df_cas22[df_cas22[\"Precursor_type\"] == \"[M+H]+\"][score]), \"CASMI22-\": avg_func(df_cas22[df_cas22[\"Precursor_type\"] == \"[M-H]-\"][score])} \n",
    "cfm_id = {\n",
    "    \"model\": \"CFM-ID 4.4.7\", \"Test+\": avg_func(df_test[df_test[\"Precursor_type\"] == \"[M+H]+\"][score.replace(\"spectral\", \"cfm\")].fillna(0.0)), \"Test-\": avg_func(df_test[df_test[\"Precursor_type\"] == \"[M-H]-\"][score.replace(\"spectral\", \"cfm\")].fillna(0.0)), \"CASMI16+\": avg_func(df_cas[df_cas[\"Precursor_type\"] == \"[M+H]+\"][score.replace(\"spectral\", \"cfm\")].fillna(0.0)), \"CASMI16-\": avg_func(df_cas[df_cas[\"Precursor_type\"] == \"[M-H]-\"][score.replace(\"spectral\", \"cfm\")].fillna(0.0)), \"CASMI22+\": avg_func(df_cas22[df_cas22[\"Precursor_type\"] == \"[M+H]+\"][score.replace(\"spectral\", \"cfm\")]), \"CASMI22-\": avg_func(df_cas22[df_cas22[\"Precursor_type\"] == \"[M-H]-\"][score.replace(\"spectral\", \"cfm\")])} \n",
    "ice_res = {\n",
    "    \"model\": \"ICEBERG\", \"Test+\": avg_func(df_test[df_test[\"Precursor_type\"] == \"[M+H]+\"][score.replace(\"spectral\", \"ice\")].fillna(0.0)),  \"CASMI16+\": avg_func(df_cas[df_cas[\"Precursor_type\"] == \"[M+H]+\"][score.replace(\"spectral\", \"ice\")].fillna(0.0)), \"CASMI22+\": avg_func(df_cas22[df_cas22[\"Precursor_type\"] == \"[M+H]+\"][score.replace(\"spectral\", \"ice\")].fillna(0.0)), \"CASMI22-\": avg_func(df_cas22[df_cas22[\"Precursor_type\"] == \"[M-H]-\"][score.replace(\"spectral\", \"ice\")].fillna(0.0))} \n",
    "#ice_res = {\n",
    "#    \"model\": \"ICEBERG\", \"Test+\": avg_func(df_test[df_test[\"Precursor_type\"] == \"[M+H]+\"][score.replace(\"spectral\", \"ice\")].fillna(0.0)), \"CASMI16+\": avg_func(df_cas[df_cas[\"Precursor_type\"] == \"[M+H]+\"][score.replace(\"spectral\", \"ice\")].fillna(0.0)), \"CASMI22+\": avg_func(df_cas22[df_cas22[\"Precursor_type\"] == \"[M+H]+\"][score.replace(\"spectral\", \"ice\")].fillna(0.0))} \n",
    "\n",
    "\n",
    "\n",
    "summaryPos = pd.DataFrame( [fiora_res, cfm_id, ice_res])\n",
    "print(\"Summary test sets\")\n",
    "summaryPos"
   ]
  },
  {
   "cell_type": "code",
   "execution_count": 48,
   "metadata": {},
   "outputs": [
    {
     "name": "stdout",
     "output_type": "stream",
     "text": [
      "Summary test sets - without precursor\n"
     ]
    },
    {
     "data": {
      "text/html": [
       "<div>\n",
       "<style scoped>\n",
       "    .dataframe tbody tr th:only-of-type {\n",
       "        vertical-align: middle;\n",
       "    }\n",
       "\n",
       "    .dataframe tbody tr th {\n",
       "        vertical-align: top;\n",
       "    }\n",
       "\n",
       "    .dataframe thead th {\n",
       "        text-align: right;\n",
       "    }\n",
       "</style>\n",
       "<table border=\"1\" class=\"dataframe\">\n",
       "  <thead>\n",
       "    <tr style=\"text-align: right;\">\n",
       "      <th></th>\n",
       "      <th>model</th>\n",
       "      <th>Test+</th>\n",
       "      <th>Test-</th>\n",
       "      <th>CASMI16+</th>\n",
       "      <th>CASMI16-</th>\n",
       "      <th>CASMI22+</th>\n",
       "      <th>CASMI22-</th>\n",
       "    </tr>\n",
       "  </thead>\n",
       "  <tbody>\n",
       "    <tr>\n",
       "      <th>0</th>\n",
       "      <td>Fiora</td>\n",
       "      <td>0.775257</td>\n",
       "      <td>0.728214</td>\n",
       "      <td>0.515326</td>\n",
       "      <td>0.332983</td>\n",
       "      <td>0.226367</td>\n",
       "      <td>0.298612</td>\n",
       "    </tr>\n",
       "    <tr>\n",
       "      <th>1</th>\n",
       "      <td>CFM-ID 4.4.7</td>\n",
       "      <td>0.667047</td>\n",
       "      <td>0.565828</td>\n",
       "      <td>0.488282</td>\n",
       "      <td>0.138129</td>\n",
       "      <td>0.339090</td>\n",
       "      <td>0.281469</td>\n",
       "    </tr>\n",
       "    <tr>\n",
       "      <th>2</th>\n",
       "      <td>ICEBERG</td>\n",
       "      <td>0.701749</td>\n",
       "      <td>NaN</td>\n",
       "      <td>0.555576</td>\n",
       "      <td>NaN</td>\n",
       "      <td>0.380744</td>\n",
       "      <td>NaN</td>\n",
       "    </tr>\n",
       "  </tbody>\n",
       "</table>\n",
       "</div>"
      ],
      "text/plain": [
       "          model     Test+     Test-  CASMI16+  CASMI16-  CASMI22+  CASMI22-\n",
       "0         Fiora  0.775257  0.728214  0.515326  0.332983  0.226367  0.298612\n",
       "1  CFM-ID 4.4.7  0.667047  0.565828  0.488282  0.138129  0.339090  0.281469\n",
       "2       ICEBERG  0.701749       NaN  0.555576       NaN  0.380744       NaN"
      ]
     },
     "execution_count": 48,
     "metadata": {},
     "output_type": "execute_result"
    }
   ],
   "source": [
    "score = \"spectral_sqrt_cosine_wo_prec\"\n",
    "avg_func = np.median\n",
    "\n",
    "df_cas = pd.concat([df_cas, df_cast])\n",
    "\n",
    "fiora_res = {\"model\": \"Fiora\", \"Test+\": avg_func(df_test[df_test[\"Precursor_type\"] == \"[M+H]+\"][score].fillna(0.0)), \"Test-\": avg_func(df_test[df_test[\"Precursor_type\"] == \"[M-H]-\"][score].fillna(0.0)), \"CASMI16+\": avg_func(df_cas[df_cas[\"Precursor_type\"] == \"[M+H]+\"][score].fillna(0.0)), \"CASMI16-\":avg_func(df_cas[df_cas[\"Precursor_type\"] == \"[M-H]-\"][score].fillna(0.0)), \"CASMI22+\": avg_func(df_cas22[df_cas22[\"Precursor_type\"] == \"[M+H]+\"][score].fillna(0.0)), \"CASMI22-\": avg_func(df_cas22[df_cas22[\"Precursor_type\"] == \"[M-H]-\"][score].fillna(0.0))} \n",
    "cfm_id = {\n",
    "    \"model\": \"CFM-ID 4.4.7\", \"Test+\": avg_func(df_test[df_test[\"Precursor_type\"] == \"[M+H]+\"][score.replace(\"spectral\", \"cfm\")].fillna(0.0)), \"Test-\": avg_func(df_test[df_test[\"Precursor_type\"] == \"[M-H]-\"][score.replace(\"spectral\", \"cfm\")].fillna(0.0)), \"CASMI16+\": avg_func(df_cas[df_cas[\"Precursor_type\"] == \"[M+H]+\"][score.replace(\"spectral\", \"cfm\")].fillna(0.0)), \"CASMI16-\": avg_func(df_cas[df_cas[\"Precursor_type\"] == \"[M-H]-\"][score.replace(\"spectral\", \"cfm\")].fillna(0.0)), \"CASMI22+\": avg_func(df_cas22[df_cas22[\"Precursor_type\"] == \"[M+H]+\"][score.replace(\"spectral\", \"cfm\")]), \"CASMI22-\": avg_func(df_cas22[df_cas22[\"Precursor_type\"] == \"[M-H]-\"][score.replace(\"spectral\", \"cfm\")])} \n",
    "ice_res = {\n",
    "    \"model\": \"ICEBERG\", \"Test+\": avg_func(df_test[df_test[\"Precursor_type\"] == \"[M+H]+\"][score.replace(\"spectral\", \"ice\")].fillna(0.0)),  \"CASMI16+\": avg_func(df_cas[df_cas[\"Precursor_type\"] == \"[M+H]+\"][score.replace(\"spectral\", \"ice\")].fillna(0.0)), \"CASMI22+\": avg_func(df_cas22[df_cas22[\"Precursor_type\"] == \"[M+H]+\"][score.replace(\"spectral\", \"ice\")].fillna(0.0))} \n",
    "\n",
    "summaryPos = pd.DataFrame( [fiora_res, cfm_id, ice_res])\n",
    "print(\"Summary test sets - without precursor\")\n",
    "summaryPos"
   ]
  },
  {
   "cell_type": "code",
   "execution_count": 53,
   "metadata": {},
   "outputs": [
    {
     "data": {
      "image/png": "[encoded data removed]",
      "text/plain": [
       "<Figure size 800x1000 with 5 Axes>"
      ]
     },
     "metadata": {},
     "output_type": "display_data"
    }
   ],
   "source": [
    "### Stacked spectra plot\n",
    "\n",
    "def stacked_spectrum(data):\n",
    "    name_tags = [\"Fiora\", \"ICEBERG\", \"CFM-ID\"]\n",
    "    peak_tags = [\"sim_peaks\", \"ice_peaks\", \"cfm_peaks\"]\n",
    "    scores = [(\"spectral_sqrt_cosine\", \"spectral_sqrt_cosine_wo_prec\"), (\"ice_sqrt_cosine\", \"ice_sqrt_cosine_wo_prec\"), (\"cfm_sqrt_cosine\", \"cfm_sqrt_cosine_wo_prec\")]\n",
    "    peak_colors = [\"blue\", \"red\", \"gray\"]\n",
    "\n",
    "    spec_height, spec_width = 2, 8\n",
    "    \n",
    "    fig, axs = plt.subplots(len(peak_tags) + 2, 1, figsize=(spec_width, spec_height * (len(peak_tags) + 2)),  sharex=False) # gridspec_kw={'width_ratios': [1, 3]}\n",
    "    img = data[\"Metabolite\"].draw(ax= axs[0])\n",
    "    sv.plot_spectrum(data, highlight_matches=False, ppm_tolerance=200, ax=axs[1])\n",
    "    \n",
    "    axs[1].text(0.02, 0.9, \"Experimental spectrum\", transform=axs[1].transAxes,\n",
    "               fontsize=11, verticalalignment='top')\n",
    "    for i, tag in enumerate(peak_tags):\n",
    "        try: \n",
    "            ax = axs[i + 2]\n",
    "            sv.plot_spectrum({\"peaks\": data[tag]}, ax=ax, color=peak_colors[i])\n",
    "            #ax.legend(title=name_tags[i], loc=\"upper left\", labels=scores[i])\n",
    "            textstr = '\\n'.join((\n",
    "                        f'$\\\\bf{{{name_tags[i]}}}$',\n",
    "                        f'Cosine:    {data[scores[i][0]]:.2f}',\n",
    "                        f'w/o prec: {data[scores[i][1]]:.2f}'))\n",
    "\n",
    "\n",
    "            ax.text(0.02, 0.9, textstr, transform=ax.transAxes,\n",
    "               fontsize=11, verticalalignment='top')#,\n",
    "               #bbox=dict(boxstyle='square,pad=0.5', facecolor='white', alpha=0.5))\n",
    "        except: continue\n",
    "    sv.set_default_peak_color(\"#212121\")\n",
    " \n",
    "stacked_spectrum(zzz.iloc[0])\n",
    "plt.show()"
   ]
  },
  {
   "cell_type": "code",
   "execution_count": null,
   "metadata": {},
   "outputs": [],
   "source": [
    "zzz = df_cas[df_cas[\"spectral_sqrt_cosine_wo_prec\"].isna()]\n",
    "\n",
    "for i, data in zzz.iterrows():\n",
    "    print(i)\n",
    "    try: \n",
    "        stacked_spectrum(data)\n",
    "        plt.show()\n",
    "        # fig, axs = plt.subplots(1, 2, figsize=(9,3), gridspec_kw={'width_ratios': [1, 3]}, sharey=False)\n",
    "        # img = data[\"Metabolite\"].draw(ax= axs[0])\n",
    "        # sv.plot_spectrum(data, {\"peaks\": data[\"ice_peaks\"]}, highlight_matches=False, ppm_tolerance=200, ax=axs[1])\n",
    "        # plt.show()\n",
    "    except:\n",
    "        pass\n",
    "    \n",
    "\n",
    "# Interesting spectra to look at with drastic changes from precursor removal-\n",
    "# 159, 93, 182, 124, 134, 205! (CASMI)\n",
    "# 6369! 13990 33153 62382 (Test split)"
   ]
  },
  {
   "cell_type": "code",
   "execution_count": 83,
   "metadata": {},
   "outputs": [
    {
     "name": "stdout",
     "output_type": "stream",
     "text": [
      "0.6044567037768566\n",
      "0.6277335717403005\n"
     ]
    }
   ],
   "source": [
    "print(df_cas[(df_cas[\"precursor_raw_prob\"] < 0.5) & (df_cas[\"Precursor_type\"] == \"[M+H]+\")][\"spectral_sqrt_cosine_wo_prec\"].median())\n",
    "print(df_cas[(df_cas[\"precursor_raw_prob\"] < 0.5) & (df_cas[\"Precursor_type\"] == \"[M+H]+\")][\"ice_sqrt_cosine_wo_prec\"].median())"
   ]
  },
  {
   "cell_type": "code",
   "execution_count": 88,
   "metadata": {},
   "outputs": [],
   "source": [
    "# df_test[\"precursor_raw_prob\"] = df_test[\"Metabolite\"].apply(lambda x: x.match_stats[\"precursor_raw_prob\"])\n",
    "# condition = ((df_test[\"spectral_sqrt_cosine\"] - df_test[\"ice_sqrt_cosine\"]) > 0.1) & ((df_test[\"spectral_sqrt_cosine_wo_prec\"].fillna(0.0) - df_test[\"ice_sqrt_cosine_wo_prec\"]) < -0.1) & (df_test[\"precursor_raw_prob\"] < 0.7)\n",
    "# zzz = df_test[condition]\n",
    "# print(zzz.shape)\n",
    "# for i, data in zzz.iterrows():\n",
    "#     print(i)\n",
    "#     try: \n",
    "#         stacked_spectrum(data)\n",
    "#         plt.show()\n",
    "#     except: continue"
   ]
  },
  {
   "cell_type": "code",
   "execution_count": null,
   "metadata": {},
   "outputs": [
    {
     "ename": "",
     "evalue": "",
     "output_type": "error",
     "traceback": [
      "\u001b[1;31mRunning cells with '/bin/python3' requires the ipykernel package.\n",
      "\u001b[1;31mRun the following command to install 'ipykernel' into the Python environment. \n",
      "\u001b[1;31mCommand: '/bin/python3 -m pip install ipykernel -U --user --force-reinstall'"
     ]
    }
   ],
   "source": [
    "# #df_cas22.groupby(\"is_priority\")[\"ChallengeName\"].apply(len)\n",
    "\n",
    "# print(\"CASMI 16+/-\")\n",
    "# result = df_cas.groupby([\"Precursor_type\", \"is_priority\"]).agg(\n",
    "#     num=(\"ChallengeName\", lambda x: len(x.unique())),\n",
    "#     cos=(\"spectral_sqrt_cosine\", \"median\")\n",
    "# )\n",
    "# print(result)\n",
    "\n",
    "\n",
    "# print(\"\\n-----------\\nCASMI 22+/-\")\n",
    "# result = df_cas22.groupby([\"Precursor_type\", \"is_priority\"]).agg(\n",
    "#     num=(\"ChallengeName\", lambda x: len(x.unique())),\n",
    "#     cos=(\"spectral_sqrt_cosine\", \"median\")\n",
    "# )\n",
    "# print(result)"
   ]
  },
  {
   "cell_type": "code",
   "execution_count": null,
   "metadata": {},
   "outputs": [
    {
     "ename": "",
     "evalue": "",
     "output_type": "error",
     "traceback": [
      "\u001b[1;31mRunning cells with '/bin/python3' requires the ipykernel package.\n",
      "\u001b[1;31mRun the following command to install 'ipykernel' into the Python environment. \n",
      "\u001b[1;31mCommand: '/bin/python3 -m pip install ipykernel -U --user --force-reinstall'"
     ]
    }
   ],
   "source": [
    "df_test.groupby(\"Precursor_type\").agg(num =(\"group_id\", lambda x: len(x.unique())))"
   ]
  },
  {
   "cell_type": "code",
   "execution_count": null,
   "metadata": {},
   "outputs": [
    {
     "ename": "",
     "evalue": "",
     "output_type": "error",
     "traceback": [
      "\u001b[1;31mRunning cells with '/bin/python3' requires the ipykernel package.\n",
      "\u001b[1;31mRun the following command to install 'ipykernel' into the Python environment. \n",
      "\u001b[1;31mCommand: '/bin/python3 -m pip install ipykernel -U --user --force-reinstall'"
     ]
    }
   ],
   "source": [
    "df_cas[df_cas[\"Precursor_type\"] == \"[M+H]+\"].shape"
   ]
  },
  {
   "cell_type": "markdown",
   "metadata": {},
   "source": [
    "#### Statistics"
   ]
  },
  {
   "cell_type": "code",
   "execution_count": null,
   "metadata": {},
   "outputs": [
    {
     "ename": "",
     "evalue": "",
     "output_type": "error",
     "traceback": [
      "\u001b[1;31mRunning cells with '/bin/python3' requires the ipykernel package.\n",
      "\u001b[1;31mRun the following command to install 'ipykernel' into the Python environment. \n",
      "\u001b[1;31mCommand: '/bin/python3 -m pip install ipykernel -U --user --force-reinstall'"
     ]
    }
   ],
   "source": [
    "from matplotlib import pyplot as plt\n",
    "import seaborn as sns\n",
    "from fiora.visualization.define_colors import *"
   ]
  },
  {
   "cell_type": "markdown",
   "metadata": {},
   "source": [
    "### UMAP"
   ]
  },
  {
   "cell_type": "code",
   "execution_count": null,
   "metadata": {},
   "outputs": [
    {
     "ename": "",
     "evalue": "",
     "output_type": "error",
     "traceback": [
      "\u001b[1;31mRunning cells with '/bin/python3' requires the ipykernel package.\n",
      "\u001b[1;31mRun the following command to install 'ipykernel' into the Python environment. \n",
      "\u001b[1;31mCommand: '/bin/python3 -m pip install ipykernel -U --user --force-reinstall'"
     ]
    }
   ],
   "source": [
    "df_test[\"group_id\"] = df_test[\"group_id\"].astype(int)\n",
    "df_test.drop_duplicates(\"group_id\", keep=\"first\")[[\"group_id\", \"SMILES\"]].to_csv(f\"{home}/data/metabolites/benchmarking/classyfire_input.csv\", header=None, sep=\" \", index=False)\n",
    "# Use classyfire via text interface to produce output csv: http://classyfire.wishartlab.com/#chemical-text-query"
   ]
  },
  {
   "cell_type": "code",
   "execution_count": null,
   "metadata": {},
   "outputs": [
    {
     "ename": "",
     "evalue": "",
     "output_type": "error",
     "traceback": [
      "\u001b[1;31mRunning cells with '/bin/python3' requires the ipykernel package.\n",
      "\u001b[1;31mRun the following command to install 'ipykernel' into the Python environment. \n",
      "\u001b[1;31mCommand: '/bin/python3 -m pip install ipykernel -U --user --force-reinstall'"
     ]
    }
   ],
   "source": [
    "compound_classes = pd.read_csv(f\"{home}/data/metabolites/benchmarking/classyfire_output.csv\")\n",
    "compound_classes[\"CompoundID\"] = pd.to_numeric(compound_classes[\"CompoundID\"], errors=\"coerce\", downcast=\"integer\")\n",
    "compound_classes[['Category', 'Value']] = compound_classes['ClassifiedResults'].str.split(':', n=1, expand=True)"
   ]
  },
  {
   "cell_type": "code",
   "execution_count": null,
   "metadata": {},
   "outputs": [
    {
     "ename": "",
     "evalue": "",
     "output_type": "error",
     "traceback": [
      "\u001b[1;31mRunning cells with '/bin/python3' requires the ipykernel package.\n",
      "\u001b[1;31mRun the following command to install 'ipykernel' into the Python environment. \n",
      "\u001b[1;31mCommand: '/bin/python3 -m pip install ipykernel -U --user --force-reinstall'"
     ]
    }
   ],
   "source": [
    "\n",
    "compound_classes[\"Value\"] = compound_classes[\"Value\"].fillna('')\n",
    "compound_classes = compound_classes.groupby(['CompoundID', 'Category'])['Value'].agg(','.join).unstack()\n",
    "compound_classes.reset_index(inplace=True)\n",
    "compound_classes.columns.name = None"
   ]
  },
  {
   "cell_type": "code",
   "execution_count": null,
   "metadata": {},
   "outputs": [
    {
     "ename": "",
     "evalue": "",
     "output_type": "error",
     "traceback": [
      "\u001b[1;31mRunning cells with '/bin/python3' requires the ipykernel package.\n",
      "\u001b[1;31mRun the following command to install 'ipykernel' into the Python environment. \n",
      "\u001b[1;31mCommand: '/bin/python3 -m pip install ipykernel -U --user --force-reinstall'"
     ]
    }
   ],
   "source": [
    "compound_classes.head(2)"
   ]
  },
  {
   "cell_type": "code",
   "execution_count": null,
   "metadata": {},
   "outputs": [
    {
     "ename": "",
     "evalue": "",
     "output_type": "error",
     "traceback": [
      "\u001b[1;31mRunning cells with '/bin/python3' requires the ipykernel package.\n",
      "\u001b[1;31mRun the following command to install 'ipykernel' into the Python environment. \n",
      "\u001b[1;31mCommand: '/bin/python3 -m pip install ipykernel -U --user --force-reinstall'"
     ]
    }
   ],
   "source": [
    "num_classes = len(compound_classes[\"Superclass\"].unique())\n",
    "superclass_map = dict(zip(compound_classes[\"Superclass\"].unique(), range(0, num_classes)))"
   ]
  },
  {
   "cell_type": "code",
   "execution_count": null,
   "metadata": {},
   "outputs": [
    {
     "ename": "",
     "evalue": "",
     "output_type": "error",
     "traceback": [
      "\u001b[1;31mRunning cells with '/bin/python3' requires the ipykernel package.\n",
      "\u001b[1;31mRun the following command to install 'ipykernel' into the Python environment. \n",
      "\u001b[1;31mCommand: '/bin/python3 -m pip install ipykernel -U --user --force-reinstall'"
     ]
    }
   ],
   "source": [
    "test_embeddings = []\n",
    "test_classes = []\n",
    "test_cclasses = []\n",
    "colors = []\n",
    "classmap = {}\n",
    "supermap = {}\n",
    "submap = {}\n",
    "pal = sns.color_palette(\"viridis\", num_classes)\n",
    "\n",
    "for i, d in df_test.drop_duplicates(\"group_id\", keep=\"first\").iterrows():\n",
    "    metabolite = d[\"Metabolite\"]\n",
    "    group_id = d[\"group_id\"]\n",
    "    superclass = compound_classes[compound_classes[\"CompoundID\"] == group_id].iloc[0][\"Superclass\"]\n",
    "    subclass = compound_classes[compound_classes[\"CompoundID\"] == group_id].iloc[0][\"Subclass\"]\n",
    "    cclass = compound_classes[compound_classes[\"CompoundID\"] == group_id].iloc[0][\"Class\"]\n",
    "\n",
    "    supermap[group_id] = superclass\n",
    "    classmap[group_id] = cclass\n",
    "    submap[group_id] = subclass\n",
    "\n",
    "    data = metabolite.as_geometric_data(with_labels=False).to(dev)\n",
    "    batch = geom.data.Batch.from_data_list([data])\n",
    "    embedding = model.get_graph_embedding(batch)\n",
    "    test_embeddings += [embedding.flatten().cpu().detach().numpy()]\n",
    "    test_classes += [superclass]\n",
    "    test_cclasses += [cclass]\n",
    "\n",
    "    colors += [pal[superclass_map[superclass]]]\n",
    "\n",
    "\n",
    "df_test[\"Superclass\"] = df_test[\"group_id\"].map(supermap)\n",
    "df_test[\"Class\"] = df_test[\"group_id\"].map(classmap)\n",
    "df_test[\"Subclass\"] = df_test[\"group_id\"].map(submap)\n"
   ]
  },
  {
   "cell_type": "code",
   "execution_count": null,
   "metadata": {},
   "outputs": [
    {
     "ename": "",
     "evalue": "",
     "output_type": "error",
     "traceback": [
      "\u001b[1;31mRunning cells with '/bin/python3' requires the ipykernel package.\n",
      "\u001b[1;31mRun the following command to install 'ipykernel' into the Python environment. \n",
      "\u001b[1;31mCommand: '/bin/python3 -m pip install ipykernel -U --user --force-reinstall'"
     ]
    }
   ],
   "source": [
    "raise KeyboardInterrupt()\n",
    "# top = df_test.drop_duplicates(\"group_id\", keep=\"first\")[\"Superclass\"].value_counts().index[:8]\n",
    "# test_classes = [t if t in top  else \" Other\" for t in test_classes]"
   ]
  },
  {
   "cell_type": "code",
   "execution_count": null,
   "metadata": {},
   "outputs": [
    {
     "ename": "",
     "evalue": "",
     "output_type": "error",
     "traceback": [
      "\u001b[1;31mRunning cells with '/bin/python3' requires the ipykernel package.\n",
      "\u001b[1;31mRun the following command to install 'ipykernel' into the Python environment. \n",
      "\u001b[1;31mCommand: '/bin/python3 -m pip install ipykernel -U --user --force-reinstall'"
     ]
    }
   ],
   "source": [
    "lipid_index = np.where(np.array(test_classes) == ' Lipids and lipid-like molecules')"
   ]
  },
  {
   "cell_type": "code",
   "execution_count": null,
   "metadata": {},
   "outputs": [
    {
     "ename": "",
     "evalue": "",
     "output_type": "error",
     "traceback": [
      "\u001b[1;31mRunning cells with '/bin/python3' requires the ipykernel package.\n",
      "\u001b[1;31mRun the following command to install 'ipykernel' into the Python environment. \n",
      "\u001b[1;31mCommand: '/bin/python3 -m pip install ipykernel -U --user --force-reinstall'"
     ]
    }
   ],
   "source": [
    "# e = reducer.transform(test_embeddings)"
   ]
  },
  {
   "cell_type": "code",
   "execution_count": null,
   "metadata": {},
   "outputs": [
    {
     "ename": "",
     "evalue": "",
     "output_type": "error",
     "traceback": [
      "\u001b[1;31mRunning cells with '/bin/python3' requires the ipykernel package.\n",
      "\u001b[1;31mRun the following command to install 'ipykernel' into the Python environment. \n",
      "\u001b[1;31mCommand: '/bin/python3 -m pip install ipykernel -U --user --force-reinstall'"
     ]
    }
   ],
   "source": [
    "df_test.drop_duplicates(\"group_id\", keep=\"first\")[\"Superclass\"].value_counts()"
   ]
  },
  {
   "cell_type": "code",
   "execution_count": null,
   "metadata": {},
   "outputs": [
    {
     "ename": "",
     "evalue": "",
     "output_type": "error",
     "traceback": [
      "\u001b[1;31mRunning cells with '/bin/python3' requires the ipykernel package.\n",
      "\u001b[1;31mRun the following command to install 'ipykernel' into the Python environment. \n",
      "\u001b[1;31mCommand: '/bin/python3 -m pip install ipykernel -U --user --force-reinstall'"
     ]
    }
   ],
   "source": [
    "np.unique(test_classes)"
   ]
  },
  {
   "cell_type": "code",
   "execution_count": null,
   "metadata": {},
   "outputs": [
    {
     "ename": "",
     "evalue": "",
     "output_type": "error",
     "traceback": [
      "\u001b[1;31mRunning cells with '/bin/python3' requires the ipykernel package.\n",
      "\u001b[1;31mRun the following command to install 'ipykernel' into the Python environment. \n",
      "\u001b[1;31mCommand: '/bin/python3 -m pip install ipykernel -U --user --force-reinstall'"
     ]
    }
   ],
   "source": [
    "\n",
    "\n",
    "# for i in range(5, 31, 5): # 7 or 8 neighbors or 20 to 25 neighbors\n",
    "#     print(i)\n",
    "#     reducer = umap.UMAP(n_neighbors=i, min_dist=0.1, metric=\"euclidean\", random_state=0, n_jobs=1) # 43, 50, 51, 52, 54! looks nice\n",
    "#     reducer.fit(test_embeddings)\n",
    "#     e = reducer.transform(test_embeddings)\n",
    "\n",
    "#     fig, ax = plt.subplots(1,1, figsize=(8,8))\n",
    "#     scatter = sns.scatterplot(ax=ax,\n",
    "#         x=e[:, 0],\n",
    "#         y=e[:, 1],\n",
    "#         hue=test_classes, edgecolor='white')# s=30,, hue_order=np.unique(test_classes)[::-1])#, order=[' Organic acids and derivatives', ' Organoheterocyclic compounds', ' Benzenoids', ' Alkaloids and derivatives', ' Phenylpropanoids and polyketides', ])#, palette=sns.color_palette(\"colorblind\") + [\"black\", \"gray\", \"white\"])\n",
    "#     legend = ax.legend(loc='lower left', bbox_to_anchor=(1, 0.5))\n",
    "#     #plt.gca().set_aspect('equal', 'datalim')\n",
    "#     ax.set_aspect('equal', 'datalim')\n",
    "#     #ax.set_ylim([4, 12])\n",
    "#     # fig.savefig(f\"{home}/images/paper/umap.svg\", format=\"svg\", dpi=600, bbox_inches='tight', pad_inches=0.1)\n",
    "#     # fig.savefig(f\"{home}/images/paper/umap.png\", format=\"png\", dpi=600, bbox_inches='tight', pad_inches=0.1)\n",
    "\n",
    "#     # Get the legend handles and labels\n",
    "#     handles = legend.legend_handles\n",
    "\n",
    "#     # Get the facecolors from the legend handles (for scatter plot markers)\n",
    "#     legend_colors = [handle.get_color() for handle in handles]# if isinstance(handle, matplotlib.patches.PathPatch)]\n",
    "\n",
    "#     plt.show()"
   ]
  },
  {
   "cell_type": "code",
   "execution_count": null,
   "metadata": {},
   "outputs": [
    {
     "ename": "",
     "evalue": "",
     "output_type": "error",
     "traceback": [
      "\u001b[1;31mRunning cells with '/bin/python3' requires the ipykernel package.\n",
      "\u001b[1;31mRun the following command to install 'ipykernel' into the Python environment. \n",
      "\u001b[1;31mCommand: '/bin/python3 -m pip install ipykernel -U --user --force-reinstall'"
     ]
    }
   ],
   "source": [
    "import matplotlib\n",
    "import umap\n",
    "\n",
    "reset_matplotlib()\n",
    "reducer = umap.UMAP(n_neighbors=20, min_dist=0.1, random_state=0, n_jobs=1) # creates different umaps despite fixed seed. Reason probably pytorch.\n",
    "reducer.fit(test_embeddings)\n",
    "e = reducer.transform(test_embeddings)\n",
    "\n",
    "fig, ax = plt.subplots(1,1, figsize=(8,8))\n",
    "scatter = sns.scatterplot(ax=ax,\n",
    "    x=e[:, 0],\n",
    "    y=e[:, 1],\n",
    "    hue=test_classes, edgecolor=\"white\", linewidth=0.48, s=40, palette=sns.color_palette(\"husl\", 13), style=test_classes, markers=[\"o\", (4,0, 45), \"D\", \"v\", \"p\", (4,1,0), \"X\"])# markers=[\"o\", \"*\", \"s\", \"^\", \"D\", \"h\", (4,1,0),\"v\", \"X\", \"P\", \"p\", \"<\", (4,0, 45)] s=30,, hue_order=np.unique(test_classes)[::-1])#, order=[' Organic acids and derivatives', ' Organoheterocyclic compounds', ' Benzenoids', ' Alkaloids and derivatives', ' Phenylpropanoids and polyketides', ])#, palette=sns.color_palette(\"colorblind\") + [\"black\", \"gray\", \"white\"])\n",
    "legend = ax.legend(loc='lower left', bbox_to_anchor=(1, 0.5))\n",
    "#plt.gca().set_aspect('equal', 'datalim')\n",
    "#plt.ylim([-2.50,13])\n",
    "#plt.xlim([-2.50,13])\n",
    "ax.set_aspect('equal', 'datalim')\n",
    "print(ax.get_xlim())\n",
    "ax.set_xlim((4.18, 14.15))\n",
    "ax.set_ylim(ax.get_xlim())\n",
    "# Get the default marker size\n",
    "default_marker_size = ax.collections[0].get_sizes()[0]\n",
    "\n",
    "# Print the default marker size\n",
    "print(\"Default marker size:\", default_marker_size)\n",
    "#ax.set_ylim([4, 12])\n",
    "# fig.savefig(f\"{home}/images/paper/umap_alt2.svg\", format=\"svg\", dpi=600, bbox_inches='tight', pad_inches=0.1)\n",
    "# fig.savefig(f\"{home}/images/paper/umap_alt2.png\", format=\"png\", dpi=600, bbox_inches='tight', pad_inches=0.1)\n",
    "\n",
    "# Get the default line width (edges)\n",
    "default_line_width = ax.collections[0].get_linewidths()[0]\n",
    "\n",
    "# Print the default line width\n",
    "print(\"Default line width (edges):\", default_line_width)\n",
    "\n",
    "# Get the legend handles and labels\n",
    "handles = legend.legend_handles\n",
    "\n",
    "# Get the facecolors from the legend handles (for scatter plot markers)\n",
    "legend_colors = [handle.get_color() for handle in handles]# if isinstance(handle, matplotlib.patches.PathPatch)]\n",
    "\n",
    "\n",
    "plt.show()"
   ]
  },
  {
   "cell_type": "code",
   "execution_count": null,
   "metadata": {},
   "outputs": [
    {
     "ename": "",
     "evalue": "",
     "output_type": "error",
     "traceback": [
      "\u001b[1;31mRunning cells with '/bin/python3' requires the ipykernel package.\n",
      "\u001b[1;31mRun the following command to install 'ipykernel' into the Python environment. \n",
      "\u001b[1;31mCommand: '/bin/python3 -m pip install ipykernel -U --user --force-reinstall'"
     ]
    }
   ],
   "source": [
    "import matplotlib\n",
    "import umap\n",
    "\n",
    "reset_matplotlib()\n",
    "reducer = umap.UMAP(n_neighbors=20, min_dist=0.1, random_state=0, n_jobs=1) # creates different umaps despite fixed seed. Reason probably pytorch.\n",
    "reducer.fit(test_embeddings)\n",
    "e = reducer.transform(test_embeddings)\n",
    "\n",
    "fig, ax = plt.subplots(1,1, figsize=(8,8))\n",
    "scatter = sns.scatterplot(ax=ax,\n",
    "    x=e[lipid_index[0], 0],\n",
    "    y=e[lipid_index[0], 1],\n",
    "    hue=np.array(test_cclasses)[lipid_index[0]], edgecolor=\"white\", linewidth=0.48, s=40, palette=sns.color_palette(\"husl\", 6), style=np.array(test_cclasses)[lipid_index[0]], markers=[\"o\", (4,0, 45), \"D\", \"v\", \"p\", (4,1,0), \"X\"])# markers=[\"o\", \"*\", \"s\", \"^\", \"D\", \"h\", (4,1,0),\"v\", \"X\", \"P\", \"p\", \"<\", (4,0, 45)] s=30,, hue_order=np.unique(test_classes)[::-1])#, order=[' Organic acids and derivatives', ' Organoheterocyclic compounds', ' Benzenoids', ' Alkaloids and derivatives', ' Phenylpropanoids and polyketides', ])#, palette=sns.color_palette(\"colorblind\") + [\"black\", \"gray\", \"white\"])\n",
    "legend = ax.legend(loc='lower left', bbox_to_anchor=(1, 0.5))\n",
    "#plt.gca().set_aspect('equal', 'datalim')\n",
    "#plt.ylim([-2.50,13])\n",
    "#plt.xlim([-2.50,13])\n",
    "ax.set_aspect('equal', 'datalim')\n",
    "# Get the default marker size\n",
    "default_marker_size = ax.collections[0].get_sizes()[0]\n",
    "\n",
    "# Print the default marker size\n",
    "print(\"Default marker size:\", default_marker_size)\n",
    "#ax.set_ylim([4, 12])\n",
    "#fig.savefig(f\"{home}/images/paper/umap_lipids_global.png\", format=\"png\", dpi=600, bbox_inches='tight', pad_inches=0.1)\n",
    "\n",
    "# Get the default line width (edges)\n",
    "default_line_width = ax.collections[0].get_linewidths()[0]\n",
    "\n",
    "# Print the default line width\n",
    "print(\"Default line width (edges):\", default_line_width)\n",
    "\n",
    "# Get the legend handles and labels\n",
    "handles = legend.legend_handles\n",
    "\n",
    "# Get the facecolors from the legend handles (for scatter plot markers)\n",
    "legend_colors = [handle.get_color() for handle in handles]# if isinstance(handle, matplotlib.patches.PathPatch)]\n",
    "\n",
    "# fig.savefig(f\"{home}/images/paper/umap_lipids_global.svg\", format=\"svg\", dpi=600, bbox_inches='tight', pad_inches=0.1)\n",
    "# fig.savefig(f\"{home}/images/paper/umap_lipids_global.pdf\", format=\"pdf\", dpi=600, bbox_inches='tight', pad_inches=0.1)\n",
    "\n",
    "plt.show()"
   ]
  },
  {
   "cell_type": "code",
   "execution_count": null,
   "metadata": {},
   "outputs": [
    {
     "ename": "",
     "evalue": "",
     "output_type": "error",
     "traceback": [
      "\u001b[1;31mRunning cells with '/bin/python3' requires the ipykernel package.\n",
      "\u001b[1;31mRun the following command to install 'ipykernel' into the Python environment. \n",
      "\u001b[1;31mCommand: '/bin/python3 -m pip install ipykernel -U --user --force-reinstall'"
     ]
    }
   ],
   "source": [
    "#TODO use as mask to plot lipids\n",
    "df_test.drop_duplicates(\"group_id\", keep=\"first\")[\"Superclass\"] == \" Lipids and lipid-like molecules\""
   ]
  },
  {
   "cell_type": "code",
   "execution_count": null,
   "metadata": {},
   "outputs": [
    {
     "ename": "",
     "evalue": "",
     "output_type": "error",
     "traceback": [
      "\u001b[1;31mRunning cells with '/bin/python3' requires the ipykernel package.\n",
      "\u001b[1;31mRun the following command to install 'ipykernel' into the Python environment. \n",
      "\u001b[1;31mCommand: '/bin/python3 -m pip install ipykernel -U --user --force-reinstall'"
     ]
    }
   ],
   "source": [
    "sns.color_palette(n_colors=13)"
   ]
  },
  {
   "cell_type": "code",
   "execution_count": null,
   "metadata": {},
   "outputs": [
    {
     "ename": "",
     "evalue": "",
     "output_type": "error",
     "traceback": [
      "\u001b[1;31mRunning cells with '/bin/python3' requires the ipykernel package.\n",
      "\u001b[1;31mRun the following command to install 'ipykernel' into the Python environment. \n",
      "\u001b[1;31mCommand: '/bin/python3 -m pip install ipykernel -U --user --force-reinstall'"
     ]
    }
   ],
   "source": [
    "sns.color_palette(\"muted\")"
   ]
  },
  {
   "cell_type": "code",
   "execution_count": null,
   "metadata": {},
   "outputs": [
    {
     "ename": "",
     "evalue": "",
     "output_type": "error",
     "traceback": [
      "\u001b[1;31mRunning cells with '/bin/python3' requires the ipykernel package.\n",
      "\u001b[1;31mRun the following command to install 'ipykernel' into the Python environment. \n",
      "\u001b[1;31mCommand: '/bin/python3 -m pip install ipykernel -U --user --force-reinstall'"
     ]
    }
   ],
   "source": [
    "from fiora.visualization.define_colors import adjust_box_widths\n",
    "fig, ax = plt.subplots(1,1, figsize=(10, 6))\n",
    "\n",
    "ax = sns.boxplot(ax=ax, data=df_test[df_test[\"Superclass\"] != \"nan\"], y=\"spectral_sqrt_cosine\", dodge=True, width=0.9, linewidth=1.5, hue=\"Superclass\", legend=False, palette=legend_colors, showfliers=False)\n",
    "ax.set_ylabel(\"cosine similarity\", fontsize=14)\n",
    "ax.set_ylim([0,1])\n",
    "plt.tick_params(axis='y', labelsize=14) \n",
    "ax.set_xticks([])\n",
    "sns.despine(offset=10, trim=True)\n",
    "ax.spines['bottom'].set_visible(False)\n",
    "\n",
    "adjust_box_widths(fig, 0.85)\n",
    "#fig.savefig(f\"{home}/images/paper/cosine_by_class.png\", format=\"png\", dpi=600, bbox_inches='tight', pad_inches=0.1)\n",
    "#fig.savefig(f\"{home}/images/paper/cosine_by_class.svg\", format=\"svg\", dpi=600, bbox_inches='tight', pad_inches=0.1)\n",
    "plt.show()"
   ]
  },
  {
   "cell_type": "code",
   "execution_count": null,
   "metadata": {},
   "outputs": [
    {
     "ename": "",
     "evalue": "",
     "output_type": "error",
     "traceback": [
      "\u001b[1;31mRunning cells with '/bin/python3' requires the ipykernel package.\n",
      "\u001b[1;31mRun the following command to install 'ipykernel' into the Python environment. \n",
      "\u001b[1;31mCommand: '/bin/python3 -m pip install ipykernel -U --user --force-reinstall'"
     ]
    }
   ],
   "source": [
    "\n",
    "# print(df_test.groupby(\"Superclass\").group_id.unique().apply(len))\n",
    "# print(df_test.groupby(\"Superclass\").spectral_sqrt_cosine.median())\n",
    "# #df_test.groupby(\"Superclass\").spectral_sqrt_cosine.median()\n",
    "result = df_test.groupby(\"Superclass\").agg(\n",
    "    num=(\"group_id\", lambda x: len(x.unique())),\n",
    "    spec=(\"group_id\", lambda x: len(x)),\n",
    "    cos=(\"spectral_sqrt_cosine\", \"median\")\n",
    ")\n",
    "print(result)"
   ]
  },
  {
   "cell_type": "code",
   "execution_count": null,
   "metadata": {},
   "outputs": [
    {
     "ename": "",
     "evalue": "",
     "output_type": "error",
     "traceback": [
      "\u001b[1;31mRunning cells with '/bin/python3' requires the ipykernel package.\n",
      "\u001b[1;31mRun the following command to install 'ipykernel' into the Python environment. \n",
      "\u001b[1;31mCommand: '/bin/python3 -m pip install ipykernel -U --user --force-reinstall'"
     ]
    }
   ],
   "source": [
    "from fiora.visualization.define_colors import adjust_box_widths\n",
    "fig, ax = plt.subplots(1,1, figsize=(10, 6))\n",
    "\n",
    "ax = sns.boxplot(ax=ax, data=df_test[df_test[\"Class\"] != \"nan\"], y=\"spectral_sqrt_cosine\", dodge=True, width=0.9, linewidth=1.5, hue=\"Class\", legend=False, palette=legend_colors, showfliers=False)\n",
    "ax.set_ylabel(\"cosine similarity\", fontsize=14)\n",
    "ax.set_ylim([0,1])\n",
    "plt.tick_params(axis='y', labelsize=14) \n",
    "ax.set_xticks([])\n",
    "sns.despine(offset=10, trim=True)\n",
    "ax.spines['bottom'].set_visible(False)\n",
    "\n",
    "adjust_box_widths(fig, 0.85)\n",
    "#fig.savefig(f\"{home}/images/paper/cosine_by_class.png\", format=\"png\", dpi=600, bbox_inches='tight', pad_inches=0.1)\n",
    "#fig.savefig(f\"{home}/images/paper/cosine_by_class.svg\", format=\"svg\", dpi=600, bbox_inches='tight', pad_inches=0.1)\n",
    "plt.show()"
   ]
  },
  {
   "cell_type": "markdown",
   "metadata": {},
   "source": [
    "##### Lipid class"
   ]
  },
  {
   "cell_type": "code",
   "execution_count": null,
   "metadata": {},
   "outputs": [
    {
     "ename": "",
     "evalue": "",
     "output_type": "error",
     "traceback": [
      "\u001b[1;31mRunning cells with '/bin/python3' requires the ipykernel package.\n",
      "\u001b[1;31mRun the following command to install 'ipykernel' into the Python environment. \n",
      "\u001b[1;31mCommand: '/bin/python3 -m pip install ipykernel -U --user --force-reinstall'"
     ]
    }
   ],
   "source": [
    "df_test[df_test[\"Superclass\"] == \" Lipids and lipid-like molecules\"].drop_duplicates(\"group_id\", keep=\"first\")[\"Class\"].value_counts()"
   ]
  },
  {
   "cell_type": "code",
   "execution_count": null,
   "metadata": {},
   "outputs": [
    {
     "ename": "",
     "evalue": "",
     "output_type": "error",
     "traceback": [
      "\u001b[1;31mRunning cells with '/bin/python3' requires the ipykernel package.\n",
      "\u001b[1;31mRun the following command to install 'ipykernel' into the Python environment. \n",
      "\u001b[1;31mCommand: '/bin/python3 -m pip install ipykernel -U --user --force-reinstall'"
     ]
    }
   ],
   "source": [
    "num_classes = len(compound_classes[\"Class\"].unique())\n",
    "class_map = dict(zip(compound_classes[\"Class\"].unique(), range(0, num_classes)))\n",
    "test_embeddings = []\n",
    "test_classes = []\n",
    "colors = []\n",
    "classmap = {}\n",
    "supermap = {}\n",
    "submap = {}\n",
    "pal = sns.color_palette(\"viridis\", num_classes)\n",
    "\n",
    "for i, d in df_test[df_test[\"Superclass\"] == \" Lipids and lipid-like molecules\"].drop_duplicates(\"group_id\", keep=\"first\").iterrows():\n",
    "    metabolite = d[\"Metabolite\"]\n",
    "    group_id = d[\"group_id\"]\n",
    "\n",
    "    cclass = compound_classes[compound_classes[\"CompoundID\"] == group_id].iloc[0][\"Class\"]\n",
    "\n",
    "    data = metabolite.as_geometric_data(with_labels=False).to(dev)\n",
    "    batch = geom.data.Batch.from_data_list([data])\n",
    "    embedding = model.get_graph_embedding(batch)\n",
    "    test_embeddings += [embedding.flatten().cpu().detach().numpy()]\n",
    "    test_classes += [cclass]\n",
    "\n",
    "    colors += [pal[class_map[cclass]]]\n"
   ]
  },
  {
   "cell_type": "code",
   "execution_count": null,
   "metadata": {},
   "outputs": [
    {
     "ename": "",
     "evalue": "",
     "output_type": "error",
     "traceback": [
      "\u001b[1;31mRunning cells with '/bin/python3' requires the ipykernel package.\n",
      "\u001b[1;31mRun the following command to install 'ipykernel' into the Python environment. \n",
      "\u001b[1;31mCommand: '/bin/python3 -m pip install ipykernel -U --user --force-reinstall'"
     ]
    }
   ],
   "source": [
    "import matplotlib\n",
    "import umap\n",
    "\n",
    "reset_matplotlib()\n",
    "reducer = umap.UMAP(n_neighbors=8, min_dist=0.1, random_state=0, n_jobs=1) # creates different umaps despite fixed seed. Reason probably pytorch.\n",
    "reducer.fit(test_embeddings)\n",
    "e = reducer.transform(test_embeddings)\n",
    "\n",
    "fig, ax = plt.subplots(1,1, figsize=(8,8))\n",
    "scatter = sns.scatterplot(ax=ax,\n",
    "    x=e[:, 0],\n",
    "    y=e[:, 1],\n",
    "    hue=test_classes, edgecolor=\"white\", linewidth=0.48, s=40, palette=sns.color_palette(\"husl\", 6), style=test_classes, markers=[\"o\", (4,0, 45), \"D\", \"v\", \"p\", (4,1,0), \"X\"])# markers=[\"o\", \"*\", \"s\", \"^\", \"D\", \"h\", (4,1,0),\"v\", \"X\", \"P\", \"p\", \"<\", (4,0, 45)] s=30,, hue_order=np.unique(test_classes)[::-1])#, order=[' Organic acids and derivatives', ' Organoheterocyclic compounds', ' Benzenoids', ' Alkaloids and derivatives', ' Phenylpropanoids and polyketides', ])#, palette=sns.color_palette(\"colorblind\") + [\"black\", \"gray\", \"white\"])\n",
    "legend = ax.legend(loc='lower left', bbox_to_anchor=(1, 0.5))\n",
    "#plt.gca().set_aspect('equal', 'datalim')\n",
    "#plt.ylim([-2.50,13])\n",
    "#plt.xlim([-2.50,13])\n",
    "#ax.set_aspect('equal', 'datalim')\n",
    "#print(ax.get_xlim())\n",
    "#ax.set_xlim((4.18, 14.15))\n",
    "#ax.set_ylim(ax.get_xlim())\n",
    "# Get the default marker size\n",
    "default_marker_size = ax.collections[0].get_sizes()[0]\n",
    "\n",
    "# Print the default marker size\n",
    "print(\"Default marker size:\", default_marker_size)\n",
    "#ax.set_ylim([4, 12])\n",
    "# fig.savefig(f\"{home}/images/paper/umap_lipids_local.svg\", format=\"svg\", dpi=600, bbox_inches='tight', pad_inches=0.1)\n",
    "# fig.savefig(f\"{home}/images/paper/umap_lipids_local.pdf\", format=\"pdf\", dpi=600, bbox_inches='tight', pad_inches=0.1)\n",
    "# fig.savefig(f\"{home}/images/paper/umap_lipids_local.png\", format=\"png\", dpi=600, bbox_inches='tight', pad_inches=0.1)\n",
    "\n",
    "# Get the default line width (edges)\n",
    "default_line_width = ax.collections[0].get_linewidths()[0]\n",
    "\n",
    "# Print the default line width\n",
    "print(\"Default line width (edges):\", default_line_width)\n",
    "\n",
    "# Get the legend handles and labels\n",
    "handles = legend.legend_handles\n",
    "\n",
    "# Get the facecolors from the legend handles (for scatter plot markers)\n",
    "legend_colors = [handle.get_color() for handle in handles]# if isinstance(handle, matplotlib.patches.PathPatch)]\n",
    "\n",
    "\n",
    "plt.show()"
   ]
  },
  {
   "cell_type": "markdown",
   "metadata": {},
   "source": [
    "### Tanimoto distance"
   ]
  },
  {
   "cell_type": "code",
   "execution_count": null,
   "metadata": {},
   "outputs": [
    {
     "ename": "",
     "evalue": "",
     "output_type": "error",
     "traceback": [
      "\u001b[1;31mRunning cells with '/bin/python3' requires the ipykernel package.\n",
      "\u001b[1;31mRun the following command to install 'ipykernel' into the Python environment. \n",
      "\u001b[1;31mCommand: '/bin/python3 -m pip install ipykernel -U --user --force-reinstall'"
     ]
    }
   ],
   "source": [
    "df_cas[\"Dataset\"] = \"CASMI 16\"\n",
    "df_cas22[\"Dataset\"] = \"CASMI 22\"\n",
    "df_test[\"Dataset\"] = \"Test split\""
   ]
  },
  {
   "cell_type": "code",
   "execution_count": null,
   "metadata": {},
   "outputs": [
    {
     "ename": "",
     "evalue": "",
     "output_type": "error",
     "traceback": [
      "\u001b[1;31mRunning cells with '/bin/python3' requires the ipykernel package.\n",
      "\u001b[1;31mRun the following command to install 'ipykernel' into the Python environment. \n",
      "\u001b[1;31mCommand: '/bin/python3 -m pip install ipykernel -U --user --force-reinstall'"
     ]
    }
   ],
   "source": [
    "calc_tanimoto = False # This may tak a long time\n",
    "if calc_tanimoto:    \n",
    "    print(\"Calculating Tanimoto scores. This may take a while\")\n",
    "    df_cas.loc[:,\"tanimoto\"] = np.nan\n",
    "    for i,d in df_cas.iterrows():\n",
    "        df_cas.at[i, \"tanimoto\"] = df_train[df_train[\"dataset\"] == \"training\"][\"Metabolite\"].apply(lambda x: x.tanimoto_similarity(d[\"Metabolite\"])).max()\n",
    "        df_cas.at[i, \"tanimoto3\"] = df_train[df_train[\"dataset\"] == \"training\"][\"Metabolite\"].apply(lambda x: x.tanimoto_similarity(d[\"Metabolite\"], finger=\"morgan3\")).max()\n",
    "        \n",
    "    df_cas22.loc[:,\"tanimoto\"] = np.nan\n",
    "    for i,d in df_cas22.iterrows():\n",
    "        df_cas22.at[i, \"tanimoto\"] = df_train[df_train[\"dataset\"] == \"training\"][\"Metabolite\"].apply(lambda x: x.tanimoto_similarity(d[\"Metabolite\"])).max()\n",
    "        df_cas22.at[i, \"tanimoto3\"] = df_train[df_train[\"dataset\"] == \"training\"][\"Metabolite\"].apply(lambda x: x.tanimoto_similarity(d[\"Metabolite\"], finger=\"morgan3\")).max()\n",
    "        \n",
    "    df_test.loc[:,\"tanimoto\"] = np.nan\n",
    "    for i,d in df_test.iterrows():\n",
    "        df_test.at[i, \"tanimoto\"] = df_train[df_train[\"dataset\"] == \"training\"][\"Metabolite\"].apply(lambda x: x.tanimoto_similarity(d[\"Metabolite\"])).max()\n",
    "        df_test.at[i, \"tanimoto3\"] = df_train[df_train[\"dataset\"] == \"training\"][\"Metabolite\"].apply(lambda x: x.tanimoto_similarity(d[\"Metabolite\"], finger=\"morgan3\")).max()\n"
   ]
  },
  {
   "cell_type": "code",
   "execution_count": null,
   "metadata": {},
   "outputs": [
    {
     "ename": "",
     "evalue": "",
     "output_type": "error",
     "traceback": [
      "\u001b[1;31mRunning cells with '/bin/python3' requires the ipykernel package.\n",
      "\u001b[1;31mRun the following command to install 'ipykernel' into the Python environment. \n",
      "\u001b[1;31mCommand: '/bin/python3 -m pip install ipykernel -U --user --force-reinstall'"
     ]
    }
   ],
   "source": [
    "from fiora.visualization.define_colors import *\n",
    "\n",
    "if calc_tanimoto:\n",
    "    set_light_theme()\n",
    "    fig, ax = plt.subplots(1,1, figsize=(12, 6))\n",
    "    plt.subplots_adjust(top=0.94, bottom=0.12, right=0.97, left=0.08)\n",
    "\n",
    "    C = pd.concat([df_test, df_cas, df_cas22], ignore_index=True)\n",
    "    sns.pointplot(ax=ax, data=C, x=pd.cut(C[C[\"Precursor_type\"] == \"[M+H]+\"]['tanimoto3'], bins=[x/10.0 for x in list(range(2,11,1))]), y=\"spectral_sqrt_cosine\", palette=tri_palette, capsize=.0, hue=\"Dataset\", dodge=0.25, estimator=\"median\") #multiple=\"dodge\", common_norm=False, stat=\"density\") #multiple=\"dodge\", common_norm=False, stat=\"density\")\n",
    "    plt.ylim([0, 1])\n",
    "    plt.legend(title=\"Dataset\", loc=\"lower left\")\n",
    "    plt.ylabel(\"Cosine similarity\")\n",
    "    plt.xlabel(\"Tanimoto similarity\")\n",
    "    \n",
    "    # fig.savefig(f\"{home}/images/paper/tanimoto_withcasmi.png\", format=\"png\", dpi=600, bbox_inches='tight', pad_inches=0.1)\n",
    "    # fig.savefig(f\"{home}/images/paper/tanimoto_withcasmi.svg\", format=\"svg\", dpi=600, bbox_inches='tight', pad_inches=0.1)\n",
    "    # fig.savefig(f\"{home}/images/paper/tanimoto_withcasmi.pdf\", format=\"pdf\", dpi=600, bbox_inches='tight', pad_inches=0.1)\n",
    "    plt.show()"
   ]
  },
  {
   "cell_type": "code",
   "execution_count": null,
   "metadata": {},
   "outputs": [
    {
     "ename": "",
     "evalue": "",
     "output_type": "error",
     "traceback": [
      "\u001b[1;31mRunning cells with '/bin/python3' requires the ipykernel package.\n",
      "\u001b[1;31mRun the following command to install 'ipykernel' into the Python environment. \n",
      "\u001b[1;31mCommand: '/bin/python3 -m pip install ipykernel -U --user --force-reinstall'"
     ]
    }
   ],
   "source": [
    "if calc_tanimoto:\n",
    "    fig, ax = plt.subplots(1,1, figsize=(12, 6))\n",
    "    plt.subplots_adjust(top=0.94, bottom=0.12, right=0.97, left=0.08)\n",
    "\n",
    "    C = pd.concat([df_test, df_cas, df_cas22], ignore_index=True) # fillna?\n",
    "    sns.pointplot(ax=ax, data=C, x=pd.cut(C[(C[\"Precursor_type\"] == \"[M+H]+\") & (C[\"Dataset\"] == \"Test split\")]['tanimoto3'], bins=[x/10.0 for x in list(range(2,11,1))]), y=\"spectral_sqrt_cosine\", capsize=.0, color=lightblue_hex, estimator=\"median\") #multiple=\"dodge\", common_norm=False, stat=\"density\") #multiple=\"dodge\", common_norm=False, stat=\"density\")\n",
    "    sns.pointplot(ax=ax, data=C, x=pd.cut(C[(C[\"Precursor_type\"] == \"[M+H]+\") & (C[\"Dataset\"] == \"Test split\")]['tanimoto3'], bins=[x/10.0 for x in list(range(2,11,1))]), y=\"cfm_sqrt_cosine\", capsize=.0, color=\"gray\", estimator=\"median\", linestyle=\"--\") #multiple=\"dodge\", common_norm=False, stat=\"density\") #multiple=\"dodge\", common_norm=False, stat=\"density\")\n",
    "    sns.pointplot(ax=ax, data=C, x=pd.cut(C[(C[\"Precursor_type\"] == \"[M+H]+\") & (C[\"Dataset\"] == \"Test split\")]['tanimoto3'], bins=[x/10.0 for x in list(range(2,11,1))]), y=\"ice_sqrt_cosine\", capsize=.0, color=lightpink_hex, estimator=\"median\") #multiple=\"dodge\", common_norm=False, stat=\"density\") #multiple=\"dodge\", common_norm=False, stat=\"density\")\n",
    "    plt.ylim([0.4, 1])\n",
    "    custom_lines = [plt.Line2D([0], [0], color=lightblue_hex, linestyle='-', marker=\"o\"), plt.Line2D([0], [0], color='gray', linestyle='--', marker=\"o\"), plt.Line2D([0], [0], color=lightpink_hex, linestyle='-', marker=\"o\")]\n",
    "    plt.legend(custom_lines, [\"Fiora\", \"CFM-ID\", \"ICEBERG\"], title=\"Software\", loc=\"upper left\")\n",
    "    \n",
    "    plt.ylabel(\"Cosine similarity\")\n",
    "    plt.xlabel(\"Tanimoto similarity\")\n",
    "    # fig.savefig(f\"{home}/images/paper/tanimoto.png\", format=\"png\", dpi=600, bbox_inches='tight', pad_inches=0.1)\n",
    "    # fig.savefig(f\"{home}/images/paper/tanimoto.svg\", format=\"svg\", dpi=600, bbox_inches='tight', pad_inches=0.1)\n",
    "    # fig.savefig(f\"{home}/images/paper/tanimoto.pdf\", format=\"pdf\", dpi=600, bbox_inches='tight', pad_inches=0.1)\n",
    "\n",
    "    plt.show()"
   ]
  },
  {
   "cell_type": "code",
   "execution_count": null,
   "metadata": {},
   "outputs": [
    {
     "ename": "",
     "evalue": "",
     "output_type": "error",
     "traceback": [
      "\u001b[1;31mRunning cells with '/bin/python3' requires the ipykernel package.\n",
      "\u001b[1;31mRun the following command to install 'ipykernel' into the Python environment. \n",
      "\u001b[1;31mCommand: '/bin/python3 -m pip install ipykernel -U --user --force-reinstall'"
     ]
    }
   ],
   "source": [
    "if calc_tanimoto:\n",
    "    medians = C[(C[\"Precursor_type\"] == \"[M+H]+\") & (C[\"Dataset\"] == \"Test split\")].groupby(pd.cut(C[(C[\"Precursor_type\"] == \"[M+H]+\") & (C[\"Dataset\"] == \"Test split\")]['tanimoto3'], bins=[x/10.0 for x in list(range(2, 11, 1))]))['spectral_sqrt_cosine'].median()\n",
    "    print(f\"Fiora: {medians.min() / medians.max()}\")\n",
    "    medians = C[(C[\"Precursor_type\"] == \"[M+H]+\") & (C[\"Dataset\"] == \"Test split\")].groupby(pd.cut(C[(C[\"Precursor_type\"] == \"[M+H]+\") & (C[\"Dataset\"] == \"Test split\")]['tanimoto3'], bins=[x/10.0 for x in list(range(2, 11, 1))]))['ice_sqrt_cosine'].median()\n",
    "    print(f\"ICEBERG: {medians.min() / medians.max()}\")\n"
   ]
  },
  {
   "cell_type": "markdown",
   "metadata": {},
   "source": [
    "### Retention time"
   ]
  },
  {
   "cell_type": "code",
   "execution_count": null,
   "metadata": {},
   "outputs": [
    {
     "ename": "",
     "evalue": "",
     "output_type": "error",
     "traceback": [
      "\u001b[1;31mRunning cells with '/bin/python3' requires the ipykernel package.\n",
      "\u001b[1;31mRun the following command to install 'ipykernel' into the Python environment. \n",
      "\u001b[1;31mCommand: '/bin/python3 -m pip install ipykernel -U --user --force-reinstall'"
     ]
    }
   ],
   "source": [
    "fig, axs = plt.subplots(2, 1, figsize=(12, 14), gridspec_kw={'height_ratios': [1, 5]}, sharex=True)\n",
    "plt.subplots_adjust(wspace=0.1, hspace=0.05)\n",
    "set_light_theme()\n",
    "set_light_theme()\n",
    "\n",
    "df_test_unique = df_test.dropna(subset=[\"RETENTIONTIME\"]).drop_duplicates(subset='SMILES', keep='first')\n",
    "\n",
    "\n",
    "#sns.histplot(ax=axs[0], data=df_val_unique, x=\"coverage\", binwidth=0.02, kde_kws={\"bw_adjust\": 0.1}, multiple=\"stack\", kde=True, color=\"black\", palette=[\"black\", \"gray\"]) #hue=\"Precursor_type\", \n",
    "sns.kdeplot(ax=axs[0], data=df_test_unique, x=\"RETENTIONTIME\", bw_adjust=0.25, palette=[\"gray\"], fill=True, hue=\"Dataset\", alpha=0.7)#, multiple=\"stack\") #hue=\"Precursor_type\", \n",
    "sns.kdeplot(ax=axs[0], data=df_test_unique, x=\"RETENTIONTIME\", bw_adjust=0.25, color=\"#696969\", linewidth=1.7) #, multiple=\"stack\") #hue=\"Precursor_type\", \n",
    "\n",
    "axs[0].spines['top'].set_visible(False)\n",
    "axs[0].spines['right'].set_visible(False)\n",
    "\n",
    "\n",
    "sns.scatterplot(ax=axs[1], data=df_test_unique, x=\"RETENTIONTIME\", y=\"RT_pred\", color=\"gray\", marker=(4,1,0), s=60, edgecolor=\"None\")#, hue=\"library\", palette=tri_palette,  style=\"library\", color=\"gray\")\n",
    "axs[1].set_ylim([2,df_test_unique[\"RETENTIONTIME\"].max() + 0.5])\n",
    "axs[1].set_xlim([2,df_test_unique[\"RETENTIONTIME\"].max() + 0.5])\n",
    "axs[1].set_ylabel(\"Predicted retention time (in minutes)\")\n",
    "axs[1].set_xlabel(\"Observed retention time (in minutes)\")\n",
    "line = [0, 100]\n",
    "sns.lineplot(ax=axs[1], x=line, y=line, color=\"black\")\n",
    "sns.lineplot(ax=axs[1], x=line, y=[x + 30/60.0 for x in line], color=\"black\", linestyle='--')\n",
    "sns.lineplot(ax=axs[1], x=line, y=[x - 30/60.0 for x in line], color=\"black\", linestyle='--')\n",
    "\n",
    "# sns.lineplot(ax=axs[1], x=line, y=[1.1*x for x in line], color=\"black\", linestyle='--')\n",
    "# sns.lineplot(ax=axs[1], x=line, y=[0.9*x for x in line], color=\"black\", linestyle='--')\n",
    "\n",
    "# fig.savefig(f\"{home}/images/paper/rt.svg\", format=\"svg\", dpi=600, bbox_inches='tight', pad_inches=0.1)\n",
    "# fig.savefig(f\"{home}/images/paper/rt.pdf\", format=\"pdf\", dpi=600, bbox_inches='tight', pad_inches=0.1)\n",
    "# fig.savefig(f\"{home}/images/paper/rt.png\", format=\"png\", dpi=600, bbox_inches='tight', pad_inches=0.1)\n",
    "plt.show()"
   ]
  },
  {
   "cell_type": "code",
   "execution_count": null,
   "metadata": {},
   "outputs": [
    {
     "ename": "",
     "evalue": "",
     "output_type": "error",
     "traceback": [
      "\u001b[1;31mRunning cells with '/bin/python3' requires the ipykernel package.\n",
      "\u001b[1;31mRun the following command to install 'ipykernel' into the Python environment. \n",
      "\u001b[1;31mCommand: '/bin/python3 -m pip install ipykernel -U --user --force-reinstall'"
     ]
    }
   ],
   "source": [
    "\n",
    "print(\"Pearson Corr Coef:\")\n",
    "print(\"GNN PC\", np.corrcoef(df_test_unique[\"RETENTIONTIME\"], df_test_unique[\"RT_pred\"].dropna(), dtype=float)[0,1])\n",
    "print(\"GNN R2\", r2_score(df_test_unique[\"RETENTIONTIME\"], df_test_unique[\"RT_pred\"].dropna()))\n"
   ]
  },
  {
   "cell_type": "markdown",
   "metadata": {},
   "source": [
    "### CCS values"
   ]
  },
  {
   "cell_type": "code",
   "execution_count": null,
   "metadata": {},
   "outputs": [
    {
     "ename": "",
     "evalue": "",
     "output_type": "error",
     "traceback": [
      "\u001b[1;31mRunning cells with '/bin/python3' requires the ipykernel package.\n",
      "\u001b[1;31mRun the following command to install 'ipykernel' into the Python environment. \n",
      "\u001b[1;31mCommand: '/bin/python3 -m pip install ipykernel -U --user --force-reinstall'"
     ]
    }
   ],
   "source": [
    "print(tri_palette)"
   ]
  },
  {
   "cell_type": "code",
   "execution_count": null,
   "metadata": {},
   "outputs": [
    {
     "ename": "",
     "evalue": "",
     "output_type": "error",
     "traceback": [
      "\u001b[1;31mRunning cells with '/bin/python3' requires the ipykernel package.\n",
      "\u001b[1;31mRun the following command to install 'ipykernel' into the Python environment. \n",
      "\u001b[1;31mCommand: '/bin/python3 -m pip install ipykernel -U --user --force-reinstall'"
     ]
    }
   ],
   "source": [
    "# TODO NEXT UP!!\n",
    "fig, axs = plt.subplots(2, 1, figsize=(12, 14), gridspec_kw={'height_ratios': [1, 5]}, sharex=True)\n",
    "plt.subplots_adjust(wspace=0.1, hspace=0.05)\n",
    "\n",
    "df_test_unique = df_test.dropna(subset=[\"CCS\"]).drop_duplicates(subset='SMILES', keep='first')\n",
    "df_cas22_unique = df_cas22.dropna(subset=[\"CCS\"]).drop_duplicates(subset='SMILES', keep='first') # Note that with more lenient filters, CCS values might be annotated for CASMI 22\n",
    "\n",
    "CCS = pd.concat([df_test_unique[[\"CCS\", \"CCS_pred\", \"Dataset\"]], df_cas[[\"CCS\", \"CCS_pred\", \"Dataset\"]], df_cas22_unique[[\"CCS\", \"CCS_pred\", \"Dataset\"]] ], ignore_index=True) #\n",
    "\n",
    "\n",
    "#sns.histplot(ax=axs[0], data=df_val_unique, x=\"coverage\", binwidth=0.02, kde_kws={\"bw_adjust\": 0.1}, multiple=\"stack\", kde=True, color=\"black\", palette=[\"black\", \"gray\"]) #hue=\"Precursor_type\", \n",
    "sns.kdeplot(ax=axs[0], data=CCS[CCS[\"Dataset\"] != \"CASMI 22\"], x=\"CCS\", bw_adjust=0.35, color=\"black\", multiple=\"stack\", hue=\"Dataset\", palette=[\"#696969\"] + [\"white\"], linewidth=1.7,  fill=False)#, edgecolor=\"lightgray\") #hue=\"Precursor_type\", palette=[\"black\", \"gray\"]) #hue=\"Precursor_type\", \n",
    "sns.kdeplot(ax=axs[0], data=CCS[CCS[\"Dataset\"] != \"CASMI 22\"], x=\"CCS\", bw_adjust=0.35, color=\"black\", multiple=\"stack\", hue=\"Dataset\", palette=[\"gray\"] + [tri_palette[1]], alpha=0.7, fill=True, edgecolor=\"gray\")#, edgecolor=\"lightgray\") #hue=\"Precursor_type\", palette=[\"black\", \"gray\"]) #hue=\"Precursor_type\", \n",
    "axs[0].spines['top'].set_visible(False)\n",
    "axs[0].spines['right'].set_visible(False)\n",
    "\n",
    "\n",
    "sns.scatterplot(ax=axs[1], data=CCS, x=\"CCS\", y=\"CCS_pred\", hue=\"Dataset\", palette=tri_palette, style=\"Dataset\", markers=[(4, 1, 0), \"v\", \"o\", (4,0,45), \"v\", \"D\"],s = 35, linewidth=.0)#, s=50, edgecolor=\"white\")#, linewidth=.0)#, color=\"blue\", edgecolor=\"blue\")#, \n",
    "axs[1].set_ylim([df_test_unique[\"CCS\"].min() - 30,df_test_unique[\"CCS\"].max() + 5])\n",
    "axs[1].set_xlim([df_test_unique[\"CCS\"].min() - 30,df_test_unique[\"CCS\"].max() + 5])\n",
    "axs[1].set_ylabel(\"Predicted CCS\")\n",
    "axs[1].set_xlabel(\"Observed CCS\")\n",
    "line=[df_test_unique[\"CCS\"].min() - 30,df_test_unique[\"CCS\"].max() + 5]\n",
    "sns.lineplot(ax=axs[1], x=line, y=line, color=\"black\")\n",
    "sns.lineplot(ax=axs[1], x=line, y=[1.1*x for x in line], color=\"black\", linestyle='--')\n",
    "sns.lineplot(ax=axs[1], x=line, y=[0.9*x for x in line], color=\"black\", linestyle='--')\n",
    "\n",
    "# fig.savefig(f\"{home}/images/paper/ccs.svg\", format=\"svg\", dpi=600, bbox_inches='tight', pad_inches=0.1)\n",
    "# fig.savefig(f\"{home}/images/paper/ccs.pdf\", format=\"pdf\", dpi=600, bbox_inches='tight', pad_inches=0.1)\n",
    "# fig.savefig(f\"{home}/images/paper/ccs.png\", format=\"png\", dpi=600, bbox_inches='tight', pad_inches=0.1)\n",
    "plt.show()"
   ]
  },
  {
   "cell_type": "code",
   "execution_count": null,
   "metadata": {},
   "outputs": [
    {
     "ename": "",
     "evalue": "",
     "output_type": "error",
     "traceback": [
      "\u001b[1;31mRunning cells with '/bin/python3' requires the ipykernel package.\n",
      "\u001b[1;31mRun the following command to install 'ipykernel' into the Python environment. \n",
      "\u001b[1;31mCommand: '/bin/python3 -m pip install ipykernel -U --user --force-reinstall'"
     ]
    }
   ],
   "source": [
    "\n",
    "print(\"TEST SPLIT:\\n\")\n",
    "print(\"Pearson Corr Coef:\")\n",
    "print(\"GNN\", np.corrcoef(df_test_unique.dropna(subset=[\"CCS\"])[\"CCS\"], df_test_unique.dropna(subset=[\"CCS\"])[\"CCS_pred\"].dropna(), dtype=float)[0,1])\n",
    "print(\"LR \", np.corrcoef(df_test_unique.dropna(subset=[\"CCS\"])[\"CCS\"], df_test_unique.dropna(subset=[\"CCS\"])[\"PrecursorMZ\"].dropna(), dtype=float)[0,1])\n",
    "\n",
    "slope, intercept, r_value, p_value, std_err = scipy.stats.linregress(df_train.dropna(subset=[\"CCS\"])[\"PRECURSORMZ\"], df_train.dropna(subset=[\"CCS\"])[\"CCS\"])\n",
    "print(\"R2\")\n",
    "print(\"GNN\", r2_score(df_test_unique.dropna(subset=[\"CCS\"])[\"CCS\"], df_test_unique.dropna(subset=[\"CCS\"])[\"CCS_pred\"].dropna()))\n",
    "print(\"LR \", r2_score(df_test_unique.dropna(subset=[\"CCS\"])[\"CCS\"], intercept + slope *df_test_unique.dropna(subset=[\"CCS\"])[\"PrecursorMZ\"].dropna()))\n",
    "\n",
    "print(\"---------------\\n\\nCASMI-16:\\n\")\n",
    "print(\"Pearson Corr Coef:\")\n",
    "print(\"GNN\", np.corrcoef(df_cas.dropna(subset=[\"CCS\"])[\"CCS\"], df_cas.dropna(subset=[\"CCS\"])[\"CCS_pred\"].dropna(), dtype=float)[0,1])\n",
    "print(\"LR \", np.corrcoef(df_cas.dropna(subset=[\"CCS\"])[\"CCS\"], df_cas.dropna(subset=[\"CCS\"])[\"PRECURSOR_MZ\"].dropna(), dtype=float)[0,1])\n",
    "print(\"R2\")\n",
    "print(\"GNN\", r2_score(df_cas.dropna(subset=[\"CCS\"])[\"CCS\"], df_cas.dropna(subset=[\"CCS\"])[\"CCS_pred\"].dropna()))\n",
    "print(\"LR \", r2_score(df_cas.dropna(subset=[\"CCS\"])[\"CCS\"], intercept + slope *df_cas.dropna(subset=[\"CCS\"])[\"PRECURSOR_MZ\"].dropna()))"
   ]
  },
  {
   "cell_type": "code",
   "execution_count": null,
   "metadata": {},
   "outputs": [
    {
     "ename": "",
     "evalue": "",
     "output_type": "error",
     "traceback": [
      "\u001b[1;31mRunning cells with '/bin/python3' requires the ipykernel package.\n",
      "\u001b[1;31mRun the following command to install 'ipykernel' into the Python environment. \n",
      "\u001b[1;31mCommand: '/bin/python3 -m pip install ipykernel -U --user --force-reinstall'"
     ]
    }
   ],
   "source": [
    "# Load coverage into dataframe\n",
    "df_test[\"coverage\"] = df_test[\"Metabolite\"].apply(lambda x: x.match_stats[\"coverage\"]) \n",
    "df_cas[\"coverage\"] = df_cas[\"Metabolite\"].apply(lambda x: x.match_stats[\"coverage\"]) \n",
    "df_cas22[\"coverage\"] = df_cas22[\"Metabolite\"].apply(lambda x: x.match_stats[\"coverage\"]) "
   ]
  },
  {
   "cell_type": "code",
   "execution_count": null,
   "metadata": {},
   "outputs": [
    {
     "ename": "",
     "evalue": "",
     "output_type": "error",
     "traceback": [
      "\u001b[1;31mRunning cells with '/bin/python3' requires the ipykernel package.\n",
      "\u001b[1;31mRun the following command to install 'ipykernel' into the Python environment. \n",
      "\u001b[1;31mCommand: '/bin/python3 -m pip install ipykernel -U --user --force-reinstall'"
     ]
    }
   ],
   "source": [
    "CAT = pd.concat([df_test, df_cas, df_cas22])\n",
    "fig, ax = plt.subplots(1, 1, figsize=(12, 6))\n",
    "set_light_theme()\n",
    "sns.histplot(ax=ax, data=CAT, x=\"CE\", hue=\"Dataset\", multiple=\"stack\", palette=tri_palette, stat=\"density\", common_norm=False, kde=False)\n",
    "plt.xlabel(\"Collision energy\")\n",
    "plt.show()"
   ]
  },
  {
   "cell_type": "code",
   "execution_count": null,
   "metadata": {},
   "outputs": [
    {
     "ename": "",
     "evalue": "",
     "output_type": "error",
     "traceback": [
      "\u001b[1;31mRunning cells with '/bin/python3' requires the ipykernel package.\n",
      "\u001b[1;31mRun the following command to install 'ipykernel' into the Python environment. \n",
      "\u001b[1;31mCommand: '/bin/python3 -m pip install ipykernel -U --user --force-reinstall'"
     ]
    }
   ],
   "source": [
    "df_test.columns"
   ]
  },
  {
   "cell_type": "code",
   "execution_count": null,
   "metadata": {},
   "outputs": [
    {
     "ename": "",
     "evalue": "",
     "output_type": "error",
     "traceback": [
      "\u001b[1;31mRunning cells with '/bin/python3' requires the ipykernel package.\n",
      "\u001b[1;31mRun the following command to install 'ipykernel' into the Python environment. \n",
      "\u001b[1;31mCommand: '/bin/python3 -m pip install ipykernel -U --user --force-reinstall'"
     ]
    }
   ],
   "source": [
    "sns.palplot(sns.color_palette(\"colorblind\"))\n",
    "plt.show()"
   ]
  },
  {
   "cell_type": "code",
   "execution_count": null,
   "metadata": {},
   "outputs": [
    {
     "ename": "",
     "evalue": "",
     "output_type": "error",
     "traceback": [
      "\u001b[1;31mRunning cells with '/bin/python3' requires the ipykernel package.\n",
      "\u001b[1;31mRun the following command to install 'ipykernel' into the Python environment. \n",
      "\u001b[1;31mCommand: '/bin/python3 -m pip install ipykernel -U --user --force-reinstall'"
     ]
    }
   ],
   "source": [
    "set_light_theme()\n",
    "scores = [\"spectral_cosine\", \"spectral_sqrt_cosine\", \"spectral_sqrt_cosine_wo_prec\", \"spectral_refl_cosine\", \"steins_cosine\"]\n",
    "biases = [s.replace(\"cosine\", \"bias\") for s in scores]\n",
    "#labels = [\"cosine\", r\"cosine $\\sqrt{int}$ \", r\"$\\sqrt{i}$ cosine w/o precursor\", r\"$\\sqrt{i}$ reflection cosine\", r\"$\\sqrt{i}$ mass-weighted cosine\"]\n",
    "\n",
    "#labels = [\"cosine\", \"sqrt cosine\", \"sqrt cosine w/o precursor\", \"sqrt reflection cosine\", \"sqrt mass-weighted cosine\"]\n",
    "labels = [\"standard\\ncosine\", \"square root\\nintensities\", \"square root\\nintensities\\nw/o precursor\", \"square root\\nintensities\\nreflection score\", \"square root\\nintensities\\nscaled by m/z\"]\n",
    "S = df_test.melt(id_vars=\"Name\", var_name=\"Score\", value_vars=scores)\n",
    "B = df_test.melt(id_vars=\"Name\", var_name=\"Score\", value_vars=biases)\n",
    "\n",
    "\n",
    "fig, axs = plt.subplots(2, 1, figsize=(10, 10), sharex=False)\n",
    "plt.subplots_adjust(top=0.94, bottom=0.12, right=0.97, left=0.08, hspace=0.08)\n",
    "\n",
    "\n",
    "highlight_2=[sns.color_palette(\"colorblind\")[7], sns.color_palette(\"colorblind\")[9], sns.color_palette(\"colorblind\")[7], sns.color_palette(\"colorblind\")[7], sns.color_palette(\"colorblind\")[7]]\n",
    "sns.boxplot(ax=axs[0], data=S, y=\"value\", x=\"Score\", order=scores, hue=\"Score\", palette=highlight_2, showfliers=False)\n",
    "sns.boxplot(ax=axs[1], data=B, y=\"value\", x=\"Score\", order=biases, hue=\"Score\", palette=highlight_2, showfliers=False)\n",
    "axs[0].set_xticklabels(\"\")\n",
    "axs[0].set_xlabel(\"\")\n",
    "axs[0].set_ylabel(\"Similarity\")\n",
    "axs[1].set_xlabel(\"\")\n",
    "axs[1].set_xticklabels(labels)\n",
    "axs[1].set_ylabel(\"Bias\")\n",
    "#axs[1].set_ylim([0, 1])\n",
    "#axs[1].axhline(y=B.groupby('Score')['value'].median().min(), xmin=0, xmax=10, color=\"red\", linestyle=\"--\")\n",
    "# fig.savefig(f\"{home}/images/paper/scores_overview.svg\", format=\"svg\", dpi=600, bbox_inches='tight', pad_inches=0.1)\n",
    "# fig.savefig(f\"{home}/images/paper/scores_overview.pdf\", format=\"pdf\", dpi=600, bbox_inches='tight', pad_inches=0.1)\n",
    "# fig.savefig(f\"{home}/images/paper/scores_overview.png\", format=\"png\", dpi=600, bbox_inches='tight', pad_inches=0.1)\n",
    "\n",
    "\n",
    "#plt.xticks(rotation=90)\n",
    "plt.show()\n"
   ]
  },
  {
   "cell_type": "code",
   "execution_count": null,
   "metadata": {},
   "outputs": [
    {
     "ename": "",
     "evalue": "",
     "output_type": "error",
     "traceback": [
      "\u001b[1;31mRunning cells with '/bin/python3' requires the ipykernel package.\n",
      "\u001b[1;31mRun the following command to install 'ipykernel' into the Python environment. \n",
      "\u001b[1;31mCommand: '/bin/python3 -m pip install ipykernel -U --user --force-reinstall'"
     ]
    }
   ],
   "source": [
    "df_cas[\"spectral_sqrt_cosine\"]"
   ]
  },
  {
   "cell_type": "code",
   "execution_count": null,
   "metadata": {},
   "outputs": [
    {
     "ename": "",
     "evalue": "",
     "output_type": "error",
     "traceback": [
      "\u001b[1;31mRunning cells with '/bin/python3' requires the ipykernel package.\n",
      "\u001b[1;31mRun the following command to install 'ipykernel' into the Python environment. \n",
      "\u001b[1;31mCommand: '/bin/python3 -m pip install ipykernel -U --user --force-reinstall'"
     ]
    }
   ],
   "source": [
    "set_light_theme()\n",
    "fig, ax = plt.subplots(1,1, figsize=(12, 6))\n",
    "score_columns = [\"spectral_sqrt_cosine_20\", \"spectral_sqrt_cosine_35\", \"spectral_sqrt_cosine_50\", \"spectral_sqrt_cosine\"]\n",
    "\n",
    "df_filtered = df_cas[score_columns]\n",
    "\n",
    "df_melted = df_filtered.melt(var_name='Score_Type')\n",
    "custom_labels = ['20', '35', '50', '20/35/50']\n",
    "magma = sns.color_palette(\"magma_r\", 4)\n",
    "adjusted_last_color = sns.utils.set_hls_values(magma[1], l=min(1.0, magma[-1][2] * 1.2))  # Increase lightness by 20%\n",
    "\n",
    "# Plot boxplots\n",
    "plt.figure(figsize=(10, 6))\n",
    "\n",
    "ax = sns.boxplot(ax=ax, data=df_melted, x='Score_Type', y='value', hue='Score_Type', dodge=False, showfliers=False, palette=magma[:3] + [magma[1]], linewidth=2)\n",
    "bars = ax.patches\n",
    "bars[-1].set_hatch(\".\")\n",
    "#bars[-1].set_hatch_linewidth(2)\n",
    "\n",
    "ax.axhline(df_filtered[\"spectral_sqrt_cosine\"].median(), color='black', linewidth=2, linestyle='dotted', label='Median of spectral_sqrt_cosine')\n",
    "ax.set_xlabel('NCE')\n",
    "ax.set_ylabel('Cosine similarity')\n",
    "ax.set_xticklabels(custom_labels)\n",
    "# fig.savefig(f\"{home}/images/paper/NCE_casmi16.png\", format=\"png\", dpi=600, bbox_inches='tight', pad_inches=0.1)\n",
    "# fig.savefig(f\"{home}/images/paper/NCE_casmi16.pdf\", format=\"pdf\", dpi=600, bbox_inches='tight', pad_inches=0.1)\n",
    "# fig.savefig(f\"{home}/images/paper/NCE_casmi16.svg\", format=\"svg\", dpi=600, bbox_inches='tight', pad_inches=0.1)\n",
    "\n",
    "plt.show()"
   ]
  },
  {
   "cell_type": "code",
   "execution_count": null,
   "metadata": {},
   "outputs": [
    {
     "ename": "",
     "evalue": "",
     "output_type": "error",
     "traceback": [
      "\u001b[1;31mRunning cells with '/bin/python3' requires the ipykernel package.\n",
      "\u001b[1;31mRun the following command to install 'ipykernel' into the Python environment. \n",
      "\u001b[1;31mCommand: '/bin/python3 -m pip install ipykernel -U --user --force-reinstall'"
     ]
    }
   ],
   "source": [
    "df_melted.groupby(\"Score_Type\")[\"value\"].median()"
   ]
  },
  {
   "cell_type": "code",
   "execution_count": null,
   "metadata": {},
   "outputs": [
    {
     "ename": "",
     "evalue": "",
     "output_type": "error",
     "traceback": [
      "\u001b[1;31mRunning cells with '/bin/python3' requires the ipykernel package.\n",
      "\u001b[1;31mRun the following command to install 'ipykernel' into the Python environment. \n",
      "\u001b[1;31mCommand: '/bin/python3 -m pip install ipykernel -U --user --force-reinstall'"
     ]
    }
   ],
   "source": [
    "df_cas.merged_sqrt_cosine_wo_precursor\n",
    "df_cas.merged_sqrt_cosine_wo_precursor"
   ]
  },
  {
   "cell_type": "code",
   "execution_count": null,
   "metadata": {},
   "outputs": [
    {
     "ename": "",
     "evalue": "",
     "output_type": "error",
     "traceback": [
      "\u001b[1;31mRunning cells with '/bin/python3' requires the ipykernel package.\n",
      "\u001b[1;31mRun the following command to install 'ipykernel' into the Python environment. \n",
      "\u001b[1;31mCommand: '/bin/python3 -m pip install ipykernel -U --user --force-reinstall'"
     ]
    }
   ],
   "source": [
    "raise KeyboardInterrupt()"
   ]
  },
  {
   "cell_type": "code",
   "execution_count": null,
   "metadata": {},
   "outputs": [
    {
     "ename": "",
     "evalue": "",
     "output_type": "error",
     "traceback": [
      "\u001b[1;31mRunning cells with '/bin/python3' requires the ipykernel package.\n",
      "\u001b[1;31mRun the following command to install 'ipykernel' into the Python environment. \n",
      "\u001b[1;31mCommand: '/bin/python3 -m pip install ipykernel -U --user --force-reinstall'"
     ]
    }
   ],
   "source": [
    "\n",
    "def filter_peaks(peaks, fraction=0.8, max_peaks=100, min_mz=120):\n",
    "    \n",
    "    # d = {\n",
    "    #     \"mz\": peaks[\"mz\"],\n",
    "    #     \"intensity\": peaks[\"intensity\"]\n",
    "    # }\n",
    "    \n",
    "    # high_mz_idx = np.where(np.array(d[\"mz\"]) > min_mz)[0]\n",
    "    # d[\"mz\"] = d[\"mz\"][high_mz_idx.tolist()] \n",
    "    # d[\"intensity\"] = d[\"intensity\"][high_mz_idx.tolist()]\n",
    "    \n",
    "    order = np.argsort(peaks[\"intensity\"])[::-1] \n",
    "    value = fraction * np.sum(peaks[\"intensity\"])\n",
    "    num_of_relevant_peaks = min(max_peaks - 1, np.argmax(np.cumsum(np.array(peaks[\"intensity\"])[order]) > value))\n",
    "    indices = order[:num_of_relevant_peaks+1]\n",
    "    \n",
    "    \n",
    "    d = {\n",
    "        \"mz\": np.array(peaks[\"mz\"])[indices].tolist(),\n",
    "        \"intensity\": np.array(peaks[\"intensity\"])[indices].tolist()\n",
    "    }\n",
    "\n",
    "\n",
    "    return d\n",
    "    # return d\n",
    "\n",
    "print(df_cas[\"peaks\"].iloc[0])\n",
    "p = filter_peaks(df_cas[\"peaks\"].iloc[0], max_peaks=10)\n",
    "p"
   ]
  },
  {
   "cell_type": "code",
   "execution_count": null,
   "metadata": {},
   "outputs": [
    {
     "ename": "",
     "evalue": "",
     "output_type": "error",
     "traceback": [
      "\u001b[1;31mRunning cells with '/bin/python3' requires the ipykernel package.\n",
      "\u001b[1;31mRun the following command to install 'ipykernel' into the Python environment. \n",
      "\u001b[1;31mCommand: '/bin/python3 -m pip install ipykernel -U --user --force-reinstall'"
     ]
    }
   ],
   "source": [
    "df_cas22[\"num_peaks\"] = df_cas22[\"peaks\"].apply(lambda x: len(x[\"mz\"]))\n",
    "df_cas[\"num_peaks\"] = df_cas[\"peaks\"].apply(lambda x: len(x[\"mz\"]))\n",
    "df_test[\"num_peaks\"] = df_test[\"peaks\"].apply(lambda x: len(x[\"mz\"]))\n",
    "df_cas22[\"filtered_peaks\"] = df_cas22[\"peaks\"].apply(lambda x: filter_peaks(x, max_peaks=20, fraction=0.8))\n",
    "df_cas[\"filtered_peaks\"] = df_cas[\"peaks\"].apply(lambda x: filter_peaks(x, max_peaks=20,fraction=0.8))\n",
    "df_test[\"filtered_peaks\"] = df_test[\"peaks\"].apply(lambda x: filter_peaks(x, max_peaks=20, fraction=0.8))\n",
    "df_cas22[\"num_filtered_peaks\"] = df_cas22[\"filtered_peaks\"].apply(lambda x: len(x[\"mz\"]))\n",
    "df_cas[\"num_filtered_peaks\"] = df_cas[\"filtered_peaks\"].apply(lambda x: len(x[\"mz\"]))\n",
    "df_test[\"num_filtered_peaks\"] = df_test[\"filtered_peaks\"].apply(lambda x: len(x[\"mz\"]))\n",
    "CAT = pd.concat([df_test, df_cas, df_cas22])\n"
   ]
  },
  {
   "cell_type": "code",
   "execution_count": null,
   "metadata": {},
   "outputs": [
    {
     "ename": "",
     "evalue": "",
     "output_type": "error",
     "traceback": [
      "\u001b[1;31mRunning cells with '/bin/python3' requires the ipykernel package.\n",
      "\u001b[1;31mRun the following command to install 'ipykernel' into the Python environment. \n",
      "\u001b[1;31mCommand: '/bin/python3 -m pip install ipykernel -U --user --force-reinstall'"
     ]
    }
   ],
   "source": [
    "CAT[\"Precursor_type\"]"
   ]
  },
  {
   "cell_type": "code",
   "execution_count": null,
   "metadata": {},
   "outputs": [
    {
     "ename": "",
     "evalue": "",
     "output_type": "error",
     "traceback": [
      "\u001b[1;31mRunning cells with '/bin/python3' requires the ipykernel package.\n",
      "\u001b[1;31mRun the following command to install 'ipykernel' into the Python environment. \n",
      "\u001b[1;31mCommand: '/bin/python3 -m pip install ipykernel -U --user --force-reinstall'"
     ]
    }
   ],
   "source": [
    "\n",
    "fig, axs = plt.subplots(3, 4, figsize=(12, 8), sharex='col', sharey=\"col\")\n",
    "plt.subplots_adjust(hspace=0.1, wspace=0.20, right=0.95)#, top=0.94, bottom=0.12, right=0.97, left=0)\n",
    "\n",
    "dataset_names = [\"Test split\", \"CASMI 16\", \"CASMI 22\"]\n",
    "\n",
    "\n",
    "# Loop through each row and set row labels\n",
    "for i, dataset_name in enumerate(dataset_names):\n",
    "    axs[i, 0].set_ylabel(dataset_name, rotation=90, labelpad=10, ha='center', va='center', fontsize=12, fontweight='bold')\n",
    "    # Column 1\n",
    "    sns.histplot(ax=axs[i, 0], data=CAT[CAT[\"Dataset\"] == dataset_name], x=\"CE\", binwidth=5, stat=\"percent\")\n",
    "    axs[i, 0].set_xlim(0, 100)\n",
    "    axs[i,  0].set_xticks([0, 25, 50, 75, 100])\n",
    "    axs[i,  0].set_xlabel(\"Collision energy (eV)\")\n",
    "\n",
    "    # Column 2\n",
    "    sns.histplot(ax=axs[i, 1], data=CAT[CAT[\"Dataset\"] == dataset_name], x=\"num_peaks\", binwidth=10, stat=\"percent\")\n",
    "    axs[i, 1].set_xticks(list(range(0,260,50)))\n",
    "    axs[i, 1].set_xlim(0, 250)\n",
    "    axs[i, 1].set_xlabel(\"Number of peaks\")\n",
    "    axs[i, 1].set_ylabel(\"\")\n",
    "\n",
    "    \n",
    "    # Column 3\n",
    "    mz = [item for sublist in CAT[CAT[\"Dataset\"] == dataset_name][\"peaks\"].apply(lambda x: x[\"mz\"]) for item in sublist]    \n",
    "    sns.histplot(mz, ax=axs[i, 2], binwidth=10, stat=\"percent\")\n",
    "    axs[i, 2].set_xticks(list(range(0,550,100)))\n",
    "    axs[i, 2].set_xlim(0, 500)\n",
    "    axs[i, 2].set_xlabel(\"Peak m/z\")\n",
    "    axs[i, 2].set_ylabel(\"\")\n",
    "    axs[i, 2].axvline(x=125, color='black', linestyle='--', linewidth=1)\n",
    "    \n",
    "    # Column 4\n",
    "    sns.histplot(ax=axs[i, 3], data=CAT[CAT[\"Dataset\"] == dataset_name], x=\"num_filtered_peaks\", hue=\"Precursor_type\", binwidth=1, stat=\"percent\", multiple=\"dodge\", hue_order=[\"[M+H]+\", \"[M-H]-\"])\n",
    "    axs[i, 3].set_xlim(1, 21)\n",
    "    if i > 0:\n",
    "        axs[i, 3].legend().set_visible(False)\n",
    "    axs[i, 3].set_xlabel(\"Number of peaks\\nexplaining 80% of intensity\")\n",
    "    axs[i, 3].set_ylabel(\"\")\n",
    "    \n",
    "# fig.savefig(f\"{home}/images/paper/data_hists.png\", format=\"png\", dpi=600, bbox_inches='tight', pad_inches=0.1)\n",
    "# fig.savefig(f\"{home}/images/paper/data_hists.pdf\", format=\"pdf\", dpi=600, bbox_inches='tight', pad_inches=0.1)\n",
    "# fig.savefig(f\"{home}/images/paper/data_hists.svg\", format=\"svg\", dpi=600, bbox_inches='tight', pad_inches=0.1)\n",
    "plt.show()"
   ]
  },
  {
   "cell_type": "code",
   "execution_count": null,
   "metadata": {},
   "outputs": [
    {
     "ename": "",
     "evalue": "",
     "output_type": "error",
     "traceback": [
      "\u001b[1;31mRunning cells with '/bin/python3' requires the ipykernel package.\n",
      "\u001b[1;31mRun the following command to install 'ipykernel' into the Python environment. \n",
      "\u001b[1;31mCommand: '/bin/python3 -m pip install ipykernel -U --user --force-reinstall'"
     ]
    }
   ],
   "source": [
    "from fiora.MS.spectral_scores import spectral_cosine\n",
    "df_cas22[\"filtered_cosine\"] = df_cas22.apply(lambda x: spectral_cosine(x[\"sim_peaks\"], x[\"filtered_peaks\"], transform=np.sqrt) , axis=1)"
   ]
  },
  {
   "cell_type": "code",
   "execution_count": null,
   "metadata": {},
   "outputs": [
    {
     "ename": "",
     "evalue": "",
     "output_type": "error",
     "traceback": [
      "\u001b[1;31mRunning cells with '/bin/python3' requires the ipykernel package.\n",
      "\u001b[1;31mRun the following command to install 'ipykernel' into the Python environment. \n",
      "\u001b[1;31mCommand: '/bin/python3 -m pip install ipykernel -U --user --force-reinstall'"
     ]
    }
   ],
   "source": [
    "sns.scatterplot(df_cas[\"cfm_sqrt_cosine\"], df_cas[\"CE\"])"
   ]
  },
  {
   "cell_type": "code",
   "execution_count": null,
   "metadata": {},
   "outputs": [
    {
     "ename": "",
     "evalue": "",
     "output_type": "error",
     "traceback": [
      "\u001b[1;31mRunning cells with '/bin/python3' requires the ipykernel package.\n",
      "\u001b[1;31mRun the following command to install 'ipykernel' into the Python environment. \n",
      "\u001b[1;31mCommand: '/bin/python3 -m pip install ipykernel -U --user --force-reinstall'"
     ]
    }
   ],
   "source": [
    "df_test[\"CE_10\"] = np.ceil(df_test[\"CE\"] / 10) * 10"
   ]
  },
  {
   "cell_type": "code",
   "execution_count": null,
   "metadata": {},
   "outputs": [
    {
     "ename": "",
     "evalue": "",
     "output_type": "error",
     "traceback": [
      "\u001b[1;31mRunning cells with '/bin/python3' requires the ipykernel package.\n",
      "\u001b[1;31mRun the following command to install 'ipykernel' into the Python environment. \n",
      "\u001b[1;31mCommand: '/bin/python3 -m pip install ipykernel -U --user --force-reinstall'"
     ]
    }
   ],
   "source": [
    "fig, axs = plt.subplots(2, 2, figsize=(16,12), gridspec_kw={'width_ratios': [1, 1]}, sharex=True, sharey=True)\n",
    "plt.subplots_adjust(hspace=0.12, wspace=0.05)#top=0.94, bottom=0.12, right=0.97, left=0.08)\n",
    "\n",
    "magma10 = sns.color_palette(\"magma_r\", 18)[:10]\n",
    "sns.boxplot(ax=axs[0,0], data=df_test, y=\"spectral_sqrt_cosine\", x=\"CE_10\", showfliers=False, palette=magma10, linewidth=1.5) # color=\"white\", linewidth=2, linecolor=\"black\")\n",
    "axs[0,0].set_title(\"Fiora\", fontweight=\"bold\")\n",
    "axs[0,0].set_ylabel(\"Cosine similarity\")\n",
    "\n",
    "sns.boxplot(ax=axs[0,1], data=df_test, y=\"ice_sqrt_cosine\", x=\"CE_10\", showfliers=False, palette=magma10, linewidth=1.5)\n",
    "axs[0,1].set_title(\"ICEBERG\", fontweight=\"bold\")\n",
    "axs[0,1].set_xlabel(\"Collision energy\")\n",
    "axs[0, 1].xaxis.set_label_position('bottom')\n",
    "axs[0,1].set_xticklabels(list(range(10, 110, 10)))\n",
    "axs[0, 1].tick_params(axis='x', which='both', bottom=True, top=False, labelbottom=True)  # Ensure tick labels visibility\n",
    "axs[0, 1].xaxis.label.set_visible(True)\n",
    "\n",
    "sns.boxplot(ax=axs[1,0], data=df_test, y=\"cfm_sqrt_cosine\", x=\"CE_10\", showfliers=False, palette=magma10, linewidth=1.5)\n",
    "axs[1,0].set_title(\"CFM-ID\", fontweight=\"bold\")\n",
    "axs[1,0].set_xlabel(\"Collision energy\")\n",
    "axs[1,0].set_ylabel(\"Cosine similarity\")\n",
    "\n",
    "axs[1, 1].remove()\n",
    "\n",
    "# fig.savefig(f\"{home}/images/paper/cosine_ce.png\", format=\"png\", dpi=600, bbox_inches='tight', pad_inches=0.1)\n",
    "# fig.savefig(f\"{home}/images/paper/cosine_ce.pdf\", format=\"pdf\", dpi=600, bbox_inches='tight', pad_inches=0.1)\n",
    "# fig.savefig(f\"{home}/images/paper/cosine_ce.svg\", format=\"svg\", dpi=600, bbox_inches='tight', pad_inches=0.1)\n",
    "\n",
    "plt.show()\n",
    "\n"
   ]
  },
  {
   "cell_type": "code",
   "execution_count": null,
   "metadata": {},
   "outputs": [
    {
     "ename": "",
     "evalue": "",
     "output_type": "error",
     "traceback": [
      "\u001b[1;31mRunning cells with '/bin/python3' requires the ipykernel package.\n",
      "\u001b[1;31mRun the following command to install 'ipykernel' into the Python environment. \n",
      "\u001b[1;31mCommand: '/bin/python3 -m pip install ipykernel -U --user --force-reinstall'"
     ]
    }
   ],
   "source": [
    "df_test.columns"
   ]
  },
  {
   "cell_type": "code",
   "execution_count": null,
   "metadata": {},
   "outputs": [
    {
     "ename": "",
     "evalue": "",
     "output_type": "error",
     "traceback": [
      "\u001b[1;31mRunning cells with '/bin/python3' requires the ipykernel package.\n",
      "\u001b[1;31mRun the following command to install 'ipykernel' into the Python environment. \n",
      "\u001b[1;31mCommand: '/bin/python3 -m pip install ipykernel -U --user --force-reinstall'"
     ]
    }
   ],
   "source": [
    "fig, ax = plt.subplots(1, 1, figsize=(8, 6), sharex=True, sharey=True)\n",
    "\n",
    "sns.boxplot(data=df_test, y=\"coverage\", x=\"CE_10\", showfliers=False, palette=magma10, linewidth=1.5) # color=\"white\", linewidth=2, linecolor=\"black\")\n",
    "ax.set_xticklabels(list(range(10, 110, 10)))\n",
    "ax.set_xlabel(\"Collision energy\")\n",
    "ax.set_ylabel(\"Peak intensity coverage\")\n",
    "# fig.savefig(f\"{home}/images/paper/coverage_ce.png\", format=\"png\", dpi=600, bbox_inches='tight', pad_inches=0.1)\n",
    "# fig.savefig(f\"{home}/images/paper/coverage_ce.pdf\", format=\"pdf\", dpi=600, bbox_inches='tight', pad_inches=0.1)\n",
    "# fig.savefig(f\"{home}/images/paper/coverage_ce.svg\", format=\"svg\", dpi=600, bbox_inches='tight', pad_inches=0.1)\n",
    "plt.show()"
   ]
  },
  {
   "cell_type": "code",
   "execution_count": null,
   "metadata": {},
   "outputs": [
    {
     "ename": "",
     "evalue": "",
     "output_type": "error",
     "traceback": [
      "\u001b[1;31mRunning cells with '/bin/python3' requires the ipykernel package.\n",
      "\u001b[1;31mRun the following command to install 'ipykernel' into the Python environment. \n",
      "\u001b[1;31mCommand: '/bin/python3 -m pip install ipykernel -U --user --force-reinstall'"
     ]
    }
   ],
   "source": [
    "sns.boxplot(df_test, y=\"ice_sqrt_cosine\", x=\"CE_10\")\n"
   ]
  },
  {
   "cell_type": "code",
   "execution_count": null,
   "metadata": {},
   "outputs": [
    {
     "ename": "",
     "evalue": "",
     "output_type": "error",
     "traceback": [
      "\u001b[1;31mRunning cells with '/bin/python3' requires the ipykernel package.\n",
      "\u001b[1;31mRun the following command to install 'ipykernel' into the Python environment. \n",
      "\u001b[1;31mCommand: '/bin/python3 -m pip install ipykernel -U --user --force-reinstall'"
     ]
    }
   ],
   "source": [
    "sns.scatterplot(df_test, y=\"cfm_sqrt_cosine\", x=\"CE\")\n"
   ]
  },
  {
   "cell_type": "code",
   "execution_count": null,
   "metadata": {},
   "outputs": [
    {
     "ename": "",
     "evalue": "",
     "output_type": "error",
     "traceback": [
      "\u001b[1;31mRunning cells with '/bin/python3' requires the ipykernel package.\n",
      "\u001b[1;31mRun the following command to install 'ipykernel' into the Python environment. \n",
      "\u001b[1;31mCommand: '/bin/python3 -m pip install ipykernel -U --user --force-reinstall'"
     ]
    }
   ],
   "source": [
    "fig, axs = plt.subplots(1, 3, figsize=(18,6), gridspec_kw={'width_ratios': [1, 1, 1]}, sharey=True)\n",
    "plt.subplots_adjust(wspace=0.05)\n",
    "\n",
    "sns.boxplot(ax=axs[0], data=df_cas22, y=\"spectral_sqrt_cosine\", x=\"NCE\", hue=\"NCE\", palette=magma[:3])\n",
    "#sns.boxplot(ax=axs[1], data=df_cas22, y=\"filtered_cosine\", x=\"NCE\", hue=\"NCE\", palette=magma[:3])\n",
    "\n",
    "sns.boxplot(ax=axs[1], data=df_cas22, y=\"cfm_sqrt_cosine\", x=\"NCE\", hue=\"NCE\", palette=magma[:3])\n",
    "sns.boxplot(ax=axs[2], data=df_cas22, y=\"ice_sqrt_cosine\", x=\"NCE\", hue=\"NCE\", palette=magma[:3])\n",
    "axs[0].set_title(\"Fiora\", fontweight=\"bold\")\n",
    "axs[1].set_title(\"CFM-ID\", fontweight=\"bold\")\n",
    "axs[2].set_title(\"ICEBERG\", fontweight=\"bold\")\n",
    "axs[0].set_ylabel(\"Cosine similarity\")\n",
    "for ax in axs:\n",
    "    ax.get_legend().remove()\n",
    "\n",
    "# fig.savefig(f\"{home}/images/paper/casmi22_nce.png\", format=\"png\", dpi=600, bbox_inches='tight', pad_inches=0.1)\n",
    "# fig.savefig(f\"{home}/images/paper/casmi22_nce.pdf\", format=\"pdf\", dpi=600, bbox_inches='tight', pad_inches=0.1)\n",
    "# fig.savefig(f\"{home}/images/paper/casmi22_nce.svg\", format=\"svg\", dpi=600, bbox_inches='tight', pad_inches=0.1)\n",
    "\n",
    "plt.show()\n"
   ]
  },
  {
   "cell_type": "markdown",
   "metadata": {},
   "source": [
    "### Coverage"
   ]
  },
  {
   "cell_type": "code",
   "execution_count": null,
   "metadata": {},
   "outputs": [
    {
     "ename": "",
     "evalue": "",
     "output_type": "error",
     "traceback": [
      "\u001b[1;31mRunning cells with '/bin/python3' requires the ipykernel package.\n",
      "\u001b[1;31mRun the following command to install 'ipykernel' into the Python environment. \n",
      "\u001b[1;31mCommand: '/bin/python3 -m pip install ipykernel -U --user --force-reinstall'"
     ]
    }
   ],
   "source": [
    "set_light_theme()\n",
    "fig, axs = plt.subplots(2, 1, figsize=(12, 14), sharex=True, gridspec_kw={'height_ratios': [1, 5]})\n",
    "plt.subplots_adjust(hspace=0.025)#right=0.975, left=0.11)\n",
    "#sns.histplot(ax=axs[0], data=df_cas22, x=\"coverage\", binwidth=0.02, kde_kws={\"bw_adjust\": 0.1}, multiple=\"stack\", kde=True, color=\"black\", palette=[\"black\", \"gray\"]) #hue=\"Precursor_type\", \n",
    "plt.rc('legend', loc=\"upper center\")\n",
    "sns.kdeplot(ax=axs[0], data=CAT[CAT[\"Dataset\"] != \"Test split\"], x=\"coverage\", bw_adjust=0.2, color=\"black\", fill=True, multiple=\"layer\", hue=\"Dataset\", common_norm=False, palette=tri_palette[1:]) #hue=\"Precursor_type\", \n",
    "axs[0].spines['top'].set_visible(False)\n",
    "axs[0].spines['right'].set_visible(False)\n",
    "#axs[0].legend(loc='upper center')\n",
    "plt.xlim([-0.05, 1.05])\n",
    "axs[1].set_ylim([-0.05, 1.05])\n",
    "# Generating x values\n",
    "x = np.linspace(0, 1, 200)\n",
    "y = np.sqrt(x)\n",
    "sns.lineplot(x=x, y=y, color=\"black\", linestyle=\"dotted\")\n",
    "\n",
    "#axs[0].set_title(\"Impact of coverage on cosine scores\")\n",
    "sns.scatterplot(ax=axs[1], data=CAT[CAT[\"Dataset\"] != \"Test split\"], x=\"coverage\", y=\"spectral_sqrt_cosine\", hue=\"Dataset\", style=\"Dataset\", markers=[(4,1,0), \".\"], s=100, palette=tri_palette[1:]) #, hue_norm=(0, 1), palette=bluepink_grad)\n",
    "axs[1].set_ylabel(\"Cosine similarity\")\n",
    "axs[1].set_xlabel(\"Peak intensity coverage\")\n",
    "axs[1].legend(title=\"Dataset\", loc='upper left')\n",
    "# fig.savefig(f\"{home}/images/paper/coverage_top_only.svg\", format=\"svg\", dpi=600, bbox_inches='tight', pad_inches=0.1)\n",
    "# fig.savefig(f\"{home}/images/paper/coverage_top_only.pdf\", format=\"pdf\", dpi=600, bbox_inches='tight', pad_inches=0.1)\n",
    "# fig.savefig(f\"{home}/images/paper/coverage_top_only.png\", format=\"png\", dpi=600, bbox_inches='tight', pad_inches=0.1)\n",
    "\n",
    "plt.show()"
   ]
  },
  {
   "cell_type": "code",
   "execution_count": null,
   "metadata": {},
   "outputs": [
    {
     "ename": "",
     "evalue": "",
     "output_type": "error",
     "traceback": [
      "\u001b[1;31mRunning cells with '/bin/python3' requires the ipykernel package.\n",
      "\u001b[1;31mRun the following command to install 'ipykernel' into the Python environment. \n",
      "\u001b[1;31mCommand: '/bin/python3 -m pip install ipykernel -U --user --force-reinstall'"
     ]
    }
   ],
   "source": [
    "set_light_theme()\n",
    "fig, axs = plt.subplots(2, 2, figsize=(14, 14), sharex=False, sharey=False, gridspec_kw={'height_ratios': [1, 5], 'width_ratios': [5, 1]})\n",
    "plt.subplots_adjust(hspace=0.025, wspace=0.025)#hspace=0.025)#right=0.975, left=0.11)\n",
    "#sns.histplot(ax=axs[0], data=df_cas22, x=\"coverage\", binwidth=0.02, kde_kws={\"bw_adjust\": 0.1}, multiple=\"stack\", kde=True, color=\"black\", palette=[\"black\", \"gray\"]) #hue=\"Precursor_type\", \n",
    "plt.rc('legend', loc=\"upper center\")\n",
    "sns.kdeplot(ax=axs[0,0], data=CAT[CAT[\"Dataset\"] != \"Test split\"], x=\"coverage\", bw_adjust=0.2, color=\"black\", fill=True, multiple=\"layer\", hue=\"Dataset\", common_norm=False, palette=tri_palette[1:]) #hue=\"Precursor_type\", \n",
    "axs[0,0].spines['top'].set_visible(False)\n",
    "axs[0,0].spines['right'].set_visible(False)\n",
    "axs[0,0].set_xlim([-0.05, 1.05])\n",
    "axs[0,0].set_xlabel(\"\")\n",
    "axs[0,0].set_xticklabels(\"\")\n",
    "#axs[0].legend(loc='upper center')\n",
    "axs[1,0].set_xlim([-0.05, 1.05])\n",
    "axs[1,0].set_ylim([-0.05, 1.05])\n",
    "axs[1, 0].set_aspect('equal')\n",
    "# Generating x values\n",
    "x = np.linspace(0, 1, 200)\n",
    "y = np.sqrt(x)\n",
    "sns.lineplot(x=x, y=y, color=\"black\", linestyle=\"dotted\", ax=axs[1,0])\n",
    "\n",
    "\n",
    "#axs[0].set_title(\"Impact of coverage on cosine scores\")\n",
    "sns.scatterplot(ax=axs[1,0], data=CAT[CAT[\"Dataset\"] != \"Test split\"], x=\"coverage\", y=\"spectral_sqrt_cosine\", hue=\"Dataset\", style=\"Dataset\", markers=[(4,1,0), \".\"], s=100, palette=tri_palette[1:]) #, hue_norm=(0, 1), palette=bluepink_grad)\n",
    "axs[1,0].set_ylabel(\"Cosine similarity\")\n",
    "axs[1,0].set_xlabel(\"Peak intensity coverage\")\n",
    "axs[1,0].legend(title=\"Dataset\", loc='upper left')\n",
    "\n",
    "\n",
    "# Box plots\n",
    "\n",
    "sns.kdeplot(ax=axs[1,1], data=CAT[CAT[\"Dataset\"] != \"Test split\"], y=\"spectral_sqrt_cosine\", bw_adjust=0.2, color=\"black\", fill=True, multiple=\"layer\", hue=\"Dataset\", common_norm=False, palette=tri_palette[1:]) #hue=\"Precursor_type\", \n",
    "#sns.boxplot(ax=axs[1,1], data=CAT[CAT[\"Dataset\"] != \"Test split\"], y=\"spectral_sqrt_cosine\", hue=\"Dataset\", palette=tri_palette[1:])\n",
    "\n",
    "axs[1,1].set_ylim(axs[1,0].get_ylim())\n",
    "axs[1,1].set_ylabel(\"\")\n",
    "axs[1,1].set_yticklabels(\"\")\n",
    "axs[1,1].legend().remove()\n",
    "axs[1,1].spines['top'].set_visible(False)\n",
    "axs[1,1].spines['right'].set_visible(False)\n",
    "fig.delaxes(axs[0, 1])\n",
    "\n",
    "for ax in axs.flat:\n",
    "    ax.yaxis.set_label_coords(-0.045, 0.5)  # Distance from y-axis to ylabel\n",
    "    ax.xaxis.set_label_coords(0.5, -0.045)  # Distance from x-axis to xlabel\n",
    "\n",
    "\n",
    "\n",
    "# fig.savefig(f\"{home}/images/paper/coverage.svg\", format=\"svg\", dpi=600, bbox_inches='tight', pad_inches=0.1)\n",
    "# fig.savefig(f\"{home}/images/paper/coverage.pdf\", format=\"pdf\", dpi=600, bbox_inches='tight', pad_inches=0.1)\n",
    "# fig.savefig(f\"{home}/images/paper/coverage.png\", format=\"png\", dpi=600, bbox_inches='tight', pad_inches=0.1)\n",
    "\n",
    "plt.show()"
   ]
  },
  {
   "cell_type": "code",
   "execution_count": null,
   "metadata": {},
   "outputs": [
    {
     "ename": "",
     "evalue": "",
     "output_type": "error",
     "traceback": [
      "\u001b[1;31mRunning cells with '/bin/python3' requires the ipykernel package.\n",
      "\u001b[1;31mRun the following command to install 'ipykernel' into the Python environment. \n",
      "\u001b[1;31mCommand: '/bin/python3 -m pip install ipykernel -U --user --force-reinstall'"
     ]
    }
   ],
   "source": [
    "import numpy as np\n",
    "\n",
    "# Define the vectors\n",
    "x1 = np.array([1, 0, 0])\n",
    "y1 = np.array([0.5, 0.5, 0.0])\n",
    "\n",
    "# Calculate the magnitudes of the vectors\n",
    "magnitude_x1 = np.linalg.norm(x1)\n",
    "magnitude_y1 = np.linalg.norm(y1)\n",
    "\n",
    "# Normalize the vectors\n",
    "normalized_x1 = x1 / magnitude_x1\n",
    "normalized_y1 = y1 / magnitude_y1\n",
    "\n",
    "print(\"Normalized x1:\", normalized_x1)\n",
    "print(\"Normalized y1:\", normalized_y1)\n",
    "\n",
    "from fiora.MS.spectral_scores import cosine\n",
    "\n",
    "print(\"Cosine:\", cosine(normalized_x1, normalized_y1))"
   ]
  },
  {
   "cell_type": "code",
   "execution_count": null,
   "metadata": {},
   "outputs": [
    {
     "ename": "",
     "evalue": "",
     "output_type": "error",
     "traceback": [
      "\u001b[1;31mRunning cells with '/bin/python3' requires the ipykernel package.\n",
      "\u001b[1;31mRun the following command to install 'ipykernel' into the Python environment. \n",
      "\u001b[1;31mCommand: '/bin/python3 -m pip install ipykernel -U --user --force-reinstall'"
     ]
    }
   ],
   "source": [
    "fig, axs = plt.subplots(2, 1, figsize=(6, 7), sharex=True, gridspec_kw={'height_ratios': [1, 5]})\n",
    "plt.subplots_adjust(hspace=0.05)#right=0.975, left=0.11)\n",
    "#sns.histplot(ax=axs[0], data=df_cas22, x=\"coverage\", binwidth=0.02, kde_kws={\"bw_adjust\": 0.1}, multiple=\"stack\", kde=True, color=\"black\", palette=[\"black\", \"gray\"]) #hue=\"Precursor_type\", \n",
    "sns.kdeplot(ax=axs[0], data=df_test, x=\"coverage\", bw_adjust=0.2, color=\"black\", fill=True, multiple=\"layer\", hue=\"Dataset\", common_norm=False, palette=tri_palette[1:]) #hue=\"Precursor_type\", \n",
    "axs[0].spines['top'].set_visible(False)\n",
    "axs[0].spines['right'].set_visible(False)\n",
    "\n",
    "axs[0].set_title(\"Impact of coverage on cosine scores\")\n",
    "sns.scatterplot(ax=axs[1], data=df_test, x=\"coverage\", y=\"spectral_sqrt_cosine\", hue=\"Dataset\", style=\"Dataset\", markers=[\".\", \"X\", \"*\"][1:], marker=\".\", palette=tri_palette[1:]) #, hue_norm=(0, 1), palette=bluepink_grad)\n",
    "axs[1].set_ylabel(\"Cosine similarity\")\n",
    "axs[1].set_xlabel(\"Peak intensity coverage\")\n",
    "plt.show()"
   ]
  },
  {
   "cell_type": "code",
   "execution_count": null,
   "metadata": {},
   "outputs": [
    {
     "ename": "",
     "evalue": "",
     "output_type": "error",
     "traceback": [
      "\u001b[1;31mRunning cells with '/bin/python3' requires the ipykernel package.\n",
      "\u001b[1;31mRun the following command to install 'ipykernel' into the Python environment. \n",
      "\u001b[1;31mCommand: '/bin/python3 -m pip install ipykernel -U --user --force-reinstall'"
     ]
    }
   ],
   "source": [
    "df_cas.loc[17].is_priority"
   ]
  },
  {
   "cell_type": "code",
   "execution_count": null,
   "metadata": {},
   "outputs": [
    {
     "ename": "",
     "evalue": "",
     "output_type": "error",
     "traceback": [
      "\u001b[1;31mRunning cells with '/bin/python3' requires the ipykernel package.\n",
      "\u001b[1;31mRun the following command to install 'ipykernel' into the Python environment. \n",
      "\u001b[1;31mCommand: '/bin/python3 -m pip install ipykernel -U --user --force-reinstall'"
     ]
    }
   ],
   "source": [
    "ids = [17, 58, 68, 75, 102, 107, 128, 145, 163, 205]\n",
    "example_input = df_cas[df_cas[\"is_priority\"]].loc[ids].copy()[[\"SMILES\", \"avg_CE\", \"Precursor_type\", \"Instrument_type\", \"peaks\"]]\n",
    "example_input[\"CE\"] = example_input[\"avg_CE\"].astype(int)\n",
    "example_input[\"Name\"] = [f\"Example_{i}\" for i in range(example_input.shape[0])]\n",
    "# example_input[[\"Name\", \"SMILES\", \"Precursor_type\", \"CE\", \"Instrument_type\"]].to_csv(\"../examples/example_input.csv\", index=False)\n",
    "example_input[[\"Name\", \"SMILES\", \"Precursor_type\", \"CE\", \"Instrument_type\"]]"
   ]
  },
  {
   "cell_type": "code",
   "execution_count": null,
   "metadata": {},
   "outputs": [
    {
     "ename": "",
     "evalue": "",
     "output_type": "error",
     "traceback": [
      "\u001b[1;31mRunning cells with '/bin/python3' requires the ipykernel package.\n",
      "\u001b[1;31mRun the following command to install 'ipykernel' into the Python environment. \n",
      "\u001b[1;31mCommand: '/bin/python3 -m pip install ipykernel -U --user --force-reinstall'"
     ]
    }
   ],
   "source": [
    "reset_matplotlib()\n",
    "\n",
    "df_print = df_cas[(df_cas[\"merged_sqrt_cosine\"] > 0.70) & (df_cas[\"merged_sqrt_bias\"] < 0.6)]\n",
    "#df_print = df_test[(df_test[\"spectral_sqrt_cosine\"] > 0.85) & (df_test[\"spectral_sqrt_bias\"] < 0.6) & (df_test[\"lib\"] == \"MSDIAL\")]\n",
    "\n",
    "print(df_print.shape)\n",
    "for i, data in df_print.iterrows():\n",
    "    fig, axs = plt.subplots(1, 2, figsize=(9,3), gridspec_kw={'width_ratios': [1, 3]}, sharey=False)\n",
    "    img = data[\"Metabolite\"].draw(ax= axs[0])\n",
    "    print(i, data[\"ChallengeName\"])\n",
    "    sv.plot_spectrum(data, {\"peaks\": data[\"sim_peaks\"]}, highlight_matches=True, ppm_tolerance=200, ax=axs[1])\n",
    "    plt.show()"
   ]
  },
  {
   "cell_type": "code",
   "execution_count": null,
   "metadata": {},
   "outputs": [
    {
     "ename": "",
     "evalue": "",
     "output_type": "error",
     "traceback": [
      "\u001b[1;31mRunning cells with '/bin/python3' requires the ipykernel package.\n",
      "\u001b[1;31mRun the following command to install 'ipykernel' into the Python environment. \n",
      "\u001b[1;31mCommand: '/bin/python3 -m pip install ipykernel -U --user --force-reinstall'"
     ]
    }
   ],
   "source": [
    "def peaks_by_intensity(peaks):\n",
    "    z = zip(peaks[\"mz\"], peaks[\"intensity\"], peaks[\"annotation\"])\n",
    "    return sorted(z, key=lambda x: x[1], reverse=True)"
   ]
  },
  {
   "cell_type": "code",
   "execution_count": null,
   "metadata": {},
   "outputs": [
    {
     "ename": "",
     "evalue": "",
     "output_type": "error",
     "traceback": [
      "\u001b[1;31mRunning cells with '/bin/python3' requires the ipykernel package.\n",
      "\u001b[1;31mRun the following command to install 'ipykernel' into the Python environment. \n",
      "\u001b[1;31mCommand: '/bin/python3 -m pip install ipykernel -U --user --force-reinstall'"
     ]
    }
   ],
   "source": [
    "df_test.head()"
   ]
  },
  {
   "cell_type": "code",
   "execution_count": null,
   "metadata": {},
   "outputs": [
    {
     "ename": "",
     "evalue": "",
     "output_type": "error",
     "traceback": [
      "\u001b[1;31mRunning cells with '/bin/python3' requires the ipykernel package.\n",
      "\u001b[1;31mRun the following command to install 'ipykernel' into the Python environment. \n",
      "\u001b[1;31mCommand: '/bin/python3 -m pip install ipykernel -U --user --force-reinstall'"
     ]
    }
   ],
   "source": [
    "# df_print = df_test[(df_test[\"spectral_sqrt_cosine\"] > 0.7) & (df_test[\"spectral_sqrt_bias\"] < 0.7) & (df_test[\"lib\"] == \"MSDIAL\")]\n",
    "\n",
    "# print(df_print.shape)\n",
    "# for i, data in df_print.iterrows():\n",
    "#     fig, axs = plt.subplots(1, 2, figsize=(9,3), gridspec_kw={'width_ratios': [1, 3]}, sharey=False)\n",
    "#     img = data[\"Metabolite\"].draw(ax= axs[0])\n",
    "#     print(i)\n",
    "#     sv.plot_spectrum(data, {\"peaks\": data[\"sim_peaks\"]}, highlight_matches=True, ppm_tolerance=200, ax=axs[1])\n",
    "#     plt.show()\n",
    "    \n",
    "    \n",
    "smallbutrelatable = [85073, 80082, 1916, 80698, 80083, 82664, 83920, 84096, 84102, 84110, 85073, 89637, 90222, 95985, 95988]\n",
    "\n",
    "for i in smallbutrelatable:\n",
    "    data = df_test.loc[i]\n",
    "    print(i, data[\"CE\"], data[\"Precursor_type\"])\n",
    "    f = peaks_by_intensity(data[\"sim_peaks\"])\n",
    "    fig, ax = plt.subplots(1,1,figsize=(1.5,1.5))\n",
    "    Metabolite(f[0][2].split(\"//\")[0]).draw()\n",
    "    plt.show()\n",
    "    fig, axs = plt.subplots(1, 2, figsize=(9,3), gridspec_kw={'width_ratios': [1, 3]}, sharey=False)\n",
    "    img = data[\"Metabolite\"].draw(ax= axs[0])\n",
    "    sv.plot_spectrum(data, {\"peaks\": data[\"sim_peaks\"]}, highlight_matches=True, ppm_tolerance=200, ax=axs[1])\n",
    "    plt.show()"
   ]
  },
  {
   "cell_type": "markdown",
   "metadata": {},
   "source": [
    "### Example"
   ]
  },
  {
   "cell_type": "code",
   "execution_count": null,
   "metadata": {},
   "outputs": [
    {
     "ename": "",
     "evalue": "",
     "output_type": "error",
     "traceback": [
      "\u001b[1;31mRunning cells with '/bin/python3' requires the ipykernel package.\n",
      "\u001b[1;31mRun the following command to install 'ipykernel' into the Python environment. \n",
      "\u001b[1;31mCommand: '/bin/python3 -m pip install ipykernel -U --user --force-reinstall'"
     ]
    }
   ],
   "source": [
    "df_train[df_train[\"Name\"] == \"Indole-3-acetyl-L-alanine\"][\"Metabolite\"].iloc[0].tanimoto_similarity(data[\"Metabolite\"])\n"
   ]
  },
  {
   "cell_type": "code",
   "execution_count": null,
   "metadata": {},
   "outputs": [
    {
     "ename": "",
     "evalue": "",
     "output_type": "error",
     "traceback": [
      "\u001b[1;31mRunning cells with '/bin/python3' requires the ipykernel package.\n",
      "\u001b[1;31mRun the following command to install 'ipykernel' into the Python environment. \n",
      "\u001b[1;31mCommand: '/bin/python3 -m pip install ipykernel -U --user --force-reinstall'"
     ]
    }
   ],
   "source": [
    "### GOLD EXAMPLE\n",
    "data = df_test.loc[80082]\n",
    "print(data[\"Name\"], data[\"group_id\"])\n",
    "reset_matplotlib()\n",
    "\n",
    "f = peaks_by_intensity(data[\"sim_peaks\"])\n",
    "print(f[0])\n",
    "Metabolite(f[0][2].split(\"//\")[0]).draw()\n",
    "plt.show()\n",
    "fig, axs = plt.subplots(1, 2, figsize=(9,3), gridspec_kw={'width_ratios': [1, 3]}, sharey=False)\n",
    "img = data[\"Metabolite\"].draw(ax= axs[0])\n",
    "\n",
    "\n",
    "sv.plot_spectrum(data, {\"peaks\": data[\"sim_peaks\"]}, highlight_matches=True, ppm_tolerance=200, ax=axs[1])\n",
    "# fig.savefig(f\"{home}/images/paper/ex_mirror.svg\", format=\"svg\", dpi=600, bbox_inches='tight', pad_inches=0.1)\n",
    "plt.show()\n",
    "\n",
    "\n",
    "fig, ax = plt.subplots(1, 1, figsize=(9,3))\n",
    "sv.plot_spectrum(data, ax=ax)\n",
    "# fig.savefig(f\"{home}/images/paper/ex_original.svg\", format=\"svg\", dpi=600, bbox_inches='tight', pad_inches=0.1)\n",
    "\n",
    "plt.show()\n",
    "fig, ax = plt.subplots(1, 1, figsize=(9,3))\n",
    "sv.plot_spectrum({\"peaks\": data[\"sim_peaks\"]}, ax=ax)\n",
    "# fig.savefig(f\"{home}/images/paper/ex_prediction.svg\", format=\"svg\", dpi=600, bbox_inches='tight', pad_inches=0.1)\n",
    "\n",
    "plt.show()\n"
   ]
  },
  {
   "cell_type": "code",
   "execution_count": null,
   "metadata": {},
   "outputs": [
    {
     "ename": "",
     "evalue": "",
     "output_type": "error",
     "traceback": [
      "\u001b[1;31mRunning cells with '/bin/python3' requires the ipykernel package.\n",
      "\u001b[1;31mRun the following command to install 'ipykernel' into the Python environment. \n",
      "\u001b[1;31mCommand: '/bin/python3 -m pip install ipykernel -U --user --force-reinstall'"
     ]
    }
   ],
   "source": [
    "df_test[df_test[\"Name\"] == \"Indole-3-acetyl-L-alanine\"]"
   ]
  },
  {
   "cell_type": "code",
   "execution_count": null,
   "metadata": {},
   "outputs": [
    {
     "ename": "",
     "evalue": "",
     "output_type": "error",
     "traceback": [
      "\u001b[1;31mRunning cells with '/bin/python3' requires the ipykernel package.\n",
      "\u001b[1;31mRun the following command to install 'ipykernel' into the Python environment. \n",
      "\u001b[1;31mCommand: '/bin/python3 -m pip install ipykernel -U --user --force-reinstall'"
     ]
    }
   ],
   "source": [
    "import rdkit.Chem as Chem\n",
    "from rdkit.Chem import Descriptors\n",
    "\n",
    "\n",
    "h_plus = Chem.MolFromSmiles(\"[H+]\")\n",
    "Chem.Descriptors.ExactMolWt(h_plus)"
   ]
  },
  {
   "cell_type": "code",
   "execution_count": null,
   "metadata": {},
   "outputs": [
    {
     "ename": "",
     "evalue": "",
     "output_type": "error",
     "traceback": [
      "\u001b[1;31mRunning cells with '/bin/python3' requires the ipykernel package.\n",
      "\u001b[1;31mRun the following command to install 'ipykernel' into the Python environment. \n",
      "\u001b[1;31mCommand: '/bin/python3 -m pip install ipykernel -U --user --force-reinstall'"
     ]
    }
   ],
   "source": [
    "s=\"C=c1c[nH+]c2ccccc12\"\n",
    "#s=\"C=C1C=[NH+]C2=C1C=CC=C2\"\n",
    "m = Metabolite(s)\n",
    "m.draw()\n",
    "plt.show()\n",
    "m.ExactMolWeight"
   ]
  },
  {
   "cell_type": "code",
   "execution_count": null,
   "metadata": {},
   "outputs": [
    {
     "ename": "",
     "evalue": "",
     "output_type": "error",
     "traceback": [
      "\u001b[1;31mRunning cells with '/bin/python3' requires the ipykernel package.\n",
      "\u001b[1;31mRun the following command to install 'ipykernel' into the Python environment. \n",
      "\u001b[1;31mCommand: '/bin/python3 -m pip install ipykernel -U --user --force-reinstall'"
     ]
    }
   ],
   "source": [
    "from rdkit.Chem.Draw import rdMolDraw2D\n",
    "import cairosvg\n",
    "\n",
    "save_fragments = True\n",
    "\n",
    "for i in range(len(f)):\n",
    "    print(f[i])\n",
    "    fig, ax = plt.subplots(1, 1, figsize=(2,2))\n",
    "    m = Metabolite(f[i][2].split(\"//\")[0])\n",
    "    m.draw()\n",
    "    plt.show()\n",
    "    if save_fragments:\n",
    "        drawer = rdMolDraw2D.MolDraw2DSVG(500, 500)\n",
    "        drawer.DrawMolecule(m.MOL)\n",
    "        drawer.FinishDrawing()\n",
    "        cairosvg.svg2pdf(bytestring=drawer.GetDrawingText().encode(), write_to=f\"{home}/images/paper/molecule_f{i}.pdf\")\n",
    "        cairosvg.svg2svg(bytestring=drawer.GetDrawingText().encode(), write_to=f\"{home}/images/paper/molecule_f{i}.svg\")\n"
   ]
  },
  {
   "cell_type": "code",
   "execution_count": null,
   "metadata": {},
   "outputs": [
    {
     "ename": "",
     "evalue": "",
     "output_type": "error",
     "traceback": [
      "\u001b[1;31mRunning cells with '/bin/python3' requires the ipykernel package.\n",
      "\u001b[1;31mRun the following command to install 'ipykernel' into the Python environment. \n",
      "\u001b[1;31mCommand: '/bin/python3 -m pip install ipykernel -U --user --force-reinstall'"
     ]
    }
   ],
   "source": [
    "from rdkit.Chem.Draw import rdMolDraw2D\n",
    "import cairosvg\n",
    "\n",
    "#fig, ax = plt.subplots(1,1, figsize=(10, 10))\n",
    "#data[\"Metabolite\"].draw(ax= ax)\n",
    "\n",
    "if False:\n",
    "    drawer = rdMolDraw2D.MolDraw2DSVG(500, 500)\n",
    "    drawer.DrawMolecule(data[\"Metabolite\"].MOL)\n",
    "    drawer.FinishDrawing()\n",
    "    cairosvg.svg2pdf(bytestring=drawer.GetDrawingText().encode(), write_to=f\"{home}/images/paper/molecule.pdf\")\n",
    "    cairosvg.svg2svg(bytestring=drawer.GetDrawingText().encode(), write_to=f\"{home}/images/paper/molecule.svg\")"
   ]
  },
  {
   "cell_type": "code",
   "execution_count": null,
   "metadata": {},
   "outputs": [
    {
     "ename": "",
     "evalue": "",
     "output_type": "error",
     "traceback": [
      "\u001b[1;31mRunning cells with '/bin/python3' requires the ipykernel package.\n",
      "\u001b[1;31mRun the following command to install 'ipykernel' into the Python environment. \n",
      "\u001b[1;31mCommand: '/bin/python3 -m pip install ipykernel -U --user --force-reinstall'"
     ]
    }
   ],
   "source": [
    "\n",
    "import matplotlib.patches as mpatches\n",
    "\n",
    "def double_mirrorplot(i, model_title=\"Fiora\"):\n",
    "    fig, axs = plt.subplots(1, 3, figsize=(16.8, 4.2), gridspec_kw={'width_ratios': [1, 3, 3]}, sharey=False)\n",
    "    \n",
    "    plt.subplots_adjust(right=0.975, left=0.025)\n",
    "    \n",
    "    img = df_cas.loc[i][\"Metabolite\"].draw(ax= axs[0])\n",
    "\n",
    "    axs[0].grid(False)\n",
    "    axs[0].tick_params(axis='both', bottom=False, labelbottom=False, left=False, labelleft=False) \n",
    "    axs[0].set_title(df_cas.loc[i][\"NAME\"] + \"\\n(\" +  df_cas.loc[i][\"ChallengeName\"]+ \")\")\n",
    "    axs[0].imshow(img)\n",
    "    axs[0].axis(\"off\")\n",
    "\n",
    "    sv.plot_spectrum({\"peaks\": df_cas.loc[i][\"peaks\"]}, {\"peaks\": df_cas.loc[i][\"merged_peaks\"]}, ax=axs[1])\n",
    "    axs[1].title.set_text(model_title)\n",
    "    patch1 = mpatches.Patch(color='limegreen' if df_cas.loc[i][\"ice_sqrt_cosine\"] < df_cas.loc[i][\"merged_sqrt_cosine\"] else \"orangered\", label=f'cosine {df_cas.loc[i][\"merged_sqrt_cosine\"]:.02f}')\n",
    "    axs[1].legend(handles=[patch1])\n",
    "\n",
    "    sv.plot_spectrum({\"peaks\": df_cas.loc[i][\"peaks\"]}, {\"peaks\": df_cas.loc[i][\"ice_peaks\"]} if df_cas.loc[i][\"ice_peaks\"] else {\"peaks\": {\"mz\": [0], \"intensity\": [0]}}, ax=axs[2])\n",
    "    axs[2].title.set_text(f'ICEBERG')\n",
    "    \n",
    "    patch2 = mpatches.Patch(color='limegreen' if df_cas.loc[i][\"ice_sqrt_cosine\"] > df_cas.loc[i][\"merged_sqrt_cosine\"] else \"orangered\", label=f'cosine {df_cas.loc[i][\"ice_sqrt_cosine\"]:.02f}', )\n",
    "    axs[2].legend(handles=[patch2])\n",
    "    \n",
    "    return fig, axs\n",
    "\n"
   ]
  },
  {
   "cell_type": "code",
   "execution_count": null,
   "metadata": {},
   "outputs": [
    {
     "ename": "",
     "evalue": "",
     "output_type": "error",
     "traceback": [
      "\u001b[1;31mRunning cells with '/bin/python3' requires the ipykernel package.\n",
      "\u001b[1;31mRun the following command to install 'ipykernel' into the Python environment. \n",
      "\u001b[1;31mCommand: '/bin/python3 -m pip install ipykernel -U --user --force-reinstall'"
     ]
    }
   ],
   "source": [
    "# for i, d in df_cas[df_cas[\"Precursor_type\"] == \"[M+H]+\"].iterrows():\n",
    "#     double_mirrorplot(i)\n",
    "#     plt.show()"
   ]
  },
  {
   "cell_type": "code",
   "execution_count": null,
   "metadata": {},
   "outputs": [
    {
     "ename": "",
     "evalue": "",
     "output_type": "error",
     "traceback": [
      "\u001b[1;31mRunning cells with '/bin/python3' requires the ipykernel package.\n",
      "\u001b[1;31mRun the following command to install 'ipykernel' into the Python environment. \n",
      "\u001b[1;31mCommand: '/bin/python3 -m pip install ipykernel -U --user --force-reinstall'"
     ]
    }
   ],
   "source": [
    "sns.histplot(data=df_test, x=\"CE\", hue=\"lib\")\n",
    "plt.show()"
   ]
  },
  {
   "cell_type": "code",
   "execution_count": null,
   "metadata": {},
   "outputs": [
    {
     "ename": "",
     "evalue": "",
     "output_type": "error",
     "traceback": [
      "\u001b[1;31mRunning cells with '/bin/python3' requires the ipykernel package.\n",
      "\u001b[1;31mRun the following command to install 'ipykernel' into the Python environment. \n",
      "\u001b[1;31mCommand: '/bin/python3 -m pip install ipykernel -U --user --force-reinstall'"
     ]
    }
   ],
   "source": [
    "fig, axs = plt.subplots(2,1,figsize=(8, 6), sharex=True)\n",
    "\n",
    "\n",
    "sns.histplot(ax=axs[0], data=df_test[df_test[\"Precursor_type\"] == \"[M+H]+\"], x=\"spectral_sqrt_cosine\", hue=\"lib\")\n",
    "axs[0].set_title(\"[M+H]+ Test split\")\n",
    "sns.histplot(ax=axs[1], data=df_test[df_test[\"Precursor_type\"] == \"[M-H]-\"], x=\"spectral_sqrt_cosine\", hue=\"lib\")\n",
    "axs[1].set_title(\"[M-H]- Test split\")\n",
    "plt.show()"
   ]
  },
  {
   "cell_type": "code",
   "execution_count": null,
   "metadata": {},
   "outputs": [
    {
     "ename": "",
     "evalue": "",
     "output_type": "error",
     "traceback": [
      "\u001b[1;31mRunning cells with '/bin/python3' requires the ipykernel package.\n",
      "\u001b[1;31mRun the following command to install 'ipykernel' into the Python environment. \n",
      "\u001b[1;31mCommand: '/bin/python3 -m pip install ipykernel -U --user --force-reinstall'"
     ]
    }
   ],
   "source": [
    "\n",
    "print(df_cas.groupby(\"Precursor_type\")[\"coverage\"].median())\n",
    "fig, axs = plt.subplots(1,2, figsize=(12, 6))\n",
    "\n",
    "sns.kdeplot(ax=axs[0], data=df_cas, x=\"coverage\", hue=\"Precursor_type\", bw_adjust=0.5)\n",
    "sns.scatterplot(ax=axs[1], data=df_cas, x=\"coverage\", y=\"spectral_sqrt_cosine\", hue=\"Precursor_type\")\n",
    "axs[0].axvline(x=df_cas[df_cas[\"Precursor_type\"] == \"[M+H]+\"][\"coverage\"].median(), color='black', linestyle='--')\n",
    "axs[1].axvline(x=df_cas[df_cas[\"Precursor_type\"] == \"[M+H]+\"][\"coverage\"].median(), color='black', linestyle='--')\n",
    "plt.show()"
   ]
  },
  {
   "cell_type": "code",
   "execution_count": null,
   "metadata": {},
   "outputs": [
    {
     "ename": "",
     "evalue": "",
     "output_type": "error",
     "traceback": [
      "\u001b[1;31mRunning cells with '/bin/python3' requires the ipykernel package.\n",
      "\u001b[1;31mRun the following command to install 'ipykernel' into the Python environment. \n",
      "\u001b[1;31mCommand: '/bin/python3 -m pip install ipykernel -U --user --force-reinstall'"
     ]
    }
   ],
   "source": []
  },
  {
   "cell_type": "code",
   "execution_count": null,
   "metadata": {},
   "outputs": [
    {
     "ename": "",
     "evalue": "",
     "output_type": "error",
     "traceback": [
      "\u001b[1;31mRunning cells with '/bin/python3' requires the ipykernel package.\n",
      "\u001b[1;31mRun the following command to install 'ipykernel' into the Python environment. \n",
      "\u001b[1;31mCommand: '/bin/python3 -m pip install ipykernel -U --user --force-reinstall'"
     ]
    }
   ],
   "source": [
    "sns.kdeplot(df_cas22, x=\"CE\", y=\"spectral_sqrt_cosine\", hue=\"Precursor_type\")#, hue=\"lib\")\n",
    "plt.show()"
   ]
  },
  {
   "cell_type": "code",
   "execution_count": null,
   "metadata": {},
   "outputs": [
    {
     "ename": "",
     "evalue": "",
     "output_type": "error",
     "traceback": [
      "\u001b[1;31mRunning cells with '/bin/python3' requires the ipykernel package.\n",
      "\u001b[1;31mRun the following command to install 'ipykernel' into the Python environment. \n",
      "\u001b[1;31mCommand: '/bin/python3 -m pip install ipykernel -U --user --force-reinstall'"
     ]
    }
   ],
   "source": []
  },
  {
   "cell_type": "code",
   "execution_count": null,
   "metadata": {},
   "outputs": [
    {
     "ename": "",
     "evalue": "",
     "output_type": "error",
     "traceback": [
      "\u001b[1;31mRunning cells with '/bin/python3' requires the ipykernel package.\n",
      "\u001b[1;31mRun the following command to install 'ipykernel' into the Python environment. \n",
      "\u001b[1;31mCommand: '/bin/python3 -m pip install ipykernel -U --user --force-reinstall'"
     ]
    }
   ],
   "source": [
    "df_test[\"pp_score_dif\"] = df_test[\"spectral_sqrt_cosine\"] - df_test[\"spectral_sqrt_cosine_wo_prec\"]\n",
    "\n"
   ]
  },
  {
   "cell_type": "code",
   "execution_count": null,
   "metadata": {},
   "outputs": [
    {
     "ename": "",
     "evalue": "",
     "output_type": "error",
     "traceback": [
      "\u001b[1;31mRunning cells with '/bin/python3' requires the ipykernel package.\n",
      "\u001b[1;31mRun the following command to install 'ipykernel' into the Python environment. \n",
      "\u001b[1;31mCommand: '/bin/python3 -m pip install ipykernel -U --user --force-reinstall'"
     ]
    }
   ],
   "source": [
    "sns.boxplot(df_test, x=\"pp_score_dif\")#, hue=\"lib\")\n",
    "plt.xlim(-0.5, 0.5)\n",
    "plt.show()"
   ]
  },
  {
   "cell_type": "code",
   "execution_count": null,
   "metadata": {},
   "outputs": [
    {
     "ename": "",
     "evalue": "",
     "output_type": "error",
     "traceback": [
      "\u001b[1;31mRunning cells with '/bin/python3' requires the ipykernel package.\n",
      "\u001b[1;31mRun the following command to install 'ipykernel' into the Python environment. \n",
      "\u001b[1;31mCommand: '/bin/python3 -m pip install ipykernel -U --user --force-reinstall'"
     ]
    }
   ],
   "source": [
    "sns.scatterplot(df_test, x=\"pp_score_dif\", y=\"pp\", hue=\"CE\")#, hue=\"lib\")\n",
    "plt.xlim(-0.2, 0.6)\n",
    "plt.show()"
   ]
  },
  {
   "cell_type": "code",
   "execution_count": null,
   "metadata": {},
   "outputs": [
    {
     "ename": "",
     "evalue": "",
     "output_type": "error",
     "traceback": [
      "\u001b[1;31mRunning cells with '/bin/python3' requires the ipykernel package.\n",
      "\u001b[1;31mRun the following command to install 'ipykernel' into the Python environment. \n",
      "\u001b[1;31mCommand: '/bin/python3 -m pip install ipykernel -U --user --force-reinstall'"
     ]
    }
   ],
   "source": [
    "sns.histplot(df_cas22, x=\"CE\", hue=\"Precursor_type\", binwidth=3)#, hue=\"lib\")\n",
    "plt.xlim(0, 100)\n",
    "plt.show()"
   ]
  },
  {
   "cell_type": "code",
   "execution_count": null,
   "metadata": {},
   "outputs": [
    {
     "ename": "",
     "evalue": "",
     "output_type": "error",
     "traceback": [
      "\u001b[1;31mRunning cells with '/bin/python3' requires the ipykernel package.\n",
      "\u001b[1;31mRun the following command to install 'ipykernel' into the Python environment. \n",
      "\u001b[1;31mCommand: '/bin/python3 -m pip install ipykernel -U --user --force-reinstall'"
     ]
    }
   ],
   "source": [
    "sns.histplot(df_cas, x=\"CE\", hue=\"Precursor_type\", hue_order=[\"[M+H]+\", \"[M-H]-\"], binwidth=3)#, hue=\"lib\")\n",
    "plt.xlim(0, 100)\n",
    "plt.show()"
   ]
  },
  {
   "cell_type": "code",
   "execution_count": null,
   "metadata": {},
   "outputs": [
    {
     "ename": "",
     "evalue": "",
     "output_type": "error",
     "traceback": [
      "\u001b[1;31mRunning cells with '/bin/python3' requires the ipykernel package.\n",
      "\u001b[1;31mRun the following command to install 'ipykernel' into the Python environment. \n",
      "\u001b[1;31mCommand: '/bin/python3 -m pip install ipykernel -U --user --force-reinstall'"
     ]
    }
   ],
   "source": [
    "fig, axs = plt.subplots(1,2,figsize=(8, 4))\n",
    "\n",
    "sns.boxplot(ax= axs[0], data=df_test, y=\"Precursor_ppm_error\", hue=\"lib\", showfliers=False)\n",
    "sns.boxplot(ax= axs[1], data=df_test, y=\"Precursor_abs_error\", hue=\"lib\", showfliers=False)\n",
    "plt.show()"
   ]
  },
  {
   "cell_type": "code",
   "execution_count": null,
   "metadata": {},
   "outputs": [
    {
     "ename": "",
     "evalue": "",
     "output_type": "error",
     "traceback": [
      "\u001b[1;31mRunning cells with '/bin/python3' requires the ipykernel package.\n",
      "\u001b[1;31mRun the following command to install 'ipykernel' into the Python environment. \n",
      "\u001b[1;31mCommand: '/bin/python3 -m pip install ipykernel -U --user --force-reinstall'"
     ]
    }
   ],
   "source": [
    "print(list(df_test.columns))\n",
    "\n",
    "#sns.kdeplot(df_test, x=\"CE\", y=\"spectral_sqrt_cosine\", hue=\"lib\")\n",
    "#plt.show()"
   ]
  },
  {
   "cell_type": "code",
   "execution_count": null,
   "metadata": {},
   "outputs": [
    {
     "ename": "",
     "evalue": "",
     "output_type": "error",
     "traceback": [
      "\u001b[1;31mRunning cells with '/bin/python3' requires the ipykernel package.\n",
      "\u001b[1;31mRun the following command to install 'ipykernel' into the Python environment. \n",
      "\u001b[1;31mCommand: '/bin/python3 -m pip install ipykernel -U --user --force-reinstall'"
     ]
    }
   ],
   "source": [
    "sns.kdeplot(data=df_test[(df_test[\"Precursor_ppm_error\"] < 1) & (df_test[\"Precursor_ppm_error\"] < 2)], y=\"spectral_sqrt_cosine\", x=\"Precursor_ppm_error\", hue=\"lib\")\n",
    "plt.xlim(0, 2)\n",
    "plt.show()"
   ]
  },
  {
   "cell_type": "markdown",
   "metadata": {},
   "source": [
    "#### TESTING CAST"
   ]
  },
  {
   "cell_type": "code",
   "execution_count": null,
   "metadata": {},
   "outputs": [
    {
     "ename": "",
     "evalue": "",
     "output_type": "error",
     "traceback": [
      "\u001b[1;31mRunning cells with '/bin/python3' requires the ipykernel package.\n",
      "\u001b[1;31mRun the following command to install 'ipykernel' into the Python environment. \n",
      "\u001b[1;31mCommand: '/bin/python3 -m pip install ipykernel -U --user --force-reinstall'"
     ]
    }
   ],
   "source": [
    "df_cast.groupby(\"Precursor_type\")[\"spectral_sqrt_cosine\"].median()"
   ]
  },
  {
   "cell_type": "code",
   "execution_count": null,
   "metadata": {},
   "outputs": [
    {
     "ename": "",
     "evalue": "",
     "output_type": "error",
     "traceback": [
      "\u001b[1;31mRunning cells with '/bin/python3' requires the ipykernel package.\n",
      "\u001b[1;31mRun the following command to install 'ipykernel' into the Python environment. \n",
      "\u001b[1;31mCommand: '/bin/python3 -m pip install ipykernel -U --user --force-reinstall'"
     ]
    }
   ],
   "source": [
    "\n",
    "print(df_cast.groupby(\"Precursor_type\")[\"coverage\"].median())\n",
    "fig, axs = plt.subplots(1,2, figsize=(12, 6))\n",
    "\n",
    "sns.kdeplot(ax=axs[0], data=df_cast, x=\"coverage\", hue=\"Precursor_type\", bw_adjust=0.5)\n",
    "sns.scatterplot(ax=axs[1], data=df_cast, x=\"coverage\", y=\"spectral_sqrt_cosine\", hue=\"Precursor_type\")\n",
    "axs[0].axvline(x=df_cast[df_cast[\"Precursor_type\"] == \"[M+H]+\"][\"coverage\"].median(), color='black', linestyle='--')\n",
    "axs[1].axvline(x=df_cast[df_cast[\"Precursor_type\"] == \"[M+H]+\"][\"coverage\"].median(), color='black', linestyle='--')\n",
    "plt.show()\n"
   ]
  },
  {
   "cell_type": "code",
   "execution_count": null,
   "metadata": {},
   "outputs": [],
   "source": [
    "for i,m in enumerate(df_cast[\"Metabolite\"]):\n",
    "    for m2 in df_train[\"Metabolite\"]:\n",
    "        if m == m2:\n",
    "            print(i)\n",
    "            print(\"Violation\")\n",
    "            break"
   ]
  }
 ],
 "metadata": {
  "kernelspec": {
   "display_name": "torch",
   "language": "python",
   "name": "python3"
  },
  "language_info": {
   "codemirror_mode": {
    "name": "ipython",
    "version": 3
   },
   "file_extension": ".py",
   "mimetype": "text/x-python",
   "name": "python",
   "nbconvert_exporter": "python",
   "pygments_lexer": "ipython3",
   "version": "3.10.8"
  },
  "orig_nbformat": 4,
  "vscode": {
   "interpreter": {
    "hash": "e08c3b4e89cfe29feb848cdc03972f3418883da099973a3eef9fa9a5a5dc99db"
   }
  }
 },
 "nbformat": 4,
 "nbformat_minor": 2
}
