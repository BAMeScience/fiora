{
 "cells": [
  {
   "cell_type": "code",
   "execution_count": 1,
   "metadata": {},
   "outputs": [
    {
     "name": "stderr",
     "output_type": "stream",
     "text": [
      "[10:42:28] WARNING: not removing hydrogen atom without neighbors\n",
      "[10:42:28] WARNING: not removing hydrogen atom without neighbors\n",
      "[10:42:28] WARNING: not removing hydrogen atom without neighbors\n",
      "[10:42:28] WARNING: not removing hydrogen atom without neighbors\n",
      "[10:42:28] WARNING: not removing hydrogen atom without neighbors\n",
      "[10:42:28] WARNING: not removing hydrogen atom without neighbors\n",
      "[10:42:28] WARNING: not removing hydrogen atom without neighbors\n"
     ]
    },
    {
     "name": "stdout",
     "output_type": "stream",
     "text": [
      "Working with Python 3.10.8 | packaged by conda-forge | (main, Nov 22 2022, 08:26:04) [GCC 10.4.0]\n"
     ]
    }
   ],
   "source": [
    "import sys\n",
    "import torch\n",
    "\n",
    "seed = 42\n",
    "#torch.set_default_dtype(torch.float64)\n",
    "torch.manual_seed(seed)\n",
    "torch.set_printoptions(precision=2, sci_mode=False)\n",
    "\n",
    "\n",
    "import pandas as pd\n",
    "import numpy as np\n",
    "import ast\n",
    "import copy\n",
    "\n",
    "# Load Modules\n",
    "sys.path.append(\"..\")\n",
    "from os.path import expanduser\n",
    "home = expanduser(\"~\")\n",
    "from fiora.MOL.constants import DEFAULT_PPM, PPM, DEFAULT_MODES\n",
    "from fiora.IO.LibraryLoader import LibraryLoader\n",
    "from fiora.MOL.FragmentationTree import FragmentationTree \n",
    "import fiora.visualization.spectrum_visualizer as sv\n",
    "\n",
    "from sklearn.metrics import r2_score\n",
    "import scipy\n",
    "from rdkit import RDLogger\n",
    "RDLogger.DisableLog('rdApp.*')\n",
    "\n",
    "print(f'Working with Python {sys.version}')\n"
   ]
  },
  {
   "attachments": {},
   "cell_type": "markdown",
   "metadata": {},
   "source": [
    "## Data"
   ]
  },
  {
   "cell_type": "code",
   "execution_count": 2,
   "metadata": {},
   "outputs": [
    {
     "name": "stdout",
     "output_type": "stream",
     "text": [
      "Preparing MSnLib library\n"
     ]
    }
   ],
   "source": [
    "from typing import Literal\n",
    "lib: Literal[\"NIST\", \"MSDIAL\", \"NIST/MSDIAL\", \"MSnLib\"] = \"MSnLib\" #\"MSnLib\"\n",
    "print(f\"Preparing {lib} library\")\n",
    "\n",
    "debug_mode = False # Default: False\n",
    "if debug_mode:\n",
    "    print(\"+++ This is a test run (debug mode) with a small subset of data points. Results are not representative. +++\")"
   ]
  },
  {
   "cell_type": "code",
   "execution_count": 3,
   "metadata": {},
   "outputs": [],
   "source": [
    "# key map to read metadata from pandas DataFrame\n",
    "metadata_key_map = {\n",
    "                \"name\": \"Name\",\n",
    "                \"collision_energy\":  \"CE\", \n",
    "                \"instrument\": \"Instrument_type\",\n",
    "                \"ionization\": \"Ionization\",\n",
    "                \"precursor_mz\": \"PrecursorMZ\",\n",
    "                \"precursor_mode\": \"Precursor_type\",\n",
    "                \"retention_time\": \"RETENTIONTIME\",\n",
    "                \"ccs\": \"CCS\"\n",
    "                }\n",
    "\n",
    "\n",
    "#\n",
    "# Load specified libraries and align metadata\n",
    "#\n",
    "\n",
    "def load_training_data():\n",
    "    if (\"NIST\" in lib or \"MSDIAL\" in lib):\n",
    "        data_path: str = f\"{home}/data/metabolites/preprocessed/datasplits_Jan24.csv\"\n",
    "    elif lib == \"MSnLib\":\n",
    "        data_path: str = f\"{home}/data/metabolites/preprocessed/datasplits_msnlib_v6_July25.csv\"\n",
    "    else:\n",
    "        raise NameError(f\"Unknown library selected {lib=}.\")\n",
    "    L = LibraryLoader()\n",
    "    df = L.load_from_csv(data_path)\n",
    "    return df\n",
    "\n",
    "df = load_training_data()\n",
    "\n",
    "# Restore dictionary values\n",
    "dict_columns = [\"peaks\", \"summary\"]\n",
    "for col in dict_columns:\n",
    "    df[col] = df[col].apply(lambda x: ast.literal_eval(x.replace('nan', 'None')))\n",
    "    #df[col] = df[col].apply(ast.literal_eval)\n",
    "    \n",
    "df['group_id'] = df['group_id'].astype(int)\n"
   ]
  },
  {
   "cell_type": "code",
   "execution_count": null,
   "metadata": {},
   "outputs": [],
   "source": [
    "# import polars as pl\n",
    "# pdf = pl.from_pandas(df)"
   ]
  },
  {
   "cell_type": "code",
   "execution_count": 5,
   "metadata": {},
   "outputs": [],
   "source": [
    "from fiora.MOL.Metabolite import Metabolite\n",
    "from fiora.GNN.AtomFeatureEncoder import AtomFeatureEncoder\n",
    "from fiora.GNN.BondFeatureEncoder import BondFeatureEncoder\n",
    "from fiora.GNN.CovariateFeatureEncoder import CovariateFeatureEncoder\n",
    "\n",
    "\n",
    "CE_upper_limit = 100.0\n",
    "weight_upper_limit = 1000.0\n",
    "\n",
    "\n",
    "if debug_mode:\n",
    "    df = df.iloc[:1000,:]\n",
    "    #df = df.iloc[5000:20000,:]\n",
    "\n",
    "overwrite_setup_features = None\n",
    "if lib == \"MSnLib\":\n",
    "    overwrite_setup_features = {\n",
    "        \"instrument\": [\"HCD\"],\n",
    "        \"precursor_mode\": [\"[M+H]+\", \"[M-H]-\", \"[M]+\", \"[M]-\"]\n",
    "    \n",
    "    }\n",
    "\n",
    "\n",
    "df[\"Metabolite\"] = df[\"SMILES\"].apply(Metabolite)\n",
    "df[\"Metabolite\"].apply(lambda x: x.create_molecular_structure_graph())\n",
    "\n",
    "node_encoder = AtomFeatureEncoder(feature_list=[\"symbol\", \"num_hydrogen\", \"ring_type\"])\n",
    "bond_encoder = BondFeatureEncoder(feature_list=[\"bond_type\", \"ring_type\"])\n",
    "covariate_encoder = CovariateFeatureEncoder(feature_list=[\"collision_energy\", \"molecular_weight\", \"precursor_mode\", \"instrument\", \"element_composition\"], sets_overwrite=overwrite_setup_features)\n",
    "rt_encoder = CovariateFeatureEncoder(feature_list=[\"molecular_weight\", \"precursor_mode\", \"instrument\", \"element_composition\"], sets_overwrite=overwrite_setup_features)\n",
    "\n",
    "covariate_encoder.normalize_features[\"collision_energy\"][\"max\"] = CE_upper_limit \n",
    "covariate_encoder.normalize_features[\"molecular_weight\"][\"max\"] = weight_upper_limit \n",
    "rt_encoder.normalize_features[\"molecular_weight\"][\"max\"] = weight_upper_limit \n",
    "\n",
    "df[\"Metabolite\"].apply(lambda x: x.compute_graph_attributes(node_encoder, bond_encoder))\n",
    "df.apply(lambda x: x[\"Metabolite\"].set_id(x[\"group_id\"]) , axis=1)\n",
    "\n",
    "#df[\"summary\"] = df.apply(lambda x: {key: x[name] for key, name in metadata_key_map.items()}, axis=1)\n",
    "df.apply(lambda x: x[\"Metabolite\"].add_metadata(x[\"summary\"], covariate_encoder, rt_encoder), axis=1)\n",
    "_ = df.apply(lambda x: x[\"Metabolite\"].set_loss_weight(x[\"loss_weight\"]), axis=1)"
   ]
  },
  {
   "cell_type": "code",
   "execution_count": 6,
   "metadata": {},
   "outputs": [],
   "source": [
    "from fiora.MOL.MetaboliteIndex import MetaboliteIndex\n",
    "\n",
    "mindex: MetaboliteIndex = MetaboliteIndex()\n",
    "mindex.index_metabolites(df[\"Metabolite\"])"
   ]
  },
  {
   "cell_type": "code",
   "execution_count": 7,
   "metadata": {},
   "outputs": [
    {
     "name": "stdout",
     "output_type": "stream",
     "text": [
      "Total number of recomputed trees: 1235\n"
     ]
    }
   ],
   "source": [
    "mindex.create_fragmentation_trees()\n",
    "list_of_mismatched_ids = mindex.add_fragmentation_trees_to_metabolite_list(df[\"Metabolite\"], graph_mismatch_policy=\"recompute\")\n",
    "print(f\"Total number of recomputed trees: {len(list_of_mismatched_ids)}\")"
   ]
  },
  {
   "cell_type": "code",
   "execution_count": 8,
   "metadata": {},
   "outputs": [],
   "source": [
    "#df[\"Metabolite\"].apply(lambda x: x.fragment_MOL(depth=1))\n",
    "_ = df.apply(lambda x: x[\"Metabolite\"].match_fragments_to_peaks(x[\"peaks\"][\"mz\"], x[\"peaks\"][\"intensity\"], tolerance=x[\"ppm_peak_tolerance\"]), axis=1)"
   ]
  },
  {
   "cell_type": "code",
   "execution_count": 9,
   "metadata": {},
   "outputs": [
    {
     "name": "stdout",
     "output_type": "stream",
     "text": [
      "0\n"
     ]
    }
   ],
   "source": [
    "df[\"num_peak_matches\"] = df[\"Metabolite\"].apply(lambda x: x.match_stats[\"num_peak_matches\"])\n",
    "print(sum(df[\"num_peak_matches\"] < 1))\n",
    "df = df[df[\"num_peak_matches\"] >= 2]"
   ]
  },
  {
   "cell_type": "markdown",
   "metadata": {},
   "source": [
    "##### Load Casmi data"
   ]
  },
  {
   "cell_type": "code",
   "execution_count": 10,
   "metadata": {},
   "outputs": [],
   "source": [
    "casmi16_path = f\"{home}/data/metabolites/CASMI_2016/casmi16_withCCS.csv\"\n",
    "casmi22_path = f\"{home}/data/metabolites/CASMI_2022/casmi22_withCCS.csv\"\n",
    "\n",
    "df_cas = pd.read_csv(casmi16_path, index_col=[0], low_memory=False)\n",
    "df_cas22 = pd.read_csv(casmi22_path, index_col=[0], low_memory=False)\n",
    "\n",
    "# Restore dictionary values\n",
    "dict_columns = [\"peaks\", \"Candidates\"]\n",
    "for col in dict_columns:\n",
    "    df_cas[col] = df_cas[col].apply(ast.literal_eval)\n",
    "\n",
    "df_cas22[\"peaks\"] = df_cas22[\"peaks\"].apply(ast.literal_eval)"
   ]
  },
  {
   "attachments": {},
   "cell_type": "markdown",
   "metadata": {},
   "source": [
    "## Model Training and Testing"
   ]
  },
  {
   "cell_type": "code",
   "execution_count": 11,
   "metadata": {},
   "outputs": [
    {
     "name": "stdout",
     "output_type": "stream",
     "text": [
      "Running on device: cuda:0\n"
     ]
    }
   ],
   "source": [
    "import torch_geometric as geom\n",
    "\n",
    "if torch.cuda.is_available(): \n",
    "    torch.cuda.empty_cache()\n",
    "    dev = \"cuda:0\"\n",
    "else: \n",
    "    dev = \"cpu\" \n",
    " \n",
    "print(f\"Running on device: {dev}\")"
   ]
  },
  {
   "attachments": {},
   "cell_type": "markdown",
   "metadata": {},
   "source": [
    "##### Load Data"
   ]
  },
  {
   "cell_type": "code",
   "execution_count": null,
   "metadata": {},
   "outputs": [
    {
     "name": "stdout",
     "output_type": "stream",
     "text": [
      "datasplit\n",
      "test           3083\n",
      "training      24670\n",
      "validation     3083\n",
      "Name: group_id, dtype: int64\n"
     ]
    }
   ],
   "source": [
    "print(df.groupby(\"datasplit\")[\"group_id\"].unique().apply(len))\n",
    "\n",
    "df_test = df[df[\"datasplit\"] == \"test\"]\n",
    "df_train = df[df[\"datasplit\"].isin([\"training\", \"validation\"])]"
   ]
  },
  {
   "cell_type": "code",
   "execution_count": 13,
   "metadata": {},
   "outputs": [
    {
     "name": "stdout",
     "output_type": "stream",
     "text": [
      "Prepared training/validation with 99036 data points\n"
     ]
    }
   ],
   "source": [
    "geo_data = df_train[\"Metabolite\"].apply(lambda x: x.as_geometric_data().to(dev)).values\n",
    "print(f\"Prepared training/validation with {len(geo_data)} data points\")"
   ]
  },
  {
   "attachments": {},
   "cell_type": "markdown",
   "metadata": {},
   "source": [
    "##### Prepare Model"
   ]
  },
  {
   "cell_type": "code",
   "execution_count": 14,
   "metadata": {},
   "outputs": [],
   "source": [
    "model_params = {\n",
    "    'param_tag': 'default',\n",
    "\n",
    "    #GNN parameters\n",
    "    'gnn_type': 'RGCNConv',\n",
    "    'depth': 10, # 5 or 6\n",
    "    'hidden_dimension': 300, # 300\n",
    "    'residual_connections': False,\n",
    "    'layer_stacking': True, # Avoid residual connections and layer stacking at the same time\n",
    "    'embedding_aggregation': 'concat',\n",
    "    'embedding_dimension': 300, # 300,\n",
    "    'subgraph_features': True,\n",
    "    'pooling_func': \"max\", # max or avg\n",
    "    \n",
    "    # Dense layers\n",
    "    'dense_layers': 2, # 2 # Number of \"hidden\" dense layers, an additional output layer is always added\n",
    "    'dense_dim': 500, # Set to None (then dense dim defaults to GNN output dimension (very large if layer stacking is active))\n",
    "\n",
    "    # Dropout\n",
    "    'input_dropout': 0.1, # 0.2,\n",
    "    'latent_dropout': 0.1, # 0.1,\n",
    "    \n",
    "    # Dimensions\n",
    "    'node_feature_layout': node_encoder.feature_numbers,\n",
    "    'edge_feature_layout': bond_encoder.feature_numbers,    \n",
    "    'static_feature_dimension': geo_data[0][\"static_edge_features\"].shape[1],\n",
    "    'static_rt_feature_dimension': geo_data[0][\"static_rt_features\"].shape[1],\n",
    "    'output_dimension': len(DEFAULT_MODES) * 2, # per edge \n",
    "    \n",
    "    # Keep track of how features are encoded\n",
    "    'atom_features': node_encoder.feature_list,\n",
    "    'atom_features': bond_encoder.feature_list,\n",
    "    'setup_features': covariate_encoder.feature_list,\n",
    "    'setup_features_categorical_set': covariate_encoder.categorical_sets,\n",
    "    'rt_features': rt_encoder.feature_list,\n",
    "    \n",
    "    # Set default flags (May be overwritten below)\n",
    "    'prepare_additional_layers': False,\n",
    "    'rt_supported': False,\n",
    "    'ccs_supported': False,\n",
    "    'version': \"x.x.x\"\n",
    "    \n",
    "}\n",
    "training_params = {\n",
    "    'epochs': 300 if not debug_mode else 10, \n",
    "    'batch_size': 32, # 256, # 256\n",
    "    #'train_val_split': 0.90,\n",
    "    'learning_rate': 2e-4, # 4e-4, \n",
    "    'weight_decay': 1e-8, #1e-4,\n",
    "    'with_RT': False, # Turn off RT/CCS for initial trainings round\n",
    "    'with_CCS': False\n",
    "}"
   ]
  },
  {
   "cell_type": "code",
   "execution_count": 15,
   "metadata": {},
   "outputs": [
    {
     "name": "stdout",
     "output_type": "stream",
     "text": [
      "Number of trainable parameters: 13,447,861\n"
     ]
    }
   ],
   "source": [
    "from fiora.GNN.FioraModel import FioraModel\n",
    "model_snapshot = FioraModel(model_params)\n",
    "# Print num of parameters of model\n",
    "num_params = sum(p.numel() for p in model_snapshot.parameters() if p.requires_grad)\n",
    "print(f\"Number of trainable parameters: {num_params:,}\")"
   ]
  },
  {
   "cell_type": "code",
   "execution_count": 16,
   "metadata": {},
   "outputs": [],
   "source": [
    "# Print number of parameters for each submodule GNN_module, precursor_module, edge_module\n",
    "# for name, param in model_snapshot.named_parameters():\n",
    "#     if param.requires_grad:\n",
    "#         print(f\"{name}: {param.numel():,}\")\n",
    "\n",
    "del model_snapshot"
   ]
  },
  {
   "attachments": {},
   "cell_type": "markdown",
   "metadata": {},
   "source": [
    "##### Begin Training"
   ]
  },
  {
   "cell_type": "code",
   "execution_count": 17,
   "metadata": {},
   "outputs": [],
   "source": [
    "import numpy as np\n",
    "\n",
    "# Subsample training data\n",
    "def subsample_keys(train_keys, val_keys, down_to_fraction: float):\n",
    "    train_sample = np.random.choice(train_keys, size=int(len(train_keys) * down_to_fraction), replace=False)\n",
    "    val_sample = np.random.choice(val_keys, size=int(len(val_keys) * down_to_fraction), replace=False)\n",
    "    return train_sample, val_sample\n"
   ]
  },
  {
   "cell_type": "code",
   "execution_count": 18,
   "metadata": {},
   "outputs": [],
   "source": [
    "from fiora.GNN.SpectralTrainer import SpectralTrainer\n",
    "from fiora.GNN.FioraModel import FioraModel\n",
    "from fiora.GNN.Losses import WeightedMSELoss, WeightedMSEMetric, WeightedMAELoss, WeightedMAEMetric, GraphwiseKLLoss, GraphwiseKLLossMetric\n",
    "from fiora.MS.SimulationFramework import SimulationFramework\n",
    "\n",
    "fiora = SimulationFramework(None, dev=dev)\n",
    "# fiora = SimulationFramework(None, dev=dev, with_RT=training_params[\"with_RT\"], with_CCS=training_params[\"with_CCS\"])\n",
    "np.seterr(invalid='ignore')\n",
    "tag = \"training\"\n",
    "val_interval = 1\n",
    "metric_dict= {\"mse\": GraphwiseKLLossMetric} #reduction=\"mean\" by default #WeightedMSEMetric\n",
    "#loss_fn = WeightedMSELoss() # WeightedMSELoss()\n",
    "loss_fn = GraphwiseKLLoss(reduction=\"mean\")\n",
    "all_together = False\n",
    "down_sample = False\n",
    "\n",
    "if all_together:\n",
    "    val_interval = 200\n",
    "    metric_dict=None\n",
    "    loss_fn = torch.nn.MSELoss()    \n",
    "\n",
    "def train_new_model(continue_with_model=None, model_params=model_params, training_params=training_params, tag=\"\"):\n",
    "    if continue_with_model:\n",
    "        model = continue_with_model.to(dev)\n",
    "    else:\n",
    "        model = FioraModel(model_params).to(dev)\n",
    "        \n",
    "    y_label = 'compiled_probsSQRT' # y_label = 'compiled_probsALL'\n",
    "    optimizer = torch.optim.Adam(model.parameters(), lr=training_params[\"learning_rate\"], weight_decay=training_params[\"weight_decay\"])\n",
    "    if all_together:\n",
    "        trainer = SpectralTrainer(geo_data, y_tag=y_label, problem_type=\"regression\", only_training=True, metric_dict=metric_dict, split_by_group=True, seed=seed, device=dev)\n",
    "        scheduler = torch.optim.lr_scheduler.ExponentialLR(optimizer, gamma=0.98)\n",
    "    else:\n",
    "        train_keys, val_keys = df[df[\"datasplit\"] == \"training\"][\"group_id\"].unique(), df[df[\"datasplit\"] == \"validation\"][\"group_id\"].unique()\n",
    "        if down_sample:\n",
    "            train_fraction = 0.10\n",
    "            train_keys, val_keys = subsample_keys(train_keys, val_keys, train_fraction) # Downsample training data for test\n",
    "            print(f\"Sample down to {train_fraction * 100}% with {len(train_keys)} training and {len(val_keys)} validation compounds \")\n",
    "        trainer = SpectralTrainer(geo_data, y_tag=y_label, problem_type=\"regression\", train_keys=train_keys, val_keys=val_keys, metric_dict=metric_dict, split_by_group=True, seed=seed, device=dev)\n",
    "        scheduler = torch.optim.lr_scheduler.ReduceLROnPlateau(optimizer, patience = 8, factor=0.5, mode = 'min')\n",
    "\n",
    "    \n",
    "    checkpoints = trainer.train(model, optimizer, loss_fn, scheduler=scheduler, batch_size=training_params['batch_size'], epochs=training_params[\"epochs\"], val_every_n_epochs=1, with_CCS=training_params[\"with_CCS\"], with_RT=training_params[\"with_RT\"], use_validation_mask=False, tag=tag) #, mask_name=\"compiled_validation_maskALL\")   \n",
    "    print(checkpoints)\n",
    "    return model, checkpoints, trainer\n",
    "\n",
    "def simulate_all(model, DF):\n",
    "    return fiora.simulate_all(DF, model)\n",
    "\n",
    "    \n",
    "def test_model(model, DF, score=\"spectral_sqrt_cosine\", return_df=False):\n",
    "    dft = simulate_all(model, DF)\n",
    "    \n",
    "    if return_df:\n",
    "        return dft\n",
    "    return dft[score].values"
   ]
  },
  {
   "cell_type": "code",
   "execution_count": 19,
   "metadata": {},
   "outputs": [],
   "source": [
    "def grid_search(param_grid, base_model_params, base_training_params, store_models: bool = False):\n",
    "    results = []\n",
    "\n",
    "    for i, param_override in enumerate(param_grid):\n",
    "        print(f\"Running configuration {i + 1}/{len(param_grid)}...\")\n",
    "        \n",
    "        # Update base parameters with overrides\n",
    "        model_params = base_model_params.copy()\n",
    "        training_params = base_training_params.copy()\n",
    "        \n",
    "        model_params.update(param_override.get(\"model_params\", {}))\n",
    "        training_params.update(param_override.get(\"training_params\", {}))\n",
    "        \n",
    "        # Train the model with the updated parameters\n",
    "        try:\n",
    "            model, checkpoints, trainer = train_new_model(model_params=model_params, training_params=training_params, tag=f\"config_{i + 1}\")\n",
    "            results.append({\n",
    "                \"config\": param_override,\n",
    "                \"model\": model if store_models else None,\n",
    "                \"checkpoints\": checkpoints,\n",
    "                \"trainer\": trainer\n",
    "            })\n",
    "\n",
    "            if not store_models:\n",
    "                del model\n",
    "                torch.cuda.empty_cache()\n",
    "                \n",
    "        except Exception as e:\n",
    "            print(f\"Error in configuration {i + 1}: {e}\")\n",
    "            results.append({\n",
    "                \"config\": param_override,\n",
    "                \"error\": str(e)\n",
    "            })\n",
    "\n",
    "    return results"
   ]
  },
  {
   "cell_type": "code",
   "execution_count": 20,
   "metadata": {},
   "outputs": [
    {
     "name": "stdout",
     "output_type": "stream",
     "text": [
      "Running configuration 1/3...\n",
      "Using pre-set train/validation keys\n",
      "\tValidation RMSE: 1.074182\n",
      "\t >> Set new checkpoint to epoch 1\n",
      "\tValidation RMSE: 0.973711\n",
      "\t >> Set new checkpoint to epoch 2\n",
      "\tValidation RMSE: 0.901327\n",
      "\t >> Set new checkpoint to epoch 3\n",
      "\tValidation RMSE: 0.882405\n",
      "\t >> Set new checkpoint to epoch 4\n",
      "\tValidation RMSE: 0.859842\n",
      "\t >> Set new checkpoint to epoch 5\n",
      "\tValidation RMSE: 0.856731\n",
      "\t >> Set new checkpoint to epoch 6\n",
      "\tValidation RMSE: 0.841356\n",
      "\t >> Set new checkpoint to epoch 7\n",
      "\tValidation RMSE: 0.836198\n",
      "\t >> Set new checkpoint to epoch 8\n",
      "\tValidation RMSE: 0.832364\n",
      "\t >> Set new checkpoint to epoch 9\n",
      "\tValidation RMSE: 0.8236837\n",
      "\t >> Set new checkpoint to epoch 10\n",
      "\tValidation RMSE: 0.8122700\n",
      "\t >> Set new checkpoint to epoch 11\n",
      "\tValidation RMSE: 0.8168598\n",
      "\tValidation RMSE: 0.8156488\n",
      "\tValidation RMSE: 0.8118392\n",
      "\t >> Set new checkpoint to epoch 14\n",
      "\tValidation RMSE: 0.8002295\n",
      "\t >> Set new checkpoint to epoch 15\n",
      "\tValidation RMSE: 0.8022206\n",
      "\tValidation RMSE: 0.7999122\n",
      "\t >> Set new checkpoint to epoch 17\n",
      "\tValidation RMSE: 0.7967040\n",
      "\t >> Set new checkpoint to epoch 18\n",
      "\tValidation RMSE: 0.7945961\n",
      "\t >> Set new checkpoint to epoch 19\n",
      "\tValidation RMSE: 0.7883886\n",
      "\t >> Set new checkpoint to epoch 20\n",
      "\tValidation RMSE: 0.7870813\n",
      "\t >> Set new checkpoint to epoch 21\n",
      "\tValidation RMSE: 0.7850747\n",
      "\t >> Set new checkpoint to epoch 22\n",
      "\tValidation RMSE: 0.7829678\n",
      "\t >> Set new checkpoint to epoch 23\n",
      "\tValidation RMSE: 0.7871613\n",
      "\tValidation RMSE: 0.7865556\n",
      "\tValidation RMSE: 0.7806495\n",
      "\t >> Set new checkpoint to epoch 26\n",
      "\tValidation RMSE: 0.7793430\n",
      "\t >> Set new checkpoint to epoch 27\n",
      "\tValidation RMSE: 0.7790380\n",
      "\t >> Set new checkpoint to epoch 28\n",
      "\tValidation RMSE: 0.7744329\n",
      "\t >> Set new checkpoint to epoch 29\n",
      "\tValidation RMSE: 0.7729281\n",
      "\t >> Set new checkpoint to epoch 30\n",
      "\tValidation RMSE: 0.7750225\n",
      "\tValidation RMSE: 0.7691181\n",
      "\t >> Set new checkpoint to epoch 32\n",
      "\tValidation RMSE: 0.7738136\n",
      "\tValidation RMSE: 0.7749087\n",
      "\tValidation RMSE: 0.7746047\n",
      "\tValidation RMSE: 0.7696010\n",
      "\tValidation RMSE: 0.7692970\n",
      "\tValidation RMSE: 0.7698932\n",
      "\tValidation RMSE: 0.7666885\n",
      "\t >> Set new checkpoint to epoch 39\n",
      "\tValidation RMSE: 0.7722849\n",
      "\tValidation RMSE: 0.7701817\n",
      "\tValidation RMSE: 0.7689785\n",
      "\tValidation RMSE: 0.7650746\n",
      "\t >> Set new checkpoint to epoch 43\n",
      "\tValidation RMSE: 0.7645720\n",
      "\t >> Set new checkpoint to epoch 44\n",
      "\tValidation RMSE: 0.7723685\n",
      "\tValidation RMSE: 0.7678653\n",
      "\tValidation RMSE: 0.7674624\n",
      "\tValidation RMSE: 0.7658597\n",
      "\tValidation RMSE: 0.7666565\n",
      "\tValidation RMSE: 0.7695543\n",
      "\tValidation RMSE: 0.7678518\n",
      "\tValidation RMSE: 0.7695487\n",
      "\tValidation RMSE: 0.7685468\n",
      "\t >> Learning rate reduced from 2e-04 to 1e-04\n",
      "\tValidation RMSE: 0.7606196\n",
      "\t >> Set new checkpoint to epoch 54\n",
      "\tValidation RMSE: 0.7560132\n",
      "\t >> Set new checkpoint to epoch 55\n",
      "\tValidation RMSE: 0.7528107\n",
      "\t >> Set new checkpoint to epoch 56\n",
      "\tValidation RMSE: 0.7602084\n",
      "\tValidation RMSE: 0.7609056\n",
      "\tValidation RMSE: 0.7608045\n",
      "\tValidation RMSE: 0.7627025\n",
      "\tValidation RMSE: 0.7591006\n",
      "\tValidation RMSE: 0.7626986\n",
      "\tValidation RMSE: 0.7611980\n",
      "\tValidation RMSE: 0.7607961\n",
      "\tValidation RMSE: 0.7612940\n",
      "\t >> Learning rate reduced from 1e-04 to 5e-05\n",
      "\tValidation RMSE: 0.7578821\n",
      "\tValidation RMSE: 0.7582787\n",
      "\tValidation RMSE: 0.7601771\n",
      "\tValidation RMSE: 0.7588766\n",
      "\tValidation RMSE: 0.7588754\n",
      "\tValidation RMSE: 0.7622742\n",
      "\tValidation RMSE: 0.7582727\n",
      "\tValidation RMSE: 0.7568725\n",
      "\tValidation RMSE: 0.7580710\n",
      "\t >> Learning rate reduced from 5e-05 to 3e-05\n",
      "\tValidation RMSE: 0.7586654\n",
      "\tValidation RMSE: 0.7580637\n",
      "\tValidation RMSE: 0.7574631\n",
      "\tValidation RMSE: 0.7588619\n",
      "\tValidation RMSE: 0.7569618\n",
      "\tValidation RMSE: 0.7590614\n",
      "\tValidation RMSE: 0.7603604\n",
      "\tValidation RMSE: 0.7603604\n",
      "\tValidation RMSE: 0.7619601\n",
      "\t >> Learning rate reduced from 3e-05 to 1e-05\n",
      "\tValidation RMSE: 0.7594565\n",
      "\tValidation RMSE: 0.7592555\n",
      "\tValidation RMSE: 0.7578552\n",
      "\tValidation RMSE: 0.7606546\n",
      "\tValidation RMSE: 0.7608544\n",
      "\tValidation RMSE: 0.7596543\n",
      "\tValidation RMSE: 0.7598541\n",
      "\tValidation RMSE: 0.7613538\n",
      "\tValidation RMSE: 0.7600535\n",
      "\t >> Learning rate reduced from 1e-05 to 6e-06\n",
      "\tValidation RMSE: 0.7604516\n",
      "\tValidation RMSE: 0.7599516\n",
      "\tValidation RMSE: 0.7601520\n",
      "\tValidation RMSE: 0.7597516\n",
      "\tValidation RMSE: 0.7597510\n",
      "\tValidation RMSE: 0.7599504\n",
      "\tValidation RMSE: 0.7602507\n",
      "\tValidation RMSE: 0.75974505\n",
      "Finished Training!\n",
      "{'epoch': 56, 'val_loss': 0.5666440725326538, 'sqrt_val_loss': 0.7527576684951782, 'file': '../../checkpoint_config_1.best.pt'}\n",
      "Running configuration 2/3...\n",
      "Using pre-set train/validation keys\n",
      "\tValidation RMSE: 1.072534\n",
      "\t >> Set new checkpoint to epoch 1\n",
      "\tValidation RMSE: 0.956422\n",
      "\t >> Set new checkpoint to epoch 2\n",
      "\tValidation RMSE: 0.901827\n",
      "\t >> Set new checkpoint to epoch 3\n",
      "\tValidation RMSE: 0.878194\n",
      "\t >> Set new checkpoint to epoch 4\n",
      "\tValidation RMSE: 0.856610\n",
      "\t >> Set new checkpoint to epoch 5\n",
      "\tValidation RMSE: 0.851403\n",
      "\t >> Set new checkpoint to epoch 6\n",
      "\tValidation RMSE: 0.837219\n",
      "\t >> Set new checkpoint to epoch 7\n",
      "\tValidation RMSE: 0.839944\n",
      "\tValidation RMSE: 0.825092\n",
      "\t >> Set new checkpoint to epoch 9\n",
      "\tValidation RMSE: 0.8231647\n",
      "\t >> Set new checkpoint to epoch 10\n",
      "\tValidation RMSE: 0.8175530\n",
      "\t >> Set new checkpoint to epoch 11\n",
      "\tValidation RMSE: 0.8119393\n",
      "\t >> Set new checkpoint to epoch 12\n",
      "\tValidation RMSE: 0.8076296\n",
      "\t >> Set new checkpoint to epoch 13\n",
      "\tValidation RMSE: 0.8030177\n",
      "\t >> Set new checkpoint to epoch 14\n",
      "\tValidation RMSE: 0.7986089\n",
      "\t >> Set new checkpoint to epoch 15\n",
      "\tValidation RMSE: 0.7951987\n",
      "\t >> Set new checkpoint to epoch 16\n",
      "\tValidation RMSE: 0.7964891\n",
      "\tValidation RMSE: 0.7899803\n",
      "\t >> Set new checkpoint to epoch 18\n",
      "\tValidation RMSE: 0.7917714\n",
      "\tValidation RMSE: 0.7924629\n",
      "\tValidation RMSE: 0.7879551\n",
      "\t >> Set new checkpoint to epoch 21\n",
      "\tValidation RMSE: 0.7910490\n",
      "\tValidation RMSE: 0.7852417\n",
      "\t >> Set new checkpoint to epoch 23\n",
      "\tValidation RMSE: 0.7862344\n",
      "\tValidation RMSE: 0.7847276\n",
      "\t >> Set new checkpoint to epoch 25\n",
      "\tValidation RMSE: 0.7796218\n",
      "\t >> Set new checkpoint to epoch 26\n",
      "\tValidation RMSE: 0.7779146\n",
      "\t >> Set new checkpoint to epoch 27\n",
      "\tValidation RMSE: 0.7764096\n",
      "\t >> Set new checkpoint to epoch 28\n",
      "\tValidation RMSE: 0.7824031\n",
      "\tValidation RMSE: 0.7796977\n",
      "\tValidation RMSE: 0.7796932\n",
      "\tValidation RMSE: 0.7754879\n",
      "\t >> Set new checkpoint to epoch 32\n",
      "\tValidation RMSE: 0.7702825\n",
      "\t >> Set new checkpoint to epoch 33\n",
      "\tValidation RMSE: 0.7715790\n",
      "\tValidation RMSE: 0.7716738\n",
      "\tValidation RMSE: 0.7735696\n",
      "\tValidation RMSE: 0.7758649\n",
      "\tValidation RMSE: 0.7750610\n",
      "\tValidation RMSE: 0.7760574\n",
      "\tValidation RMSE: 0.7765539\n",
      "\tValidation RMSE: 0.7718495\n",
      "\tValidation RMSE: 0.7757460\n",
      "\t >> Learning rate reduced from 2e-04 to 1e-04\n",
      "\tValidation RMSE: 0.7631150\n",
      "\t >> Set new checkpoint to epoch 43\n",
      "\tValidation RMSE: 0.7630080\n",
      "\t >> Set new checkpoint to epoch 44\n",
      "\tValidation RMSE: 0.7721050\n",
      "\tValidation RMSE: 0.7657018\n",
      "\tValidation RMSE: 0.7659993\n",
      "\tValidation RMSE: 0.7654966\n",
      "\tValidation RMSE: 0.7712942\n",
      "\tValidation RMSE: 0.7686918\n",
      "\tValidation RMSE: 0.7644902\n",
      "\tValidation RMSE: 0.7642882\n",
      "\t >> Learning rate reduced from 1e-04 to 5e-05\n",
      "\tValidation RMSE: 0.7641736\n",
      "\tValidation RMSE: 0.7623696\n",
      "\t >> Set new checkpoint to epoch 54\n",
      "\tValidation RMSE: 0.7650679\n",
      "\tValidation RMSE: 0.7620669\n",
      "\t >> Set new checkpoint to epoch 56\n",
      "\tValidation RMSE: 0.7635647\n",
      "\tValidation RMSE: 0.7627639\n",
      "\tValidation RMSE: 0.7649631\n",
      "\tValidation RMSE: 0.7653616\n",
      "\tValidation RMSE: 0.7649600\n",
      "\tValidation RMSE: 0.7663595\n",
      "\tValidation RMSE: 0.7645587\n",
      "\tValidation RMSE: 0.7634570\n",
      "\tValidation RMSE: 0.7687562\n",
      "\t >> Learning rate reduced from 5e-05 to 3e-05\n",
      "\tValidation RMSE: 0.7657495\n",
      "\tValidation RMSE: 0.7661467\n",
      "\tValidation RMSE: 0.7656457\n",
      "\tValidation RMSE: 0.7677458\n",
      "\tValidation RMSE: 0.7663444\n",
      "\tValidation RMSE: 0.7676433\n",
      "\tValidation RMSE: 0.7669435\n",
      "\tValidation RMSE: 0.7658426\n",
      "\tValidation RMSE: 0.7683424\n",
      "\t >> Learning rate reduced from 3e-05 to 1e-05\n",
      "\tValidation RMSE: 0.7671392\n",
      "\tValidation RMSE: 0.7661381\n",
      "\tValidation RMSE: 0.7668373\n",
      "\tValidation RMSE: 0.7676366\n",
      "\tValidation RMSE: 0.7661363\n",
      "\tValidation RMSE: 0.7672360\n",
      "\tValidation RMSE: 0.7670361\n",
      "\tValidation RMSE: 0.7687359\n",
      "\tValidation RMSE: 0.7676354\n",
      "\t >> Learning rate reduced from 1e-05 to 6e-06\n",
      "\tValidation RMSE: 0.7672334\n",
      "\tValidation RMSE: 0.7672327\n",
      "\tValidation RMSE: 0.7676333\n",
      "\tValidation RMSE: 0.7672325\n",
      "\tValidation RMSE: 0.7676327\n",
      "\tValidation RMSE: 0.7678325\n",
      "\tValidation RMSE: 0.7681321\n",
      "\tValidation RMSE: 0.7676319\n",
      "\tValidation RMSE: 0.7682320\n",
      "\t >> Learning rate reduced from 6e-06 to 3e-06\n",
      "\tValidation RMSE: 0.7675308\n",
      "\tValidation RMSE: 0.7678310\n",
      "\tValidation RMSE: 0.7674303\n",
      "\tValidation RMSE: 0.7674307\n",
      "\tValidation RMSE: 0.7681305\n",
      "\tValidation RMSE: 0.7683306\n",
      "\tValidation RMSE: 0.7677304\n",
      "\tValidation RMSE: 0.76704300\n",
      "Finished Training!\n",
      "{'epoch': 56, 'val_loss': 0.580608606338501, 'sqrt_val_loss': 0.7619767785072327, 'file': '../../checkpoint_config_2.best.pt'}\n",
      "Running configuration 3/3...\n",
      "Using pre-set train/validation keys\n",
      "\tValidation RMSE: 1.077151\n",
      "\t >> Set new checkpoint to epoch 1\n",
      "\tValidation RMSE: 0.951964\n",
      "\t >> Set new checkpoint to epoch 2\n",
      "\tValidation RMSE: 0.899764\n",
      "\t >> Set new checkpoint to epoch 3\n",
      "\tValidation RMSE: 0.874623\n",
      "\t >> Set new checkpoint to epoch 4\n",
      "\tValidation RMSE: 0.853129\n",
      "\t >> Set new checkpoint to epoch 5\n",
      "\tValidation RMSE: 0.841606\n",
      "\t >> Set new checkpoint to epoch 6\n",
      "\tValidation RMSE: 0.836717\n",
      "\t >> Set new checkpoint to epoch 7\n",
      "\tValidation RMSE: 0.831235\n",
      "\t >> Set new checkpoint to epoch 8\n",
      "\tValidation RMSE: 0.820762\n",
      "\t >> Set new checkpoint to epoch 9\n",
      "\tValidation RMSE: 0.8136419\n",
      "\t >> Set new checkpoint to epoch 10\n",
      "\tValidation RMSE: 0.8144277\n",
      "\tValidation RMSE: 0.8197134\n",
      "\tValidation RMSE: 0.8076021\n",
      "\t >> Set new checkpoint to epoch 13\n",
      "\tValidation RMSE: 0.7967900\n",
      "\t >> Set new checkpoint to epoch 14\n",
      "\tValidation RMSE: 0.8049789\n",
      "\tValidation RMSE: 0.7978671\n",
      "\tValidation RMSE: 0.7910574\n",
      "\t >> Set new checkpoint to epoch 17\n",
      "\tValidation RMSE: 0.7957473\n",
      "\tValidation RMSE: 0.7943381\n",
      "\tValidation RMSE: 0.7959289\n",
      "\tValidation RMSE: 0.7875210\n",
      "\t >> Set new checkpoint to epoch 21\n",
      "\tValidation RMSE: 0.7916126\n",
      "\tValidation RMSE: 0.7902050\n",
      "\tValidation RMSE: 0.7887977\n",
      "\tValidation RMSE: 0.7812910\n",
      "\t >> Set new checkpoint to epoch 25\n",
      "\tValidation RMSE: 0.7789836\n",
      "\t >> Set new checkpoint to epoch 26\n",
      "\tValidation RMSE: 0.7799777\n",
      "\tValidation RMSE: 0.7817712\n",
      "\tValidation RMSE: 0.7784658\n",
      "\t >> Set new checkpoint to epoch 29\n",
      "\tValidation RMSE: 0.7769596\n",
      "\t >> Set new checkpoint to epoch 30\n",
      "\tValidation RMSE: 0.7790549\n",
      "\tValidation RMSE: 0.7812485\n",
      "\tValidation RMSE: 0.7760433\n",
      "\t >> Set new checkpoint to epoch 33\n",
      "\tValidation RMSE: 0.7719382\n",
      "\t >> Set new checkpoint to epoch 34\n",
      "\tValidation RMSE: 0.7798348\n",
      "\tValidation RMSE: 0.7805299\n",
      "\tValidation RMSE: 0.7803253\n",
      "\tValidation RMSE: 0.7804200\n",
      "\tValidation RMSE: 0.7798161\n",
      "\tValidation RMSE: 0.7751134\n",
      "\tValidation RMSE: 0.7746087\n",
      "\tValidation RMSE: 0.7796048\n",
      "\tValidation RMSE: 0.7792016\n",
      "\t >> Learning rate reduced from 2e-04 to 1e-04\n",
      "\tValidation RMSE: 0.7703674\n",
      "\t >> Set new checkpoint to epoch 44\n",
      "\tValidation RMSE: 0.7719597\n",
      "\tValidation RMSE: 0.7751554\n",
      "\tValidation RMSE: 0.7722529\n",
      "\tValidation RMSE: 0.7757508\n",
      "\tValidation RMSE: 0.7744473\n",
      "\tValidation RMSE: 0.7743456\n",
      "\tValidation RMSE: 0.7789432\n",
      "\tValidation RMSE: 0.7765411\n",
      "\tValidation RMSE: 0.7803393\n",
      "\t >> Learning rate reduced from 1e-04 to 5e-05\n",
      "\tValidation RMSE: 0.7752226\n",
      "\tValidation RMSE: 0.7753189\n",
      "\tValidation RMSE: 0.7789168\n",
      "\tValidation RMSE: 0.7783155\n",
      "\tValidation RMSE: 0.7734138\n",
      "\tValidation RMSE: 0.7759126\n",
      "\tValidation RMSE: 0.7792114\n",
      "\tValidation RMSE: 0.7812105\n",
      "\tValidation RMSE: 0.7757094\n",
      "\t >> Learning rate reduced from 5e-05 to 3e-05\n",
      "\tValidation RMSE: 0.7774011\n",
      "\tValidation RMSE: 0.7796987\n",
      "\tValidation RMSE: 0.7802980\n",
      "\tValidation RMSE: 0.7774973\n",
      "\tValidation RMSE: 0.7797962\n",
      "\tValidation RMSE: 0.7801955\n",
      "\tValidation RMSE: 0.7807953\n",
      "\tValidation RMSE: 0.7814944\n",
      "\tValidation RMSE: 0.7815934\n",
      "\t >> Learning rate reduced from 3e-05 to 1e-05\n",
      "\tValidation RMSE: 0.7803898\n",
      "\tValidation RMSE: 0.7819890\n",
      "\tValidation RMSE: 0.7801884\n",
      "\tValidation RMSE: 0.7796881\n",
      "\tValidation RMSE: 0.7813880\n",
      "\tValidation RMSE: 0.7812873\n",
      "\tValidation RMSE: 0.7821865\n",
      "\tValidation RMSE: 0.7821867\n",
      "\tValidation RMSE: 0.7819865\n",
      "\t >> Learning rate reduced from 1e-05 to 6e-06\n",
      "\tValidation RMSE: 0.7802842\n",
      "\tValidation RMSE: 0.7810838\n",
      "\tValidation RMSE: 0.7828833\n",
      "\tValidation RMSE: 0.7813838\n",
      "\tValidation RMSE: 0.7814829\n",
      "\tValidation RMSE: 0.7829827\n",
      "\tValidation RMSE: 0.7823825\n",
      "\tValidation RMSE: 0.7814828\n",
      "\tValidation RMSE: 0.7833822\n",
      "\t >> Learning rate reduced from 6e-06 to 3e-06\n",
      "\tValidation RMSE: 0.7819816\n",
      "\tValidation RMSE: 0.7822813\n",
      "\tValidation RMSE: 0.7821806\n",
      "\tValidation RMSE: 0.7823805\n",
      "\tValidation RMSE: 0.7826805\n",
      "\tValidation RMSE: 0.7825804\n",
      "\tValidation RMSE: 0.7832803\n",
      "\tValidation RMSE: 0.7836804\n",
      "\tValidation RMSE: 0.7824805\n",
      "\t >> Learning rate reduced from 3e-06 to 2e-06\n",
      "\tValidation RMSE: 0.7828798\n",
      "\tValidation RMSE: 0.78293802\n",
      "Finished Training!\n",
      "{'epoch': 44, 'val_loss': 0.593344509601593, 'sqrt_val_loss': 0.7702885866165161, 'file': '../../checkpoint_config_3.best.pt'}\n",
      "{'model_params': {'latent_dropout': 0.1, 'input_dropout': 0.1}, 'training_params': {'epochs': 100}}\n",
      "Checkpoints: {'epoch': 56, 'val_loss': 0.5666440725326538, 'sqrt_val_loss': 0.7527576684951782, 'file': '../../checkpoint_config_1.best.pt'}\n",
      "{'model_params': {'latent_dropout': 0.075, 'input_dropout': 0.075}, 'training_params': {'epochs': 100}}\n",
      "Checkpoints: {'epoch': 56, 'val_loss': 0.580608606338501, 'sqrt_val_loss': 0.7619767785072327, 'file': '../../checkpoint_config_2.best.pt'}\n",
      "{'model_params': {'latent_dropout': 0.05, 'input_dropout': 0.05}, 'training_params': {'epochs': 100}}\n",
      "Checkpoints: {'epoch': 44, 'val_loss': 0.593344509601593, 'sqrt_val_loss': 0.7702885866165161, 'file': '../../checkpoint_config_3.best.pt'}\n"
     ]
    }
   ],
   "source": [
    "import torch.multiprocessing as mp\n",
    "mp.set_start_method('spawn', force=True)\n",
    "GRID_SEARCH = True\n",
    "if GRID_SEARCH:\n",
    "    param_grid = [\n",
    "        # Reduce dropout, and increase weight decay\n",
    "        {\"model_params\": {\"latent_dropout\": 0.1, \"input_dropout\": 0.1}, \"training_params\": {\"epochs\": 100}},\n",
    "        {\"model_params\": {\"latent_dropout\": 0.075, \"input_dropout\": 0.075}, \"training_params\": {\"epochs\": 100}},\n",
    "        {\"model_params\": {\"latent_dropout\": 0.05, \"input_dropout\": 0.05}, \"training_params\": {\"epochs\": 100}},\n",
    "        # Test bottleneck dimensions\n",
    "        ##{\"model_params\": {\"dense_dim\": 1000, \"latent_dropout\": 0.1, \"input_dropout\": 0.1}, \"training_params\": {}},\n",
    "        #{\"model_params\": {\"dense_dim\": 500, \"latent_dropout\": 0.1, \"input_dropout\": 0.1}, \"training_params\": {}},\n",
    "        #{\"model_params\": {\"dense_dim\": 300, \"latent_dropout\": 0.1, \"input_dropout\": 0.1}, \"training_params\": {}},\n",
    "    ]\n",
    "\n",
    "    grid_results = grid_search(param_grid, model_params, training_params, store_models=True)\n",
    "\n",
    "    # Analyze results\n",
    "    for result in grid_results:\n",
    "        print(result[\"config\"])\n",
    "        if \"error\" in result:\n",
    "            print(f\"Error: {result['error']}\")\n",
    "        else:\n",
    "            print(f\"Checkpoints: {result['checkpoints']}\")"
   ]
  },
  {
   "cell_type": "code",
   "execution_count": 21,
   "metadata": {},
   "outputs": [],
   "source": [
    "if 'model' in locals():\n",
    "    del model\n",
    "    torch.cuda.empty_cache()\n",
    "\n",
    "if not GRID_SEARCH:\n",
    "    print(f\"Training model\")\n",
    "    model, checkpoints, trainer = train_new_model() # continue_with_model=model)"
   ]
  },
  {
   "cell_type": "code",
   "execution_count": 22,
   "metadata": {},
   "outputs": [
    {
     "name": "stdout",
     "output_type": "stream",
     "text": [
      "Best model found with val_sqrt_error: 0.7527576684951782\n",
      "Parameter overrides for the best model:\n",
      "{'model_params': {'latent_dropout': 0.1, 'input_dropout': 0.1}, 'training_params': {'epochs': 100}}\n"
     ]
    }
   ],
   "source": [
    "import copy\n",
    "\n",
    "best_result = None\n",
    "if not GRID_SEARCH:\n",
    "    print(checkpoints) \n",
    "    model_at_last_epoch = copy.deepcopy(model)\n",
    "\n",
    "else:\n",
    "    best_result = min(grid_results, key=lambda x: x[\"checkpoints\"][\"sqrt_val_loss\"])\n",
    "    model = best_result[\"model\"]\n",
    "    checkpoints = best_result[\"checkpoints\"]\n",
    "    trainer = best_result[\"trainer\"]\n",
    "    print(f\"Best model found with val_sqrt_error: {best_result['checkpoints']['sqrt_val_loss']}\")\n",
    "    print(\"Parameter overrides for the best model:\")\n",
    "    print(best_result[\"config\"])"
   ]
  },
  {
   "cell_type": "code",
   "execution_count": 23,
   "metadata": {},
   "outputs": [
    {
     "data": {
      "image/png": "[encoded data removed]",
      "text/plain": [
       "<Figure size 1000x500 with 1 Axes>"
      ]
     },
     "metadata": {},
     "output_type": "display_data"
    },
    {
     "name": "stdout",
     "output_type": "stream",
     "text": [
      "Minimum Training RMSE: 0.45042 (Epoch 98)\n",
      "Minimum Validation RMSE: 0.75276 (Epoch 56)\n"
     ]
    }
   ],
   "source": [
    "import seaborn as sns\n",
    "import matplotlib.pyplot as plt\n",
    "# Convert numpy arrays to scalars if they are single-element arrays\n",
    "trainer.history[\"train_error\"] = [\n",
    "    error.item() if isinstance(error, np.ndarray) and error.size == 1 else error\n",
    "    for error in trainer.history[\"train_error\"]\n",
    "]\n",
    "trainer.history[\"val_error\"] = [\n",
    "    error.item() if isinstance(error, np.ndarray) and error.size == 1 else error\n",
    "    for error in trainer.history[\"val_error\"]\n",
    "]\n",
    "trainer.history[\"lr\"] = [\n",
    "    lr.item() if isinstance(lr, np.ndarray) and lr.size == 1 else lr\n",
    "    for lr in trainer.history[\"lr\"]\n",
    "]\n",
    "\n",
    "# Create a DataFrame from the tracker dictionary\n",
    "tracker_df = pd.DataFrame({\n",
    "    \"epoch\": trainer.history[\"epoch\"],\n",
    "    \"train_rmse\": trainer.history[\"sqrt_train_error\"],\n",
    "    \"val_rmse\": trainer.history[\"sqrt_val_error\"],\n",
    "    \"lr\": trainer.history[\"lr\"]\n",
    "})\n",
    "\n",
    "# Plot the training and validation loss\n",
    "plt.figure(figsize=(10, 5))\n",
    "sns.lineplot(data=tracker_df, x=\"epoch\", y=\"train_rmse\", label=\"Training RMSE\", color=\"blue\")\n",
    "sns.lineplot(data=tracker_df, x=\"epoch\", y=\"val_rmse\", label=\"Validation RMSE\", color=\"orange\")\n",
    "\n",
    "# Highlight the epochs where the learning rate changes\n",
    "previous_lr = None\n",
    "for _, row in tracker_df.iterrows():\n",
    "    current_lr = row[\"lr\"]\n",
    "    if current_lr != previous_lr:\n",
    "        epoch = row[\"epoch\"]\n",
    "        val_loss_at_epoch = row[\"val_rmse\"]\n",
    "        plt.scatter(epoch, val_loss_at_epoch + 0.0001, color=\"black\", marker=\"v\", label=\"LR Change\" if previous_lr is None else \"\")\n",
    "        plt.text(epoch, val_loss_at_epoch + 0.0002, f\"LR: {current_lr:1.0e}\", color=\"black\", ha=\"center\", fontsize=8)\n",
    "        previous_lr = current_lr\n",
    "\n",
    "plt.xlabel(\"Epoch\")\n",
    "plt.ylabel(\"RMSE\")\n",
    "#plt.ylim(0, tracker_df[\"val_rmse\"].max() + 0.004)\n",
    "plt.title(\"Training and Validation Loss Over Epochs\")\n",
    "plt.legend()\n",
    "plt.show()\n",
    "min_train_error = min(trainer.history[\"sqrt_train_error\"])\n",
    "min_val_error = min(trainer.history[\"sqrt_val_error\"])\n",
    "epoch_min_train_error = trainer.history[\"epoch\"][np.argmin(trainer.history[\"sqrt_train_error\"])]\n",
    "epoch_min_val_error = trainer.history[\"epoch\"][np.argmin(trainer.history[\"sqrt_val_error\"])]\n",
    "print(f\"Minimum Training RMSE: {min_train_error:.5f} (Epoch {epoch_min_train_error})\")\n",
    "print(f\"Minimum Validation RMSE: {min_val_error:.5f} (Epoch {epoch_min_val_error})\")"
   ]
  },
  {
   "cell_type": "code",
   "execution_count": 24,
   "metadata": {},
   "outputs": [],
   "source": [
    "from fiora.MOL.collision_energy import NCE_to_eV\n",
    "\n",
    "df_cas[\"RETENTIONTIME\"] = df_cas[\"RTINSECONDS\"] / 60.0\n",
    "df_cas[\"Metabolite\"] = df_cas[\"SMILES\"].apply(Metabolite)\n",
    "df_cas[\"Metabolite\"].apply(lambda x: x.create_molecular_structure_graph())\n",
    "\n",
    "df_cas[\"Metabolite\"].apply(lambda x: x.compute_graph_attributes(node_encoder, bond_encoder))\n",
    "df_cas[\"CE\"] = 20.0 # actually stepped 20/35/50\n",
    "df_cas[\"Instrument_type\"] = \"HCD\" # CHECK if correct Orbitrap\n",
    "\n",
    "metadata_key_map16 = {\"collision_energy\":  \"CE\", \n",
    "                 \"instrument\": \"Instrument_type\",\n",
    "                 \"precursor_mz\": \"PRECURSOR_MZ\",\n",
    "                 'precursor_mode': \"Precursor_type\",\n",
    "                 \"retention_time\": \"RETENTIONTIME\"\n",
    "                 }\n",
    "\n",
    "df_cas[\"summary\"] = df_cas.apply(lambda x: {key: x[name] for key, name in metadata_key_map16.items()}, axis=1)\n",
    "df_cas.apply(lambda x: x[\"Metabolite\"].add_metadata(x[\"summary\"], covariate_encoder), axis=1)\n",
    "\n",
    "# Fragmentation\n",
    "df_cas[\"Metabolite\"].apply(lambda x: x.fragment_MOL(depth=1))\n",
    "df_cas.apply(lambda x: x[\"Metabolite\"].match_fragments_to_peaks(x[\"peaks\"][\"mz\"], x[\"peaks\"][\"intensity\"], tolerance=100 * PPM), axis=1) # Optional: use mz_cut instead\n",
    "\n",
    "#\n",
    "# CASMI 22\n",
    "#\n",
    "\n",
    "df_cas22[\"Metabolite\"] = df_cas22[\"SMILES\"].apply(Metabolite)\n",
    "df_cas22[\"Metabolite\"].apply(lambda x: x.create_molecular_structure_graph())\n",
    "\n",
    "df_cas22[\"Metabolite\"].apply(lambda x: x.compute_graph_attributes(node_encoder, bond_encoder))\n",
    "df_cas22[\"CE\"] = df_cas22.apply(lambda x: NCE_to_eV(x[\"NCE\"], x[\"precursor_mz\"]), axis=1)\n",
    "\n",
    "metadata_key_map22 = {\"collision_energy\":  \"CE\", \n",
    "                 \"instrument\": \"Instrument_type\",\n",
    "                 \"precursor_mz\": \"precursor_mz\",\n",
    "                 'precursor_mode': \"Precursor_type\",\n",
    "                 \"retention_time\": \"ChallengeRT\"\n",
    "                 }\n",
    "\n",
    "df_cas22[\"summary\"] = df_cas22.apply(lambda x: {key: x[name] for key, name in metadata_key_map22.items()}, axis=1)\n",
    "df_cas22.apply(lambda x: x[\"Metabolite\"].add_metadata(x[\"summary\"], covariate_encoder, rt_encoder), axis=1)\n",
    "\n",
    "# Fragmentation\n",
    "df_cas22[\"Metabolite\"].apply(lambda x: x.fragment_MOL(depth=1))\n",
    "df_cas22.apply(lambda x: x[\"Metabolite\"].match_fragments_to_peaks(x[\"peaks\"][\"mz\"], x[\"peaks\"][\"intensity\"], tolerance=100 * PPM), axis=1) # Optional: use mz_cut instead\n",
    "\n",
    "df_cas22 = df_cas22.reset_index()"
   ]
  },
  {
   "cell_type": "code",
   "execution_count": 25,
   "metadata": {},
   "outputs": [],
   "source": [
    "from fiora.MOL.collision_energy import NCE_to_eV\n",
    "from fiora.MS.spectral_scores import spectral_cosine, spectral_reflection_cosine, reweighted_dot\n",
    "from fiora.MS.ms_utility import merge_annotated_spectrum\n",
    "\n",
    "def test_cas16(model, df_cas=df_cas, score=\"merged_sqrt_cosine\", return_df=False):\n",
    "    \n",
    "    df_cas[\"NCE\"] = 20.0 # actually stepped NCE 20/35/50\n",
    "    df_cas[\"CE\"] = df_cas[[\"NCE\", \"PRECURSOR_MZ\"]].apply(lambda x: NCE_to_eV(x[\"NCE\"], x[\"PRECURSOR_MZ\"]), axis=1)\n",
    "    df_cas[\"step1_CE\"] = df_cas[\"CE\"]\n",
    "    df_cas[\"summary\"] = df_cas.apply(lambda x: {key: x[name] for key, name in metadata_key_map16.items()}, axis=1)\n",
    "    df_cas.apply(lambda x: x[\"Metabolite\"].add_metadata(x[\"summary\"], covariate_encoder, rt_encoder), axis=1)\n",
    "    df_cas = fiora.simulate_all(df_cas, model, suffix=\"_20\")\n",
    "\n",
    "    df_cas[\"NCE\"] = 35.0 # actually stepped NCE 20/35/50\n",
    "    df_cas[\"CE\"] = df_cas[[\"NCE\", \"PRECURSOR_MZ\"]].apply(lambda x: NCE_to_eV(x[\"NCE\"], x[\"PRECURSOR_MZ\"]), axis=1)\n",
    "    df_cas[\"step2_CE\"] = df_cas[\"CE\"]\n",
    "    df_cas[\"summary\"] = df_cas.apply(lambda x: {key: x[name] for key, name in metadata_key_map16.items()}, axis=1)\n",
    "    df_cas.apply(lambda x: x[\"Metabolite\"].add_metadata(x[\"summary\"], covariate_encoder, rt_encoder), axis=1)\n",
    "    df_cas = fiora.simulate_all(df_cas, model, suffix=\"_35\")\n",
    "\n",
    "\n",
    "    df_cas[\"NCE\"] = 50.0 # actually stepped NCE 20/35/50\n",
    "    df_cas[\"CE\"] = df_cas[[\"NCE\", \"PRECURSOR_MZ\"]].apply(lambda x: NCE_to_eV(x[\"NCE\"], x[\"PRECURSOR_MZ\"]), axis=1)\n",
    "    df_cas[\"step3_CE\"] = df_cas[\"CE\"]\n",
    "    df_cas[\"summary\"] = df_cas.apply(lambda x: {key: x[name] for key, name in metadata_key_map16.items()}, axis=1)\n",
    "    df_cas.apply(lambda x: x[\"Metabolite\"].add_metadata(x[\"summary\"], covariate_encoder, rt_encoder), axis=1)\n",
    "    df_cas = fiora.simulate_all(df_cas, model, suffix=\"_50\")\n",
    "\n",
    "    df_cas[\"avg_CE\"] = (df_cas[\"step1_CE\"] + df_cas[\"step2_CE\"] + df_cas[\"step3_CE\"]) / 3\n",
    "\n",
    "    df_cas[\"merged_peaks\"] = df_cas.apply(lambda x: merge_annotated_spectrum(merge_annotated_spectrum(x[\"sim_peaks_20\"], x[\"sim_peaks_35\"]), x[\"sim_peaks_50\"]) , axis=1)\n",
    "    df_cas[\"merged_cosine\"] = df_cas.apply(lambda x: spectral_cosine(x[\"peaks\"], x[\"merged_peaks\"]), axis=1)\n",
    "    df_cas[\"merged_sqrt_cosine\"] = df_cas.apply(lambda x: spectral_cosine(x[\"peaks\"], x[\"merged_peaks\"], transform=np.sqrt), axis=1)\n",
    "    df_cas[\"merged_sqrt_cosine_wo_prec\"] = df_cas.apply(lambda x: spectral_cosine(x[\"peaks\"], x[\"merged_peaks\"], transform=np.sqrt, remove_mz=x[\"Metabolite\"].get_theoretical_precursor_mz(x[\"Metabolite\"].metadata[\"precursor_mode\"])), axis=1)\n",
    "    df_cas[\"merged_refl_cosine\"] = df_cas.apply(lambda x: spectral_reflection_cosine(x[\"peaks\"], x[\"merged_peaks\"], transform=np.sqrt), axis=1)\n",
    "    df_cas[\"merged_steins\"] = df_cas.apply(lambda x: reweighted_dot(x[\"peaks\"], x[\"merged_peaks\"]), axis=1)\n",
    "    df_cas[\"spectral_sqrt_cosine\"] = df_cas[\"merged_sqrt_cosine\"] # just remember it is merged\n",
    "    df_cas[\"spectral_sqrt_cosine_wo_prec\"] = df_cas[\"merged_sqrt_cosine_wo_prec\"] # just remember it is merged\n",
    "\n",
    "    df_cas[\"coverage\"] = df_cas[\"Metabolite\"].apply(lambda x: x.match_stats[\"coverage\"])\n",
    "    if hasattr(model, \"rt_module\"):\n",
    "        df_cas[\"RT_pred\"] = df_cas[\"RT_pred_35\"]\n",
    "        df_cas[\"RT_dif\"] = df_cas[\"RT_dif_35\"]\n",
    "    if hasattr(model, \"ccs_module\"):\n",
    "        df_cas[\"CCS_pred\"] = df_cas[\"CCS_pred_35\"]\n",
    "    df_cas[\"library\"] = \"CASMI-16\"\n",
    "    \n",
    "    if return_df:\n",
    "        return df_cas\n",
    "    \n",
    "    return df_cas[score].values"
   ]
  },
  {
   "cell_type": "code",
   "execution_count": 26,
   "metadata": {},
   "outputs": [],
   "source": [
    "model = FioraModel.load(checkpoints[\"file\"]).to(dev) if not GRID_SEARCH else FioraModel.load(best_result[\"checkpoints\"][\"file\"]).to(dev)\n",
    "df_val = df_train[df_train[\"datasplit\"] == \"validation\"]\n",
    "\n",
    "df_val = test_model(model, df_val, return_df=True)\n",
    "df_test = test_model(model, df_test, return_df=True)\n",
    "df_cas16 = test_cas16(model, df_cas, return_df=True)"
   ]
  },
  {
   "cell_type": "code",
   "execution_count": 27,
   "metadata": {},
   "outputs": [],
   "source": [
    "from fiora.MOL.constants import DEFAULT_DALTON\n",
    "from fiora.MS.spectral_scores import spectral_cosine \n",
    "def construct_explained_peaks(df, tolerance):\n",
    "    explained_peaks_list = []\n",
    "\n",
    "    for _, row in df.iterrows():\n",
    "        peaks = row[\"peaks\"]\n",
    "        metabolite = row[\"Metabolite\"]\n",
    "        peak_matches = metabolite.peak_matches\n",
    "\n",
    "        explained_mz = []\n",
    "        explained_intensity = []\n",
    "\n",
    "        for mz, intensity in zip(peaks[\"mz\"], peaks[\"intensity\"]):\n",
    "            for matched_mz in peak_matches.keys():\n",
    "                if abs(mz - matched_mz) <= tolerance:\n",
    "                    explained_mz.append(mz)\n",
    "                    explained_intensity.append(intensity)\n",
    "                    break  # Stop checking once a match is found\n",
    "\n",
    "        explained_peaks_list.append({\"mz\": explained_mz, \"intensity\": explained_intensity})\n",
    "\n",
    "    df[\"explained_peaks\"] = explained_peaks_list\n",
    "    return df\n",
    "\n",
    "\n",
    "df_test = construct_explained_peaks(df_test, DEFAULT_DALTON)\n",
    "df_test[\"explained_sqrt_cosine\"] = df_test.apply(lambda x: spectral_cosine(x[\"explained_peaks\"], x[\"peaks\"], transform=np.sqrt), axis=1)\n",
    "df_test[\"explained_sqrt_cosine_wo_prec\"] = df_test.apply(lambda x: spectral_cosine(x[\"explained_peaks\"], x[\"peaks\"], transform=np.sqrt, remove_mz=x[\"Metabolite\"].get_theoretical_precursor_mz()), axis=1)\n",
    "\n",
    "df_val = construct_explained_peaks(df_val, DEFAULT_DALTON)\n",
    "df_val[\"explained_sqrt_cosine\"] = df_val.apply(lambda x: spectral_cosine(x[\"explained_peaks\"], x[\"peaks\"], transform=np.sqrt), axis=1)\n",
    "df_val[\"explained_sqrt_cosine_wo_prec\"] = df_val.apply(lambda x: spectral_cosine(x[\"explained_peaks\"], x[\"peaks\"], transform=np.sqrt, remove_mz=x[\"Metabolite\"].get_theoretical_precursor_mz()), axis=1)\n",
    "\n",
    "df_cas16 = construct_explained_peaks(df_cas16, DEFAULT_DALTON)\n",
    "df_cas16[\"explained_sqrt_cosine\"] = df_cas16.apply(lambda x: spectral_cosine(x[\"explained_peaks\"], x[\"peaks\"], transform=np.sqrt), axis=1)\n",
    "df_cas16[\"explained_sqrt_cosine_wo_prec\"] = df_cas16.apply(lambda x: spectral_cosine(x[\"explained_peaks\"], x[\"peaks\"], transform=np.sqrt, remove_mz=x[\"Metabolite\"].get_theoretical_precursor_mz()), axis=1)\n"
   ]
  },
  {
   "cell_type": "code",
   "execution_count": 28,
   "metadata": {},
   "outputs": [
    {
     "data": {
      "text/html": [
       "<div>\n",
       "<style scoped>\n",
       "    .dataframe tbody tr th:only-of-type {\n",
       "        vertical-align: middle;\n",
       "    }\n",
       "\n",
       "    .dataframe tbody tr th {\n",
       "        vertical-align: top;\n",
       "    }\n",
       "\n",
       "    .dataframe thead th {\n",
       "        text-align: right;\n",
       "    }\n",
       "</style>\n",
       "<table border=\"1\" class=\"dataframe\">\n",
       "  <thead>\n",
       "    <tr style=\"text-align: right;\">\n",
       "      <th></th>\n",
       "      <th>dataset</th>\n",
       "      <th>spectral_sqrt_cosine</th>\n",
       "      <th>explained_sqrt_cosine</th>\n",
       "      <th>spectral_sqrt_cosine_wo_prec</th>\n",
       "      <th>explained_sqrt_cosine_wo_prec</th>\n",
       "    </tr>\n",
       "  </thead>\n",
       "  <tbody>\n",
       "    <tr>\n",
       "      <th>0</th>\n",
       "      <td>Validation</td>\n",
       "      <td>0.839781</td>\n",
       "      <td>0.950222</td>\n",
       "      <td>0.813628</td>\n",
       "      <td>0.929756</td>\n",
       "    </tr>\n",
       "    <tr>\n",
       "      <th>1</th>\n",
       "      <td>Test</td>\n",
       "      <td>0.802233</td>\n",
       "      <td>0.951882</td>\n",
       "      <td>0.773656</td>\n",
       "      <td>0.932212</td>\n",
       "    </tr>\n",
       "    <tr>\n",
       "      <th>2</th>\n",
       "      <td>CASMI-16</td>\n",
       "      <td>0.682361</td>\n",
       "      <td>0.899392</td>\n",
       "      <td>0.495644</td>\n",
       "      <td>0.731709</td>\n",
       "    </tr>\n",
       "  </tbody>\n",
       "</table>\n",
       "</div>"
      ],
      "text/plain": [
       "      dataset  spectral_sqrt_cosine  explained_sqrt_cosine  \\\n",
       "0  Validation              0.839781               0.950222   \n",
       "1        Test              0.802233               0.951882   \n",
       "2    CASMI-16              0.682361               0.899392   \n",
       "\n",
       "   spectral_sqrt_cosine_wo_prec  explained_sqrt_cosine_wo_prec  \n",
       "0                      0.813628                       0.929756  \n",
       "1                      0.773656                       0.932212  \n",
       "2                      0.495644                       0.731709  "
      ]
     },
     "execution_count": 28,
     "metadata": {},
     "output_type": "execute_result"
    }
   ],
   "source": [
    "avg_func = np.median\n",
    "\n",
    "# Dataframe with Val, Test, CASMI-16 rows and fiora model median scores w/o precursor\n",
    "df_scores = pd.DataFrame({\n",
    "    \"dataset\": [\"Validation\", \"Test\", \"CASMI-16\"],\n",
    "    \n",
    "    \"spectral_sqrt_cosine\": [\n",
    "        avg_func(df_val[\"spectral_sqrt_cosine\"]),\n",
    "        avg_func(df_test[\"spectral_sqrt_cosine\"]),\n",
    "        avg_func(df_cas16[\"spectral_sqrt_cosine\"].fillna(0))\n",
    "    ],\n",
    "    \"explained_sqrt_cosine\": [\n",
    "        avg_func(df_val[\"explained_sqrt_cosine\"]),\n",
    "        avg_func(df_test[\"explained_sqrt_cosine\"]),\n",
    "        avg_func(df_cas16[\"explained_sqrt_cosine\"].fillna(0))\n",
    "    ],\n",
    "    \"spectral_sqrt_cosine_wo_prec\": [\n",
    "        avg_func(df_val[\"spectral_sqrt_cosine_wo_prec\"]),\n",
    "        avg_func(df_test[\"spectral_sqrt_cosine_wo_prec\"]),\n",
    "        avg_func(df_cas16[\"spectral_sqrt_cosine_wo_prec\"].fillna(0))\n",
    "    ],\n",
    "    \"explained_sqrt_cosine_wo_prec\": [\n",
    "        avg_func(df_val[\"explained_sqrt_cosine_wo_prec\"]),\n",
    "        avg_func(df_test[\"explained_sqrt_cosine_wo_prec\"]),\n",
    "        avg_func(df_cas16[\"explained_sqrt_cosine_wo_prec\"].fillna(0))\n",
    "    ]\n",
    "})\n",
    "\n",
    "df_scores"
   ]
  },
  {
   "cell_type": "code",
   "execution_count": 29,
   "metadata": {},
   "outputs": [
    {
     "data": {
      "image/png": "[encoded data removed]",
      "text/plain": [
       "<Figure size 1200x600 with 2 Axes>"
      ]
     },
     "metadata": {},
     "output_type": "display_data"
    }
   ],
   "source": [
    "import seaborn as sns\n",
    "import matplotlib.pyplot as plt\n",
    "from fiora.visualization.define_colors import set_light_theme\n",
    "set_light_theme()\n",
    "\n",
    "# Define custom colors for the precursor types\n",
    "custom_palette = {\n",
    "    \"[M+H]+\": \"indianred\",  # Nice red tint\n",
    "    \"[M]+\": \"salmon\",    # Nice orange tint\n",
    "    \"[M-H]-\": \"dodgerblue\",  # Nice blue tint\n",
    "    \"[M]-\": \"lightblue\"  # Different blue tint\n",
    "}\n",
    "precursor_types = [\"[M+H]+\", \"[M]+\", \"[M-H]-\", \"[M]-\"]\n",
    "\n",
    "# Create a figure with two subplots\n",
    "fig, axes = plt.subplots(1, 2, figsize=(12, 6), sharey=True)\n",
    "\n",
    "# Left subplot: spectral_sqrt_cosine vs spectral_sqrt_cosine with Precursor_type as hue\n",
    "sns.boxplot(data=df_val, x=\"Precursor_type\", y=\"spectral_sqrt_cosine\", ax=axes[0], palette=custom_palette, hue=\"Precursor_type\", linewidth=2, legend=False, order=precursor_types)\n",
    "axes[0].set_title(\"Spectral Cosine\")\n",
    "axes[0].set_ylabel(\"Cosine Similarity\")\n",
    "axes[0].set_xlabel(\"Precursor Type\")\n",
    "\n",
    "# Add medians above the median line for the left subplot\n",
    "for i, precursor_type in enumerate(precursor_types):\n",
    "    median = df_val[df_val[\"Precursor_type\"] == precursor_type][\"spectral_sqrt_cosine\"].median()\n",
    "    axes[0].text(i, median + 0.01, f\"{median:.2f}\", ha=\"center\", va=\"bottom\", fontsize=11, color=\"black\")\n",
    "\n",
    "# Right subplot: spectral_sqrt_cosine_wo_prec vs spectral_sqrt_cosine_wo_prec with Precursor_type as hue\n",
    "sns.boxplot(data=df_val, x=\"Precursor_type\", y=\"spectral_sqrt_cosine_wo_prec\", ax=axes[1], hue=\"Precursor_type\", palette=custom_palette, linewidth=2, legend=True, order=precursor_types)\n",
    "axes[1].set_title(\"Spectral Cosine (wo Prec)\")\n",
    "axes[1].set_ylabel(\"Cosine Similarity\")\n",
    "axes[1].set_xlabel(\"Precursor Type\")\n",
    "\n",
    "# Add medians above the median line for the right subplot\n",
    "for i, precursor_type in enumerate(precursor_types):\n",
    "    median = df_val[df_val[\"Precursor_type\"] == precursor_type][\"spectral_sqrt_cosine_wo_prec\"].median()\n",
    "    axes[1].text(i, median + 0.01, f\"{median:.2f}\", ha=\"center\", va=\"bottom\", fontsize=11, color=\"black\")\n",
    "\n",
    "# Adjust layout and show the plot\n",
    "plt.tight_layout()\n",
    "plt.show()\n"
   ]
  },
  {
   "cell_type": "code",
   "execution_count": 30,
   "metadata": {},
   "outputs": [
    {
     "data": {
      "image/png": "[encoded data removed]",
      "text/plain": [
       "<Figure size 1200x600 with 2 Axes>"
      ]
     },
     "metadata": {},
     "output_type": "display_data"
    }
   ],
   "source": [
    "\n",
    "fig, axes = plt.subplots(1, 2, figsize=(12, 6), sharey=True)\n",
    "\n",
    "# Left subplot: spectral_sqrt_cosine vs spectral_sqrt_cosine with Precursor_type as hue\n",
    "sns.boxplot(data=df_test, x=\"Precursor_type\", y=\"spectral_sqrt_cosine\", ax=axes[0], palette=custom_palette, hue=\"Precursor_type\", linewidth=2, legend=False, order=precursor_types)\n",
    "axes[0].set_title(\"Spectral Cosine\")\n",
    "axes[0].set_ylabel(\"Cosine Similarity\")\n",
    "axes[0].set_xlabel(\"Precursor Type\")\n",
    "\n",
    "# Add medians above the median line for the left subplot\n",
    "for i, precursor_type in enumerate(precursor_types):\n",
    "    median = df_test[df_test[\"Precursor_type\"] == precursor_type][\"spectral_sqrt_cosine\"].median()\n",
    "    axes[0].text(i, median + 0.01, f\"{median:.2f}\", ha=\"center\", va=\"bottom\", fontsize=11, color=\"black\")\n",
    "\n",
    "# Right subplot: spectral_sqrt_cosine_wo_prec vs spectral_sqrt_cosine_wo_prec with Precursor_type as hue\n",
    "sns.boxplot(data=df_test, x=\"Precursor_type\", y=\"spectral_sqrt_cosine_wo_prec\", ax=axes[1], hue=\"Precursor_type\", palette=custom_palette, linewidth=2, legend=True, order=precursor_types)\n",
    "axes[1].set_title(\"Spectral Cosine (wo Prec)\")\n",
    "axes[1].set_ylabel(\"Cosine Similarity\")\n",
    "axes[1].set_xlabel(\"Precursor Type\")\n",
    "\n",
    "# Add medians above the median line for the right subplot\n",
    "for i, precursor_type in enumerate(precursor_types):\n",
    "    median = df_test[df_test[\"Precursor_type\"] == precursor_type][\"spectral_sqrt_cosine_wo_prec\"].median()\n",
    "    axes[1].text(i, median + 0.01, f\"{median:.2f}\", ha=\"center\", va=\"bottom\", fontsize=11, color=\"black\")\n",
    "\n",
    "# Adjust layout and show the plot\n",
    "plt.tight_layout()\n",
    "plt.show()\n"
   ]
  },
  {
   "cell_type": "code",
   "execution_count": 31,
   "metadata": {},
   "outputs": [
    {
     "data": {
      "image/png": "[encoded data removed]",
      "text/plain": [
       "<Figure size 1200x600 with 2 Axes>"
      ]
     },
     "metadata": {},
     "output_type": "display_data"
    }
   ],
   "source": [
    "\n",
    "fig, axes = plt.subplots(1, 2, figsize=(12, 6), sharey=True)\n",
    "\n",
    "# Left subplot: spectral_sqrt_cosine vs spectral_sqrt_cosine with Precursor_type as hue\n",
    "sns.boxplot(data=df_cas16, x=\"Precursor_type\", y=\"spectral_sqrt_cosine\", ax=axes[0], palette=custom_palette, hue=\"Precursor_type\", linewidth=2, legend=False)\n",
    "axes[0].set_title(\"Spectral Cosine\")\n",
    "axes[0].set_ylabel(\"Cosine Similarity\")\n",
    "axes[0].set_xlabel(\"Precursor Type\")\n",
    "\n",
    "# Add medians above the median line for the left subplot\n",
    "for i, precursor_type in enumerate(df_cas16[\"Precursor_type\"].unique()):\n",
    "    median = df_cas16[df_cas16[\"Precursor_type\"] == precursor_type][\"spectral_sqrt_cosine\"].median()\n",
    "    axes[0].text(i, median + 0.01, f\"{median:.2f}\", ha=\"center\", va=\"bottom\", fontsize=11, color=\"black\")\n",
    "\n",
    "# Right subplot: spectral_sqrt_cosine_wo_prec vs spectral_sqrt_cosine_wo_prec with Precursor_type as hue\n",
    "sns.boxplot(data=df_cas16, x=\"Precursor_type\", y=\"spectral_sqrt_cosine_wo_prec\", ax=axes[1], hue=\"Precursor_type\", palette=custom_palette, linewidth=2, legend=True)\n",
    "axes[1].set_title(\"Spectral Cosine (wo Prec)\")\n",
    "axes[1].set_ylabel(\"Cosine Similarity\")\n",
    "axes[1].set_xlabel(\"Precursor Type\")\n",
    "\n",
    "# Add medians above the median line for the right subplot\n",
    "for i, precursor_type in enumerate(df_cas16[\"Precursor_type\"].unique()):\n",
    "    median = df_cas16[df_cas16[\"Precursor_type\"] == precursor_type][\"spectral_sqrt_cosine_wo_prec\"].median()\n",
    "    axes[1].text(i, median + 0.01, f\"{median:.2f}\", ha=\"center\", va=\"bottom\", fontsize=11, color=\"black\")\n",
    "\n",
    "# Adjust layout and show the plot\n",
    "plt.tight_layout()\n",
    "plt.show()\n"
   ]
  },
  {
   "cell_type": "code",
   "execution_count": 32,
   "metadata": {},
   "outputs": [
    {
     "data": {
      "image/png": "[encoded data removed]",
      "text/plain": [
       "<Figure size 1200x800 with 2 Axes>"
      ]
     },
     "metadata": {},
     "output_type": "display_data"
    }
   ],
   "source": [
    "# Extract exact molecular weight from Metabolite and store it in a new column\n",
    "df_val[\"exact_mol_weight\"] = df_val[\"Metabolite\"].apply(lambda x: x.ExactMolWeight)\n",
    "\n",
    "# Divide the molecular weight into bins of 100 from 100 to 1000\n",
    "bins = list(range(100, 1100, 100))\n",
    "df_val[\"mol_weight_bin\"] = pd.cut(df_val[\"exact_mol_weight\"], bins=bins)\n",
    "\n",
    "# Count the number of entries in each bin\n",
    "bin_counts = df_val[\"mol_weight_bin\"].value_counts(sort=False)\n",
    "\n",
    "# Create the figure and subplots\n",
    "fig, axes = plt.subplots(2, 1, figsize=(12, 8), gridspec_kw={\"height_ratios\": [1, 3]}, sharex=True)\n",
    "\n",
    "# Generate the viridis color palette\n",
    "viridis_palette = sns.color_palette(\"viridis\", len(bin_counts))\n",
    "\n",
    "# Top subplot: Bar plot for counts in each bin\n",
    "sns.barplot(x=bin_counts.index.astype(str), y=bin_counts.values, ax=axes[0], palette=viridis_palette, hue=bin_counts.index.astype(str), legend=False, dodge=False)\n",
    "axes[0].set_title(\"Counts per Molecular Weight Bin\")\n",
    "axes[0].set_ylabel(\"Count\")\n",
    "axes[0].set_xlabel(\"\")\n",
    "axes[0].tick_params(axis=\"x\", rotation=45)\n",
    "\n",
    "# Bottom subplot: Boxplot for spectral sqrt cosine values for each bin\n",
    "sns.boxplot(data=df_val, x=\"mol_weight_bin\", y=\"spectral_sqrt_cosine\", ax=axes[1], palette=\"viridis\", hue=\"mol_weight_bin\", legend=False)\n",
    "axes[1].set_title(\"Spectral Sqrt Cosine vs Molecular Weight\")\n",
    "axes[1].set_ylabel(\"Spectral Sqrt Cosine\")\n",
    "axes[1].set_xlabel(\"Molecular Weight Bin\")\n",
    "axes[1].tick_params(axis=\"x\", rotation=45)\n",
    "\n",
    "# Adjust layout and show the plot\n",
    "plt.tight_layout()\n",
    "plt.show()\n"
   ]
  },
  {
   "cell_type": "code",
   "execution_count": 33,
   "metadata": {},
   "outputs": [],
   "source": [
    "# model = FioraModel.load(checkpoints[\"file\"]).to(dev)\n",
    "# score = \"spectral_sqrt_cosine\"\n",
    "\n",
    "# val_results = test_model(model, df_train[df_train[\"datasplit\"]== \"validation\"], score=score)\n",
    "# test_results = test_model(model, df_test, score=score)\n",
    "# casmi16_results = test_cas16(model, score=score)\n",
    "# casmi16_p = test_cas16(model, df_cas[df_cas[\"Precursor_type\"] == \"[M+H]+\"], score=score)\n",
    "# casmi16_n = test_cas16(model, df_cas[df_cas[\"Precursor_type\"] == \"[M-H]-\"], score=score)\n",
    "# casmi22_results = test_model(model, df_cas22, score=score)\n",
    "# casmi22_p = test_model(model, df_cas22[df_cas22[\"Precursor_type\"] == \"[M+H]+\"], score=score)\n",
    "# casmi22_n = test_model(model, df_cas22[df_cas22[\"Precursor_type\"] == \"[M-H]-\"], score=score)\n",
    "    \n",
    "# results = [{\"model\": model, \"validation\": val_results, \"test\": test_results, \"casmi16\": casmi16_results, \"casmi22\": casmi22_results, \"casmi16+\": casmi16_p, \"casmi16-\": casmi16_n, \"casmi22+\": casmi22_p, \"casmi22-\": casmi22_n}]"
   ]
  },
  {
   "cell_type": "code",
   "execution_count": 34,
   "metadata": {},
   "outputs": [],
   "source": [
    "# score = \"spectral_sqrt_cosine_wo_prec\"\n",
    "# val_results = test_model(model, df_train[df_train[\"datasplit\"]== \"validation\"], score=score)\n",
    "# test_results = test_model(model, df_test, score=score)\n",
    "# casmi16_results = test_cas16(model, score=score)\n",
    "# casmi16_p = test_cas16(model, df_cas[df_cas[\"Precursor_type\"] == \"[M+H]+\"], score=score)\n",
    "# casmi16_n = test_cas16(model, df_cas[df_cas[\"Precursor_type\"] == \"[M-H]-\"], score=score)\n",
    "# casmi22_results = test_model(model, df_cas22, score=score)\n",
    "# casmi22_p = test_model(model, df_cas22[df_cas22[\"Precursor_type\"] == \"[M+H]+\"], score=score)\n",
    "# casmi22_n = test_model(model, df_cas22[df_cas22[\"Precursor_type\"] == \"[M-H]-\"], score=score)\n",
    "    \n",
    "# results_wop = [{\"model\": model, \"validation\": val_results, \"test\": test_results, \"casmi16\": casmi16_results, \"casmi22\": casmi22_results, \"casmi16+\": casmi16_p, \"casmi16-\": casmi16_n, \"casmi22+\": casmi22_p, \"casmi22-\": casmi22_n}]"
   ]
  },
  {
   "cell_type": "code",
   "execution_count": 35,
   "metadata": {},
   "outputs": [],
   "source": [
    "# LOG = pd.DataFrame(results)\n",
    "# eval_columns = LOG.columns[1:].fillna(0.0)\n",
    "# LOG[eval_columns] = LOG[eval_columns].apply(lambda x: x.apply(np.median))\n",
    "\n",
    "# LOG"
   ]
  },
  {
   "cell_type": "code",
   "execution_count": 36,
   "metadata": {},
   "outputs": [],
   "source": [
    "# LOG = pd.DataFrame(results_wop).fillna(0.0)\n",
    "# eval_columns = LOG.columns[1:]\n",
    "# LOG[eval_columns] = LOG[eval_columns].apply(lambda x: x.apply(np.nan_to_num).apply(np.median))\n",
    "\n",
    "# LOG"
   ]
  },
  {
   "cell_type": "code",
   "execution_count": 37,
   "metadata": {},
   "outputs": [],
   "source": [
    "# LOG = pd.DataFrame(results)\n",
    "# eval_columns = LOG.columns[3:]\n",
    "\n",
    "# home_path = f\"{home}/data/metabolites/benchmarking/\"\n",
    "# NAME = model_params[\"gnn_type\"] + \"_depth.csv\"\n",
    "# for col in eval_columns:\n",
    "#     LOG[col] = LOG[col].apply(lambda x: str(list(x)))\n",
    "# LOG.to_csv(home_path + NAME, index=False, sep=\"\\t\")"
   ]
  },
  {
   "cell_type": "code",
   "execution_count": 38,
   "metadata": {},
   "outputs": [],
   "source": [
    "# LOGIC = pd.read_csv(home_path + NAME, sep=\"\\t\")\n",
    "# for col in eval_columns:\n",
    "#     LOGIC[col] = LOGIC[col].apply(lambda x: ast.literal_eval(x.replace('nan', 'None')))\n",
    "\n",
    "# LOGIC[eval_columns] = LOGIC[eval_columns].apply(lambda x: x.apply(np.median))\n",
    "# LOGIC"
   ]
  },
  {
   "cell_type": "code",
   "execution_count": 39,
   "metadata": {},
   "outputs": [
    {
     "ename": "KeyboardInterrupt",
     "evalue": "Halt! Make sure you wish to save/overwrite model files",
     "output_type": "error",
     "traceback": [
      "\u001b[0;31m---------------------------------------------------------------------------\u001b[0m",
      "\u001b[0;31mKeyboardInterrupt\u001b[0m                         Traceback (most recent call last)",
      "Cell \u001b[0;32mIn[39], line 1\u001b[0m\n\u001b[0;32m----> 1\u001b[0m \u001b[38;5;28;01mraise\u001b[39;00m \u001b[38;5;167;01mKeyboardInterrupt\u001b[39;00m(\u001b[38;5;124m\"\u001b[39m\u001b[38;5;124mHalt! Make sure you wish to save/overwrite model files\u001b[39m\u001b[38;5;124m\"\u001b[39m)\n",
      "\u001b[0;31mKeyboardInterrupt\u001b[0m: Halt! Make sure you wish to save/overwrite model files"
     ]
    }
   ],
   "source": [
    "raise KeyboardInterrupt(\"Halt! Make sure you wish to save/overwrite model files\")"
   ]
  },
  {
   "cell_type": "code",
   "execution_count": null,
   "metadata": {},
   "outputs": [],
   "source": []
  },
  {
   "cell_type": "code",
   "execution_count": null,
   "metadata": {},
   "outputs": [
    {
     "name": "stdout",
     "output_type": "stream",
     "text": [
      "Saved to /home/ynowatzk/data/metabolites/pretrained_models/v1.0.0_OS_depth12_July25.pt\n"
     ]
    }
   ],
   "source": [
    "depth = model_params[\"depth\"]\n",
    "MODEL_PATH = f\"{home}/data/metabolites/pretrained_models/v1.0.0_OS_depth{depth}_July25.pt\"\n",
    "model.save(MODEL_PATH)\n",
    "print(f\"Saved to {MODEL_PATH}\")"
   ]
  },
  {
   "cell_type": "code",
   "execution_count": null,
   "metadata": {},
   "outputs": [],
   "source": []
  },
  {
   "cell_type": "code",
   "execution_count": null,
   "metadata": {},
   "outputs": [
    {
     "ename": "KeyboardInterrupt",
     "evalue": "",
     "output_type": "error",
     "traceback": [
      "\u001b[0;31m---------------------------------------------------------------------------\u001b[0m",
      "\u001b[0;31mKeyboardInterrupt\u001b[0m                         Traceback (most recent call last)",
      "Cell \u001b[0;32mIn[21], line 1\u001b[0m\n\u001b[0;32m----> 1\u001b[0m \u001b[39mraise\u001b[39;00m \u001b[39mKeyboardInterrupt\u001b[39;00m()\n",
      "\u001b[0;31mKeyboardInterrupt\u001b[0m: "
     ]
    }
   ],
   "source": [
    "raise KeyboardInterrupt()"
   ]
  },
  {
   "cell_type": "code",
   "execution_count": null,
   "metadata": {},
   "outputs": [],
   "source": [
    "from fiora.GNN.GNNModules import GNNCompiler"
   ]
  },
  {
   "cell_type": "code",
   "execution_count": null,
   "metadata": {},
   "outputs": [
    {
     "data": {
      "text/plain": [
       "Data(x=[32, 3], edge_index=[2, 72], edge_attr=[72, 2], y=[72, 1], edge_type=[72], static_graph_features=[1, 8], static_edge_features=[72, 8], static_rt_features=[1, 7], compiled_probs=[74], compiled_probs2=[146], compiled_probs6=[434], compiled_probsALL=[722], compiled_probsSQRT=[722], compiled_probsDEPRE=[722], compiled_probs_wo_prec=[722], compiled_counts=[74], edge_break_count=[72, 1], retention_time=[1, 1], retention_mask=[1, 1], ccs=[1, 1], ccs_mask=[1, 1], validation_mask=[72, 1], compiled_validation_mask=[74], compiled_validation_mask2=[146], compiled_validation_mask6=[434], compiled_validation_maskALL=[722], group_id=11, weight=[1, 1], weight_tensor=[722], is_node_aromatic=[32, 1], is_edge_aromatic=[72, 1])"
      ]
     },
     "execution_count": 36,
     "metadata": {},
     "output_type": "execute_result"
    }
   ],
   "source": [
    "df_test[\"Metabolite\"].iloc[0].as_geometric_data()"
   ]
  },
  {
   "cell_type": "code",
   "execution_count": null,
   "metadata": {},
   "outputs": [],
   "source": [
    "dev=\"cuda:0\"\n",
    "mymy = GNNCompiler.load(MODEL_PATH) # f\"{home}/data/metabolites/pretrained_models/v0.0.1_merged_2.pt\"\n",
    "#mymy.load_state_dict(torch.load(f\"{home}/data/metabolites/pretrained_models/test.pt\"))\n",
    "mymy.eval()\n",
    "mymy = mymy.to(dev)\n"
   ]
  },
  {
   "cell_type": "code",
   "execution_count": null,
   "metadata": {},
   "outputs": [
    {
     "data": {
      "text/plain": [
       "0.6777992132153692"
      ]
     },
     "execution_count": 34,
     "metadata": {},
     "output_type": "execute_result"
    }
   ],
   "source": [
    "np.median(test_model(mymy, df_test))"
   ]
  },
  {
   "cell_type": "code",
   "execution_count": null,
   "metadata": {},
   "outputs": [
    {
     "data": {
      "text/plain": [
       "0.2357750642225984"
      ]
     },
     "execution_count": 40,
     "metadata": {},
     "output_type": "execute_result"
    }
   ],
   "source": [
    "np.median(test_model(mymy, df_cas22))"
   ]
  },
  {
   "cell_type": "code",
   "execution_count": null,
   "metadata": {},
   "outputs": [],
   "source": [
    "import json\n",
    "with open(MODEL_PATH.replace(\".pt\", \"_params.json\"), 'r') as fp:\n",
    "    p = json.load(fp)\n",
    "hh = GNNCompiler(p)\n",
    "hh.load_state_dict(torch.load(MODEL_PATH.replace(\".pt\", \"_state.pt\")))\n",
    "hh.eval()\n",
    "hh = hh.to(dev)"
   ]
  },
  {
   "cell_type": "code",
   "execution_count": null,
   "metadata": {},
   "outputs": [
    {
     "data": {
      "text/plain": [
       "0.2357750642225984"
      ]
     },
     "execution_count": 43,
     "metadata": {},
     "output_type": "execute_result"
    }
   ],
   "source": [
    "np.median(test_model(hh, df_cas22))"
   ]
  },
  {
   "cell_type": "code",
   "execution_count": null,
   "metadata": {},
   "outputs": [
    {
     "ename": "KeyboardInterrupt",
     "evalue": "TODO",
     "output_type": "error",
     "traceback": [
      "\u001b[0;31m---------------------------------------------------------------------------\u001b[0m",
      "\u001b[0;31mKeyboardInterrupt\u001b[0m                         Traceback (most recent call last)",
      "\u001b[1;32m/home/ynowatzk/repos/metabolites/notebooks/train_model.ipynb Cell 33\u001b[0m in \u001b[0;36m<cell line: 1>\u001b[0;34m()\u001b[0m\n\u001b[0;32m----> <a href='vscode-notebook-cell://ssh-remote%2Bsv2111/home/ynowatzk/repos/metabolites/notebooks/train_model.ipynb#X51sdnNjb2RlLXJlbW90ZQ%3D%3D?line=0'>1</a>\u001b[0m \u001b[39mraise\u001b[39;00m \u001b[39mKeyboardInterrupt\u001b[39;00m(\u001b[39m\"\u001b[39m\u001b[39mTODO\u001b[39m\u001b[39m\"\u001b[39m)\n",
      "\u001b[0;31mKeyboardInterrupt\u001b[0m: TODO"
     ]
    }
   ],
   "source": [
    "raise KeyboardInterrupt(\"TODO\")"
   ]
  },
  {
   "cell_type": "code",
   "execution_count": null,
   "metadata": {},
   "outputs": [
    {
     "name": "stdout",
     "output_type": "stream",
     "text": [
      "       group_id                                             SMILES  \\\n",
      "91358       695  CCCCCCCCCCCCCCCC(=O)OC[C@@H](O)COP(=O)([O-])OC...   \n",
      "91888      1028  CN1c2c([nH]c(N)nc2=O)NCC1CNc1ccc(C(=O)N[C@@H](...   \n",
      "91898      1030  CC(C)C[C@@H](N)[C@H](O)C(=O)N[C@H](C(=O)N[C@H]...   \n",
      "92031      8617        CCCCC[C@H](O)/C=C/C=C\\C/C=C\\C/C=C\\CCCC(=O)O   \n",
      "92174      1061                    CC(=O)N[C@@H](CCCNC(=N)N)C(=O)O   \n",
      "\n",
      "      Precursor_type  \n",
      "91358         [M-H]-  \n",
      "91888         [M-H]-  \n",
      "91898         [M-H]-  \n",
      "92031         [M-H]-  \n",
      "92174         [M-H]-  \n"
     ]
    }
   ],
   "source": [
    "## prepare output for for CFM-ID\n",
    "import os\n",
    "save_df = False\n",
    "cfm_directory = f\"{home}/data/metabolites/cfm-id/\"\n",
    "name = \"test_split_negative_solutions_cfm.txt\"\n",
    "df_cfm = df_test[[\"group_id\", \"SMILES\", \"Precursor_type\"]]\n",
    "df_n = df_cfm[df_cfm[\"Precursor_type\"] == \"[M-H]-\"].drop_duplicates(subset='group_id', keep='first')\n",
    "df_p = df_cfm[df_cfm[\"Precursor_type\"] == \"[M+H]+\"].drop_duplicates(subset='group_id', keep='first')\n",
    "\n",
    "print(df_n.head())\n",
    "\n",
    "if save_df:\n",
    "    file = os.path.join(cfm_directory, name)\n",
    "    df_n[[\"group_id\", \"SMILES\"]].to_csv(file, index=False, header=False, sep=\" \")\n",
    "    \n",
    "    name = name.replace(\"negative\", \"positive\")\n",
    "    file = os.path.join(cfm_directory, name)\n",
    "    df_p[[\"group_id\", \"SMILES\"]].to_csv(file, index=False, header=False, sep=\" \")"
   ]
  }
 ],
 "metadata": {
  "kernelspec": {
   "display_name": "Python 3 (ipykernel)",
   "language": "python",
   "name": "python3"
  },
  "language_info": {
   "codemirror_mode": {
    "name": "ipython",
    "version": 3
   },
   "file_extension": ".py",
   "mimetype": "text/x-python",
   "name": "python",
   "nbconvert_exporter": "python",
   "pygments_lexer": "ipython3",
   "version": "3.10.8"
  },
  "orig_nbformat": 4
 },
 "nbformat": 4,
 "nbformat_minor": 2
}
