{
 "cells": [
  {
   "cell_type": "code",
   "execution_count": 3,
   "metadata": {
    "pycharm": {
     "name": "#%%\n"
    },
    "scrolled": false
   },
   "outputs": [
    {
     "name": "stdout",
     "output_type": "stream",
     "text": [
      "Working with Python 3.10.8 | packaged by conda-forge | (main, Nov 22 2022, 08:26:04) [GCC 10.4.0]\n"
     ]
    },
    {
     "data": {
      "image/png": "[encoded data removed]",
      "text/plain": [
       "<rdkit.Chem.rdchem.Mol at 0x7fe0b5d32e30>"
      ]
     },
     "execution_count": 3,
     "metadata": {},
     "output_type": "execute_result"
    }
   ],
   "source": [
    "import sys\n",
    "print(f'Working with Python {sys.version}')\n",
    "\n",
    "import numpy as np\n",
    "import pandas as pd\n",
    "import importlib\n",
    "#import swifter\n",
    "import matplotlib.pyplot as plt\n",
    "import seaborn as sns\n",
    "import collections\n",
    "import time\n",
    "import os\n",
    "from rdkit import Chem\n",
    "from rdkit.Chem import AllChem\n",
    "from rdkit.Chem import Draw\n",
    "import rdkit.Chem.Descriptors as Descriptors\n",
    "from rdkit.Chem import PandasTools\n",
    "#!pip install spektral\n",
    "\n",
    "\n",
    "# Deep Learning\n",
    "import sklearn\n",
    "#import spektral\n",
    "from sklearn.model_selection import train_test_split\n",
    "# Keras\n",
    "from sklearn.model_selection import train_test_split\n",
    "#import stellargraph as sg\n",
    "from rdkit import RDLogger\n",
    "\n",
    "\n",
    "#\n",
    "# Load Modules\n",
    "sys.path.append(\"..\")\n",
    "from os.path import expanduser\n",
    "home = expanduser(\"~\")\n",
    "import fiora.IO.mspReader as mspReader\n",
    "import fiora.visualization.spectrum_visualizer as sv\n",
    "import fiora.IO.molReader as molReader\n",
    "\n",
    "\n",
    "RDLogger.DisableLog('rdApp.*')\n",
    "\n",
    "\n",
    "caffeine_smiles = 'CN1C=NC2=C1C(=O)N(C(=O)N2C)C'\n",
    "caffeine_mol = Chem.MolFromSmiles(caffeine_smiles)\n",
    "\n",
    "caffeine_mol"
   ]
  },
  {
   "cell_type": "code",
   "execution_count": null,
   "metadata": {},
   "outputs": [],
   "source": [
    "library_name = \"nist_msms\"\n",
    "library_directory = f\"{home}/data/metabolites/NIST17/msp/nist_msms/\"\n",
    "!ls $library_directory"
   ]
  },
  {
   "attachments": {},
   "cell_type": "markdown",
   "metadata": {
    "pycharm": {
     "name": "#%% md\n"
    }
   },
   "source": [
    "## Spectral Library\n",
    "### Library loading process\n",
    "Load NIST17 (*nist_msms.msp*)"
   ]
  },
  {
   "cell_type": "code",
   "execution_count": 5,
   "metadata": {
    "pycharm": {
     "name": "#%%\n"
    }
   },
   "outputs": [
    {
     "name": "stdout",
     "output_type": "stream",
     "text": [
      "Spectral file loaded with 574826 entries and 29 variables\n"
     ]
    }
   ],
   "source": [
    "nist_msp = mspReader.read(library_directory + library_name + '.MSP')\n",
    "df_nist = pd.DataFrame(nist_msp)\n",
    "\n",
    "#df_nist['mol'] = df_nist['SMILES'].apply(Chem.MolFromSmiles)\n",
    "#df_nist.dropna(inplace=True)\n",
    "print(f\"Spectral file loaded with {df_nist.shape[0]} entries and {df_nist.shape[1]} variables\")\n"
   ]
  },
  {
   "cell_type": "code",
   "execution_count": null,
   "metadata": {
    "pycharm": {
     "name": "#%%\n"
    }
   },
   "outputs": [],
   "source": [
    "# Example\n",
    "EXAMPLE_ID = 32271\n",
    "x = df_nist.loc[EXAMPLE_ID]\n",
    "print(x)"
   ]
  },
  {
   "attachments": {},
   "cell_type": "markdown",
   "metadata": {
    "pycharm": {
     "name": "#%% md\n"
    }
   },
   "source": [
    "### Library filtering process\n",
    "Plot statistics and define filters for target spectra"
   ]
  },
  {
   "cell_type": "code",
   "execution_count": 8,
   "metadata": {},
   "outputs": [],
   "source": [
    "# Define figure styles\n",
    "color_palette = sns.color_palette(\"magma_r\", 8)\n",
    "sns.set_theme(style=\"whitegrid\",\n",
    "                  rc={'axes.edgecolor': 'black', 'ytick.left': True, 'xtick.bottom': True, 'xtick.color': 'black',\n",
    "                      \"axes.spines.bottom\": True, \"axes.spines.right\": True, \"axes.spines.top\": True,\n",
    "                      \"axes.spines.left\": True})\n"
   ]
  },
  {
   "cell_type": "code",
   "execution_count": null,
   "metadata": {},
   "outputs": [],
   "source": [
    "\n",
    "\n",
    "fig, axs = plt.subplots(1, 2, figsize=(12.8, 6.4), gridspec_kw={'width_ratios': [1, 2]}, sharey=True)\n",
    "fig.set_tight_layout(False)\n",
    "for ax in axs:\n",
    "    ax.tick_params('x', labelrotation=45)\n",
    "\n",
    "sns.countplot(ax=axs[0], data=df_nist, x='Spectrum_type', edgecolor=\"black\", palette=color_palette)\n",
    "sns.countplot(ax=axs[1], data=df_nist, x='Precursor_type', edgecolor=\"black\", palette=color_palette, order=df_nist['Precursor_type'].value_counts().iloc[:8].index)\n",
    "axs[0].set_ylim(0, 500000)\n",
    "axs[1].set_ylabel(\"\")\n",
    "\n",
    "plt.show()\n"
   ]
  },
  {
   "cell_type": "code",
   "execution_count": null,
   "metadata": {},
   "outputs": [],
   "source": [
    "# Filters\n",
    "df_nist = df_nist[df_nist[\"Spectrum_type\"] == \"MS2\"]\n",
    "target_precursor_type = [\"[M+H]+\", \"[M-H]-\", \"[M+H-H2O]+\", \"[M+Na]+\"]\n",
    "df_nist = df_nist[df_nist[\"Precursor_type\"].apply(lambda ptype: ptype in target_precursor_type)]\n",
    "\n",
    "# Formats\n",
    "df_nist['PrecursorMZ'] = df_nist[\"PrecursorMZ\"].astype('float')\n",
    "df_nist['Num peaks'] = df_nist[\"Num peaks\"].astype('int')\n",
    "\n",
    "\n",
    "print(f\"Spectral file filtered down to {df_nist.shape[0]} entries\")"
   ]
  },
  {
   "cell_type": "code",
   "execution_count": null,
   "metadata": {},
   "outputs": [],
   "source": [
    "fig, axs = plt.subplots(1, 2, figsize=(12.8, 6.4), gridspec_kw={'width_ratios': [1, 2]}, sharey=False)\n",
    "for ax in axs:\n",
    "    ax.tick_params('x', labelrotation=45)\n",
    "\n",
    "sns.boxplot(ax=axs[0], data=df_nist, y='PrecursorMZ', palette=color_palette, x=\"Precursor_type\")\n",
    "sns.histplot(ax=axs[1], data=df_nist, x='Num peaks', color=color_palette[7], fill=True, edgecolor=\"black\")#, order=list(range(0,200)))\n",
    "plt.rcParams[\"patch.force_edgecolor\"] = True\n",
    "plt.rcParams['axes.edgecolor'] = 'black'\n",
    "axs[1].set_ylabel(\"\")\n",
    "axs[1].set_xlim([0, 100])\n",
    "axs[1].axvline(x=50, color=\"red\", linestyle=\"-.\")\n",
    "\n",
    "plt.show()"
   ]
  },
  {
   "cell_type": "code",
   "execution_count": null,
   "metadata": {},
   "outputs": [],
   "source": [
    "# associate MOL structures with MS2 spectra\n",
    "\n",
    "file = library_directory + library_name + \".MOL/\" + \"S\" + x[\"CASNO\"] + \".MOL\"\n",
    "x_mol = molReader.load_MOL(file)\n",
    "x_mol\n",
    "\n",
    "fig, axs = plt.subplots(1, 2, figsize=(12.8, 6.4), gridspec_kw={'width_ratios': [1, 3]}, sharey=False)\n",
    "\n",
    "img = Chem.Draw.MolToImage(x_mol, ax=axs[0])\n",
    "\n",
    "axs[0].grid(False)\n",
    "axs[0].tick_params(axis='both', bottom=False, labelbottom=False, left=False, labelleft=False)\n",
    "axs[0].set_title(x[\"Name\"]+ \" structure:\\n\" + Chem.MolToSmiles(x_mol))\n",
    "axs[0].imshow(img)\n",
    "axs[0].axis(\"off\")\n",
    "sv.plot_spectrum(title=x[\"Name\"] + \" MS/MS spectrum\", spectrum=x, ax=axs[1])\n"
   ]
  },
  {
   "cell_type": "code",
   "execution_count": null,
   "metadata": {
    "scrolled": true
   },
   "outputs": [],
   "source": [
    "\n",
    "#print(df_nist.loc[1474])\n",
    "\n",
    "print(\"Reading structure information in MOL format from library files (this may take a while)\")\n",
    "def fetch_mol(data):\n",
    "    file = library_directory + library_name + \".MOL/\" + \"S\" + str(data[\"CASNO\"]) + \".MOL\"\n",
    "    if not os.path.exists(file):\n",
    "        file = library_directory + library_name + \".MOL/\" + \"ID\" + str(data[\"ID\"]) + \".MOL\"\n",
    "    return molReader.load_MOL(file)\n",
    "\n",
    "df_nist= df_nist[~df_nist[\"InChIKey\"].isnull()] # Drop all without key (Not neccessarily neccesary)\n",
    "df_nist[\"MOL\"] = df_nist.apply(fetch_mol, axis=1)\n",
    "print(f\"Successfully interpreted {sum(df_nist['MOL'].notna())} from {df_nist.shape[0]} entries. Dropping the rest.\")\n",
    "\n",
    "df_nist = df_nist[df_nist['MOL'].notna()]\n",
    "df_nist[\"SMILES\"] = df_nist[\"MOL\"].apply(Chem.MolToSmiles)\n",
    "df_nist[\"InChI\"] = df_nist[\"MOL\"].apply(Chem.MolToInchi)\n",
    "df_nist[\"K\"] = df_nist[\"MOL\"].apply(Chem.MolToInchiKey)\n",
    "df_nist[\"ExactMolWeight\"] = df_nist[\"MOL\"].apply(Chem.Descriptors.ExactMolWt)\n"
   ]
  },
  {
   "cell_type": "code",
   "execution_count": null,
   "metadata": {},
   "outputs": [],
   "source": [
    "print(df_nist[df_nist[\"Name\"] == example_entry].iloc[0])\n",
    "print(len(df_nist[\"MOL\"].unique()))\n",
    "\n",
    "\n",
    "df_nist.shape\n",
    "df_nist[\"SMILES\"].isnull().any()\n",
    "\n",
    "df_nist[df_nist[\"Name\"] == example_entry].iloc[0][\"SMILES\"]"
   ]
  },
  {
   "cell_type": "code",
   "execution_count": null,
   "metadata": {},
   "outputs": [],
   "source": [
    "correct_keys = df_nist.apply(lambda x: x[\"InChIKey\"] == x[\"K\"], axis=1)\n",
    "s = \"confirmed!\" if correct_keys.all() else \"not confirmed !! Attention!\"\n",
    "print(f\"Confirming whether computed and provided InChI-Keys are correct. Result: {s} ({correct_keys.sum()/len(correct_keys):0.2f} correct)\")\n",
    "half_keys = df_nist.apply(lambda x: x[\"InChIKey\"].split('-')[0] == x[\"K\"].split('-')[0], axis=1)\n",
    "s = \"confirmed!\" if half_keys.all() else \"not confirmed !! Attention!\"\n",
    "print(f\"Checking if main layer InChI-Keys are correct. Result: {s} ({half_keys.sum()/len(half_keys):0.3f} correct)\")\n",
    "\n",
    "print(\"Dropping all other.\")\n",
    "df_nist[\"matching_key\"] = df_nist.apply(lambda x: x[\"InChIKey\"] == x[\"K\"], axis=1)\n",
    "df_nist = df_nist[df_nist[\"matching_key\"]]\n",
    "\n",
    "print(f\"Shape: {df_nist.shape}\")"
   ]
  },
  {
   "cell_type": "code",
   "execution_count": 16,
   "metadata": {},
   "outputs": [],
   "source": [
    "df_nist[\"ExactMolWeight\"] = df_nist[\"MOL\"].apply(Chem.Descriptors.ExactMolWt)"
   ]
  },
  {
   "cell_type": "code",
   "execution_count": 17,
   "metadata": {},
   "outputs": [],
   "source": [
    "df_unfiltered = df_nist.copy(deep=True)"
   ]
  },
  {
   "attachments": {},
   "cell_type": "markdown",
   "metadata": {},
   "source": [
    "### Filtering\n",
    "Introduce harsh filters to produce a high quality sample."
   ]
  },
  {
   "cell_type": "code",
   "execution_count": null,
   "metadata": {},
   "outputs": [],
   "source": [
    "MIN_PEAKS = 2\n",
    "MAX_PEAKS = 30\n",
    "PRECURSOR_TYPES = [\"[M+H]+\"]\n",
    "from modules.MOL.constants import ADDUCT_WEIGHTS\n",
    "\n",
    "\n",
    "\n",
    "df_nist = df_nist[df_nist[\"Num peaks\"] > MIN_PEAKS]\n",
    "df_nist = df_nist[df_nist[\"Num peaks\"] < MAX_PEAKS] #TODO WHY MAX CUTOFF: REMOVE!!\n",
    "df_nist[\"theoretical_precursor_mz\"] = df_nist[\"ExactMolWeight\"] + df_nist[\"Precursor_type\"].map(ADDUCT_WEIGHTS)\n",
    "df_nist = df_nist[df_nist[\"Precursor_type\"].apply(lambda ptype: ptype in PRECURSOR_TYPES)]\n",
    "df_nist[\"precursor_offset\"] = df_nist[\"PrecursorMZ\"] - df_nist[\"theoretical_precursor_mz\"]\n",
    "\n",
    "print(f\"Shape {df_nist.shape}\")"
   ]
  },
  {
   "cell_type": "code",
   "execution_count": null,
   "metadata": {},
   "outputs": [],
   "source": [
    "fig, axs = plt.subplots(1, 2, figsize=(12.8, 6.4), gridspec_kw={'width_ratios': [1, 1.5]}, sharey=False)\n",
    "for ax in axs:\n",
    "    ax.tick_params('x', labelrotation=45)\n",
    "\n",
    "sns.scatterplot(ax=axs[0], data=df_nist,x=\"precursor_offset\", y='PrecursorMZ', palette=color_palette)\n",
    "sns.histplot(ax=axs[1], data=df_nist, x='precursor_offset', color=color_palette[7], fill=True, edgecolor=\"black\")#, order=list(range(0,200)))\n",
    "plt.rcParams[\"patch.force_edgecolor\"] = True\n",
    "plt.rcParams['axes.edgecolor'] = 'black'\n",
    "axs[1].set_ylabel(\"\")\n",
    "#axs[1].set_xlim([0, 100])\n",
    "#axs[1].axvline(x=50, color=\"red\", linestyle=\"-.\")\n",
    "\n",
    "plt.show()"
   ]
  },
  {
   "attachments": {},
   "cell_type": "markdown",
   "metadata": {},
   "source": [
    "#### Align and filter Collision Energy\n",
    "\n",
    "443 unqiue CE\n",
    "Q: How to align different CE, INT, INTeV, %, ..."
   ]
  },
  {
   "cell_type": "code",
   "execution_count": 25,
   "metadata": {},
   "outputs": [
    {
     "data": {
      "text/plain": [
       "Index(['Name', 'Synon', 'Notes', 'Precursor_type', 'Spectrum_type',\n",
       "       'PrecursorMZ', 'Instrument_type', 'Instrument', 'Sample_inlet',\n",
       "       'Ionization', 'Collision_energy', 'Ion_mode', 'Special_fragmentation',\n",
       "       'InChIKey', 'Formula', 'MW', 'ExactMass', 'CASNO', 'NISTNO', 'ID',\n",
       "       'Comment', 'Num peaks', 'peaks', 'Link', 'Related_CAS#',\n",
       "       'Collision_gas', 'Pressure', 'In-source_voltage', 'msN_pathway', 'MOL',\n",
       "       'SMILES', 'InChI', 'K', 'ExactMolWeight', 'matching_key',\n",
       "       'theoretical_precursor_mz', 'precursor_offset'],\n",
       "      dtype='object')"
      ]
     },
     "execution_count": 25,
     "metadata": {},
     "output_type": "execute_result"
    }
   ],
   "source": [
    "df_nist.columns"
   ]
  },
  {
   "cell_type": "code",
   "execution_count": null,
   "metadata": {},
   "outputs": [],
   "source": [
    "# TODO Use more Collision energy types. eg. ramps, stepped, resonant...\n",
    "\n",
    "from modules.MOL.collision_energy import align_CE\n",
    "\n",
    "df_nist[\"CE\"] = df_nist.apply(lambda x: align_CE(x[\"Collision_energy\"], x[\"theoretical_precursor_mz\"]), axis=1) #modules.MOL.collision_energy.align_CE) \n",
    "df_nist[\"CE_type\"] = df_nist[\"CE\"].apply(type)\n",
    "df_nist[\"CE_derived_from_NCE\"] = df_nist[\"Collision_energy\"].apply(lambda x: \"%\" in str(x))\n",
    "# df_test = df_nist[df_nist[\"Collision_energy\"].apply(lambda x: \"%\" in str(x))][\"Collision_energy\"]\n",
    "# df_test = df_test.apply(lambda x: x.split('%')[0].strip().split(' ')[-1])\n",
    "# for d in df_test:\n",
    "#     try: \n",
    "#         float(d)\n",
    "#     except:\n",
    "#         print(d)\n",
    "# TODO FIND MORE CE derived from different NCE types\n",
    "\n",
    "print(\"Distinguish CE absolute values (eV - float) and normalized CE (in % - str format)\")\n",
    "print(df_nist[\"CE_type\"].value_counts())\n",
    "\n",
    "print(\"Removing all but absolute values\")\n",
    "df_nist = df_nist[df_nist[\"CE_type\"] == float]\n",
    "df_nist = df_nist[~df_nist[\"CE\"].isnull()]\n",
    "#len(df_nist['CE'].unique())\n",
    "\n",
    "print(f'Detected {len(df_nist[\"CE\"].unique())} unique collision energies in range from {np.min(df_nist[\"CE\"])} to {max(df_nist[\"CE\"])} eV')\n"
   ]
  },
  {
   "cell_type": "code",
   "execution_count": null,
   "metadata": {},
   "outputs": [],
   "source": [
    "df_nist[df_nist[\"Instrument_type\"] ==\"HCD\"][\"Collision_energy\"].value_counts()[:100]"
   ]
  },
  {
   "cell_type": "code",
   "execution_count": null,
   "metadata": {},
   "outputs": [],
   "source": [
    "fig, ax = plt.subplots(1, 1, figsize=(12.8, 6.4))\n",
    "#for ax in axs:\n",
    "#    ax.tick_params('x', labelrotation=45)\n",
    "\n",
    "#sns.scatterplot(ax=axs[0], data=df_nist,x=\"precursor_offset\", y='PrecursorMZ', palette=color_palette)\n",
    "sns.histplot(ax=ax, data=df_nist, x='CE', hue=\"CE_derived_from_NCE\", palette=[color_palette[4], color_palette[2]], multiple=\"stack\", fill=True, binwidth=2, edgecolor=\"black\", binrange=[0, 200])#, order=list(range(0,200)))\n",
    "plt.rcParams[\"patch.force_edgecolor\"] = True\n",
    "plt.rcParams['axes.edgecolor'] = 'black'\n",
    "plt.show()\n",
    "print(f\"{df_nist.shape[0]} spectra remaining with aligned absolute collision energies\")"
   ]
  },
  {
   "attachments": {},
   "cell_type": "markdown",
   "metadata": {},
   "source": [
    "### Matching 1st-order peaks \n",
    "Matching first order peaks to molecule fragments by cutting a single edge. First build an *in silico* fragmentation tree for each molecular structure, but cutting edges in the molecular structure graph. Then, fragments ion masses are compared to peaks in the mass spectrum.\n",
    "#### Graph representation\n",
    "Creating molecular structure graph"
   ]
  },
  {
   "cell_type": "code",
   "execution_count": null,
   "metadata": {},
   "outputs": [],
   "source": [
    "%%capture\n",
    "from modules.MOL.Metabolite import Metabolite\n",
    "from modules.MOL.constants import PPM\n",
    "TOLERANCE = 200 * PPM\n",
    "\n",
    "\n",
    "df_nist[\"Metabolite\"] = df_nist[\"SMILES\"].apply(Metabolite)\n",
    "df_nist[\"Metabolite\"].apply(lambda x: x.create_molecular_structure_graph())\n",
    "df_nist[\"Metabolite\"].apply(lambda x: x.compute_graph_attributes())\n",
    "df_nist[\"Metabolite\"].apply(lambda x: x.fragment_MOL())\n",
    "df_nist.apply(lambda x: x[\"Metabolite\"].match_fragments_to_peaks(x[\"peaks\"][\"mz\"], x[\"peaks\"][\"intensity\"], tolerance=TOLERANCE), axis=1)"
   ]
  },
  {
   "cell_type": "code",
   "execution_count": null,
   "metadata": {},
   "outputs": [],
   "source": [
    "from modules.MOL.mol_graph import draw_graph\n",
    "x = df_nist.loc[EXAMPLE_ID]\n",
    "\n",
    "fig, axs = plt.subplots(1, 2, figsize=(12.8, 6.4), gridspec_kw={'width_ratios': [1, 1]}, sharey=False)\n",
    "\n",
    "img = Chem.Draw.MolToImage(x_mol, ax=axs[0])\n",
    "\n",
    "axs[0].grid(False)\n",
    "axs[0].tick_params(axis='both', bottom=False, labelbottom=False, left=False, labelleft=False)\n",
    "axs[0].set_title(x[\"Name\"]+ \" structure:\\n\" + Chem.MolToSmiles(x_mol))\n",
    "axs[0].imshow(img)\n",
    "axs[0].axis(\"off\")\n",
    "\n",
    "g_img = draw_graph(x[\"Metabolite\"].Graph, ax=axs[1])\n",
    "print(x[\"peaks\"])"
   ]
  },
  {
   "cell_type": "code",
   "execution_count": null,
   "metadata": {},
   "outputs": [],
   "source": [
    "# import modules.IO.fraggraphReader as fraggraphReader\n",
    "# from modules.MS.ms_utility import find_matching_peaks, match_fragment_lists\n",
    "\n",
    "# from modules.MOL.FragmentationTree import FragmentationTree\n",
    "\n",
    "\n",
    "# f = fraggraphReader.parser_fraggraph_gen(library_directory + \"examples/CNCCCN1c2ccccc2CCc2ccccc21_fraggraph.txt\")\n",
    "# x = df_nist.loc[EXAMPLE_ID]\n",
    "\n",
    "# match_fragment_lists(x[\"peaks\"][\"mz\"], f[\"fragments\"][\"mass\"])"
   ]
  },
  {
   "attachments": {},
   "cell_type": "markdown",
   "metadata": {},
   "source": [
    "### Fragmentation Trees\n",
    "Compute fragmentation tree, by single edge breaks of non-ring bonds."
   ]
  },
  {
   "cell_type": "code",
   "execution_count": null,
   "metadata": {},
   "outputs": [],
   "source": [
    "\n",
    "x = df_nist.loc[EXAMPLE_ID]\n",
    "\n",
    "FT = x[\"Metabolite\"].fragmentation_tree\n",
    "#frag.build_fragmentation_tree_by_rotatable_bond_breaks()\n",
    "print(FT)\n",
    "\n",
    "fig, axs = plt.subplots(1, 2, figsize=(12.8, 2), gridspec_kw={'width_ratios': [1, 3]}, sharey=False)\n",
    "\n",
    "img = Chem.Draw.MolToImage(x[\"MOL\"], ax=axs[0])\n",
    "\n",
    "axs[0].grid(False)\n",
    "axs[0].tick_params(axis='both', bottom=False, labelbottom=False, left=False, labelleft=False)\n",
    "axs[0].set_title(x[\"Name\"]+ \" structure:\\n\" + x[\"SMILES\"])\n",
    "axs[0].imshow(img)\n",
    "axs[0].axis(\"off\")\n",
    "sv.plot_spectrum(title=x[\"Name\"] + \" MS/MS spectrum\", spectrum=x, ax=axs[1])\n",
    "\n",
    "print(\"Matching peaks to fragments\")\n",
    "print(x[\"Metabolite\"].peak_matches)\n"
   ]
  },
  {
   "attachments": {},
   "cell_type": "markdown",
   "metadata": {},
   "source": [
    "### Match fragments and peaks"
   ]
  },
  {
   "cell_type": "code",
   "execution_count": null,
   "metadata": {},
   "outputs": [],
   "source": [
    "from modules.MOL.constants import DEFAULT_MODES\n",
    "df_nist[\"peak_matches\"] = df_nist[\"Metabolite\"].apply(lambda x: getattr(x, \"peak_matches\"))\n",
    "df_nist[\"num_peaks_matched\"] = df_nist[\"peak_matches\"].apply(len)\n",
    "\n",
    "def get_match_stats(matches, mode_count={m: 0 for m in DEFAULT_MODES}):\n",
    "    num_unique, num_conflicts = 0, 0\n",
    "    for mz, match_data in matches.items():\n",
    "        #candidates = match_data[\"fragments\"]\n",
    "        ion_modes = match_data[\"ion_modes\"]\n",
    "        if len(ion_modes) == 1:\n",
    "            num_unique += 1\n",
    "        elif len(ion_modes) > 1:\n",
    "            num_conflicts += 1\n",
    "        for c in ion_modes:\n",
    "            mode_count[c[0]] += 1\n",
    "    return num_unique, num_conflicts, mode_count\n",
    "\n",
    "\n",
    "\n",
    "df_nist[\"match_stats\"] = df_nist[\"peak_matches\"].apply(lambda x: get_match_stats(x))\n",
    "df_nist[\"num_unique_peaks_matched\"] = df_nist.apply(lambda x: x[\"match_stats\"][0], axis=1)\n",
    "df_nist[\"num_conflicts_in_peak_matching\"] = df_nist.apply(lambda x: x[\"match_stats\"][1], axis=1)\n",
    "df_nist[\"match_mode_counts\"] = df_nist.apply(lambda x: x[\"match_stats\"][2], axis=1)\n",
    "u= df_nist[\"num_unique_peaks_matched\"].sum() \n",
    "s= df_nist[\"num_conflicts_in_peak_matching\"].sum() \n",
    "print(f\"Total number of uniquely matched peaks: {u} , conflicts found within {s} matches ({100 * s / (u+s):.02f} %))\")\n",
    "print(f\"Total number of conflicting peak to fragment matches: {s}\")\n",
    "\n",
    "df_nist.shape\n",
    " "
   ]
  },
  {
   "cell_type": "code",
   "execution_count": null,
   "metadata": {},
   "outputs": [],
   "source": [
    "fig, axs = plt.subplots(1, 3, figsize=(12.8, 6.4), sharey=False)\n",
    "\n",
    "fig.suptitle(f\"Identified peaks with fragment offset\")\n",
    "#plt.title(f\"Identified peaks with fragment offset: {str(off)}\")\n",
    "sns.histplot(ax=axs[0],data=df_nist, x=\"num_peaks_matched\", color=color_palette[0], edgecolor=\"black\", bins=range(0,20, 1))\n",
    "#axs[0].set_ylim(-0.5, 10)\n",
    "axs[0].set_ylabel(\"peaks identified\")\n",
    "\n",
    "\n",
    "sns.boxplot(ax=axs[1],data=df_nist, y=\"num_unique_peaks_matched\", color=color_palette[1])\n",
    "axs[1].set_ylim(-0.5, 15)\n",
    "axs[1].set_xlabel(\"unique matches\")\n",
    "axs[1].set_ylabel(\"\")\n",
    "\n",
    "\n",
    "sns.boxplot(ax=axs[2],data=df_nist, y=\"num_conflicts_in_peak_matching\", color=color_palette[3])\n",
    "axs[2].set_ylim(-0.5, 15)\n",
    "axs[2].set_xlabel(\"conflicts\")\n",
    "axs[2].set_ylabel(\"\")\n",
    "\n",
    "plt.show()"
   ]
  },
  {
   "cell_type": "code",
   "execution_count": null,
   "metadata": {},
   "outputs": [],
   "source": [
    "fig, axs = plt.subplots(1, 2, figsize=(12.8, 6.4), sharey=False)\n",
    "\n",
    "mode_counts = {m: 0 for m in DEFAULT_MODES}\n",
    "\n",
    "def update_mode_counts(m):\n",
    "    for mode in m.keys():\n",
    "        mode_counts[mode] += m[mode]\n",
    "\n",
    "df_nist[\"match_mode_counts\"].apply(update_mode_counts)\n",
    "\n",
    "sns.barplot(ax=axs[0], x=list(mode_counts.keys()), y=[mode_counts[k] for k in mode_counts.keys()], palette=color_palette, edgecolor=\"black\", linewidth=1.5)\n",
    "axs[1].pie([mode_counts[k] for k in mode_counts.keys()], labels=list(mode_counts.keys()), colors=color_palette, wedgeprops={\"edgecolor\": \"black\", \"linewidth\": 1.5})\n",
    "\n",
    "plt.show()"
   ]
  },
  {
   "cell_type": "code",
   "execution_count": null,
   "metadata": {},
   "outputs": [],
   "source": [
    "\n",
    "for i in range(0,6):\n",
    "    print(f\"Minimum {i} unique peaks identified (including precursors): \", (df_nist[\"num_unique_peaks_matched\"] >= i).sum())\n"
   ]
  },
  {
   "attachments": {},
   "cell_type": "markdown",
   "metadata": {},
   "source": [
    "Save dataframe to file"
   ]
  },
  {
   "attachments": {},
   "cell_type": "markdown",
   "metadata": {},
   "source": [
    "#### [M-H]-\n",
    "Let's test negative mode ions"
   ]
  },
  {
   "cell_type": "code",
   "execution_count": null,
   "metadata": {},
   "outputs": [],
   "source": [
    "df_minus = df_unfiltered.copy(deep=True)\n",
    "\n",
    "MIN_PEAKS = 2\n",
    "MAX_PEAKS = 30\n",
    "PRECURSOR_TYPES = [\"[M-H]-\"]\n",
    "from modules.MOL.constants import ADDUCT_WEIGHTS\n",
    "\n",
    "\n",
    "\n",
    "df_minus = df_minus[df_minus[\"Num peaks\"] > MIN_PEAKS]\n",
    "df_minus = df_minus[df_minus[\"Num peaks\"] < MAX_PEAKS] #TODO WHY MAX CUTOFF: REMOVE!!\n",
    "df_minus[\"theoretical_precursor_mz\"] = df_minus[\"ExactMolWeight\"] + df_minus[\"Precursor_type\"].map(ADDUCT_WEIGHTS)\n",
    "df_minus = df_minus[df_minus[\"Precursor_type\"].apply(lambda ptype: ptype in PRECURSOR_TYPES)]\n",
    "df_minus[\"precursor_offset\"] = df_minus[\"PrecursorMZ\"] - df_minus[\"theoretical_precursor_mz\"]\n",
    "\n",
    "print(f\"Shape {df_minus.shape}\")"
   ]
  },
  {
   "attachments": {},
   "cell_type": "markdown",
   "metadata": {},
   "source": [
    "#### Align and filter Collision Energy\n",
    "\n",
    "443 unqiue CE\n",
    "Q: How to align different CE, INT, INTeV, %, ..."
   ]
  },
  {
   "cell_type": "code",
   "execution_count": null,
   "metadata": {},
   "outputs": [],
   "source": [
    "\n",
    "# TODO Use more Collision energy types. eg. ramps, stepped, resonant...\n",
    "\n",
    "from modules.MOL.collision_energy import NCE_to_eV#align_CE,\n",
    "\n",
    "\n",
    "df_minus[\"CE\"] = df_minus.apply(lambda x: align_CE(x[\"Collision_energy\"], x[\"theoretical_precursor_mz\"]), axis=1) #modules.MOL.collision_energy.align_CE) \n",
    "df_minus[\"CE_type\"] = df_minus[\"CE\"].apply(type)\n",
    "df_minus[\"CE_derived_from_NCE\"] = df_minus[\"Collision_energy\"].apply(lambda x: \"%\" in str(x))\n",
    "\n",
    "\n",
    "print(\"Distinguish CE absolute values (eV - float) and normalized CE (in % - str format)\")\n",
    "print(df_minus[\"CE_type\"].value_counts())\n",
    "\n",
    "print(\"Removing all but absolute values\")\n",
    "df_minus = df_minus[df_minus[\"CE_type\"] == float]\n",
    "df_minus = df_minus[~df_minus[\"CE\"].isnull()]\n",
    "#len(df_nist['CE'].unique())\n",
    "\n",
    "print(f'Detected {len(df_minus[\"CE\"].unique())} unique collision energies in range from {np.min(df_minus[\"CE\"])} to {max(df_minus[\"CE\"])} eV')\n"
   ]
  },
  {
   "cell_type": "code",
   "execution_count": null,
   "metadata": {},
   "outputs": [],
   "source": [
    "fig, ax = plt.subplots(1, 1, figsize=(12.8, 6.4))\n",
    "#for ax in axs:\n",
    "#    ax.tick_params('x', labelrotation=45)\n",
    "\n",
    "#sns.scatterplot(ax=axs[0], data=df_nist,x=\"precursor_offset\", y='PrecursorMZ', palette=color_palette)\n",
    "sns.histplot(ax=ax, data=df_minus, x='CE', hue=\"CE_derived_from_NCE\", palette=[color_palette[4], color_palette[2]], multiple=\"stack\", fill=True, binwidth=2, edgecolor=\"black\", binrange=[0, 200])#, order=list(range(0,200)))\n",
    "plt.rcParams[\"patch.force_edgecolor\"] = True\n",
    "plt.rcParams['axes.edgecolor'] = 'black'\n",
    "plt.show()\n",
    "print(f\"{df_minus.shape[0]} spectra remaining with aligned absolute collision energies\")"
   ]
  },
  {
   "attachments": {},
   "cell_type": "markdown",
   "metadata": {},
   "source": [
    "### Matching 1st-order peaks \n",
    "Matching first order peaks to molecule fragments by cutting a single edge. First build an *in silico* fragmentation tree for each molecular structure, but cutting edges in the molecular structure graph. Then, fragments ion masses are compared to peaks in the mass spectrum.\n",
    "#### Graph representation\n",
    "Creating molecular structure graph"
   ]
  },
  {
   "cell_type": "code",
   "execution_count": null,
   "metadata": {},
   "outputs": [],
   "source": [
    "%%capture\n",
    "df_minus[\"Metabolite\"] = df_minus[\"SMILES\"].apply(Metabolite)\n",
    "df_minus[\"Metabolite\"].apply(lambda x: x.create_molecular_structure_graph())\n",
    "df_minus[\"Metabolite\"].apply(lambda x: x.compute_graph_attributes())\n",
    "df_minus[\"Metabolite\"].apply(lambda x: x.fragment_MOL())\n",
    "#df_minus[\"Metabolite\"].apply(lambda x: x.fragmentation_tree.set_fragment_modes(constants.NEGATIVE_MODES))\n",
    "\n",
    "df_minus.apply(lambda x: x[\"Metabolite\"].match_fragments_to_peaks(x[\"peaks\"][\"mz\"], x[\"peaks\"][\"intensity\"], tolerance=TOLERANCE), axis=1)"
   ]
  },
  {
   "attachments": {},
   "cell_type": "markdown",
   "metadata": {},
   "source": [
    "### Fragmentation Trees\n",
    "Compute fragmentation tree, by single edge breaks of non-ring bonds."
   ]
  },
  {
   "attachments": {},
   "cell_type": "markdown",
   "metadata": {},
   "source": [
    "### Match fragments and peaks"
   ]
  },
  {
   "cell_type": "code",
   "execution_count": null,
   "metadata": {},
   "outputs": [
    {
     "name": "stdout",
     "output_type": "stream",
     "text": [
      "Total number of uniquely matched peaks: 112203 , conflicts found within 23450 matches (17.29 %))\n",
      "Total number of conflicting peak to fragment matches: 23450\n"
     ]
    },
    {
     "data": {
      "text/plain": [
       "(27950, 47)"
      ]
     },
     "execution_count": 35,
     "metadata": {},
     "output_type": "execute_result"
    }
   ],
   "source": [
    "\n",
    "\n",
    "df_minus[\"peak_matches\"] = df_minus[\"Metabolite\"].apply(lambda x: getattr(x, \"peak_matches\"))\n",
    "df_minus[\"num_peaks_matched\"] = df_minus[\"peak_matches\"].apply(len)\n",
    "\n",
    "\n",
    "\n",
    "df_minus[\"match_stats\"] = df_minus[\"peak_matches\"].apply(lambda x: get_match_stats(x))\n",
    "df_minus[\"num_unique_peaks_matched\"] = df_minus.apply(lambda x: x[\"match_stats\"][0], axis=1)\n",
    "df_minus[\"num_conflicts_in_peak_matching\"] = df_minus.apply(lambda x: x[\"match_stats\"][1], axis=1)\n",
    "df_minus[\"match_mode_counts\"] = df_minus.apply(lambda x: x[\"match_stats\"][2], axis=1)\n",
    "u= df_minus[\"num_unique_peaks_matched\"].sum() \n",
    "s= df_minus[\"num_conflicts_in_peak_matching\"].sum() \n",
    "print(f\"Total number of uniquely matched peaks: {u} , conflicts found within {s} matches ({100 * s / (u+s):.02f} %))\")\n",
    "print(f\"Total number of conflicting peak to fragment matches: {s}\")\n",
    "\n",
    "df_minus.shape\n",
    " "
   ]
  },
  {
   "cell_type": "code",
   "execution_count": null,
   "metadata": {},
   "outputs": [],
   "source": [
    "fig, axs = plt.subplots(1, 3, figsize=(12.8, 6.4), sharey=False)\n",
    "\n",
    "fig.suptitle(f\"Identified peaks with fragment offset\")\n",
    "#plt.title(f\"Identified peaks with fragment offset: {str(off)}\")\n",
    "sns.histplot(ax=axs[0],data=df_minus, x=\"num_peaks_matched\", color=color_palette[0], edgecolor=\"black\", bins=range(0,20, 1))\n",
    "#axs[0].set_ylim(-0.5, 10)\n",
    "axs[0].set_ylabel(\"peaks identified\")\n",
    "\n",
    "\n",
    "sns.boxplot(ax=axs[1],data=df_minus, y=\"num_unique_peaks_matched\", color=color_palette[1])\n",
    "axs[1].set_ylim(-0.5, 15)\n",
    "axs[1].set_xlabel(\"unique matches\")\n",
    "axs[1].set_ylabel(\"\")\n",
    "\n",
    "\n",
    "sns.boxplot(ax=axs[2],data=df_minus, y=\"num_conflicts_in_peak_matching\", color=color_palette[3])\n",
    "axs[2].set_ylim(-0.5, 15)\n",
    "axs[2].set_xlabel(\"conflicts\")\n",
    "axs[2].set_ylabel(\"\")\n",
    "\n",
    "plt.show()"
   ]
  },
  {
   "cell_type": "code",
   "execution_count": null,
   "metadata": {},
   "outputs": [],
   "source": [
    "fig, axs = plt.subplots(1, 2, figsize=(12.8, 6.4), sharey=False)\n",
    "\n",
    "mode_counts = {m: 0 for m in DEFAULT_MODES}\n",
    "\n",
    "def update_mode_counts(m):\n",
    "    for mode in m.keys():\n",
    "        mode_counts[mode] += m[mode]\n",
    "\n",
    "df_minus[\"match_mode_counts\"].apply(update_mode_counts)\n",
    "\n",
    "mode_counts = dict((key.replace(\"]+\", \"]-\"), value) for (key, value) in mode_counts.items())\n",
    "\n",
    "sns.barplot(ax=axs[0], x=list(mode_counts.keys()), y=[mode_counts[k] for k in mode_counts.keys()], palette=color_palette, edgecolor=\"black\", linewidth=1.5)\n",
    "axs[1].pie([mode_counts[k] for k in mode_counts.keys()], labels=list(mode_counts.keys()), colors=color_palette, wedgeprops={\"edgecolor\": \"black\", \"linewidth\": 1.5})\n",
    "\n",
    "plt.show()"
   ]
  },
  {
   "cell_type": "code",
   "execution_count": null,
   "metadata": {},
   "outputs": [],
   "source": [
    "\n",
    "for i in range(0,6):\n",
    "    print(f\"Minimum {i} unique peaks identified (including precursors): \", (df_minus[\"num_unique_peaks_matched\"] >= i).sum())\n"
   ]
  },
  {
   "attachments": {},
   "cell_type": "markdown",
   "metadata": {},
   "source": [
    "### CONCATENATE + and - modes"
   ]
  },
  {
   "cell_type": "code",
   "execution_count": null,
   "metadata": {},
   "outputs": [],
   "source": [
    "df = pd.concat([df_nist, df_minus], axis=0)\n",
    "\n",
    "df[\"Precursor_type\"].value_counts()"
   ]
  },
  {
   "cell_type": "code",
   "execution_count": null,
   "metadata": {},
   "outputs": [],
   "source": [
    "\n",
    "for i in range(0,6):\n",
    "    print(f\"Minimum {i} unique peaks identified (including precursors): \", (df[\"num_unique_peaks_matched\"] >= i).sum())\n"
   ]
  },
  {
   "cell_type": "code",
   "execution_count": null,
   "metadata": {},
   "outputs": [],
   "source": [
    "save_df = False\n",
    "name = \"nist_msms_filtered\"\n",
    "date = \"XXX\" #\"07_2023\"\n",
    "min_peaks = 1\n",
    "\n",
    "if save_df:\n",
    "       key_columns = ['Name', 'Synon', 'Notes', 'Precursor_type', 'Spectrum_type',\n",
    "              'PrecursorMZ', 'Instrument_type', 'Instrument', 'Sample_inlet',\n",
    "              'Ionization', 'Collision_energy', 'Ion_mode', 'Special_fragmentation',\n",
    "              'InChIKey', 'Formula', 'MW', 'ExactMass', 'CASNO', 'NISTNO', 'ID',\n",
    "              'Comment', 'Num peaks', 'peaks', 'Link', 'Related_CAS#',\n",
    "              'Collision_gas', 'Pressure', 'In-source_voltage', 'msN_pathway', 'MOL',\n",
    "              'SMILES', 'InChI', 'K', 'ExactMolWeight', 'matching_key',\n",
    "              'theoretical_precursor_mz', 'precursor_offset', 'CE', 'CE_type', 'peak_matches',\n",
    "              'num_peaks_matched', 'match_stats', 'num_unique_peaks_matched',\n",
    "              'num_conflicts_in_peak_matching', 'match_mode_counts']\n",
    "       file = library_directory + name + \"_min\" + str(min_peaks) + \"_\" + date + \".csv\"\n",
    "       print(\"saving to \", file)\n",
    "       df[df[\"num_unique_peaks_matched\"] >= min_peaks][key_columns].to_csv(file)\n",
    "       \n",
    "       #df[key_columns].to_csv(library_directory + name + \"all\" + \"_\" + date + \".csv\")"
   ]
  }
 ],
 "metadata": {
  "kernelspec": {
   "display_name": "torch",
   "language": "python",
   "name": "python3"
  },
  "language_info": {
   "codemirror_mode": {
    "name": "ipython",
    "version": 3
   },
   "file_extension": ".py",
   "mimetype": "text/x-python",
   "name": "python",
   "nbconvert_exporter": "python",
   "pygments_lexer": "ipython3",
   "version": "3.10.8"
  },
  "vscode": {
   "interpreter": {
    "hash": "e08c3b4e89cfe29feb848cdc03972f3418883da099973a3eef9fa9a5a5dc99db"
   }
  }
 },
 "nbformat": 4,
 "nbformat_minor": 1
}
