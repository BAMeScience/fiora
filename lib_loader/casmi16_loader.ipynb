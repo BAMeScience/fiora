{
 "cells": [
  {
   "cell_type": "code",
   "execution_count": 1,
   "metadata": {
    "pycharm": {
     "name": "#%%\n"
    },
    "scrolled": false
   },
   "outputs": [
    {
     "name": "stdout",
     "output_type": "stream",
     "text": [
      "Working with Python 3.10.8 | packaged by conda-forge | (main, Nov 22 2022, 08:26:04) [GCC 10.4.0]\n"
     ]
    },
    {
     "data": {
      "image/png": "[encoded data removed]",
      "text/plain": [
       "<rdkit.Chem.rdchem.Mol at 0x7fc3fb368270>"
      ]
     },
     "execution_count": 1,
     "metadata": {},
     "output_type": "execute_result"
    }
   ],
   "source": [
    "import sys\n",
    "print(f'Working with Python {sys.version}')\n",
    "\n",
    "import numpy as np\n",
    "import pandas as pd\n",
    "import importlib\n",
    "#import swifter\n",
    "import matplotlib.pyplot as plt\n",
    "import seaborn as sns\n",
    "import collections\n",
    "import time\n",
    "import os\n",
    "from rdkit import Chem\n",
    "from rdkit.Chem import AllChem\n",
    "from rdkit.Chem import Draw\n",
    "import rdkit.Chem.Descriptors as Descriptors\n",
    "from rdkit.Chem import PandasTools\n",
    "#!pip install spektral\n",
    "\n",
    "\n",
    "# Deep Learning\n",
    "import sklearn\n",
    "#import spektral\n",
    "from sklearn.model_selection import train_test_split\n",
    "# Keras\n",
    "from sklearn.model_selection import train_test_split\n",
    "#import stellargraph as sg\n",
    "from rdkit import RDLogger\n",
    "\n",
    "\n",
    "\n",
    "# Load Modules\n",
    "from os.path import expanduser\n",
    "home = expanduser(\"~\")\n",
    "import fiora.IO.mspReader as mspReader\n",
    "import fiora.IO.mgfReader as mgfReader\n",
    "import fiora.visualization.spectrum_visualizer as sv\n",
    "import fiora.IO.molReader as molReader\n",
    "\n",
    "\n",
    "RDLogger.DisableLog('rdApp.*')\n",
    "\n",
    "\n",
    "caffeine_smiles = 'CN1C=NC2=C1C(=O)N(C(=O)N2C)C'\n",
    "caffeine_mol = Chem.MolFromSmiles(caffeine_smiles)\n",
    "\n",
    "caffeine_mol"
   ]
  },
  {
   "cell_type": "code",
   "execution_count": 2,
   "metadata": {},
   "outputs": [
    {
     "name": "stdout",
     "output_type": "stream",
     "text": [
      "Challenge-001.mgf  Challenge-022.mgf  Challenge-043.mgf  Challenge-064.mgf\n",
      "Challenge-002.mgf  Challenge-023.mgf  Challenge-044.mgf  Challenge-065.mgf\n",
      "Challenge-003.mgf  Challenge-024.mgf  Challenge-045.mgf  Challenge-066.mgf\n",
      "Challenge-004.mgf  Challenge-025.mgf  Challenge-046.mgf  Challenge-067.mgf\n",
      "Challenge-005.mgf  Challenge-026.mgf  Challenge-047.mgf  Challenge-068.mgf\n",
      "Challenge-006.mgf  Challenge-027.mgf  Challenge-048.mgf  Challenge-069.mgf\n",
      "Challenge-007.mgf  Challenge-028.mgf  Challenge-049.mgf  Challenge-070.mgf\n",
      "Challenge-008.mgf  Challenge-029.mgf  Challenge-050.mgf  Challenge-071.mgf\n",
      "Challenge-009.mgf  Challenge-030.mgf  Challenge-051.mgf  Challenge-072.mgf\n",
      "Challenge-010.mgf  Challenge-031.mgf  Challenge-052.mgf  Challenge-073.mgf\n",
      "Challenge-011.mgf  Challenge-032.mgf  Challenge-053.mgf  Challenge-074.mgf\n",
      "Challenge-012.mgf  Challenge-033.mgf  Challenge-054.mgf  Challenge-075.mgf\n",
      "Challenge-013.mgf  Challenge-034.mgf  Challenge-055.mgf  Challenge-076.mgf\n",
      "Challenge-014.mgf  Challenge-035.mgf  Challenge-056.mgf  Challenge-077.mgf\n",
      "Challenge-015.mgf  Challenge-036.mgf  Challenge-057.mgf  Challenge-078.mgf\n",
      "Challenge-016.mgf  Challenge-037.mgf  Challenge-058.mgf  Challenge-079.mgf\n",
      "Challenge-017.mgf  Challenge-038.mgf  Challenge-059.mgf  Challenge-080.mgf\n",
      "Challenge-018.mgf  Challenge-039.mgf  Challenge-060.mgf  Challenge-081.mgf\n",
      "Challenge-019.mgf  Challenge-040.mgf  Challenge-061.mgf\n",
      "Challenge-020.mgf  Challenge-041.mgf  Challenge-062.mgf\n",
      "Challenge-021.mgf  Challenge-042.mgf  Challenge-063.mgf\n"
     ]
    }
   ],
   "source": [
    "library_directory = f\"{home}/data/metabolites/CASMI_2016/CASMI2016_Cat2and3_Challenge_negative_mgf\"\n",
    "!ls $library_directory"
   ]
  },
  {
   "attachments": {},
   "cell_type": "markdown",
   "metadata": {},
   "source": [
    "#### Load spectra\n",
    "Positives and negative mode spectra"
   ]
  },
  {
   "cell_type": "code",
   "execution_count": 3,
   "metadata": {},
   "outputs": [],
   "source": [
    "df = []\n",
    "library_directory = f\"{home}/data/metabolites/CASMI_2016/CASMI2016_Cat2and3_Challenge_negative_mgf\"\n",
    "\n",
    "for file in os.listdir(library_directory):\n",
    "    if file.endswith(\".mgf\"):\n",
    "        data = mgfReader.read(os.path.join(library_directory, file), sep=\"\\t\")[0]\n",
    "        data['FILE'] = file\n",
    "        data['Precursor_type'] = \"[M-H]-\"\n",
    "        df += [data]\n",
    "\n",
    "library_directory = library_directory.replace(\"negative\", \"positive\")\n",
    "for file in os.listdir(library_directory):\n",
    "    if file.endswith(\".mgf\"):\n",
    "        data = mgfReader.read(os.path.join(library_directory, file), sep=\"\\t\")[0]\n",
    "        data['FILE'] = file\n",
    "        data['Precursor_type'] = \"[M+H]+\"\n",
    "        df += [data]\n",
    "\n",
    "df = pd.DataFrame(df)"
   ]
  },
  {
   "attachments": {},
   "cell_type": "markdown",
   "metadata": {},
   "source": [
    "#### Load solutions"
   ]
  },
  {
   "cell_type": "code",
   "execution_count": 4,
   "metadata": {},
   "outputs": [
    {
     "name": "stdout",
     "output_type": "stream",
     "text": [
      "    SourceFile  ChallengeName  PRECURSOR_MZ   ION_MODE      RT  nPeaks  \\\n",
      "0     XX834151  Challenge-001      222.0230   NEGATIVE   0.803       5   \n",
      "1     XX867751  Challenge-002      286.9690   NEGATIVE   1.964       6   \n",
      "2     XX833051  Challenge-003      223.0071   NEGATIVE   2.371       5   \n",
      "3     XX845151  Challenge-004      189.9468   NEGATIVE   2.379       2   \n",
      "4     XX832851  Challenge-005      276.0309   NEGATIVE   3.705       7   \n",
      "..         ...            ...           ...        ...     ...     ...   \n",
      "203   XX883201  Challenge-204      369.1250   POSITIVE  14.043      41   \n",
      "204   XX827002  Challenge-205      331.1904   POSITIVE  14.107      11   \n",
      "205   XX848701  Challenge-206      489.0435   POSITIVE  14.154       9   \n",
      "206   XX833703  Challenge-207      303.2319   POSITIVE  14.844      31   \n",
      "207   XX854101  Challenge-208      496.3997   POSITIVE  15.627      89   \n",
      "\n",
      "                                   NAME  \\\n",
      "0    5-Aminonaphthalene-2-sulfonic acid   \n",
      "1        2,7-Naphthalenedisulfonic acid   \n",
      "2            1-Naphthol-5-sulfonic acid   \n",
      "3                            Clopyralid   \n",
      "4                          Azathioprine   \n",
      "..                                  ...   \n",
      "203                  Tricresylphosphate   \n",
      "204              Dicyclohexyl phthalate   \n",
      "205                        Flufenoxuron   \n",
      "206                        Abietic acid   \n",
      "207                            Orlistat   \n",
      "\n",
      "                                                SMILES  \\\n",
      "0                     NC1=C2C=CC(=CC2=CC=C1)S(O)(=O)=O   \n",
      "1                 OS(=O)(=O)c1ccc2ccc(cc2c1)S(O)(=O)=O   \n",
      "2                     OC1=CC=CC2=C(C=CC=C12)S(O)(=O)=O   \n",
      "3                                 OC(=O)c1nc(Cl)ccc1Cl   \n",
      "4           CN1C=NC(=C1SC1=C2NC=NC2=NC=N1)[N+]([O-])=O   \n",
      "..                                                 ...   \n",
      "203  CC1=C(OP(=O)(OC2=C(C)C=CC=C2)OC2=C(C)C=CC=C2)C...   \n",
      "204            O=C(OC1CCCCC1)C1=CC=CC=C1C(=O)OC1CCCCC1   \n",
      "205  FC1=CC(OC2=CC=C(C=C2Cl)C(F)(F)F)=CC=C1NC(=O)NC...   \n",
      "206  CC(C)C1=CC2=CC[C@@H]3[C@](C)(CCC[C@@]3(C)C(O)=...   \n",
      "207  CCCCCCCCCCC[C@@H](C[C@@H]1OC(=O)[C@H]1CCCCCC)O...   \n",
      "\n",
      "                                                 INCHI  \\\n",
      "0    InChI=1S/C10H9NO3S/c11-10-3-1-2-7-6-8(15(12,13...   \n",
      "1    InChI=1S/C10H8O6S2/c11-17(12,13)9-3-1-7-2-4-10...   \n",
      "2    InChI=1S/C10H8O4S/c11-9-5-1-4-8-7(9)3-2-6-10(8...   \n",
      "3    InChI=1S/C6H3Cl2NO2/c7-3-1-2-4(8)9-5(3)6(10)11...   \n",
      "4    InChI=1S/C9H7N7O2S/c1-15-4-14-7(16(17)18)9(15)...   \n",
      "..                                                 ...   \n",
      "203  InChI=1S/C21H21O4P/c1-16-10-4-7-13-19(16)23-26...   \n",
      "204  InChI=1S/C20H26O4/c21-19(23-15-9-3-1-4-10-15)1...   \n",
      "205  InChI=1S/C21H11ClF6N2O3/c22-12-8-10(21(26,27)2...   \n",
      "206  InChI=1S/C20H30O2/c1-13(2)14-6-8-16-15(12-14)7...   \n",
      "207  InChI=1S/C29H53NO5/c1-5-7-9-11-12-13-14-15-16-...   \n",
      "\n",
      "                        INCHIKEY      CSID   PC_CID  \n",
      "0    UWPJYQYRSWYIGZ-UHFFFAOYSA-N      8101     8408  \n",
      "1    VILFVXYKHXVYAB-UHFFFAOYSA-N     60073    66707  \n",
      "2    YLKCHWCYYNKADS-UHFFFAOYSA-N     60378    67025  \n",
      "3    HUBANNPOLNYSAD-UHFFFAOYSA-N     14797    15553  \n",
      "4    LMEKQMALGUDUQG-UHFFFAOYSA-N      2178     2265  \n",
      "..                           ...       ...      ...  \n",
      "203  YSMRWXYRXBRSND-UHFFFAOYSA-N  21106216     6527  \n",
      "204  VOWAEIGWURALJQ-UHFFFAOYSA-N      6519     6777  \n",
      "205  RYLHNOVXKPXDIP-UHFFFAOYSA-N     82863    91766  \n",
      "206  RSWGJHLUYNHPMX-ONCXSQPRSA-N     10127    10569  \n",
      "207  AHLBNYSZXLDEJQ-FWEHEUNISA-N   2298564  3034010  \n",
      "\n",
      "[208 rows x 12 columns]\n"
     ]
    }
   ],
   "source": [
    "solution = pd.read_csv(os.path.join(library_directory, \"solutions_casmi2016_cat2and3.csv\"))\n",
    "# solution = solution[solution[\"ION_MODE\"] == \" POSITIVE\"]\n",
    "# solution.reset_index(inplace=True, drop=True)\n",
    "df = pd.concat([df, solution], axis=1)\n",
    "print(solution)"
   ]
  },
  {
   "cell_type": "code",
   "execution_count": 5,
   "metadata": {},
   "outputs": [
    {
     "data": {
      "text/plain": [
       "True"
      ]
     },
     "execution_count": 5,
     "metadata": {},
     "output_type": "execute_result"
    }
   ],
   "source": [
    "# Check that challenges and solutions are aligned correctly\n",
    "df.apply(lambda x: x[\"FILE\"].split('.')[0] == x[\"ChallengeName\"], axis=1).all()"
   ]
  },
  {
   "cell_type": "code",
   "execution_count": 6,
   "metadata": {},
   "outputs": [
    {
     "name": "stdout",
     "output_type": "stream",
     "text": [
      "               cFILE                                         Candidates\n",
      "0  Challenge-001.csv  [c1ccc2c(c1)ccc(c2N)S(=O)(=O)O, c1ccc2c(c1)ccc...\n",
      "1  Challenge-002.csv  [c1cc2c(cccc2S(=O)(=O)O)c(c1)S(=O)(=O)O, c1cc2...\n",
      "2  Challenge-003.csv  [c1ccc2c(c1)c(ccc2S(=O)(=O)O)O, c1cc(cc2c1ccc(...\n",
      "3  Challenge-004.csv  [c1cc(c(c(c1)Cl)[N+](=O)[O-])Cl, c1c(cc(cc1Cl)...\n",
      "4  Challenge-005.csv  [Cn1cnc(c1Sc2c3c(nc[nH]3)ncn2)[N+](=O)[O-], c1...\n"
     ]
    }
   ],
   "source": [
    "\n",
    "library_candidates_directory = f\"{home}/data/metabolites/CASMI_2016/CASMI2016_Cat2and3_Challenge_Candidates\"\n",
    "candidates = []\n",
    "for file in os.listdir(library_candidates_directory):\n",
    "    if file.endswith(\".csv\"):\n",
    "        data = pd.read_csv(os.path.join(library_candidates_directory, file), sep=\",\")\n",
    "        SMILES = list(data[\"SMILES\"])\n",
    "        d = {'cFILE': file, 'Candidates': SMILES}\n",
    "        candidates += [d]\n",
    "\n",
    "candidates = pd.DataFrame(candidates) #.loc[81:].reset_index(drop=True)\n",
    "print(candidates.head())"
   ]
  },
  {
   "cell_type": "code",
   "execution_count": 7,
   "metadata": {},
   "outputs": [
    {
     "data": {
      "text/plain": [
       "True"
      ]
     },
     "execution_count": 7,
     "metadata": {},
     "output_type": "execute_result"
    }
   ],
   "source": [
    "df = pd.concat([df, candidates], axis=1)\n",
    "df.apply(lambda x: x[\"cFILE\"].split('.')[0] == x[\"ChallengeName\"], axis=1).all()"
   ]
  },
  {
   "attachments": {},
   "cell_type": "markdown",
   "metadata": {},
   "source": [
    "#### Saving the data\n",
    "Set to *True* only when a new set is meant to be generated."
   ]
  },
  {
   "cell_type": "code",
   "execution_count": 8,
   "metadata": {},
   "outputs": [
    {
     "ename": "KeyboardInterrupt",
     "evalue": "",
     "output_type": "error",
     "traceback": [
      "\u001b[0;31m---------------------------------------------------------------------------\u001b[0m",
      "\u001b[0;31mKeyboardInterrupt\u001b[0m                         Traceback (most recent call last)",
      "Cell \u001b[0;32mIn[8], line 1\u001b[0m\n\u001b[0;32m----> 1\u001b[0m \u001b[39mraise\u001b[39;00m \u001b[39mKeyboardInterrupt\u001b[39;00m()\n",
      "\u001b[0;31mKeyboardInterrupt\u001b[0m: "
     ]
    }
   ],
   "source": [
    "raise KeyboardInterrupt()"
   ]
  },
  {
   "cell_type": "code",
   "execution_count": null,
   "metadata": {},
   "outputs": [],
   "source": [
    "save_df = False\n",
    "name = \"casmi16_challenges_combined.csv\"\n",
    "\n",
    "library_directory = '/'.join(library_directory.split('/')[:-1])\n",
    "print(library_directory)\n",
    "if save_df:\n",
    "       file = os.path.join(library_directory, name)\n",
    "       print(\"saving to \", file)\n",
    "       df.to_csv(file)\n",
    "       \n",
    "       #df_nist[key_columns].to_csv(library_directory + name + \"all\" + \"_\" + date + \".csv\")\n",
    "\n"
   ]
  },
  {
   "cell_type": "code",
   "execution_count": null,
   "metadata": {},
   "outputs": [
    {
     "data": {
      "text/html": [
       "<div>\n",
       "<style scoped>\n",
       "    .dataframe tbody tr th:only-of-type {\n",
       "        vertical-align: middle;\n",
       "    }\n",
       "\n",
       "    .dataframe tbody tr th {\n",
       "        vertical-align: top;\n",
       "    }\n",
       "\n",
       "    .dataframe thead th {\n",
       "        text-align: right;\n",
       "    }\n",
       "</style>\n",
       "<table border=\"1\" class=\"dataframe\">\n",
       "  <thead>\n",
       "    <tr style=\"text-align: right;\">\n",
       "      <th></th>\n",
       "      <th>ChallengeName</th>\n",
       "      <th>SMILES</th>\n",
       "      <th>Precursor_type</th>\n",
       "    </tr>\n",
       "  </thead>\n",
       "  <tbody>\n",
       "    <tr>\n",
       "      <th>0</th>\n",
       "      <td>Challenge-001</td>\n",
       "      <td>NC1=C2C=CC(=CC2=CC=C1)S(O)(=O)=O</td>\n",
       "      <td>[M-H]-</td>\n",
       "    </tr>\n",
       "    <tr>\n",
       "      <th>1</th>\n",
       "      <td>Challenge-002</td>\n",
       "      <td>OS(=O)(=O)c1ccc2ccc(cc2c1)S(O)(=O)=O</td>\n",
       "      <td>[M-H]-</td>\n",
       "    </tr>\n",
       "    <tr>\n",
       "      <th>2</th>\n",
       "      <td>Challenge-003</td>\n",
       "      <td>OC1=CC=CC2=C(C=CC=C12)S(O)(=O)=O</td>\n",
       "      <td>[M-H]-</td>\n",
       "    </tr>\n",
       "    <tr>\n",
       "      <th>3</th>\n",
       "      <td>Challenge-004</td>\n",
       "      <td>OC(=O)c1nc(Cl)ccc1Cl</td>\n",
       "      <td>[M-H]-</td>\n",
       "    </tr>\n",
       "    <tr>\n",
       "      <th>4</th>\n",
       "      <td>Challenge-005</td>\n",
       "      <td>CN1C=NC(=C1SC1=C2NC=NC2=NC=N1)[N+]([O-])=O</td>\n",
       "      <td>[M-H]-</td>\n",
       "    </tr>\n",
       "    <tr>\n",
       "      <th>...</th>\n",
       "      <td>...</td>\n",
       "      <td>...</td>\n",
       "      <td>...</td>\n",
       "    </tr>\n",
       "    <tr>\n",
       "      <th>76</th>\n",
       "      <td>Challenge-077</td>\n",
       "      <td>OC1=C(Cl)C(Cl)=C(Cl)C(Cl)=C1C(=O)NC1=CC=CC=C1</td>\n",
       "      <td>[M-H]-</td>\n",
       "    </tr>\n",
       "    <tr>\n",
       "      <th>77</th>\n",
       "      <td>Challenge-078</td>\n",
       "      <td>[H]C([H])(C([H])([H])S(O)(=O)=O)C(F)(F)C(F)(F)...</td>\n",
       "      <td>[M-H]-</td>\n",
       "    </tr>\n",
       "    <tr>\n",
       "      <th>78</th>\n",
       "      <td>Challenge-079</td>\n",
       "      <td>CC[C@]1(CC[C@@H](O1)[C@@]1(C)CC[C@]2(C[C@H](O)...</td>\n",
       "      <td>[M-H]-</td>\n",
       "    </tr>\n",
       "    <tr>\n",
       "      <th>79</th>\n",
       "      <td>Challenge-080</td>\n",
       "      <td>OC(=O)C(F)(F)C(F)(F)C(F)(F)C(F)(F)C(F)(F)C(F)(...</td>\n",
       "      <td>[M-H]-</td>\n",
       "    </tr>\n",
       "    <tr>\n",
       "      <th>80</th>\n",
       "      <td>Challenge-081</td>\n",
       "      <td>CCCCCCCCCCCCC1=CC=C(C=C1)S(O)(=O)=O</td>\n",
       "      <td>[M-H]-</td>\n",
       "    </tr>\n",
       "  </tbody>\n",
       "</table>\n",
       "<p>81 rows × 3 columns</p>\n",
       "</div>"
      ],
      "text/plain": [
       "    ChallengeName                                             SMILES  \\\n",
       "0   Challenge-001                   NC1=C2C=CC(=CC2=CC=C1)S(O)(=O)=O   \n",
       "1   Challenge-002               OS(=O)(=O)c1ccc2ccc(cc2c1)S(O)(=O)=O   \n",
       "2   Challenge-003                   OC1=CC=CC2=C(C=CC=C12)S(O)(=O)=O   \n",
       "3   Challenge-004                               OC(=O)c1nc(Cl)ccc1Cl   \n",
       "4   Challenge-005         CN1C=NC(=C1SC1=C2NC=NC2=NC=N1)[N+]([O-])=O   \n",
       "..            ...                                                ...   \n",
       "76  Challenge-077      OC1=C(Cl)C(Cl)=C(Cl)C(Cl)=C1C(=O)NC1=CC=CC=C1   \n",
       "77  Challenge-078  [H]C([H])(C([H])([H])S(O)(=O)=O)C(F)(F)C(F)(F)...   \n",
       "78  Challenge-079  CC[C@]1(CC[C@@H](O1)[C@@]1(C)CC[C@]2(C[C@H](O)...   \n",
       "79  Challenge-080  OC(=O)C(F)(F)C(F)(F)C(F)(F)C(F)(F)C(F)(F)C(F)(...   \n",
       "80  Challenge-081                CCCCCCCCCCCCC1=CC=C(C=C1)S(O)(=O)=O   \n",
       "\n",
       "   Precursor_type  \n",
       "0          [M-H]-  \n",
       "1          [M-H]-  \n",
       "2          [M-H]-  \n",
       "3          [M-H]-  \n",
       "4          [M-H]-  \n",
       "..            ...  \n",
       "76         [M-H]-  \n",
       "77         [M-H]-  \n",
       "78         [M-H]-  \n",
       "79         [M-H]-  \n",
       "80         [M-H]-  \n",
       "\n",
       "[81 rows x 3 columns]"
      ]
     },
     "execution_count": 12,
     "metadata": {},
     "output_type": "execute_result"
    }
   ],
   "source": [
    "df_cfm[df_cfm[\"Precursor_type\"] == \"[M-H]-\"]"
   ]
  },
  {
   "cell_type": "code",
   "execution_count": null,
   "metadata": {},
   "outputs": [
    {
     "name": "stdout",
     "output_type": "stream",
     "text": [
      "   ChallengeName                                      SMILES Precursor_type\n",
      "0  Challenge-001            NC1=C2C=CC(=CC2=CC=C1)S(O)(=O)=O         [M-H]-\n",
      "1  Challenge-002        OS(=O)(=O)c1ccc2ccc(cc2c1)S(O)(=O)=O         [M-H]-\n",
      "2  Challenge-003            OC1=CC=CC2=C(C=CC=C12)S(O)(=O)=O         [M-H]-\n",
      "3  Challenge-004                        OC(=O)c1nc(Cl)ccc1Cl         [M-H]-\n",
      "4  Challenge-005  CN1C=NC(=C1SC1=C2NC=NC2=NC=N1)[N+]([O-])=O         [M-H]-\n"
     ]
    }
   ],
   "source": [
    "## prepare output for for CFM-ID\n",
    "save_df = False\n",
    "cfm_directory = f\"{home}/data/metabolites/cfm-id/\"\n",
    "name = \"casmi16_negative_solutions_cfm.txt\"\n",
    "df_cfm = df[[\"ChallengeName\", \"SMILES\", \"Precursor_type\"]]\n",
    "print(df_cfm.head())\n",
    "\n",
    "if save_df:\n",
    "    file = os.path.join(cfm_directory, name)\n",
    "    df_cfm[df_cfm[\"Precursor_type\"] == \"[M-H]-\"][[\"ChallengeName\", \"SMILES\"]].to_csv(file, index=False, header=False, sep=\" \")\n",
    "    \n",
    "    name = name.replace(\"negative\", \"positive\")\n",
    "    file = os.path.join(cfm_directory, name)\n",
    "    df_cfm[df_cfm[\"Precursor_type\"] == \"[M+H]+\"][[\"ChallengeName\", \"SMILES\"]].to_csv(file, index=False, header=False, sep=\" \")"
   ]
  },
  {
   "cell_type": "code",
   "execution_count": null,
   "metadata": {},
   "outputs": [
    {
     "data": {
      "text/html": [
       "<div>\n",
       "<style scoped>\n",
       "    .dataframe tbody tr th:only-of-type {\n",
       "        vertical-align: middle;\n",
       "    }\n",
       "\n",
       "    .dataframe tbody tr th {\n",
       "        vertical-align: top;\n",
       "    }\n",
       "\n",
       "    .dataframe thead th {\n",
       "        text-align: right;\n",
       "    }\n",
       "</style>\n",
       "<table border=\"1\" class=\"dataframe\">\n",
       "  <thead>\n",
       "    <tr style=\"text-align: right;\">\n",
       "      <th></th>\n",
       "      <th>PEPMASS</th>\n",
       "      <th>RTINSECONDS</th>\n",
       "      <th>CHARGE</th>\n",
       "      <th>TITLE</th>\n",
       "      <th>SCANS</th>\n",
       "      <th>peaks</th>\n",
       "      <th>FILE</th>\n",
       "      <th>Precursor_type</th>\n",
       "      <th>SourceFile</th>\n",
       "      <th>ChallengeName</th>\n",
       "      <th>...</th>\n",
       "      <th>RT</th>\n",
       "      <th>nPeaks</th>\n",
       "      <th>NAME</th>\n",
       "      <th>SMILES</th>\n",
       "      <th>INCHI</th>\n",
       "      <th>INCHIKEY</th>\n",
       "      <th>CSID</th>\n",
       "      <th>PC_CID</th>\n",
       "      <th>cFILE</th>\n",
       "      <th>Candidates</th>\n",
       "    </tr>\n",
       "  </thead>\n",
       "  <tbody>\n",
       "    <tr>\n",
       "      <th>0</th>\n",
       "      <td>222.023</td>\n",
       "      <td>48.18</td>\n",
       "      <td>1+</td>\n",
       "      <td>Scan Number: 1</td>\n",
       "      <td>1</td>\n",
       "      <td>{'mz': [107.0491, 131.0502, 157.0533, 158.0611...</td>\n",
       "      <td>Challenge-001.mgf</td>\n",
       "      <td>[M-H]-</td>\n",
       "      <td>XX834151</td>\n",
       "      <td>Challenge-001</td>\n",
       "      <td>...</td>\n",
       "      <td>0.803</td>\n",
       "      <td>5</td>\n",
       "      <td>5-Aminonaphthalene-2-sulfonic acid</td>\n",
       "      <td>NC1=C2C=CC(=CC2=CC=C1)S(O)(=O)=O</td>\n",
       "      <td>InChI=1S/C10H9NO3S/c11-10-3-1-2-7-6-8(15(12,13...</td>\n",
       "      <td>UWPJYQYRSWYIGZ-UHFFFAOYSA-N</td>\n",
       "      <td>8101</td>\n",
       "      <td>8408</td>\n",
       "      <td>Challenge-001.csv</td>\n",
       "      <td>[c1ccc2c(c1)ccc(c2N)S(=O)(=O)O, c1ccc2c(c1)ccc...</td>\n",
       "    </tr>\n",
       "    <tr>\n",
       "      <th>1</th>\n",
       "      <td>286.969</td>\n",
       "      <td>117.84</td>\n",
       "      <td>1+</td>\n",
       "      <td>Scan Number: 1</td>\n",
       "      <td>1</td>\n",
       "      <td>{'mz': [143.0503, 159.0455, 206.0044, 207.0122...</td>\n",
       "      <td>Challenge-002.mgf</td>\n",
       "      <td>[M-H]-</td>\n",
       "      <td>XX867751</td>\n",
       "      <td>Challenge-002</td>\n",
       "      <td>...</td>\n",
       "      <td>1.964</td>\n",
       "      <td>6</td>\n",
       "      <td>2,7-Naphthalenedisulfonic acid</td>\n",
       "      <td>OS(=O)(=O)c1ccc2ccc(cc2c1)S(O)(=O)=O</td>\n",
       "      <td>InChI=1S/C10H8O6S2/c11-17(12,13)9-3-1-7-2-4-10...</td>\n",
       "      <td>VILFVXYKHXVYAB-UHFFFAOYSA-N</td>\n",
       "      <td>60073</td>\n",
       "      <td>66707</td>\n",
       "      <td>Challenge-002.csv</td>\n",
       "      <td>[c1cc2c(cccc2S(=O)(=O)O)c(c1)S(=O)(=O)O, c1cc2...</td>\n",
       "    </tr>\n",
       "    <tr>\n",
       "      <th>2</th>\n",
       "      <td>223.0071</td>\n",
       "      <td>142.26</td>\n",
       "      <td>1+</td>\n",
       "      <td>Scan Number: 1</td>\n",
       "      <td>1</td>\n",
       "      <td>{'mz': [143.0502, 158.0374, 159.0451, 221.9993...</td>\n",
       "      <td>Challenge-003.mgf</td>\n",
       "      <td>[M-H]-</td>\n",
       "      <td>XX833051</td>\n",
       "      <td>Challenge-003</td>\n",
       "      <td>...</td>\n",
       "      <td>2.371</td>\n",
       "      <td>5</td>\n",
       "      <td>1-Naphthol-5-sulfonic acid</td>\n",
       "      <td>OC1=CC=CC2=C(C=CC=C12)S(O)(=O)=O</td>\n",
       "      <td>InChI=1S/C10H8O4S/c11-9-5-1-4-8-7(9)3-2-6-10(8...</td>\n",
       "      <td>YLKCHWCYYNKADS-UHFFFAOYSA-N</td>\n",
       "      <td>60378</td>\n",
       "      <td>67025</td>\n",
       "      <td>Challenge-003.csv</td>\n",
       "      <td>[c1ccc2c(c1)c(ccc2S(=O)(=O)O)O, c1cc(cc2c1ccc(...</td>\n",
       "    </tr>\n",
       "    <tr>\n",
       "      <th>3</th>\n",
       "      <td>189.9468</td>\n",
       "      <td>142.74</td>\n",
       "      <td>1+</td>\n",
       "      <td>Scan Number: 1</td>\n",
       "      <td>1</td>\n",
       "      <td>{'mz': [145.957, 189.9467], 'intensity': [5024...</td>\n",
       "      <td>Challenge-004.mgf</td>\n",
       "      <td>[M-H]-</td>\n",
       "      <td>XX845151</td>\n",
       "      <td>Challenge-004</td>\n",
       "      <td>...</td>\n",
       "      <td>2.379</td>\n",
       "      <td>2</td>\n",
       "      <td>Clopyralid</td>\n",
       "      <td>OC(=O)c1nc(Cl)ccc1Cl</td>\n",
       "      <td>InChI=1S/C6H3Cl2NO2/c7-3-1-2-4(8)9-5(3)6(10)11...</td>\n",
       "      <td>HUBANNPOLNYSAD-UHFFFAOYSA-N</td>\n",
       "      <td>14797</td>\n",
       "      <td>15553</td>\n",
       "      <td>Challenge-004.csv</td>\n",
       "      <td>[c1cc(c(c(c1)Cl)[N+](=O)[O-])Cl, c1c(cc(cc1Cl)...</td>\n",
       "    </tr>\n",
       "    <tr>\n",
       "      <th>4</th>\n",
       "      <td>276.0309</td>\n",
       "      <td>222.3</td>\n",
       "      <td>1+</td>\n",
       "      <td>Scan Number: 1</td>\n",
       "      <td>1</td>\n",
       "      <td>{'mz': [134.0232, 138.9843, 144.0315, 158.003,...</td>\n",
       "      <td>Challenge-005.mgf</td>\n",
       "      <td>[M-H]-</td>\n",
       "      <td>XX832851</td>\n",
       "      <td>Challenge-005</td>\n",
       "      <td>...</td>\n",
       "      <td>3.705</td>\n",
       "      <td>7</td>\n",
       "      <td>Azathioprine</td>\n",
       "      <td>CN1C=NC(=C1SC1=C2NC=NC2=NC=N1)[N+]([O-])=O</td>\n",
       "      <td>InChI=1S/C9H7N7O2S/c1-15-4-14-7(16(17)18)9(15)...</td>\n",
       "      <td>LMEKQMALGUDUQG-UHFFFAOYSA-N</td>\n",
       "      <td>2178</td>\n",
       "      <td>2265</td>\n",
       "      <td>Challenge-005.csv</td>\n",
       "      <td>[Cn1cnc(c1Sc2c3c(nc[nH]3)ncn2)[N+](=O)[O-], c1...</td>\n",
       "    </tr>\n",
       "  </tbody>\n",
       "</table>\n",
       "<p>5 rows × 22 columns</p>\n",
       "</div>"
      ],
      "text/plain": [
       "    PEPMASS RTINSECONDS CHARGE           TITLE SCANS  \\\n",
       "0   222.023       48.18     1+  Scan Number: 1     1   \n",
       "1   286.969      117.84     1+  Scan Number: 1     1   \n",
       "2  223.0071      142.26     1+  Scan Number: 1     1   \n",
       "3  189.9468      142.74     1+  Scan Number: 1     1   \n",
       "4  276.0309       222.3     1+  Scan Number: 1     1   \n",
       "\n",
       "                                               peaks               FILE  \\\n",
       "0  {'mz': [107.0491, 131.0502, 157.0533, 158.0611...  Challenge-001.mgf   \n",
       "1  {'mz': [143.0503, 159.0455, 206.0044, 207.0122...  Challenge-002.mgf   \n",
       "2  {'mz': [143.0502, 158.0374, 159.0451, 221.9993...  Challenge-003.mgf   \n",
       "3  {'mz': [145.957, 189.9467], 'intensity': [5024...  Challenge-004.mgf   \n",
       "4  {'mz': [134.0232, 138.9843, 144.0315, 158.003,...  Challenge-005.mgf   \n",
       "\n",
       "  Precursor_type SourceFile  ChallengeName  ...     RT nPeaks  \\\n",
       "0         [M-H]-   XX834151  Challenge-001  ...  0.803      5   \n",
       "1         [M-H]-   XX867751  Challenge-002  ...  1.964      6   \n",
       "2         [M-H]-   XX833051  Challenge-003  ...  2.371      5   \n",
       "3         [M-H]-   XX845151  Challenge-004  ...  2.379      2   \n",
       "4         [M-H]-   XX832851  Challenge-005  ...  3.705      7   \n",
       "\n",
       "                                 NAME  \\\n",
       "0  5-Aminonaphthalene-2-sulfonic acid   \n",
       "1      2,7-Naphthalenedisulfonic acid   \n",
       "2          1-Naphthol-5-sulfonic acid   \n",
       "3                          Clopyralid   \n",
       "4                        Azathioprine   \n",
       "\n",
       "                                       SMILES  \\\n",
       "0            NC1=C2C=CC(=CC2=CC=C1)S(O)(=O)=O   \n",
       "1        OS(=O)(=O)c1ccc2ccc(cc2c1)S(O)(=O)=O   \n",
       "2            OC1=CC=CC2=C(C=CC=C12)S(O)(=O)=O   \n",
       "3                        OC(=O)c1nc(Cl)ccc1Cl   \n",
       "4  CN1C=NC(=C1SC1=C2NC=NC2=NC=N1)[N+]([O-])=O   \n",
       "\n",
       "                                               INCHI  \\\n",
       "0  InChI=1S/C10H9NO3S/c11-10-3-1-2-7-6-8(15(12,13...   \n",
       "1  InChI=1S/C10H8O6S2/c11-17(12,13)9-3-1-7-2-4-10...   \n",
       "2  InChI=1S/C10H8O4S/c11-9-5-1-4-8-7(9)3-2-6-10(8...   \n",
       "3  InChI=1S/C6H3Cl2NO2/c7-3-1-2-4(8)9-5(3)6(10)11...   \n",
       "4  InChI=1S/C9H7N7O2S/c1-15-4-14-7(16(17)18)9(15)...   \n",
       "\n",
       "                      INCHIKEY   CSID PC_CID              cFILE  \\\n",
       "0  UWPJYQYRSWYIGZ-UHFFFAOYSA-N   8101   8408  Challenge-001.csv   \n",
       "1  VILFVXYKHXVYAB-UHFFFAOYSA-N  60073  66707  Challenge-002.csv   \n",
       "2  YLKCHWCYYNKADS-UHFFFAOYSA-N  60378  67025  Challenge-003.csv   \n",
       "3  HUBANNPOLNYSAD-UHFFFAOYSA-N  14797  15553  Challenge-004.csv   \n",
       "4  LMEKQMALGUDUQG-UHFFFAOYSA-N   2178   2265  Challenge-005.csv   \n",
       "\n",
       "                                          Candidates  \n",
       "0  [c1ccc2c(c1)ccc(c2N)S(=O)(=O)O, c1ccc2c(c1)ccc...  \n",
       "1  [c1cc2c(cccc2S(=O)(=O)O)c(c1)S(=O)(=O)O, c1cc2...  \n",
       "2  [c1ccc2c(c1)c(ccc2S(=O)(=O)O)O, c1cc(cc2c1ccc(...  \n",
       "3  [c1cc(c(c(c1)Cl)[N+](=O)[O-])Cl, c1c(cc(cc1Cl)...  \n",
       "4  [Cn1cnc(c1Sc2c3c(nc[nH]3)ncn2)[N+](=O)[O-], c1...  \n",
       "\n",
       "[5 rows x 22 columns]"
      ]
     },
     "execution_count": 9,
     "metadata": {},
     "output_type": "execute_result"
    }
   ],
   "source": [
    "df.head()"
   ]
  },
  {
   "cell_type": "code",
   "execution_count": null,
   "metadata": {},
   "outputs": [],
   "source": [
    "# prepare output for ICEBERG and SCARF\n",
    "from rdkit import Chem\n",
    "from rdkit.Chem import rdMolDescriptors\n",
    "\n",
    "df[\"MOL\"] = df[\"SMILES\"].apply(Chem.MolFromSmiles)\n",
    "df[\"formula\"] = df[\"MOL\"].apply(rdMolDescriptors.CalcMolFormula)\n",
    "df[\"dataset\"] = \"CASMI16\"\n",
    "df = df.rename(columns={\"FILE\": \"spec\", \"ChallengeName\": \"name\", \"Precursor_type\": \"ionization\", \"SMILES\": \"smiles\", \"INCHIKEY\": \"inchikey\"})"
   ]
  },
  {
   "cell_type": "code",
   "execution_count": null,
   "metadata": {},
   "outputs": [],
   "source": [
    "save_df = False\n",
    "if save_df:\n",
    "    output_file = f\"{home}/data/metabolites/ms-pred/casmi16_labels.tsv\"\n",
    "    df[[\"dataset\", \"spec\", \"name\", \"formula\", \"ionization\",\t\"smiles\", \"inchikey\"]].to_csv(output_file, index=False, sep=\"\\t\")\n",
    "    output_file = f\"{home}/data/metabolites/ms-pred/casmi16_positive_labels.tsv\"\n",
    "    df[df[\"ionization\"] == \"[M+H]+\"][[\"dataset\", \"spec\", \"name\", \"formula\", \"ionization\",\t\"smiles\", \"inchikey\"]].to_csv(output_file, index=False, sep=\"\\t\")"
   ]
  },
  {
   "attachments": {},
   "cell_type": "markdown",
   "metadata": {},
   "source": [
    "### Stats\n"
   ]
  },
  {
   "attachments": {},
   "cell_type": "markdown",
   "metadata": {},
   "source": [
    "Compute graph features"
   ]
  },
  {
   "cell_type": "code",
   "execution_count": null,
   "metadata": {},
   "outputs": [],
   "source": [
    "%%capture\n",
    "from modules.MOL.Metabolite import Metabolite\n",
    "from modules.GNN.AtomFeatureEncoder import AtomFeatureEncoder\n",
    "from modules.GNN.BondFeatureEncoder import BondFeatureEncoder\n",
    "from modules.GNN.SetupFeatureEncoder import SetupFeatureEncoder\n",
    "\n",
    "df[\"Metabolite\"] = df[\"SMILES\"].apply(Metabolite)\n",
    "df[\"Metabolite\"].apply(lambda x: x.create_molecular_structure_graph())\n",
    "\n",
    "node_encoder = AtomFeatureEncoder(feature_list=[\"symbol\", \"num_hydrogen\", \"ring_type\"])\n",
    "bond_encoder = BondFeatureEncoder(feature_list=[\"bond_type\", \"ring_type\"])\n",
    "setup_encoder = SetupFeatureEncoder(feature_list=[\"collision_energy\", \"molecular_weight\"])\n",
    "df[\"Metabolite\"].apply(lambda x: x.compute_graph_attributes(node_encoder, bond_encoder))\n",
    "\n",
    "\n",
    "df[\"CE\"] = 35.0 # 20/35/50\n",
    "df[\"Instrument_type\"] = \"HCD\"\n",
    "df[\"Ionization\"] = \"ESI-MS/MS\"\n",
    "metadata_key_map = {\"collision_energy\":  \"CE\", \n",
    "                 \"instrument\": \"Instrument_type\",\n",
    "                 \"ionization\": \"Ionization\",\n",
    "                 #\"precursor_mz\": \"PrecursorMZ\"\n",
    "                 }\n",
    "df[\"summary\"] = df.apply(lambda x: {key: x[name] for key, name in metadata_key_map.items()}, axis=1)\n",
    "df.apply(lambda x: x[\"Metabolite\"].add_metadata(x[\"summary\"], setup_encoder=None), axis=1)"
   ]
  },
  {
   "cell_type": "code",
   "execution_count": null,
   "metadata": {},
   "outputs": [
    {
     "name": "stdout",
     "output_type": "stream",
     "text": [
      "Assigning unique metabolite identifiers.\n",
      "Found 188 unique molecular structures.\n"
     ]
    }
   ],
   "source": [
    "print(\"Assigning unique metabolite identifiers.\")\n",
    "\n",
    "metabolite_id_map = {}\n",
    "\n",
    "for metabolite in df[\"Metabolite\"]:\n",
    "    is_new = True\n",
    "    for id, other in metabolite_id_map.items():\n",
    "        if metabolite == other:\n",
    "            metabolite.id = id\n",
    "            is_new = False\n",
    "            break\n",
    "    if is_new:\n",
    "        new_id = len(metabolite_id_map)\n",
    "        metabolite.id = new_id\n",
    "        metabolite_id_map[new_id] = metabolite\n",
    "        \n",
    "print(f\"Found {len(metabolite_id_map)} unique molecular structures.\")"
   ]
  },
  {
   "cell_type": "code",
   "execution_count": null,
   "metadata": {},
   "outputs": [
    {
     "data": {
      "image/png": "[encoded data removed]",
      "text/plain": [
       "<Figure size 576x288 with 2 Axes>"
      ]
     },
     "metadata": {},
     "output_type": "display_data"
    }
   ],
   "source": [
    "from modules.MOL.mol_graph import draw_graph\n",
    "from modules.visualization.define_colors import *\n",
    "import matplotlib.pyplot as plt\n",
    "\n",
    "EXAMPLE_ID = 0\n",
    "example = df.loc[EXAMPLE_ID]\n",
    "m = example[\"Metabolite\"]\n",
    "\n",
    "fig, axs = plt.subplots(1, 2, figsize=(8, 4), gridspec_kw={'width_ratios': [1, 1]}, sharey=False)\n",
    "set_light_theme()\n",
    "\n",
    "img = m.draw(ax=axs[0])\n",
    "draw_graph(m.Graph, ax=axs[1])"
   ]
  },
  {
   "cell_type": "code",
   "execution_count": null,
   "metadata": {},
   "outputs": [
    {
     "data": {
      "image/png": "[encoded data removed]",
      "text/plain": [
       "<Figure size 576x288 with 4 Axes>"
      ]
     },
     "metadata": {},
     "output_type": "display_data"
    },
    {
     "data": {
      "image/png": "[encoded data removed]",
      "text/plain": [
       "<Figure size 576x288 with 4 Axes>"
      ]
     },
     "metadata": {},
     "output_type": "display_data"
    },
    {
     "data": {
      "image/png": "[encoded data removed]",
      "text/plain": [
       "<Figure size 576x288 with 4 Axes>"
      ]
     },
     "metadata": {},
     "output_type": "display_data"
    },
    {
     "data": {
      "image/png": "[encoded data removed]",
      "text/plain": [
       "<Figure size 576x288 with 4 Axes>"
      ]
     },
     "metadata": {},
     "output_type": "display_data"
    }
   ],
   "source": [
    "from modules.MOL.mol_graph import draw_graph\n",
    "from modules.visualization.define_colors import *\n",
    "import matplotlib.pyplot as plt\n",
    "\n",
    "\n",
    "EXAMPLE_ID = 0\n",
    "example = df.loc[EXAMPLE_ID]\n",
    "m = example[\"Metabolite\"]\n",
    "\n",
    "fig, axs = plt.subplots(1, 4, figsize=(8, 4), gridspec_kw={'width_ratios': [1, 1,1,1]}, sharey=False)\n",
    "set_light_theme()\n",
    "\n",
    "img = m.draw(ax=axs[0])\n",
    "m2 = df.loc[EXAMPLE_ID + 2][\"Metabolite\"]\n",
    "img = m2.draw(ax=axs[1])\n",
    "img = df.loc[EXAMPLE_ID + 1][\"Metabolite\"].draw(ax=axs[2])\n",
    "img = df.loc[EXAMPLE_ID + 3][\"Metabolite\"].draw(ax=axs[3])\n",
    "plt.show()\n",
    "\n",
    "\n",
    "EXAMPLE_ID = 60\n",
    "example = df.loc[EXAMPLE_ID]\n",
    "m = example[\"Metabolite\"]\n",
    "\n",
    "fig, axs = plt.subplots(1, 4, figsize=(8, 4), gridspec_kw={'width_ratios': [1, 1,1,1]}, sharey=False)\n",
    "set_light_theme()\n",
    "\n",
    "img = m.draw(ax=axs[0])\n",
    "m2 = df.loc[EXAMPLE_ID + 2][\"Metabolite\"]\n",
    "img = m2.draw(ax=axs[1])\n",
    "img = df.loc[EXAMPLE_ID + 1][\"Metabolite\"].draw(ax=axs[2])\n",
    "img = df.loc[EXAMPLE_ID + 3][\"Metabolite\"].draw(ax=axs[3])\n",
    "plt.show()\n",
    "\n",
    "EXAMPLE_ID = 200\n",
    "example = df.loc[EXAMPLE_ID]\n",
    "m = example[\"Metabolite\"]\n",
    "\n",
    "fig, axs = plt.subplots(1, 4, figsize=(8, 4), gridspec_kw={'width_ratios': [1, 1,1,1]}, sharey=False)\n",
    "set_light_theme()\n",
    "\n",
    "img = m.draw(ax=axs[0])\n",
    "m2 = df.loc[EXAMPLE_ID + 2][\"Metabolite\"]\n",
    "img = m2.draw(ax=axs[1])\n",
    "img = df.loc[EXAMPLE_ID + 1][\"Metabolite\"].draw(ax=axs[2])\n",
    "img = df.loc[EXAMPLE_ID + 3][\"Metabolite\"].draw(ax=axs[3])\n",
    "plt.show()\n",
    "\n",
    "EXAMPLE_ID = 120\n",
    "example = df.loc[EXAMPLE_ID]\n",
    "m = example[\"Metabolite\"]\n",
    "\n",
    "fig, axs = plt.subplots(1, 4, figsize=(8, 4), gridspec_kw={'width_ratios': [1, 1,1,1]}, sharey=False)\n",
    "set_light_theme()\n",
    "\n",
    "img = m.draw(ax=axs[0])\n",
    "m2 = df.loc[EXAMPLE_ID + 2][\"Metabolite\"]\n",
    "img = m2.draw(ax=axs[1])\n",
    "img = df.loc[EXAMPLE_ID + 1][\"Metabolite\"].draw(ax=axs[2])\n",
    "img = df.loc[EXAMPLE_ID + 3][\"Metabolite\"].draw(ax=axs[3])\n",
    "plt.show()"
   ]
  },
  {
   "attachments": {},
   "cell_type": "markdown",
   "metadata": {},
   "source": [
    "#### Bond Features"
   ]
  },
  {
   "cell_type": "code",
   "execution_count": null,
   "metadata": {},
   "outputs": [
    {
     "name": "stdout",
     "output_type": "stream",
     "text": [
      "{'AROMATIC': 2388, 'DOUBLE': 402, 'SINGLE': 2822, 'TRIPLE': 10}\n",
      "[2388, 402, 2822, 10]\n"
     ]
    },
    {
     "data": {
      "image/png": "[encoded data removed]",
      "text/plain": [
       "<Figure size 921.6x460.8 with 2 Axes>"
      ]
     },
     "metadata": {},
     "output_type": "display_data"
    }
   ],
   "source": [
    "color_palette = define_figure_style(\"magma_white\")\n",
    "\n",
    "\n",
    "fig, axs = plt.subplots(1, 2, figsize=(12.8, 6.4), sharey=False)\n",
    "\n",
    "edges_bond_types =  [item for items in list(df[\"Metabolite\"].apply(lambda x: getattr(x, \"edge_bond_names\"))) for item in items]\n",
    "bond_types = {bond: edges_bond_types.count(bond) for bond in np.unique(edges_bond_types)}\n",
    "print(bond_types)\n",
    "print(list(bond_types.values()))\n",
    "\n",
    "sns.barplot(ax=axs[0], x=list(bond_types.keys()), y=list(bond_types.values()), palette=color_palette, edgecolor=\"black\", linewidth=1.5)\n",
    "_,labels,autotexts = axs[1].pie(list(bond_types.values()), labels=list(bond_types.keys()), colors=color_palette, wedgeprops={\"edgecolor\": \"black\", \"linewidth\": 1.5}, autopct='%1.0f%%')\n",
    "\n",
    "for i in range(len(labels)):\n",
    "    if labels[i].get_text() == \"TRIPLE\":\n",
    "        autotexts[i].remove()\n",
    "plt.show()"
   ]
  },
  {
   "attachments": {},
   "cell_type": "markdown",
   "metadata": {},
   "source": [
    "#### Atom Features"
   ]
  },
  {
   "cell_type": "code",
   "execution_count": null,
   "metadata": {},
   "outputs": [
    {
     "data": {
      "image/png": "[encoded data removed]",
      "text/plain": [
       "<Figure size 921.6x460.8 with 2 Axes>"
      ]
     },
     "metadata": {},
     "output_type": "display_data"
    },
    {
     "name": "stdout",
     "output_type": "stream",
     "text": [
      "{'Br': 4, 'C': 1981, 'Cl': 40, 'F': 19, 'N': 216, 'O': 318, 'P': 12, 'S': 39}\n",
      "With 95.7% CNO\n"
     ]
    }
   ],
   "source": [
    "from modules.visualization.define_colors import define_figure_style\n",
    "color_palette = define_figure_style(\"magma_white\")\n",
    "\n",
    "\n",
    "elems = [e for mol in list(df[\"Metabolite\"].apply(lambda x: getattr(x, \"node_elements\")).values) for e in mol]\n",
    "elem_types = {e: elems.count(e) for e in np.unique(elems)}\n",
    "\n",
    "fig, axs = plt.subplots(1, 2, figsize=(12.8, 6.4), sharey=False)\n",
    "sns.barplot(ax=axs[0], x=list(elem_types.keys()), y=list(elem_types.values()), palette=color_palette, edgecolor=\"black\", linewidth=1.5)\n",
    "_,labels,autotexts = axs[1].pie(list(elem_types.values()), colors=color_palette, wedgeprops={\"edgecolor\": \"black\", \"linewidth\": 1.5}, autopct='%1.0f%%')\n",
    "\n",
    "axs[1].legend(list(elem_types.keys()))\n",
    "plt.show()\n",
    "print(elem_types)\n",
    "cno = (elem_types[\"C\"]+elem_types[\"O\"]+elem_types[\"N\"])*100 / sum(elem_types.values())\n",
    "print(f\"With {cno:.01f}% CNO\")"
   ]
  },
  {
   "cell_type": "code",
   "execution_count": null,
   "metadata": {},
   "outputs": [
    {
     "data": {
      "image/png": "[encoded data removed]",
      "text/plain": [
       "<Figure size 921.6x460.8 with 2 Axes>"
      ]
     },
     "metadata": {},
     "output_type": "display_data"
    },
    {
     "name": "stdout",
     "output_type": "stream",
     "text": [
      "{0: 1129, 1: 874, 2: 417, 3: 209}\n"
     ]
    }
   ],
   "source": [
    "elems = [e for mol in list(df[\"Metabolite\"].apply(lambda x: [a.GetTotalNumHs() for a in getattr(x, \"atoms_in_order\")]).values) for e in mol]\n",
    "elem_types = {e: elems.count(e) for e in np.unique(elems)}\n",
    "\n",
    "fig, axs = plt.subplots(1, 2, figsize=(12.8, 6.4), sharey=False)\n",
    "sns.barplot(ax=axs[0], x=list(elem_types.keys()), y=list(elem_types.values()), palette=color_palette, edgecolor=\"black\", linewidth=1.5)\n",
    "_,labels,autotexts = axs[1].pie(list(elem_types.values()), colors=color_palette, labels=list(elem_types.keys()), wedgeprops={\"edgecolor\": \"black\", \"linewidth\": 1.5}, autopct='%1.0f%%')\n",
    "\n",
    "axs[1].legend(list(elem_types.keys()))\n",
    "plt.title(\"Number of bonded hydrogens\")\n",
    "plt.show()\n",
    "print(elem_types)"
   ]
  },
  {
   "cell_type": "code",
   "execution_count": null,
   "metadata": {},
   "outputs": [
    {
     "data": {
      "image/png": "[encoded data removed]",
      "text/plain": [
       "<Figure size 921.6x460.8 with 1 Axes>"
      ]
     },
     "metadata": {},
     "output_type": "display_data"
    }
   ],
   "source": [
    "fig, ax = plt.subplots(1, 1, figsize=(12.8, 6.4))\n",
    "\n",
    "d = {\"collision_energy\": df[\"Metabolite\"].apply(lambda x: x.metadata[\"collision_energy\"])}\n",
    "\n",
    "sns.histplot(ax=ax, data=d, x='collision_energy', color=\"blue\", fill=True, binwidth=2, edgecolor=\"black\", binrange=[0, 200])#, order=list(range(0,200)))\n",
    "plt.rcParams[\"patch.force_edgecolor\"] = True\n",
    "plt.rcParams['axes.edgecolor'] = 'black'\n",
    "plt.show()"
   ]
  },
  {
   "cell_type": "code",
   "execution_count": null,
   "metadata": {},
   "outputs": [
    {
     "data": {
      "image/png": "[encoded data removed]",
      "text/plain": [
       "<Figure size 921.6x460.8 with 1 Axes>"
      ]
     },
     "metadata": {},
     "output_type": "display_data"
    }
   ],
   "source": [
    "fig, ax = plt.subplots(1, 1, figsize=(12.8, 6.4))\n",
    "\n",
    "d = {\"molecular_weight\": df[\"Metabolite\"].apply(lambda x: x.metadata[\"molecular_weight\"])}\n",
    "\n",
    "sns.histplot(ax=ax, data=d, x='molecular_weight', color=color_palette[3], fill=True, binwidth=2, edgecolor=\"black\", binrange=[0, 1000])#, order=list(range(0,200)))\n",
    "plt.rcParams[\"patch.force_edgecolor\"] = True\n",
    "plt.rcParams['axes.edgecolor'] = 'black'\n",
    "plt.show()"
   ]
  },
  {
   "attachments": {},
   "cell_type": "markdown",
   "metadata": {},
   "source": [
    "#### Peak annotations\n"
   ]
  },
  {
   "cell_type": "code",
   "execution_count": null,
   "metadata": {},
   "outputs": [],
   "source": [
    "%%capture\n",
    "from modules.MOL.constants import PPM\n",
    "df[\"Metabolite\"].apply(lambda x: x.fragment_MOL(depth=1))\n",
    "df.apply(lambda x: x[\"Metabolite\"].match_fragments_to_peaks(x[\"peaks\"][\"mz\"], x[\"peaks\"][\"intensity\"], tolerance=100 *PPM), axis=1)"
   ]
  },
  {
   "cell_type": "code",
   "execution_count": null,
   "metadata": {},
   "outputs": [],
   "source": [
    "d100 = pd.DataFrame({\"num_peak_matches\": df[\"Metabolite\"].apply(lambda x: x.match_stats[\"num_peak_matches\"]),\n",
    "     \"num_non_precursor_matches\": df[\"Metabolite\"].apply(lambda x: x.match_stats[\"num_non_precursor_matches\"]),\n",
    "     \"num_peak_match_conflicts\": df[\"Metabolite\"].apply(lambda x: x.match_stats[\"num_peak_match_conflicts\"]),\n",
    "     \"group\": \"100 PPM\"})\n"
   ]
  },
  {
   "cell_type": "code",
   "execution_count": null,
   "metadata": {},
   "outputs": [
    {
     "data": {
      "image/png": "[encoded data removed]",
      "text/plain": [
       "<Figure size 921.6x302.4 with 3 Axes>"
      ]
     },
     "metadata": {},
     "output_type": "display_data"
    },
    {
     "name": "stdout",
     "output_type": "stream",
     "text": [
      "Filtering would drop 20 out of 127\n"
     ]
    }
   ],
   "source": [
    "# TODO Implement conflict solver\n",
    "\n",
    "coverage_tracker = {\"counts\": [], \"all\": [], \"coverage\": [], \"fragment_only_coverage\": []}\n",
    "\n",
    "drop_index = []\n",
    "for i,d in df.iterrows():\n",
    "    M = d[\"Metabolite\"]\n",
    "    \n",
    "    \n",
    "    coverage_tracker[\"counts\"] += [M.match_stats[\"counts\"]]\n",
    "    coverage_tracker[\"all\"] += [M.match_stats[\"ms_all_counts\"]]\n",
    "    coverage_tracker[\"fragment_only_coverage\"] += [M.match_stats[\"coverage_wo_prec\"]]\n",
    "    coverage_tracker[\"coverage\"] += [M.match_stats[\"coverage\"]]\n",
    "    \n",
    "    #if M.edge_break_prob_wo_precursor.sum() <= 0.01:\n",
    "    #    drop_index.append(i)\n",
    "    #if M.edge_break_prob.sum() < 0.05: # TODO\n",
    "    #    drop_index.append(i)\n",
    "    \n",
    "    if M.match_stats[\"coverage\"] < 0.25: # Filter if total coverage is too low\n",
    "        drop_index.append(i)\n",
    "    #if M.match_stats[\"coverage_wo_prec\"] < 0.1: # Filter if fragment coverage is too low (intensity wise)\n",
    "    #    drop_index.append(i)\n",
    "    \n",
    "# filter low res instruments TODO update to low quality spectra\n",
    "is_iontrap = df[\"Metabolite\"].apply(lambda x: x.metadata[\"instrument\"] == \"IT/ion trap\")\n",
    "drop_index += list(df[is_iontrap].index)\n",
    "\n",
    "fig, axs = plt.subplots(1, 3, figsize=(12.8, 4.2), sharey=True)\n",
    "\n",
    "plt.ylim([-.02,1.02])\n",
    "sns.boxplot(ax=axs[0], data=coverage_tracker, y=\"fragment_only_coverage\", color=color_palette[1])\n",
    "sns.boxplot(ax=axs[1], data=coverage_tracker, y=\"coverage\", color=color_palette[2])\n",
    "sns.swarmplot(ax=axs[2], data=coverage_tracker, y=\"coverage\", color=color_palette[2])\n",
    "axs[0].set_title(\"Coverage of peak intensity (fragments only)\")\n",
    "axs[1].set_title(\"Coverage of peak intensity\")\n",
    "axs[2].set_title(\"Coverage of peak intensity\")\n",
    "plt.show()\n",
    "\n",
    "print(f\"Filtering would drop {len(drop_index)} out of {df.shape[0]}\")\n"
   ]
  },
  {
   "cell_type": "code",
   "execution_count": null,
   "metadata": {},
   "outputs": [],
   "source": []
  },
  {
   "attachments": {},
   "cell_type": "markdown",
   "metadata": {},
   "source": [
    "Load CFM-ID TEST"
   ]
  },
  {
   "cell_type": "code",
   "execution_count": null,
   "metadata": {},
   "outputs": [
    {
     "data": {
      "text/html": [
       "<div>\n",
       "<style scoped>\n",
       "    .dataframe tbody tr th:only-of-type {\n",
       "        vertical-align: middle;\n",
       "    }\n",
       "\n",
       "    .dataframe tbody tr th {\n",
       "        vertical-align: top;\n",
       "    }\n",
       "\n",
       "    .dataframe thead th {\n",
       "        text-align: right;\n",
       "    }\n",
       "</style>\n",
       "<table border=\"1\" class=\"dataframe\">\n",
       "  <thead>\n",
       "    <tr style=\"text-align: right;\">\n",
       "      <th></th>\n",
       "      <th>#ID</th>\n",
       "      <th>#SMILES</th>\n",
       "      <th>#InChiKey</th>\n",
       "      <th>#Formula</th>\n",
       "      <th>#PMass</th>\n",
       "      <th>peaks10</th>\n",
       "      <th>peaks20</th>\n",
       "      <th>peaks40</th>\n",
       "      <th>14 110.0461215481 N#CN</th>\n",
       "      <th>18 127.0726706441 NC1</th>\n",
       "      <th>...</th>\n",
       "      <th>221 454.3527000561 C#CC</th>\n",
       "      <th>224 451.3781865321 C#CC</th>\n",
       "      <th>232 466.3890855641 C#CC</th>\n",
       "      <th>237 450.3941709441 C#CC</th>\n",
       "      <th>239 468.4047356281 C#CC</th>\n",
       "      <th>240 468.4047356281 C#CC</th>\n",
       "      <th>243 478.3890855641 C#CC#CC</th>\n",
       "      <th>244 478.3890855641 C#CC#CC</th>\n",
       "      <th>249 350.2689704321 C#CC#CC</th>\n",
       "      <th>266 468.4047356281 C#CC</th>\n",
       "    </tr>\n",
       "  </thead>\n",
       "  <tbody>\n",
       "    <tr>\n",
       "      <th>0</th>\n",
       "      <td>ID=Challenge-082</td>\n",
       "      <td>SMILES=NC1=NC(NC2CC2)=NC(N)=N1</td>\n",
       "      <td>InChiKey=LVQDKIWDGQRHTE-UHFFFAOYSA-N</td>\n",
       "      <td>Formula=C6H10N6</td>\n",
       "      <td>PMass=167.10397</td>\n",
       "      <td>{'mz': [127.07267, 167.10397], 'intensity': [1...</td>\n",
       "      <td>{'mz': [127.07267, 167.10397], 'intensity': [4...</td>\n",
       "      <td>{'mz': [43.02907, 68.02432, 110.04612], 'inten...</td>\n",
       "      <td>4 110.0461215481 N#CN=C=NC(N)=[NH2+]</td>\n",
       "      <td>8 127.0726706441 NC1=NC(=[NH2+])NC(N)=N1</td>\n",
       "      <td>...</td>\n",
       "      <td>NaN</td>\n",
       "      <td>NaN</td>\n",
       "      <td>NaN</td>\n",
       "      <td>NaN</td>\n",
       "      <td>NaN</td>\n",
       "      <td>NaN</td>\n",
       "      <td>NaN</td>\n",
       "      <td>NaN</td>\n",
       "      <td>NaN</td>\n",
       "      <td>NaN</td>\n",
       "    </tr>\n",
       "    <tr>\n",
       "      <th>1</th>\n",
       "      <td>ID=Challenge-083</td>\n",
       "      <td>SMILES=CN(C)C1=CC=NC=C1</td>\n",
       "      <td>InChiKey=VHYFNPMBLIVWCW-UHFFFAOYSA-N</td>\n",
       "      <td>Formula=C7H10N2</td>\n",
       "      <td>PMass=123.09167</td>\n",
       "      <td>{'mz': [121.07602, 123.09167], 'intensity': [2...</td>\n",
       "      <td>{'mz': [70.06513, 94.06513, 96.08078, 106.0651...</td>\n",
       "      <td>{'mz': [51.02293, 66.03383, 68.04948, 70.06513...</td>\n",
       "      <td>NaN</td>\n",
       "      <td>NaN</td>\n",
       "      <td>...</td>\n",
       "      <td>NaN</td>\n",
       "      <td>NaN</td>\n",
       "      <td>NaN</td>\n",
       "      <td>NaN</td>\n",
       "      <td>NaN</td>\n",
       "      <td>NaN</td>\n",
       "      <td>NaN</td>\n",
       "      <td>NaN</td>\n",
       "      <td>NaN</td>\n",
       "      <td>NaN</td>\n",
       "    </tr>\n",
       "  </tbody>\n",
       "</table>\n",
       "<p>2 rows × 8593 columns</p>\n",
       "</div>"
      ],
      "text/plain": [
       "                #ID                         #SMILES  \\\n",
       "0  ID=Challenge-082  SMILES=NC1=NC(NC2CC2)=NC(N)=N1   \n",
       "1  ID=Challenge-083         SMILES=CN(C)C1=CC=NC=C1   \n",
       "\n",
       "                              #InChiKey         #Formula           #PMass  \\\n",
       "0  InChiKey=LVQDKIWDGQRHTE-UHFFFAOYSA-N  Formula=C6H10N6  PMass=167.10397   \n",
       "1  InChiKey=VHYFNPMBLIVWCW-UHFFFAOYSA-N  Formula=C7H10N2  PMass=123.09167   \n",
       "\n",
       "                                             peaks10  \\\n",
       "0  {'mz': [127.07267, 167.10397], 'intensity': [1...   \n",
       "1  {'mz': [121.07602, 123.09167], 'intensity': [2...   \n",
       "\n",
       "                                             peaks20  \\\n",
       "0  {'mz': [127.07267, 167.10397], 'intensity': [4...   \n",
       "1  {'mz': [70.06513, 94.06513, 96.08078, 106.0651...   \n",
       "\n",
       "                                             peaks40  \\\n",
       "0  {'mz': [43.02907, 68.02432, 110.04612], 'inten...   \n",
       "1  {'mz': [51.02293, 66.03383, 68.04948, 70.06513...   \n",
       "\n",
       "                 14 110.0461215481 N#CN  \\\n",
       "0  4 110.0461215481 N#CN=C=NC(N)=[NH2+]   \n",
       "1                                   NaN   \n",
       "\n",
       "                      18 127.0726706441 NC1  ... 221 454.3527000561 C#CC  \\\n",
       "0  8 127.0726706441 NC1=NC(=[NH2+])NC(N)=N1  ...                     NaN   \n",
       "1                                       NaN  ...                     NaN   \n",
       "\n",
       "  224 451.3781865321 C#CC 232 466.3890855641 C#CC 237 450.3941709441 C#CC  \\\n",
       "0                     NaN                     NaN                     NaN   \n",
       "1                     NaN                     NaN                     NaN   \n",
       "\n",
       "  239 468.4047356281 C#CC 240 468.4047356281 C#CC 243 478.3890855641 C#CC#CC  \\\n",
       "0                     NaN                     NaN                        NaN   \n",
       "1                     NaN                     NaN                        NaN   \n",
       "\n",
       "  244 478.3890855641 C#CC#CC 249 350.2689704321 C#CC#CC  \\\n",
       "0                        NaN                        NaN   \n",
       "1                        NaN                        NaN   \n",
       "\n",
       "  266 468.4047356281 C#CC  \n",
       "0                     NaN  \n",
       "1                     NaN  \n",
       "\n",
       "[2 rows x 8593 columns]"
      ]
     },
     "execution_count": 26,
     "metadata": {},
     "output_type": "execute_result"
    }
   ],
   "source": [
    "import modules.IO.cfmReader as cfmReader\n",
    "# time CFM-ID 4: -> 12m16,571s\n",
    "\n",
    "cf = cfmReader.read(f\"{home}/data/metabolites/cfm-id/casmi16_positive_predictions.txt\", as_df=True)\n",
    "cf.head(2)"
   ]
  },
  {
   "cell_type": "markdown",
   "metadata": {},
   "source": [
    "### CASMI TRAINING DATA"
   ]
  },
  {
   "cell_type": "code",
   "execution_count": 9,
   "metadata": {},
   "outputs": [
    {
     "name": "stdout",
     "output_type": "stream",
     "text": [
      "Training-001.mgf  Training-016.mgf  Training-031.mgf  Training-046.mgf\n",
      "Training-002.mgf  Training-017.mgf  Training-032.mgf  Training-047.mgf\n",
      "Training-003.mgf  Training-018.mgf  Training-033.mgf  Training-048.mgf\n",
      "Training-004.mgf  Training-019.mgf  Training-034.mgf  Training-049.mgf\n",
      "Training-005.mgf  Training-020.mgf  Training-035.mgf  Training-050.mgf\n",
      "Training-006.mgf  Training-021.mgf  Training-036.mgf  Training-051.mgf\n",
      "Training-007.mgf  Training-022.mgf  Training-037.mgf  Training-052.mgf\n",
      "Training-008.mgf  Training-023.mgf  Training-038.mgf  Training-053.mgf\n",
      "Training-009.mgf  Training-024.mgf  Training-039.mgf  Training-054.mgf\n",
      "Training-010.mgf  Training-025.mgf  Training-040.mgf  Training-055.mgf\n",
      "Training-011.mgf  Training-026.mgf  Training-041.mgf  Training-056.mgf\n",
      "Training-012.mgf  Training-027.mgf  Training-042.mgf  Training-057.mgf\n",
      "Training-013.mgf  Training-028.mgf  Training-043.mgf  Training-058.mgf\n",
      "Training-014.mgf  Training-029.mgf  Training-044.mgf\n",
      "Training-015.mgf  Training-030.mgf  Training-045.mgf\n"
     ]
    }
   ],
   "source": [
    "library_directory = f\"{home}/data/metabolites/CASMI_2016/CASMI2016_Cat2and3_Training_negative_mgf\"\n",
    "!ls $library_directory"
   ]
  },
  {
   "cell_type": "code",
   "execution_count": 10,
   "metadata": {},
   "outputs": [],
   "source": [
    "df = []\n",
    "\n",
    "for file in os.listdir(library_directory):\n",
    "    if file.endswith(\".mgf\"):\n",
    "        data = mgfReader.read(os.path.join(library_directory, file), sep=\"\\t\", debug=False)[0]\n",
    "        data['FILE'] = file\n",
    "        data['Precursor_type'] = \"[M-H]-\"\n",
    "        df += [data]\n",
    "\n",
    "library_directory = library_directory.replace(\"negative\", \"positive\")\n",
    "for file in os.listdir(library_directory):\n",
    "    if file.endswith(\".mgf\"):\n",
    "        data = mgfReader.read(os.path.join(library_directory, file), sep=\"\\t\")[0]\n",
    "        data['FILE'] = file\n",
    "        data['Precursor_type'] = \"[M+H]+\"\n",
    "        df += [data]\n",
    "\n",
    "df = pd.DataFrame(df)\n",
    "df[\"ChallengeName\"] = df[\"FILE\"].apply(lambda x: x.split(\".\")[0])"
   ]
  },
  {
   "cell_type": "code",
   "execution_count": 11,
   "metadata": {},
   "outputs": [
    {
     "data": {
      "text/html": [
       "<div>\n",
       "<style scoped>\n",
       "    .dataframe tbody tr th:only-of-type {\n",
       "        vertical-align: middle;\n",
       "    }\n",
       "\n",
       "    .dataframe tbody tr th {\n",
       "        vertical-align: top;\n",
       "    }\n",
       "\n",
       "    .dataframe thead th {\n",
       "        text-align: right;\n",
       "    }\n",
       "</style>\n",
       "<table border=\"1\" class=\"dataframe\">\n",
       "  <thead>\n",
       "    <tr style=\"text-align: right;\">\n",
       "      <th></th>\n",
       "      <th>SourceFile</th>\n",
       "      <th>ChallengeName</th>\n",
       "      <th>PRECURSOR_MZ</th>\n",
       "      <th>ION_MODE</th>\n",
       "      <th>RT</th>\n",
       "      <th>nPeaks</th>\n",
       "      <th>NAME</th>\n",
       "      <th>SMILES</th>\n",
       "      <th>INCHI</th>\n",
       "      <th>INCHIKEY</th>\n",
       "      <th>CSID</th>\n",
       "      <th>PC_CID</th>\n",
       "    </tr>\n",
       "  </thead>\n",
       "  <tbody>\n",
       "    <tr>\n",
       "      <th>0</th>\n",
       "      <td>XX834151</td>\n",
       "      <td>Challenge-001</td>\n",
       "      <td>222.023</td>\n",
       "      <td>NEGATIVE</td>\n",
       "      <td>0.803</td>\n",
       "      <td>5</td>\n",
       "      <td>5-Aminonaphthalene-2-sulfonic acid</td>\n",
       "      <td>NC1=C2C=CC(=CC2=CC=C1)S(O)(=O)=O</td>\n",
       "      <td>InChI=1S/C10H9NO3S/c11-10-3-1-2-7-6-8(15(12,13...</td>\n",
       "      <td>UWPJYQYRSWYIGZ-UHFFFAOYSA-N</td>\n",
       "      <td>8101</td>\n",
       "      <td>8408</td>\n",
       "    </tr>\n",
       "    <tr>\n",
       "      <th>1</th>\n",
       "      <td>XX867751</td>\n",
       "      <td>Challenge-002</td>\n",
       "      <td>286.969</td>\n",
       "      <td>NEGATIVE</td>\n",
       "      <td>1.964</td>\n",
       "      <td>6</td>\n",
       "      <td>2,7-Naphthalenedisulfonic acid</td>\n",
       "      <td>OS(=O)(=O)c1ccc2ccc(cc2c1)S(O)(=O)=O</td>\n",
       "      <td>InChI=1S/C10H8O6S2/c11-17(12,13)9-3-1-7-2-4-10...</td>\n",
       "      <td>VILFVXYKHXVYAB-UHFFFAOYSA-N</td>\n",
       "      <td>60073</td>\n",
       "      <td>66707</td>\n",
       "    </tr>\n",
       "  </tbody>\n",
       "</table>\n",
       "</div>"
      ],
      "text/plain": [
       "  SourceFile  ChallengeName  PRECURSOR_MZ   ION_MODE     RT  nPeaks  \\\n",
       "0   XX834151  Challenge-001       222.023   NEGATIVE  0.803       5   \n",
       "1   XX867751  Challenge-002       286.969   NEGATIVE  1.964       6   \n",
       "\n",
       "                                 NAME                                SMILES  \\\n",
       "0  5-Aminonaphthalene-2-sulfonic acid      NC1=C2C=CC(=CC2=CC=C1)S(O)(=O)=O   \n",
       "1      2,7-Naphthalenedisulfonic acid  OS(=O)(=O)c1ccc2ccc(cc2c1)S(O)(=O)=O   \n",
       "\n",
       "                                               INCHI  \\\n",
       "0  InChI=1S/C10H9NO3S/c11-10-3-1-2-7-6-8(15(12,13...   \n",
       "1  InChI=1S/C10H8O6S2/c11-17(12,13)9-3-1-7-2-4-10...   \n",
       "\n",
       "                      INCHIKEY   CSID  PC_CID  \n",
       "0  UWPJYQYRSWYIGZ-UHFFFAOYSA-N   8101    8408  \n",
       "1  VILFVXYKHXVYAB-UHFFFAOYSA-N  60073   66707  "
      ]
     },
     "execution_count": 11,
     "metadata": {},
     "output_type": "execute_result"
    }
   ],
   "source": [
    "solution.head(2)"
   ]
  },
  {
   "cell_type": "code",
   "execution_count": 12,
   "metadata": {},
   "outputs": [
    {
     "name": "stdout",
     "output_type": "stream",
     "text": [
      "0    OS(=O)(=O)C1=CC=C2N=C(NC2=C1)C1=CC=CC=C1\n",
      "1    OS(=O)(=O)C1=CC=C2N=C(NC2=C1)C1=CC=CC=C1\n",
      "Name: SMILES, dtype: object\n"
     ]
    }
   ],
   "source": [
    "solution = pd.read_csv(os.path.join(library_directory, \"..\", \"CASMI2016_Cat2and3_Training.csv\"))\n",
    "# solution = solution[solution[\"ION_MODE\"] == \" POSITIVE\"]\n",
    "# solution.reset_index(inplace=True, drop=True)\n",
    "#df = pd.concat([df, solution], axis=1)\n",
    "\n",
    "df = pd.merge(df, solution, left_on=\"ChallengeName\", right_on=\"challengename\")\n",
    "\n",
    "print(df[\"SMILES\"].head(2))"
   ]
  },
  {
   "cell_type": "code",
   "execution_count": null,
   "metadata": {},
   "outputs": [],
   "source": [
    "# from fiora.MOL.Metabolite import Metabolite\n",
    "# from fiora.MOL.constants import PPM\n",
    "\n",
    "\n",
    "# df[\"Metabolite\"] = df[\"SMILES\"].apply(Metabolite)\n",
    "# df[\"Metabolite\"].apply(lambda x: x.create_molecular_structure_graph())\n",
    "# df[\"Metabolite\"].apply(lambda x: x.compute_graph_attributes())\n",
    "# df[\"Metabolite\"].apply(lambda x: x.fragment_MOL(depth=1))\n",
    "# df.apply(lambda x: x[\"Metabolite\"].match_fragments_to_peaks(x[\"peaks\"][\"mz\"], x[\"peaks\"][\"intensity\"], tolerance=100 * PPM), axis=1)\n",
    "# df[\"coverage100PPM\"] = df[\"Metabolite\"].apply(lambda x: x.match_stats[\"coverage\"])"
   ]
  },
  {
   "cell_type": "code",
   "execution_count": 13,
   "metadata": {},
   "outputs": [
    {
     "ename": "KeyError",
     "evalue": "'Column not found: coverage100PPM'",
     "output_type": "error",
     "traceback": [
      "\u001b[0;31m---------------------------------------------------------------------------\u001b[0m",
      "\u001b[0;31mKeyError\u001b[0m                                  Traceback (most recent call last)",
      "Cell \u001b[0;32mIn[13], line 2\u001b[0m\n\u001b[1;32m      1\u001b[0m \u001b[39mimport\u001b[39;00m \u001b[39mseaborn\u001b[39;00m \u001b[39mas\u001b[39;00m \u001b[39msns\u001b[39;00m\n\u001b[0;32m----> 2\u001b[0m \u001b[39mprint\u001b[39m(df\u001b[39m.\u001b[39;49mgroupby(\u001b[39m\"\u001b[39;49m\u001b[39mPrecursor_type\u001b[39;49m\u001b[39m\"\u001b[39;49m)[\u001b[39m\"\u001b[39;49m\u001b[39mcoverage100PPM\u001b[39;49m\u001b[39m\"\u001b[39;49m]\u001b[39m.\u001b[39mmedian())\n\u001b[1;32m      3\u001b[0m sns\u001b[39m.\u001b[39mkdeplot(data\u001b[39m=\u001b[39mdf, x\u001b[39m=\u001b[39m\u001b[39m\"\u001b[39m\u001b[39mcoverage100PPM\u001b[39m\u001b[39m\"\u001b[39m, hue\u001b[39m=\u001b[39m\u001b[39m\"\u001b[39m\u001b[39mPrecursor_type\u001b[39m\u001b[39m\"\u001b[39m)\n",
      "File \u001b[0;32m~/miniforge3/envs/fiora/lib/python3.10/site-packages/pandas/core/groupby/generic.py:1964\u001b[0m, in \u001b[0;36mDataFrameGroupBy.__getitem__\u001b[0;34m(self, key)\u001b[0m\n\u001b[1;32m   1957\u001b[0m \u001b[39mif\u001b[39;00m \u001b[39misinstance\u001b[39m(key, \u001b[39mtuple\u001b[39m) \u001b[39mand\u001b[39;00m \u001b[39mlen\u001b[39m(key) \u001b[39m>\u001b[39m \u001b[39m1\u001b[39m:\n\u001b[1;32m   1958\u001b[0m     \u001b[39m# if len == 1, then it becomes a SeriesGroupBy and this is actually\u001b[39;00m\n\u001b[1;32m   1959\u001b[0m     \u001b[39m# valid syntax, so don't raise\u001b[39;00m\n\u001b[1;32m   1960\u001b[0m     \u001b[39mraise\u001b[39;00m \u001b[39mValueError\u001b[39;00m(\n\u001b[1;32m   1961\u001b[0m         \u001b[39m\"\u001b[39m\u001b[39mCannot subset columns with a tuple with more than one element. \u001b[39m\u001b[39m\"\u001b[39m\n\u001b[1;32m   1962\u001b[0m         \u001b[39m\"\u001b[39m\u001b[39mUse a list instead.\u001b[39m\u001b[39m\"\u001b[39m\n\u001b[1;32m   1963\u001b[0m     )\n\u001b[0;32m-> 1964\u001b[0m \u001b[39mreturn\u001b[39;00m \u001b[39msuper\u001b[39;49m()\u001b[39m.\u001b[39;49m\u001b[39m__getitem__\u001b[39;49m(key)\n",
      "File \u001b[0;32m~/miniforge3/envs/fiora/lib/python3.10/site-packages/pandas/core/base.py:244\u001b[0m, in \u001b[0;36mSelectionMixin.__getitem__\u001b[0;34m(self, key)\u001b[0m\n\u001b[1;32m    242\u001b[0m \u001b[39melse\u001b[39;00m:\n\u001b[1;32m    243\u001b[0m     \u001b[39mif\u001b[39;00m key \u001b[39mnot\u001b[39;00m \u001b[39min\u001b[39;00m \u001b[39mself\u001b[39m\u001b[39m.\u001b[39mobj:\n\u001b[0;32m--> 244\u001b[0m         \u001b[39mraise\u001b[39;00m \u001b[39mKeyError\u001b[39;00m(\u001b[39mf\u001b[39m\u001b[39m\"\u001b[39m\u001b[39mColumn not found: \u001b[39m\u001b[39m{\u001b[39;00mkey\u001b[39m}\u001b[39;00m\u001b[39m\"\u001b[39m)\n\u001b[1;32m    245\u001b[0m     ndim \u001b[39m=\u001b[39m \u001b[39mself\u001b[39m\u001b[39m.\u001b[39mobj[key]\u001b[39m.\u001b[39mndim\n\u001b[1;32m    246\u001b[0m     \u001b[39mreturn\u001b[39;00m \u001b[39mself\u001b[39m\u001b[39m.\u001b[39m_gotitem(key, ndim\u001b[39m=\u001b[39mndim)\n",
      "\u001b[0;31mKeyError\u001b[0m: 'Column not found: coverage100PPM'"
     ]
    }
   ],
   "source": [
    "import seaborn as sns\n",
    "print(df.groupby(\"Precursor_type\")[\"coverage100PPM\"].median())\n",
    "sns.kdeplot(data=df, x=\"coverage100PPM\", hue=\"Precursor_type\")"
   ]
  },
  {
   "cell_type": "code",
   "execution_count": 14,
   "metadata": {},
   "outputs": [
    {
     "name": "stdout",
     "output_type": "stream",
     "text": [
      "  ChallengeName             cFILE  \\\n",
      "0  Training-001  Training-001.csv   \n",
      "1  Training-002  Training-002.csv   \n",
      "2  Training-003  Training-003.csv   \n",
      "3  Training-004  Training-004.csv   \n",
      "4  Training-005  Training-005.csv   \n",
      "\n",
      "                                          Candidates  \n",
      "0  [Cn1c2c(c(=O)n(c1=O)C)nc[nH]2, Cn1cnc2c1c(=O)n...  \n",
      "1  [c1ccc(cc1)c2[nH]c3cc(ccc3n2)S(=O)(=O)O, c1cc(...  \n",
      "2  [c1ccc(cc1)c2[nH]c3cc(ccc3n2)S(=O)(=O)O, c1cc(...  \n",
      "3  [c1cc(c(cc1[N+](=O)[O-])[N+](=O)[O-])O, c1cc(c...  \n",
      "4  [c1cc(ccc1C(C(CO)NC(=O)C(Cl)Cl)O)[N+](=O)[O-],...  \n"
     ]
    }
   ],
   "source": [
    "\n",
    "library_candidates_directory = f\"{home}/data/metabolites/CASMI_2016/CASMI2016_Cat2and3_Training_Candidates\"\n",
    "candidates = []\n",
    "for file in os.listdir(library_candidates_directory):\n",
    "    if file.endswith(\".csv\"):\n",
    "        data = pd.read_csv(os.path.join(library_candidates_directory, file), sep=\",\")\n",
    "        SMILES = list(data[\"SMILES\"])\n",
    "        d = {'ChallengeName': file.split(\".\")[0], 'cFILE': file, 'Candidates': SMILES}\n",
    "        candidates += [d]\n",
    "\n",
    "candidates = pd.DataFrame(candidates) #.loc[81:].reset_index(drop=True)\n",
    "print(candidates.head())"
   ]
  },
  {
   "cell_type": "code",
   "execution_count": 15,
   "metadata": {},
   "outputs": [
    {
     "data": {
      "text/plain": [
       "True"
      ]
     },
     "execution_count": 15,
     "metadata": {},
     "output_type": "execute_result"
    }
   ],
   "source": [
    "\n",
    "\n",
    "df = pd.merge(df, candidates, on=\"ChallengeName\")\n",
    "df.apply(lambda x: x[\"cFILE\"].split('.')[0] == x[\"ChallengeName\"], axis=1).all()"
   ]
  },
  {
   "cell_type": "code",
   "execution_count": 17,
   "metadata": {},
   "outputs": [
    {
     "data": {
      "text/plain": [
       "0      Training-002\n",
       "1      Training-003\n",
       "2      Training-004\n",
       "3      Training-005\n",
       "4      Training-006\n",
       "           ...     \n",
       "307    Training-308\n",
       "308    Training-309\n",
       "309    Training-310\n",
       "310    Training-311\n",
       "311    Training-312\n",
       "Name: ChallengeName, Length: 312, dtype: object"
      ]
     },
     "execution_count": 17,
     "metadata": {},
     "output_type": "execute_result"
    }
   ],
   "source": [
    "df[\"ChallengeName\"]"
   ]
  },
  {
   "cell_type": "code",
   "execution_count": null,
   "metadata": {},
   "outputs": [
    {
     "name": "stdout",
     "output_type": "stream",
     "text": [
      "/home/ynowatzk/data/metabolites/CASMI_2016\n",
      "saving to  /home/ynowatzk/data/metabolites/CASMI_2016/casmi16_training_combined.csv\n"
     ]
    }
   ],
   "source": [
    "save_df = False\n",
    "name = \"casmi16t.csv\"\n",
    "\n",
    "library_directory = '/'.join(library_directory.split('/')[:-1])\n",
    "print(library_directory)\n",
    "if save_df:\n",
    "       file = os.path.join(library_directory, name)\n",
    "       print(\"saving to \", file)\n",
    "       df.to_csv(file)\n",
    "       \n",
    "       #df_nist[key_columns].to_csv(library_directory + name + \"all\" + \"_\" + date + \".csv\")"
   ]
  },
  {
   "cell_type": "code",
   "execution_count": 20,
   "metadata": {},
   "outputs": [
    {
     "name": "stdout",
     "output_type": "stream",
     "text": [
      "  ChallengeName                                             SMILES  \\\n",
      "0  Training-002           OS(=O)(=O)C1=CC=C2N=C(NC2=C1)C1=CC=CC=C1   \n",
      "1  Training-003           OS(=O)(=O)C1=CC=C2N=C(NC2=C1)C1=CC=CC=C1   \n",
      "2  Training-004           OC1=C(C=C(C=C1)[N+]([O-])=O)[N+]([O-])=O   \n",
      "3  Training-005  OC[C@@H](NC(=O)C(Cl)Cl)[C@H](O)C1=CC=C(C=C1)[N...   \n",
      "4  Training-006           OC1=C(C(=CC=C1)[N+]([O-])=O)[N+]([O-])=O   \n",
      "\n",
      "  Precursor_type  \n",
      "0         [M-H]-  \n",
      "1         [M-H]-  \n",
      "2         [M-H]-  \n",
      "3         [M-H]-  \n",
      "4         [M-H]-  \n"
     ]
    }
   ],
   "source": [
    "## prepare output for for CFM-ID\n",
    "save_df = False\n",
    "cfm_directory = f\"{home}/data/metabolites/cfm-id/\"\n",
    "name = \"casmi16t_negative_solutions_cfm.txt\"\n",
    "df_cfm = df[[\"ChallengeName\", \"SMILES\", \"Precursor_type\"]]\n",
    "print(df_cfm.head())\n",
    "\n",
    "if save_df:\n",
    "    file = os.path.join(cfm_directory, name)\n",
    "    df_cfm[df_cfm[\"Precursor_type\"] == \"[M-H]-\"][[\"ChallengeName\", \"SMILES\"]].to_csv(file, index=False, header=False, sep=\" \")\n",
    "    \n",
    "    name = name.replace(\"negative\", \"positive\")\n",
    "    file = os.path.join(cfm_directory, name)\n",
    "    df_cfm[df_cfm[\"Precursor_type\"] == \"[M+H]+\"][[\"ChallengeName\", \"SMILES\"]].to_csv(file, index=False, header=False, sep=\" \")"
   ]
  },
  {
   "cell_type": "code",
   "execution_count": 21,
   "metadata": {},
   "outputs": [],
   "source": [
    "# prepare output for ICEBERG and SCARF\n",
    "from rdkit import Chem\n",
    "from rdkit.Chem import rdMolDescriptors\n",
    "\n",
    "df[\"MOL\"] = df[\"SMILES\"].apply(Chem.MolFromSmiles)\n",
    "df[\"formula\"] = df[\"MOL\"].apply(rdMolDescriptors.CalcMolFormula)\n",
    "df[\"dataset\"] = \"CASMI16\"\n",
    "df = df.rename(columns={\"FILE\": \"spec\", \"ChallengeName\": \"name\", \"Precursor_type\": \"ionization\", \"SMILES\": \"smiles\", \"INCHIKEY\": \"inchikey\"})"
   ]
  },
  {
   "cell_type": "code",
   "execution_count": 22,
   "metadata": {},
   "outputs": [],
   "source": [
    "save_df = False\n",
    "if save_df:\n",
    "    output_file = f\"{home}/data/metabolites/ms-pred/casmi16t_labels.tsv\"\n",
    "    df[[\"dataset\", \"spec\", \"name\", \"formula\", \"ionization\",\t\"smiles\", \"inchikey\"]].to_csv(output_file, index=False, sep=\"\\t\")\n",
    "    output_file = f\"{home}/data/metabolites/ms-pred/casmi16t_positive_labels.tsv\"\n",
    "    df[df[\"ionization\"] == \"[M+H]+\"][[\"dataset\", \"spec\", \"name\", \"formula\", \"ionization\",\t\"smiles\", \"inchikey\"]].to_csv(output_file, index=False, sep=\"\\t\")"
   ]
  }
 ],
 "metadata": {
  "kernelspec": {
   "display_name": "torch",
   "language": "python",
   "name": "python3"
  },
  "language_info": {
   "codemirror_mode": {
    "name": "ipython",
    "version": 3
   },
   "file_extension": ".py",
   "mimetype": "text/x-python",
   "name": "python",
   "nbconvert_exporter": "python",
   "pygments_lexer": "ipython3",
   "version": "3.10.8"
  },
  "vscode": {
   "interpreter": {
    "hash": "e08c3b4e89cfe29feb848cdc03972f3418883da099973a3eef9fa9a5a5dc99db"
   }
  }
 },
 "nbformat": 4,
 "nbformat_minor": 1
}
